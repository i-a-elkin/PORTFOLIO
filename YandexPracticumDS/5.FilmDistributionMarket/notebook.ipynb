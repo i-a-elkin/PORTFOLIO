{
 "cells": [
  {
   "cell_type": "markdown",
   "metadata": {
    "id": "sIfNaMOxgFyK"
   },
   "source": [
    "## Исследование данных о российском кинопрокате\n",
    "\n"
   ]
  },
  {
   "cell_type": "markdown",
   "metadata": {},
   "source": [
    "Заказчик этого исследования — Министерство культуры Российской Федерации.\n",
    "\n",
    "Вам нужно изучить рынок российского кинопроката и выявить текущие тренды. Уделите внимание фильмам, которые получили государственную поддержку. Попробуйте ответить на вопрос, насколько такие фильмы интересны зрителю."
   ]
  },
  {
   "cell_type": "markdown",
   "metadata": {
    "id": "3bSlkCsbgFyL"
   },
   "source": [
    "### Шаг 1. Откройте файлы с данными и объедините их в один датафрейм. \n",
    "\n",
    "Объедините данные таким образом, чтобы все объекты из датасета `mkrf_movies` обязательно вошли в получившийся датафрейм. \n",
    "\n",
    "<div id=\"accordion\">\n",
    "    <div class=\"card\">\n",
    "        <div class=\"card-header\" id=\"headingThree\">\n",
    "            <button class=\"btn btn-link collapsed\" data-toggle=\"collapse\" data-target=\"#collapseHint_0\" aria-expanded=\"false\" aria-controls=\"collapseHint_0\">Подсказка</button>\n",
    "        </div>\n",
    "        <div id=\"collapseHint_0\" class=\"collapse\" aria-labelledby=\"headingThree\" data-parent=\"#accordion\">\n",
    "            <div class=\"card-body\">\n",
    "Обратите внимание на тип данных столбца, по которому будете соединять датафреймы. Тип данных этих столбцов должен быть одинаковым в обоих датафреймах.\n",
    "            </div>\n",
    "        </div>\n",
    "    </div>\n",
    "</div>"
   ]
  },
  {
   "cell_type": "markdown",
   "metadata": {},
   "source": [
    "Импортируем библиотеки."
   ]
  },
  {
   "cell_type": "code",
   "execution_count": 1,
   "metadata": {},
   "outputs": [],
   "source": [
    "import pandas as pd\n",
    "import matplotlib.pyplot as plt\n",
    "import re"
   ]
  },
  {
   "cell_type": "markdown",
   "metadata": {},
   "source": [
    "**Пути к файлам**\n",
    "\n",
    "- /datasets/mkrf_movies.csv — данные о прокатных удостоверениях.\n",
    "- /datasets/mkrf_shows.csv — данные о прокате в российских кинотеатрах."
   ]
  },
  {
   "cell_type": "markdown",
   "metadata": {},
   "source": [
    "Выведем на экран исследуемые датафреймы и информацию о них."
   ]
  },
  {
   "cell_type": "code",
   "execution_count": 2,
   "metadata": {
    "id": "dw87FlzMgFyM"
   },
   "outputs": [
    {
     "data": {
      "text/html": [
       "<div>\n",
       "<style scoped>\n",
       "    .dataframe tbody tr th:only-of-type {\n",
       "        vertical-align: middle;\n",
       "    }\n",
       "\n",
       "    .dataframe tbody tr th {\n",
       "        vertical-align: top;\n",
       "    }\n",
       "\n",
       "    .dataframe thead th {\n",
       "        text-align: right;\n",
       "    }\n",
       "</style>\n",
       "<table border=\"1\" class=\"dataframe\">\n",
       "  <thead>\n",
       "    <tr style=\"text-align: right;\">\n",
       "      <th></th>\n",
       "      <th>title</th>\n",
       "      <th>puNumber</th>\n",
       "      <th>show_start_date</th>\n",
       "      <th>type</th>\n",
       "      <th>film_studio</th>\n",
       "      <th>production_country</th>\n",
       "      <th>director</th>\n",
       "      <th>producer</th>\n",
       "      <th>age_restriction</th>\n",
       "      <th>refundable_support</th>\n",
       "      <th>nonrefundable_support</th>\n",
       "      <th>budget</th>\n",
       "      <th>financing_source</th>\n",
       "      <th>ratings</th>\n",
       "      <th>genres</th>\n",
       "    </tr>\n",
       "  </thead>\n",
       "  <tbody>\n",
       "    <tr>\n",
       "      <td>0</td>\n",
       "      <td>Открытый простор</td>\n",
       "      <td>221048915</td>\n",
       "      <td>2015-11-27T12:00:00.000Z</td>\n",
       "      <td>Художественный</td>\n",
       "      <td>Тачстоун Пикчерз, Кобальт Пикчерз, Бикон Пикче...</td>\n",
       "      <td>США</td>\n",
       "      <td>Кевин Костнер</td>\n",
       "      <td>Дэвид Валдес, Кевин Костнер, Джейк Эбертс</td>\n",
       "      <td>«18+» - запрещено для детей</td>\n",
       "      <td>NaN</td>\n",
       "      <td>NaN</td>\n",
       "      <td>NaN</td>\n",
       "      <td>NaN</td>\n",
       "      <td>7.2</td>\n",
       "      <td>боевик,драма,мелодрама</td>\n",
       "    </tr>\n",
       "    <tr>\n",
       "      <td>1</td>\n",
       "      <td>Особо важное задание</td>\n",
       "      <td>111013716</td>\n",
       "      <td>2016-09-13T12:00:00.000Z</td>\n",
       "      <td>Художественный</td>\n",
       "      <td>Киностудия \"Мосфильм\"</td>\n",
       "      <td>СССР</td>\n",
       "      <td>Е.Матвеев</td>\n",
       "      <td>NaN</td>\n",
       "      <td>«6+» - для детей старше 6 лет</td>\n",
       "      <td>NaN</td>\n",
       "      <td>NaN</td>\n",
       "      <td>NaN</td>\n",
       "      <td>NaN</td>\n",
       "      <td>6.6</td>\n",
       "      <td>драма,военный</td>\n",
       "    </tr>\n",
       "    <tr>\n",
       "      <td>2</td>\n",
       "      <td>Особо опасен</td>\n",
       "      <td>221038416</td>\n",
       "      <td>2016-10-10T12:00:00.000Z</td>\n",
       "      <td>Художественный</td>\n",
       "      <td>Юниверсал Пикчерз, Кикстарт Продакшнз, Марк Пл...</td>\n",
       "      <td>США</td>\n",
       "      <td>Тимур Бекмамбетов</td>\n",
       "      <td>Джим Лемли, Джейсон Нетер, Марк Е.Платт, Яйн Смит</td>\n",
       "      <td>«18+» - запрещено для детей</td>\n",
       "      <td>NaN</td>\n",
       "      <td>NaN</td>\n",
       "      <td>NaN</td>\n",
       "      <td>NaN</td>\n",
       "      <td>6.8</td>\n",
       "      <td>фантастика,боевик,триллер</td>\n",
       "    </tr>\n",
       "    <tr>\n",
       "      <td>3</td>\n",
       "      <td>Особо опасен</td>\n",
       "      <td>221026916</td>\n",
       "      <td>2016-06-10T12:00:00.000Z</td>\n",
       "      <td>Художественный</td>\n",
       "      <td>Юниверсал Пикчерз, Кикстарт Продакшнз, Марк Пл...</td>\n",
       "      <td>США</td>\n",
       "      <td>Тимур Бекмамбетов</td>\n",
       "      <td>Джим Лемли, Джейсон Нетер, Марк Е.Платт, Яйн Смит</td>\n",
       "      <td>«18+» - запрещено для детей</td>\n",
       "      <td>NaN</td>\n",
       "      <td>NaN</td>\n",
       "      <td>NaN</td>\n",
       "      <td>NaN</td>\n",
       "      <td>6.8</td>\n",
       "      <td>фантастика,боевик,триллер</td>\n",
       "    </tr>\n",
       "    <tr>\n",
       "      <td>4</td>\n",
       "      <td>Особо опасен</td>\n",
       "      <td>221030815</td>\n",
       "      <td>2015-07-29T12:00:00.000Z</td>\n",
       "      <td>Художественный</td>\n",
       "      <td>Юниверсал Пикчерз, Кикстарт Продакшнз, Марк Пл...</td>\n",
       "      <td>США</td>\n",
       "      <td>Тимур Бекмамбетов</td>\n",
       "      <td>Джим Лемли, Джейсон Нетер, Марк Е.Платт, Яйн Смит</td>\n",
       "      <td>«18+» - запрещено для детей</td>\n",
       "      <td>NaN</td>\n",
       "      <td>NaN</td>\n",
       "      <td>NaN</td>\n",
       "      <td>NaN</td>\n",
       "      <td>6.8</td>\n",
       "      <td>фантастика,боевик,триллер</td>\n",
       "    </tr>\n",
       "  </tbody>\n",
       "</table>\n",
       "</div>"
      ],
      "text/plain": [
       "                  title   puNumber           show_start_date            type  \\\n",
       "0      Открытый простор  221048915  2015-11-27T12:00:00.000Z  Художественный   \n",
       "1  Особо важное задание  111013716  2016-09-13T12:00:00.000Z  Художественный   \n",
       "2          Особо опасен  221038416  2016-10-10T12:00:00.000Z  Художественный   \n",
       "3          Особо опасен  221026916  2016-06-10T12:00:00.000Z  Художественный   \n",
       "4          Особо опасен  221030815  2015-07-29T12:00:00.000Z  Художественный   \n",
       "\n",
       "                                         film_studio production_country  \\\n",
       "0  Тачстоун Пикчерз, Кобальт Пикчерз, Бикон Пикче...                США   \n",
       "1                              Киностудия \"Мосфильм\"               СССР   \n",
       "2  Юниверсал Пикчерз, Кикстарт Продакшнз, Марк Пл...                США   \n",
       "3  Юниверсал Пикчерз, Кикстарт Продакшнз, Марк Пл...                США   \n",
       "4  Юниверсал Пикчерз, Кикстарт Продакшнз, Марк Пл...                США   \n",
       "\n",
       "            director                                           producer  \\\n",
       "0      Кевин Костнер          Дэвид Валдес, Кевин Костнер, Джейк Эбертс   \n",
       "1          Е.Матвеев                                                NaN   \n",
       "2  Тимур Бекмамбетов  Джим Лемли, Джейсон Нетер, Марк Е.Платт, Яйн Смит   \n",
       "3  Тимур Бекмамбетов  Джим Лемли, Джейсон Нетер, Марк Е.Платт, Яйн Смит   \n",
       "4  Тимур Бекмамбетов  Джим Лемли, Джейсон Нетер, Марк Е.Платт, Яйн Смит   \n",
       "\n",
       "                 age_restriction  refundable_support  nonrefundable_support  \\\n",
       "0    «18+» - запрещено для детей                 NaN                    NaN   \n",
       "1  «6+» - для детей старше 6 лет                 NaN                    NaN   \n",
       "2    «18+» - запрещено для детей                 NaN                    NaN   \n",
       "3    «18+» - запрещено для детей                 NaN                    NaN   \n",
       "4    «18+» - запрещено для детей                 NaN                    NaN   \n",
       "\n",
       "   budget financing_source ratings                     genres  \n",
       "0     NaN              NaN     7.2     боевик,драма,мелодрама  \n",
       "1     NaN              NaN     6.6              драма,военный  \n",
       "2     NaN              NaN     6.8  фантастика,боевик,триллер  \n",
       "3     NaN              NaN     6.8  фантастика,боевик,триллер  \n",
       "4     NaN              NaN     6.8  фантастика,боевик,триллер  "
      ]
     },
     "metadata": {},
     "output_type": "display_data"
    },
    {
     "name": "stdout",
     "output_type": "stream",
     "text": [
      "<class 'pandas.core.frame.DataFrame'>\n",
      "RangeIndex: 7486 entries, 0 to 7485\n",
      "Data columns (total 15 columns):\n",
      "title                    7486 non-null object\n",
      "puNumber                 7486 non-null object\n",
      "show_start_date          7486 non-null object\n",
      "type                     7486 non-null object\n",
      "film_studio              7468 non-null object\n",
      "production_country       7484 non-null object\n",
      "director                 7477 non-null object\n",
      "producer                 6918 non-null object\n",
      "age_restriction          7486 non-null object\n",
      "refundable_support       332 non-null float64\n",
      "nonrefundable_support    332 non-null float64\n",
      "budget                   332 non-null float64\n",
      "financing_source         332 non-null object\n",
      "ratings                  6519 non-null object\n",
      "genres                   6510 non-null object\n",
      "dtypes: float64(3), object(12)\n",
      "memory usage: 877.4+ KB\n"
     ]
    }
   ],
   "source": [
    "df_mkrf_movies = pd.read_csv('/datasets/mkrf_movies.csv')\n",
    "df_mkrf_shows = pd.read_csv('/datasets/mkrf_shows.csv')\n",
    "\n",
    "display(df_mkrf_movies.head())\n",
    "df_mkrf_movies.info()"
   ]
  },
  {
   "cell_type": "code",
   "execution_count": 3,
   "metadata": {},
   "outputs": [
    {
     "data": {
      "text/html": [
       "<div>\n",
       "<style scoped>\n",
       "    .dataframe tbody tr th:only-of-type {\n",
       "        vertical-align: middle;\n",
       "    }\n",
       "\n",
       "    .dataframe tbody tr th {\n",
       "        vertical-align: top;\n",
       "    }\n",
       "\n",
       "    .dataframe thead th {\n",
       "        text-align: right;\n",
       "    }\n",
       "</style>\n",
       "<table border=\"1\" class=\"dataframe\">\n",
       "  <thead>\n",
       "    <tr style=\"text-align: right;\">\n",
       "      <th></th>\n",
       "      <th>puNumber</th>\n",
       "      <th>box_office</th>\n",
       "    </tr>\n",
       "  </thead>\n",
       "  <tbody>\n",
       "    <tr>\n",
       "      <td>0</td>\n",
       "      <td>111000113</td>\n",
       "      <td>2.450000e+03</td>\n",
       "    </tr>\n",
       "    <tr>\n",
       "      <td>1</td>\n",
       "      <td>111000115</td>\n",
       "      <td>6.104000e+04</td>\n",
       "    </tr>\n",
       "    <tr>\n",
       "      <td>2</td>\n",
       "      <td>111000116</td>\n",
       "      <td>1.530300e+08</td>\n",
       "    </tr>\n",
       "    <tr>\n",
       "      <td>3</td>\n",
       "      <td>111000117</td>\n",
       "      <td>1.226096e+07</td>\n",
       "    </tr>\n",
       "    <tr>\n",
       "      <td>4</td>\n",
       "      <td>111000118</td>\n",
       "      <td>1.636841e+08</td>\n",
       "    </tr>\n",
       "  </tbody>\n",
       "</table>\n",
       "</div>"
      ],
      "text/plain": [
       "    puNumber    box_office\n",
       "0  111000113  2.450000e+03\n",
       "1  111000115  6.104000e+04\n",
       "2  111000116  1.530300e+08\n",
       "3  111000117  1.226096e+07\n",
       "4  111000118  1.636841e+08"
      ]
     },
     "metadata": {},
     "output_type": "display_data"
    },
    {
     "name": "stdout",
     "output_type": "stream",
     "text": [
      "<class 'pandas.core.frame.DataFrame'>\n",
      "RangeIndex: 3158 entries, 0 to 3157\n",
      "Data columns (total 2 columns):\n",
      "puNumber      3158 non-null int64\n",
      "box_office    3158 non-null float64\n",
      "dtypes: float64(1), int64(1)\n",
      "memory usage: 49.5 KB\n"
     ]
    }
   ],
   "source": [
    "display(df_mkrf_shows.head())\n",
    "df_mkrf_shows.info()"
   ]
  },
  {
   "cell_type": "markdown",
   "metadata": {},
   "source": [
    "**Описание данных**\n",
    "\n",
    "Таблица mkrf_movies содержит информацию из реестра прокатных удостоверений. У одного фильма может быть несколько прокатных удостоверений.\n",
    "- title — название фильма;\n",
    "- puNumber — номер прокатного удостоверения;\n",
    "- show_start_date — дата премьеры фильма;\n",
    "- type — тип фильма;\n",
    "- film_studio — студия-производитель;\n",
    "- production_country — страна-производитель;\n",
    "- director — режиссёр;\n",
    "- producer — продюсер;\n",
    "- age_restriction — возрастная категория;\n",
    "- refundable_support — объём возвратных средств государственной поддержки;\n",
    "- nonrefundable_support — объём невозвратных средств государственной поддержки;\n",
    "- financing_source — источник государственного финансирования;\n",
    "- budget — общий бюджет фильма;\n",
    "- ratings — рейтинг фильма на КиноПоиске;\n",
    "- genres — жанр фильма.\n",
    "\n",
    "Обратите внимание, что столбец budget уже включает в себя полный объём государственной поддержки. Данные в этом столбце указаны только для тех фильмов, которые получили государственную поддержку.\n",
    "\n",
    "Таблица mkrf_shows содержит сведения о показах фильмов в российских кинотеатрах.\n",
    "- puNumber — номер прокатного удостоверения;\n",
    "- box_office — сборы в рублях."
   ]
  },
  {
   "cell_type": "markdown",
   "metadata": {},
   "source": [
    "Перед тем как соеденить два датафрейма изменим тип данных в столбце puNumber датафрейма df_mkrf_movies с object на int."
   ]
  },
  {
   "cell_type": "code",
   "execution_count": 4,
   "metadata": {
    "scrolled": true
   },
   "outputs": [
    {
     "data": {
      "text/plain": [
       "'Error'"
      ]
     },
     "metadata": {},
     "output_type": "display_data"
    },
    {
     "data": {
      "text/plain": [
       "'нет'"
      ]
     },
     "metadata": {},
     "output_type": "display_data"
    }
   ],
   "source": [
    "try:\n",
    "    for item in range(len(df_mkrf_movies['puNumber'])):\n",
    "        df_mkrf_movies.loc[item, 'puNumber'] = pd.to_numeric(df_mkrf_movies.loc[item, 'puNumber'], errors='raise')\n",
    "except:\n",
    "    display('Error', df_mkrf_movies.loc[item, 'puNumber'])"
   ]
  },
  {
   "cell_type": "markdown",
   "metadata": {},
   "source": [
    "Заменим некорректное значение 'нет' на 0 и повторим процедуру изменения типа данных. После этого выведем информацию о измененном столбце."
   ]
  },
  {
   "cell_type": "code",
   "execution_count": 5,
   "metadata": {
    "scrolled": true
   },
   "outputs": [
    {
     "data": {
      "text/plain": [
       "dtype('int64')"
      ]
     },
     "execution_count": 5,
     "metadata": {},
     "output_type": "execute_result"
    }
   ],
   "source": [
    "df_mkrf_movies['puNumber'] = df_mkrf_movies['puNumber'].replace('нет', 0)\n",
    "\n",
    "try:\n",
    "    for item in range(len(df_mkrf_movies['puNumber'])):\n",
    "        df_mkrf_movies.loc[item, 'puNumber'] = pd.to_numeric(df_mkrf_movies.loc[item, 'puNumber'], errors='raise')\n",
    "except:\n",
    "    display('Error', df_mkrf_movies.loc[item, 'puNumber'])\n",
    "\n",
    "df_mkrf_movies['puNumber'].dtype"
   ]
  },
  {
   "cell_type": "markdown",
   "metadata": {},
   "source": [
    "Соединим две таблицы в одну по значениям столбца puNumber."
   ]
  },
  {
   "cell_type": "code",
   "execution_count": 6,
   "metadata": {},
   "outputs": [
    {
     "data": {
      "text/html": [
       "<div>\n",
       "<style scoped>\n",
       "    .dataframe tbody tr th:only-of-type {\n",
       "        vertical-align: middle;\n",
       "    }\n",
       "\n",
       "    .dataframe tbody tr th {\n",
       "        vertical-align: top;\n",
       "    }\n",
       "\n",
       "    .dataframe thead th {\n",
       "        text-align: right;\n",
       "    }\n",
       "</style>\n",
       "<table border=\"1\" class=\"dataframe\">\n",
       "  <thead>\n",
       "    <tr style=\"text-align: right;\">\n",
       "      <th></th>\n",
       "      <th>title</th>\n",
       "      <th>puNumber</th>\n",
       "      <th>show_start_date</th>\n",
       "      <th>type</th>\n",
       "      <th>film_studio</th>\n",
       "      <th>production_country</th>\n",
       "      <th>director</th>\n",
       "      <th>producer</th>\n",
       "      <th>age_restriction</th>\n",
       "      <th>refundable_support</th>\n",
       "      <th>nonrefundable_support</th>\n",
       "      <th>budget</th>\n",
       "      <th>financing_source</th>\n",
       "      <th>ratings</th>\n",
       "      <th>genres</th>\n",
       "      <th>box_office</th>\n",
       "    </tr>\n",
       "  </thead>\n",
       "  <tbody>\n",
       "    <tr>\n",
       "      <td>0</td>\n",
       "      <td>Открытый простор</td>\n",
       "      <td>221048915</td>\n",
       "      <td>2015-11-27T12:00:00.000Z</td>\n",
       "      <td>Художественный</td>\n",
       "      <td>Тачстоун Пикчерз, Кобальт Пикчерз, Бикон Пикче...</td>\n",
       "      <td>США</td>\n",
       "      <td>Кевин Костнер</td>\n",
       "      <td>Дэвид Валдес, Кевин Костнер, Джейк Эбертс</td>\n",
       "      <td>«18+» - запрещено для детей</td>\n",
       "      <td>NaN</td>\n",
       "      <td>NaN</td>\n",
       "      <td>NaN</td>\n",
       "      <td>NaN</td>\n",
       "      <td>7.2</td>\n",
       "      <td>боевик,драма,мелодрама</td>\n",
       "      <td>NaN</td>\n",
       "    </tr>\n",
       "    <tr>\n",
       "      <td>1</td>\n",
       "      <td>Особо важное задание</td>\n",
       "      <td>111013716</td>\n",
       "      <td>2016-09-13T12:00:00.000Z</td>\n",
       "      <td>Художественный</td>\n",
       "      <td>Киностудия \"Мосфильм\"</td>\n",
       "      <td>СССР</td>\n",
       "      <td>Е.Матвеев</td>\n",
       "      <td>NaN</td>\n",
       "      <td>«6+» - для детей старше 6 лет</td>\n",
       "      <td>NaN</td>\n",
       "      <td>NaN</td>\n",
       "      <td>NaN</td>\n",
       "      <td>NaN</td>\n",
       "      <td>6.6</td>\n",
       "      <td>драма,военный</td>\n",
       "      <td>NaN</td>\n",
       "    </tr>\n",
       "    <tr>\n",
       "      <td>2</td>\n",
       "      <td>Особо опасен</td>\n",
       "      <td>221038416</td>\n",
       "      <td>2016-10-10T12:00:00.000Z</td>\n",
       "      <td>Художественный</td>\n",
       "      <td>Юниверсал Пикчерз, Кикстарт Продакшнз, Марк Пл...</td>\n",
       "      <td>США</td>\n",
       "      <td>Тимур Бекмамбетов</td>\n",
       "      <td>Джим Лемли, Джейсон Нетер, Марк Е.Платт, Яйн Смит</td>\n",
       "      <td>«18+» - запрещено для детей</td>\n",
       "      <td>NaN</td>\n",
       "      <td>NaN</td>\n",
       "      <td>NaN</td>\n",
       "      <td>NaN</td>\n",
       "      <td>6.8</td>\n",
       "      <td>фантастика,боевик,триллер</td>\n",
       "      <td>NaN</td>\n",
       "    </tr>\n",
       "    <tr>\n",
       "      <td>3</td>\n",
       "      <td>Особо опасен</td>\n",
       "      <td>221026916</td>\n",
       "      <td>2016-06-10T12:00:00.000Z</td>\n",
       "      <td>Художественный</td>\n",
       "      <td>Юниверсал Пикчерз, Кикстарт Продакшнз, Марк Пл...</td>\n",
       "      <td>США</td>\n",
       "      <td>Тимур Бекмамбетов</td>\n",
       "      <td>Джим Лемли, Джейсон Нетер, Марк Е.Платт, Яйн Смит</td>\n",
       "      <td>«18+» - запрещено для детей</td>\n",
       "      <td>NaN</td>\n",
       "      <td>NaN</td>\n",
       "      <td>NaN</td>\n",
       "      <td>NaN</td>\n",
       "      <td>6.8</td>\n",
       "      <td>фантастика,боевик,триллер</td>\n",
       "      <td>NaN</td>\n",
       "    </tr>\n",
       "    <tr>\n",
       "      <td>4</td>\n",
       "      <td>Особо опасен</td>\n",
       "      <td>221030815</td>\n",
       "      <td>2015-07-29T12:00:00.000Z</td>\n",
       "      <td>Художественный</td>\n",
       "      <td>Юниверсал Пикчерз, Кикстарт Продакшнз, Марк Пл...</td>\n",
       "      <td>США</td>\n",
       "      <td>Тимур Бекмамбетов</td>\n",
       "      <td>Джим Лемли, Джейсон Нетер, Марк Е.Платт, Яйн Смит</td>\n",
       "      <td>«18+» - запрещено для детей</td>\n",
       "      <td>NaN</td>\n",
       "      <td>NaN</td>\n",
       "      <td>NaN</td>\n",
       "      <td>NaN</td>\n",
       "      <td>6.8</td>\n",
       "      <td>фантастика,боевик,триллер</td>\n",
       "      <td>NaN</td>\n",
       "    </tr>\n",
       "  </tbody>\n",
       "</table>\n",
       "</div>"
      ],
      "text/plain": [
       "                  title   puNumber           show_start_date            type  \\\n",
       "0      Открытый простор  221048915  2015-11-27T12:00:00.000Z  Художественный   \n",
       "1  Особо важное задание  111013716  2016-09-13T12:00:00.000Z  Художественный   \n",
       "2          Особо опасен  221038416  2016-10-10T12:00:00.000Z  Художественный   \n",
       "3          Особо опасен  221026916  2016-06-10T12:00:00.000Z  Художественный   \n",
       "4          Особо опасен  221030815  2015-07-29T12:00:00.000Z  Художественный   \n",
       "\n",
       "                                         film_studio production_country  \\\n",
       "0  Тачстоун Пикчерз, Кобальт Пикчерз, Бикон Пикче...                США   \n",
       "1                              Киностудия \"Мосфильм\"               СССР   \n",
       "2  Юниверсал Пикчерз, Кикстарт Продакшнз, Марк Пл...                США   \n",
       "3  Юниверсал Пикчерз, Кикстарт Продакшнз, Марк Пл...                США   \n",
       "4  Юниверсал Пикчерз, Кикстарт Продакшнз, Марк Пл...                США   \n",
       "\n",
       "            director                                           producer  \\\n",
       "0      Кевин Костнер          Дэвид Валдес, Кевин Костнер, Джейк Эбертс   \n",
       "1          Е.Матвеев                                                NaN   \n",
       "2  Тимур Бекмамбетов  Джим Лемли, Джейсон Нетер, Марк Е.Платт, Яйн Смит   \n",
       "3  Тимур Бекмамбетов  Джим Лемли, Джейсон Нетер, Марк Е.Платт, Яйн Смит   \n",
       "4  Тимур Бекмамбетов  Джим Лемли, Джейсон Нетер, Марк Е.Платт, Яйн Смит   \n",
       "\n",
       "                 age_restriction  refundable_support  nonrefundable_support  \\\n",
       "0    «18+» - запрещено для детей                 NaN                    NaN   \n",
       "1  «6+» - для детей старше 6 лет                 NaN                    NaN   \n",
       "2    «18+» - запрещено для детей                 NaN                    NaN   \n",
       "3    «18+» - запрещено для детей                 NaN                    NaN   \n",
       "4    «18+» - запрещено для детей                 NaN                    NaN   \n",
       "\n",
       "   budget financing_source ratings                     genres  box_office  \n",
       "0     NaN              NaN     7.2     боевик,драма,мелодрама         NaN  \n",
       "1     NaN              NaN     6.6              драма,военный         NaN  \n",
       "2     NaN              NaN     6.8  фантастика,боевик,триллер         NaN  \n",
       "3     NaN              NaN     6.8  фантастика,боевик,триллер         NaN  \n",
       "4     NaN              NaN     6.8  фантастика,боевик,триллер         NaN  "
      ]
     },
     "execution_count": 6,
     "metadata": {},
     "output_type": "execute_result"
    }
   ],
   "source": [
    "df = df_mkrf_movies.merge(df_mkrf_shows, on='puNumber', how='outer')\n",
    "df.head()"
   ]
  },
  {
   "cell_type": "code",
   "execution_count": 7,
   "metadata": {},
   "outputs": [
    {
     "name": "stdout",
     "output_type": "stream",
     "text": [
      "<class 'pandas.core.frame.DataFrame'>\n",
      "Int64Index: 7486 entries, 0 to 7485\n",
      "Data columns (total 16 columns):\n",
      "title                    7486 non-null object\n",
      "puNumber                 7486 non-null int64\n",
      "show_start_date          7486 non-null object\n",
      "type                     7486 non-null object\n",
      "film_studio              7468 non-null object\n",
      "production_country       7484 non-null object\n",
      "director                 7477 non-null object\n",
      "producer                 6918 non-null object\n",
      "age_restriction          7486 non-null object\n",
      "refundable_support       332 non-null float64\n",
      "nonrefundable_support    332 non-null float64\n",
      "budget                   332 non-null float64\n",
      "financing_source         332 non-null object\n",
      "ratings                  6519 non-null object\n",
      "genres                   6510 non-null object\n",
      "box_office               3158 non-null float64\n",
      "dtypes: float64(4), int64(1), object(11)\n",
      "memory usage: 994.2+ KB\n"
     ]
    }
   ],
   "source": [
    "df.info()"
   ]
  },
  {
   "cell_type": "markdown",
   "metadata": {},
   "source": [
    "Объединенный датафрейм содержит 7486 строк и 16 столбцов, в нем содержится большое количество пропущенных значений. Судя по значениям колонки box_office все значения таблицы mkrf_shows вошли в объединенную таблицу."
   ]
  },
  {
   "cell_type": "markdown",
   "metadata": {
    "id": "KLDGpPG0gFyM"
   },
   "source": [
    "### Шаг 2. Предобработка данных"
   ]
  },
  {
   "cell_type": "markdown",
   "metadata": {
    "id": "ssWwKXsxgFyO"
   },
   "source": [
    "#### Шаг 2.1. Проверьте типы данных\n",
    "\n",
    "- Проверьте типы данных в датафрейме и преобразуйте их там, где это необходимо."
   ]
  },
  {
   "cell_type": "markdown",
   "metadata": {},
   "source": [
    "Приведем значения в столбце show_start_date к типу datetime."
   ]
  },
  {
   "cell_type": "code",
   "execution_count": 8,
   "metadata": {},
   "outputs": [
    {
     "data": {
      "text/plain": [
       "0   2015-11-27 12:00:00\n",
       "1   2016-09-13 12:00:00\n",
       "Name: show_start_date, dtype: datetime64[ns]"
      ]
     },
     "execution_count": 8,
     "metadata": {},
     "output_type": "execute_result"
    }
   ],
   "source": [
    "df['show_start_date'] = pd.to_datetime(df['show_start_date'], format='%Y-%m-%dT%H:%M:%S.000Z')\n",
    "df['show_start_date'].head(2)"
   ]
  },
  {
   "cell_type": "markdown",
   "metadata": {},
   "source": [
    "Приведет строковые данные к нижнему регистру."
   ]
  },
  {
   "cell_type": "code",
   "execution_count": 9,
   "metadata": {
    "id": "kVGSplJOgFyO"
   },
   "outputs": [
    {
     "data": {
      "text/html": [
       "<div>\n",
       "<style scoped>\n",
       "    .dataframe tbody tr th:only-of-type {\n",
       "        vertical-align: middle;\n",
       "    }\n",
       "\n",
       "    .dataframe tbody tr th {\n",
       "        vertical-align: top;\n",
       "    }\n",
       "\n",
       "    .dataframe thead th {\n",
       "        text-align: right;\n",
       "    }\n",
       "</style>\n",
       "<table border=\"1\" class=\"dataframe\">\n",
       "  <thead>\n",
       "    <tr style=\"text-align: right;\">\n",
       "      <th></th>\n",
       "      <th>title</th>\n",
       "      <th>puNumber</th>\n",
       "      <th>show_start_date</th>\n",
       "      <th>type</th>\n",
       "      <th>film_studio</th>\n",
       "      <th>production_country</th>\n",
       "      <th>director</th>\n",
       "      <th>producer</th>\n",
       "      <th>age_restriction</th>\n",
       "      <th>refundable_support</th>\n",
       "      <th>nonrefundable_support</th>\n",
       "      <th>budget</th>\n",
       "      <th>financing_source</th>\n",
       "      <th>ratings</th>\n",
       "      <th>genres</th>\n",
       "      <th>box_office</th>\n",
       "    </tr>\n",
       "  </thead>\n",
       "  <tbody>\n",
       "    <tr>\n",
       "      <td>0</td>\n",
       "      <td>открытый простор</td>\n",
       "      <td>221048915</td>\n",
       "      <td>2015-11-27 12:00:00</td>\n",
       "      <td>художественный</td>\n",
       "      <td>тачстоун пикчерз, кобальт пикчерз, бикон пикче...</td>\n",
       "      <td>сша</td>\n",
       "      <td>кевин костнер</td>\n",
       "      <td>дэвид валдес, кевин костнер, джейк эбертс</td>\n",
       "      <td>«18+» - запрещено для детей</td>\n",
       "      <td>NaN</td>\n",
       "      <td>NaN</td>\n",
       "      <td>NaN</td>\n",
       "      <td>NaN</td>\n",
       "      <td>7.2</td>\n",
       "      <td>боевик,драма,мелодрама</td>\n",
       "      <td>NaN</td>\n",
       "    </tr>\n",
       "    <tr>\n",
       "      <td>1</td>\n",
       "      <td>особо важное задание</td>\n",
       "      <td>111013716</td>\n",
       "      <td>2016-09-13 12:00:00</td>\n",
       "      <td>художественный</td>\n",
       "      <td>киностудия \"мосфильм\"</td>\n",
       "      <td>ссср</td>\n",
       "      <td>е.матвеев</td>\n",
       "      <td>NaN</td>\n",
       "      <td>«6+» - для детей старше 6 лет</td>\n",
       "      <td>NaN</td>\n",
       "      <td>NaN</td>\n",
       "      <td>NaN</td>\n",
       "      <td>NaN</td>\n",
       "      <td>6.6</td>\n",
       "      <td>драма,военный</td>\n",
       "      <td>NaN</td>\n",
       "    </tr>\n",
       "  </tbody>\n",
       "</table>\n",
       "</div>"
      ],
      "text/plain": [
       "                  title   puNumber     show_start_date            type  \\\n",
       "0      открытый простор  221048915 2015-11-27 12:00:00  художественный   \n",
       "1  особо важное задание  111013716 2016-09-13 12:00:00  художественный   \n",
       "\n",
       "                                         film_studio production_country  \\\n",
       "0  тачстоун пикчерз, кобальт пикчерз, бикон пикче...                сша   \n",
       "1                              киностудия \"мосфильм\"               ссср   \n",
       "\n",
       "        director                                   producer  \\\n",
       "0  кевин костнер  дэвид валдес, кевин костнер, джейк эбертс   \n",
       "1      е.матвеев                                        NaN   \n",
       "\n",
       "                 age_restriction  refundable_support  nonrefundable_support  \\\n",
       "0    «18+» - запрещено для детей                 NaN                    NaN   \n",
       "1  «6+» - для детей старше 6 лет                 NaN                    NaN   \n",
       "\n",
       "   budget financing_source ratings                  genres  box_office  \n",
       "0     NaN              NaN     7.2  боевик,драма,мелодрама         NaN  \n",
       "1     NaN              NaN     6.6           драма,военный         NaN  "
      ]
     },
     "execution_count": 9,
     "metadata": {},
     "output_type": "execute_result"
    }
   ],
   "source": [
    "lower_list = ['title', 'type', 'film_studio', 'production_country', \\\n",
    "              'director', 'producer', 'age_restriction', 'financing_source', 'genres']\n",
    "for item in lower_list:\n",
    "    df[item] = df[item].str.lower()\n",
    "df.head(2)"
   ]
  },
  {
   "cell_type": "code",
   "execution_count": 10,
   "metadata": {},
   "outputs": [],
   "source": [
    "df_review = df.copy()"
   ]
  },
  {
   "cell_type": "markdown",
   "metadata": {},
   "source": [
    "Заменим текстовый тип данных в ratings на вещественный и округлим до десятых долей."
   ]
  },
  {
   "cell_type": "code",
   "execution_count": 11,
   "metadata": {},
   "outputs": [
    {
     "data": {
      "text/plain": [
       "array(['7.2', '6.6', '6.8', '7.7', '8.3', '8.0', '7.8', '8.1', '7.1',\n",
       "       '6.0', '7.4', '5.8', '8.7', '6.3', '6.9', '5.0', '4.3', '7.3',\n",
       "       '7.0', '6.4', nan, '8.2', '7.5', '6.7', '7.9', '5.9', '6.2', '5.6',\n",
       "       '6.5', '2.4', '7.6', '6.1', '8.6', '8.5', '8.8', '5.5', '5.1',\n",
       "       '5.7', '5.4', '99%', '4.4', '4.5', '5.3', '4.1', '8.4', '2.6',\n",
       "       '3.8', '4.6', '4.8', '4.0', '3.0', '1.6', '4.2', '5.2', '4.7',\n",
       "       '4.9', '3.9', '2.7', '3.3', '2.9', '28%', '3.7', '1.4', '3.1',\n",
       "       '97%', '3.5', '3.2', '2.8', '1.5', '2.1', '2.5', '9.2', '3.4',\n",
       "       '1.1', '3.6', '83%', '64%', '91%', '94%', '62%', '79%', '90%',\n",
       "       '19%', '88%', '1.0', '89%', '1.3', '1.9', '1.8', '1.2', '1.7',\n",
       "       '9.0', '98%', '8.9', '9.1'], dtype=object)"
      ]
     },
     "execution_count": 11,
     "metadata": {},
     "output_type": "execute_result"
    }
   ],
   "source": [
    "df['ratings'].unique()"
   ]
  },
  {
   "cell_type": "markdown",
   "metadata": {},
   "source": [
    "Можно видеть, что часть данных содержит знак %, заменим эти значения на числовые. Сначала соберем некорректные значения в список."
   ]
  },
  {
   "cell_type": "markdown",
   "metadata": {},
   "source": [
    "Произведем замену значений и типов данных, проверим результат."
   ]
  },
  {
   "cell_type": "code",
   "execution_count": 14,
   "metadata": {},
   "outputs": [],
   "source": [
    "def to_correct_value(x):\n",
    "    # проверка на Nan\n",
    "    if not pd.isna(x):\n",
    "        # если не пропуск, то сравниваем с паттерном\n",
    "        # совпадает ли x c паттерном, ищем числа с процентами\n",
    "        if re.match(r'\\d+%', x):\n",
    "            # если совпало, то выделяем число\n",
    "            value = re.findall(r'(\\d+)%', x)[0]\n",
    "            \n",
    "            #  возвращаем преобразованный результат\n",
    "            return int(value) / 10\n",
    "        \n",
    "        # если паттерн не совпал, то значит это нормальный рейтинг\n",
    "        return float(x)\n",
    "    # если пропуск значит пропуск🤷‍♂️\n",
    "    return x"
   ]
  },
  {
   "cell_type": "code",
   "execution_count": 15,
   "metadata": {
    "scrolled": true
   },
   "outputs": [],
   "source": [
    "df['ratings'] = df_review['ratings'].map(to_correct_value)"
   ]
  },
  {
   "cell_type": "markdown",
   "metadata": {},
   "source": [
    "Заменим вещественный тип данных на целочисленный во всех столбцах кроме ratings по причине их избыточной точности, но сначала заменим пропущенные значения в этих столбцах на 0. После этого проверим результат."
   ]
  },
  {
   "cell_type": "code",
   "execution_count": 16,
   "metadata": {},
   "outputs": [
    {
     "data": {
      "text/plain": [
       "dtype('int64')"
      ]
     },
     "metadata": {},
     "output_type": "display_data"
    },
    {
     "data": {
      "text/plain": [
       "dtype('int64')"
      ]
     },
     "metadata": {},
     "output_type": "display_data"
    },
    {
     "data": {
      "text/plain": [
       "dtype('int64')"
      ]
     },
     "metadata": {},
     "output_type": "display_data"
    },
    {
     "data": {
      "text/plain": [
       "dtype('int64')"
      ]
     },
     "metadata": {},
     "output_type": "display_data"
    }
   ],
   "source": [
    "int_list = ['refundable_support', 'nonrefundable_support', 'budget', 'box_office']\n",
    "\n",
    "for item in int_list:\n",
    "    df[item] = df[item].fillna(0)\n",
    "    try:\n",
    "        df[item] = df[item].astype('int')\n",
    "    except:\n",
    "        display('Error')\n",
    "\n",
    "for item in int_list:\n",
    "    display(df[item].dtypes)"
   ]
  },
  {
   "cell_type": "markdown",
   "metadata": {
    "id": "i0MOLbF-gFyP"
   },
   "source": [
    "#### Шаг 2.2. Изучите пропуски в датафрейме\n",
    "\n",
    "- Объясните, почему заполнили пропуски определённым образом или почему не стали этого делать."
   ]
  },
  {
   "cell_type": "code",
   "execution_count": 17,
   "metadata": {},
   "outputs": [
    {
     "name": "stdout",
     "output_type": "stream",
     "text": [
      "<class 'pandas.core.frame.DataFrame'>\n",
      "Int64Index: 7486 entries, 0 to 7485\n",
      "Data columns (total 16 columns):\n",
      "title                    7486 non-null object\n",
      "puNumber                 7486 non-null int64\n",
      "show_start_date          7486 non-null datetime64[ns]\n",
      "type                     7486 non-null object\n",
      "film_studio              7468 non-null object\n",
      "production_country       7484 non-null object\n",
      "director                 7477 non-null object\n",
      "producer                 6918 non-null object\n",
      "age_restriction          7486 non-null object\n",
      "refundable_support       7486 non-null int64\n",
      "nonrefundable_support    7486 non-null int64\n",
      "budget                   7486 non-null int64\n",
      "financing_source         332 non-null object\n",
      "ratings                  6519 non-null float64\n",
      "genres                   6510 non-null object\n",
      "box_office               7486 non-null int64\n",
      "dtypes: datetime64[ns](1), float64(1), int64(5), object(9)\n",
      "memory usage: 994.2+ KB\n"
     ]
    }
   ],
   "source": [
    "df.info()"
   ]
  },
  {
   "cell_type": "markdown",
   "metadata": {},
   "source": [
    "Заменим пропущенные значения в\n",
    "- financing_source\n",
    "- film_studio\n",
    "- production_country\n",
    "- genres\n",
    "- director\n",
    "\n",
    "на строковое значение 'неизвестно', т.к. нет данных о возможности их восстановления."
   ]
  },
  {
   "cell_type": "code",
   "execution_count": 18,
   "metadata": {
    "id": "8MJD_lkngFyP"
   },
   "outputs": [],
   "source": [
    "unknown_list = ['financing_source', 'film_studio', 'production_country', 'genres', 'director']\n",
    "for item in unknown_list:\n",
    "    df[item] = df[item].fillna('неизвестно')"
   ]
  },
  {
   "cell_type": "markdown",
   "metadata": {},
   "source": [
    "Пропущенные значения в столбце producer заменим на значения из столбца director. Вероятно, что они не указаны по причине тождественности режиссера и продюсера."
   ]
  },
  {
   "cell_type": "code",
   "execution_count": 19,
   "metadata": {},
   "outputs": [],
   "source": [
    "df['producer'] = df['producer'].fillna(df['director'])"
   ]
  },
  {
   "cell_type": "code",
   "execution_count": 22,
   "metadata": {},
   "outputs": [],
   "source": [
    "df['ratings'] = df['ratings'].fillna(0)"
   ]
  },
  {
   "cell_type": "markdown",
   "metadata": {},
   "source": [
    "Выведем информацию о измененном датафрейме."
   ]
  },
  {
   "cell_type": "code",
   "execution_count": 23,
   "metadata": {},
   "outputs": [
    {
     "name": "stdout",
     "output_type": "stream",
     "text": [
      "<class 'pandas.core.frame.DataFrame'>\n",
      "Int64Index: 7486 entries, 0 to 7485\n",
      "Data columns (total 16 columns):\n",
      "title                    7486 non-null object\n",
      "puNumber                 7486 non-null int64\n",
      "show_start_date          7486 non-null datetime64[ns]\n",
      "type                     7486 non-null object\n",
      "film_studio              7486 non-null object\n",
      "production_country       7486 non-null object\n",
      "director                 7486 non-null object\n",
      "producer                 7486 non-null object\n",
      "age_restriction          7486 non-null object\n",
      "refundable_support       7486 non-null int64\n",
      "nonrefundable_support    7486 non-null int64\n",
      "budget                   7486 non-null int64\n",
      "financing_source         7486 non-null object\n",
      "ratings                  7486 non-null float64\n",
      "genres                   7486 non-null object\n",
      "box_office               7486 non-null int64\n",
      "dtypes: datetime64[ns](1), float64(1), int64(5), object(9)\n",
      "memory usage: 994.2+ KB\n"
     ]
    }
   ],
   "source": [
    "df.info()"
   ]
  },
  {
   "cell_type": "markdown",
   "metadata": {},
   "source": [
    "Как можно видеть, проведена замена типов данных и заполнены пропущенные значения."
   ]
  },
  {
   "cell_type": "markdown",
   "metadata": {
    "id": "4c6k1t9ygFyQ"
   },
   "source": [
    "#### Шаг 2.3. Изучите дубликаты в датафрейме\n",
    "- Проверьте, есть ли в данных дубликаты. Опишите причины, которые могли повлиять на появление дублей."
   ]
  },
  {
   "cell_type": "code",
   "execution_count": 24,
   "metadata": {
    "id": "aKck8RIdgFyQ"
   },
   "outputs": [
    {
     "data": {
      "text/plain": [
       "0"
      ]
     },
     "execution_count": 24,
     "metadata": {},
     "output_type": "execute_result"
    }
   ],
   "source": [
    "df.duplicated().sum()"
   ]
  },
  {
   "cell_type": "markdown",
   "metadata": {},
   "source": [
    "В датафрейме отсутствуют явные дублилкаты, проверим наличие дубликатов в столбце puNumber."
   ]
  },
  {
   "cell_type": "code",
   "execution_count": 25,
   "metadata": {},
   "outputs": [
    {
     "data": {
      "text/plain": [
       "2"
      ]
     },
     "execution_count": 25,
     "metadata": {},
     "output_type": "execute_result"
    }
   ],
   "source": [
    "df['puNumber'].duplicated().sum()"
   ]
  },
  {
   "cell_type": "markdown",
   "metadata": {},
   "source": [
    "Определим номера продублированных прокатных удостоверений."
   ]
  },
  {
   "cell_type": "code",
   "execution_count": 26,
   "metadata": {},
   "outputs": [
    {
     "data": {
      "text/plain": [
       "4639    221154310\n",
       "5068    221054410\n",
       "Name: puNumber, dtype: int64"
      ]
     },
     "execution_count": 26,
     "metadata": {},
     "output_type": "execute_result"
    }
   ],
   "source": [
    "df[df['puNumber'].duplicated()]['puNumber']"
   ]
  },
  {
   "cell_type": "markdown",
   "metadata": {},
   "source": [
    "Выведем данные строки на экран."
   ]
  },
  {
   "cell_type": "code",
   "execution_count": 27,
   "metadata": {
    "scrolled": true
   },
   "outputs": [
    {
     "data": {
      "text/html": [
       "<div>\n",
       "<style scoped>\n",
       "    .dataframe tbody tr th:only-of-type {\n",
       "        vertical-align: middle;\n",
       "    }\n",
       "\n",
       "    .dataframe tbody tr th {\n",
       "        vertical-align: top;\n",
       "    }\n",
       "\n",
       "    .dataframe thead th {\n",
       "        text-align: right;\n",
       "    }\n",
       "</style>\n",
       "<table border=\"1\" class=\"dataframe\">\n",
       "  <thead>\n",
       "    <tr style=\"text-align: right;\">\n",
       "      <th></th>\n",
       "      <th>title</th>\n",
       "      <th>puNumber</th>\n",
       "      <th>show_start_date</th>\n",
       "      <th>type</th>\n",
       "      <th>film_studio</th>\n",
       "      <th>production_country</th>\n",
       "      <th>director</th>\n",
       "      <th>producer</th>\n",
       "      <th>age_restriction</th>\n",
       "      <th>refundable_support</th>\n",
       "      <th>nonrefundable_support</th>\n",
       "      <th>budget</th>\n",
       "      <th>financing_source</th>\n",
       "      <th>ratings</th>\n",
       "      <th>genres</th>\n",
       "      <th>box_office</th>\n",
       "    </tr>\n",
       "  </thead>\n",
       "  <tbody>\n",
       "    <tr>\n",
       "      <td>4638</td>\n",
       "      <td>как жениться и остаться холостым</td>\n",
       "      <td>221154310</td>\n",
       "      <td>2010-12-17 12:00:00</td>\n",
       "      <td>художественный</td>\n",
       "      <td>ше вам, скрипт ассосье, тэ фэ 1 фильм продюксь...</td>\n",
       "      <td>франция</td>\n",
       "      <td>эрик лартиго</td>\n",
       "      <td>амандин било, алан шаба</td>\n",
       "      <td>«16+» - для детей старше 16 лет</td>\n",
       "      <td>0</td>\n",
       "      <td>0</td>\n",
       "      <td>0</td>\n",
       "      <td>неизвестно</td>\n",
       "      <td>7.0</td>\n",
       "      <td>мелодрама,комедия</td>\n",
       "      <td>0</td>\n",
       "    </tr>\n",
       "    <tr>\n",
       "      <td>4639</td>\n",
       "      <td>иоанна - женщина на папском престоле /по роман...</td>\n",
       "      <td>221154310</td>\n",
       "      <td>2010-12-17 12:00:00</td>\n",
       "      <td>художественный</td>\n",
       "      <td>константин фильм, а эр ди дегето фильм, дюне ...</td>\n",
       "      <td>германия - великобритания - италия - испания</td>\n",
       "      <td>зенке вортманн</td>\n",
       "      <td>оливер бербен, дорис д.хайнце, фарук элтан</td>\n",
       "      <td>«16+» - для детей старше 16 лет</td>\n",
       "      <td>0</td>\n",
       "      <td>0</td>\n",
       "      <td>0</td>\n",
       "      <td>неизвестно</td>\n",
       "      <td>7.6</td>\n",
       "      <td>драма,мелодрама,история</td>\n",
       "      <td>0</td>\n",
       "    </tr>\n",
       "    <tr>\n",
       "      <td>5067</td>\n",
       "      <td>анализируй это!</td>\n",
       "      <td>221054410</td>\n",
       "      <td>2010-05-25 12:00:00</td>\n",
       "      <td>художественный</td>\n",
       "      <td>уорнер бразерс, вилладж роудшоу филмз лтд</td>\n",
       "      <td>сша-австралия</td>\n",
       "      <td>хэрольд рэмис</td>\n",
       "      <td>джейн розенталь, пола уейнстейн</td>\n",
       "      <td>«16+» - для детей старше 16 лет</td>\n",
       "      <td>0</td>\n",
       "      <td>0</td>\n",
       "      <td>0</td>\n",
       "      <td>неизвестно</td>\n",
       "      <td>7.4</td>\n",
       "      <td>комедия,криминал</td>\n",
       "      <td>0</td>\n",
       "    </tr>\n",
       "    <tr>\n",
       "      <td>5068</td>\n",
       "      <td>анализируй то!</td>\n",
       "      <td>221054410</td>\n",
       "      <td>2010-05-25 12:00:00</td>\n",
       "      <td>художественный</td>\n",
       "      <td>уорнер бразерс, виллидж роадшоу пикчерз, эн-пи...</td>\n",
       "      <td>сша</td>\n",
       "      <td>гарольд реймис</td>\n",
       "      <td>джейн розенталь, паул уэйнстейн</td>\n",
       "      <td>«12+» - для детей старше 12 лет</td>\n",
       "      <td>0</td>\n",
       "      <td>0</td>\n",
       "      <td>0</td>\n",
       "      <td>неизвестно</td>\n",
       "      <td>6.8</td>\n",
       "      <td>комедия,криминал</td>\n",
       "      <td>0</td>\n",
       "    </tr>\n",
       "  </tbody>\n",
       "</table>\n",
       "</div>"
      ],
      "text/plain": [
       "                                                  title   puNumber  \\\n",
       "4638                   как жениться и остаться холостым  221154310   \n",
       "4639  иоанна - женщина на папском престоле /по роман...  221154310   \n",
       "5067                                    анализируй это!  221054410   \n",
       "5068                                     анализируй то!  221054410   \n",
       "\n",
       "         show_start_date            type  \\\n",
       "4638 2010-12-17 12:00:00  художественный   \n",
       "4639 2010-12-17 12:00:00  художественный   \n",
       "5067 2010-05-25 12:00:00  художественный   \n",
       "5068 2010-05-25 12:00:00  художественный   \n",
       "\n",
       "                                            film_studio  \\\n",
       "4638  ше вам, скрипт ассосье, тэ фэ 1 фильм продюксь...   \n",
       "4639   константин фильм, а эр ди дегето фильм, дюне ...   \n",
       "5067          уорнер бразерс, вилладж роудшоу филмз лтд   \n",
       "5068  уорнер бразерс, виллидж роадшоу пикчерз, эн-пи...   \n",
       "\n",
       "                                production_country        director  \\\n",
       "4638                                       франция    эрик лартиго   \n",
       "4639  германия - великобритания - италия - испания  зенке вортманн   \n",
       "5067                                 сша-австралия   хэрольд рэмис   \n",
       "5068                                           сша  гарольд реймис   \n",
       "\n",
       "                                        producer  \\\n",
       "4638                     амандин било, алан шаба   \n",
       "4639  оливер бербен, дорис д.хайнце, фарук элтан   \n",
       "5067             джейн розенталь, пола уейнстейн   \n",
       "5068             джейн розенталь, паул уэйнстейн   \n",
       "\n",
       "                      age_restriction  refundable_support  \\\n",
       "4638  «16+» - для детей старше 16 лет                   0   \n",
       "4639  «16+» - для детей старше 16 лет                   0   \n",
       "5067  «16+» - для детей старше 16 лет                   0   \n",
       "5068  «12+» - для детей старше 12 лет                   0   \n",
       "\n",
       "      nonrefundable_support  budget financing_source  ratings  \\\n",
       "4638                      0       0       неизвестно      7.0   \n",
       "4639                      0       0       неизвестно      7.6   \n",
       "5067                      0       0       неизвестно      7.4   \n",
       "5068                      0       0       неизвестно      6.8   \n",
       "\n",
       "                       genres  box_office  \n",
       "4638        мелодрама,комедия           0  \n",
       "4639  драма,мелодрама,история           0  \n",
       "5067         комедия,криминал           0  \n",
       "5068         комедия,криминал           0  "
      ]
     },
     "execution_count": 27,
     "metadata": {},
     "output_type": "execute_result"
    }
   ],
   "source": [
    "df[(df['puNumber'] == 221154310) | (df['puNumber'] == 221054410)]"
   ]
  },
  {
   "cell_type": "markdown",
   "metadata": {},
   "source": [
    "Можно видеть, что строка с номером 5068 является дубликатом строки 5067, а две другие строки имеют только ошибоные номера прокатного удостоверения и дубликатами не являются. Поэтому удалим строку с номером 5068 и сбросим индекс."
   ]
  },
  {
   "cell_type": "code",
   "execution_count": 28,
   "metadata": {},
   "outputs": [
    {
     "data": {
      "text/plain": [
       "(7485, 16)"
      ]
     },
     "execution_count": 28,
     "metadata": {},
     "output_type": "execute_result"
    }
   ],
   "source": [
    "df = df.drop(5068).reset_index(drop=True)\n",
    "df.shape"
   ]
  },
  {
   "cell_type": "markdown",
   "metadata": {},
   "source": [
    "Проверим наличие дубликатов в столбце title."
   ]
  },
  {
   "cell_type": "code",
   "execution_count": 29,
   "metadata": {},
   "outputs": [
    {
     "data": {
      "text/plain": [
       "724"
      ]
     },
     "execution_count": 29,
     "metadata": {},
     "output_type": "execute_result"
    }
   ],
   "source": [
    "df['title'].duplicated().sum()"
   ]
  },
  {
   "cell_type": "markdown",
   "metadata": {},
   "source": [
    "В датафрейме содержится 724 дубликата с одинаковым названием, но разным прокатным удостоверением. Часть из этих фильмов могла выходить в разное время, а также иметь разную информацию о сборах. Найдем дубликаты с одинаковым названием, датой выхода и величиной сборов."
   ]
  },
  {
   "cell_type": "code",
   "execution_count": 30,
   "metadata": {},
   "outputs": [
    {
     "data": {
      "text/plain": [
       "5"
      ]
     },
     "execution_count": 30,
     "metadata": {},
     "output_type": "execute_result"
    }
   ],
   "source": [
    "df.loc[:, ['title', 'show_start_date', 'box_office']].duplicated().sum()"
   ]
  },
  {
   "cell_type": "markdown",
   "metadata": {},
   "source": [
    "Определим индексы данных дубликотов и удалим их."
   ]
  },
  {
   "cell_type": "code",
   "execution_count": 31,
   "metadata": {},
   "outputs": [
    {
     "data": {
      "text/plain": [
       "[1301, 1476, 4043, 6379, 6428]"
      ]
     },
     "execution_count": 31,
     "metadata": {},
     "output_type": "execute_result"
    }
   ],
   "source": [
    "df[df.loc[:, ['title', 'show_start_date', 'box_office']].duplicated()].index.tolist()"
   ]
  },
  {
   "cell_type": "code",
   "execution_count": 32,
   "metadata": {},
   "outputs": [
    {
     "data": {
      "text/plain": [
       "(7480, 16)"
      ]
     },
     "execution_count": 32,
     "metadata": {},
     "output_type": "execute_result"
    }
   ],
   "source": [
    "df = df.drop(df[df.loc[:, ['title', 'show_start_date', 'box_office']].duplicated()].index.tolist()).reset_index(drop=True)\n",
    "df.shape"
   ]
  },
  {
   "cell_type": "markdown",
   "metadata": {},
   "source": [
    "Были удалены дубликаты, часть из которых с одинаковым номером прокатного удостоверения, а часть с одинаковым названием, датой выхода и величиной сборов."
   ]
  },
  {
   "cell_type": "markdown",
   "metadata": {
    "id": "52fOPrEBgFyQ"
   },
   "source": [
    "#### Шаг 2.4. Изучите категориальные значения\n",
    "\n",
    "- Посмотрите, какая общая проблема встречается почти во всех категориальных столбцах;\n",
    "- Исправьте проблемные значения в поле `type`.\n",
    "\n",
    "<div id=\"accordion\">\n",
    "    <div class=\"card\">\n",
    "        <div class=\"card-header\" id=\"headingThree\">\n",
    "            <button class=\"btn btn-link collapsed\" data-toggle=\"collapse\" data-target=\"#collapseHint_1\" aria-expanded=\"false\" aria-controls=\"collapseHint_1\">Подсказка</button>\n",
    "        </div>\n",
    "        <div id=\"collapseHint_1\" class=\"collapse\" aria-labelledby=\"headingThree\" data-parent=\"#accordion\">\n",
    "            <div class=\"card-body\">\n",
    "В поле <code>type</code> есть несколько значений, у которых появился пробел в начале строки. Самый простой способ их «починить» -- использовать метод <a href=\"https://pandas.pydata.org/docs/reference/api/pandas.Series.str.strip.html#pandas.Series.str.strip\">.str.strip</a>. Этот метод удаляет все пробелы, которые встречаются в начале и в конце строки. Применяют его таким образом:<br>\n",
    "<code>df['type'].str.strip()</code>\n",
    "            </div>\n",
    "        </div>\n",
    "    </div>\n",
    "</div>"
   ]
  },
  {
   "cell_type": "code",
   "execution_count": 33,
   "metadata": {
    "id": "PnXKIVdFgFyR"
   },
   "outputs": [
    {
     "data": {
      "text/plain": [
       "array(['художественный', 'анимационный', 'прочие', 'документальный',\n",
       "       'научно-популярный', ' художественный', ' анимационный',\n",
       "       'музыкально-развлекательный'], dtype=object)"
      ]
     },
     "execution_count": 33,
     "metadata": {},
     "output_type": "execute_result"
    }
   ],
   "source": [
    "df['type'].unique()"
   ]
  },
  {
   "cell_type": "markdown",
   "metadata": {},
   "source": [
    "Можно видеть, что некоторые названия, например, ' художественный' и ' анимационный' начинаются с пробела. Для надежности, удалим пробелы вначале и конце строки в столбцах, содержащих строковые значения."
   ]
  },
  {
   "cell_type": "code",
   "execution_count": 34,
   "metadata": {},
   "outputs": [
    {
     "data": {
      "text/plain": [
       "array(['художественный', 'анимационный', 'прочие', 'документальный',\n",
       "       'научно-популярный', 'музыкально-развлекательный'], dtype=object)"
      ]
     },
     "execution_count": 34,
     "metadata": {},
     "output_type": "execute_result"
    }
   ],
   "source": [
    "object_type_list = ['title', 'type', 'film_studio', 'production_country', \\\n",
    "                    'director', 'producer', 'age_restriction', 'financing_source', 'genres']\n",
    "for item in object_type_list:\n",
    "    df[item] = df[item].str.strip()\n",
    "    \n",
    "df['type'].unique()"
   ]
  },
  {
   "cell_type": "markdown",
   "metadata": {},
   "source": [
    "Как можно видеть, пробелы удалены."
   ]
  },
  {
   "cell_type": "markdown",
   "metadata": {
    "id": "XFSN5lrEgFyR"
   },
   "source": [
    "#### Шаг 2.5. Проверьте количественные значения\n",
    "\n",
    "- Проверьте, обнаружились ли в таких столбцах подозрительные данные. Как с такими данными лучше поступить?\n",
    "\n",
    "<div id=\"accordion\">\n",
    "    <div class=\"card\">\n",
    "        <div class=\"card-header\" id=\"headingThree\">\n",
    "            <button class=\"btn btn-link collapsed\" data-toggle=\"collapse\" data-target=\"#collapseHint_budget\" aria-expanded=\"false\" aria-controls=\"collapseHint_budget\">Подсказка</button>\n",
    "        </div>\n",
    "        <div id=\"collapseHint_budget\" class=\"collapse\" aria-labelledby=\"headingThree\" data-parent=\"#accordion\">\n",
    "            <div class=\"card-body\">\n",
    "Обратите внимание на описание столбца <code>budget</code>. Как этот столбец соотносится с двумя другими: <code>refundable_support</code> и <code>nonrefundable_support</code>?\n",
    "            </div>\n",
    "        </div>\n",
    "    </div>\n",
    "</div>"
   ]
  },
  {
   "cell_type": "markdown",
   "metadata": {},
   "source": [
    "Проверим как соотносятся друг с другом значения в столбце budget и сумма значений refundable_support и nonrefundable_support."
   ]
  },
  {
   "cell_type": "code",
   "execution_count": 35,
   "metadata": {
    "id": "YbzClBxagFyS"
   },
   "outputs": [
    {
     "data": {
      "text/plain": [
       "array([        0,  52911900,  11142857,  68175545,  12574140,  15015122,\n",
       "        26850000,  70588394,  39707768,  64551503,  14571430,  24000000,\n",
       "        11259500,  45876172, 182489571,  46910000, -23000000, -75000000,\n",
       "        44782312, 379858121])"
      ]
     },
     "execution_count": 35,
     "metadata": {},
     "output_type": "execute_result"
    }
   ],
   "source": [
    "(df['budget'] - df['refundable_support'] - df['nonrefundable_support']).unique()[:20]"
   ]
  },
  {
   "cell_type": "markdown",
   "metadata": {},
   "source": [
    "В некоторых строках общий бюджет меньше, чем сумма возвратного и невозвратного финансирования. Проверим чему равны данные значения."
   ]
  },
  {
   "cell_type": "code",
   "execution_count": 36,
   "metadata": {},
   "outputs": [
    {
     "data": {
      "text/plain": [
       "2051    0\n",
       "2056    0\n",
       "2470    0\n",
       "2530    0\n",
       "2613    0\n",
       "Name: budget, dtype: int64"
      ]
     },
     "execution_count": 36,
     "metadata": {},
     "output_type": "execute_result"
    }
   ],
   "source": [
    "df.query('budget - refundable_support - nonrefundable_support < 0')['budget'].head()"
   ]
  },
  {
   "cell_type": "markdown",
   "metadata": {},
   "source": [
    "Как можно видеть данные подозрительные значения равны нулю, такие значения могли появиться, если не был указан общий бюджет фильма. Заменим их суммой возвратного и невозвратного финансирования, после чего проверим результат."
   ]
  },
  {
   "cell_type": "code",
   "execution_count": 37,
   "metadata": {},
   "outputs": [
    {
     "data": {
      "text/plain": [
       "Series([], Name: budget, dtype: int64)"
      ]
     },
     "execution_count": 37,
     "metadata": {},
     "output_type": "execute_result"
    }
   ],
   "source": [
    "df['budget'] = df['budget'].replace(0, (df['refundable_support'] + df['nonrefundable_support']))\n",
    "df.query('budget - refundable_support - nonrefundable_support < 0')['budget']"
   ]
  },
  {
   "cell_type": "markdown",
   "metadata": {},
   "source": [
    "В результате обработки были заменены некоректные значения общего бюджета фильма."
   ]
  },
  {
   "cell_type": "markdown",
   "metadata": {
    "id": "Eu6oWp2CgFyS"
   },
   "source": [
    "#### Шаг 2.6. Добавьте новые столбцы\n",
    "\n",
    "\n",
    "\n"
   ]
  },
  {
   "cell_type": "markdown",
   "metadata": {
    "id": "7GgW-UpAgFyS"
   },
   "source": [
    "- Создайте столбец с информацией о годе проката. Выделите год из даты премьеры фильма."
   ]
  },
  {
   "cell_type": "code",
   "execution_count": 38,
   "metadata": {
    "id": "I-yd1DkWgFyT"
   },
   "outputs": [],
   "source": [
    "df['show_start_year'] = df['show_start_date'].dt.year"
   ]
  },
  {
   "cell_type": "markdown",
   "metadata": {
    "id": "nFTDLDYOgFyT"
   },
   "source": [
    "- Создайте два столбца: с именем и фамилией главного режиссёра и основным жанром фильма. В столбцы войдут первые значения из списка режиссёров и жанров соответственно.\n",
    "\n",
    "<div id=\"accordion\">\n",
    "    <div class=\"card\">\n",
    "        <div class=\"card-header\" id=\"headingThree\">\n",
    "            <button class=\"btn btn-link collapsed\" data-toggle=\"collapse\" data-target=\"#collapseHint_2\" aria-expanded=\"false\" aria-controls=\"collapseHint_2\">Подсказка</button>\n",
    "        </div>\n",
    "        <div id=\"collapseHint_2\" class=\"collapse\" aria-labelledby=\"headingThree\" data-parent=\"#accordion\">\n",
    "            <div class=\"card-body\">\n",
    "Чтобы создать такие столбцы, лучше всего использовать собственную функцию. Эту функцию можно применить к двум столбцам сразу. \n",
    "            </div>\n",
    "        </div>\n",
    "    </div>\n",
    "</div>"
   ]
  },
  {
   "cell_type": "code",
   "execution_count": 39,
   "metadata": {},
   "outputs": [],
   "source": [
    "def main_category_func(item):\n",
    "    if item.find(',') != -1:\n",
    "        return item[:item.find(',')]\n",
    "    else:\n",
    "        return item\n",
    "\n",
    "df['main_director'], df['main_genre'] = \\\n",
    "df['director'].apply(main_category_func), df['genres'].apply(main_category_func)"
   ]
  },
  {
   "cell_type": "markdown",
   "metadata": {
    "id": "1FsCXHwdgFyU"
   },
   "source": [
    "- Посчитайте, какую долю от общего бюджета фильма составляет государственная поддержка."
   ]
  },
  {
   "cell_type": "code",
   "execution_count": 40,
   "metadata": {
    "id": "LV6qFuZLgFyV"
   },
   "outputs": [],
   "source": [
    "df['government_support'] = \\\n",
    "round(\n",
    "((df['refundable_support'] + df['nonrefundable_support']) / df['budget'])\\\n",
    ".fillna(0), 2)"
   ]
  },
  {
   "cell_type": "markdown",
   "metadata": {},
   "source": [
    "Проверим новые столбцы и выведем информацию о измененном датафрейме."
   ]
  },
  {
   "cell_type": "code",
   "execution_count": 41,
   "metadata": {
    "scrolled": true
   },
   "outputs": [
    {
     "data": {
      "text/html": [
       "<div>\n",
       "<style scoped>\n",
       "    .dataframe tbody tr th:only-of-type {\n",
       "        vertical-align: middle;\n",
       "    }\n",
       "\n",
       "    .dataframe tbody tr th {\n",
       "        vertical-align: top;\n",
       "    }\n",
       "\n",
       "    .dataframe thead th {\n",
       "        text-align: right;\n",
       "    }\n",
       "</style>\n",
       "<table border=\"1\" class=\"dataframe\">\n",
       "  <thead>\n",
       "    <tr style=\"text-align: right;\">\n",
       "      <th></th>\n",
       "      <th>title</th>\n",
       "      <th>puNumber</th>\n",
       "      <th>show_start_date</th>\n",
       "      <th>type</th>\n",
       "      <th>film_studio</th>\n",
       "      <th>production_country</th>\n",
       "      <th>director</th>\n",
       "      <th>producer</th>\n",
       "      <th>age_restriction</th>\n",
       "      <th>refundable_support</th>\n",
       "      <th>nonrefundable_support</th>\n",
       "      <th>budget</th>\n",
       "      <th>financing_source</th>\n",
       "      <th>ratings</th>\n",
       "      <th>genres</th>\n",
       "      <th>box_office</th>\n",
       "      <th>show_start_year</th>\n",
       "      <th>main_director</th>\n",
       "      <th>main_genre</th>\n",
       "      <th>government_support</th>\n",
       "    </tr>\n",
       "  </thead>\n",
       "  <tbody>\n",
       "    <tr>\n",
       "      <td>0</td>\n",
       "      <td>открытый простор</td>\n",
       "      <td>221048915</td>\n",
       "      <td>2015-11-27 12:00:00</td>\n",
       "      <td>художественный</td>\n",
       "      <td>тачстоун пикчерз, кобальт пикчерз, бикон пикче...</td>\n",
       "      <td>сша</td>\n",
       "      <td>кевин костнер</td>\n",
       "      <td>дэвид валдес, кевин костнер, джейк эбертс</td>\n",
       "      <td>«18+» - запрещено для детей</td>\n",
       "      <td>0</td>\n",
       "      <td>0</td>\n",
       "      <td>0</td>\n",
       "      <td>неизвестно</td>\n",
       "      <td>7.2</td>\n",
       "      <td>боевик,драма,мелодрама</td>\n",
       "      <td>0</td>\n",
       "      <td>2015</td>\n",
       "      <td>кевин костнер</td>\n",
       "      <td>боевик</td>\n",
       "      <td>0.0</td>\n",
       "    </tr>\n",
       "    <tr>\n",
       "      <td>1</td>\n",
       "      <td>особо важное задание</td>\n",
       "      <td>111013716</td>\n",
       "      <td>2016-09-13 12:00:00</td>\n",
       "      <td>художественный</td>\n",
       "      <td>киностудия \"мосфильм\"</td>\n",
       "      <td>ссср</td>\n",
       "      <td>е.матвеев</td>\n",
       "      <td>е.матвеев</td>\n",
       "      <td>«6+» - для детей старше 6 лет</td>\n",
       "      <td>0</td>\n",
       "      <td>0</td>\n",
       "      <td>0</td>\n",
       "      <td>неизвестно</td>\n",
       "      <td>6.6</td>\n",
       "      <td>драма,военный</td>\n",
       "      <td>0</td>\n",
       "      <td>2016</td>\n",
       "      <td>е.матвеев</td>\n",
       "      <td>драма</td>\n",
       "      <td>0.0</td>\n",
       "    </tr>\n",
       "    <tr>\n",
       "      <td>2</td>\n",
       "      <td>особо опасен</td>\n",
       "      <td>221038416</td>\n",
       "      <td>2016-10-10 12:00:00</td>\n",
       "      <td>художественный</td>\n",
       "      <td>юниверсал пикчерз, кикстарт продакшнз, марк пл...</td>\n",
       "      <td>сша</td>\n",
       "      <td>тимур бекмамбетов</td>\n",
       "      <td>джим лемли, джейсон нетер, марк е.платт, яйн смит</td>\n",
       "      <td>«18+» - запрещено для детей</td>\n",
       "      <td>0</td>\n",
       "      <td>0</td>\n",
       "      <td>0</td>\n",
       "      <td>неизвестно</td>\n",
       "      <td>6.8</td>\n",
       "      <td>фантастика,боевик,триллер</td>\n",
       "      <td>0</td>\n",
       "      <td>2016</td>\n",
       "      <td>тимур бекмамбетов</td>\n",
       "      <td>фантастика</td>\n",
       "      <td>0.0</td>\n",
       "    </tr>\n",
       "    <tr>\n",
       "      <td>3</td>\n",
       "      <td>особо опасен</td>\n",
       "      <td>221026916</td>\n",
       "      <td>2016-06-10 12:00:00</td>\n",
       "      <td>художественный</td>\n",
       "      <td>юниверсал пикчерз, кикстарт продакшнз, марк пл...</td>\n",
       "      <td>сша</td>\n",
       "      <td>тимур бекмамбетов</td>\n",
       "      <td>джим лемли, джейсон нетер, марк е.платт, яйн смит</td>\n",
       "      <td>«18+» - запрещено для детей</td>\n",
       "      <td>0</td>\n",
       "      <td>0</td>\n",
       "      <td>0</td>\n",
       "      <td>неизвестно</td>\n",
       "      <td>6.8</td>\n",
       "      <td>фантастика,боевик,триллер</td>\n",
       "      <td>0</td>\n",
       "      <td>2016</td>\n",
       "      <td>тимур бекмамбетов</td>\n",
       "      <td>фантастика</td>\n",
       "      <td>0.0</td>\n",
       "    </tr>\n",
       "    <tr>\n",
       "      <td>4</td>\n",
       "      <td>особо опасен</td>\n",
       "      <td>221030815</td>\n",
       "      <td>2015-07-29 12:00:00</td>\n",
       "      <td>художественный</td>\n",
       "      <td>юниверсал пикчерз, кикстарт продакшнз, марк пл...</td>\n",
       "      <td>сша</td>\n",
       "      <td>тимур бекмамбетов</td>\n",
       "      <td>джим лемли, джейсон нетер, марк е.платт, яйн смит</td>\n",
       "      <td>«18+» - запрещено для детей</td>\n",
       "      <td>0</td>\n",
       "      <td>0</td>\n",
       "      <td>0</td>\n",
       "      <td>неизвестно</td>\n",
       "      <td>6.8</td>\n",
       "      <td>фантастика,боевик,триллер</td>\n",
       "      <td>0</td>\n",
       "      <td>2015</td>\n",
       "      <td>тимур бекмамбетов</td>\n",
       "      <td>фантастика</td>\n",
       "      <td>0.0</td>\n",
       "    </tr>\n",
       "  </tbody>\n",
       "</table>\n",
       "</div>"
      ],
      "text/plain": [
       "                  title   puNumber     show_start_date            type  \\\n",
       "0      открытый простор  221048915 2015-11-27 12:00:00  художественный   \n",
       "1  особо важное задание  111013716 2016-09-13 12:00:00  художественный   \n",
       "2          особо опасен  221038416 2016-10-10 12:00:00  художественный   \n",
       "3          особо опасен  221026916 2016-06-10 12:00:00  художественный   \n",
       "4          особо опасен  221030815 2015-07-29 12:00:00  художественный   \n",
       "\n",
       "                                         film_studio production_country  \\\n",
       "0  тачстоун пикчерз, кобальт пикчерз, бикон пикче...                сша   \n",
       "1                              киностудия \"мосфильм\"               ссср   \n",
       "2  юниверсал пикчерз, кикстарт продакшнз, марк пл...                сша   \n",
       "3  юниверсал пикчерз, кикстарт продакшнз, марк пл...                сша   \n",
       "4  юниверсал пикчерз, кикстарт продакшнз, марк пл...                сша   \n",
       "\n",
       "            director                                           producer  \\\n",
       "0      кевин костнер          дэвид валдес, кевин костнер, джейк эбертс   \n",
       "1          е.матвеев                                          е.матвеев   \n",
       "2  тимур бекмамбетов  джим лемли, джейсон нетер, марк е.платт, яйн смит   \n",
       "3  тимур бекмамбетов  джим лемли, джейсон нетер, марк е.платт, яйн смит   \n",
       "4  тимур бекмамбетов  джим лемли, джейсон нетер, марк е.платт, яйн смит   \n",
       "\n",
       "                 age_restriction  refundable_support  nonrefundable_support  \\\n",
       "0    «18+» - запрещено для детей                   0                      0   \n",
       "1  «6+» - для детей старше 6 лет                   0                      0   \n",
       "2    «18+» - запрещено для детей                   0                      0   \n",
       "3    «18+» - запрещено для детей                   0                      0   \n",
       "4    «18+» - запрещено для детей                   0                      0   \n",
       "\n",
       "   budget financing_source  ratings                     genres  box_office  \\\n",
       "0       0       неизвестно      7.2     боевик,драма,мелодрама           0   \n",
       "1       0       неизвестно      6.6              драма,военный           0   \n",
       "2       0       неизвестно      6.8  фантастика,боевик,триллер           0   \n",
       "3       0       неизвестно      6.8  фантастика,боевик,триллер           0   \n",
       "4       0       неизвестно      6.8  фантастика,боевик,триллер           0   \n",
       "\n",
       "   show_start_year      main_director  main_genre  government_support  \n",
       "0             2015      кевин костнер      боевик                 0.0  \n",
       "1             2016          е.матвеев       драма                 0.0  \n",
       "2             2016  тимур бекмамбетов  фантастика                 0.0  \n",
       "3             2016  тимур бекмамбетов  фантастика                 0.0  \n",
       "4             2015  тимур бекмамбетов  фантастика                 0.0  "
      ]
     },
     "execution_count": 41,
     "metadata": {},
     "output_type": "execute_result"
    }
   ],
   "source": [
    "df.head()"
   ]
  },
  {
   "cell_type": "code",
   "execution_count": 42,
   "metadata": {},
   "outputs": [
    {
     "name": "stdout",
     "output_type": "stream",
     "text": [
      "<class 'pandas.core.frame.DataFrame'>\n",
      "RangeIndex: 7480 entries, 0 to 7479\n",
      "Data columns (total 20 columns):\n",
      "title                    7480 non-null object\n",
      "puNumber                 7480 non-null int64\n",
      "show_start_date          7480 non-null datetime64[ns]\n",
      "type                     7480 non-null object\n",
      "film_studio              7480 non-null object\n",
      "production_country       7480 non-null object\n",
      "director                 7480 non-null object\n",
      "producer                 7480 non-null object\n",
      "age_restriction          7480 non-null object\n",
      "refundable_support       7480 non-null int64\n",
      "nonrefundable_support    7480 non-null int64\n",
      "budget                   7480 non-null int64\n",
      "financing_source         7480 non-null object\n",
      "ratings                  7480 non-null float64\n",
      "genres                   7480 non-null object\n",
      "box_office               7480 non-null int64\n",
      "show_start_year          7480 non-null int64\n",
      "main_director            7480 non-null object\n",
      "main_genre               7480 non-null object\n",
      "government_support       7480 non-null float64\n",
      "dtypes: datetime64[ns](1), float64(2), int64(6), object(11)\n",
      "memory usage: 1.1+ MB\n"
     ]
    }
   ],
   "source": [
    "df.info()"
   ]
  },
  {
   "cell_type": "markdown",
   "metadata": {},
   "source": [
    "В процессе обработки исследуемых данных, в датафрейм были добавлены новые столбцы: имя и фамилия первого режиссера, основной жанр фильма и доля бюджетного финансирования от общего бюджета фильма."
   ]
  },
  {
   "cell_type": "markdown",
   "metadata": {
    "id": "6t4EukPLgFyV"
   },
   "source": [
    "### Шаг 3. Проведите исследовательский анализ данных\n"
   ]
  },
  {
   "cell_type": "markdown",
   "metadata": {
    "id": "vAH8WCzugFyV"
   },
   "source": [
    "- Посмотрите, сколько фильмов выходило в прокат каждый год. Обратите внимание, что данные о прокате в кинотеатрах известны не для всех фильмов. Посчитайте, какую долю составляют фильмы с указанной информацией о прокате в кинотеатрах."
   ]
  },
  {
   "cell_type": "code",
   "execution_count": 43,
   "metadata": {},
   "outputs": [
    {
     "data": {
      "image/png": "[encoded data removed]",
      "text/plain": [
       "<Figure size 576x360 with 1 Axes>"
      ]
     },
     "metadata": {
      "needs_background": "light"
     },
     "output_type": "display_data"
    },
    {
     "name": "stdout",
     "output_type": "stream",
     "text": [
      "Доля фильмов с указанной информацией о прокате в кинотеатрах: 0.42\n"
     ]
    }
   ],
   "source": [
    "df.query('box_office != 0')['show_start_year']\\\n",
    ".hist(bins=10, figsize=(8, 5), color='green')\n",
    "plt.title('Films distribution')\n",
    "plt.ylabel('Counts, a.u.')\n",
    "plt.xlabel('Year')\n",
    "plt.show()\n",
    "\n",
    "print('Доля фильмов с указанной информацией о прокате в кинотеатрах:',\\\n",
    "      round(len(df.query('box_office != 0')) / len(df), 2))"
   ]
  },
  {
   "cell_type": "markdown",
   "metadata": {},
   "source": [
    "Данные показывают, что доля фильмов с указанной информацией о прокате в кинотеатрах составляет примерно 42%. Кроме этого можно видеть, что с 2010 по 2015 г. происходил бурный рост числа фильмов в прокате, их количество за это время выросло примерно в 5 раз. Начиная с 2015 года ежегодное количество фильмов меняется слабо и находится на уровне 500 штук в год. Исключением является 2017 год, когда произошло снижение количества до 350 штук."
   ]
  },
  {
   "cell_type": "markdown",
   "metadata": {
    "id": "BEOdcIrIgFyW"
   },
   "source": [
    "- Изучите, как менялась динамика проката по годам. В каком году сумма сборов была минимальной? А максимальной?"
   ]
  },
  {
   "cell_type": "code",
   "execution_count": 44,
   "metadata": {
    "id": "tfEhofYvgFyX"
   },
   "outputs": [
    {
     "data": {
      "image/png": "[encoded data removed]",
      "text/plain": [
       "<Figure size 576x360 with 1 Axes>"
      ]
     },
     "metadata": {
      "needs_background": "light"
     },
     "output_type": "display_data"
    }
   ],
   "source": [
    "df.query('box_office != 0')\\\n",
    ".pivot_table(index='show_start_year', values='box_office', aggfunc='sum')\\\n",
    ".plot(style='bx-', figsize=(8, 5), linewidth=2, grid=True, legend=True)\n",
    "plt.title('Dynamics of film distribution')\n",
    "plt.ylabel('Amount of fees')\n",
    "plt.xlabel('Year')\n",
    "plt.show()"
   ]
  },
  {
   "cell_type": "markdown",
   "metadata": {},
   "source": [
    "Сумма сборов имеет тенденцию к росту, аналогичную ежегодному количеству фильмов. Из графика можно видеть, что минимальная сумма сборов была в 2010 году и практически не менялась до 2013 года. После 2013 года наблюдается интенсивный рост до 2016 года практически в 5 раз. После этого сумма сборов вышла на плато. Максимум сборов наблюдается в 2018 году."
   ]
  },
  {
   "cell_type": "markdown",
   "metadata": {
    "id": "G-7qS-N-gFyY"
   },
   "source": [
    "- С помощью сводной таблицы посчитайте среднюю и медианную сумму сборов для каждого года."
   ]
  },
  {
   "cell_type": "code",
   "execution_count": 45,
   "metadata": {
    "id": "jmp-rgg9gFyY"
   },
   "outputs": [
    {
     "data": {
      "image/png": "[encoded data removed]",
      "text/plain": [
       "<Figure size 576x360 with 1 Axes>"
      ]
     },
     "metadata": {
      "needs_background": "light"
     },
     "output_type": "display_data"
    }
   ],
   "source": [
    "df.query('box_office != 0')\\\n",
    ".pivot_table(index='show_start_year', values='box_office', aggfunc=('mean', 'median'))\\\n",
    ".plot(style={'mean':'bo-', 'median':'gx-'}, figsize=(8, 5), linewidth=2, grid=True, legend=True)\n",
    "plt.title('Mean and median of box office')\n",
    "plt.ylabel('Amount of fees')\n",
    "plt.xlabel('Year')\n",
    "plt.show()"
   ]
  },
  {
   "cell_type": "markdown",
   "metadata": {},
   "source": [
    "Сравнение среднего и медианного значения ежегодных сборов показывает, что начиная с 2014 года происходит быстрый рост среднего значения и намного более медленное увеличение медианного значения. Столь высокое превышение среднего значения над медианным, говорит о неравенстве сборов для фильмов. Вероятно, что начиная с 2014 года происходит увеличение количества блокбастеров в прокате, которые вносят основной вклад в величину сборов кинотеатров."
   ]
  },
  {
   "cell_type": "markdown",
   "metadata": {
    "id": "Ok89WFwJgFyZ"
   },
   "source": [
    "- Определите, влияет ли возрастное ограничение аудитории («6+», «12+», «16+», «18+» и т. д.) на сборы фильма в прокате в период с 2015 по 2019 год? Фильмы с каким возрастным ограничением собрали больше всего денег в прокате? Меняется ли картина в зависимости от года? Если да, предположите, с чем это может быть связано."
   ]
  },
  {
   "cell_type": "code",
   "execution_count": 46,
   "metadata": {},
   "outputs": [
    {
     "data": {
      "text/html": [
       "<div>\n",
       "<style scoped>\n",
       "    .dataframe tbody tr th:only-of-type {\n",
       "        vertical-align: middle;\n",
       "    }\n",
       "\n",
       "    .dataframe tbody tr th {\n",
       "        vertical-align: top;\n",
       "    }\n",
       "\n",
       "    .dataframe thead th {\n",
       "        text-align: right;\n",
       "    }\n",
       "</style>\n",
       "<table border=\"1\" class=\"dataframe\">\n",
       "  <thead>\n",
       "    <tr style=\"text-align: right;\">\n",
       "      <th></th>\n",
       "      <th>box_office</th>\n",
       "    </tr>\n",
       "    <tr>\n",
       "      <th>age_restriction</th>\n",
       "      <th></th>\n",
       "    </tr>\n",
       "  </thead>\n",
       "  <tbody>\n",
       "    <tr>\n",
       "      <td>«16+» - для детей старше 16 лет</td>\n",
       "      <td>76034733425</td>\n",
       "    </tr>\n",
       "    <tr>\n",
       "      <td>«12+» - для детей старше 12 лет</td>\n",
       "      <td>60619446530</td>\n",
       "    </tr>\n",
       "    <tr>\n",
       "      <td>«6+» - для детей старше 6 лет</td>\n",
       "      <td>55798610700</td>\n",
       "    </tr>\n",
       "    <tr>\n",
       "      <td>«18+» - запрещено для детей</td>\n",
       "      <td>40759615355</td>\n",
       "    </tr>\n",
       "    <tr>\n",
       "      <td>«0+» - для любой зрительской аудитории</td>\n",
       "      <td>809077403</td>\n",
       "    </tr>\n",
       "  </tbody>\n",
       "</table>\n",
       "</div>"
      ],
      "text/plain": [
       "                                         box_office\n",
       "age_restriction                                    \n",
       "«16+» - для детей старше 16 лет         76034733425\n",
       "«12+» - для детей старше 12 лет         60619446530\n",
       "«6+» - для детей старше 6 лет           55798610700\n",
       "«18+» - запрещено для детей             40759615355\n",
       "«0+» - для любой зрительской аудитории    809077403"
      ]
     },
     "execution_count": 46,
     "metadata": {},
     "output_type": "execute_result"
    }
   ],
   "source": [
    "df.query('box_office != 0 and 2019 >= show_start_year >= 2015')\\\n",
    ".pivot_table(index='age_restriction', values='box_office', aggfunc='sum')\\\n",
    ".sort_values(by='box_office', ascending=False)"
   ]
  },
  {
   "cell_type": "markdown",
   "metadata": {},
   "source": [
    "Данные показываю, что самыми кассовыми фильмами являются фильмы с возрастным ограничением 16+, второе место делят 12+ и 6+, на третьем месте 18+, а фильмы с ограничением 0+ показываю в разы меньшие сборы. Посмотрим связаны ли сборы с количеством фильмов, выходящих для каждого возрастного ограничения в исследуемый период."
   ]
  },
  {
   "cell_type": "code",
   "execution_count": 47,
   "metadata": {},
   "outputs": [
    {
     "data": {
      "text/plain": [
       "«16+» - для детей старше 16 лет           803\n",
       "«18+» - запрещено для детей               792\n",
       "«12+» - для детей старше 12 лет           347\n",
       "«6+» - для детей старше 6 лет             317\n",
       "«0+» - для любой зрительской аудитории     90\n",
       "Name: age_restriction, dtype: int64"
      ]
     },
     "execution_count": 47,
     "metadata": {},
     "output_type": "execute_result"
    }
   ],
   "source": [
    "df.query('box_office != 0 and 2019 >= show_start_year >= 2015')['age_restriction'].value_counts()"
   ]
  },
  {
   "cell_type": "markdown",
   "metadata": {},
   "source": [
    "Наиболее кассовые фильмы (16+) являются самыми многочисленными, а наименее (0+) кассовые - самыми малочисленными, что напрямую влияет на их сборы. Интересно отметить, что распространенность фильмов 18+ примерно соответствует распространенности фильмов 16+, но при этом они имеют меньшие сборы. Вероятно, что такие фильмы менее популярны у зрителей. Снижение сборов у фильмов 12+ и 6+ коррелирует с их меньшим количеством в прокате."
   ]
  },
  {
   "cell_type": "markdown",
   "metadata": {},
   "source": [
    "Посмотрим как меняется картина сборов в зависимости от года."
   ]
  },
  {
   "cell_type": "code",
   "execution_count": 48,
   "metadata": {
    "id": "jsSbEqfjgFya"
   },
   "outputs": [
    {
     "data": {
      "image/png": "[encoded data removed]",
      "text/plain": [
       "<Figure size 864x504 with 1 Axes>"
      ]
     },
     "metadata": {
      "needs_background": "light"
     },
     "output_type": "display_data"
    }
   ],
   "source": [
    "df.query('box_office != 0 and 2019 >= show_start_year >= 2015')\\\n",
    ".pivot_table(index='show_start_year', columns='age_restriction', values='box_office', aggfunc='sum')\\\n",
    ".plot(style='o-', figsize=(12, 7), linewidth=2, grid=True)\n",
    "plt.title('Dependence of box office on age restrictions')\n",
    "plt.ylabel('Sum amount of fees')\n",
    "plt.xlabel('Year')\n",
    "plt.xticks([2015, 2016, 2017, 2018, 2019])\n",
    "plt.legend(title='age_restriction', loc=(0.6, 0.15))\n",
    "plt.show()"
   ]
  },
  {
   "cell_type": "markdown",
   "metadata": {},
   "source": [
    "Из графика видно, что сумма сборов фильмов с рейтингом 16+ увеличивается с 2015 по 2017 год, достигает максимума и снижается к 2019 году. Вероятно, что данная особенность связана с изменением количества фильмов выходящих с данным рейтингом. Кроме этого можно видеть, что сборы фильмов 18+ плавно растут на протяжении всего периода, это может быть связано с повышением их популярности. Сборы фильмов 0+ находятся на одном уровне, а фильмов 12+ и 6+ изменяются без явной закономерности."
   ]
  },
  {
   "cell_type": "markdown",
   "metadata": {},
   "source": [
    "Для лучшего понимания ситуации, построим график медианных сборов для каждого жанра."
   ]
  },
  {
   "cell_type": "code",
   "execution_count": 49,
   "metadata": {
    "id": "jsSbEqfjgFya"
   },
   "outputs": [
    {
     "data": {
      "image/png": "[encoded data removed]",
      "text/plain": [
       "<Figure size 864x504 with 1 Axes>"
      ]
     },
     "metadata": {
      "needs_background": "light"
     },
     "output_type": "display_data"
    }
   ],
   "source": [
    "df.query('box_office != 0 and 2019 >= show_start_year >= 2015')\\\n",
    ".pivot_table(index='show_start_year', columns='age_restriction', values='box_office', aggfunc='median')\\\n",
    ".plot(style='o-', figsize=(12, 7), linewidth=2, grid=True)\n",
    "plt.title('Dependence of box office on age restrictions')\n",
    "plt.ylabel('Median amount of fees')\n",
    "plt.xlabel('Year')\n",
    "plt.xticks([2015, 2016, 2017, 2018, 2019])\n",
    "plt.legend(title='age_restriction', loc='upper right')\n",
    "plt.show()"
   ]
  },
  {
   "cell_type": "markdown",
   "metadata": {},
   "source": [
    "Из медианных значений сборов можно видеть, что сборы фильмов с возрастным рейтингом 12+, 16+, 18+ находятся примерно на одном уровне. Интересно отметить что фильмы с рейтингом 0+ и 6+ в 2017 году имеют в разы большие сборы. Данная особенность может быть связана с относительно большим количеством коммерчески успешных фильмов в этот период по сравнению с фильмами других возрастных рейтингов."
   ]
  },
  {
   "cell_type": "markdown",
   "metadata": {
    "id": "l_Kg6Ku4gFya"
   },
   "source": [
    "### Шаг 4. Исследуйте фильмы, которые получили государственную поддержку\n",
    "\n",
    "На этом этапе нет конкретных инструкций и заданий — поищите интересные закономерности в данных. Посмотрите, сколько выделяют средств на поддержку кино. Проверьте, хорошо ли окупаются такие фильмы, какой у них рейтинг."
   ]
  },
  {
   "cell_type": "markdown",
   "metadata": {},
   "source": [
    "Посмотрим какие источники финансирования есть в датафрейме."
   ]
  },
  {
   "cell_type": "code",
   "execution_count": 50,
   "metadata": {},
   "outputs": [
    {
     "data": {
      "text/plain": [
       "array(['неизвестно', 'министерство культуры', 'фонд кино',\n",
       "       'министерство культуры, фонд кино'], dtype=object)"
      ]
     },
     "execution_count": 50,
     "metadata": {},
     "output_type": "execute_result"
    }
   ],
   "source": [
    "df['financing_source'].unique()"
   ]
  },
  {
   "cell_type": "markdown",
   "metadata": {},
   "source": [
    "Вероятно, что к государственной поддержке можно отнести, как министерство культуры, так и фонд кино. Посмотрим как изменялось количество фильмов, получивших государственную поддержку по годам."
   ]
  },
  {
   "cell_type": "code",
   "execution_count": 51,
   "metadata": {},
   "outputs": [
    {
     "data": {
      "image/png": "[encoded data removed]",
      "text/plain": [
       "<Figure size 576x360 with 1 Axes>"
      ]
     },
     "metadata": {
      "needs_background": "light"
     },
     "output_type": "display_data"
    }
   ],
   "source": [
    "df.query('financing_source != \"неизвестно\"')['show_start_year'].hist(bins=7, figsize=(8, 5), color='green')\n",
    "plt.title('Distribution of films with government support')\n",
    "plt.ylabel('Counts, a.u.')\n",
    "plt.xlabel('Year')\n",
    "plt.show()"
   ]
  },
  {
   "cell_type": "markdown",
   "metadata": {},
   "source": [
    "Динамика выхода фильмов с государственной поддержкой схожа с общей динамикой проката. Также наблюдается резкий рост до 2015 года и последующая нормализация. Интересно отметить, что с 2015 года ежегодно примерно 60 фильмов получают гос. финансирование."
   ]
  },
  {
   "cell_type": "markdown",
   "metadata": {},
   "source": [
    " Посмотрим как изменялся объем средств, выделяемый по годам, а также средняя доля бюджетного финансирования. "
   ]
  },
  {
   "cell_type": "code",
   "execution_count": 52,
   "metadata": {},
   "outputs": [
    {
     "data": {
      "image/png": "[encoded data removed]",
      "text/plain": [
       "<Figure size 1296x432 with 2 Axes>"
      ]
     },
     "metadata": {
      "needs_background": "light"
     },
     "output_type": "display_data"
    }
   ],
   "source": [
    "ax1 = plt.subplot(1, 2, 1)\n",
    "df.query('financing_source != \"неизвестно\"')\\\n",
    ".pivot_table(index='show_start_year', values=['refundable_support', 'nonrefundable_support'], aggfunc='sum')\\\n",
    ".plot(style='o-', figsize=(18, 6), linewidth=2, grid=True, ax=ax1)\n",
    "plt.title('Amount of nonrefundable and refundable support')\n",
    "plt.ylabel('Amount of support')\n",
    "plt.xlabel('Year')\n",
    "\n",
    "ax2 = plt.subplot(1, 2, 2)\n",
    "df.query('financing_source != \"неизвестно\" and government_support != 0')\\\n",
    ".pivot_table(index='show_start_year', values='government_support', aggfunc='mean')\\\n",
    ".plot(style='gx-', figsize=(18, 6), linewidth=2, grid=True, ax=ax2)\n",
    "plt.title('Ratio of government support')\n",
    "plt.ylabel('Ratio of support')\n",
    "plt.ylim(0.3, 0.7)\n",
    "plt.xlabel('Year')\n",
    "plt.show()"
   ]
  },
  {
   "cell_type": "markdown",
   "metadata": {},
   "source": [
    "Можно видеть как со временем растет величина возвратного и невозвратного финансирования, при сохранении доли государственной поддержки на уровне в среднем 55%. Вероятно, что происходит удорожание производства фильмов, а лимиты поддержки на них определяются долей от общего бюджета а не конкретной величиной. Также можно видеть, что невозвратное финансирование имеет большую величину по сравнению с возвратным и растет большими темпапи. "
   ]
  },
  {
   "cell_type": "markdown",
   "metadata": {},
   "source": [
    "Проверим, хорошо ли окупаются фильмы с господдержкой и, какой у них рейтинг."
   ]
  },
  {
   "cell_type": "code",
   "execution_count": 53,
   "metadata": {},
   "outputs": [
    {
     "data": {
      "image/png": "[encoded data removed]",
      "text/plain": [
       "<Figure size 1296x432 with 2 Axes>"
      ]
     },
     "metadata": {
      "needs_background": "light"
     },
     "output_type": "display_data"
    }
   ],
   "source": [
    "# создадим столбец с окупаемостью фильмов\n",
    "df['pay_back'] = df['box_office'] - df['budget']\n",
    "\n",
    "ax1 = plt.subplot(1, 2, 1)\n",
    "df.query('box_office != 0 and budget != 0  and financing_source != \"неизвестно\"')\\\n",
    ".pivot_table(index='show_start_year', values='pay_back', aggfunc='sum')\\\n",
    ".plot(style='bo-', figsize=(18, 6), linewidth=2, grid=True, legend=True, ax=ax1)\n",
    "plt.title('Payback of films with government support')\n",
    "plt.ylabel('Amount of fees')\n",
    "plt.xlabel('Year')\n",
    "\n",
    "ax2 = plt.subplot(1, 2, 2)\n",
    "df.query('box_office != 0 and budget != 0 and ratings!=0 and financing_source != \"неизвестно\"')\\\n",
    ".pivot_table(index='show_start_year', values='ratings', aggfunc='mean')\\\n",
    ".plot(style='gx-', figsize=(18, 6), linewidth=2, grid=True, legend=True, ax=ax2)\n",
    "plt.title('Rating of films with government support')\n",
    "plt.ylabel('Mean rating')\n",
    "plt.xlabel('Year')\n",
    "plt.ylim(4, 8)\n",
    "plt.show()"
   ]
  },
  {
   "cell_type": "markdown",
   "metadata": {},
   "source": [
    "Можно видеть, что на всем периоде наблюдений только два года (2017, 2018) были успешными для фильмов с государственной поддержкой, что говорит о слабой окупаемости таких фильмов. Оценки фильмов с государственным финансированием слабо меняются год к году и в среднем находятся на уровне 6 баллов. Посмотрим как меняется средний бал фильмов с положительной и отрицательной оккупаемостью."
   ]
  },
  {
   "cell_type": "code",
   "execution_count": 54,
   "metadata": {},
   "outputs": [
    {
     "data": {
      "image/png": "[encoded data removed]",
      "text/plain": [
       "<Figure size 1296x432 with 2 Axes>"
      ]
     },
     "metadata": {
      "needs_background": "light"
     },
     "output_type": "display_data"
    }
   ],
   "source": [
    "ax1 = plt.subplot(1, 2, 1)\n",
    "df.query('box_office != 0 and ratings!=0 and financing_source != \"неизвестно\" and pay_back <= 0')\\\n",
    ".pivot_table(index='show_start_year', values='ratings', aggfunc='mean')\\\n",
    ".plot(style='ro-', figsize=(18, 6), linewidth=2, grid=True, legend=True, ax=ax1)\n",
    "plt.title('Rating of films with negative pay back')\n",
    "plt.ylabel('Mean rating')\n",
    "plt.xlabel('Year')\n",
    "plt.ylim(4, 8)\n",
    "\n",
    "ax2 = plt.subplot(1, 2, 2)\n",
    "df.query('box_office != 0 and ratings!=0 and financing_source != \"неизвестно\" and pay_back > 0')\\\n",
    ".pivot_table(index='show_start_year', values='ratings', aggfunc='mean')\\\n",
    ".plot(style='go-', figsize=(18, 6), linewidth=2, grid=True, legend=True, ax=ax2)\n",
    "plt.title('Rating of films with positive pay back')\n",
    "plt.ylabel('Mean rating')\n",
    "plt.xlabel('Year')\n",
    "plt.ylim(4, 8)\n",
    "plt.show()"
   ]
  },
  {
   "cell_type": "markdown",
   "metadata": {},
   "source": [
    "Можно видеть, что оценки фильмов успешных и неуспешных в прокате находятся на одном уровне и соответствуют средним оценкам для всех фильмов с государственной поддержкой (6 баллов). Можно сказать, что в данном случае оценка фильма является плохим показателем для определения его коммерческой успешности."
   ]
  },
  {
   "cell_type": "markdown",
   "metadata": {},
   "source": [
    "Посмотрим как меняется окупаемость фильмов в зависимости от режиссера или жанра."
   ]
  },
  {
   "cell_type": "code",
   "execution_count": 55,
   "metadata": {},
   "outputs": [
    {
     "data": {
      "text/html": [
       "<div>\n",
       "<style scoped>\n",
       "    .dataframe tbody tr th:only-of-type {\n",
       "        vertical-align: middle;\n",
       "    }\n",
       "\n",
       "    .dataframe tbody tr th {\n",
       "        vertical-align: top;\n",
       "    }\n",
       "\n",
       "    .dataframe thead th {\n",
       "        text-align: right;\n",
       "    }\n",
       "</style>\n",
       "<table border=\"1\" class=\"dataframe\">\n",
       "  <thead>\n",
       "    <tr style=\"text-align: right;\">\n",
       "      <th></th>\n",
       "      <th>pay_back</th>\n",
       "    </tr>\n",
       "    <tr>\n",
       "      <th>main_director</th>\n",
       "      <th></th>\n",
       "    </tr>\n",
       "  </thead>\n",
       "  <tbody>\n",
       "    <tr>\n",
       "      <td>ф.бондарчук</td>\n",
       "      <td>7.883215e+08</td>\n",
       "    </tr>\n",
       "    <tr>\n",
       "      <td>к.шипенко</td>\n",
       "      <td>1.040947e+09</td>\n",
       "    </tr>\n",
       "    <tr>\n",
       "      <td>о.трофим</td>\n",
       "      <td>1.297147e+09</td>\n",
       "    </tr>\n",
       "    <tr>\n",
       "      <td>а.сидоров</td>\n",
       "      <td>1.707969e+09</td>\n",
       "    </tr>\n",
       "    <tr>\n",
       "      <td>а.мегердичев</td>\n",
       "      <td>2.189494e+09</td>\n",
       "    </tr>\n",
       "  </tbody>\n",
       "</table>\n",
       "</div>"
      ],
      "text/plain": [
       "                   pay_back\n",
       "main_director              \n",
       "ф.бондарчук    7.883215e+08\n",
       "к.шипенко      1.040947e+09\n",
       "о.трофим       1.297147e+09\n",
       "а.сидоров      1.707969e+09\n",
       "а.мегердичев   2.189494e+09"
      ]
     },
     "execution_count": 55,
     "metadata": {},
     "output_type": "execute_result"
    }
   ],
   "source": [
    "df.query('box_office != 0 and budget != 0 and financing_source != \"неизвестно\"')\\\n",
    ".pivot_table(index='main_director', values='pay_back', aggfunc='mean')\\\n",
    ".sort_values(by='pay_back', ascending=True)\\\n",
    ".tail()\\"
   ]
  },
  {
   "cell_type": "code",
   "execution_count": 56,
   "metadata": {},
   "outputs": [
    {
     "data": {
      "image/png": "[encoded data removed]",
      "text/plain": [
       "<Figure size 1296x1440 with 4 Axes>"
      ]
     },
     "metadata": {
      "needs_background": "light"
     },
     "output_type": "display_data"
    }
   ],
   "source": [
    "ax1 = plt.subplot(2, 2, 1)\n",
    "df.query('box_office != 0 and budget != 0 and financing_source != \"неизвестно\"')\\\n",
    ".pivot_table(index='main_director', values='pay_back', aggfunc='mean')\\\n",
    ".sort_values(by='pay_back', ascending=True)\\\n",
    ".tail()\\\n",
    ".plot(kind='barh', y='pay_back', legend=False, ax=ax1, figsize=(18, 20), color='g')\n",
    "plt.title('Director with max pay back')\n",
    "plt.xlabel('Mean pay back')\n",
    "plt.ylabel('')\n",
    "\n",
    "ax2 = plt.subplot(2, 2, 2)\n",
    "df.query('box_office != 0 and budget != 0 and financing_source != \"неизвестно\"')\\\n",
    ".pivot_table(index='main_director', values='pay_back', aggfunc='mean')\\\n",
    ".sort_values(by='pay_back', ascending=False)\\\n",
    ".tail()\\\n",
    ".plot(kind='barh', y='pay_back', legend=False, ax=ax2, figsize=(18, 20), color='r')\n",
    "plt.title('Director with min pay back')\n",
    "plt.xlabel('Mean pay back')\n",
    "plt.ylabel('')\n",
    "\n",
    "ax3 = plt.subplot(2, 2, 3)\n",
    "df.query('box_office != 0 and budget != 0 and financing_source != \"неизвестно\" and main_genre != \"неизвестно\"')\\\n",
    ".pivot_table(index='main_genre', values='pay_back', aggfunc='mean')\\\n",
    ".sort_values(by='pay_back', ascending=True)\\\n",
    ".tail()\\\n",
    ".plot(kind='barh', y='pay_back', legend=False, ax=ax3, figsize=(18, 20), color='g')\n",
    "plt.title('Genre with max pay back')\n",
    "plt.xlabel('Mean pay back')\n",
    "plt.ylabel('')\n",
    "\n",
    "ax4 = plt.subplot(2, 2, 4)\n",
    "df.query('box_office != 0 and budget != 0 and financing_source != \"неизвестно\" and main_genre != \"неизвестно\"')\\\n",
    ".pivot_table(index='main_genre', values='pay_back', aggfunc='mean')\\\n",
    ".sort_values(by='pay_back', ascending=False)\\\n",
    ".tail()\\\n",
    ".plot(kind='barh', y='pay_back', legend=False, ax=ax4, figsize=(18, 20), color='r')\n",
    "plt.title('Genre with min pay back')\n",
    "plt.xlabel('Mean pay back')\n",
    "plt.ylabel('')\n",
    "plt.show()"
   ]
  },
  {
   "cell_type": "markdown",
   "metadata": {},
   "source": [
    "Как можно видеть из средних оценок, самыми коммерчески успешными являются работы таких режиссеров как Мегердичев, Сидоров, Трофим, Шипенко, Бондарчук и таких жанров как спорт, комедия, фантастика, ужасы, семейный. В противоположность этому самыми комерчески неуспешными являются работы режиссеров: Степченко, Кончаловский, Учитель, Мельник, Зайцев, а также жанров: приключения, детектив, история, фэнтези, мюзикл. Вероятно, что для повышения окупаемости фильмов с гос. финансированием нужно оказывать поддержку фильмам, сделанным режиссерами с большей окупаемостью и имеющим более востребованный жанр."
   ]
  },
  {
   "cell_type": "markdown",
   "metadata": {},
   "source": [
    "Для того, чтобы лучше раскрыть тему окупаемости фильмов по режиссерам и жанрам, построим столбчатые диаграммы также и для медианных значений."
   ]
  },
  {
   "cell_type": "code",
   "execution_count": 57,
   "metadata": {},
   "outputs": [
    {
     "data": {
      "image/png": "[encoded data removed]",
      "text/plain": [
       "<Figure size 1296x1440 with 4 Axes>"
      ]
     },
     "metadata": {
      "needs_background": "light"
     },
     "output_type": "display_data"
    }
   ],
   "source": [
    "ax1 = plt.subplot(2, 2, 1)\n",
    "df.query('box_office != 0 and budget != 0 and financing_source != \"неизвестно\"')\\\n",
    ".pivot_table(index='main_director', values='pay_back', aggfunc='median')\\\n",
    ".sort_values(by='pay_back', ascending=True)\\\n",
    ".tail()\\\n",
    ".plot(kind='barh', y='pay_back', legend=False, ax=ax1, figsize=(18, 20), color='g')\n",
    "plt.title('Director with max pay back')\n",
    "plt.xlabel('Median pay back')\n",
    "plt.ylabel('')\n",
    "\n",
    "ax2 = plt.subplot(2, 2, 2)\n",
    "df.query('box_office != 0 and budget != 0 and financing_source != \"неизвестно\"')\\\n",
    ".pivot_table(index='main_director', values='pay_back', aggfunc='median')\\\n",
    ".sort_values(by='pay_back', ascending=False)\\\n",
    ".tail()\\\n",
    ".plot(kind='barh', y='pay_back', legend=False, ax=ax2, figsize=(18, 20), color='r')\n",
    "plt.title('Director with min pay back')\n",
    "plt.xlabel('Median pay back')\n",
    "plt.ylabel('')\n",
    "\n",
    "ax3 = plt.subplot(2, 2, 3)\n",
    "df.query('box_office != 0 and budget != 0 and financing_source != \"неизвестно\" and main_genre != \"неизвестно\"')\\\n",
    ".pivot_table(index='main_genre', values='pay_back', aggfunc='median')\\\n",
    ".sort_values(by='pay_back', ascending=True)\\\n",
    ".tail()\\\n",
    ".plot(kind='barh', y='pay_back', legend=False, ax=ax3, figsize=(18, 20), color='g')\n",
    "plt.title('Genre with max pay back')\n",
    "plt.xlabel('Median pay back')\n",
    "plt.ylabel('')\n",
    "\n",
    "ax4 = plt.subplot(2, 2, 4)\n",
    "df.query('box_office != 0 and budget != 0 and financing_source != \"неизвестно\" and main_genre != \"неизвестно\"')\\\n",
    ".pivot_table(index='main_genre', values='pay_back', aggfunc='median')\\\n",
    ".sort_values(by='pay_back', ascending=False)\\\n",
    ".tail()\\\n",
    ".plot(kind='barh', y='pay_back', legend=False, ax=ax4, figsize=(18, 20), color='r')\n",
    "plt.title('Genre with min pay back')\n",
    "plt.xlabel('Median pay back')\n",
    "plt.ylabel('')\n",
    "plt.show()"
   ]
  },
  {
   "cell_type": "markdown",
   "metadata": {},
   "source": [
    "Медианные значения показывают, что режиссеры Мегердичев, Сидоров, Трофим, Бондарчук кроме высоких средних значений также имеют высокие медианные показатели, что говорит о значительной доле коммерчески удачных фильмов в их фильмографии и стабильности результатов. Антирейтинг режиссеров с низкой окупаемостью также подтвержается и медианными значениями. Интересно отметить что среди жанров с наибольшими значениями окупаемости только жанр спорт является комерчески успешным. Такие жанры как ужасы, семейный, комедия, боевик имеют как минимум половину фильмов с отрицательным результатом. Наиболее неудачными в комерческом плане по значению медианных величин являются: история, детектив, мюзикл, триллер, военный, что больше чем на половину соответствует оценкам полученным из средних значений."
   ]
  },
  {
   "cell_type": "markdown",
   "metadata": {
    "id": "V2gYwMcPgFyd"
   },
   "source": [
    "### Шаг 5. Напишите общий вывод"
   ]
  },
  {
   "cell_type": "markdown",
   "metadata": {
    "id": "AYRg3dzXgFye"
   },
   "source": [
    "В результате проделанной работы можно сделать следующие выводы:\n",
    "\n",
    "- С 2010 по 2015 г. происходил бурный рост числа фильмов в прокате, их количество за это время выросло примерно в 5 раз. Начиная с 2015 года ежегодное количество фильмов меняется слабо и находится на уровне 500 штук в год.\n",
    "- Сумма сборов имеет тенденцию к росту, аналогичную ежегодному количеству фильмов, максимум сборов наблюдался в 2018 году.\n",
    "- Сравнение среднего и медианного значения ежегодных сборов показывает, быстрый рост среднего значения и медленное увеличение медианного. Это может говорить о высоком неравенстве сборов для фильмов и большом влиянии блокбастеров на величину сборов кинотеатров.\n",
    "- Самыми кассовыми и распространенными фильмами являются фильмы с возрастным ограничением 16+, а их полной противоположностью фильмы с возрастным ограничением 0+.\n",
    "- Динамика выхода фильмов с государственной поддержкой схожа с общей динамикой проката, начиная с 2015 г. ежегодно около 60 фильмов получают гос. финансирование.\n",
    "- Со временем растет величина возвратного и невозвратного финансирования, при сохранении доли государственной поддержки на уровне в среднем 55%. Невозвратное финансирование имеет большую долю в бюджете фильма по сравнению с возвратным.\n",
    "- На исследованном промежутке только два года (2017, 2018) были успешными для фильмов с государственной поддержкой, что говорит о слабой окупаемости таких фильмов.\n",
    "- Оценки фильмов (с гос. поддержкой) успешных и неуспешных в прокате находятся на одном уровне и соответствуют средним оценкам для всех фильмов с государственной поддержкой (6 баллов). Можно сказать, что в данном случае оценка фильма является плохим показателем для определения его коммерческой успешности.\n",
    "- Наиболее коммерчески успешными являются работы таких режиссеров как Мегердичев, Сидоров, Трофим, Шипенко, Бондарчук и таких жанров как спорт, комедия, фантастика, ужасы, семейный. В противоположность этому самыми комерчески неуспешными являются работы режиссеров: Степченко, Кончаловский, Учитель, Мельник, Зайцев, а также жанров: приключения, детектив, история, фэнтези, мюзикл. Возможно, что для повышения окупаемости фильмов с гос. финансированием нужно оказывать поддержку фильмам, сделанным режиссерами с большей величиной сборов и имеющим более востребованный жанр."
   ]
  },
  {
   "cell_type": "code",
   "execution_count": null,
   "metadata": {},
   "outputs": [],
   "source": []
  }
 ],
 "metadata": {
  "ExecuteTimeLog": [
   {
    "duration": 537,
    "start_time": "2021-07-07T10:12:08.634Z"
   },
   {
    "duration": 206,
    "start_time": "2021-07-07T10:12:30.191Z"
   },
   {
    "duration": 227,
    "start_time": "2021-07-07T10:12:33.078Z"
   },
   {
    "duration": 153,
    "start_time": "2021-07-07T10:13:42.146Z"
   },
   {
    "duration": 233,
    "start_time": "2021-07-07T10:30:09.252Z"
   },
   {
    "duration": 19,
    "start_time": "2021-07-07T10:30:15.577Z"
   },
   {
    "duration": 18,
    "start_time": "2021-07-07T10:30:57.348Z"
   },
   {
    "duration": 19,
    "start_time": "2021-07-07T10:31:17.452Z"
   },
   {
    "duration": 21,
    "start_time": "2021-07-07T10:31:32.227Z"
   },
   {
    "duration": 27,
    "start_time": "2021-07-07T10:32:06.588Z"
   },
   {
    "duration": 23,
    "start_time": "2021-07-07T10:32:43.645Z"
   },
   {
    "duration": 24,
    "start_time": "2021-07-07T10:33:06.948Z"
   },
   {
    "duration": 7,
    "start_time": "2021-07-07T10:33:28.558Z"
   },
   {
    "duration": 23,
    "start_time": "2021-07-07T10:33:43.761Z"
   },
   {
    "duration": 28,
    "start_time": "2021-07-07T10:34:13.466Z"
   },
   {
    "duration": 23,
    "start_time": "2021-07-07T10:35:56.187Z"
   },
   {
    "duration": 6,
    "start_time": "2021-07-07T10:36:48.182Z"
   },
   {
    "duration": 14,
    "start_time": "2021-07-07T10:37:49.641Z"
   },
   {
    "duration": 6,
    "start_time": "2021-07-07T10:38:06.694Z"
   },
   {
    "duration": 6,
    "start_time": "2021-07-07T10:38:13.493Z"
   },
   {
    "duration": 19,
    "start_time": "2021-07-07T10:38:44.056Z"
   },
   {
    "duration": 186,
    "start_time": "2021-07-07T10:48:35.618Z"
   },
   {
    "duration": 24,
    "start_time": "2021-07-07T10:48:51.498Z"
   },
   {
    "duration": 20,
    "start_time": "2021-07-07T10:48:59.415Z"
   },
   {
    "duration": 20,
    "start_time": "2021-07-07T10:53:02.195Z"
   },
   {
    "duration": 188,
    "start_time": "2021-07-07T10:54:40.486Z"
   },
   {
    "duration": 115,
    "start_time": "2021-07-07T10:54:52.552Z"
   },
   {
    "duration": 214,
    "start_time": "2021-07-07T10:54:56.354Z"
   },
   {
    "duration": 47,
    "start_time": "2021-07-07T10:54:58.282Z"
   },
   {
    "duration": 217,
    "start_time": "2021-07-07T10:59:16.075Z"
   },
   {
    "duration": 51,
    "start_time": "2021-07-07T10:59:16.243Z"
   },
   {
    "duration": 578,
    "start_time": "2021-07-07T10:59:18.774Z"
   },
   {
    "duration": 161,
    "start_time": "2021-07-07T10:59:21.238Z"
   },
   {
    "duration": 59,
    "start_time": "2021-07-07T10:59:21.453Z"
   },
   {
    "duration": 3,
    "start_time": "2021-07-07T11:02:10.786Z"
   },
   {
    "duration": 13,
    "start_time": "2021-07-07T11:07:07.722Z"
   },
   {
    "duration": 26,
    "start_time": "2021-07-07T11:07:17.958Z"
   },
   {
    "duration": 22,
    "start_time": "2021-07-07T11:08:17.939Z"
   },
   {
    "duration": 212,
    "start_time": "2021-07-07T11:08:19.665Z"
   },
   {
    "duration": 21,
    "start_time": "2021-07-07T11:08:29.945Z"
   },
   {
    "duration": 31,
    "start_time": "2021-07-07T11:08:38.899Z"
   },
   {
    "duration": 23,
    "start_time": "2021-07-07T11:08:54.527Z"
   },
   {
    "duration": 8,
    "start_time": "2021-07-07T11:18:55.974Z"
   },
   {
    "duration": 7,
    "start_time": "2021-07-07T11:19:03.639Z"
   },
   {
    "duration": 7,
    "start_time": "2021-07-07T11:19:06.444Z"
   },
   {
    "duration": 578,
    "start_time": "2021-07-07T12:09:59.576Z"
   },
   {
    "duration": 195,
    "start_time": "2021-07-07T12:10:00.156Z"
   },
   {
    "duration": 115,
    "start_time": "2021-07-07T12:10:00.353Z"
   },
   {
    "duration": 3,
    "start_time": "2021-07-07T12:10:00.470Z"
   },
   {
    "duration": 32,
    "start_time": "2021-07-07T12:10:00.474Z"
   },
   {
    "duration": 23,
    "start_time": "2021-07-07T12:10:00.508Z"
   },
   {
    "duration": 19,
    "start_time": "2021-07-07T12:10:00.533Z"
   },
   {
    "duration": 44,
    "start_time": "2021-07-07T12:10:00.553Z"
   },
   {
    "duration": 7,
    "start_time": "2021-07-07T12:10:00.600Z"
   },
   {
    "duration": 7,
    "start_time": "2021-07-07T12:19:45.761Z"
   },
   {
    "duration": 21,
    "start_time": "2021-07-07T12:21:35.482Z"
   },
   {
    "duration": 21,
    "start_time": "2021-07-07T12:29:23.569Z"
   },
   {
    "duration": 525,
    "start_time": "2021-07-07T12:29:44.542Z"
   },
   {
    "duration": 214,
    "start_time": "2021-07-07T12:29:45.069Z"
   },
   {
    "duration": 92,
    "start_time": "2021-07-07T12:29:45.285Z"
   },
   {
    "duration": 3,
    "start_time": "2021-07-07T12:29:45.379Z"
   },
   {
    "duration": 28,
    "start_time": "2021-07-07T12:29:45.384Z"
   },
   {
    "duration": 23,
    "start_time": "2021-07-07T12:29:45.413Z"
   },
   {
    "duration": 21,
    "start_time": "2021-07-07T12:29:45.437Z"
   },
   {
    "duration": 41,
    "start_time": "2021-07-07T12:29:45.460Z"
   },
   {
    "duration": 7,
    "start_time": "2021-07-07T12:29:45.502Z"
   },
   {
    "duration": 20,
    "start_time": "2021-07-07T12:29:45.511Z"
   },
   {
    "duration": 12,
    "start_time": "2021-07-07T12:34:02.800Z"
   },
   {
    "duration": 7,
    "start_time": "2021-07-07T12:35:10.479Z"
   },
   {
    "duration": 8,
    "start_time": "2021-07-07T12:35:22.440Z"
   },
   {
    "duration": 6,
    "start_time": "2021-07-07T12:35:35.649Z"
   },
   {
    "duration": 6,
    "start_time": "2021-07-07T12:35:43.107Z"
   },
   {
    "duration": 22,
    "start_time": "2021-07-07T12:38:03.029Z"
   },
   {
    "duration": 10,
    "start_time": "2021-07-07T12:38:06.592Z"
   },
   {
    "duration": 563,
    "start_time": "2021-07-07T12:38:46.493Z"
   },
   {
    "duration": 265,
    "start_time": "2021-07-07T12:38:47.058Z"
   },
   {
    "duration": 94,
    "start_time": "2021-07-07T12:38:47.325Z"
   },
   {
    "duration": 3,
    "start_time": "2021-07-07T12:38:47.422Z"
   },
   {
    "duration": 30,
    "start_time": "2021-07-07T12:38:47.427Z"
   },
   {
    "duration": 16,
    "start_time": "2021-07-07T12:38:53.305Z"
   },
   {
    "duration": 10,
    "start_time": "2021-07-07T12:38:53.499Z"
   },
   {
    "duration": 8,
    "start_time": "2021-07-07T12:39:48.161Z"
   },
   {
    "duration": 27,
    "start_time": "2021-07-07T12:41:17.629Z"
   },
   {
    "duration": 17,
    "start_time": "2021-07-07T12:41:17.867Z"
   },
   {
    "duration": 21,
    "start_time": "2021-07-07T12:41:19.310Z"
   },
   {
    "duration": 7,
    "start_time": "2021-07-07T12:41:19.544Z"
   },
   {
    "duration": 20,
    "start_time": "2021-07-07T12:41:20.504Z"
   },
   {
    "duration": 554,
    "start_time": "2021-07-07T12:56:23.696Z"
   },
   {
    "duration": 200,
    "start_time": "2021-07-07T12:56:25.234Z"
   },
   {
    "duration": 119,
    "start_time": "2021-07-07T12:56:25.480Z"
   },
   {
    "duration": 4,
    "start_time": "2021-07-07T12:56:25.762Z"
   },
   {
    "duration": 26,
    "start_time": "2021-07-07T12:56:27.172Z"
   },
   {
    "duration": 12,
    "start_time": "2021-07-07T12:56:29.051Z"
   },
   {
    "duration": 10,
    "start_time": "2021-07-07T12:56:29.291Z"
   },
   {
    "duration": 8,
    "start_time": "2021-07-07T12:56:29.623Z"
   },
   {
    "duration": 28,
    "start_time": "2021-07-07T12:56:32.137Z"
   },
   {
    "duration": 19,
    "start_time": "2021-07-07T12:56:39.785Z"
   },
   {
    "duration": 20,
    "start_time": "2021-07-07T12:56:44.297Z"
   },
   {
    "duration": 7,
    "start_time": "2021-07-07T12:56:45.392Z"
   },
   {
    "duration": 23,
    "start_time": "2021-07-07T12:56:46.615Z"
   },
   {
    "duration": 4,
    "start_time": "2021-07-07T12:57:06.625Z"
   },
   {
    "duration": 32,
    "start_time": "2021-07-07T12:57:36.690Z"
   },
   {
    "duration": 18,
    "start_time": "2021-07-07T12:58:00.149Z"
   },
   {
    "duration": 15,
    "start_time": "2021-07-07T12:59:16.793Z"
   },
   {
    "duration": 7,
    "start_time": "2021-07-07T13:19:22.624Z"
   },
   {
    "duration": 6,
    "start_time": "2021-07-07T14:17:33.527Z"
   },
   {
    "duration": 9,
    "start_time": "2021-07-07T14:17:48.409Z"
   },
   {
    "duration": 8,
    "start_time": "2021-07-07T14:20:13.060Z"
   },
   {
    "duration": 8,
    "start_time": "2021-07-07T14:20:37.957Z"
   },
   {
    "duration": 8,
    "start_time": "2021-07-07T14:20:47.470Z"
   },
   {
    "duration": 9,
    "start_time": "2021-07-07T14:20:54.503Z"
   },
   {
    "duration": 10,
    "start_time": "2021-07-07T14:28:57.763Z"
   },
   {
    "duration": 3,
    "start_time": "2021-07-07T14:30:23.377Z"
   },
   {
    "duration": 3,
    "start_time": "2021-07-07T14:30:36.489Z"
   },
   {
    "duration": 103,
    "start_time": "2021-07-07T14:30:52.351Z"
   },
   {
    "duration": 8,
    "start_time": "2021-07-07T14:30:54.763Z"
   },
   {
    "duration": 8,
    "start_time": "2021-07-07T14:31:29.301Z"
   },
   {
    "duration": 13,
    "start_time": "2021-07-07T14:31:44.516Z"
   },
   {
    "duration": 7,
    "start_time": "2021-07-07T14:33:10.972Z"
   },
   {
    "duration": 11,
    "start_time": "2021-07-07T14:33:27.780Z"
   },
   {
    "duration": 8,
    "start_time": "2021-07-07T14:34:44.588Z"
   },
   {
    "duration": 57,
    "start_time": "2021-07-07T14:35:59.042Z"
   },
   {
    "duration": 3,
    "start_time": "2021-07-07T14:36:28.168Z"
   },
   {
    "duration": 5,
    "start_time": "2021-07-07T14:36:46.254Z"
   },
   {
    "duration": 4,
    "start_time": "2021-07-07T14:36:52.714Z"
   },
   {
    "duration": 3,
    "start_time": "2021-07-07T14:36:56.612Z"
   },
   {
    "duration": 4,
    "start_time": "2021-07-07T14:36:57.049Z"
   },
   {
    "duration": 3,
    "start_time": "2021-07-07T14:39:21.214Z"
   },
   {
    "duration": 7,
    "start_time": "2021-07-07T14:39:52.406Z"
   },
   {
    "duration": 11,
    "start_time": "2021-07-07T14:39:58.576Z"
   },
   {
    "duration": 9,
    "start_time": "2021-07-07T14:40:26.301Z"
   },
   {
    "duration": 10,
    "start_time": "2021-07-07T14:40:31.704Z"
   },
   {
    "duration": 11,
    "start_time": "2021-07-07T14:40:36.249Z"
   },
   {
    "duration": 10,
    "start_time": "2021-07-07T14:40:39.783Z"
   },
   {
    "duration": 9,
    "start_time": "2021-07-07T14:40:48.558Z"
   },
   {
    "duration": 10,
    "start_time": "2021-07-07T14:40:57.143Z"
   },
   {
    "duration": 9,
    "start_time": "2021-07-07T14:41:06.074Z"
   },
   {
    "duration": 4324,
    "start_time": "2021-07-07T14:41:22.004Z"
   },
   {
    "duration": 11,
    "start_time": "2021-07-07T14:41:33.392Z"
   },
   {
    "duration": 9,
    "start_time": "2021-07-07T14:41:39.288Z"
   },
   {
    "duration": 569,
    "start_time": "2021-07-07T14:42:14.387Z"
   },
   {
    "duration": 197,
    "start_time": "2021-07-07T14:42:14.959Z"
   },
   {
    "duration": 84,
    "start_time": "2021-07-07T14:42:16.052Z"
   },
   {
    "duration": 4,
    "start_time": "2021-07-07T14:42:16.900Z"
   },
   {
    "duration": 27,
    "start_time": "2021-07-07T14:42:19.898Z"
   },
   {
    "duration": 12,
    "start_time": "2021-07-07T14:42:21.577Z"
   },
   {
    "duration": 9,
    "start_time": "2021-07-07T14:42:21.813Z"
   },
   {
    "duration": 9,
    "start_time": "2021-07-07T14:42:22.569Z"
   },
   {
    "duration": 29,
    "start_time": "2021-07-07T14:42:25.837Z"
   },
   {
    "duration": 20,
    "start_time": "2021-07-07T14:42:27.003Z"
   },
   {
    "duration": 21,
    "start_time": "2021-07-07T14:42:28.767Z"
   },
   {
    "duration": 7,
    "start_time": "2021-07-07T14:42:29.838Z"
   },
   {
    "duration": 4,
    "start_time": "2021-07-07T14:43:25.493Z"
   },
   {
    "duration": 7,
    "start_time": "2021-07-07T14:43:26.573Z"
   },
   {
    "duration": 10,
    "start_time": "2021-07-07T14:43:31.639Z"
   },
   {
    "duration": 9,
    "start_time": "2021-07-07T14:43:32.046Z"
   },
   {
    "duration": 10,
    "start_time": "2021-07-07T14:43:33.301Z"
   },
   {
    "duration": 12,
    "start_time": "2021-07-07T14:43:33.658Z"
   },
   {
    "duration": 8,
    "start_time": "2021-07-07T14:43:34.552Z"
   },
   {
    "duration": 9,
    "start_time": "2021-07-07T14:43:35.058Z"
   },
   {
    "duration": 12,
    "start_time": "2021-07-07T14:43:35.914Z"
   },
   {
    "duration": 17,
    "start_time": "2021-07-07T14:45:34.368Z"
   },
   {
    "duration": 512,
    "start_time": "2021-07-07T14:51:58.236Z"
   },
   {
    "duration": 223,
    "start_time": "2021-07-07T14:51:58.750Z"
   },
   {
    "duration": 93,
    "start_time": "2021-07-07T14:51:58.977Z"
   },
   {
    "duration": 4,
    "start_time": "2021-07-07T14:51:59.071Z"
   },
   {
    "duration": 37,
    "start_time": "2021-07-07T14:51:59.077Z"
   },
   {
    "duration": 18,
    "start_time": "2021-07-07T14:51:59.116Z"
   },
   {
    "duration": 10,
    "start_time": "2021-07-07T14:51:59.137Z"
   },
   {
    "duration": 8,
    "start_time": "2021-07-07T14:51:59.149Z"
   },
   {
    "duration": 54,
    "start_time": "2021-07-07T14:51:59.158Z"
   },
   {
    "duration": 18,
    "start_time": "2021-07-07T14:51:59.213Z"
   },
   {
    "duration": 22,
    "start_time": "2021-07-07T14:51:59.232Z"
   },
   {
    "duration": 36,
    "start_time": "2021-07-07T14:51:59.255Z"
   },
   {
    "duration": 7,
    "start_time": "2021-07-07T14:51:59.293Z"
   },
   {
    "duration": 10,
    "start_time": "2021-07-07T14:51:59.302Z"
   },
   {
    "duration": 9,
    "start_time": "2021-07-07T14:51:59.313Z"
   },
   {
    "duration": 11,
    "start_time": "2021-07-07T14:51:59.324Z"
   },
   {
    "duration": 8,
    "start_time": "2021-07-07T14:51:59.337Z"
   },
   {
    "duration": 46,
    "start_time": "2021-07-07T14:51:59.347Z"
   },
   {
    "duration": 22,
    "start_time": "2021-07-07T14:51:59.395Z"
   },
   {
    "duration": 24,
    "start_time": "2021-07-07T14:57:32.911Z"
   },
   {
    "duration": 7,
    "start_time": "2021-07-07T14:58:22.070Z"
   },
   {
    "duration": 4,
    "start_time": "2021-07-07T14:59:11.239Z"
   },
   {
    "duration": 25,
    "start_time": "2021-07-07T15:07:22.208Z"
   },
   {
    "duration": 16,
    "start_time": "2021-07-07T15:08:25.560Z"
   },
   {
    "duration": 15,
    "start_time": "2021-07-07T15:08:40.647Z"
   },
   {
    "duration": 14,
    "start_time": "2021-07-07T15:08:46.669Z"
   },
   {
    "duration": 533,
    "start_time": "2021-07-07T15:18:07.440Z"
   },
   {
    "duration": 173,
    "start_time": "2021-07-07T15:18:07.974Z"
   },
   {
    "duration": 84,
    "start_time": "2021-07-07T15:18:08.149Z"
   },
   {
    "duration": 3,
    "start_time": "2021-07-07T15:18:08.235Z"
   },
   {
    "duration": 30,
    "start_time": "2021-07-07T15:18:08.240Z"
   },
   {
    "duration": 22,
    "start_time": "2021-07-07T15:18:08.272Z"
   },
   {
    "duration": 11,
    "start_time": "2021-07-07T15:18:08.295Z"
   },
   {
    "duration": 11,
    "start_time": "2021-07-07T15:18:08.309Z"
   },
   {
    "duration": 40,
    "start_time": "2021-07-07T15:18:08.322Z"
   },
   {
    "duration": 42,
    "start_time": "2021-07-07T15:18:08.364Z"
   },
   {
    "duration": 22,
    "start_time": "2021-07-07T15:18:08.408Z"
   },
   {
    "duration": 5,
    "start_time": "2021-07-07T15:18:08.432Z"
   },
   {
    "duration": 13,
    "start_time": "2021-07-07T15:18:08.439Z"
   },
   {
    "duration": 9,
    "start_time": "2021-07-07T15:18:08.454Z"
   },
   {
    "duration": 32,
    "start_time": "2021-07-07T15:18:08.465Z"
   },
   {
    "duration": 10,
    "start_time": "2021-07-07T15:18:08.501Z"
   },
   {
    "duration": 7,
    "start_time": "2021-07-07T15:18:08.513Z"
   },
   {
    "duration": 11,
    "start_time": "2021-07-07T15:18:08.521Z"
   },
   {
    "duration": 17,
    "start_time": "2021-07-07T15:18:08.534Z"
   },
   {
    "duration": 44,
    "start_time": "2021-07-07T15:18:08.553Z"
   },
   {
    "duration": 22,
    "start_time": "2021-07-07T15:18:08.599Z"
   },
   {
    "duration": 61,
    "start_time": "2021-07-07T15:18:08.622Z"
   },
   {
    "duration": 7,
    "start_time": "2021-07-07T15:18:39.457Z"
   },
   {
    "duration": 5,
    "start_time": "2021-07-07T16:05:17.020Z"
   },
   {
    "duration": 5,
    "start_time": "2021-07-07T16:51:28.794Z"
   },
   {
    "duration": 546,
    "start_time": "2021-07-07T16:52:26.306Z"
   },
   {
    "duration": 203,
    "start_time": "2021-07-07T16:52:27.523Z"
   },
   {
    "duration": 85,
    "start_time": "2021-07-07T16:52:27.736Z"
   },
   {
    "duration": 4,
    "start_time": "2021-07-07T16:52:27.899Z"
   },
   {
    "duration": 25,
    "start_time": "2021-07-07T16:52:28.674Z"
   },
   {
    "duration": 8,
    "start_time": "2021-07-07T16:52:32.956Z"
   },
   {
    "duration": 18,
    "start_time": "2021-07-07T16:52:35.616Z"
   },
   {
    "duration": 6,
    "start_time": "2021-07-07T16:52:36.913Z"
   },
   {
    "duration": 11,
    "start_time": "2021-07-07T16:52:40.258Z"
   },
   {
    "duration": 10,
    "start_time": "2021-07-07T16:52:46.251Z"
   },
   {
    "duration": 8,
    "start_time": "2021-07-07T16:52:47.182Z"
   },
   {
    "duration": 27,
    "start_time": "2021-07-07T16:53:20.391Z"
   },
   {
    "duration": 20,
    "start_time": "2021-07-07T16:53:22.022Z"
   },
   {
    "duration": 23,
    "start_time": "2021-07-07T16:53:23.690Z"
   },
   {
    "duration": 8,
    "start_time": "2021-07-07T16:53:24.261Z"
   },
   {
    "duration": 4,
    "start_time": "2021-07-07T16:53:38.733Z"
   },
   {
    "duration": 7,
    "start_time": "2021-07-07T16:53:40.445Z"
   },
   {
    "duration": 11,
    "start_time": "2021-07-07T16:53:41.348Z"
   },
   {
    "duration": 13,
    "start_time": "2021-07-07T16:53:45.250Z"
   },
   {
    "duration": 12,
    "start_time": "2021-07-07T16:53:45.467Z"
   },
   {
    "duration": 4,
    "start_time": "2021-07-07T16:55:32.704Z"
   },
   {
    "duration": 12,
    "start_time": "2021-07-07T16:55:49.012Z"
   },
   {
    "duration": 18,
    "start_time": "2021-07-07T16:55:49.547Z"
   },
   {
    "duration": 611,
    "start_time": "2021-07-07T16:58:35.156Z"
   },
   {
    "duration": 200,
    "start_time": "2021-07-07T16:58:35.770Z"
   },
   {
    "duration": 86,
    "start_time": "2021-07-07T16:58:35.972Z"
   },
   {
    "duration": 3,
    "start_time": "2021-07-07T16:58:36.060Z"
   },
   {
    "duration": 27,
    "start_time": "2021-07-07T16:58:36.065Z"
   },
   {
    "duration": 8,
    "start_time": "2021-07-07T16:58:36.094Z"
   },
   {
    "duration": 17,
    "start_time": "2021-07-07T16:58:36.103Z"
   },
   {
    "duration": 5,
    "start_time": "2021-07-07T16:58:36.123Z"
   },
   {
    "duration": 11,
    "start_time": "2021-07-07T16:58:36.130Z"
   },
   {
    "duration": 7,
    "start_time": "2021-07-07T16:58:36.143Z"
   },
   {
    "duration": 37,
    "start_time": "2021-07-07T16:58:36.152Z"
   },
   {
    "duration": 27,
    "start_time": "2021-07-07T16:58:36.191Z"
   },
   {
    "duration": 19,
    "start_time": "2021-07-07T16:58:36.219Z"
   },
   {
    "duration": 49,
    "start_time": "2021-07-07T16:58:36.240Z"
   },
   {
    "duration": 6,
    "start_time": "2021-07-07T16:58:36.291Z"
   },
   {
    "duration": 3,
    "start_time": "2021-07-07T16:58:36.299Z"
   },
   {
    "duration": 13,
    "start_time": "2021-07-07T16:58:36.304Z"
   },
   {
    "duration": 10,
    "start_time": "2021-07-07T16:58:36.319Z"
   },
   {
    "duration": 10,
    "start_time": "2021-07-07T16:58:36.331Z"
   },
   {
    "duration": 44,
    "start_time": "2021-07-07T16:58:36.343Z"
   },
   {
    "duration": 4,
    "start_time": "2021-07-07T16:58:36.388Z"
   },
   {
    "duration": 13,
    "start_time": "2021-07-07T16:58:36.394Z"
   },
   {
    "duration": 16,
    "start_time": "2021-07-07T16:58:36.410Z"
   },
   {
    "duration": 8,
    "start_time": "2021-07-07T17:02:31.629Z"
   },
   {
    "duration": 8,
    "start_time": "2021-07-07T17:02:34.308Z"
   },
   {
    "duration": 6,
    "start_time": "2021-07-07T17:05:13.483Z"
   },
   {
    "duration": 17,
    "start_time": "2021-07-07T17:05:20.606Z"
   },
   {
    "duration": 7,
    "start_time": "2021-07-07T17:05:34.638Z"
   },
   {
    "duration": 3,
    "start_time": "2021-07-07T17:06:31.883Z"
   },
   {
    "duration": 570,
    "start_time": "2021-07-07T17:06:37.165Z"
   },
   {
    "duration": 174,
    "start_time": "2021-07-07T17:06:37.737Z"
   },
   {
    "duration": 47,
    "start_time": "2021-07-07T17:06:37.913Z"
   },
   {
    "duration": 3,
    "start_time": "2021-07-07T17:06:37.962Z"
   },
   {
    "duration": 27,
    "start_time": "2021-07-07T17:06:37.967Z"
   },
   {
    "duration": 7,
    "start_time": "2021-07-07T17:06:37.996Z"
   },
   {
    "duration": 16,
    "start_time": "2021-07-07T17:06:38.005Z"
   },
   {
    "duration": 6,
    "start_time": "2021-07-07T17:06:38.024Z"
   },
   {
    "duration": 12,
    "start_time": "2021-07-07T17:06:38.031Z"
   },
   {
    "duration": 41,
    "start_time": "2021-07-07T17:06:38.045Z"
   },
   {
    "duration": 8,
    "start_time": "2021-07-07T17:06:38.088Z"
   },
   {
    "duration": 26,
    "start_time": "2021-07-07T17:06:38.098Z"
   },
   {
    "duration": 17,
    "start_time": "2021-07-07T17:06:38.126Z"
   },
   {
    "duration": 43,
    "start_time": "2021-07-07T17:06:38.144Z"
   },
   {
    "duration": 6,
    "start_time": "2021-07-07T17:06:38.188Z"
   },
   {
    "duration": 5,
    "start_time": "2021-07-07T17:06:38.195Z"
   },
   {
    "duration": 9,
    "start_time": "2021-07-07T17:06:38.201Z"
   },
   {
    "duration": 12,
    "start_time": "2021-07-07T17:06:38.212Z"
   },
   {
    "duration": 11,
    "start_time": "2021-07-07T17:06:38.226Z"
   },
   {
    "duration": 47,
    "start_time": "2021-07-07T17:06:38.239Z"
   },
   {
    "duration": 4,
    "start_time": "2021-07-07T17:06:38.288Z"
   },
   {
    "duration": 13,
    "start_time": "2021-07-07T17:06:38.293Z"
   },
   {
    "duration": 5,
    "start_time": "2021-07-07T17:06:38.309Z"
   },
   {
    "duration": 18,
    "start_time": "2021-07-07T17:06:38.325Z"
   },
   {
    "duration": 20,
    "start_time": "2021-07-07T17:07:02.805Z"
   },
   {
    "duration": 19,
    "start_time": "2021-07-07T17:07:08.527Z"
   },
   {
    "duration": 19,
    "start_time": "2021-07-07T17:07:12.758Z"
   },
   {
    "duration": 22,
    "start_time": "2021-07-07T17:07:17.497Z"
   },
   {
    "duration": 19,
    "start_time": "2021-07-07T17:07:19.645Z"
   },
   {
    "duration": 10,
    "start_time": "2021-07-07T17:07:34.239Z"
   },
   {
    "duration": 17,
    "start_time": "2021-07-07T17:07:54.144Z"
   },
   {
    "duration": 14,
    "start_time": "2021-07-07T17:08:14.357Z"
   },
   {
    "duration": 616,
    "start_time": "2021-07-07T17:08:45.254Z"
   },
   {
    "duration": 178,
    "start_time": "2021-07-07T17:08:45.872Z"
   },
   {
    "duration": 60,
    "start_time": "2021-07-07T17:08:46.054Z"
   },
   {
    "duration": 3,
    "start_time": "2021-07-07T17:08:46.116Z"
   },
   {
    "duration": 26,
    "start_time": "2021-07-07T17:08:46.121Z"
   },
   {
    "duration": 7,
    "start_time": "2021-07-07T17:08:46.149Z"
   },
   {
    "duration": 17,
    "start_time": "2021-07-07T17:08:46.158Z"
   },
   {
    "duration": 14,
    "start_time": "2021-07-07T17:08:46.176Z"
   },
   {
    "duration": 17,
    "start_time": "2021-07-07T17:08:46.193Z"
   },
   {
    "duration": 9,
    "start_time": "2021-07-07T17:08:46.211Z"
   },
   {
    "duration": 21,
    "start_time": "2021-07-07T17:08:46.221Z"
   },
   {
    "duration": 49,
    "start_time": "2021-07-07T17:08:46.244Z"
   },
   {
    "duration": 24,
    "start_time": "2021-07-07T17:08:46.295Z"
   },
   {
    "duration": 22,
    "start_time": "2021-07-07T17:08:46.321Z"
   },
   {
    "duration": 6,
    "start_time": "2021-07-07T17:08:46.345Z"
   },
   {
    "duration": 5,
    "start_time": "2021-07-07T17:08:46.353Z"
   },
   {
    "duration": 13,
    "start_time": "2021-07-07T17:08:46.386Z"
   },
   {
    "duration": 12,
    "start_time": "2021-07-07T17:08:46.402Z"
   },
   {
    "duration": 10,
    "start_time": "2021-07-07T17:08:46.415Z"
   },
   {
    "duration": 7,
    "start_time": "2021-07-07T17:08:46.427Z"
   },
   {
    "duration": 8,
    "start_time": "2021-07-07T17:08:46.435Z"
   },
   {
    "duration": 68,
    "start_time": "2021-07-07T17:08:46.446Z"
   },
   {
    "duration": 13,
    "start_time": "2021-07-07T17:08:46.516Z"
   },
   {
    "duration": 78,
    "start_time": "2021-07-07T17:08:46.530Z"
   },
   {
    "duration": 40,
    "start_time": "2021-07-07T17:09:08.185Z"
   },
   {
    "duration": 16,
    "start_time": "2021-07-07T17:09:19.324Z"
   },
   {
    "duration": 21,
    "start_time": "2021-07-07T17:09:23.290Z"
   },
   {
    "duration": 13,
    "start_time": "2021-07-07T17:09:54.812Z"
   },
   {
    "duration": 13,
    "start_time": "2021-07-07T17:10:02.039Z"
   },
   {
    "duration": 10,
    "start_time": "2021-07-07T17:10:29.632Z"
   },
   {
    "duration": 13,
    "start_time": "2021-07-07T17:10:52.372Z"
   },
   {
    "duration": 13,
    "start_time": "2021-07-07T17:11:17.270Z"
   },
   {
    "duration": 13,
    "start_time": "2021-07-07T17:14:59.284Z"
   },
   {
    "duration": 547,
    "start_time": "2021-07-07T17:18:52.403Z"
   },
   {
    "duration": 163,
    "start_time": "2021-07-07T17:18:52.952Z"
   },
   {
    "duration": 44,
    "start_time": "2021-07-07T17:18:53.117Z"
   },
   {
    "duration": 3,
    "start_time": "2021-07-07T17:18:53.162Z"
   },
   {
    "duration": 26,
    "start_time": "2021-07-07T17:18:53.167Z"
   },
   {
    "duration": 6,
    "start_time": "2021-07-07T17:18:53.195Z"
   },
   {
    "duration": 15,
    "start_time": "2021-07-07T17:18:53.203Z"
   },
   {
    "duration": 5,
    "start_time": "2021-07-07T17:18:53.220Z"
   },
   {
    "duration": 11,
    "start_time": "2021-07-07T17:18:53.228Z"
   },
   {
    "duration": 9,
    "start_time": "2021-07-07T17:18:53.241Z"
   },
   {
    "duration": 41,
    "start_time": "2021-07-07T17:18:53.252Z"
   },
   {
    "duration": 33,
    "start_time": "2021-07-07T17:18:53.295Z"
   },
   {
    "duration": 19,
    "start_time": "2021-07-07T17:18:53.330Z"
   },
   {
    "duration": 49,
    "start_time": "2021-07-07T17:18:53.350Z"
   },
   {
    "duration": 5,
    "start_time": "2021-07-07T17:18:53.401Z"
   },
   {
    "duration": 5,
    "start_time": "2021-07-07T17:18:53.408Z"
   },
   {
    "duration": 11,
    "start_time": "2021-07-07T17:18:53.414Z"
   },
   {
    "duration": 9,
    "start_time": "2021-07-07T17:18:53.427Z"
   },
   {
    "duration": 10,
    "start_time": "2021-07-07T17:18:53.437Z"
   },
   {
    "duration": 39,
    "start_time": "2021-07-07T17:18:53.448Z"
   },
   {
    "duration": 26,
    "start_time": "2021-07-07T17:18:55.799Z"
   },
   {
    "duration": 598,
    "start_time": "2021-07-07T17:20:17.862Z"
   },
   {
    "duration": 161,
    "start_time": "2021-07-07T17:20:18.462Z"
   },
   {
    "duration": 45,
    "start_time": "2021-07-07T17:20:18.626Z"
   },
   {
    "duration": 4,
    "start_time": "2021-07-07T17:20:18.673Z"
   },
   {
    "duration": 38,
    "start_time": "2021-07-07T17:20:26.877Z"
   },
   {
    "duration": 7,
    "start_time": "2021-07-07T17:20:37.405Z"
   },
   {
    "duration": 19,
    "start_time": "2021-07-07T17:20:51.534Z"
   },
   {
    "duration": 5,
    "start_time": "2021-07-07T17:20:57.228Z"
   },
   {
    "duration": 7,
    "start_time": "2021-07-07T17:21:08.235Z"
   },
   {
    "duration": 19,
    "start_time": "2021-07-07T17:21:42.158Z"
   },
   {
    "duration": 14,
    "start_time": "2021-07-07T17:21:50.225Z"
   },
   {
    "duration": 22,
    "start_time": "2021-07-07T17:22:54.104Z"
   },
   {
    "duration": 5,
    "start_time": "2021-07-07T17:22:56.371Z"
   },
   {
    "duration": 14,
    "start_time": "2021-07-07T17:22:58.316Z"
   },
   {
    "duration": 5,
    "start_time": "2021-07-07T17:22:58.493Z"
   },
   {
    "duration": 35,
    "start_time": "2021-07-07T17:22:59.666Z"
   },
   {
    "duration": 6,
    "start_time": "2021-07-07T17:23:02.410Z"
   },
   {
    "duration": 611,
    "start_time": "2021-07-07T17:24:59.664Z"
   },
   {
    "duration": 178,
    "start_time": "2021-07-07T17:25:01.945Z"
   },
   {
    "duration": 47,
    "start_time": "2021-07-07T17:25:02.125Z"
   },
   {
    "duration": 2,
    "start_time": "2021-07-07T17:25:07.903Z"
   },
   {
    "duration": 254,
    "start_time": "2021-07-07T17:25:08.232Z"
   },
   {
    "duration": 182,
    "start_time": "2021-07-07T17:25:08.671Z"
   },
   {
    "duration": 6,
    "start_time": "2021-07-07T17:25:13.104Z"
   },
   {
    "duration": 36,
    "start_time": "2021-07-07T17:25:13.662Z"
   },
   {
    "duration": 7,
    "start_time": "2021-07-07T17:25:14.528Z"
   },
   {
    "duration": 24,
    "start_time": "2021-07-07T17:25:27.982Z"
   },
   {
    "duration": 3,
    "start_time": "2021-07-07T17:25:48.982Z"
   },
   {
    "duration": 165,
    "start_time": "2021-07-07T17:25:48.987Z"
   },
   {
    "duration": 50,
    "start_time": "2021-07-07T17:25:49.154Z"
   },
   {
    "duration": 4,
    "start_time": "2021-07-07T17:25:49.206Z"
   },
   {
    "duration": 26,
    "start_time": "2021-07-07T17:25:49.212Z"
   },
   {
    "duration": 7,
    "start_time": "2021-07-07T17:25:49.240Z"
   },
   {
    "duration": 16,
    "start_time": "2021-07-07T17:25:49.249Z"
   },
   {
    "duration": 22,
    "start_time": "2021-07-07T17:25:49.266Z"
   },
   {
    "duration": 16,
    "start_time": "2021-07-07T17:25:49.291Z"
   },
   {
    "duration": 9,
    "start_time": "2021-07-07T17:25:49.309Z"
   },
   {
    "duration": 7,
    "start_time": "2021-07-07T17:25:49.319Z"
   },
   {
    "duration": 28,
    "start_time": "2021-07-07T17:25:49.328Z"
   },
   {
    "duration": 44,
    "start_time": "2021-07-07T17:25:49.357Z"
   },
   {
    "duration": 22,
    "start_time": "2021-07-07T17:25:49.403Z"
   },
   {
    "duration": 7,
    "start_time": "2021-07-07T17:25:49.427Z"
   },
   {
    "duration": 3,
    "start_time": "2021-07-07T17:25:49.436Z"
   },
   {
    "duration": 44,
    "start_time": "2021-07-07T17:25:49.441Z"
   },
   {
    "duration": 12,
    "start_time": "2021-07-07T17:25:49.488Z"
   },
   {
    "duration": 13,
    "start_time": "2021-07-07T17:25:49.502Z"
   },
   {
    "duration": 10,
    "start_time": "2021-07-07T17:25:49.516Z"
   },
   {
    "duration": 62,
    "start_time": "2021-07-07T17:25:49.527Z"
   },
   {
    "duration": 26,
    "start_time": "2021-07-07T17:26:51.809Z"
   },
   {
    "duration": 26,
    "start_time": "2021-07-07T17:26:55.759Z"
   },
   {
    "duration": 26,
    "start_time": "2021-07-07T17:27:04.501Z"
   },
   {
    "duration": 25,
    "start_time": "2021-07-07T17:28:24.859Z"
   },
   {
    "duration": 21,
    "start_time": "2021-07-07T17:28:55.250Z"
   },
   {
    "duration": 21,
    "start_time": "2021-07-07T17:28:58.885Z"
   },
   {
    "duration": 7,
    "start_time": "2021-07-07T17:45:40.972Z"
   },
   {
    "duration": 13,
    "start_time": "2021-07-07T17:45:42.529Z"
   },
   {
    "duration": 27,
    "start_time": "2021-07-07T17:45:51.026Z"
   },
   {
    "duration": 518,
    "start_time": "2021-07-07T17:46:15.532Z"
   },
   {
    "duration": 235,
    "start_time": "2021-07-07T17:46:16.053Z"
   },
   {
    "duration": 80,
    "start_time": "2021-07-07T17:46:16.292Z"
   },
   {
    "duration": 5,
    "start_time": "2021-07-07T17:46:16.373Z"
   },
   {
    "duration": 26,
    "start_time": "2021-07-07T17:46:16.380Z"
   },
   {
    "duration": 7,
    "start_time": "2021-07-07T17:46:16.408Z"
   },
   {
    "duration": 16,
    "start_time": "2021-07-07T17:46:16.418Z"
   },
   {
    "duration": 5,
    "start_time": "2021-07-07T17:46:16.436Z"
   },
   {
    "duration": 13,
    "start_time": "2021-07-07T17:46:16.442Z"
   },
   {
    "duration": 35,
    "start_time": "2021-07-07T17:46:16.456Z"
   },
   {
    "duration": 8,
    "start_time": "2021-07-07T17:46:16.493Z"
   },
   {
    "duration": 28,
    "start_time": "2021-07-07T17:46:16.502Z"
   },
   {
    "duration": 17,
    "start_time": "2021-07-07T17:46:16.532Z"
   },
   {
    "duration": 44,
    "start_time": "2021-07-07T17:46:16.551Z"
   },
   {
    "duration": 6,
    "start_time": "2021-07-07T17:46:16.597Z"
   },
   {
    "duration": 4,
    "start_time": "2021-07-07T17:46:16.605Z"
   },
   {
    "duration": 9,
    "start_time": "2021-07-07T17:46:16.610Z"
   },
   {
    "duration": 9,
    "start_time": "2021-07-07T17:46:16.621Z"
   },
   {
    "duration": 10,
    "start_time": "2021-07-07T17:46:16.632Z"
   },
   {
    "duration": 43,
    "start_time": "2021-07-07T17:46:16.644Z"
   },
   {
    "duration": 26,
    "start_time": "2021-07-07T17:46:16.689Z"
   },
   {
    "duration": 19,
    "start_time": "2021-07-07T17:46:16.718Z"
   },
   {
    "duration": 8,
    "start_time": "2021-07-07T17:46:16.738Z"
   },
   {
    "duration": 43,
    "start_time": "2021-07-07T17:46:16.747Z"
   },
   {
    "duration": 19,
    "start_time": "2021-07-07T17:46:16.791Z"
   },
   {
    "duration": 9,
    "start_time": "2021-07-07T17:46:16.812Z"
   },
   {
    "duration": 60,
    "start_time": "2021-07-07T17:46:16.822Z"
   },
   {
    "duration": -8,
    "start_time": "2021-07-07T17:46:16.892Z"
   },
   {
    "duration": 12,
    "start_time": "2021-07-07T17:48:47.707Z"
   },
   {
    "duration": 553,
    "start_time": "2021-07-07T18:10:09.350Z"
   },
   {
    "duration": 230,
    "start_time": "2021-07-07T18:10:09.905Z"
   },
   {
    "duration": 97,
    "start_time": "2021-07-07T18:10:10.137Z"
   },
   {
    "duration": 5,
    "start_time": "2021-07-07T18:10:10.236Z"
   },
   {
    "duration": 29,
    "start_time": "2021-07-07T18:10:10.242Z"
   },
   {
    "duration": 7,
    "start_time": "2021-07-07T18:10:10.272Z"
   },
   {
    "duration": 15,
    "start_time": "2021-07-07T18:10:10.281Z"
   },
   {
    "duration": 4,
    "start_time": "2021-07-07T18:10:10.299Z"
   },
   {
    "duration": 14,
    "start_time": "2021-07-07T18:10:10.305Z"
   },
   {
    "duration": 8,
    "start_time": "2021-07-07T18:10:10.321Z"
   },
   {
    "duration": 8,
    "start_time": "2021-07-07T18:10:10.331Z"
   },
   {
    "duration": 56,
    "start_time": "2021-07-07T18:10:10.341Z"
   },
   {
    "duration": 19,
    "start_time": "2021-07-07T18:10:10.399Z"
   },
   {
    "duration": 23,
    "start_time": "2021-07-07T18:10:10.419Z"
   },
   {
    "duration": 6,
    "start_time": "2021-07-07T18:10:10.444Z"
   },
   {
    "duration": 9,
    "start_time": "2021-07-07T18:10:10.451Z"
   },
   {
    "duration": 30,
    "start_time": "2021-07-07T18:10:10.462Z"
   },
   {
    "duration": 9,
    "start_time": "2021-07-07T18:10:10.494Z"
   },
   {
    "duration": 14,
    "start_time": "2021-07-07T18:10:10.505Z"
   },
   {
    "duration": 7,
    "start_time": "2021-07-07T18:10:10.521Z"
   },
   {
    "duration": 26,
    "start_time": "2021-07-07T18:10:10.530Z"
   },
   {
    "duration": 44,
    "start_time": "2021-07-07T18:10:10.558Z"
   },
   {
    "duration": 7,
    "start_time": "2021-07-07T18:10:10.605Z"
   },
   {
    "duration": 11,
    "start_time": "2021-07-07T18:10:10.614Z"
   },
   {
    "duration": 19,
    "start_time": "2021-07-07T18:10:10.626Z"
   },
   {
    "duration": 44,
    "start_time": "2021-07-07T18:10:10.646Z"
   },
   {
    "duration": 516,
    "start_time": "2021-07-07T18:14:00.826Z"
   },
   {
    "duration": 230,
    "start_time": "2021-07-07T18:14:01.344Z"
   },
   {
    "duration": 105,
    "start_time": "2021-07-07T18:14:01.576Z"
   },
   {
    "duration": 5,
    "start_time": "2021-07-07T18:14:01.683Z"
   },
   {
    "duration": 46,
    "start_time": "2021-07-07T18:14:01.690Z"
   },
   {
    "duration": 7,
    "start_time": "2021-07-07T18:14:01.738Z"
   },
   {
    "duration": 20,
    "start_time": "2021-07-07T18:14:01.747Z"
   },
   {
    "duration": 16,
    "start_time": "2021-07-07T18:14:01.769Z"
   },
   {
    "duration": 14,
    "start_time": "2021-07-07T18:14:01.787Z"
   },
   {
    "duration": 15,
    "start_time": "2021-07-07T18:14:01.803Z"
   },
   {
    "duration": 12,
    "start_time": "2021-07-07T18:14:01.820Z"
   },
   {
    "duration": 35,
    "start_time": "2021-07-07T18:14:01.833Z"
   },
   {
    "duration": 31,
    "start_time": "2021-07-07T18:14:01.869Z"
   },
   {
    "duration": 37,
    "start_time": "2021-07-07T18:14:01.902Z"
   },
   {
    "duration": 8,
    "start_time": "2021-07-07T18:14:01.942Z"
   },
   {
    "duration": 16,
    "start_time": "2021-07-07T18:14:01.952Z"
   },
   {
    "duration": 13,
    "start_time": "2021-07-07T18:14:01.970Z"
   },
   {
    "duration": 32,
    "start_time": "2021-07-07T18:14:01.985Z"
   },
   {
    "duration": 11,
    "start_time": "2021-07-07T18:14:02.019Z"
   },
   {
    "duration": 22,
    "start_time": "2021-07-07T18:14:02.031Z"
   },
   {
    "duration": 27,
    "start_time": "2021-07-07T18:14:02.055Z"
   },
   {
    "duration": 18,
    "start_time": "2021-07-07T18:14:02.084Z"
   },
   {
    "duration": 18,
    "start_time": "2021-07-07T18:14:02.106Z"
   },
   {
    "duration": 11,
    "start_time": "2021-07-07T18:14:02.126Z"
   },
   {
    "duration": 21,
    "start_time": "2021-07-07T18:14:02.138Z"
   },
   {
    "duration": 32,
    "start_time": "2021-07-07T18:14:02.161Z"
   },
   {
    "duration": 28,
    "start_time": "2021-07-07T18:14:44.295Z"
   },
   {
    "duration": 6,
    "start_time": "2021-07-07T18:15:05.834Z"
   },
   {
    "duration": 511,
    "start_time": "2021-07-07T18:15:41.541Z"
   },
   {
    "duration": 183,
    "start_time": "2021-07-07T18:15:42.054Z"
   },
   {
    "duration": 50,
    "start_time": "2021-07-07T18:15:42.239Z"
   },
   {
    "duration": 5,
    "start_time": "2021-07-07T18:15:42.291Z"
   },
   {
    "duration": 48,
    "start_time": "2021-07-07T18:15:42.297Z"
   },
   {
    "duration": 8,
    "start_time": "2021-07-07T18:15:42.346Z"
   },
   {
    "duration": 17,
    "start_time": "2021-07-07T18:15:42.356Z"
   },
   {
    "duration": 15,
    "start_time": "2021-07-07T18:15:42.375Z"
   },
   {
    "duration": 12,
    "start_time": "2021-07-07T18:15:42.392Z"
   },
   {
    "duration": 7,
    "start_time": "2021-07-07T18:15:42.406Z"
   },
   {
    "duration": 7,
    "start_time": "2021-07-07T18:15:42.415Z"
   },
   {
    "duration": 29,
    "start_time": "2021-07-07T18:15:42.423Z"
   },
   {
    "duration": 43,
    "start_time": "2021-07-07T18:15:42.453Z"
   },
   {
    "duration": 18,
    "start_time": "2021-07-07T18:15:42.497Z"
   },
   {
    "duration": 6,
    "start_time": "2021-07-07T18:15:42.516Z"
   },
   {
    "duration": 3,
    "start_time": "2021-07-07T18:15:42.523Z"
   },
   {
    "duration": 18,
    "start_time": "2021-07-07T18:15:42.528Z"
   },
   {
    "duration": 10,
    "start_time": "2021-07-07T18:15:42.547Z"
   },
   {
    "duration": 36,
    "start_time": "2021-07-07T18:15:42.559Z"
   },
   {
    "duration": 8,
    "start_time": "2021-07-07T18:15:42.597Z"
   },
   {
    "duration": 28,
    "start_time": "2021-07-07T18:15:42.606Z"
   },
   {
    "duration": 52,
    "start_time": "2021-07-07T18:15:42.635Z"
   },
   {
    "duration": 7,
    "start_time": "2021-07-07T18:15:42.690Z"
   },
   {
    "duration": 10,
    "start_time": "2021-07-07T18:15:42.699Z"
   },
   {
    "duration": 19,
    "start_time": "2021-07-07T18:15:42.711Z"
   },
   {
    "duration": 9,
    "start_time": "2021-07-07T18:15:42.732Z"
   },
   {
    "duration": 5,
    "start_time": "2021-07-07T18:15:42.743Z"
   },
   {
    "duration": 1450,
    "start_time": "2021-07-07T18:15:51.984Z"
   },
   {
    "duration": 161,
    "start_time": "2021-07-07T18:15:53.435Z"
   },
   {
    "duration": 124,
    "start_time": "2021-07-07T18:15:53.598Z"
   },
   {
    "duration": 5,
    "start_time": "2021-07-07T18:15:53.724Z"
   },
   {
    "duration": 34,
    "start_time": "2021-07-07T18:15:53.730Z"
   },
   {
    "duration": 7,
    "start_time": "2021-07-07T18:15:53.765Z"
   },
   {
    "duration": 15,
    "start_time": "2021-07-07T18:15:53.773Z"
   },
   {
    "duration": 5,
    "start_time": "2021-07-07T18:15:53.791Z"
   },
   {
    "duration": 19,
    "start_time": "2021-07-07T18:15:53.798Z"
   },
   {
    "duration": 9,
    "start_time": "2021-07-07T18:15:53.818Z"
   },
   {
    "duration": 19,
    "start_time": "2021-07-07T18:15:53.828Z"
   },
   {
    "duration": 27,
    "start_time": "2021-07-07T18:15:53.848Z"
   },
   {
    "duration": 16,
    "start_time": "2021-07-07T18:15:53.884Z"
   },
   {
    "duration": 29,
    "start_time": "2021-07-07T18:15:53.901Z"
   },
   {
    "duration": 5,
    "start_time": "2021-07-07T18:15:53.932Z"
   },
   {
    "duration": 15,
    "start_time": "2021-07-07T18:15:53.939Z"
   },
   {
    "duration": 13,
    "start_time": "2021-07-07T18:15:53.956Z"
   },
   {
    "duration": 20,
    "start_time": "2021-07-07T18:15:53.971Z"
   },
   {
    "duration": 14,
    "start_time": "2021-07-07T18:15:53.992Z"
   },
   {
    "duration": 9,
    "start_time": "2021-07-07T18:15:54.009Z"
   },
   {
    "duration": 28,
    "start_time": "2021-07-07T18:15:54.020Z"
   },
   {
    "duration": 50,
    "start_time": "2021-07-07T18:15:54.051Z"
   },
   {
    "duration": 8,
    "start_time": "2021-07-07T18:15:54.105Z"
   },
   {
    "duration": 11,
    "start_time": "2021-07-07T18:15:54.115Z"
   },
   {
    "duration": 20,
    "start_time": "2021-07-07T18:15:54.128Z"
   },
   {
    "duration": 13,
    "start_time": "2021-07-07T18:15:54.184Z"
   },
   {
    "duration": 7,
    "start_time": "2021-07-07T18:15:54.199Z"
   },
   {
    "duration": 7,
    "start_time": "2021-07-07T18:17:08.042Z"
   },
   {
    "duration": 8,
    "start_time": "2021-07-07T18:17:21.008Z"
   },
   {
    "duration": 7,
    "start_time": "2021-07-07T18:17:29.003Z"
   },
   {
    "duration": 8,
    "start_time": "2021-07-07T18:17:32.492Z"
   },
   {
    "duration": 9,
    "start_time": "2021-07-07T18:17:41.758Z"
   },
   {
    "duration": 255,
    "start_time": "2021-07-07T18:20:20.897Z"
   },
   {
    "duration": 173,
    "start_time": "2021-07-07T18:20:26.636Z"
   },
   {
    "duration": 7,
    "start_time": "2021-07-07T18:21:47.164Z"
   },
   {
    "duration": 254,
    "start_time": "2021-07-07T18:23:08.703Z"
   },
   {
    "duration": 21,
    "start_time": "2021-07-07T18:23:22.506Z"
   },
   {
    "duration": 315,
    "start_time": "2021-07-07T18:25:54.801Z"
   },
   {
    "duration": 34,
    "start_time": "2021-07-07T18:26:51.817Z"
   },
   {
    "duration": 327,
    "start_time": "2021-07-07T18:26:56.147Z"
   },
   {
    "duration": 342,
    "start_time": "2021-07-07T18:27:15.887Z"
   },
   {
    "duration": 302,
    "start_time": "2021-07-07T18:28:18.569Z"
   },
   {
    "duration": 226,
    "start_time": "2021-07-07T18:29:20.879Z"
   },
   {
    "duration": 207,
    "start_time": "2021-07-07T18:29:58.114Z"
   },
   {
    "duration": 140,
    "start_time": "2021-07-07T18:32:04.372Z"
   },
   {
    "duration": 158,
    "start_time": "2021-07-07T18:32:32.508Z"
   },
   {
    "duration": 145,
    "start_time": "2021-07-07T18:32:41.365Z"
   },
   {
    "duration": 132,
    "start_time": "2021-07-07T18:32:45.199Z"
   },
   {
    "duration": 11,
    "start_time": "2021-07-07T18:35:24.679Z"
   },
   {
    "duration": 268,
    "start_time": "2021-07-07T18:36:16.145Z"
   },
   {
    "duration": 227,
    "start_time": "2021-07-07T18:37:04.918Z"
   },
   {
    "duration": 3,
    "start_time": "2021-07-07T18:37:33.012Z"
   },
   {
    "duration": 671,
    "start_time": "2021-07-07T18:37:38.295Z"
   },
   {
    "duration": 54,
    "start_time": "2021-07-07T18:37:53.406Z"
   },
   {
    "duration": 631,
    "start_time": "2021-07-07T18:37:56.463Z"
   },
   {
    "duration": 19,
    "start_time": "2021-07-07T18:39:40.535Z"
   },
   {
    "duration": 20,
    "start_time": "2021-07-07T18:40:12.236Z"
   },
   {
    "duration": 633,
    "start_time": "2021-07-07T18:42:00.398Z"
   },
   {
    "duration": 218,
    "start_time": "2021-07-07T18:42:01.033Z"
   },
   {
    "duration": 49,
    "start_time": "2021-07-07T18:42:01.253Z"
   },
   {
    "duration": 5,
    "start_time": "2021-07-07T18:42:01.303Z"
   },
   {
    "duration": 27,
    "start_time": "2021-07-07T18:42:01.310Z"
   },
   {
    "duration": 8,
    "start_time": "2021-07-07T18:42:01.339Z"
   },
   {
    "duration": 20,
    "start_time": "2021-07-07T18:42:01.348Z"
   },
   {
    "duration": 6,
    "start_time": "2021-07-07T18:42:01.386Z"
   },
   {
    "duration": 16,
    "start_time": "2021-07-07T18:42:01.394Z"
   },
   {
    "duration": 9,
    "start_time": "2021-07-07T18:42:01.411Z"
   },
   {
    "duration": 11,
    "start_time": "2021-07-07T18:42:01.421Z"
   },
   {
    "duration": 31,
    "start_time": "2021-07-07T18:42:01.434Z"
   },
   {
    "duration": 18,
    "start_time": "2021-07-07T18:42:01.485Z"
   },
   {
    "duration": 23,
    "start_time": "2021-07-07T18:42:01.505Z"
   },
   {
    "duration": 6,
    "start_time": "2021-07-07T18:42:01.530Z"
   },
   {
    "duration": 10,
    "start_time": "2021-07-07T18:42:01.538Z"
   },
   {
    "duration": 13,
    "start_time": "2021-07-07T18:42:01.550Z"
   },
   {
    "duration": 24,
    "start_time": "2021-07-07T18:42:01.564Z"
   },
   {
    "duration": 20,
    "start_time": "2021-07-07T18:42:01.590Z"
   },
   {
    "duration": 8,
    "start_time": "2021-07-07T18:42:01.611Z"
   },
   {
    "duration": 31,
    "start_time": "2021-07-07T18:42:01.620Z"
   },
   {
    "duration": 39,
    "start_time": "2021-07-07T18:42:01.653Z"
   },
   {
    "duration": 8,
    "start_time": "2021-07-07T18:42:01.696Z"
   },
   {
    "duration": 13,
    "start_time": "2021-07-07T18:42:01.705Z"
   },
   {
    "duration": 20,
    "start_time": "2021-07-07T18:42:01.720Z"
   },
   {
    "duration": 12,
    "start_time": "2021-07-07T18:42:01.741Z"
   },
   {
    "duration": 35,
    "start_time": "2021-07-07T18:42:01.755Z"
   },
   {
    "duration": 14,
    "start_time": "2021-07-07T18:42:01.792Z"
   },
   {
    "duration": 188,
    "start_time": "2021-07-07T18:42:01.808Z"
   },
   {
    "duration": 19,
    "start_time": "2021-07-07T18:42:01.998Z"
   },
   {
    "duration": 175,
    "start_time": "2021-07-07T18:42:02.019Z"
   },
   {
    "duration": 134,
    "start_time": "2021-07-07T18:42:02.196Z"
   },
   {
    "duration": 10,
    "start_time": "2021-07-07T18:42:02.331Z"
   },
   {
    "duration": 19,
    "start_time": "2021-07-07T18:42:02.343Z"
   },
   {
    "duration": 628,
    "start_time": "2021-07-07T18:46:30.701Z"
   },
   {
    "duration": 183,
    "start_time": "2021-07-07T18:46:31.331Z"
   },
   {
    "duration": 48,
    "start_time": "2021-07-07T18:46:31.516Z"
   },
   {
    "duration": 5,
    "start_time": "2021-07-07T18:46:31.566Z"
   },
   {
    "duration": 28,
    "start_time": "2021-07-07T18:46:31.572Z"
   },
   {
    "duration": 8,
    "start_time": "2021-07-07T18:46:31.602Z"
   },
   {
    "duration": 19,
    "start_time": "2021-07-07T18:46:31.611Z"
   },
   {
    "duration": 6,
    "start_time": "2021-07-07T18:46:31.633Z"
   },
   {
    "duration": 17,
    "start_time": "2021-07-07T18:46:31.642Z"
   },
   {
    "duration": 10,
    "start_time": "2021-07-07T18:46:31.684Z"
   },
   {
    "duration": 9,
    "start_time": "2021-07-07T18:46:31.695Z"
   },
   {
    "duration": 28,
    "start_time": "2021-07-07T18:46:31.705Z"
   },
   {
    "duration": 18,
    "start_time": "2021-07-07T18:46:31.735Z"
   },
   {
    "duration": 48,
    "start_time": "2021-07-07T18:46:31.755Z"
   },
   {
    "duration": 6,
    "start_time": "2021-07-07T18:46:31.804Z"
   },
   {
    "duration": 4,
    "start_time": "2021-07-07T18:46:31.812Z"
   },
   {
    "duration": 9,
    "start_time": "2021-07-07T18:46:31.817Z"
   },
   {
    "duration": 10,
    "start_time": "2021-07-07T18:46:31.827Z"
   },
   {
    "duration": 12,
    "start_time": "2021-07-07T18:46:31.838Z"
   },
   {
    "duration": 39,
    "start_time": "2021-07-07T18:46:31.851Z"
   },
   {
    "duration": 24,
    "start_time": "2021-07-07T18:46:31.892Z"
   },
   {
    "duration": 15,
    "start_time": "2021-07-07T18:46:31.918Z"
   },
   {
    "duration": 7,
    "start_time": "2021-07-07T18:46:31.936Z"
   },
   {
    "duration": 8,
    "start_time": "2021-07-07T18:46:31.944Z"
   },
   {
    "duration": 19,
    "start_time": "2021-07-07T18:46:31.984Z"
   },
   {
    "duration": 10,
    "start_time": "2021-07-07T18:46:32.004Z"
   },
   {
    "duration": 5,
    "start_time": "2021-07-07T18:46:32.016Z"
   },
   {
    "duration": 9,
    "start_time": "2021-07-07T18:46:32.023Z"
   },
   {
    "duration": 199,
    "start_time": "2021-07-07T18:46:32.033Z"
   },
   {
    "duration": 19,
    "start_time": "2021-07-07T18:46:32.234Z"
   },
   {
    "duration": 159,
    "start_time": "2021-07-07T18:46:32.255Z"
   },
   {
    "duration": 134,
    "start_time": "2021-07-07T18:46:32.416Z"
   },
   {
    "duration": 10,
    "start_time": "2021-07-07T18:46:32.552Z"
   },
   {
    "duration": 34,
    "start_time": "2021-07-07T18:46:32.563Z"
   },
   {
    "duration": 1039,
    "start_time": "2021-07-08T08:41:09.419Z"
   },
   {
    "duration": 333,
    "start_time": "2021-07-08T08:41:10.459Z"
   },
   {
    "duration": 173,
    "start_time": "2021-07-08T08:41:10.794Z"
   },
   {
    "duration": 5,
    "start_time": "2021-07-08T08:41:10.968Z"
   },
   {
    "duration": 25,
    "start_time": "2021-07-08T08:41:10.975Z"
   },
   {
    "duration": 9,
    "start_time": "2021-07-08T08:41:11.002Z"
   },
   {
    "duration": 18,
    "start_time": "2021-07-08T08:41:11.013Z"
   },
   {
    "duration": 6,
    "start_time": "2021-07-08T08:41:11.033Z"
   },
   {
    "duration": 44,
    "start_time": "2021-07-08T08:41:11.042Z"
   },
   {
    "duration": 10,
    "start_time": "2021-07-08T08:41:11.088Z"
   },
   {
    "duration": 9,
    "start_time": "2021-07-08T08:41:11.100Z"
   },
   {
    "duration": 27,
    "start_time": "2021-07-08T08:41:11.111Z"
   },
   {
    "duration": 46,
    "start_time": "2021-07-08T08:41:11.140Z"
   },
   {
    "duration": 17,
    "start_time": "2021-07-08T08:41:11.187Z"
   },
   {
    "duration": 6,
    "start_time": "2021-07-08T08:41:11.206Z"
   },
   {
    "duration": 5,
    "start_time": "2021-07-08T08:41:11.213Z"
   },
   {
    "duration": 10,
    "start_time": "2021-07-08T08:41:11.219Z"
   },
   {
    "duration": 9,
    "start_time": "2021-07-08T08:41:11.230Z"
   },
   {
    "duration": 45,
    "start_time": "2021-07-08T08:41:11.241Z"
   },
   {
    "duration": 7,
    "start_time": "2021-07-08T08:41:11.287Z"
   },
   {
    "duration": 24,
    "start_time": "2021-07-08T08:41:11.296Z"
   },
   {
    "duration": 16,
    "start_time": "2021-07-08T08:41:11.322Z"
   },
   {
    "duration": 7,
    "start_time": "2021-07-08T08:41:11.341Z"
   },
   {
    "duration": 41,
    "start_time": "2021-07-08T08:41:11.349Z"
   },
   {
    "duration": 17,
    "start_time": "2021-07-08T08:41:11.391Z"
   },
   {
    "duration": 9,
    "start_time": "2021-07-08T08:41:11.410Z"
   },
   {
    "duration": 5,
    "start_time": "2021-07-08T08:41:11.421Z"
   },
   {
    "duration": 6,
    "start_time": "2021-07-08T08:41:11.428Z"
   },
   {
    "duration": 198,
    "start_time": "2021-07-08T08:41:11.435Z"
   },
   {
    "duration": 18,
    "start_time": "2021-07-08T08:41:11.635Z"
   },
   {
    "duration": 155,
    "start_time": "2021-07-08T08:41:11.655Z"
   },
   {
    "duration": 138,
    "start_time": "2021-07-08T08:41:11.811Z"
   },
   {
    "duration": 10,
    "start_time": "2021-07-08T08:41:11.950Z"
   },
   {
    "duration": 29,
    "start_time": "2021-07-08T08:41:11.961Z"
   },
   {
    "duration": 171,
    "start_time": "2021-07-08T08:47:44.522Z"
   },
   {
    "duration": 124,
    "start_time": "2021-07-08T08:47:46.872Z"
   },
   {
    "duration": 191,
    "start_time": "2021-07-08T08:47:58.148Z"
   },
   {
    "duration": 191,
    "start_time": "2021-07-08T08:48:07.412Z"
   },
   {
    "duration": 261,
    "start_time": "2021-07-08T08:48:10.385Z"
   },
   {
    "duration": 255,
    "start_time": "2021-07-08T08:48:14.494Z"
   },
   {
    "duration": 219,
    "start_time": "2021-07-08T08:48:22.752Z"
   },
   {
    "duration": 173,
    "start_time": "2021-07-08T08:49:06.395Z"
   },
   {
    "duration": 180,
    "start_time": "2021-07-08T08:49:21.011Z"
   },
   {
    "duration": 6,
    "start_time": "2021-07-08T08:50:31.697Z"
   },
   {
    "duration": 10,
    "start_time": "2021-07-08T08:50:47.394Z"
   },
   {
    "duration": 11,
    "start_time": "2021-07-08T08:53:49.332Z"
   },
   {
    "duration": 171,
    "start_time": "2021-07-08T08:54:28.408Z"
   },
   {
    "duration": 636,
    "start_time": "2021-07-08T09:02:48.385Z"
   },
   {
    "duration": 227,
    "start_time": "2021-07-08T09:02:49.023Z"
   },
   {
    "duration": 104,
    "start_time": "2021-07-08T09:02:49.252Z"
   },
   {
    "duration": 5,
    "start_time": "2021-07-08T09:02:49.358Z"
   },
   {
    "duration": 27,
    "start_time": "2021-07-08T09:02:49.365Z"
   },
   {
    "duration": 8,
    "start_time": "2021-07-08T09:02:49.394Z"
   },
   {
    "duration": 18,
    "start_time": "2021-07-08T09:02:49.404Z"
   },
   {
    "duration": 6,
    "start_time": "2021-07-08T09:02:49.424Z"
   },
   {
    "duration": 11,
    "start_time": "2021-07-08T09:02:49.433Z"
   },
   {
    "duration": 13,
    "start_time": "2021-07-08T09:02:49.485Z"
   },
   {
    "duration": 9,
    "start_time": "2021-07-08T09:02:49.500Z"
   },
   {
    "duration": 38,
    "start_time": "2021-07-08T09:02:49.511Z"
   },
   {
    "duration": 42,
    "start_time": "2021-07-08T09:02:49.551Z"
   },
   {
    "duration": 21,
    "start_time": "2021-07-08T09:02:49.594Z"
   },
   {
    "duration": 6,
    "start_time": "2021-07-08T09:02:49.616Z"
   },
   {
    "duration": 3,
    "start_time": "2021-07-08T09:02:49.623Z"
   },
   {
    "duration": 9,
    "start_time": "2021-07-08T09:02:49.628Z"
   },
   {
    "duration": 52,
    "start_time": "2021-07-08T09:02:49.638Z"
   },
   {
    "duration": 11,
    "start_time": "2021-07-08T09:02:49.692Z"
   },
   {
    "duration": 8,
    "start_time": "2021-07-08T09:02:49.704Z"
   },
   {
    "duration": 27,
    "start_time": "2021-07-08T09:02:49.713Z"
   },
   {
    "duration": 59,
    "start_time": "2021-07-08T09:02:49.741Z"
   },
   {
    "duration": 8,
    "start_time": "2021-07-08T09:02:49.803Z"
   },
   {
    "duration": 14,
    "start_time": "2021-07-08T09:02:49.813Z"
   },
   {
    "duration": 20,
    "start_time": "2021-07-08T09:02:49.829Z"
   },
   {
    "duration": 44,
    "start_time": "2021-07-08T09:02:49.851Z"
   },
   {
    "duration": 14,
    "start_time": "2021-07-08T09:02:49.896Z"
   },
   {
    "duration": 221,
    "start_time": "2021-07-08T09:02:49.912Z"
   },
   {
    "duration": 6,
    "start_time": "2021-07-08T09:02:50.134Z"
   },
   {
    "duration": 206,
    "start_time": "2021-07-08T09:02:50.142Z"
   },
   {
    "duration": 19,
    "start_time": "2021-07-08T09:02:50.350Z"
   },
   {
    "duration": 21,
    "start_time": "2021-07-08T09:02:50.370Z"
   },
   {
    "duration": 20,
    "start_time": "2021-07-08T09:02:50.393Z"
   },
   {
    "duration": 5,
    "start_time": "2021-07-08T09:02:50.414Z"
   },
   {
    "duration": 5,
    "start_time": "2021-07-08T09:03:34.173Z"
   },
   {
    "duration": 6,
    "start_time": "2021-07-08T09:04:49.062Z"
   },
   {
    "duration": 9,
    "start_time": "2021-07-08T09:04:50.118Z"
   },
   {
    "duration": 14,
    "start_time": "2021-07-08T09:04:58.512Z"
   },
   {
    "duration": 9,
    "start_time": "2021-07-08T09:05:10.988Z"
   },
   {
    "duration": 11,
    "start_time": "2021-07-08T09:05:11.743Z"
   },
   {
    "duration": 7,
    "start_time": "2021-07-08T09:05:25.677Z"
   },
   {
    "duration": 13,
    "start_time": "2021-07-08T09:05:47.189Z"
   },
   {
    "duration": 13,
    "start_time": "2021-07-08T09:05:54.755Z"
   },
   {
    "duration": 4,
    "start_time": "2021-07-08T09:06:29.189Z"
   },
   {
    "duration": 244,
    "start_time": "2021-07-08T09:06:29.195Z"
   },
   {
    "duration": 91,
    "start_time": "2021-07-08T09:06:29.441Z"
   },
   {
    "duration": 4,
    "start_time": "2021-07-08T09:06:29.534Z"
   },
   {
    "duration": 28,
    "start_time": "2021-07-08T09:06:29.540Z"
   },
   {
    "duration": 6,
    "start_time": "2021-07-08T09:06:29.570Z"
   },
   {
    "duration": 18,
    "start_time": "2021-07-08T09:06:29.578Z"
   },
   {
    "duration": 5,
    "start_time": "2021-07-08T09:06:29.597Z"
   },
   {
    "duration": 13,
    "start_time": "2021-07-08T09:06:29.605Z"
   },
   {
    "duration": 8,
    "start_time": "2021-07-08T09:06:29.620Z"
   },
   {
    "duration": 7,
    "start_time": "2021-07-08T09:06:29.630Z"
   },
   {
    "duration": 63,
    "start_time": "2021-07-08T09:06:29.639Z"
   },
   {
    "duration": 17,
    "start_time": "2021-07-08T09:06:29.704Z"
   },
   {
    "duration": 20,
    "start_time": "2021-07-08T09:06:29.723Z"
   },
   {
    "duration": 6,
    "start_time": "2021-07-08T09:06:29.745Z"
   },
   {
    "duration": 3,
    "start_time": "2021-07-08T09:06:29.752Z"
   },
   {
    "duration": 7,
    "start_time": "2021-07-08T09:06:29.785Z"
   },
   {
    "duration": 11,
    "start_time": "2021-07-08T09:06:29.794Z"
   },
   {
    "duration": 15,
    "start_time": "2021-07-08T09:06:29.807Z"
   },
   {
    "duration": 8,
    "start_time": "2021-07-08T09:06:29.823Z"
   },
   {
    "duration": 70,
    "start_time": "2021-07-08T09:06:29.832Z"
   },
   {
    "duration": 17,
    "start_time": "2021-07-08T09:06:29.903Z"
   },
   {
    "duration": 9,
    "start_time": "2021-07-08T09:06:29.921Z"
   },
   {
    "duration": 9,
    "start_time": "2021-07-08T09:06:29.932Z"
   },
   {
    "duration": 57,
    "start_time": "2021-07-08T09:06:29.942Z"
   },
   {
    "duration": 11,
    "start_time": "2021-07-08T09:06:30.001Z"
   },
   {
    "duration": 19,
    "start_time": "2021-07-08T09:06:30.016Z"
   },
   {
    "duration": 217,
    "start_time": "2021-07-08T09:06:30.037Z"
   },
   {
    "duration": 6,
    "start_time": "2021-07-08T09:06:30.255Z"
   },
   {
    "duration": 205,
    "start_time": "2021-07-08T09:06:30.263Z"
   },
   {
    "duration": 27,
    "start_time": "2021-07-08T09:06:30.470Z"
   },
   {
    "duration": 11,
    "start_time": "2021-07-08T09:06:30.500Z"
   },
   {
    "duration": 31,
    "start_time": "2021-07-08T09:06:30.513Z"
   },
   {
    "duration": 18,
    "start_time": "2021-07-08T09:06:30.546Z"
   },
   {
    "duration": 11,
    "start_time": "2021-07-08T09:06:30.566Z"
   },
   {
    "duration": 19,
    "start_time": "2021-07-08T09:06:30.579Z"
   },
   {
    "duration": 20,
    "start_time": "2021-07-08T09:06:49.466Z"
   },
   {
    "duration": 9,
    "start_time": "2021-07-08T09:06:51.994Z"
   },
   {
    "duration": 20,
    "start_time": "2021-07-08T09:06:52.273Z"
   },
   {
    "duration": 246,
    "start_time": "2021-07-08T09:10:21.272Z"
   },
   {
    "duration": 84,
    "start_time": "2021-07-08T09:10:21.436Z"
   },
   {
    "duration": 7,
    "start_time": "2021-07-08T09:10:37.608Z"
   },
   {
    "duration": 189,
    "start_time": "2021-07-08T09:10:38.573Z"
   },
   {
    "duration": 185,
    "start_time": "2021-07-08T09:10:53.181Z"
   },
   {
    "duration": 11,
    "start_time": "2021-07-08T09:10:59.549Z"
   },
   {
    "duration": 42,
    "start_time": "2021-07-08T09:10:59.709Z"
   },
   {
    "duration": 12,
    "start_time": "2021-07-08T09:11:02.857Z"
   },
   {
    "duration": 28,
    "start_time": "2021-07-08T09:11:10.062Z"
   },
   {
    "duration": 249,
    "start_time": "2021-07-08T09:11:37.388Z"
   },
   {
    "duration": 232,
    "start_time": "2021-07-08T09:11:49.485Z"
   },
   {
    "duration": 453,
    "start_time": "2021-07-08T09:12:01.546Z"
   },
   {
    "duration": 440,
    "start_time": "2021-07-08T09:12:12.347Z"
   },
   {
    "duration": 213,
    "start_time": "2021-07-08T09:13:32.196Z"
   },
   {
    "duration": 172,
    "start_time": "2021-07-08T09:14:07.400Z"
   },
   {
    "duration": 185,
    "start_time": "2021-07-08T09:14:14.905Z"
   },
   {
    "duration": 209,
    "start_time": "2021-07-08T09:14:40.109Z"
   },
   {
    "duration": 201,
    "start_time": "2021-07-08T09:14:54.506Z"
   },
   {
    "duration": 622,
    "start_time": "2021-07-08T09:18:14.497Z"
   },
   {
    "duration": 220,
    "start_time": "2021-07-08T09:18:15.121Z"
   },
   {
    "duration": 79,
    "start_time": "2021-07-08T09:18:15.343Z"
   },
   {
    "duration": 4,
    "start_time": "2021-07-08T09:18:15.425Z"
   },
   {
    "duration": 24,
    "start_time": "2021-07-08T09:18:15.431Z"
   },
   {
    "duration": 8,
    "start_time": "2021-07-08T09:18:15.457Z"
   },
   {
    "duration": 16,
    "start_time": "2021-07-08T09:18:15.466Z"
   },
   {
    "duration": 5,
    "start_time": "2021-07-08T09:18:15.484Z"
   },
   {
    "duration": 10,
    "start_time": "2021-07-08T09:18:15.493Z"
   },
   {
    "duration": 8,
    "start_time": "2021-07-08T09:18:15.504Z"
   },
   {
    "duration": 7,
    "start_time": "2021-07-08T09:18:15.513Z"
   },
   {
    "duration": 26,
    "start_time": "2021-07-08T09:18:15.522Z"
   },
   {
    "duration": 49,
    "start_time": "2021-07-08T09:18:15.550Z"
   },
   {
    "duration": 21,
    "start_time": "2021-07-08T09:18:15.601Z"
   },
   {
    "duration": 8,
    "start_time": "2021-07-08T09:18:15.624Z"
   },
   {
    "duration": 3,
    "start_time": "2021-07-08T09:18:15.634Z"
   },
   {
    "duration": 8,
    "start_time": "2021-07-08T09:18:15.639Z"
   },
   {
    "duration": 45,
    "start_time": "2021-07-08T09:18:15.649Z"
   },
   {
    "duration": 13,
    "start_time": "2021-07-08T09:18:15.696Z"
   },
   {
    "duration": 10,
    "start_time": "2021-07-08T09:18:15.711Z"
   },
   {
    "duration": 64,
    "start_time": "2021-07-08T09:18:15.722Z"
   },
   {
    "duration": 19,
    "start_time": "2021-07-08T09:18:15.788Z"
   },
   {
    "duration": 9,
    "start_time": "2021-07-08T09:18:15.809Z"
   },
   {
    "duration": 9,
    "start_time": "2021-07-08T09:18:15.820Z"
   },
   {
    "duration": 18,
    "start_time": "2021-07-08T09:18:15.831Z"
   },
   {
    "duration": 43,
    "start_time": "2021-07-08T09:18:15.851Z"
   },
   {
    "duration": 12,
    "start_time": "2021-07-08T09:18:15.897Z"
   },
   {
    "duration": 219,
    "start_time": "2021-07-08T09:18:15.911Z"
   },
   {
    "duration": 8,
    "start_time": "2021-07-08T09:18:16.132Z"
   },
   {
    "duration": 199,
    "start_time": "2021-07-08T09:18:16.141Z"
   },
   {
    "duration": 18,
    "start_time": "2021-07-08T09:18:16.341Z"
   },
   {
    "duration": 24,
    "start_time": "2021-07-08T09:18:16.361Z"
   },
   {
    "duration": 24,
    "start_time": "2021-07-08T09:18:16.387Z"
   },
   {
    "duration": 211,
    "start_time": "2021-07-08T09:18:16.413Z"
   },
   {
    "duration": 18,
    "start_time": "2021-07-08T09:18:16.626Z"
   },
   {
    "duration": 596,
    "start_time": "2021-07-08T10:06:33.623Z"
   },
   {
    "duration": 181,
    "start_time": "2021-07-08T10:06:34.221Z"
   },
   {
    "duration": 176,
    "start_time": "2021-07-08T10:06:34.635Z"
   },
   {
    "duration": 239,
    "start_time": "2021-07-08T10:06:55.572Z"
   },
   {
    "duration": 6,
    "start_time": "2021-07-08T10:06:57.687Z"
   },
   {
    "duration": 4,
    "start_time": "2021-07-08T10:07:03.956Z"
   },
   {
    "duration": 4,
    "start_time": "2021-07-08T10:07:10.376Z"
   },
   {
    "duration": 4,
    "start_time": "2021-07-08T10:17:19.889Z"
   },
   {
    "duration": 3,
    "start_time": "2021-07-08T10:19:19.407Z"
   },
   {
    "duration": 197,
    "start_time": "2021-07-08T10:19:19.412Z"
   },
   {
    "duration": 127,
    "start_time": "2021-07-08T10:19:19.611Z"
   },
   {
    "duration": 4,
    "start_time": "2021-07-08T10:19:19.740Z"
   },
   {
    "duration": 27,
    "start_time": "2021-07-08T10:19:19.746Z"
   },
   {
    "duration": 7,
    "start_time": "2021-07-08T10:19:19.775Z"
   },
   {
    "duration": 30,
    "start_time": "2021-07-08T10:19:19.784Z"
   },
   {
    "duration": 7,
    "start_time": "2021-07-08T10:19:19.817Z"
   },
   {
    "duration": 26,
    "start_time": "2021-07-08T10:19:19.826Z"
   },
   {
    "duration": 18,
    "start_time": "2021-07-08T10:19:19.854Z"
   },
   {
    "duration": 14,
    "start_time": "2021-07-08T10:19:19.874Z"
   },
   {
    "duration": 48,
    "start_time": "2021-07-08T10:19:19.890Z"
   },
   {
    "duration": 17,
    "start_time": "2021-07-08T10:19:19.940Z"
   },
   {
    "duration": 38,
    "start_time": "2021-07-08T10:19:19.959Z"
   },
   {
    "duration": 8,
    "start_time": "2021-07-08T10:19:19.999Z"
   },
   {
    "duration": 15,
    "start_time": "2021-07-08T10:19:20.009Z"
   },
   {
    "duration": 22,
    "start_time": "2021-07-08T10:19:20.026Z"
   },
   {
    "duration": 10,
    "start_time": "2021-07-08T10:19:20.050Z"
   },
   {
    "duration": 10,
    "start_time": "2021-07-08T10:19:20.062Z"
   },
   {
    "duration": 20,
    "start_time": "2021-07-08T10:19:20.073Z"
   },
   {
    "duration": 29,
    "start_time": "2021-07-08T10:19:20.095Z"
   },
   {
    "duration": 17,
    "start_time": "2021-07-08T10:19:20.126Z"
   },
   {
    "duration": 40,
    "start_time": "2021-07-08T10:19:20.146Z"
   },
   {
    "duration": 15,
    "start_time": "2021-07-08T10:19:20.189Z"
   },
   {
    "duration": 19,
    "start_time": "2021-07-08T10:19:20.206Z"
   },
   {
    "duration": 10,
    "start_time": "2021-07-08T10:19:20.226Z"
   },
   {
    "duration": 11,
    "start_time": "2021-07-08T10:19:20.238Z"
   },
   {
    "duration": 297,
    "start_time": "2021-07-08T10:19:20.250Z"
   },
   {
    "duration": 6,
    "start_time": "2021-07-08T10:19:20.549Z"
   },
   {
    "duration": 191,
    "start_time": "2021-07-08T10:19:20.557Z"
   },
   {
    "duration": 19,
    "start_time": "2021-07-08T10:19:20.750Z"
   },
   {
    "duration": 20,
    "start_time": "2021-07-08T10:19:20.771Z"
   },
   {
    "duration": 15,
    "start_time": "2021-07-08T10:19:20.793Z"
   },
   {
    "duration": 222,
    "start_time": "2021-07-08T10:19:20.809Z"
   },
   {
    "duration": 20,
    "start_time": "2021-07-08T10:19:21.033Z"
   },
   {
    "duration": 27,
    "start_time": "2021-07-08T10:45:04.055Z"
   },
   {
    "duration": 8,
    "start_time": "2021-07-08T10:45:08.478Z"
   },
   {
    "duration": 8,
    "start_time": "2021-07-08T10:45:31.982Z"
   },
   {
    "duration": 10,
    "start_time": "2021-07-08T10:46:01.221Z"
   },
   {
    "duration": 17,
    "start_time": "2021-07-08T10:46:40.011Z"
   },
   {
    "duration": 193,
    "start_time": "2021-07-08T10:48:19.471Z"
   },
   {
    "duration": 225,
    "start_time": "2021-07-08T10:49:26.480Z"
   },
   {
    "duration": 204,
    "start_time": "2021-07-08T10:49:59.992Z"
   },
   {
    "duration": 435,
    "start_time": "2021-07-08T10:50:06.779Z"
   },
   {
    "duration": 199,
    "start_time": "2021-07-08T10:50:14.891Z"
   },
   {
    "duration": 204,
    "start_time": "2021-07-08T10:50:18.501Z"
   },
   {
    "duration": 244,
    "start_time": "2021-07-08T10:50:23.359Z"
   },
   {
    "duration": 192,
    "start_time": "2021-07-08T10:50:29.135Z"
   },
   {
    "duration": 218,
    "start_time": "2021-07-08T10:50:33.092Z"
   },
   {
    "duration": 207,
    "start_time": "2021-07-08T10:52:45.381Z"
   },
   {
    "duration": 5,
    "start_time": "2021-07-08T10:53:34.641Z"
   },
   {
    "duration": 196,
    "start_time": "2021-07-08T10:53:41.478Z"
   },
   {
    "duration": 43,
    "start_time": "2021-07-08T10:53:50.335Z"
   },
   {
    "duration": 32,
    "start_time": "2021-07-08T10:53:55.294Z"
   },
   {
    "duration": 55,
    "start_time": "2021-07-08T10:54:09.675Z"
   },
   {
    "duration": 16,
    "start_time": "2021-07-08T10:54:12.260Z"
   },
   {
    "duration": 15,
    "start_time": "2021-07-08T10:54:49.150Z"
   },
   {
    "duration": 20,
    "start_time": "2021-07-08T10:56:07.596Z"
   },
   {
    "duration": 16,
    "start_time": "2021-07-08T10:58:26.276Z"
   },
   {
    "duration": 22,
    "start_time": "2021-07-08T10:59:00.486Z"
   },
   {
    "duration": 18,
    "start_time": "2021-07-08T11:02:09.653Z"
   },
   {
    "duration": 10,
    "start_time": "2021-07-08T11:03:44.331Z"
   },
   {
    "duration": 10,
    "start_time": "2021-07-08T11:03:54.055Z"
   },
   {
    "duration": 12,
    "start_time": "2021-07-08T11:04:41.967Z"
   },
   {
    "duration": 24,
    "start_time": "2021-07-08T11:07:30.732Z"
   },
   {
    "duration": 6,
    "start_time": "2021-07-08T11:07:37.364Z"
   },
   {
    "duration": 16,
    "start_time": "2021-07-08T11:08:01.819Z"
   },
   {
    "duration": 17,
    "start_time": "2021-07-08T11:09:47.488Z"
   },
   {
    "duration": 246,
    "start_time": "2021-07-08T11:10:00.830Z"
   },
   {
    "duration": 18,
    "start_time": "2021-07-08T11:13:55.195Z"
   },
   {
    "duration": 204,
    "start_time": "2021-07-08T11:14:04.951Z"
   },
   {
    "duration": 19,
    "start_time": "2021-07-08T11:15:10.613Z"
   },
   {
    "duration": 680,
    "start_time": "2021-07-08T11:16:25.793Z"
   },
   {
    "duration": 451,
    "start_time": "2021-07-08T11:16:40.313Z"
   },
   {
    "duration": 469,
    "start_time": "2021-07-08T11:17:21.286Z"
   },
   {
    "duration": 20,
    "start_time": "2021-07-08T11:19:12.554Z"
   },
   {
    "duration": 35,
    "start_time": "2021-07-08T11:20:05.484Z"
   },
   {
    "duration": 53,
    "start_time": "2021-07-08T11:21:40.050Z"
   },
   {
    "duration": 13,
    "start_time": "2021-07-08T11:22:26.059Z"
   },
   {
    "duration": 19,
    "start_time": "2021-07-08T11:22:47.419Z"
   },
   {
    "duration": 25,
    "start_time": "2021-07-08T11:23:19.958Z"
   },
   {
    "duration": 29,
    "start_time": "2021-07-08T11:23:25.415Z"
   },
   {
    "duration": 10,
    "start_time": "2021-07-08T11:24:45.138Z"
   },
   {
    "duration": 19,
    "start_time": "2021-07-08T11:24:54.498Z"
   },
   {
    "duration": 12,
    "start_time": "2021-07-08T11:25:32.225Z"
   },
   {
    "duration": 19,
    "start_time": "2021-07-08T11:25:37.092Z"
   },
   {
    "duration": 17,
    "start_time": "2021-07-08T11:25:58.116Z"
   },
   {
    "duration": 15,
    "start_time": "2021-07-08T11:26:02.258Z"
   },
   {
    "duration": 8,
    "start_time": "2021-07-08T11:26:59.682Z"
   },
   {
    "duration": 184,
    "start_time": "2021-07-08T11:27:21.894Z"
   },
   {
    "duration": 8,
    "start_time": "2021-07-08T11:27:23.824Z"
   },
   {
    "duration": 202,
    "start_time": "2021-07-08T11:27:23.962Z"
   },
   {
    "duration": 360,
    "start_time": "2021-07-08T11:28:33.215Z"
   },
   {
    "duration": 231,
    "start_time": "2021-07-08T11:32:05.542Z"
   },
   {
    "duration": 607,
    "start_time": "2021-07-08T11:36:27.854Z"
   },
   {
    "duration": 241,
    "start_time": "2021-07-08T11:36:28.463Z"
   },
   {
    "duration": 67,
    "start_time": "2021-07-08T11:36:28.709Z"
   },
   {
    "duration": 5,
    "start_time": "2021-07-08T11:36:28.778Z"
   },
   {
    "duration": 32,
    "start_time": "2021-07-08T11:36:28.784Z"
   },
   {
    "duration": 11,
    "start_time": "2021-07-08T11:36:28.819Z"
   },
   {
    "duration": 20,
    "start_time": "2021-07-08T11:36:28.834Z"
   },
   {
    "duration": 36,
    "start_time": "2021-07-08T11:36:28.857Z"
   },
   {
    "duration": 16,
    "start_time": "2021-07-08T11:36:28.895Z"
   },
   {
    "duration": 14,
    "start_time": "2021-07-08T11:36:28.913Z"
   },
   {
    "duration": 9,
    "start_time": "2021-07-08T11:36:28.930Z"
   },
   {
    "duration": 55,
    "start_time": "2021-07-08T11:36:28.941Z"
   },
   {
    "duration": 27,
    "start_time": "2021-07-08T11:36:28.999Z"
   },
   {
    "duration": 30,
    "start_time": "2021-07-08T11:36:29.028Z"
   },
   {
    "duration": 31,
    "start_time": "2021-07-08T11:36:29.060Z"
   },
   {
    "duration": 3,
    "start_time": "2021-07-08T11:36:29.093Z"
   },
   {
    "duration": 12,
    "start_time": "2021-07-08T11:36:29.099Z"
   },
   {
    "duration": 11,
    "start_time": "2021-07-08T11:36:29.112Z"
   },
   {
    "duration": 12,
    "start_time": "2021-07-08T11:36:29.125Z"
   },
   {
    "duration": 9,
    "start_time": "2021-07-08T11:36:29.139Z"
   },
   {
    "duration": 31,
    "start_time": "2021-07-08T11:36:29.191Z"
   },
   {
    "duration": 17,
    "start_time": "2021-07-08T11:36:29.226Z"
   },
   {
    "duration": 7,
    "start_time": "2021-07-08T11:36:29.245Z"
   },
   {
    "duration": 10,
    "start_time": "2021-07-08T11:36:29.254Z"
   },
   {
    "duration": 30,
    "start_time": "2021-07-08T11:36:29.292Z"
   },
   {
    "duration": 11,
    "start_time": "2021-07-08T11:36:29.324Z"
   },
   {
    "duration": 11,
    "start_time": "2021-07-08T11:36:29.337Z"
   },
   {
    "duration": 230,
    "start_time": "2021-07-08T11:36:29.349Z"
   },
   {
    "duration": 13,
    "start_time": "2021-07-08T11:36:29.588Z"
   },
   {
    "duration": 205,
    "start_time": "2021-07-08T11:36:29.603Z"
   },
   {
    "duration": 20,
    "start_time": "2021-07-08T11:36:29.810Z"
   },
   {
    "duration": 9,
    "start_time": "2021-07-08T11:36:29.832Z"
   },
   {
    "duration": 16,
    "start_time": "2021-07-08T11:36:29.843Z"
   },
   {
    "duration": 283,
    "start_time": "2021-07-08T11:36:29.861Z"
   },
   {
    "duration": 50,
    "start_time": "2021-07-08T11:36:30.146Z"
   },
   {
    "duration": 14,
    "start_time": "2021-07-08T11:36:30.198Z"
   },
   {
    "duration": 11,
    "start_time": "2021-07-08T11:36:30.214Z"
   },
   {
    "duration": 245,
    "start_time": "2021-07-08T11:36:30.227Z"
   },
   {
    "duration": 439,
    "start_time": "2021-07-08T11:36:30.474Z"
   },
   {
    "duration": 210,
    "start_time": "2021-07-08T11:36:30.915Z"
   },
   {
    "duration": 15,
    "start_time": "2021-07-08T11:36:31.127Z"
   },
   {
    "duration": 17,
    "start_time": "2021-07-08T11:38:20.451Z"
   },
   {
    "duration": 642,
    "start_time": "2021-07-08T11:46:17.881Z"
   },
   {
    "duration": 210,
    "start_time": "2021-07-08T11:46:18.525Z"
   },
   {
    "duration": 104,
    "start_time": "2021-07-08T11:46:18.741Z"
   },
   {
    "duration": 8,
    "start_time": "2021-07-08T11:46:18.847Z"
   },
   {
    "duration": 25,
    "start_time": "2021-07-08T11:46:18.857Z"
   },
   {
    "duration": 14,
    "start_time": "2021-07-08T11:46:18.884Z"
   },
   {
    "duration": 22,
    "start_time": "2021-07-08T11:46:18.900Z"
   },
   {
    "duration": 5,
    "start_time": "2021-07-08T11:46:18.924Z"
   },
   {
    "duration": 13,
    "start_time": "2021-07-08T11:46:18.931Z"
   },
   {
    "duration": 45,
    "start_time": "2021-07-08T11:46:18.946Z"
   },
   {
    "duration": 12,
    "start_time": "2021-07-08T11:46:18.993Z"
   },
   {
    "duration": 38,
    "start_time": "2021-07-08T11:46:19.006Z"
   },
   {
    "duration": 50,
    "start_time": "2021-07-08T11:46:19.046Z"
   },
   {
    "duration": 29,
    "start_time": "2021-07-08T11:46:19.099Z"
   },
   {
    "duration": 7,
    "start_time": "2021-07-08T11:46:19.130Z"
   },
   {
    "duration": 3,
    "start_time": "2021-07-08T11:46:19.139Z"
   },
   {
    "duration": 11,
    "start_time": "2021-07-08T11:46:19.144Z"
   },
   {
    "duration": 40,
    "start_time": "2021-07-08T11:46:19.157Z"
   },
   {
    "duration": 15,
    "start_time": "2021-07-08T11:46:19.199Z"
   },
   {
    "duration": 10,
    "start_time": "2021-07-08T11:46:19.217Z"
   },
   {
    "duration": 68,
    "start_time": "2021-07-08T11:46:19.230Z"
   },
   {
    "duration": 17,
    "start_time": "2021-07-08T11:46:19.301Z"
   },
   {
    "duration": 7,
    "start_time": "2021-07-08T11:46:19.321Z"
   },
   {
    "duration": 11,
    "start_time": "2021-07-08T11:46:19.330Z"
   },
   {
    "duration": 59,
    "start_time": "2021-07-08T11:46:19.343Z"
   },
   {
    "duration": 17,
    "start_time": "2021-07-08T11:46:19.405Z"
   },
   {
    "duration": 16,
    "start_time": "2021-07-08T11:46:19.424Z"
   },
   {
    "duration": 252,
    "start_time": "2021-07-08T11:46:19.443Z"
   },
   {
    "duration": 9,
    "start_time": "2021-07-08T11:46:19.697Z"
   },
   {
    "duration": 224,
    "start_time": "2021-07-08T11:46:19.708Z"
   },
   {
    "duration": 21,
    "start_time": "2021-07-08T11:46:19.934Z"
   },
   {
    "duration": 9,
    "start_time": "2021-07-08T11:46:19.956Z"
   },
   {
    "duration": 32,
    "start_time": "2021-07-08T11:46:19.967Z"
   },
   {
    "duration": 288,
    "start_time": "2021-07-08T11:46:20.004Z"
   },
   {
    "duration": 23,
    "start_time": "2021-07-08T11:46:20.300Z"
   },
   {
    "duration": 11,
    "start_time": "2021-07-08T11:46:20.325Z"
   },
   {
    "duration": 11,
    "start_time": "2021-07-08T11:46:20.339Z"
   },
   {
    "duration": 259,
    "start_time": "2021-07-08T11:46:20.352Z"
   },
   {
    "duration": 438,
    "start_time": "2021-07-08T11:46:20.613Z"
   },
   {
    "duration": 207,
    "start_time": "2021-07-08T11:46:21.054Z"
   },
   {
    "duration": 27,
    "start_time": "2021-07-08T11:46:21.262Z"
   },
   {
    "duration": 19,
    "start_time": "2021-07-08T11:46:21.291Z"
   },
   {
    "duration": 820,
    "start_time": "2021-07-08T11:49:01.655Z"
   },
   {
    "duration": 372,
    "start_time": "2021-07-08T11:49:02.478Z"
   },
   {
    "duration": 98,
    "start_time": "2021-07-08T11:49:02.853Z"
   },
   {
    "duration": 6,
    "start_time": "2021-07-08T11:49:02.953Z"
   },
   {
    "duration": 39,
    "start_time": "2021-07-08T11:49:02.960Z"
   },
   {
    "duration": 9,
    "start_time": "2021-07-08T11:49:03.003Z"
   },
   {
    "duration": 23,
    "start_time": "2021-07-08T11:49:03.014Z"
   },
   {
    "duration": 6,
    "start_time": "2021-07-08T11:49:03.041Z"
   },
   {
    "duration": 20,
    "start_time": "2021-07-08T11:49:03.049Z"
   },
   {
    "duration": 18,
    "start_time": "2021-07-08T11:49:03.084Z"
   },
   {
    "duration": 14,
    "start_time": "2021-07-08T11:49:03.104Z"
   },
   {
    "duration": 39,
    "start_time": "2021-07-08T11:49:03.119Z"
   },
   {
    "duration": 38,
    "start_time": "2021-07-08T11:49:03.160Z"
   },
   {
    "duration": 26,
    "start_time": "2021-07-08T11:49:03.200Z"
   },
   {
    "duration": 7,
    "start_time": "2021-07-08T11:49:03.227Z"
   },
   {
    "duration": 4,
    "start_time": "2021-07-08T11:49:03.236Z"
   },
   {
    "duration": 15,
    "start_time": "2021-07-08T11:49:03.243Z"
   },
   {
    "duration": 21,
    "start_time": "2021-07-08T11:49:03.285Z"
   },
   {
    "duration": 17,
    "start_time": "2021-07-08T11:49:03.309Z"
   },
   {
    "duration": 10,
    "start_time": "2021-07-08T11:49:03.328Z"
   },
   {
    "duration": 65,
    "start_time": "2021-07-08T11:49:03.340Z"
   },
   {
    "duration": 18,
    "start_time": "2021-07-08T11:49:03.407Z"
   },
   {
    "duration": 8,
    "start_time": "2021-07-08T11:49:03.428Z"
   },
   {
    "duration": 15,
    "start_time": "2021-07-08T11:49:03.438Z"
   },
   {
    "duration": 40,
    "start_time": "2021-07-08T11:49:03.455Z"
   },
   {
    "duration": 12,
    "start_time": "2021-07-08T11:49:03.497Z"
   },
   {
    "duration": 29,
    "start_time": "2021-07-08T11:49:03.511Z"
   },
   {
    "duration": 285,
    "start_time": "2021-07-08T11:49:03.542Z"
   },
   {
    "duration": 8,
    "start_time": "2021-07-08T11:49:03.829Z"
   },
   {
    "duration": 227,
    "start_time": "2021-07-08T11:49:03.838Z"
   },
   {
    "duration": 40,
    "start_time": "2021-07-08T11:49:04.066Z"
   },
   {
    "duration": 10,
    "start_time": "2021-07-08T11:49:04.108Z"
   },
   {
    "duration": 26,
    "start_time": "2021-07-08T11:49:04.121Z"
   },
   {
    "duration": 290,
    "start_time": "2021-07-08T11:49:04.149Z"
   },
   {
    "duration": 26,
    "start_time": "2021-07-08T11:49:04.441Z"
   },
   {
    "duration": 31,
    "start_time": "2021-07-08T11:49:04.470Z"
   },
   {
    "duration": 14,
    "start_time": "2021-07-08T11:49:04.503Z"
   },
   {
    "duration": 259,
    "start_time": "2021-07-08T11:49:04.521Z"
   },
   {
    "duration": 480,
    "start_time": "2021-07-08T11:49:04.782Z"
   },
   {
    "duration": 225,
    "start_time": "2021-07-08T11:49:05.264Z"
   },
   {
    "duration": 22,
    "start_time": "2021-07-08T11:49:05.491Z"
   },
   {
    "duration": 24,
    "start_time": "2021-07-08T11:49:05.515Z"
   },
   {
    "duration": 634,
    "start_time": "2021-07-08T11:52:24.960Z"
   },
   {
    "duration": 199,
    "start_time": "2021-07-08T11:52:25.599Z"
   },
   {
    "duration": 106,
    "start_time": "2021-07-08T11:52:25.803Z"
   },
   {
    "duration": 7,
    "start_time": "2021-07-08T11:52:25.911Z"
   },
   {
    "duration": 29,
    "start_time": "2021-07-08T11:52:25.920Z"
   },
   {
    "duration": 7,
    "start_time": "2021-07-08T11:52:25.951Z"
   },
   {
    "duration": 26,
    "start_time": "2021-07-08T11:52:25.961Z"
   },
   {
    "duration": 11,
    "start_time": "2021-07-08T11:52:25.990Z"
   },
   {
    "duration": 29,
    "start_time": "2021-07-08T11:52:26.005Z"
   },
   {
    "duration": 9,
    "start_time": "2021-07-08T11:52:26.036Z"
   },
   {
    "duration": 8,
    "start_time": "2021-07-08T11:52:26.047Z"
   },
   {
    "duration": 63,
    "start_time": "2021-07-08T11:52:26.057Z"
   },
   {
    "duration": 17,
    "start_time": "2021-07-08T11:52:26.122Z"
   },
   {
    "duration": 43,
    "start_time": "2021-07-08T11:52:26.142Z"
   },
   {
    "duration": 17,
    "start_time": "2021-07-08T11:52:26.187Z"
   },
   {
    "duration": 5,
    "start_time": "2021-07-08T11:52:26.206Z"
   },
   {
    "duration": 12,
    "start_time": "2021-07-08T11:52:26.212Z"
   },
   {
    "duration": 11,
    "start_time": "2021-07-08T11:52:26.226Z"
   },
   {
    "duration": 12,
    "start_time": "2021-07-08T11:52:26.238Z"
   },
   {
    "duration": 38,
    "start_time": "2021-07-08T11:52:26.252Z"
   },
   {
    "duration": 40,
    "start_time": "2021-07-08T11:52:26.292Z"
   },
   {
    "duration": 17,
    "start_time": "2021-07-08T11:52:26.336Z"
   },
   {
    "duration": 39,
    "start_time": "2021-07-08T11:52:26.355Z"
   },
   {
    "duration": 11,
    "start_time": "2021-07-08T11:52:26.395Z"
   },
   {
    "duration": 23,
    "start_time": "2021-07-08T11:52:26.408Z"
   },
   {
    "duration": 12,
    "start_time": "2021-07-08T11:52:26.432Z"
   },
   {
    "duration": 41,
    "start_time": "2021-07-08T11:52:26.446Z"
   },
   {
    "duration": 215,
    "start_time": "2021-07-08T11:52:26.493Z"
   },
   {
    "duration": 8,
    "start_time": "2021-07-08T11:52:26.710Z"
   },
   {
    "duration": 228,
    "start_time": "2021-07-08T11:52:26.720Z"
   },
   {
    "duration": 18,
    "start_time": "2021-07-08T11:52:26.950Z"
   },
   {
    "duration": 35,
    "start_time": "2021-07-08T11:52:26.969Z"
   },
   {
    "duration": 23,
    "start_time": "2021-07-08T11:52:27.006Z"
   },
   {
    "duration": 258,
    "start_time": "2021-07-08T11:52:27.030Z"
   },
   {
    "duration": 24,
    "start_time": "2021-07-08T11:52:27.290Z"
   },
   {
    "duration": 12,
    "start_time": "2021-07-08T11:52:27.316Z"
   },
   {
    "duration": 10,
    "start_time": "2021-07-08T11:52:27.329Z"
   },
   {
    "duration": 298,
    "start_time": "2021-07-08T11:52:27.341Z"
   },
   {
    "duration": 436,
    "start_time": "2021-07-08T11:52:27.641Z"
   },
   {
    "duration": 216,
    "start_time": "2021-07-08T11:52:28.079Z"
   },
   {
    "duration": 20,
    "start_time": "2021-07-08T11:52:28.297Z"
   },
   {
    "duration": 17,
    "start_time": "2021-07-08T11:52:28.319Z"
   },
   {
    "duration": 688,
    "start_time": "2021-12-16T12:01:54.567Z"
   },
   {
    "duration": 108,
    "start_time": "2021-12-16T12:02:23.954Z"
   },
   {
    "duration": 104,
    "start_time": "2021-12-16T12:02:38.177Z"
   },
   {
    "duration": 118,
    "start_time": "2021-12-16T12:03:28.645Z"
   },
   {
    "duration": 114,
    "start_time": "2021-12-16T12:04:06.705Z"
   },
   {
    "duration": 10,
    "start_time": "2021-12-16T12:04:59.883Z"
   },
   {
    "duration": 1384,
    "start_time": "2021-12-16T12:12:53.760Z"
   },
   {
    "duration": 6,
    "start_time": "2021-12-16T12:13:51.006Z"
   },
   {
    "duration": 7,
    "start_time": "2021-12-16T12:16:29.956Z"
   },
   {
    "duration": 6,
    "start_time": "2021-12-16T12:21:12.584Z"
   },
   {
    "duration": 6,
    "start_time": "2021-12-16T12:21:23.080Z"
   },
   {
    "duration": 5,
    "start_time": "2021-12-16T12:21:23.839Z"
   },
   {
    "duration": 6,
    "start_time": "2021-12-16T12:21:24.410Z"
   },
   {
    "duration": 677,
    "start_time": "2021-12-16T12:21:42.807Z"
   },
   {
    "duration": 10,
    "start_time": "2021-12-16T12:21:43.486Z"
   },
   {
    "duration": 15,
    "start_time": "2021-12-16T12:21:43.498Z"
   },
   {
    "duration": 5,
    "start_time": "2021-12-16T12:28:21.136Z"
   },
   {
    "duration": 6,
    "start_time": "2021-12-16T12:28:40.855Z"
   },
   {
    "duration": 7,
    "start_time": "2021-12-16T12:28:47.264Z"
   },
   {
    "duration": 8,
    "start_time": "2021-12-16T12:29:01.343Z"
   },
   {
    "duration": 310,
    "start_time": "2021-12-16T12:29:52.444Z"
   },
   {
    "duration": 6,
    "start_time": "2021-12-16T12:30:21.852Z"
   },
   {
    "duration": 1040,
    "start_time": "2021-12-16T12:33:02.186Z"
   },
   {
    "duration": 1119,
    "start_time": "2021-12-16T12:35:09.662Z"
   },
   {
    "duration": 1095,
    "start_time": "2021-12-16T12:35:36.840Z"
   },
   {
    "duration": 5356,
    "start_time": "2021-12-16T12:35:41.675Z"
   },
   {
    "duration": 2513,
    "start_time": "2021-12-16T12:36:09.143Z"
   },
   {
    "duration": 2558,
    "start_time": "2021-12-16T12:36:44.386Z"
   },
   {
    "duration": 771,
    "start_time": "2021-12-16T12:38:53.228Z"
   },
   {
    "duration": 11,
    "start_time": "2021-12-16T12:38:54.002Z"
   },
   {
    "duration": 1049,
    "start_time": "2021-12-16T12:38:54.015Z"
   },
   {
    "duration": 21,
    "start_time": "2021-12-16T12:38:55.065Z"
   },
   {
    "duration": 24,
    "start_time": "2021-12-16T12:40:31.024Z"
   },
   {
    "duration": 724,
    "start_time": "2021-12-16T12:40:52.663Z"
   },
   {
    "duration": 10,
    "start_time": "2021-12-16T12:40:53.389Z"
   },
   {
    "duration": 1074,
    "start_time": "2021-12-16T12:40:53.401Z"
   },
   {
    "duration": 27,
    "start_time": "2021-12-16T12:40:54.477Z"
   },
   {
    "duration": 8,
    "start_time": "2021-12-16T12:42:03.792Z"
   },
   {
    "duration": 738,
    "start_time": "2021-12-16T12:42:10.984Z"
   },
   {
    "duration": 10,
    "start_time": "2021-12-16T12:42:11.723Z"
   },
   {
    "duration": 1071,
    "start_time": "2021-12-16T12:42:11.735Z"
   },
   {
    "duration": 21,
    "start_time": "2021-12-16T12:42:12.808Z"
   },
   {
    "duration": 10,
    "start_time": "2021-12-16T12:42:53.348Z"
   },
   {
    "duration": 11,
    "start_time": "2021-12-16T12:48:55.141Z"
   },
   {
    "duration": 22,
    "start_time": "2021-12-16T12:49:08.333Z"
   },
   {
    "duration": 11,
    "start_time": "2021-12-16T12:50:24.764Z"
   },
   {
    "duration": 24,
    "start_time": "2021-12-16T12:53:48.235Z"
   },
   {
    "duration": 19,
    "start_time": "2021-12-16T12:53:53.039Z"
   },
   {
    "duration": 30,
    "start_time": "2021-12-16T13:02:50.021Z"
   },
   {
    "duration": 6,
    "start_time": "2021-12-16T13:07:00.299Z"
   },
   {
    "duration": 8,
    "start_time": "2021-12-16T13:07:35.857Z"
   },
   {
    "duration": 6,
    "start_time": "2021-12-16T13:07:47.754Z"
   },
   {
    "duration": 5,
    "start_time": "2021-12-16T13:08:00.740Z"
   },
   {
    "duration": 36,
    "start_time": "2021-12-16T13:33:17.510Z"
   },
   {
    "duration": 5,
    "start_time": "2021-12-16T13:36:24.224Z"
   },
   {
    "duration": 6,
    "start_time": "2021-12-16T13:37:00.971Z"
   },
   {
    "duration": 796,
    "start_time": "2021-12-16T17:08:38.594Z"
   },
   {
    "duration": 10,
    "start_time": "2021-12-16T17:08:39.392Z"
   },
   {
    "duration": 1088,
    "start_time": "2021-12-16T17:08:39.405Z"
   },
   {
    "duration": 5551,
    "start_time": "2021-12-16T17:08:40.495Z"
   },
   {
    "duration": 35,
    "start_time": "2021-12-16T17:08:46.048Z"
   },
   {
    "duration": 32,
    "start_time": "2021-12-16T17:08:46.085Z"
   },
   {
    "duration": 9,
    "start_time": "2021-12-16T17:25:06.444Z"
   },
   {
    "duration": 9,
    "start_time": "2021-12-16T17:25:18.401Z"
   },
   {
    "duration": 8,
    "start_time": "2021-12-16T17:26:04.387Z"
   },
   {
    "duration": 8,
    "start_time": "2021-12-16T17:26:12.625Z"
   },
   {
    "duration": 7,
    "start_time": "2021-12-16T17:26:13.885Z"
   },
   {
    "duration": 9,
    "start_time": "2021-12-16T17:26:14.753Z"
   },
   {
    "duration": 9,
    "start_time": "2021-12-16T17:26:15.571Z"
   },
   {
    "duration": 9,
    "start_time": "2021-12-16T17:28:08.252Z"
   },
   {
    "duration": 699,
    "start_time": "2021-12-16T17:29:17.259Z"
   },
   {
    "duration": 9,
    "start_time": "2021-12-16T17:29:17.960Z"
   },
   {
    "duration": 1034,
    "start_time": "2021-12-16T17:29:17.972Z"
   },
   {
    "duration": 5305,
    "start_time": "2021-12-16T17:29:19.008Z"
   },
   {
    "duration": 32,
    "start_time": "2021-12-16T17:29:24.314Z"
   },
   {
    "duration": 12,
    "start_time": "2021-12-16T17:29:24.348Z"
   },
   {
    "duration": 2908,
    "start_time": "2021-12-16T17:29:24.362Z"
   },
   {
    "duration": -351,
    "start_time": "2021-12-16T17:29:27.623Z"
   },
   {
    "duration": 18,
    "start_time": "2021-12-16T17:29:46.932Z"
   },
   {
    "duration": 8,
    "start_time": "2021-12-16T17:30:18.307Z"
   },
   {
    "duration": 767,
    "start_time": "2021-12-16T17:30:30.207Z"
   },
   {
    "duration": 9,
    "start_time": "2021-12-16T17:30:30.976Z"
   },
   {
    "duration": 1142,
    "start_time": "2021-12-16T17:30:30.987Z"
   },
   {
    "duration": 6090,
    "start_time": "2021-12-16T17:30:32.131Z"
   },
   {
    "duration": 33,
    "start_time": "2021-12-16T17:30:38.222Z"
   },
   {
    "duration": 12,
    "start_time": "2021-12-16T17:30:38.256Z"
   },
   {
    "duration": 41,
    "start_time": "2021-12-16T17:30:38.270Z"
   },
   {
    "duration": 3,
    "start_time": "2021-12-16T17:30:38.314Z"
   },
   {
    "duration": 39,
    "start_time": "2021-12-16T17:37:00.045Z"
   },
   {
    "duration": 7,
    "start_time": "2021-12-16T17:37:23.834Z"
   },
   {
    "duration": 48,
    "start_time": "2021-12-16T17:37:41.234Z"
   },
   {
    "duration": 48,
    "start_time": "2021-12-16T17:37:56.318Z"
   },
   {
    "duration": 65,
    "start_time": "2021-12-16T17:38:11.503Z"
   },
   {
    "duration": 9,
    "start_time": "2021-12-16T17:38:20.414Z"
   },
   {
    "duration": 413,
    "start_time": "2021-12-16T18:03:08.174Z"
   },
   {
    "duration": 346,
    "start_time": "2021-12-16T18:11:46.924Z"
   },
   {
    "duration": 342,
    "start_time": "2021-12-16T18:12:11.855Z"
   },
   {
    "duration": 1841,
    "start_time": "2021-12-16T18:12:37.808Z"
   },
   {
    "duration": 364,
    "start_time": "2021-12-16T18:12:46.235Z"
   },
   {
    "duration": 353,
    "start_time": "2021-12-16T18:14:22.090Z"
   },
   {
    "duration": 2,
    "start_time": "2021-12-16T18:16:01.161Z"
   },
   {
    "duration": 353,
    "start_time": "2021-12-16T18:29:02.219Z"
   },
   {
    "duration": 405,
    "start_time": "2021-12-16T18:29:14.061Z"
   },
   {
    "duration": 196,
    "start_time": "2021-12-16T18:31:39.245Z"
   },
   {
    "duration": 586,
    "start_time": "2021-12-16T18:33:05.634Z"
   },
   {
    "duration": 919,
    "start_time": "2021-12-16T18:33:30.927Z"
   },
   {
    "duration": 1356,
    "start_time": "2021-12-16T18:34:04.975Z"
   },
   {
    "duration": 6,
    "start_time": "2021-12-16T18:34:36.170Z"
   },
   {
    "duration": 1204,
    "start_time": "2021-12-16T18:41:19.915Z"
   },
   {
    "duration": 3,
    "start_time": "2021-12-16T18:41:54.374Z"
   },
   {
    "duration": 5962,
    "start_time": "2021-12-16T18:42:57.122Z"
   },
   {
    "duration": 1219,
    "start_time": "2021-12-16T18:43:33.693Z"
   },
   {
    "duration": 1207,
    "start_time": "2021-12-16T18:43:35.858Z"
   },
   {
    "duration": 1178,
    "start_time": "2021-12-16T18:43:37.740Z"
   },
   {
    "duration": 4,
    "start_time": "2021-12-16T18:43:42.065Z"
   },
   {
    "duration": 4,
    "start_time": "2021-12-16T18:43:43.381Z"
   },
   {
    "duration": 4,
    "start_time": "2021-12-16T18:43:44.644Z"
   },
   {
    "duration": 352,
    "start_time": "2021-12-16T18:49:51.691Z"
   },
   {
    "duration": 400,
    "start_time": "2021-12-16T18:50:04.684Z"
   },
   {
    "duration": 380,
    "start_time": "2021-12-16T18:50:51.003Z"
   },
   {
    "duration": 337,
    "start_time": "2021-12-16T18:52:38.693Z"
   },
   {
    "duration": 114,
    "start_time": "2021-12-16T18:54:54.974Z"
   },
   {
    "duration": 331,
    "start_time": "2021-12-16T18:56:12.110Z"
   },
   {
    "duration": 121,
    "start_time": "2021-12-16T18:58:04.983Z"
   },
   {
    "duration": 2673,
    "start_time": "2021-12-16T18:58:54.946Z"
   },
   {
    "duration": 2365,
    "start_time": "2021-12-16T18:59:31.613Z"
   },
   {
    "duration": 350,
    "start_time": "2021-12-16T18:59:51.307Z"
   },
   {
    "duration": 609,
    "start_time": "2021-12-16T19:00:50.728Z"
   },
   {
    "duration": 752,
    "start_time": "2021-12-16T19:01:27.664Z"
   },
   {
    "duration": 10,
    "start_time": "2021-12-16T19:01:28.418Z"
   },
   {
    "duration": 1179,
    "start_time": "2021-12-16T19:01:28.430Z"
   },
   {
    "duration": 5616,
    "start_time": "2021-12-16T19:01:29.611Z"
   },
   {
    "duration": 37,
    "start_time": "2021-12-16T19:01:35.228Z"
   },
   {
    "duration": 14,
    "start_time": "2021-12-16T19:01:35.267Z"
   },
   {
    "duration": 17,
    "start_time": "2021-12-16T19:01:35.308Z"
   },
   {
    "duration": 56,
    "start_time": "2021-12-16T19:01:35.328Z"
   },
   {
    "duration": 5,
    "start_time": "2021-12-16T19:01:35.406Z"
   },
   {
    "duration": 409,
    "start_time": "2021-12-16T19:01:35.413Z"
   },
   {
    "duration": -213,
    "start_time": "2021-12-16T19:01:36.037Z"
   },
   {
    "duration": -237,
    "start_time": "2021-12-16T19:01:36.062Z"
   },
   {
    "duration": -242,
    "start_time": "2021-12-16T19:01:36.068Z"
   },
   {
    "duration": 120,
    "start_time": "2021-12-16T19:02:23.779Z"
   },
   {
    "duration": 335,
    "start_time": "2021-12-16T19:02:34.190Z"
   },
   {
    "duration": 4,
    "start_time": "2021-12-16T19:02:53.269Z"
   },
   {
    "duration": 326,
    "start_time": "2021-12-16T19:03:49.385Z"
   },
   {
    "duration": 4378,
    "start_time": "2021-12-16T19:04:19.293Z"
   },
   {
    "duration": 3,
    "start_time": "2021-12-16T19:06:04.822Z"
   },
   {
    "duration": 559,
    "start_time": "2021-12-17T12:02:26.212Z"
   },
   {
    "duration": 120,
    "start_time": "2021-12-17T12:02:26.773Z"
   },
   {
    "duration": 9,
    "start_time": "2021-12-17T12:02:26.895Z"
   },
   {
    "duration": 1016,
    "start_time": "2021-12-17T12:02:26.906Z"
   },
   {
    "duration": 5087,
    "start_time": "2021-12-17T12:02:27.923Z"
   },
   {
    "duration": 33,
    "start_time": "2021-12-17T12:02:33.011Z"
   },
   {
    "duration": 15,
    "start_time": "2021-12-17T12:02:33.046Z"
   },
   {
    "duration": 40,
    "start_time": "2021-12-17T12:02:33.063Z"
   },
   {
    "duration": 56,
    "start_time": "2021-12-17T12:02:33.105Z"
   },
   {
    "duration": 5,
    "start_time": "2021-12-17T12:02:33.162Z"
   },
   {
    "duration": 24,
    "start_time": "2021-12-17T12:02:33.168Z"
   },
   {
    "duration": 5,
    "start_time": "2021-12-17T12:02:33.194Z"
   },
   {
    "duration": 4,
    "start_time": "2021-12-17T12:02:33.201Z"
   },
   {
    "duration": 4,
    "start_time": "2021-12-17T12:02:33.207Z"
   },
   {
    "duration": 4,
    "start_time": "2021-12-17T12:03:03.329Z"
   },
   {
    "duration": 246,
    "start_time": "2021-12-17T12:04:44.993Z"
   },
   {
    "duration": 196,
    "start_time": "2021-12-17T12:05:28.066Z"
   },
   {
    "duration": 173,
    "start_time": "2021-12-17T12:06:11.745Z"
   },
   {
    "duration": 186,
    "start_time": "2021-12-17T12:07:46.205Z"
   },
   {
    "duration": 192,
    "start_time": "2021-12-17T12:10:24.580Z"
   },
   {
    "duration": 5,
    "start_time": "2021-12-17T12:12:03.255Z"
   },
   {
    "duration": 5,
    "start_time": "2021-12-17T12:12:13.996Z"
   },
   {
    "duration": 191,
    "start_time": "2021-12-17T12:13:41.082Z"
   },
   {
    "duration": 185,
    "start_time": "2021-12-17T12:15:21.736Z"
   },
   {
    "duration": 4,
    "start_time": "2021-12-17T12:17:26.746Z"
   },
   {
    "duration": 5,
    "start_time": "2021-12-17T12:17:39.794Z"
   },
   {
    "duration": 4,
    "start_time": "2021-12-17T12:17:55.076Z"
   },
   {
    "duration": 5,
    "start_time": "2021-12-17T12:17:58.167Z"
   },
   {
    "duration": 6,
    "start_time": "2021-12-17T12:18:04.069Z"
   },
   {
    "duration": 177,
    "start_time": "2021-12-17T12:18:13.528Z"
   },
   {
    "duration": 4,
    "start_time": "2021-12-17T12:18:50.141Z"
   },
   {
    "duration": 4,
    "start_time": "2021-12-17T12:18:51.305Z"
   },
   {
    "duration": 5,
    "start_time": "2021-12-17T12:18:54.023Z"
   },
   {
    "duration": 180,
    "start_time": "2021-12-17T12:19:02.139Z"
   },
   {
    "duration": 218,
    "start_time": "2021-12-17T12:19:39.673Z"
   },
   {
    "duration": 572,
    "start_time": "2021-12-17T12:20:27.111Z"
   },
   {
    "duration": 118,
    "start_time": "2021-12-17T12:20:27.685Z"
   },
   {
    "duration": 12,
    "start_time": "2021-12-17T12:20:27.806Z"
   },
   {
    "duration": 1061,
    "start_time": "2021-12-17T12:20:27.821Z"
   },
   {
    "duration": 4921,
    "start_time": "2021-12-17T12:20:28.883Z"
   },
   {
    "duration": 33,
    "start_time": "2021-12-17T12:20:33.805Z"
   },
   {
    "duration": 11,
    "start_time": "2021-12-17T12:20:33.840Z"
   },
   {
    "duration": 38,
    "start_time": "2021-12-17T12:20:33.854Z"
   },
   {
    "duration": 46,
    "start_time": "2021-12-17T12:20:33.894Z"
   },
   {
    "duration": 5,
    "start_time": "2021-12-17T12:20:33.942Z"
   },
   {
    "duration": 16,
    "start_time": "2021-12-17T12:20:33.949Z"
   },
   {
    "duration": 25,
    "start_time": "2021-12-17T12:20:33.966Z"
   },
   {
    "duration": 2,
    "start_time": "2021-12-17T12:20:33.993Z"
   },
   {
    "duration": 6,
    "start_time": "2021-12-17T12:20:33.996Z"
   },
   {
    "duration": 4,
    "start_time": "2021-12-17T12:20:34.004Z"
   },
   {
    "duration": 7,
    "start_time": "2021-12-17T12:20:34.009Z"
   },
   {
    "duration": 7,
    "start_time": "2021-12-17T12:20:34.017Z"
   },
   {
    "duration": 5,
    "start_time": "2021-12-17T12:28:14.455Z"
   },
   {
    "duration": 7,
    "start_time": "2021-12-17T12:28:25.413Z"
   },
   {
    "duration": 4,
    "start_time": "2021-12-17T12:28:52.517Z"
   },
   {
    "duration": 6,
    "start_time": "2021-12-17T12:29:06.642Z"
   },
   {
    "duration": 6,
    "start_time": "2021-12-17T12:29:10.289Z"
   },
   {
    "duration": 6,
    "start_time": "2021-12-17T12:29:17.022Z"
   },
   {
    "duration": 248,
    "start_time": "2021-12-17T12:29:27.310Z"
   },
   {
    "duration": 4,
    "start_time": "2021-12-17T12:29:34.410Z"
   },
   {
    "duration": 7,
    "start_time": "2021-12-17T12:31:56.443Z"
   },
   {
    "duration": 5,
    "start_time": "2021-12-17T12:33:42.101Z"
   },
   {
    "duration": 185,
    "start_time": "2021-12-17T12:34:09.629Z"
   },
   {
    "duration": 4,
    "start_time": "2021-12-17T12:34:40.596Z"
   },
   {
    "duration": 5,
    "start_time": "2021-12-17T12:35:29.594Z"
   },
   {
    "duration": 9,
    "start_time": "2021-12-17T12:35:30.889Z"
   },
   {
    "duration": 5,
    "start_time": "2021-12-17T12:35:31.604Z"
   },
   {
    "duration": 14,
    "start_time": "2021-12-17T12:36:29.340Z"
   },
   {
    "duration": 17,
    "start_time": "2021-12-17T12:36:48.027Z"
   },
   {
    "duration": 5,
    "start_time": "2021-12-17T12:39:13.861Z"
   },
   {
    "duration": 7,
    "start_time": "2021-12-17T12:39:29.952Z"
   },
   {
    "duration": 7,
    "start_time": "2021-12-17T12:40:03.240Z"
   },
   {
    "duration": 7,
    "start_time": "2021-12-17T12:40:23.034Z"
   },
   {
    "duration": 7,
    "start_time": "2021-12-17T12:40:50.555Z"
   },
   {
    "duration": 6,
    "start_time": "2021-12-17T12:41:24.708Z"
   },
   {
    "duration": 31,
    "start_time": "2021-12-17T12:41:50.876Z"
   },
   {
    "duration": 27,
    "start_time": "2021-12-17T12:42:00.956Z"
   },
   {
    "duration": 9,
    "start_time": "2021-12-17T12:54:21.087Z"
   },
   {
    "duration": 10,
    "start_time": "2021-12-17T12:55:18.819Z"
   },
   {
    "duration": 11,
    "start_time": "2021-12-17T12:55:27.566Z"
   },
   {
    "duration": 523,
    "start_time": "2021-12-17T12:57:24.742Z"
   },
   {
    "duration": 126,
    "start_time": "2021-12-17T12:57:25.267Z"
   },
   {
    "duration": 9,
    "start_time": "2021-12-17T12:57:25.395Z"
   },
   {
    "duration": 1042,
    "start_time": "2021-12-17T12:57:25.405Z"
   },
   {
    "duration": 4964,
    "start_time": "2021-12-17T12:57:26.449Z"
   },
   {
    "duration": 32,
    "start_time": "2021-12-17T12:57:31.414Z"
   },
   {
    "duration": 12,
    "start_time": "2021-12-17T12:57:31.448Z"
   },
   {
    "duration": 40,
    "start_time": "2021-12-17T12:57:31.462Z"
   },
   {
    "duration": 49,
    "start_time": "2021-12-17T12:57:31.504Z"
   },
   {
    "duration": 5,
    "start_time": "2021-12-17T12:57:31.555Z"
   },
   {
    "duration": 32,
    "start_time": "2021-12-17T12:57:31.561Z"
   },
   {
    "duration": 18,
    "start_time": "2021-12-17T12:57:31.594Z"
   },
   {
    "duration": 12,
    "start_time": "2021-12-17T12:57:31.614Z"
   },
   {
    "duration": 11,
    "start_time": "2021-12-17T13:10:56.533Z"
   },
   {
    "duration": 5,
    "start_time": "2021-12-17T13:18:57.823Z"
   },
   {
    "duration": 272,
    "start_time": "2021-12-17T13:19:12.572Z"
   },
   {
    "duration": 181,
    "start_time": "2021-12-17T13:19:20.645Z"
   },
   {
    "duration": 182,
    "start_time": "2021-12-17T13:19:27.809Z"
   },
   {
    "duration": 178,
    "start_time": "2021-12-17T13:19:40.240Z"
   },
   {
    "duration": 10,
    "start_time": "2021-12-17T13:21:07.378Z"
   },
   {
    "duration": 9,
    "start_time": "2021-12-17T13:21:22.732Z"
   },
   {
    "duration": 11,
    "start_time": "2021-12-17T13:21:46.503Z"
   },
   {
    "duration": 766,
    "start_time": "2021-12-17T15:47:33.659Z"
   },
   {
    "duration": 160,
    "start_time": "2021-12-17T15:47:34.428Z"
   },
   {
    "duration": 14,
    "start_time": "2021-12-17T15:47:34.591Z"
   },
   {
    "duration": 1810,
    "start_time": "2021-12-17T15:47:34.607Z"
   },
   {
    "duration": 8421,
    "start_time": "2021-12-17T15:47:36.419Z"
   },
   {
    "duration": 49,
    "start_time": "2021-12-17T15:47:44.842Z"
   },
   {
    "duration": 19,
    "start_time": "2021-12-17T15:47:44.893Z"
   },
   {
    "duration": 52,
    "start_time": "2021-12-17T15:47:44.914Z"
   },
   {
    "duration": 100,
    "start_time": "2021-12-17T15:47:44.971Z"
   },
   {
    "duration": 8,
    "start_time": "2021-12-17T15:47:45.074Z"
   },
   {
    "duration": 13,
    "start_time": "2021-12-17T15:47:45.085Z"
   },
   {
    "duration": 70,
    "start_time": "2021-12-17T15:47:45.101Z"
   },
   {
    "duration": 17,
    "start_time": "2021-12-17T15:47:45.173Z"
   },
   {
    "duration": 14,
    "start_time": "2021-12-17T15:47:45.192Z"
   },
   {
    "duration": 11,
    "start_time": "2021-12-17T15:56:18.483Z"
   },
   {
    "duration": 7,
    "start_time": "2021-12-17T16:00:49.194Z"
   },
   {
    "duration": 31,
    "start_time": "2021-12-17T16:01:04.633Z"
   },
   {
    "duration": 23,
    "start_time": "2021-12-17T16:03:59.635Z"
   },
   {
    "duration": 17,
    "start_time": "2021-12-17T16:04:55.150Z"
   },
   {
    "duration": 663,
    "start_time": "2021-12-17T16:05:26.170Z"
   },
   {
    "duration": 22,
    "start_time": "2021-12-17T16:05:56.500Z"
   },
   {
    "duration": 16,
    "start_time": "2021-12-17T16:06:09.592Z"
   },
   {
    "duration": 16,
    "start_time": "2021-12-17T16:07:26.603Z"
   },
   {
    "duration": 16,
    "start_time": "2021-12-17T16:08:09.716Z"
   },
   {
    "duration": 17,
    "start_time": "2021-12-17T16:09:37.406Z"
   },
   {
    "duration": 16,
    "start_time": "2021-12-17T16:09:39.582Z"
   },
   {
    "duration": 15,
    "start_time": "2021-12-17T16:09:40.249Z"
   },
   {
    "duration": 16,
    "start_time": "2021-12-17T16:09:40.766Z"
   },
   {
    "duration": 17,
    "start_time": "2021-12-17T16:09:41.271Z"
   },
   {
    "duration": 17,
    "start_time": "2021-12-17T16:09:41.765Z"
   },
   {
    "duration": 16,
    "start_time": "2021-12-17T16:09:42.394Z"
   },
   {
    "duration": 16,
    "start_time": "2021-12-17T16:10:05.486Z"
   },
   {
    "duration": 19,
    "start_time": "2021-12-17T16:10:21.681Z"
   },
   {
    "duration": 17,
    "start_time": "2021-12-17T16:10:23.086Z"
   },
   {
    "duration": 16,
    "start_time": "2021-12-17T16:10:24.188Z"
   },
   {
    "duration": 18,
    "start_time": "2021-12-17T16:10:55.903Z"
   },
   {
    "duration": 14,
    "start_time": "2021-12-17T16:21:49.388Z"
   },
   {
    "duration": 14,
    "start_time": "2021-12-17T16:21:54.465Z"
   },
   {
    "duration": 17,
    "start_time": "2021-12-17T16:21:56.552Z"
   },
   {
    "duration": 15,
    "start_time": "2021-12-17T16:22:09.499Z"
   },
   {
    "duration": 15,
    "start_time": "2021-12-17T16:22:11.011Z"
   },
   {
    "duration": 13,
    "start_time": "2021-12-17T16:22:12.006Z"
   },
   {
    "duration": 16,
    "start_time": "2021-12-17T16:22:12.954Z"
   },
   {
    "duration": 15,
    "start_time": "2021-12-17T16:22:13.863Z"
   },
   {
    "duration": 15,
    "start_time": "2021-12-17T16:22:14.666Z"
   },
   {
    "duration": 13,
    "start_time": "2021-12-17T16:22:15.250Z"
   },
   {
    "duration": 15,
    "start_time": "2021-12-17T16:22:15.766Z"
   },
   {
    "duration": 13,
    "start_time": "2021-12-17T16:22:16.822Z"
   },
   {
    "duration": 733,
    "start_time": "2021-12-17T16:23:06.569Z"
   },
   {
    "duration": 180,
    "start_time": "2021-12-17T16:23:07.305Z"
   },
   {
    "duration": 13,
    "start_time": "2021-12-17T16:23:07.487Z"
   },
   {
    "duration": 1851,
    "start_time": "2021-12-17T16:23:07.502Z"
   },
   {
    "duration": 8370,
    "start_time": "2021-12-17T16:23:09.355Z"
   },
   {
    "duration": 45,
    "start_time": "2021-12-17T16:23:17.727Z"
   },
   {
    "duration": 17,
    "start_time": "2021-12-17T16:23:17.774Z"
   },
   {
    "duration": 23,
    "start_time": "2021-12-17T16:23:17.795Z"
   },
   {
    "duration": 108,
    "start_time": "2021-12-17T16:23:17.820Z"
   },
   {
    "duration": 6,
    "start_time": "2021-12-17T16:23:17.931Z"
   },
   {
    "duration": 33,
    "start_time": "2021-12-17T16:23:17.939Z"
   },
   {
    "duration": 28,
    "start_time": "2021-12-17T16:23:17.974Z"
   },
   {
    "duration": 20,
    "start_time": "2021-12-17T16:23:18.005Z"
   },
   {
    "duration": 18,
    "start_time": "2021-12-17T16:23:18.068Z"
   },
   {
    "duration": 13,
    "start_time": "2021-12-17T16:23:18.089Z"
   },
   {
    "duration": 9,
    "start_time": "2021-12-17T16:23:18.105Z"
   },
   {
    "duration": 61,
    "start_time": "2021-12-17T16:23:18.116Z"
   },
   {
    "duration": 14,
    "start_time": "2021-12-17T16:23:18.180Z"
   },
   {
    "duration": 14,
    "start_time": "2021-12-17T16:24:50.619Z"
   },
   {
    "duration": 13,
    "start_time": "2021-12-17T16:24:51.623Z"
   },
   {
    "duration": 14,
    "start_time": "2021-12-17T16:24:52.223Z"
   },
   {
    "duration": 14,
    "start_time": "2021-12-17T16:24:52.739Z"
   },
   {
    "duration": 15,
    "start_time": "2021-12-17T16:24:53.230Z"
   },
   {
    "duration": 14,
    "start_time": "2021-12-17T16:24:53.718Z"
   },
   {
    "duration": 15,
    "start_time": "2021-12-17T16:24:54.248Z"
   },
   {
    "duration": 13,
    "start_time": "2021-12-17T16:24:54.694Z"
   },
   {
    "duration": 16,
    "start_time": "2021-12-17T16:24:55.172Z"
   },
   {
    "duration": 17,
    "start_time": "2021-12-17T16:24:55.613Z"
   },
   {
    "duration": 14,
    "start_time": "2021-12-17T16:24:56.053Z"
   },
   {
    "duration": 19,
    "start_time": "2021-12-17T16:24:56.749Z"
   },
   {
    "duration": 15,
    "start_time": "2021-12-17T16:24:57.277Z"
   },
   {
    "duration": 15,
    "start_time": "2021-12-17T16:24:57.947Z"
   },
   {
    "duration": 14,
    "start_time": "2021-12-17T16:25:04.454Z"
   },
   {
    "duration": 14,
    "start_time": "2021-12-17T16:25:05.229Z"
   },
   {
    "duration": 14,
    "start_time": "2021-12-17T16:25:06.203Z"
   },
   {
    "duration": 9,
    "start_time": "2021-12-17T16:25:17.258Z"
   },
   {
    "duration": 10,
    "start_time": "2021-12-17T16:25:18.498Z"
   },
   {
    "duration": 6918,
    "start_time": "2021-12-17T16:26:22.485Z"
   },
   {
    "duration": 14,
    "start_time": "2021-12-17T16:28:11.828Z"
   },
   {
    "duration": 11,
    "start_time": "2021-12-17T16:28:29.348Z"
   },
   {
    "duration": 11,
    "start_time": "2021-12-17T16:28:30.368Z"
   },
   {
    "duration": 14,
    "start_time": "2021-12-17T16:28:31.015Z"
   },
   {
    "duration": 11,
    "start_time": "2021-12-17T16:28:31.587Z"
   },
   {
    "duration": 11,
    "start_time": "2021-12-17T16:28:32.104Z"
   },
   {
    "duration": 10,
    "start_time": "2021-12-17T16:28:32.620Z"
   },
   {
    "duration": 11,
    "start_time": "2021-12-17T16:28:33.147Z"
   },
   {
    "duration": 11,
    "start_time": "2021-12-17T16:28:33.661Z"
   },
   {
    "duration": 11,
    "start_time": "2021-12-17T16:28:34.225Z"
   },
   {
    "duration": 12,
    "start_time": "2021-12-17T16:28:35.150Z"
   },
   {
    "duration": 12,
    "start_time": "2021-12-17T16:28:35.978Z"
   },
   {
    "duration": 8,
    "start_time": "2021-12-17T16:29:00.066Z"
   },
   {
    "duration": 765,
    "start_time": "2021-12-17T16:29:23.647Z"
   },
   {
    "duration": 170,
    "start_time": "2021-12-17T16:29:24.415Z"
   },
   {
    "duration": 14,
    "start_time": "2021-12-17T16:29:24.589Z"
   },
   {
    "duration": 2210,
    "start_time": "2021-12-17T16:29:24.605Z"
   },
   {
    "duration": 8480,
    "start_time": "2021-12-17T16:29:26.817Z"
   },
   {
    "duration": 39,
    "start_time": "2021-12-17T16:29:35.299Z"
   },
   {
    "duration": 55,
    "start_time": "2021-12-17T16:29:35.340Z"
   },
   {
    "duration": 75,
    "start_time": "2021-12-17T16:29:35.400Z"
   },
   {
    "duration": 94,
    "start_time": "2021-12-17T16:29:35.479Z"
   },
   {
    "duration": 11,
    "start_time": "2021-12-17T16:29:35.575Z"
   },
   {
    "duration": 14,
    "start_time": "2021-12-17T16:29:35.589Z"
   },
   {
    "duration": 63,
    "start_time": "2021-12-17T16:29:35.606Z"
   },
   {
    "duration": 21,
    "start_time": "2021-12-17T16:29:35.672Z"
   },
   {
    "duration": 18,
    "start_time": "2021-12-17T16:29:35.696Z"
   },
   {
    "duration": 58,
    "start_time": "2021-12-17T16:29:35.717Z"
   },
   {
    "duration": 12,
    "start_time": "2021-12-17T16:29:35.778Z"
   },
   {
    "duration": 26,
    "start_time": "2021-12-17T16:29:35.793Z"
   },
   {
    "duration": 9,
    "start_time": "2021-12-17T16:29:35.822Z"
   },
   {
    "duration": 10,
    "start_time": "2021-12-17T16:30:08.672Z"
   },
   {
    "duration": 9,
    "start_time": "2021-12-17T16:30:23.928Z"
   },
   {
    "duration": 9,
    "start_time": "2021-12-17T16:30:24.790Z"
   },
   {
    "duration": 9,
    "start_time": "2021-12-17T16:30:25.367Z"
   },
   {
    "duration": 12,
    "start_time": "2021-12-17T16:32:12.351Z"
   },
   {
    "duration": 12,
    "start_time": "2021-12-17T16:34:09.483Z"
   },
   {
    "duration": 10,
    "start_time": "2021-12-17T16:34:13.097Z"
   },
   {
    "duration": 14,
    "start_time": "2021-12-17T16:34:25.200Z"
   },
   {
    "duration": 16,
    "start_time": "2021-12-17T16:34:39.608Z"
   },
   {
    "duration": 8,
    "start_time": "2021-12-17T16:35:28.682Z"
   },
   {
    "duration": 724,
    "start_time": "2021-12-17T16:36:17.715Z"
   },
   {
    "duration": 165,
    "start_time": "2021-12-17T16:36:18.442Z"
   },
   {
    "duration": 14,
    "start_time": "2021-12-17T16:36:18.610Z"
   },
   {
    "duration": 1874,
    "start_time": "2021-12-17T16:36:18.627Z"
   },
   {
    "duration": 8958,
    "start_time": "2021-12-17T16:36:20.504Z"
   },
   {
    "duration": 35,
    "start_time": "2021-12-17T16:36:29.464Z"
   },
   {
    "duration": 17,
    "start_time": "2021-12-17T16:36:29.501Z"
   },
   {
    "duration": 54,
    "start_time": "2021-12-17T16:36:29.522Z"
   },
   {
    "duration": 89,
    "start_time": "2021-12-17T16:36:29.579Z"
   },
   {
    "duration": 6,
    "start_time": "2021-12-17T16:36:29.671Z"
   },
   {
    "duration": 18,
    "start_time": "2021-12-17T16:36:29.679Z"
   },
   {
    "duration": 47,
    "start_time": "2021-12-17T16:36:29.700Z"
   },
   {
    "duration": 29,
    "start_time": "2021-12-17T16:36:29.750Z"
   },
   {
    "duration": 20,
    "start_time": "2021-12-17T16:36:29.782Z"
   },
   {
    "duration": 34,
    "start_time": "2021-12-17T16:36:29.805Z"
   },
   {
    "duration": 20,
    "start_time": "2021-12-17T16:36:29.842Z"
   },
   {
    "duration": 41,
    "start_time": "2021-12-17T16:36:29.868Z"
   },
   {
    "duration": 26,
    "start_time": "2021-12-17T16:36:29.911Z"
   },
   {
    "duration": 18,
    "start_time": "2021-12-17T16:36:44.212Z"
   },
   {
    "duration": 13,
    "start_time": "2021-12-17T16:37:36.421Z"
   },
   {
    "duration": 40,
    "start_time": "2021-12-17T16:40:06.431Z"
   },
   {
    "duration": 28,
    "start_time": "2021-12-17T16:40:09.474Z"
   },
   {
    "duration": 756,
    "start_time": "2021-12-17T16:41:36.961Z"
   },
   {
    "duration": 167,
    "start_time": "2021-12-17T16:41:37.720Z"
   },
   {
    "duration": 16,
    "start_time": "2021-12-17T16:41:37.890Z"
   },
   {
    "duration": 1949,
    "start_time": "2021-12-17T16:41:37.910Z"
   },
   {
    "duration": 9196,
    "start_time": "2021-12-17T16:41:39.861Z"
   },
   {
    "duration": 40,
    "start_time": "2021-12-17T16:41:49.059Z"
   },
   {
    "duration": 18,
    "start_time": "2021-12-17T16:41:49.101Z"
   },
   {
    "duration": 50,
    "start_time": "2021-12-17T16:41:49.123Z"
   },
   {
    "duration": 94,
    "start_time": "2021-12-17T16:41:49.176Z"
   },
   {
    "duration": 9,
    "start_time": "2021-12-17T16:41:49.272Z"
   },
   {
    "duration": 12,
    "start_time": "2021-12-17T16:41:49.283Z"
   },
   {
    "duration": 32,
    "start_time": "2021-12-17T16:41:49.297Z"
   },
   {
    "duration": 45,
    "start_time": "2021-12-17T16:41:49.332Z"
   },
   {
    "duration": 16,
    "start_time": "2021-12-17T16:41:49.379Z"
   },
   {
    "duration": 70,
    "start_time": "2021-12-17T16:41:49.398Z"
   },
   {
    "duration": 12,
    "start_time": "2021-12-17T16:41:49.472Z"
   },
   {
    "duration": 11,
    "start_time": "2021-12-17T16:41:49.487Z"
   },
   {
    "duration": 36,
    "start_time": "2021-12-17T16:41:49.500Z"
   },
   {
    "duration": 35,
    "start_time": "2021-12-17T16:41:49.539Z"
   },
   {
    "duration": 16,
    "start_time": "2021-12-17T16:41:49.577Z"
   },
   {
    "duration": 37,
    "start_time": "2021-12-17T16:41:49.596Z"
   },
   {
    "duration": 7,
    "start_time": "2021-12-17T16:43:45.165Z"
   },
   {
    "duration": 8,
    "start_time": "2021-12-17T16:43:53.988Z"
   },
   {
    "duration": 9,
    "start_time": "2021-12-17T16:44:18.212Z"
   },
   {
    "duration": 422,
    "start_time": "2021-12-17T16:44:52.452Z"
   },
   {
    "duration": 86,
    "start_time": "2021-12-17T16:45:49.292Z"
   },
   {
    "duration": 10,
    "start_time": "2021-12-17T16:45:54.652Z"
   },
   {
    "duration": 13,
    "start_time": "2021-12-17T16:46:20.881Z"
   },
   {
    "duration": 7,
    "start_time": "2021-12-17T16:47:04.544Z"
   },
   {
    "duration": 8,
    "start_time": "2021-12-17T16:48:21.297Z"
   },
   {
    "duration": 6843,
    "start_time": "2021-12-17T16:48:51.145Z"
   },
   {
    "duration": 6440,
    "start_time": "2021-12-17T16:49:10.542Z"
   },
   {
    "duration": 300,
    "start_time": "2021-12-17T16:49:34.658Z"
   },
   {
    "duration": 19,
    "start_time": "2021-12-17T16:50:08.383Z"
   },
   {
    "duration": 11,
    "start_time": "2021-12-17T16:50:25.388Z"
   },
   {
    "duration": 15,
    "start_time": "2021-12-17T16:50:51.151Z"
   },
   {
    "duration": 11,
    "start_time": "2021-12-17T16:51:04.572Z"
   },
   {
    "duration": 8,
    "start_time": "2021-12-17T16:51:09.491Z"
   },
   {
    "duration": 5,
    "start_time": "2021-12-17T16:51:34.996Z"
   },
   {
    "duration": 6,
    "start_time": "2021-12-17T16:51:54.661Z"
   },
   {
    "duration": 8,
    "start_time": "2021-12-17T16:52:09.976Z"
   },
   {
    "duration": 7,
    "start_time": "2021-12-17T16:52:20.023Z"
   },
   {
    "duration": 11,
    "start_time": "2021-12-17T16:53:07.828Z"
   },
   {
    "duration": 15,
    "start_time": "2021-12-17T16:54:52.664Z"
   },
   {
    "duration": 22,
    "start_time": "2021-12-17T16:55:13.538Z"
   },
   {
    "duration": 9,
    "start_time": "2021-12-17T16:57:26.461Z"
   },
   {
    "duration": 10,
    "start_time": "2021-12-17T16:58:05.695Z"
   },
   {
    "duration": 9,
    "start_time": "2021-12-17T16:58:14.212Z"
   },
   {
    "duration": 6,
    "start_time": "2021-12-17T16:58:40.280Z"
   },
   {
    "duration": 6482,
    "start_time": "2021-12-17T16:59:13.336Z"
   },
   {
    "duration": 263,
    "start_time": "2021-12-17T16:59:40.735Z"
   },
   {
    "duration": 15,
    "start_time": "2021-12-17T16:59:56.253Z"
   },
   {
    "duration": 8,
    "start_time": "2021-12-17T17:00:55.368Z"
   },
   {
    "duration": 3,
    "start_time": "2021-12-17T17:06:31.393Z"
   },
   {
    "duration": 4,
    "start_time": "2021-12-17T17:06:36.867Z"
   },
   {
    "duration": 7,
    "start_time": "2021-12-17T17:06:45.796Z"
   },
   {
    "duration": 41,
    "start_time": "2021-12-17T17:07:38.438Z"
   },
   {
    "duration": 45,
    "start_time": "2021-12-17T17:07:56.900Z"
   },
   {
    "duration": 7,
    "start_time": "2021-12-17T17:10:07.124Z"
   },
   {
    "duration": 9,
    "start_time": "2021-12-17T17:10:16.242Z"
   },
   {
    "duration": 11,
    "start_time": "2021-12-17T17:11:41.747Z"
   },
   {
    "duration": 7,
    "start_time": "2021-12-17T17:14:29.592Z"
   },
   {
    "duration": 9,
    "start_time": "2021-12-17T17:14:41.632Z"
   },
   {
    "duration": 9,
    "start_time": "2021-12-17T17:14:59.255Z"
   },
   {
    "duration": 12,
    "start_time": "2021-12-17T17:18:31.958Z"
   },
   {
    "duration": 18,
    "start_time": "2021-12-17T17:21:02.500Z"
   },
   {
    "duration": 11,
    "start_time": "2021-12-17T17:22:13.937Z"
   },
   {
    "duration": 785,
    "start_time": "2021-12-18T11:19:57.499Z"
   },
   {
    "duration": 202,
    "start_time": "2021-12-18T11:19:58.287Z"
   },
   {
    "duration": 13,
    "start_time": "2021-12-18T11:19:58.492Z"
   },
   {
    "duration": 1861,
    "start_time": "2021-12-18T11:19:58.508Z"
   },
   {
    "duration": 8274,
    "start_time": "2021-12-18T11:20:00.371Z"
   },
   {
    "duration": 44,
    "start_time": "2021-12-18T11:20:08.647Z"
   },
   {
    "duration": 16,
    "start_time": "2021-12-18T11:20:08.693Z"
   },
   {
    "duration": 51,
    "start_time": "2021-12-18T11:20:08.712Z"
   },
   {
    "duration": 92,
    "start_time": "2021-12-18T11:20:08.767Z"
   },
   {
    "duration": 8,
    "start_time": "2021-12-18T11:20:08.863Z"
   },
   {
    "duration": 12,
    "start_time": "2021-12-18T11:20:08.874Z"
   },
   {
    "duration": 29,
    "start_time": "2021-12-18T11:20:08.889Z"
   },
   {
    "duration": 21,
    "start_time": "2021-12-18T11:20:08.961Z"
   },
   {
    "duration": 15,
    "start_time": "2021-12-18T11:20:08.984Z"
   },
   {
    "duration": 12,
    "start_time": "2021-12-18T11:20:09.001Z"
   },
   {
    "duration": 48,
    "start_time": "2021-12-18T11:20:09.015Z"
   },
   {
    "duration": 22,
    "start_time": "2021-12-18T11:20:09.066Z"
   },
   {
    "duration": 11,
    "start_time": "2021-12-18T11:20:09.090Z"
   },
   {
    "duration": 15,
    "start_time": "2021-12-18T11:20:09.104Z"
   },
   {
    "duration": 53,
    "start_time": "2021-12-18T11:20:09.161Z"
   },
   {
    "duration": 6,
    "start_time": "2021-12-18T11:20:09.216Z"
   },
   {
    "duration": 69,
    "start_time": "2021-12-18T11:20:09.224Z"
   },
   {
    "duration": 8,
    "start_time": "2021-12-18T11:20:09.298Z"
   },
   {
    "duration": 12,
    "start_time": "2021-12-18T11:20:09.309Z"
   },
   {
    "duration": 12,
    "start_time": "2021-12-18T11:20:26.738Z"
   },
   {
    "duration": 92,
    "start_time": "2021-12-18T11:20:32.367Z"
   },
   {
    "duration": 483,
    "start_time": "2021-12-18T11:21:14.789Z"
   },
   {
    "duration": 9,
    "start_time": "2021-12-18T11:21:25.373Z"
   },
   {
    "duration": 7,
    "start_time": "2021-12-18T11:21:36.554Z"
   },
   {
    "duration": 8,
    "start_time": "2021-12-18T11:22:00.174Z"
   },
   {
    "duration": 8,
    "start_time": "2021-12-18T11:22:07.705Z"
   },
   {
    "duration": 8637,
    "start_time": "2021-12-18T11:26:13.328Z"
   },
   {
    "duration": 14,
    "start_time": "2021-12-18T11:27:02.341Z"
   },
   {
    "duration": 125,
    "start_time": "2021-12-18T11:27:40.667Z"
   },
   {
    "duration": 165,
    "start_time": "2021-12-18T11:27:48.833Z"
   },
   {
    "duration": 123,
    "start_time": "2021-12-18T11:28:24.985Z"
   },
   {
    "duration": 14,
    "start_time": "2021-12-18T11:28:33.589Z"
   },
   {
    "duration": 13,
    "start_time": "2021-12-18T11:28:34.958Z"
   },
   {
    "duration": 18,
    "start_time": "2021-12-18T11:28:35.723Z"
   },
   {
    "duration": 14,
    "start_time": "2021-12-18T11:28:36.237Z"
   },
   {
    "duration": 777,
    "start_time": "2021-12-18T11:29:14.993Z"
   },
   {
    "duration": 183,
    "start_time": "2021-12-18T11:29:15.772Z"
   },
   {
    "duration": 13,
    "start_time": "2021-12-18T11:29:15.958Z"
   },
   {
    "duration": 2056,
    "start_time": "2021-12-18T11:29:15.974Z"
   },
   {
    "duration": 8442,
    "start_time": "2021-12-18T11:29:18.032Z"
   },
   {
    "duration": 47,
    "start_time": "2021-12-18T11:29:26.477Z"
   },
   {
    "duration": 44,
    "start_time": "2021-12-18T11:29:26.527Z"
   },
   {
    "duration": 22,
    "start_time": "2021-12-18T11:29:26.576Z"
   },
   {
    "duration": 100,
    "start_time": "2021-12-18T11:29:26.601Z"
   },
   {
    "duration": 6,
    "start_time": "2021-12-18T11:29:26.703Z"
   },
   {
    "duration": 11,
    "start_time": "2021-12-18T11:29:26.713Z"
   },
   {
    "duration": 60,
    "start_time": "2021-12-18T11:29:26.727Z"
   },
   {
    "duration": 17,
    "start_time": "2021-12-18T11:29:26.790Z"
   },
   {
    "duration": 51,
    "start_time": "2021-12-18T11:29:26.810Z"
   },
   {
    "duration": 11,
    "start_time": "2021-12-18T11:29:26.864Z"
   },
   {
    "duration": 15,
    "start_time": "2021-12-18T11:29:26.878Z"
   },
   {
    "duration": 24,
    "start_time": "2021-12-18T11:29:26.897Z"
   },
   {
    "duration": 38,
    "start_time": "2021-12-18T11:29:26.924Z"
   },
   {
    "duration": 22,
    "start_time": "2021-12-18T11:29:26.965Z"
   },
   {
    "duration": 38,
    "start_time": "2021-12-18T11:29:26.990Z"
   },
   {
    "duration": 30,
    "start_time": "2021-12-18T11:29:27.031Z"
   },
   {
    "duration": 43,
    "start_time": "2021-12-18T11:29:27.064Z"
   },
   {
    "duration": 8,
    "start_time": "2021-12-18T11:29:27.111Z"
   },
   {
    "duration": 49,
    "start_time": "2021-12-18T11:29:27.121Z"
   },
   {
    "duration": 42,
    "start_time": "2021-12-18T11:29:27.172Z"
   },
   {
    "duration": 61,
    "start_time": "2021-12-18T11:29:57.810Z"
   },
   {
    "duration": 971,
    "start_time": "2021-12-18T11:30:04.851Z"
   },
   {
    "duration": 225,
    "start_time": "2021-12-18T11:30:05.826Z"
   },
   {
    "duration": 18,
    "start_time": "2021-12-18T11:30:06.054Z"
   },
   {
    "duration": 1795,
    "start_time": "2021-12-18T11:30:06.075Z"
   },
   {
    "duration": 9260,
    "start_time": "2021-12-18T11:30:07.873Z"
   },
   {
    "duration": 47,
    "start_time": "2021-12-18T11:30:17.135Z"
   },
   {
    "duration": 17,
    "start_time": "2021-12-18T11:30:17.186Z"
   },
   {
    "duration": 22,
    "start_time": "2021-12-18T11:30:17.206Z"
   },
   {
    "duration": 75,
    "start_time": "2021-12-18T11:30:17.258Z"
   },
   {
    "duration": 25,
    "start_time": "2021-12-18T11:30:17.336Z"
   },
   {
    "duration": 10,
    "start_time": "2021-12-18T11:30:17.364Z"
   },
   {
    "duration": 31,
    "start_time": "2021-12-18T11:30:17.377Z"
   },
   {
    "duration": 71,
    "start_time": "2021-12-18T11:30:17.411Z"
   },
   {
    "duration": 21,
    "start_time": "2021-12-18T11:30:17.485Z"
   },
   {
    "duration": 15,
    "start_time": "2021-12-18T11:30:17.509Z"
   },
   {
    "duration": 16,
    "start_time": "2021-12-18T11:30:17.527Z"
   },
   {
    "duration": 29,
    "start_time": "2021-12-18T11:30:17.558Z"
   },
   {
    "duration": 14,
    "start_time": "2021-12-18T11:30:17.590Z"
   },
   {
    "duration": 22,
    "start_time": "2021-12-18T11:30:17.607Z"
   },
   {
    "duration": 65,
    "start_time": "2021-12-18T11:30:17.631Z"
   },
   {
    "duration": 8,
    "start_time": "2021-12-18T11:30:17.699Z"
   },
   {
    "duration": 80,
    "start_time": "2021-12-18T11:30:17.713Z"
   },
   {
    "duration": 9,
    "start_time": "2021-12-18T11:30:17.796Z"
   },
   {
    "duration": 51,
    "start_time": "2021-12-18T11:30:17.808Z"
   },
   {
    "duration": 53,
    "start_time": "2021-12-18T11:30:17.862Z"
   },
   {
    "duration": 863,
    "start_time": "2021-12-18T11:30:51.613Z"
   },
   {
    "duration": 237,
    "start_time": "2021-12-18T11:30:52.479Z"
   },
   {
    "duration": 17,
    "start_time": "2021-12-18T11:30:52.720Z"
   },
   {
    "duration": 1777,
    "start_time": "2021-12-18T11:30:52.740Z"
   },
   {
    "duration": 9241,
    "start_time": "2021-12-18T11:30:54.520Z"
   },
   {
    "duration": 38,
    "start_time": "2021-12-18T11:31:03.763Z"
   },
   {
    "duration": 15,
    "start_time": "2021-12-18T11:31:03.804Z"
   },
   {
    "duration": 57,
    "start_time": "2021-12-18T11:31:03.825Z"
   },
   {
    "duration": 101,
    "start_time": "2021-12-18T11:31:03.885Z"
   },
   {
    "duration": 11,
    "start_time": "2021-12-18T11:31:03.989Z"
   },
   {
    "duration": 14,
    "start_time": "2021-12-18T11:31:04.002Z"
   },
   {
    "duration": 59,
    "start_time": "2021-12-18T11:31:04.020Z"
   },
   {
    "duration": 16,
    "start_time": "2021-12-18T11:31:04.081Z"
   },
   {
    "duration": 14,
    "start_time": "2021-12-18T11:31:04.099Z"
   },
   {
    "duration": 50,
    "start_time": "2021-12-18T11:31:04.115Z"
   },
   {
    "duration": 9,
    "start_time": "2021-12-18T11:31:04.167Z"
   },
   {
    "duration": 24,
    "start_time": "2021-12-18T11:31:04.178Z"
   },
   {
    "duration": 12,
    "start_time": "2021-12-18T11:31:04.205Z"
   },
   {
    "duration": 44,
    "start_time": "2021-12-18T11:31:04.220Z"
   },
   {
    "duration": 40,
    "start_time": "2021-12-18T11:31:04.266Z"
   },
   {
    "duration": 8,
    "start_time": "2021-12-18T11:31:04.309Z"
   },
   {
    "duration": 75,
    "start_time": "2021-12-18T11:31:04.320Z"
   },
   {
    "duration": 8,
    "start_time": "2021-12-18T11:31:04.400Z"
   },
   {
    "duration": 12,
    "start_time": "2021-12-18T11:31:04.411Z"
   },
   {
    "duration": 8849,
    "start_time": "2021-12-18T11:31:04.425Z"
   },
   {
    "duration": 12,
    "start_time": "2021-12-18T11:31:32.760Z"
   },
   {
    "duration": 9,
    "start_time": "2021-12-18T11:34:19.464Z"
   },
   {
    "duration": 8892,
    "start_time": "2021-12-18T11:34:49.212Z"
   },
   {
    "duration": 10,
    "start_time": "2021-12-18T11:36:10.627Z"
   },
   {
    "duration": 757,
    "start_time": "2021-12-18T11:36:21.596Z"
   },
   {
    "duration": 167,
    "start_time": "2021-12-18T11:36:22.356Z"
   },
   {
    "duration": 15,
    "start_time": "2021-12-18T11:36:22.526Z"
   },
   {
    "duration": 1765,
    "start_time": "2021-12-18T11:36:22.544Z"
   },
   {
    "duration": 9423,
    "start_time": "2021-12-18T11:36:24.312Z"
   },
   {
    "duration": 48,
    "start_time": "2021-12-18T11:36:33.738Z"
   },
   {
    "duration": 17,
    "start_time": "2021-12-18T11:36:33.788Z"
   },
   {
    "duration": 50,
    "start_time": "2021-12-18T11:36:33.808Z"
   },
   {
    "duration": 73,
    "start_time": "2021-12-18T11:36:33.861Z"
   },
   {
    "duration": 23,
    "start_time": "2021-12-18T11:36:33.937Z"
   },
   {
    "duration": 9,
    "start_time": "2021-12-18T11:36:33.963Z"
   },
   {
    "duration": 29,
    "start_time": "2021-12-18T11:36:33.974Z"
   },
   {
    "duration": 59,
    "start_time": "2021-12-18T11:36:34.005Z"
   },
   {
    "duration": 20,
    "start_time": "2021-12-18T11:36:34.066Z"
   },
   {
    "duration": 15,
    "start_time": "2021-12-18T11:36:34.089Z"
   },
   {
    "duration": 8,
    "start_time": "2021-12-18T11:36:34.122Z"
   },
   {
    "duration": 55,
    "start_time": "2021-12-18T11:36:34.133Z"
   },
   {
    "duration": 12,
    "start_time": "2021-12-18T11:36:34.191Z"
   },
   {
    "duration": 19,
    "start_time": "2021-12-18T11:36:34.206Z"
   },
   {
    "duration": 75,
    "start_time": "2021-12-18T11:36:34.228Z"
   },
   {
    "duration": 11,
    "start_time": "2021-12-18T11:36:34.306Z"
   },
   {
    "duration": 61,
    "start_time": "2021-12-18T11:36:34.320Z"
   },
   {
    "duration": 8,
    "start_time": "2021-12-18T11:36:34.385Z"
   },
   {
    "duration": 11,
    "start_time": "2021-12-18T11:36:34.396Z"
   },
   {
    "duration": 8351,
    "start_time": "2021-12-18T11:36:34.410Z"
   },
   {
    "duration": 6,
    "start_time": "2021-12-18T11:41:45.775Z"
   },
   {
    "duration": 24,
    "start_time": "2021-12-18T11:41:57.817Z"
   },
   {
    "duration": 22,
    "start_time": "2021-12-18T11:45:09.222Z"
   },
   {
    "duration": 29,
    "start_time": "2021-12-18T11:45:23.547Z"
   },
   {
    "duration": 36,
    "start_time": "2021-12-18T11:45:42.315Z"
   },
   {
    "duration": 41,
    "start_time": "2021-12-18T11:46:19.849Z"
   },
   {
    "duration": 51,
    "start_time": "2021-12-18T11:47:34.324Z"
   },
   {
    "duration": 553,
    "start_time": "2021-12-18T11:48:35.749Z"
   },
   {
    "duration": 16,
    "start_time": "2021-12-18T11:49:07.901Z"
   },
   {
    "duration": 11,
    "start_time": "2021-12-18T11:49:17.204Z"
   },
   {
    "duration": 10522,
    "start_time": "2021-12-18T12:01:13.084Z"
   },
   {
    "duration": 383,
    "start_time": "2021-12-18T12:01:34.174Z"
   },
   {
    "duration": 7788,
    "start_time": "2021-12-18T12:03:50.170Z"
   },
   {
    "duration": 8508,
    "start_time": "2021-12-18T12:04:12.517Z"
   },
   {
    "duration": 278,
    "start_time": "2021-12-18T12:08:43.039Z"
   },
   {
    "duration": 1439,
    "start_time": "2021-12-18T12:10:34.789Z"
   },
   {
    "duration": 140,
    "start_time": "2021-12-18T12:11:34.146Z"
   },
   {
    "duration": 136,
    "start_time": "2021-12-18T12:11:53.834Z"
   },
   {
    "duration": 87,
    "start_time": "2021-12-18T12:12:01.198Z"
   },
   {
    "duration": 1837,
    "start_time": "2021-12-18T12:12:26.236Z"
   },
   {
    "duration": 377,
    "start_time": "2021-12-18T12:12:43.383Z"
   },
   {
    "duration": 560,
    "start_time": "2021-12-18T12:13:11.724Z"
   },
   {
    "duration": 464,
    "start_time": "2021-12-18T12:13:33.879Z"
   },
   {
    "duration": 1650,
    "start_time": "2021-12-18T12:14:00.630Z"
   },
   {
    "duration": 11939,
    "start_time": "2021-12-18T12:14:55.182Z"
   },
   {
    "duration": 24,
    "start_time": "2021-12-18T12:26:56.890Z"
   },
   {
    "duration": 813,
    "start_time": "2021-12-18T12:27:53.732Z"
   },
   {
    "duration": 165,
    "start_time": "2021-12-18T12:27:54.548Z"
   },
   {
    "duration": 14,
    "start_time": "2021-12-18T12:27:54.716Z"
   },
   {
    "duration": 1811,
    "start_time": "2021-12-18T12:27:54.733Z"
   },
   {
    "duration": 8964,
    "start_time": "2021-12-18T12:27:56.547Z"
   },
   {
    "duration": 49,
    "start_time": "2021-12-18T12:28:05.514Z"
   },
   {
    "duration": 19,
    "start_time": "2021-12-18T12:28:05.566Z"
   },
   {
    "duration": 26,
    "start_time": "2021-12-18T12:28:05.589Z"
   },
   {
    "duration": 113,
    "start_time": "2021-12-18T12:28:05.619Z"
   },
   {
    "duration": 25,
    "start_time": "2021-12-18T12:28:05.734Z"
   },
   {
    "duration": 9,
    "start_time": "2021-12-18T12:28:05.762Z"
   },
   {
    "duration": 35,
    "start_time": "2021-12-18T12:28:05.774Z"
   },
   {
    "duration": 51,
    "start_time": "2021-12-18T12:28:05.812Z"
   },
   {
    "duration": 16,
    "start_time": "2021-12-18T12:28:05.865Z"
   },
   {
    "duration": 11,
    "start_time": "2021-12-18T12:28:05.884Z"
   },
   {
    "duration": 8,
    "start_time": "2021-12-18T12:28:05.897Z"
   },
   {
    "duration": 63,
    "start_time": "2021-12-18T12:28:05.907Z"
   },
   {
    "duration": 12,
    "start_time": "2021-12-18T12:28:05.973Z"
   },
   {
    "duration": 17,
    "start_time": "2021-12-18T12:28:05.988Z"
   },
   {
    "duration": 77,
    "start_time": "2021-12-18T12:28:06.008Z"
   },
   {
    "duration": 7,
    "start_time": "2021-12-18T12:28:06.088Z"
   },
   {
    "duration": 67,
    "start_time": "2021-12-18T12:28:06.098Z"
   },
   {
    "duration": 9,
    "start_time": "2021-12-18T12:28:06.178Z"
   },
   {
    "duration": 15,
    "start_time": "2021-12-18T12:28:06.191Z"
   },
   {
    "duration": 7832,
    "start_time": "2021-12-18T12:28:06.209Z"
   },
   {
    "duration": 15,
    "start_time": "2021-12-18T12:28:14.044Z"
   },
   {
    "duration": 3,
    "start_time": "2021-12-18T12:28:14.062Z"
   },
   {
    "duration": 50,
    "start_time": "2021-12-18T12:28:14.068Z"
   },
   {
    "duration": 64,
    "start_time": "2021-12-18T12:28:14.121Z"
   },
   {
    "duration": 13333,
    "start_time": "2021-12-18T12:28:14.187Z"
   },
   {
    "duration": 45,
    "start_time": "2021-12-18T12:28:27.523Z"
   },
   {
    "duration": 8648,
    "start_time": "2021-12-18T12:28:53.698Z"
   },
   {
    "duration": 26,
    "start_time": "2021-12-18T12:29:06.536Z"
   },
   {
    "duration": 8792,
    "start_time": "2021-12-18T12:29:43.266Z"
   },
   {
    "duration": 25,
    "start_time": "2021-12-18T12:29:54.257Z"
   },
   {
    "duration": 49,
    "start_time": "2021-12-18T12:30:10.513Z"
   },
   {
    "duration": 9320,
    "start_time": "2021-12-18T12:32:35.002Z"
   },
   {
    "duration": 55,
    "start_time": "2021-12-18T12:32:49.875Z"
   },
   {
    "duration": 52,
    "start_time": "2021-12-18T12:33:00.214Z"
   },
   {
    "duration": 32457,
    "start_time": "2021-12-18T12:34:46.300Z"
   },
   {
    "duration": -2167,
    "start_time": "2021-12-18T12:36:20.386Z"
   },
   {
    "duration": 18800,
    "start_time": "2021-12-18T12:36:25.562Z"
   },
   {
    "duration": 71,
    "start_time": "2021-12-18T12:36:51.954Z"
   },
   {
    "duration": 18595,
    "start_time": "2021-12-18T12:38:15.849Z"
   },
   {
    "duration": 81,
    "start_time": "2021-12-18T12:38:40.367Z"
   },
   {
    "duration": 6,
    "start_time": "2021-12-18T12:48:09.165Z"
   },
   {
    "duration": 96,
    "start_time": "2021-12-18T12:48:11.947Z"
   },
   {
    "duration": 16,
    "start_time": "2021-12-18T13:00:48.030Z"
   },
   {
    "duration": 774,
    "start_time": "2021-12-18T13:01:33.866Z"
   },
   {
    "duration": 153,
    "start_time": "2021-12-18T13:01:34.643Z"
   },
   {
    "duration": 14,
    "start_time": "2021-12-18T13:01:34.800Z"
   },
   {
    "duration": 2345,
    "start_time": "2021-12-18T13:01:34.817Z"
   },
   {
    "duration": 9582,
    "start_time": "2021-12-18T13:01:37.165Z"
   },
   {
    "duration": 53,
    "start_time": "2021-12-18T13:01:46.759Z"
   },
   {
    "duration": 22,
    "start_time": "2021-12-18T13:01:46.815Z"
   },
   {
    "duration": 30,
    "start_time": "2021-12-18T13:01:46.862Z"
   },
   {
    "duration": 141,
    "start_time": "2021-12-18T13:01:46.896Z"
   },
   {
    "duration": 24,
    "start_time": "2021-12-18T13:01:47.040Z"
   },
   {
    "duration": 11,
    "start_time": "2021-12-18T13:01:47.066Z"
   },
   {
    "duration": 28,
    "start_time": "2021-12-18T13:01:47.079Z"
   },
   {
    "duration": 62,
    "start_time": "2021-12-18T13:01:47.109Z"
   },
   {
    "duration": 16,
    "start_time": "2021-12-18T13:01:47.174Z"
   },
   {
    "duration": 11,
    "start_time": "2021-12-18T13:01:47.193Z"
   },
   {
    "duration": 54,
    "start_time": "2021-12-18T13:01:47.207Z"
   },
   {
    "duration": 28,
    "start_time": "2021-12-18T13:01:47.264Z"
   },
   {
    "duration": 13,
    "start_time": "2021-12-18T13:01:47.295Z"
   },
   {
    "duration": 53,
    "start_time": "2021-12-18T13:01:47.311Z"
   },
   {
    "duration": 55,
    "start_time": "2021-12-18T13:01:47.367Z"
   },
   {
    "duration": 33,
    "start_time": "2021-12-18T13:01:47.425Z"
   },
   {
    "duration": 67,
    "start_time": "2021-12-18T13:01:47.461Z"
   },
   {
    "duration": 26,
    "start_time": "2021-12-18T13:01:47.535Z"
   },
   {
    "duration": 16,
    "start_time": "2021-12-18T13:01:47.565Z"
   },
   {
    "duration": 8556,
    "start_time": "2021-12-18T13:01:47.583Z"
   },
   {
    "duration": 17,
    "start_time": "2021-12-18T13:01:56.142Z"
   },
   {
    "duration": 4,
    "start_time": "2021-12-18T13:01:56.162Z"
   },
   {
    "duration": 99,
    "start_time": "2021-12-18T13:01:56.169Z"
   },
   {
    "duration": 4,
    "start_time": "2021-12-18T13:01:56.271Z"
   },
   {
    "duration": 11,
    "start_time": "2021-12-18T13:01:56.278Z"
   },
   {
    "duration": 6,
    "start_time": "2021-12-18T13:01:56.292Z"
   },
   {
    "duration": 4,
    "start_time": "2021-12-18T13:01:56.301Z"
   },
   {
    "duration": 52,
    "start_time": "2021-12-18T13:01:56.308Z"
   },
   {
    "duration": 61,
    "start_time": "2021-12-18T13:01:56.364Z"
   },
   {
    "duration": 22,
    "start_time": "2021-12-18T13:03:56.154Z"
   },
   {
    "duration": 54,
    "start_time": "2021-12-18T13:04:00.020Z"
   },
   {
    "duration": 37,
    "start_time": "2021-12-18T13:06:43.282Z"
   },
   {
    "duration": 16,
    "start_time": "2021-12-18T13:14:21.721Z"
   },
   {
    "duration": 26,
    "start_time": "2021-12-18T13:14:24.763Z"
   },
   {
    "duration": 20,
    "start_time": "2021-12-18T13:16:51.380Z"
   },
   {
    "duration": 26,
    "start_time": "2021-12-18T13:17:09.203Z"
   },
   {
    "duration": 11,
    "start_time": "2021-12-18T13:17:45.069Z"
   },
   {
    "duration": 27,
    "start_time": "2021-12-18T13:17:46.372Z"
   },
   {
    "duration": 11,
    "start_time": "2021-12-18T13:18:11.216Z"
   },
   {
    "duration": 16,
    "start_time": "2021-12-18T13:18:30.548Z"
   },
   {
    "duration": 13,
    "start_time": "2021-12-18T13:18:46.672Z"
   },
   {
    "duration": 26,
    "start_time": "2021-12-18T13:18:49.275Z"
   },
   {
    "duration": 14,
    "start_time": "2021-12-18T13:19:22.474Z"
   },
   {
    "duration": 26,
    "start_time": "2021-12-18T13:19:27.572Z"
   },
   {
    "duration": 13,
    "start_time": "2021-12-18T13:20:02.012Z"
   },
   {
    "duration": 26,
    "start_time": "2021-12-18T13:20:04.321Z"
   },
   {
    "duration": 15,
    "start_time": "2021-12-18T13:20:19.630Z"
   },
   {
    "duration": 11,
    "start_time": "2021-12-18T13:20:20.687Z"
   },
   {
    "duration": 15,
    "start_time": "2021-12-18T13:20:21.515Z"
   },
   {
    "duration": 41,
    "start_time": "2021-12-18T13:20:24.941Z"
   },
   {
    "duration": 888,
    "start_time": "2021-12-18T13:21:00.464Z"
   },
   {
    "duration": 160,
    "start_time": "2021-12-18T13:21:01.355Z"
   },
   {
    "duration": 15,
    "start_time": "2021-12-18T13:21:01.518Z"
   },
   {
    "duration": 1679,
    "start_time": "2021-12-18T13:21:01.537Z"
   },
   {
    "duration": 9512,
    "start_time": "2021-12-18T13:21:03.219Z"
   },
   {
    "duration": 47,
    "start_time": "2021-12-18T13:21:12.734Z"
   },
   {
    "duration": 20,
    "start_time": "2021-12-18T13:21:12.784Z"
   },
   {
    "duration": 55,
    "start_time": "2021-12-18T13:21:12.810Z"
   },
   {
    "duration": 75,
    "start_time": "2021-12-18T13:21:12.868Z"
   },
   {
    "duration": 10,
    "start_time": "2021-12-18T13:21:12.961Z"
   },
   {
    "duration": 15,
    "start_time": "2021-12-18T13:21:12.974Z"
   },
   {
    "duration": 72,
    "start_time": "2021-12-18T13:21:12.992Z"
   },
   {
    "duration": 19,
    "start_time": "2021-12-18T13:21:13.066Z"
   },
   {
    "duration": 17,
    "start_time": "2021-12-18T13:21:13.088Z"
   },
   {
    "duration": 52,
    "start_time": "2021-12-18T13:21:13.108Z"
   },
   {
    "duration": 7,
    "start_time": "2021-12-18T13:21:13.163Z"
   },
   {
    "duration": 26,
    "start_time": "2021-12-18T13:21:13.173Z"
   },
   {
    "duration": 10,
    "start_time": "2021-12-18T13:21:13.201Z"
   },
   {
    "duration": 48,
    "start_time": "2021-12-18T13:21:13.214Z"
   },
   {
    "duration": 54,
    "start_time": "2021-12-18T13:21:13.265Z"
   },
   {
    "duration": 6,
    "start_time": "2021-12-18T13:21:13.322Z"
   },
   {
    "duration": 69,
    "start_time": "2021-12-18T13:21:13.331Z"
   },
   {
    "duration": 9,
    "start_time": "2021-12-18T13:21:13.407Z"
   },
   {
    "duration": 47,
    "start_time": "2021-12-18T13:21:13.419Z"
   },
   {
    "duration": 7806,
    "start_time": "2021-12-18T13:21:13.468Z"
   },
   {
    "duration": 5,
    "start_time": "2021-12-18T13:21:21.277Z"
   },
   {
    "duration": 26,
    "start_time": "2021-12-18T13:21:21.285Z"
   },
   {
    "duration": 50,
    "start_time": "2021-12-18T13:21:21.314Z"
   },
   {
    "duration": 29,
    "start_time": "2021-12-18T13:21:21.367Z"
   },
   {
    "duration": 32,
    "start_time": "2021-12-18T13:21:40.236Z"
   },
   {
    "duration": 23,
    "start_time": "2021-12-18T13:21:45.476Z"
   },
   {
    "duration": 15,
    "start_time": "2021-12-18T13:26:11.209Z"
   },
   {
    "duration": 789,
    "start_time": "2021-12-18T13:27:02.785Z"
   },
   {
    "duration": 159,
    "start_time": "2021-12-18T13:27:03.577Z"
   },
   {
    "duration": 16,
    "start_time": "2021-12-18T13:27:03.740Z"
   },
   {
    "duration": 1918,
    "start_time": "2021-12-18T13:27:03.759Z"
   },
   {
    "duration": 10170,
    "start_time": "2021-12-18T13:27:05.680Z"
   },
   {
    "duration": 36,
    "start_time": "2021-12-18T13:27:15.859Z"
   },
   {
    "duration": 17,
    "start_time": "2021-12-18T13:27:15.898Z"
   },
   {
    "duration": 55,
    "start_time": "2021-12-18T13:27:15.919Z"
   },
   {
    "duration": 93,
    "start_time": "2021-12-18T13:27:15.977Z"
   },
   {
    "duration": 8,
    "start_time": "2021-12-18T13:27:16.073Z"
   },
   {
    "duration": 10,
    "start_time": "2021-12-18T13:27:16.083Z"
   },
   {
    "duration": 73,
    "start_time": "2021-12-18T13:27:16.096Z"
   },
   {
    "duration": 18,
    "start_time": "2021-12-18T13:27:16.171Z"
   },
   {
    "duration": 16,
    "start_time": "2021-12-18T13:27:16.191Z"
   },
   {
    "duration": 51,
    "start_time": "2021-12-18T13:27:16.209Z"
   },
   {
    "duration": 17,
    "start_time": "2021-12-18T13:27:16.263Z"
   },
   {
    "duration": 29,
    "start_time": "2021-12-18T13:27:16.283Z"
   },
   {
    "duration": 15,
    "start_time": "2021-12-18T13:27:16.315Z"
   },
   {
    "duration": 48,
    "start_time": "2021-12-18T13:27:16.333Z"
   },
   {
    "duration": 55,
    "start_time": "2021-12-18T13:27:16.384Z"
   },
   {
    "duration": 25,
    "start_time": "2021-12-18T13:27:16.441Z"
   },
   {
    "duration": 46,
    "start_time": "2021-12-18T13:27:16.469Z"
   },
   {
    "duration": 40,
    "start_time": "2021-12-18T13:27:16.520Z"
   },
   {
    "duration": 13,
    "start_time": "2021-12-18T13:27:16.563Z"
   },
   {
    "duration": 8700,
    "start_time": "2021-12-18T13:27:16.579Z"
   },
   {
    "duration": 5,
    "start_time": "2021-12-18T13:27:25.282Z"
   },
   {
    "duration": 19,
    "start_time": "2021-12-18T13:27:25.290Z"
   },
   {
    "duration": 18,
    "start_time": "2021-12-18T13:27:25.312Z"
   },
   {
    "duration": 30,
    "start_time": "2021-12-18T13:27:25.359Z"
   },
   {
    "duration": 13,
    "start_time": "2021-12-18T13:29:18.655Z"
   },
   {
    "duration": 10351,
    "start_time": "2021-12-18T13:31:03.491Z"
   },
   {
    "duration": 10042,
    "start_time": "2021-12-18T13:31:45.499Z"
   },
   {
    "duration": 10720,
    "start_time": "2021-12-18T13:32:17.295Z"
   },
   {
    "duration": 436,
    "start_time": "2021-12-18T13:33:06.494Z"
   },
   {
    "duration": 134,
    "start_time": "2021-12-18T13:33:29.555Z"
   },
   {
    "duration": 14618,
    "start_time": "2021-12-18T13:34:00.204Z"
   },
   {
    "duration": 25,
    "start_time": "2021-12-18T13:34:58.249Z"
   },
   {
    "duration": 36,
    "start_time": "2021-12-18T13:36:01.005Z"
   },
   {
    "duration": 36,
    "start_time": "2021-12-18T13:36:30.814Z"
   },
   {
    "duration": 120,
    "start_time": "2021-12-18T13:39:34.887Z"
   },
   {
    "duration": 352,
    "start_time": "2021-12-18T13:40:25.771Z"
   },
   {
    "duration": 339,
    "start_time": "2021-12-18T13:40:46.290Z"
   },
   {
    "duration": 337,
    "start_time": "2021-12-18T13:41:13.452Z"
   },
   {
    "duration": 467,
    "start_time": "2021-12-18T13:41:24.781Z"
   },
   {
    "duration": 271,
    "start_time": "2021-12-18T13:41:35.616Z"
   },
   {
    "duration": 304,
    "start_time": "2021-12-18T13:41:42.299Z"
   },
   {
    "duration": 321,
    "start_time": "2021-12-18T13:41:50.826Z"
   },
   {
    "duration": 319,
    "start_time": "2021-12-18T13:42:02.850Z"
   },
   {
    "duration": 249,
    "start_time": "2021-12-18T13:42:08.199Z"
   },
   {
    "duration": 270,
    "start_time": "2021-12-18T13:42:19.842Z"
   },
   {
    "duration": 276,
    "start_time": "2021-12-18T13:44:14.619Z"
   },
   {
    "duration": 409,
    "start_time": "2021-12-18T13:44:37.530Z"
   },
   {
    "duration": 297,
    "start_time": "2021-12-18T13:44:46.812Z"
   },
   {
    "duration": 305,
    "start_time": "2021-12-18T13:45:56.774Z"
   },
   {
    "duration": 653,
    "start_time": "2021-12-18T13:47:33.254Z"
   },
   {
    "duration": 322,
    "start_time": "2021-12-18T13:49:02.457Z"
   },
   {
    "duration": 430,
    "start_time": "2021-12-18T13:50:42.384Z"
   },
   {
    "duration": 320,
    "start_time": "2021-12-18T13:51:08.240Z"
   },
   {
    "duration": 325,
    "start_time": "2021-12-18T13:52:04.039Z"
   },
   {
    "duration": 327,
    "start_time": "2021-12-18T13:52:14.760Z"
   },
   {
    "duration": 471,
    "start_time": "2021-12-18T13:53:27.456Z"
   },
   {
    "duration": 330,
    "start_time": "2021-12-18T13:54:01.430Z"
   },
   {
    "duration": 393,
    "start_time": "2021-12-18T14:10:52.426Z"
   },
   {
    "duration": 488,
    "start_time": "2021-12-18T14:11:09.798Z"
   },
   {
    "duration": 401,
    "start_time": "2021-12-18T14:13:39.348Z"
   },
   {
    "duration": 40,
    "start_time": "2021-12-18T14:13:44.161Z"
   },
   {
    "duration": 33,
    "start_time": "2021-12-18T14:14:00.677Z"
   },
   {
    "duration": 34,
    "start_time": "2021-12-18T14:14:22.461Z"
   },
   {
    "duration": 25,
    "start_time": "2021-12-18T14:14:49.220Z"
   },
   {
    "duration": 574,
    "start_time": "2021-12-18T14:16:21.398Z"
   },
   {
    "duration": 434,
    "start_time": "2021-12-18T14:16:44.025Z"
   },
   {
    "duration": 346,
    "start_time": "2021-12-18T14:16:50.582Z"
   },
   {
    "duration": 331,
    "start_time": "2021-12-18T14:16:57.245Z"
   },
   {
    "duration": 548,
    "start_time": "2021-12-18T14:17:10.177Z"
   },
   {
    "duration": 448,
    "start_time": "2021-12-18T14:17:31.580Z"
   },
   {
    "duration": 351,
    "start_time": "2021-12-18T14:17:39.603Z"
   },
   {
    "duration": 458,
    "start_time": "2021-12-18T14:18:34.507Z"
   },
   {
    "duration": 331,
    "start_time": "2021-12-18T14:18:48.934Z"
   },
   {
    "duration": 356,
    "start_time": "2021-12-18T14:18:55.939Z"
   },
   {
    "duration": 345,
    "start_time": "2021-12-18T14:19:13.058Z"
   },
   {
    "duration": 334,
    "start_time": "2021-12-18T14:19:20.544Z"
   },
   {
    "duration": 391,
    "start_time": "2021-12-18T14:19:33.922Z"
   },
   {
    "duration": 327,
    "start_time": "2021-12-18T14:19:40.865Z"
   },
   {
    "duration": 335,
    "start_time": "2021-12-18T14:21:47.227Z"
   },
   {
    "duration": 493,
    "start_time": "2021-12-18T14:22:28.147Z"
   },
   {
    "duration": 339,
    "start_time": "2021-12-18T14:22:37.221Z"
   },
   {
    "duration": 462,
    "start_time": "2021-12-18T14:23:48.143Z"
   },
   {
    "duration": 266,
    "start_time": "2021-12-18T14:24:48.356Z"
   },
   {
    "duration": 28,
    "start_time": "2021-12-18T14:25:00.472Z"
   },
   {
    "duration": 381,
    "start_time": "2021-12-18T14:25:14.891Z"
   },
   {
    "duration": 315,
    "start_time": "2021-12-18T14:29:36.986Z"
   },
   {
    "duration": 703,
    "start_time": "2021-12-18T14:29:50.608Z"
   },
   {
    "duration": 472,
    "start_time": "2021-12-18T14:30:06.991Z"
   },
   {
    "duration": 576,
    "start_time": "2021-12-18T14:30:32.292Z"
   },
   {
    "duration": 344,
    "start_time": "2021-12-18T14:30:45.207Z"
   },
   {
    "duration": 324,
    "start_time": "2021-12-18T14:30:55.827Z"
   },
   {
    "duration": 45,
    "start_time": "2021-12-18T14:36:03.479Z"
   },
   {
    "duration": 37,
    "start_time": "2021-12-18T14:36:30.811Z"
   },
   {
    "duration": 36,
    "start_time": "2021-12-18T14:36:41.701Z"
   },
   {
    "duration": 36,
    "start_time": "2021-12-18T14:36:43.020Z"
   },
   {
    "duration": 47,
    "start_time": "2021-12-18T14:36:43.921Z"
   },
   {
    "duration": 53,
    "start_time": "2021-12-18T14:36:45.000Z"
   },
   {
    "duration": 33,
    "start_time": "2021-12-18T14:36:58.620Z"
   },
   {
    "duration": 395,
    "start_time": "2021-12-18T14:37:30.151Z"
   },
   {
    "duration": 486,
    "start_time": "2021-12-18T14:38:08.715Z"
   },
   {
    "duration": 436,
    "start_time": "2021-12-18T14:38:18.679Z"
   },
   {
    "duration": 412,
    "start_time": "2021-12-18T14:39:05.461Z"
   },
   {
    "duration": 456,
    "start_time": "2021-12-18T14:39:32.759Z"
   },
   {
    "duration": 380,
    "start_time": "2021-12-18T14:40:08.163Z"
   },
   {
    "duration": 661,
    "start_time": "2021-12-18T14:40:43.504Z"
   },
   {
    "duration": 691,
    "start_time": "2021-12-18T14:41:03.934Z"
   },
   {
    "duration": 2059,
    "start_time": "2021-12-18T14:41:52.535Z"
   },
   {
    "duration": 860,
    "start_time": "2021-12-18T14:42:10.187Z"
   },
   {
    "duration": 180,
    "start_time": "2021-12-18T14:44:23.065Z"
   },
   {
    "duration": 513,
    "start_time": "2021-12-18T14:44:33.649Z"
   },
   {
    "duration": 642,
    "start_time": "2021-12-18T14:44:44.554Z"
   },
   {
    "duration": 378,
    "start_time": "2021-12-18T14:45:04.688Z"
   },
   {
    "duration": 355,
    "start_time": "2021-12-18T14:45:42.772Z"
   },
   {
    "duration": 386,
    "start_time": "2021-12-18T14:46:09.486Z"
   },
   {
    "duration": 891,
    "start_time": "2021-12-18T14:47:43.280Z"
   },
   {
    "duration": 395,
    "start_time": "2021-12-18T14:47:57.218Z"
   },
   {
    "duration": 38,
    "start_time": "2021-12-18T15:12:47.886Z"
   },
   {
    "duration": 33,
    "start_time": "2021-12-18T15:13:47.407Z"
   },
   {
    "duration": 51,
    "start_time": "2021-12-18T15:14:11.172Z"
   },
   {
    "duration": 34,
    "start_time": "2021-12-18T15:14:17.411Z"
   },
   {
    "duration": 33,
    "start_time": "2021-12-18T15:14:23.497Z"
   },
   {
    "duration": 35,
    "start_time": "2021-12-18T15:14:29.828Z"
   },
   {
    "duration": 477,
    "start_time": "2021-12-18T15:15:15.353Z"
   },
   {
    "duration": 440,
    "start_time": "2021-12-18T15:16:21.519Z"
   },
   {
    "duration": 531,
    "start_time": "2021-12-18T15:16:31.462Z"
   },
   {
    "duration": 36,
    "start_time": "2021-12-18T15:16:47.843Z"
   },
   {
    "duration": 451,
    "start_time": "2021-12-18T15:17:21.715Z"
   },
   {
    "duration": 498,
    "start_time": "2021-12-18T15:17:30.470Z"
   },
   {
    "duration": 536,
    "start_time": "2021-12-18T15:17:42.563Z"
   },
   {
    "duration": 726,
    "start_time": "2021-12-18T15:18:23.741Z"
   },
   {
    "duration": 518,
    "start_time": "2021-12-18T15:18:33.927Z"
   },
   {
    "duration": 534,
    "start_time": "2021-12-18T15:18:54.097Z"
   },
   {
    "duration": 656,
    "start_time": "2021-12-18T15:19:18.433Z"
   },
   {
    "duration": 848,
    "start_time": "2021-12-18T15:19:30.266Z"
   },
   {
    "duration": 555,
    "start_time": "2021-12-18T15:21:27.135Z"
   },
   {
    "duration": 806,
    "start_time": "2021-12-18T15:22:36.169Z"
   },
   {
    "duration": 644,
    "start_time": "2021-12-18T15:24:21.832Z"
   },
   {
    "duration": 615,
    "start_time": "2021-12-18T15:24:45.898Z"
   },
   {
    "duration": 130,
    "start_time": "2021-12-18T15:27:07.980Z"
   },
   {
    "duration": 937,
    "start_time": "2021-12-18T15:27:22.140Z"
   },
   {
    "duration": 492,
    "start_time": "2021-12-18T15:28:47.164Z"
   },
   {
    "duration": 493,
    "start_time": "2021-12-18T15:29:26.180Z"
   },
   {
    "duration": 492,
    "start_time": "2021-12-18T15:29:49.367Z"
   },
   {
    "duration": 624,
    "start_time": "2021-12-18T15:30:09.902Z"
   },
   {
    "duration": 769,
    "start_time": "2021-12-18T15:30:27.274Z"
   },
   {
    "duration": 510,
    "start_time": "2021-12-18T15:30:36.389Z"
   },
   {
    "duration": 491,
    "start_time": "2021-12-18T15:32:21.852Z"
   },
   {
    "duration": 541,
    "start_time": "2021-12-18T15:32:30.418Z"
   },
   {
    "duration": 634,
    "start_time": "2021-12-18T15:32:37.262Z"
   },
   {
    "duration": 487,
    "start_time": "2021-12-18T15:33:11.463Z"
   },
   {
    "duration": 490,
    "start_time": "2021-12-18T15:33:31.909Z"
   },
   {
    "duration": 497,
    "start_time": "2021-12-18T15:33:40.852Z"
   },
   {
    "duration": 457,
    "start_time": "2021-12-18T15:34:04.939Z"
   },
   {
    "duration": 631,
    "start_time": "2021-12-18T15:34:11.439Z"
   },
   {
    "duration": 490,
    "start_time": "2021-12-18T15:34:22.250Z"
   },
   {
    "duration": 645,
    "start_time": "2021-12-18T15:37:05.589Z"
   },
   {
    "duration": 477,
    "start_time": "2021-12-18T15:37:24.380Z"
   },
   {
    "duration": 24,
    "start_time": "2021-12-18T15:39:56.275Z"
   },
   {
    "duration": 35,
    "start_time": "2021-12-18T15:40:32.200Z"
   },
   {
    "duration": 26,
    "start_time": "2021-12-18T15:41:28.463Z"
   },
   {
    "duration": 37,
    "start_time": "2021-12-18T15:42:15.443Z"
   },
   {
    "duration": 431,
    "start_time": "2021-12-18T15:43:04.134Z"
   },
   {
    "duration": 627,
    "start_time": "2021-12-18T15:43:24.248Z"
   },
   {
    "duration": 26,
    "start_time": "2021-12-18T15:43:47.021Z"
   },
   {
    "duration": 34,
    "start_time": "2021-12-18T15:44:39.446Z"
   },
   {
    "duration": 32,
    "start_time": "2021-12-18T15:45:33.521Z"
   },
   {
    "duration": 25,
    "start_time": "2021-12-18T15:46:05.617Z"
   },
   {
    "duration": 27,
    "start_time": "2021-12-18T15:46:12.868Z"
   },
   {
    "duration": 16,
    "start_time": "2021-12-18T15:46:15.255Z"
   },
   {
    "duration": 42,
    "start_time": "2021-12-18T16:03:09.337Z"
   },
   {
    "duration": 28,
    "start_time": "2021-12-18T16:05:42.313Z"
   },
   {
    "duration": 417,
    "start_time": "2021-12-18T16:06:21.802Z"
   },
   {
    "duration": 53,
    "start_time": "2021-12-18T16:06:40.617Z"
   },
   {
    "duration": 38,
    "start_time": "2021-12-18T16:07:01.160Z"
   },
   {
    "duration": 3203,
    "start_time": "2021-12-18T16:10:18.333Z"
   },
   {
    "duration": 26,
    "start_time": "2021-12-18T16:10:38.653Z"
   },
   {
    "duration": 902,
    "start_time": "2021-12-18T16:22:09.865Z"
   },
   {
    "duration": 154,
    "start_time": "2021-12-18T16:22:10.770Z"
   },
   {
    "duration": 13,
    "start_time": "2021-12-18T16:22:10.928Z"
   },
   {
    "duration": 2026,
    "start_time": "2021-12-18T16:22:10.944Z"
   },
   {
    "duration": 9140,
    "start_time": "2021-12-18T16:22:12.972Z"
   },
   {
    "duration": 48,
    "start_time": "2021-12-18T16:22:22.114Z"
   },
   {
    "duration": 18,
    "start_time": "2021-12-18T16:22:22.164Z"
   },
   {
    "duration": 24,
    "start_time": "2021-12-18T16:22:22.185Z"
   },
   {
    "duration": 106,
    "start_time": "2021-12-18T16:22:22.212Z"
   },
   {
    "duration": 10,
    "start_time": "2021-12-18T16:22:22.321Z"
   },
   {
    "duration": 11,
    "start_time": "2021-12-18T16:22:22.360Z"
   },
   {
    "duration": 44,
    "start_time": "2021-12-18T16:22:22.374Z"
   },
   {
    "duration": 49,
    "start_time": "2021-12-18T16:22:22.421Z"
   },
   {
    "duration": 16,
    "start_time": "2021-12-18T16:22:22.472Z"
   },
   {
    "duration": 12,
    "start_time": "2021-12-18T16:22:22.491Z"
   },
   {
    "duration": 9,
    "start_time": "2021-12-18T16:22:22.505Z"
   },
   {
    "duration": 63,
    "start_time": "2021-12-18T16:22:22.516Z"
   },
   {
    "duration": 12,
    "start_time": "2021-12-18T16:22:22.581Z"
   },
   {
    "duration": 14,
    "start_time": "2021-12-18T16:22:22.595Z"
   },
   {
    "duration": 70,
    "start_time": "2021-12-18T16:22:22.612Z"
   },
   {
    "duration": 6,
    "start_time": "2021-12-18T16:22:22.685Z"
   },
   {
    "duration": 70,
    "start_time": "2021-12-18T16:22:22.694Z"
   },
   {
    "duration": 10,
    "start_time": "2021-12-18T16:22:22.769Z"
   },
   {
    "duration": 13,
    "start_time": "2021-12-18T16:22:22.782Z"
   },
   {
    "duration": 8720,
    "start_time": "2021-12-18T16:22:22.798Z"
   },
   {
    "duration": 6,
    "start_time": "2021-12-18T16:22:31.521Z"
   },
   {
    "duration": 43,
    "start_time": "2021-12-18T16:22:31.530Z"
   },
   {
    "duration": 21,
    "start_time": "2021-12-18T16:22:31.576Z"
   },
   {
    "duration": 35,
    "start_time": "2021-12-18T16:22:31.600Z"
   },
   {
    "duration": 477,
    "start_time": "2021-12-18T16:22:31.659Z"
   },
   {
    "duration": 424,
    "start_time": "2021-12-18T16:22:32.139Z"
   },
   {
    "duration": 578,
    "start_time": "2021-12-18T16:22:32.567Z"
   },
   {
    "duration": 35,
    "start_time": "2021-12-18T16:22:33.148Z"
   },
   {
    "duration": 19,
    "start_time": "2021-12-18T16:22:33.186Z"
   },
   {
    "duration": 567,
    "start_time": "2021-12-18T16:22:33.208Z"
   },
   {
    "duration": 7,
    "start_time": "2021-12-18T16:29:36.427Z"
   },
   {
    "duration": 24,
    "start_time": "2021-12-18T16:32:06.956Z"
   },
   {
    "duration": 9,
    "start_time": "2021-12-18T16:32:42.359Z"
   },
   {
    "duration": 13180,
    "start_time": "2021-12-18T16:34:07.816Z"
   },
   {
    "duration": 9,
    "start_time": "2021-12-18T16:34:43.879Z"
   },
   {
    "duration": 25,
    "start_time": "2021-12-18T16:34:53.654Z"
   },
   {
    "duration": 27,
    "start_time": "2021-12-18T16:35:24.951Z"
   },
   {
    "duration": 4,
    "start_time": "2021-12-18T16:44:18.125Z"
   },
   {
    "duration": 385,
    "start_time": "2021-12-18T16:44:47.756Z"
   },
   {
    "duration": 383,
    "start_time": "2021-12-18T16:44:55.463Z"
   },
   {
    "duration": 513,
    "start_time": "2021-12-18T16:45:35.883Z"
   },
   {
    "duration": 290,
    "start_time": "2021-12-18T16:46:15.985Z"
   },
   {
    "duration": 876,
    "start_time": "2021-12-18T16:46:40.078Z"
   },
   {
    "duration": 155,
    "start_time": "2021-12-18T16:46:40.960Z"
   },
   {
    "duration": 15,
    "start_time": "2021-12-18T16:46:41.118Z"
   },
   {
    "duration": 1683,
    "start_time": "2021-12-18T16:46:41.136Z"
   },
   {
    "duration": 8718,
    "start_time": "2021-12-18T16:46:42.822Z"
   },
   {
    "duration": 52,
    "start_time": "2021-12-18T16:46:51.543Z"
   },
   {
    "duration": 17,
    "start_time": "2021-12-18T16:46:51.597Z"
   },
   {
    "duration": 24,
    "start_time": "2021-12-18T16:46:51.617Z"
   },
   {
    "duration": 84,
    "start_time": "2021-12-18T16:46:51.645Z"
   },
   {
    "duration": 30,
    "start_time": "2021-12-18T16:46:51.731Z"
   },
   {
    "duration": 9,
    "start_time": "2021-12-18T16:46:51.764Z"
   },
   {
    "duration": 83,
    "start_time": "2021-12-18T16:46:51.776Z"
   },
   {
    "duration": 22,
    "start_time": "2021-12-18T16:46:51.862Z"
   },
   {
    "duration": 15,
    "start_time": "2021-12-18T16:46:51.887Z"
   },
   {
    "duration": 63,
    "start_time": "2021-12-18T16:46:51.904Z"
   },
   {
    "duration": 6,
    "start_time": "2021-12-18T16:46:51.970Z"
   },
   {
    "duration": 37,
    "start_time": "2021-12-18T16:46:51.979Z"
   },
   {
    "duration": 10,
    "start_time": "2021-12-18T16:46:52.018Z"
   },
   {
    "duration": 29,
    "start_time": "2021-12-18T16:46:52.031Z"
   },
   {
    "duration": 36,
    "start_time": "2021-12-18T16:46:52.062Z"
   },
   {
    "duration": 8,
    "start_time": "2021-12-18T16:46:52.100Z"
   },
   {
    "duration": 10,
    "start_time": "2021-12-18T16:46:52.110Z"
   },
   {
    "duration": 24,
    "start_time": "2021-12-18T16:46:52.125Z"
   },
   {
    "duration": 8,
    "start_time": "2021-12-18T16:46:52.159Z"
   },
   {
    "duration": 40,
    "start_time": "2021-12-18T16:46:52.170Z"
   },
   {
    "duration": 9,
    "start_time": "2021-12-18T16:46:52.213Z"
   },
   {
    "duration": 17,
    "start_time": "2021-12-18T16:46:52.228Z"
   },
   {
    "duration": 9129,
    "start_time": "2021-12-18T16:46:52.248Z"
   },
   {
    "duration": 6,
    "start_time": "2021-12-18T16:47:01.380Z"
   },
   {
    "duration": 29,
    "start_time": "2021-12-18T16:47:01.388Z"
   },
   {
    "duration": 43,
    "start_time": "2021-12-18T16:47:01.420Z"
   },
   {
    "duration": 27,
    "start_time": "2021-12-18T16:47:01.466Z"
   },
   {
    "duration": 356,
    "start_time": "2021-12-18T16:47:01.497Z"
   },
   {
    "duration": 366,
    "start_time": "2021-12-18T16:47:01.860Z"
   },
   {
    "duration": 420,
    "start_time": "2021-12-18T16:47:02.230Z"
   },
   {
    "duration": 27,
    "start_time": "2021-12-18T16:47:02.654Z"
   },
   {
    "duration": 17,
    "start_time": "2021-12-18T16:47:02.684Z"
   },
   {
    "duration": 661,
    "start_time": "2021-12-18T16:47:02.704Z"
   },
   {
    "duration": 462,
    "start_time": "2021-12-18T16:52:31.396Z"
   },
   {
    "duration": 600,
    "start_time": "2021-12-18T16:53:28.381Z"
   },
   {
    "duration": 7,
    "start_time": "2021-12-18T16:53:43.223Z"
   },
   {
    "duration": 25,
    "start_time": "2021-12-18T16:54:08.901Z"
   },
   {
    "duration": 373,
    "start_time": "2021-12-18T16:54:43.516Z"
   },
   {
    "duration": 865,
    "start_time": "2021-12-18T16:54:59.710Z"
   },
   {
    "duration": 153,
    "start_time": "2021-12-18T16:55:00.578Z"
   },
   {
    "duration": 16,
    "start_time": "2021-12-18T16:55:00.734Z"
   },
   {
    "duration": 1724,
    "start_time": "2021-12-18T16:55:00.754Z"
   },
   {
    "duration": 8224,
    "start_time": "2021-12-18T16:55:02.480Z"
   },
   {
    "duration": 34,
    "start_time": "2021-12-18T16:55:10.706Z"
   },
   {
    "duration": 17,
    "start_time": "2021-12-18T16:55:10.759Z"
   },
   {
    "duration": 22,
    "start_time": "2021-12-18T16:55:10.781Z"
   },
   {
    "duration": 105,
    "start_time": "2021-12-18T16:55:10.806Z"
   },
   {
    "duration": 6,
    "start_time": "2021-12-18T16:55:10.913Z"
   },
   {
    "duration": 21,
    "start_time": "2021-12-18T16:55:10.921Z"
   },
   {
    "duration": 32,
    "start_time": "2021-12-18T16:55:10.960Z"
   },
   {
    "duration": 21,
    "start_time": "2021-12-18T16:55:10.995Z"
   },
   {
    "duration": 43,
    "start_time": "2021-12-18T16:55:11.018Z"
   },
   {
    "duration": 23,
    "start_time": "2021-12-18T16:55:11.064Z"
   },
   {
    "duration": 19,
    "start_time": "2021-12-18T16:55:11.089Z"
   },
   {
    "duration": 41,
    "start_time": "2021-12-18T16:55:11.111Z"
   },
   {
    "duration": 11,
    "start_time": "2021-12-18T16:55:11.155Z"
   },
   {
    "duration": 18,
    "start_time": "2021-12-18T16:55:11.168Z"
   },
   {
    "duration": 53,
    "start_time": "2021-12-18T16:55:11.189Z"
   },
   {
    "duration": 19,
    "start_time": "2021-12-18T16:55:11.244Z"
   },
   {
    "duration": 10,
    "start_time": "2021-12-18T16:55:11.266Z"
   },
   {
    "duration": 41,
    "start_time": "2021-12-18T16:55:11.281Z"
   },
   {
    "duration": 12,
    "start_time": "2021-12-18T16:55:11.358Z"
   },
   {
    "duration": 21,
    "start_time": "2021-12-18T16:55:11.373Z"
   },
   {
    "duration": 9,
    "start_time": "2021-12-18T16:55:11.397Z"
   },
   {
    "duration": 79,
    "start_time": "2021-12-18T16:55:11.409Z"
   },
   {
    "duration": 8,
    "start_time": "2021-12-18T16:55:11.490Z"
   },
   {
    "duration": 11,
    "start_time": "2021-12-18T16:55:11.501Z"
   },
   {
    "duration": 7247,
    "start_time": "2021-12-18T16:55:11.514Z"
   },
   {
    "duration": 5,
    "start_time": "2021-12-18T16:55:18.764Z"
   },
   {
    "duration": 17,
    "start_time": "2021-12-18T16:55:18.771Z"
   },
   {
    "duration": 19,
    "start_time": "2021-12-18T16:55:18.790Z"
   },
   {
    "duration": 53,
    "start_time": "2021-12-18T16:55:18.812Z"
   },
   {
    "duration": 365,
    "start_time": "2021-12-18T16:55:18.868Z"
   },
   {
    "duration": 374,
    "start_time": "2021-12-18T16:55:19.235Z"
   },
   {
    "duration": 415,
    "start_time": "2021-12-18T16:55:19.611Z"
   },
   {
    "duration": 44,
    "start_time": "2021-12-18T16:55:20.030Z"
   },
   {
    "duration": 15,
    "start_time": "2021-12-18T16:55:20.076Z"
   },
   {
    "duration": 549,
    "start_time": "2021-12-18T16:55:20.093Z"
   },
   {
    "duration": 23,
    "start_time": "2021-12-18T16:56:43.127Z"
   },
   {
    "duration": 628,
    "start_time": "2021-12-19T11:46:13.705Z"
   },
   {
    "duration": 116,
    "start_time": "2021-12-19T11:46:14.335Z"
   },
   {
    "duration": 9,
    "start_time": "2021-12-19T11:46:14.452Z"
   },
   {
    "duration": 1021,
    "start_time": "2021-12-19T11:46:14.463Z"
   },
   {
    "duration": 5016,
    "start_time": "2021-12-19T11:46:15.491Z"
   },
   {
    "duration": 22,
    "start_time": "2021-12-19T11:46:20.509Z"
   },
   {
    "duration": 13,
    "start_time": "2021-12-19T11:46:20.532Z"
   },
   {
    "duration": 45,
    "start_time": "2021-12-19T11:46:20.547Z"
   },
   {
    "duration": 51,
    "start_time": "2021-12-19T11:46:20.594Z"
   },
   {
    "duration": 5,
    "start_time": "2021-12-19T11:46:20.646Z"
   },
   {
    "duration": 9,
    "start_time": "2021-12-19T11:46:20.652Z"
   },
   {
    "duration": 45,
    "start_time": "2021-12-19T11:46:20.662Z"
   },
   {
    "duration": 11,
    "start_time": "2021-12-19T11:46:20.708Z"
   },
   {
    "duration": 9,
    "start_time": "2021-12-19T11:46:20.721Z"
   },
   {
    "duration": 8,
    "start_time": "2021-12-19T11:46:20.732Z"
   },
   {
    "duration": 6,
    "start_time": "2021-12-19T11:46:20.742Z"
   },
   {
    "duration": 52,
    "start_time": "2021-12-19T11:46:20.749Z"
   },
   {
    "duration": 8,
    "start_time": "2021-12-19T11:46:20.803Z"
   },
   {
    "duration": 14,
    "start_time": "2021-12-19T11:46:20.813Z"
   },
   {
    "duration": 36,
    "start_time": "2021-12-19T11:46:20.829Z"
   },
   {
    "duration": 4,
    "start_time": "2021-12-19T11:46:20.867Z"
   },
   {
    "duration": 6,
    "start_time": "2021-12-19T11:46:20.892Z"
   },
   {
    "duration": 17,
    "start_time": "2021-12-19T11:46:20.901Z"
   },
   {
    "duration": 12,
    "start_time": "2021-12-19T11:46:20.920Z"
   },
   {
    "duration": 4,
    "start_time": "2021-12-19T11:46:20.934Z"
   },
   {
    "duration": 65,
    "start_time": "2021-12-19T11:46:20.939Z"
   },
   {
    "duration": 6,
    "start_time": "2021-12-19T11:46:21.005Z"
   },
   {
    "duration": 9,
    "start_time": "2021-12-19T11:46:21.012Z"
   },
   {
    "duration": 3853,
    "start_time": "2021-12-19T11:46:21.022Z"
   },
   {
    "duration": 4,
    "start_time": "2021-12-19T11:46:24.876Z"
   },
   {
    "duration": 18,
    "start_time": "2021-12-19T11:46:24.881Z"
   },
   {
    "duration": 15,
    "start_time": "2021-12-19T11:46:24.901Z"
   },
   {
    "duration": 16,
    "start_time": "2021-12-19T11:46:24.917Z"
   },
   {
    "duration": 18,
    "start_time": "2021-12-19T11:46:24.935Z"
   },
   {
    "duration": 227,
    "start_time": "2021-12-19T11:46:24.955Z"
   },
   {
    "duration": 239,
    "start_time": "2021-12-19T11:46:25.184Z"
   },
   {
    "duration": 252,
    "start_time": "2021-12-19T11:46:25.425Z"
   },
   {
    "duration": 23,
    "start_time": "2021-12-19T11:46:25.679Z"
   },
   {
    "duration": 11,
    "start_time": "2021-12-19T11:46:25.704Z"
   },
   {
    "duration": 364,
    "start_time": "2021-12-19T11:46:25.716Z"
   },
   {
    "duration": 17,
    "start_time": "2021-12-19T11:46:44.470Z"
   },
   {
    "duration": 6,
    "start_time": "2021-12-19T11:47:12.225Z"
   },
   {
    "duration": 17,
    "start_time": "2021-12-19T11:56:15.549Z"
   },
   {
    "duration": 20,
    "start_time": "2021-12-19T11:57:04.190Z"
   },
   {
    "duration": 17,
    "start_time": "2021-12-19T11:57:41.634Z"
   },
   {
    "duration": 18,
    "start_time": "2021-12-19T11:57:44.478Z"
   },
   {
    "duration": 293,
    "start_time": "2021-12-19T11:58:48.494Z"
   },
   {
    "duration": 290,
    "start_time": "2021-12-19T11:59:05.503Z"
   },
   {
    "duration": 286,
    "start_time": "2021-12-19T11:59:15.599Z"
   },
   {
    "duration": 303,
    "start_time": "2021-12-19T12:01:01.483Z"
   },
   {
    "duration": 278,
    "start_time": "2021-12-19T12:02:12.239Z"
   },
   {
    "duration": 283,
    "start_time": "2021-12-19T12:04:09.524Z"
   },
   {
    "duration": 280,
    "start_time": "2021-12-19T12:07:12.199Z"
   },
   {
    "duration": 559,
    "start_time": "2021-12-19T12:08:27.362Z"
   },
   {
    "duration": 593,
    "start_time": "2021-12-19T12:08:53.400Z"
   },
   {
    "duration": 538,
    "start_time": "2021-12-19T12:09:10.548Z"
   },
   {
    "duration": 299,
    "start_time": "2021-12-19T12:09:30.091Z"
   },
   {
    "duration": 6,
    "start_time": "2021-12-19T12:10:14.164Z"
   },
   {
    "duration": 5,
    "start_time": "2021-12-19T12:11:49.280Z"
   },
   {
    "duration": 18,
    "start_time": "2021-12-19T12:11:52.902Z"
   },
   {
    "duration": 9,
    "start_time": "2021-12-19T12:12:14.720Z"
   },
   {
    "duration": 9,
    "start_time": "2021-12-19T12:13:14.571Z"
   },
   {
    "duration": 7,
    "start_time": "2021-12-19T12:14:05.664Z"
   },
   {
    "duration": 7,
    "start_time": "2021-12-19T12:14:25.083Z"
   },
   {
    "duration": 22,
    "start_time": "2021-12-19T12:14:38.591Z"
   },
   {
    "duration": 12,
    "start_time": "2021-12-19T12:14:44.986Z"
   },
   {
    "duration": 630,
    "start_time": "2021-12-19T12:15:04.416Z"
   },
   {
    "duration": 122,
    "start_time": "2021-12-19T12:15:05.047Z"
   },
   {
    "duration": 10,
    "start_time": "2021-12-19T12:15:05.171Z"
   },
   {
    "duration": 1041,
    "start_time": "2021-12-19T12:15:05.184Z"
   },
   {
    "duration": 5026,
    "start_time": "2021-12-19T12:15:06.227Z"
   },
   {
    "duration": 37,
    "start_time": "2021-12-19T12:15:11.255Z"
   },
   {
    "duration": 14,
    "start_time": "2021-12-19T12:15:11.294Z"
   },
   {
    "duration": 15,
    "start_time": "2021-12-19T12:15:11.311Z"
   },
   {
    "duration": 74,
    "start_time": "2021-12-19T12:15:11.329Z"
   },
   {
    "duration": 5,
    "start_time": "2021-12-19T12:15:11.405Z"
   },
   {
    "duration": 8,
    "start_time": "2021-12-19T12:15:11.412Z"
   },
   {
    "duration": 20,
    "start_time": "2021-12-19T12:15:11.422Z"
   },
   {
    "duration": 13,
    "start_time": "2021-12-19T12:15:11.444Z"
   },
   {
    "duration": 47,
    "start_time": "2021-12-19T12:15:11.458Z"
   },
   {
    "duration": 9,
    "start_time": "2021-12-19T12:15:11.507Z"
   },
   {
    "duration": 6,
    "start_time": "2021-12-19T12:15:11.518Z"
   },
   {
    "duration": 14,
    "start_time": "2021-12-19T12:15:11.526Z"
   },
   {
    "duration": 49,
    "start_time": "2021-12-19T12:15:11.542Z"
   },
   {
    "duration": 13,
    "start_time": "2021-12-19T12:15:11.593Z"
   },
   {
    "duration": 28,
    "start_time": "2021-12-19T12:15:11.608Z"
   },
   {
    "duration": 4,
    "start_time": "2021-12-19T12:15:11.638Z"
   },
   {
    "duration": 7,
    "start_time": "2021-12-19T12:15:11.643Z"
   },
   {
    "duration": 47,
    "start_time": "2021-12-19T12:15:11.654Z"
   },
   {
    "duration": 14,
    "start_time": "2021-12-19T12:15:11.703Z"
   },
   {
    "duration": 4,
    "start_time": "2021-12-19T12:15:11.718Z"
   },
   {
    "duration": 32,
    "start_time": "2021-12-19T12:15:11.724Z"
   },
   {
    "duration": 5,
    "start_time": "2021-12-19T12:15:11.758Z"
   },
   {
    "duration": 28,
    "start_time": "2021-12-19T12:15:11.765Z"
   },
   {
    "duration": 3823,
    "start_time": "2021-12-19T12:15:11.795Z"
   },
   {
    "duration": 3,
    "start_time": "2021-12-19T12:15:15.620Z"
   },
   {
    "duration": 13,
    "start_time": "2021-12-19T12:15:15.625Z"
   },
   {
    "duration": 7,
    "start_time": "2021-12-19T12:15:15.640Z"
   },
   {
    "duration": 16,
    "start_time": "2021-12-19T12:15:15.649Z"
   },
   {
    "duration": 38,
    "start_time": "2021-12-19T12:15:15.667Z"
   },
   {
    "duration": 240,
    "start_time": "2021-12-19T12:15:15.707Z"
   },
   {
    "duration": 231,
    "start_time": "2021-12-19T12:15:15.949Z"
   },
   {
    "duration": 262,
    "start_time": "2021-12-19T12:15:16.181Z"
   },
   {
    "duration": 18,
    "start_time": "2021-12-19T12:15:16.445Z"
   },
   {
    "duration": 26,
    "start_time": "2021-12-19T12:15:16.465Z"
   },
   {
    "duration": 358,
    "start_time": "2021-12-19T12:15:16.493Z"
   },
   {
    "duration": 17,
    "start_time": "2021-12-19T12:15:16.853Z"
   },
   {
    "duration": 20,
    "start_time": "2021-12-19T12:15:16.872Z"
   },
   {
    "duration": 307,
    "start_time": "2021-12-19T12:15:16.894Z"
   },
   {
    "duration": 5,
    "start_time": "2021-12-19T12:15:17.203Z"
   },
   {
    "duration": 267,
    "start_time": "2021-12-19T12:15:45.020Z"
   },
   {
    "duration": 279,
    "start_time": "2021-12-19T12:16:59.392Z"
   },
   {
    "duration": 272,
    "start_time": "2021-12-19T12:17:07.790Z"
   },
   {
    "duration": 293,
    "start_time": "2021-12-19T12:17:36.382Z"
   },
   {
    "duration": 602,
    "start_time": "2021-12-19T12:18:04.491Z"
   },
   {
    "duration": 253,
    "start_time": "2021-12-19T12:18:37.929Z"
   },
   {
    "duration": 845,
    "start_time": "2021-12-19T12:19:36.460Z"
   },
   {
    "duration": 183,
    "start_time": "2021-12-19T12:19:56.665Z"
   },
   {
    "duration": 752,
    "start_time": "2021-12-19T12:20:24.282Z"
   },
   {
    "duration": 839,
    "start_time": "2021-12-19T12:21:17.233Z"
   },
   {
    "duration": 836,
    "start_time": "2021-12-19T12:23:55.933Z"
   },
   {
    "duration": 664,
    "start_time": "2021-12-19T12:24:17.280Z"
   },
   {
    "duration": 930,
    "start_time": "2021-12-19T12:24:31.572Z"
   },
   {
    "duration": 692,
    "start_time": "2021-12-19T12:25:08.264Z"
   },
   {
    "duration": 451,
    "start_time": "2021-12-19T12:26:55.201Z"
   },
   {
    "duration": 486,
    "start_time": "2021-12-19T12:27:03.853Z"
   },
   {
    "duration": 431,
    "start_time": "2021-12-19T12:27:12.945Z"
   },
   {
    "duration": 512,
    "start_time": "2021-12-19T12:27:39.382Z"
   },
   {
    "duration": 563,
    "start_time": "2021-12-19T12:27:58.351Z"
   },
   {
    "duration": 546,
    "start_time": "2021-12-19T12:28:46.697Z"
   },
   {
    "duration": 741,
    "start_time": "2021-12-19T12:29:03.973Z"
   },
   {
    "duration": 484,
    "start_time": "2021-12-19T12:30:03.178Z"
   },
   {
    "duration": 652,
    "start_time": "2021-12-19T12:30:45.297Z"
   },
   {
    "duration": 454,
    "start_time": "2021-12-19T12:32:16.049Z"
   },
   {
    "duration": 704,
    "start_time": "2021-12-19T12:33:07.860Z"
   },
   {
    "duration": 661,
    "start_time": "2021-12-19T12:33:20.352Z"
   },
   {
    "duration": 488,
    "start_time": "2021-12-19T12:33:30.162Z"
   },
   {
    "duration": 546,
    "start_time": "2021-12-19T12:33:42.475Z"
   },
   {
    "duration": 623,
    "start_time": "2021-12-19T12:35:39.041Z"
   },
   {
    "duration": 576,
    "start_time": "2021-12-19T12:35:57.971Z"
   },
   {
    "duration": 522,
    "start_time": "2021-12-19T12:36:06.719Z"
   },
   {
    "duration": 540,
    "start_time": "2021-12-19T12:36:20.504Z"
   },
   {
    "duration": 379,
    "start_time": "2021-12-19T12:36:36.357Z"
   },
   {
    "duration": 545,
    "start_time": "2021-12-19T12:36:50.232Z"
   },
   {
    "duration": 510,
    "start_time": "2021-12-19T12:37:34.522Z"
   },
   {
    "duration": 587,
    "start_time": "2021-12-19T12:37:42.398Z"
   },
   {
    "duration": 492,
    "start_time": "2021-12-19T12:37:57.518Z"
   },
   {
    "duration": 499,
    "start_time": "2021-12-19T12:41:53.506Z"
   },
   {
    "duration": 506,
    "start_time": "2021-12-19T12:42:04.321Z"
   },
   {
    "duration": 542,
    "start_time": "2021-12-19T12:42:31.067Z"
   },
   {
    "duration": 575,
    "start_time": "2021-12-19T12:42:37.953Z"
   },
   {
    "duration": 497,
    "start_time": "2021-12-19T12:43:24.167Z"
   },
   {
    "duration": 511,
    "start_time": "2021-12-19T12:43:57.168Z"
   },
   {
    "duration": 483,
    "start_time": "2021-12-19T12:44:43.654Z"
   },
   {
    "duration": 212,
    "start_time": "2021-12-19T12:55:14.033Z"
   },
   {
    "duration": 208,
    "start_time": "2021-12-19T12:55:25.685Z"
   },
   {
    "duration": 207,
    "start_time": "2021-12-19T12:55:34.895Z"
   },
   {
    "duration": 232,
    "start_time": "2021-12-19T12:56:42.081Z"
   },
   {
    "duration": 266,
    "start_time": "2021-12-19T12:56:54.500Z"
   },
   {
    "duration": 204,
    "start_time": "2021-12-19T12:58:34.222Z"
   },
   {
    "duration": 225,
    "start_time": "2021-12-19T13:17:56.343Z"
   },
   {
    "duration": 272,
    "start_time": "2021-12-19T13:21:07.086Z"
   },
   {
    "duration": 227,
    "start_time": "2021-12-19T13:21:34.356Z"
   },
   {
    "duration": 189,
    "start_time": "2021-12-19T13:22:00.579Z"
   },
   {
    "duration": 222,
    "start_time": "2021-12-19T13:22:25.739Z"
   },
   {
    "duration": 213,
    "start_time": "2021-12-19T13:23:24.366Z"
   },
   {
    "duration": 57,
    "start_time": "2021-12-19T13:23:57.728Z"
   },
   {
    "duration": 59,
    "start_time": "2021-12-19T13:25:17.437Z"
   },
   {
    "duration": 71,
    "start_time": "2021-12-19T13:25:31.379Z"
   },
   {
    "duration": 6,
    "start_time": "2021-12-19T13:25:41.077Z"
   },
   {
    "duration": 236,
    "start_time": "2021-12-19T13:27:06.156Z"
   },
   {
    "duration": 243,
    "start_time": "2021-12-19T13:28:24.774Z"
   },
   {
    "duration": 238,
    "start_time": "2021-12-19T13:28:37.272Z"
   },
   {
    "duration": 236,
    "start_time": "2021-12-19T13:28:48.162Z"
   },
   {
    "duration": 513,
    "start_time": "2021-12-19T13:30:33.336Z"
   },
   {
    "duration": 442,
    "start_time": "2021-12-19T13:30:48.733Z"
   },
   {
    "duration": 458,
    "start_time": "2021-12-19T13:31:53.152Z"
   },
   {
    "duration": 437,
    "start_time": "2021-12-19T13:32:26.366Z"
   },
   {
    "duration": 438,
    "start_time": "2021-12-19T13:32:44.779Z"
   },
   {
    "duration": 459,
    "start_time": "2021-12-19T13:33:51.239Z"
   },
   {
    "duration": 518,
    "start_time": "2021-12-19T13:34:10.202Z"
   },
   {
    "duration": 484,
    "start_time": "2021-12-19T13:34:24.930Z"
   },
   {
    "duration": 451,
    "start_time": "2021-12-19T13:36:14.554Z"
   },
   {
    "duration": 548,
    "start_time": "2021-12-19T13:36:43.396Z"
   },
   {
    "duration": 467,
    "start_time": "2021-12-19T13:36:54.750Z"
   },
   {
    "duration": 474,
    "start_time": "2021-12-19T13:37:13.439Z"
   },
   {
    "duration": 521,
    "start_time": "2021-12-19T13:58:33.792Z"
   },
   {
    "duration": 441,
    "start_time": "2021-12-19T13:58:49.212Z"
   },
   {
    "duration": 452,
    "start_time": "2021-12-19T13:59:31.455Z"
   },
   {
    "duration": 493,
    "start_time": "2021-12-19T14:00:07.022Z"
   },
   {
    "duration": 460,
    "start_time": "2021-12-19T14:00:14.865Z"
   },
   {
    "duration": 457,
    "start_time": "2021-12-19T14:00:50.101Z"
   },
   {
    "duration": 539,
    "start_time": "2021-12-19T14:02:15.600Z"
   },
   {
    "duration": 451,
    "start_time": "2021-12-19T14:02:51.509Z"
   },
   {
    "duration": 480,
    "start_time": "2021-12-19T14:03:38.716Z"
   },
   {
    "duration": 473,
    "start_time": "2021-12-19T14:03:51.708Z"
   },
   {
    "duration": 484,
    "start_time": "2021-12-19T14:07:17.256Z"
   },
   {
    "duration": 547,
    "start_time": "2021-12-19T14:07:23.869Z"
   },
   {
    "duration": 533,
    "start_time": "2021-12-19T14:07:31.278Z"
   },
   {
    "duration": 483,
    "start_time": "2021-12-19T14:07:53.525Z"
   },
   {
    "duration": 351,
    "start_time": "2021-12-19T14:17:54.085Z"
   },
   {
    "duration": 462,
    "start_time": "2021-12-19T14:18:49.275Z"
   },
   {
    "duration": 32,
    "start_time": "2021-12-19T14:21:42.630Z"
   },
   {
    "duration": 634,
    "start_time": "2021-12-19T14:22:17.032Z"
   },
   {
    "duration": 118,
    "start_time": "2021-12-19T14:22:17.668Z"
   },
   {
    "duration": 9,
    "start_time": "2021-12-19T14:22:17.788Z"
   },
   {
    "duration": 1064,
    "start_time": "2021-12-19T14:22:17.798Z"
   },
   {
    "duration": 4928,
    "start_time": "2021-12-19T14:22:18.864Z"
   },
   {
    "duration": 22,
    "start_time": "2021-12-19T14:22:23.794Z"
   },
   {
    "duration": 12,
    "start_time": "2021-12-19T14:22:23.818Z"
   },
   {
    "duration": 14,
    "start_time": "2021-12-19T14:22:23.833Z"
   },
   {
    "duration": 78,
    "start_time": "2021-12-19T14:22:23.848Z"
   },
   {
    "duration": 6,
    "start_time": "2021-12-19T14:22:23.927Z"
   },
   {
    "duration": 7,
    "start_time": "2021-12-19T14:22:23.935Z"
   },
   {
    "duration": 18,
    "start_time": "2021-12-19T14:22:23.944Z"
   },
   {
    "duration": 13,
    "start_time": "2021-12-19T14:22:23.992Z"
   },
   {
    "duration": 13,
    "start_time": "2021-12-19T14:22:24.007Z"
   },
   {
    "duration": 9,
    "start_time": "2021-12-19T14:22:24.022Z"
   },
   {
    "duration": 16,
    "start_time": "2021-12-19T14:22:24.033Z"
   },
   {
    "duration": 17,
    "start_time": "2021-12-19T14:22:24.051Z"
   },
   {
    "duration": 24,
    "start_time": "2021-12-19T14:22:24.070Z"
   },
   {
    "duration": 20,
    "start_time": "2021-12-19T14:22:24.096Z"
   },
   {
    "duration": 44,
    "start_time": "2021-12-19T14:22:24.117Z"
   },
   {
    "duration": 4,
    "start_time": "2021-12-19T14:22:24.163Z"
   },
   {
    "duration": 11,
    "start_time": "2021-12-19T14:22:24.168Z"
   },
   {
    "duration": 32,
    "start_time": "2021-12-19T14:22:24.182Z"
   },
   {
    "duration": 19,
    "start_time": "2021-12-19T14:22:24.216Z"
   },
   {
    "duration": 10,
    "start_time": "2021-12-19T14:22:24.237Z"
   },
   {
    "duration": 39,
    "start_time": "2021-12-19T14:22:24.249Z"
   },
   {
    "duration": 6,
    "start_time": "2021-12-19T14:22:24.289Z"
   },
   {
    "duration": 14,
    "start_time": "2021-12-19T14:22:24.297Z"
   },
   {
    "duration": 4046,
    "start_time": "2021-12-19T14:22:24.312Z"
   },
   {
    "duration": 5,
    "start_time": "2021-12-19T14:22:28.360Z"
   },
   {
    "duration": 25,
    "start_time": "2021-12-19T14:22:28.366Z"
   },
   {
    "duration": 5,
    "start_time": "2021-12-19T14:22:28.395Z"
   },
   {
    "duration": 26,
    "start_time": "2021-12-19T14:22:28.403Z"
   },
   {
    "duration": 22,
    "start_time": "2021-12-19T14:22:28.431Z"
   },
   {
    "duration": 254,
    "start_time": "2021-12-19T14:22:28.455Z"
   },
   {
    "duration": 249,
    "start_time": "2021-12-19T14:22:28.711Z"
   },
   {
    "duration": 263,
    "start_time": "2021-12-19T14:22:28.962Z"
   },
   {
    "duration": 19,
    "start_time": "2021-12-19T14:22:29.227Z"
   },
   {
    "duration": 12,
    "start_time": "2021-12-19T14:22:29.247Z"
   },
   {
    "duration": 381,
    "start_time": "2021-12-19T14:22:29.261Z"
   },
   {
    "duration": 5,
    "start_time": "2021-12-19T14:22:29.644Z"
   },
   {
    "duration": 226,
    "start_time": "2021-12-19T14:22:29.650Z"
   },
   {
    "duration": 536,
    "start_time": "2021-12-19T14:22:29.877Z"
   },
   {
    "duration": 505,
    "start_time": "2021-12-19T14:22:30.415Z"
   },
   {
    "duration": 500,
    "start_time": "2021-12-19T14:22:30.922Z"
   },
   {
    "duration": 308,
    "start_time": "2021-12-19T14:23:52.333Z"
   },
   {
    "duration": 20,
    "start_time": "2021-12-19T14:29:02.919Z"
   },
   {
    "duration": 20,
    "start_time": "2021-12-19T14:30:00.996Z"
   },
   {
    "duration": 19,
    "start_time": "2021-12-19T14:31:04.854Z"
   },
   {
    "duration": 478,
    "start_time": "2021-12-19T14:32:41.116Z"
   },
   {
    "duration": 553,
    "start_time": "2021-12-19T14:34:14.989Z"
   },
   {
    "duration": 20,
    "start_time": "2021-12-19T14:35:12.937Z"
   },
   {
    "duration": 20,
    "start_time": "2021-12-19T14:37:07.926Z"
   },
   {
    "duration": 19,
    "start_time": "2021-12-19T14:37:26.901Z"
   },
   {
    "duration": 182,
    "start_time": "2021-12-19T14:37:35.154Z"
   },
   {
    "duration": 290,
    "start_time": "2021-12-19T14:38:02.756Z"
   },
   {
    "duration": 126,
    "start_time": "2021-12-19T14:38:38.893Z"
   },
   {
    "duration": 99,
    "start_time": "2021-12-19T14:39:07.056Z"
   },
   {
    "duration": 104,
    "start_time": "2021-12-19T14:42:00.272Z"
   },
   {
    "duration": 106,
    "start_time": "2021-12-19T14:42:38.788Z"
   },
   {
    "duration": 87,
    "start_time": "2021-12-19T14:43:09.506Z"
   },
   {
    "duration": 276,
    "start_time": "2021-12-19T14:43:47.523Z"
   },
   {
    "duration": 350,
    "start_time": "2021-12-19T14:45:10.425Z"
   },
   {
    "duration": 404,
    "start_time": "2021-12-19T14:45:20.861Z"
   },
   {
    "duration": 655,
    "start_time": "2021-12-19T14:47:52.916Z"
   },
   {
    "duration": 502,
    "start_time": "2021-12-19T14:51:04.721Z"
   },
   {
    "duration": 665,
    "start_time": "2021-12-19T14:51:57.072Z"
   },
   {
    "duration": 667,
    "start_time": "2021-12-19T14:52:54.754Z"
   },
   {
    "duration": 737,
    "start_time": "2021-12-19T14:53:06.058Z"
   },
   {
    "duration": 485,
    "start_time": "2021-12-19T14:54:04.636Z"
   },
   {
    "duration": 922,
    "start_time": "2021-12-19T14:54:49.800Z"
   },
   {
    "duration": 812,
    "start_time": "2021-12-19T14:55:12.969Z"
   },
   {
    "duration": 970,
    "start_time": "2021-12-19T14:55:28.388Z"
   },
   {
    "duration": 1066,
    "start_time": "2021-12-19T14:56:15.484Z"
   },
   {
    "duration": 958,
    "start_time": "2021-12-19T14:56:30.109Z"
   },
   {
    "duration": 969,
    "start_time": "2021-12-19T14:57:02.736Z"
   },
   {
    "duration": 950,
    "start_time": "2021-12-19T14:59:24.670Z"
   },
   {
    "duration": 978,
    "start_time": "2021-12-19T15:00:53.124Z"
   },
   {
    "duration": 966,
    "start_time": "2021-12-19T15:01:24.928Z"
   },
   {
    "duration": 1038,
    "start_time": "2021-12-19T15:01:57.675Z"
   },
   {
    "duration": 927,
    "start_time": "2021-12-19T15:03:10.876Z"
   },
   {
    "duration": 957,
    "start_time": "2021-12-19T15:03:53.455Z"
   },
   {
    "duration": 1025,
    "start_time": "2021-12-19T15:09:27.153Z"
   },
   {
    "duration": 382,
    "start_time": "2021-12-19T15:24:36.250Z"
   },
   {
    "duration": 324,
    "start_time": "2021-12-19T15:25:43.169Z"
   },
   {
    "duration": 323,
    "start_time": "2021-12-19T15:26:58.990Z"
   },
   {
    "duration": 597,
    "start_time": "2021-12-19T15:27:46.720Z"
   },
   {
    "duration": 116,
    "start_time": "2021-12-19T15:27:47.319Z"
   },
   {
    "duration": 11,
    "start_time": "2021-12-19T15:27:47.438Z"
   },
   {
    "duration": 1023,
    "start_time": "2021-12-19T15:27:47.451Z"
   },
   {
    "duration": 4886,
    "start_time": "2021-12-19T15:27:48.475Z"
   },
   {
    "duration": 30,
    "start_time": "2021-12-19T15:27:53.362Z"
   },
   {
    "duration": 11,
    "start_time": "2021-12-19T15:27:53.394Z"
   },
   {
    "duration": 18,
    "start_time": "2021-12-19T15:27:53.407Z"
   },
   {
    "duration": 69,
    "start_time": "2021-12-19T15:27:53.428Z"
   },
   {
    "duration": 5,
    "start_time": "2021-12-19T15:27:53.500Z"
   },
   {
    "duration": 8,
    "start_time": "2021-12-19T15:27:53.507Z"
   },
   {
    "duration": 19,
    "start_time": "2021-12-19T15:27:53.517Z"
   },
   {
    "duration": 13,
    "start_time": "2021-12-19T15:27:53.538Z"
   },
   {
    "duration": 48,
    "start_time": "2021-12-19T15:27:53.553Z"
   },
   {
    "duration": 9,
    "start_time": "2021-12-19T15:27:53.604Z"
   },
   {
    "duration": 9,
    "start_time": "2021-12-19T15:27:53.614Z"
   },
   {
    "duration": 16,
    "start_time": "2021-12-19T15:27:53.624Z"
   },
   {
    "duration": 7,
    "start_time": "2021-12-19T15:27:53.642Z"
   },
   {
    "duration": 11,
    "start_time": "2021-12-19T15:27:53.650Z"
   },
   {
    "duration": 54,
    "start_time": "2021-12-19T15:27:53.663Z"
   },
   {
    "duration": 5,
    "start_time": "2021-12-19T15:27:53.719Z"
   },
   {
    "duration": 8,
    "start_time": "2021-12-19T15:27:53.725Z"
   },
   {
    "duration": 19,
    "start_time": "2021-12-19T15:27:53.734Z"
   },
   {
    "duration": 7,
    "start_time": "2021-12-19T15:27:53.755Z"
   },
   {
    "duration": 28,
    "start_time": "2021-12-19T15:27:53.764Z"
   },
   {
    "duration": 40,
    "start_time": "2021-12-19T15:27:53.794Z"
   },
   {
    "duration": 7,
    "start_time": "2021-12-19T15:27:53.839Z"
   },
   {
    "duration": 17,
    "start_time": "2021-12-19T15:27:53.849Z"
   },
   {
    "duration": 3734,
    "start_time": "2021-12-19T15:27:53.868Z"
   },
   {
    "duration": 4,
    "start_time": "2021-12-19T15:27:57.603Z"
   },
   {
    "duration": 11,
    "start_time": "2021-12-19T15:27:57.608Z"
   },
   {
    "duration": 5,
    "start_time": "2021-12-19T15:27:57.620Z"
   },
   {
    "duration": 16,
    "start_time": "2021-12-19T15:27:57.627Z"
   },
   {
    "duration": 15,
    "start_time": "2021-12-19T15:27:57.644Z"
   },
   {
    "duration": 244,
    "start_time": "2021-12-19T15:27:57.660Z"
   },
   {
    "duration": 248,
    "start_time": "2021-12-19T15:27:57.906Z"
   },
   {
    "duration": 242,
    "start_time": "2021-12-19T15:27:58.156Z"
   },
   {
    "duration": 17,
    "start_time": "2021-12-19T15:27:58.400Z"
   },
   {
    "duration": 10,
    "start_time": "2021-12-19T15:27:58.419Z"
   },
   {
    "duration": 353,
    "start_time": "2021-12-19T15:27:58.430Z"
   },
   {
    "duration": 7,
    "start_time": "2021-12-19T15:27:58.785Z"
   },
   {
    "duration": 203,
    "start_time": "2021-12-19T15:27:58.793Z"
   },
   {
    "duration": 489,
    "start_time": "2021-12-19T15:27:58.997Z"
   },
   {
    "duration": 462,
    "start_time": "2021-12-19T15:27:59.491Z"
   },
   {
    "duration": 479,
    "start_time": "2021-12-19T15:27:59.954Z"
   },
   {
    "duration": 390,
    "start_time": "2021-12-19T15:28:00.434Z"
   },
   {
    "duration": 973,
    "start_time": "2021-12-19T15:28:43.210Z"
   },
   {
    "duration": 635,
    "start_time": "2021-12-19T15:37:01.237Z"
   },
   {
    "duration": 115,
    "start_time": "2021-12-19T15:37:01.874Z"
   },
   {
    "duration": 9,
    "start_time": "2021-12-19T15:37:01.992Z"
   },
   {
    "duration": 1004,
    "start_time": "2021-12-19T15:37:02.003Z"
   },
   {
    "duration": 4874,
    "start_time": "2021-12-19T15:37:03.009Z"
   },
   {
    "duration": 26,
    "start_time": "2021-12-19T15:37:07.885Z"
   },
   {
    "duration": 11,
    "start_time": "2021-12-19T15:37:07.913Z"
   },
   {
    "duration": 14,
    "start_time": "2021-12-19T15:37:07.926Z"
   },
   {
    "duration": 74,
    "start_time": "2021-12-19T15:37:07.942Z"
   },
   {
    "duration": 4,
    "start_time": "2021-12-19T15:37:08.018Z"
   },
   {
    "duration": 8,
    "start_time": "2021-12-19T15:37:08.024Z"
   },
   {
    "duration": 19,
    "start_time": "2021-12-19T15:37:08.033Z"
   },
   {
    "duration": 42,
    "start_time": "2021-12-19T15:37:08.053Z"
   },
   {
    "duration": 11,
    "start_time": "2021-12-19T15:37:08.097Z"
   },
   {
    "duration": 8,
    "start_time": "2021-12-19T15:37:08.110Z"
   },
   {
    "duration": 11,
    "start_time": "2021-12-19T15:37:08.120Z"
   },
   {
    "duration": 16,
    "start_time": "2021-12-19T15:37:08.133Z"
   },
   {
    "duration": 9,
    "start_time": "2021-12-19T15:37:08.151Z"
   },
   {
    "duration": 42,
    "start_time": "2021-12-19T15:37:08.162Z"
   },
   {
    "duration": 30,
    "start_time": "2021-12-19T15:37:08.206Z"
   },
   {
    "duration": 4,
    "start_time": "2021-12-19T15:37:08.238Z"
   },
   {
    "duration": 9,
    "start_time": "2021-12-19T15:37:08.244Z"
   },
   {
    "duration": 42,
    "start_time": "2021-12-19T15:37:08.257Z"
   },
   {
    "duration": 7,
    "start_time": "2021-12-19T15:37:08.301Z"
   },
   {
    "duration": 5,
    "start_time": "2021-12-19T15:37:08.310Z"
   },
   {
    "duration": 27,
    "start_time": "2021-12-19T15:37:08.316Z"
   },
   {
    "duration": 5,
    "start_time": "2021-12-19T15:37:08.345Z"
   },
   {
    "duration": 41,
    "start_time": "2021-12-19T15:37:08.352Z"
   },
   {
    "duration": 3712,
    "start_time": "2021-12-19T15:37:08.395Z"
   },
   {
    "duration": 4,
    "start_time": "2021-12-19T15:37:12.108Z"
   },
   {
    "duration": 12,
    "start_time": "2021-12-19T15:37:12.114Z"
   },
   {
    "duration": 6,
    "start_time": "2021-12-19T15:37:12.128Z"
   },
   {
    "duration": 16,
    "start_time": "2021-12-19T15:37:12.135Z"
   },
   {
    "duration": 44,
    "start_time": "2021-12-19T15:37:12.152Z"
   },
   {
    "duration": 212,
    "start_time": "2021-12-19T15:37:12.198Z"
   },
   {
    "duration": 240,
    "start_time": "2021-12-19T15:37:12.412Z"
   },
   {
    "duration": 253,
    "start_time": "2021-12-19T15:37:12.653Z"
   },
   {
    "duration": 18,
    "start_time": "2021-12-19T15:37:12.908Z"
   },
   {
    "duration": 10,
    "start_time": "2021-12-19T15:37:12.928Z"
   },
   {
    "duration": 369,
    "start_time": "2021-12-19T15:37:12.939Z"
   },
   {
    "duration": 4,
    "start_time": "2021-12-19T15:37:13.310Z"
   },
   {
    "duration": 218,
    "start_time": "2021-12-19T15:37:13.316Z"
   },
   {
    "duration": 478,
    "start_time": "2021-12-19T15:37:13.536Z"
   },
   {
    "duration": 467,
    "start_time": "2021-12-19T15:37:14.016Z"
   },
   {
    "duration": 461,
    "start_time": "2021-12-19T15:37:14.484Z"
   },
   {
    "duration": 978,
    "start_time": "2021-12-19T15:37:14.947Z"
   },
   {
    "duration": 1029,
    "start_time": "2021-12-19T15:37:27.196Z"
   },
   {
    "duration": 8,
    "start_time": "2021-12-19T15:41:30.679Z"
   },
   {
    "duration": 40,
    "start_time": "2021-12-19T15:42:01.266Z"
   },
   {
    "duration": 40,
    "start_time": "2021-12-19T15:44:03.555Z"
   },
   {
    "duration": 36,
    "start_time": "2021-12-19T15:45:38.141Z"
   },
   {
    "duration": 39,
    "start_time": "2021-12-19T15:46:13.922Z"
   },
   {
    "duration": 45,
    "start_time": "2021-12-19T15:46:24.797Z"
   },
   {
    "duration": 55,
    "start_time": "2021-12-19T15:51:31.714Z"
   },
   {
    "duration": 25,
    "start_time": "2021-12-19T15:52:02.900Z"
   },
   {
    "duration": 65,
    "start_time": "2021-12-19T15:53:29.557Z"
   },
   {
    "duration": 54,
    "start_time": "2021-12-19T15:54:41.430Z"
   },
   {
    "duration": 609,
    "start_time": "2021-12-19T15:55:51.657Z"
   },
   {
    "duration": 17,
    "start_time": "2021-12-19T15:55:59.156Z"
   },
   {
    "duration": 12,
    "start_time": "2021-12-19T15:56:32.368Z"
   },
   {
    "duration": 11,
    "start_time": "2021-12-19T16:02:01.422Z"
   },
   {
    "duration": 9,
    "start_time": "2021-12-19T16:02:13.375Z"
   },
   {
    "duration": 14,
    "start_time": "2021-12-19T16:02:43.805Z"
   },
   {
    "duration": 12,
    "start_time": "2021-12-19T16:03:02.664Z"
   },
   {
    "duration": 9,
    "start_time": "2021-12-19T16:03:33.391Z"
   },
   {
    "duration": 5,
    "start_time": "2021-12-19T16:04:10.571Z"
   },
   {
    "duration": 10,
    "start_time": "2021-12-19T16:04:17.276Z"
   },
   {
    "duration": 11,
    "start_time": "2021-12-19T16:05:32.861Z"
   },
   {
    "duration": 602,
    "start_time": "2021-12-19T16:06:03.640Z"
   },
   {
    "duration": 114,
    "start_time": "2021-12-19T16:06:04.244Z"
   },
   {
    "duration": 10,
    "start_time": "2021-12-19T16:06:04.361Z"
   },
   {
    "duration": 1118,
    "start_time": "2021-12-19T16:06:04.373Z"
   },
   {
    "duration": 5043,
    "start_time": "2021-12-19T16:06:05.493Z"
   },
   {
    "duration": 22,
    "start_time": "2021-12-19T16:06:10.538Z"
   },
   {
    "duration": 30,
    "start_time": "2021-12-19T16:06:10.562Z"
   },
   {
    "duration": 14,
    "start_time": "2021-12-19T16:06:10.595Z"
   },
   {
    "duration": 48,
    "start_time": "2021-12-19T16:06:10.611Z"
   },
   {
    "duration": 5,
    "start_time": "2021-12-19T16:06:10.660Z"
   },
   {
    "duration": 31,
    "start_time": "2021-12-19T16:06:10.666Z"
   },
   {
    "duration": 19,
    "start_time": "2021-12-19T16:06:10.698Z"
   },
   {
    "duration": 11,
    "start_time": "2021-12-19T16:06:10.718Z"
   },
   {
    "duration": 10,
    "start_time": "2021-12-19T16:06:10.730Z"
   },
   {
    "duration": 7,
    "start_time": "2021-12-19T16:06:10.741Z"
   },
   {
    "duration": 6,
    "start_time": "2021-12-19T16:06:10.750Z"
   },
   {
    "duration": 46,
    "start_time": "2021-12-19T16:06:10.758Z"
   },
   {
    "duration": 7,
    "start_time": "2021-12-19T16:06:10.805Z"
   },
   {
    "duration": 8,
    "start_time": "2021-12-19T16:06:10.814Z"
   },
   {
    "duration": 26,
    "start_time": "2021-12-19T16:06:10.824Z"
   },
   {
    "duration": 5,
    "start_time": "2021-12-19T16:06:10.851Z"
   },
   {
    "duration": 38,
    "start_time": "2021-12-19T16:06:10.857Z"
   },
   {
    "duration": 15,
    "start_time": "2021-12-19T16:06:10.899Z"
   },
   {
    "duration": 8,
    "start_time": "2021-12-19T16:06:10.916Z"
   },
   {
    "duration": 7,
    "start_time": "2021-12-19T16:06:10.925Z"
   },
   {
    "duration": 10,
    "start_time": "2021-12-19T16:06:10.933Z"
   },
   {
    "duration": 8,
    "start_time": "2021-12-19T16:06:10.945Z"
   },
   {
    "duration": 39,
    "start_time": "2021-12-19T16:06:10.954Z"
   },
   {
    "duration": 32,
    "start_time": "2021-12-19T16:06:10.995Z"
   },
   {
    "duration": 5,
    "start_time": "2021-12-19T16:06:11.029Z"
   },
   {
    "duration": 8,
    "start_time": "2021-12-19T16:06:11.036Z"
   },
   {
    "duration": 3911,
    "start_time": "2021-12-19T16:06:11.045Z"
   },
   {
    "duration": 4,
    "start_time": "2021-12-19T16:06:14.958Z"
   },
   {
    "duration": 11,
    "start_time": "2021-12-19T16:06:14.963Z"
   },
   {
    "duration": 5,
    "start_time": "2021-12-19T16:06:14.992Z"
   },
   {
    "duration": 24,
    "start_time": "2021-12-19T16:06:15.000Z"
   },
   {
    "duration": 21,
    "start_time": "2021-12-19T16:06:15.026Z"
   },
   {
    "duration": 233,
    "start_time": "2021-12-19T16:06:15.049Z"
   },
   {
    "duration": 254,
    "start_time": "2021-12-19T16:06:15.291Z"
   },
   {
    "duration": 265,
    "start_time": "2021-12-19T16:06:15.547Z"
   },
   {
    "duration": 20,
    "start_time": "2021-12-19T16:06:15.813Z"
   },
   {
    "duration": 10,
    "start_time": "2021-12-19T16:06:15.835Z"
   },
   {
    "duration": 380,
    "start_time": "2021-12-19T16:06:15.847Z"
   },
   {
    "duration": 5,
    "start_time": "2021-12-19T16:06:16.229Z"
   },
   {
    "duration": 233,
    "start_time": "2021-12-19T16:06:16.236Z"
   },
   {
    "duration": 565,
    "start_time": "2021-12-19T16:06:16.471Z"
   },
   {
    "duration": 495,
    "start_time": "2021-12-19T16:06:17.039Z"
   },
   {
    "duration": 482,
    "start_time": "2021-12-19T16:06:17.536Z"
   },
   {
    "duration": 1040,
    "start_time": "2021-12-19T16:06:18.021Z"
   },
   {
    "duration": 10,
    "start_time": "2021-12-19T16:08:08.147Z"
   },
   {
    "duration": 9,
    "start_time": "2021-12-19T16:08:23.884Z"
   },
   {
    "duration": 261,
    "start_time": "2021-12-19T16:08:38.362Z"
   },
   {
    "duration": 10,
    "start_time": "2021-12-19T16:09:09.371Z"
   },
   {
    "duration": 10,
    "start_time": "2021-12-19T16:09:28.203Z"
   },
   {
    "duration": 186,
    "start_time": "2021-12-19T16:09:39.045Z"
   },
   {
    "duration": 11,
    "start_time": "2021-12-19T16:09:52.283Z"
   },
   {
    "duration": 9,
    "start_time": "2021-12-19T16:10:02.432Z"
   },
   {
    "duration": 22,
    "start_time": "2021-12-19T16:10:43.307Z"
   },
   {
    "duration": 6,
    "start_time": "2021-12-19T16:11:35.815Z"
   },
   {
    "duration": 626,
    "start_time": "2021-12-19T16:11:52.894Z"
   },
   {
    "duration": 124,
    "start_time": "2021-12-19T16:11:53.521Z"
   },
   {
    "duration": 9,
    "start_time": "2021-12-19T16:11:53.647Z"
   },
   {
    "duration": 1038,
    "start_time": "2021-12-19T16:11:53.658Z"
   },
   {
    "duration": 4836,
    "start_time": "2021-12-19T16:11:54.697Z"
   },
   {
    "duration": 23,
    "start_time": "2021-12-19T16:11:59.535Z"
   },
   {
    "duration": 12,
    "start_time": "2021-12-19T16:11:59.559Z"
   },
   {
    "duration": 32,
    "start_time": "2021-12-19T16:11:59.572Z"
   },
   {
    "duration": 52,
    "start_time": "2021-12-19T16:11:59.607Z"
   },
   {
    "duration": 4,
    "start_time": "2021-12-19T16:11:59.661Z"
   },
   {
    "duration": 30,
    "start_time": "2021-12-19T16:11:59.667Z"
   },
   {
    "duration": 24,
    "start_time": "2021-12-19T16:11:59.699Z"
   },
   {
    "duration": 11,
    "start_time": "2021-12-19T16:11:59.725Z"
   },
   {
    "duration": 10,
    "start_time": "2021-12-19T16:11:59.738Z"
   },
   {
    "duration": 43,
    "start_time": "2021-12-19T16:11:59.749Z"
   },
   {
    "duration": 5,
    "start_time": "2021-12-19T16:11:59.794Z"
   },
   {
    "duration": 15,
    "start_time": "2021-12-19T16:11:59.800Z"
   },
   {
    "duration": 6,
    "start_time": "2021-12-19T16:11:59.817Z"
   },
   {
    "duration": 9,
    "start_time": "2021-12-19T16:11:59.825Z"
   },
   {
    "duration": 30,
    "start_time": "2021-12-19T16:11:59.836Z"
   },
   {
    "duration": 6,
    "start_time": "2021-12-19T16:11:59.892Z"
   },
   {
    "duration": 8,
    "start_time": "2021-12-19T16:11:59.899Z"
   },
   {
    "duration": 18,
    "start_time": "2021-12-19T16:11:59.909Z"
   },
   {
    "duration": 9,
    "start_time": "2021-12-19T16:11:59.928Z"
   },
   {
    "duration": 7,
    "start_time": "2021-12-19T16:11:59.939Z"
   },
   {
    "duration": 43,
    "start_time": "2021-12-19T16:11:59.948Z"
   },
   {
    "duration": 9,
    "start_time": "2021-12-19T16:11:59.996Z"
   },
   {
    "duration": 18,
    "start_time": "2021-12-19T16:12:00.007Z"
   },
   {
    "duration": 35,
    "start_time": "2021-12-19T16:12:00.027Z"
   },
   {
    "duration": 6,
    "start_time": "2021-12-19T16:12:00.064Z"
   },
   {
    "duration": 25,
    "start_time": "2021-12-19T16:12:00.072Z"
   },
   {
    "duration": 4053,
    "start_time": "2021-12-19T16:12:00.099Z"
   },
   {
    "duration": 5,
    "start_time": "2021-12-19T16:12:04.153Z"
   },
   {
    "duration": 17,
    "start_time": "2021-12-19T16:12:04.159Z"
   },
   {
    "duration": 17,
    "start_time": "2021-12-19T16:12:04.177Z"
   },
   {
    "duration": 19,
    "start_time": "2021-12-19T16:12:04.196Z"
   },
   {
    "duration": 17,
    "start_time": "2021-12-19T16:12:04.217Z"
   },
   {
    "duration": 255,
    "start_time": "2021-12-19T16:12:04.235Z"
   },
   {
    "duration": 249,
    "start_time": "2021-12-19T16:12:04.492Z"
   },
   {
    "duration": 274,
    "start_time": "2021-12-19T16:12:04.743Z"
   },
   {
    "duration": 20,
    "start_time": "2021-12-19T16:12:05.019Z"
   },
   {
    "duration": 10,
    "start_time": "2021-12-19T16:12:05.041Z"
   },
   {
    "duration": 401,
    "start_time": "2021-12-19T16:12:05.053Z"
   },
   {
    "duration": 5,
    "start_time": "2021-12-19T16:12:05.456Z"
   },
   {
    "duration": 220,
    "start_time": "2021-12-19T16:12:05.463Z"
   },
   {
    "duration": 506,
    "start_time": "2021-12-19T16:12:05.685Z"
   },
   {
    "duration": 480,
    "start_time": "2021-12-19T16:12:06.192Z"
   },
   {
    "duration": 479,
    "start_time": "2021-12-19T16:12:06.673Z"
   },
   {
    "duration": 1029,
    "start_time": "2021-12-19T16:12:07.154Z"
   },
   {
    "duration": 3444,
    "start_time": "2021-12-19T17:09:25.449Z"
   },
   {
    "duration": 7,
    "start_time": "2021-12-19T17:09:38.961Z"
   },
   {
    "duration": 9,
    "start_time": "2021-12-19T17:10:11.681Z"
   },
   {
    "duration": 10,
    "start_time": "2021-12-19T17:10:41.748Z"
   },
   {
    "duration": 13,
    "start_time": "2021-12-19T17:12:23.599Z"
   },
   {
    "duration": 10,
    "start_time": "2021-12-19T17:12:54.706Z"
   },
   {
    "duration": 9,
    "start_time": "2021-12-19T17:12:57.059Z"
   },
   {
    "duration": 4,
    "start_time": "2021-12-19T17:14:37.663Z"
   },
   {
    "duration": 11,
    "start_time": "2021-12-19T17:16:55.045Z"
   },
   {
    "duration": 15,
    "start_time": "2021-12-19T17:18:19.968Z"
   },
   {
    "duration": 640,
    "start_time": "2021-12-19T17:18:27.859Z"
   },
   {
    "duration": 145,
    "start_time": "2021-12-19T17:18:28.501Z"
   },
   {
    "duration": 10,
    "start_time": "2021-12-19T17:18:28.648Z"
   },
   {
    "duration": 1037,
    "start_time": "2021-12-19T17:18:28.660Z"
   },
   {
    "duration": 5164,
    "start_time": "2021-12-19T17:18:29.699Z"
   },
   {
    "duration": 29,
    "start_time": "2021-12-19T17:18:34.865Z"
   },
   {
    "duration": 10,
    "start_time": "2021-12-19T17:18:34.896Z"
   },
   {
    "duration": 14,
    "start_time": "2021-12-19T17:18:34.908Z"
   },
   {
    "duration": 46,
    "start_time": "2021-12-19T17:18:34.923Z"
   },
   {
    "duration": 4,
    "start_time": "2021-12-19T17:18:34.992Z"
   },
   {
    "duration": 8,
    "start_time": "2021-12-19T17:18:34.997Z"
   },
   {
    "duration": 20,
    "start_time": "2021-12-19T17:18:35.006Z"
   },
   {
    "duration": 12,
    "start_time": "2021-12-19T17:18:35.028Z"
   },
   {
    "duration": 10,
    "start_time": "2021-12-19T17:18:35.041Z"
   },
   {
    "duration": 42,
    "start_time": "2021-12-19T17:18:35.052Z"
   },
   {
    "duration": 5,
    "start_time": "2021-12-19T17:18:35.096Z"
   },
   {
    "duration": 16,
    "start_time": "2021-12-19T17:18:35.102Z"
   },
   {
    "duration": 7,
    "start_time": "2021-12-19T17:18:35.120Z"
   },
   {
    "duration": 9,
    "start_time": "2021-12-19T17:18:35.128Z"
   },
   {
    "duration": 53,
    "start_time": "2021-12-19T17:18:35.139Z"
   },
   {
    "duration": 5,
    "start_time": "2021-12-19T17:18:35.194Z"
   },
   {
    "duration": 8,
    "start_time": "2021-12-19T17:18:35.201Z"
   },
   {
    "duration": 16,
    "start_time": "2021-12-19T17:18:35.213Z"
   },
   {
    "duration": 9,
    "start_time": "2021-12-19T17:18:35.231Z"
   },
   {
    "duration": 4,
    "start_time": "2021-12-19T17:18:35.241Z"
   },
   {
    "duration": 8,
    "start_time": "2021-12-19T17:18:35.246Z"
   },
   {
    "duration": 43,
    "start_time": "2021-12-19T17:18:35.256Z"
   },
   {
    "duration": 11,
    "start_time": "2021-12-19T17:18:35.300Z"
   },
   {
    "duration": 4,
    "start_time": "2021-12-19T17:18:35.312Z"
   },
   {
    "duration": 34,
    "start_time": "2021-12-19T17:18:35.318Z"
   },
   {
    "duration": 7,
    "start_time": "2021-12-19T17:18:35.354Z"
   },
   {
    "duration": 31,
    "start_time": "2021-12-19T17:18:35.363Z"
   },
   {
    "duration": 4015,
    "start_time": "2021-12-19T17:18:35.396Z"
   },
   {
    "duration": 4,
    "start_time": "2021-12-19T17:18:39.413Z"
   },
   {
    "duration": 11,
    "start_time": "2021-12-19T17:18:39.418Z"
   },
   {
    "duration": 10,
    "start_time": "2021-12-19T17:18:39.431Z"
   },
   {
    "duration": 19,
    "start_time": "2021-12-19T17:18:39.442Z"
   },
   {
    "duration": 37,
    "start_time": "2021-12-19T17:18:39.463Z"
   },
   {
    "duration": 219,
    "start_time": "2021-12-19T17:18:39.501Z"
   },
   {
    "duration": 235,
    "start_time": "2021-12-19T17:18:39.722Z"
   },
   {
    "duration": 274,
    "start_time": "2021-12-19T17:18:39.958Z"
   },
   {
    "duration": 18,
    "start_time": "2021-12-19T17:18:40.234Z"
   },
   {
    "duration": 11,
    "start_time": "2021-12-19T17:18:40.254Z"
   },
   {
    "duration": 369,
    "start_time": "2021-12-19T17:18:40.266Z"
   },
   {
    "duration": 5,
    "start_time": "2021-12-19T17:18:40.636Z"
   },
   {
    "duration": 209,
    "start_time": "2021-12-19T17:18:40.643Z"
   },
   {
    "duration": 495,
    "start_time": "2021-12-19T17:18:40.854Z"
   },
   {
    "duration": 475,
    "start_time": "2021-12-19T17:18:41.351Z"
   },
   {
    "duration": 459,
    "start_time": "2021-12-19T17:18:41.828Z"
   },
   {
    "duration": 989,
    "start_time": "2021-12-19T17:18:42.291Z"
   },
   {
    "duration": 9,
    "start_time": "2021-12-19T17:20:18.995Z"
   },
   {
    "duration": 239,
    "start_time": "2021-12-19T17:20:27.517Z"
   },
   {
    "duration": 11,
    "start_time": "2021-12-19T17:20:44.390Z"
   },
   {
    "duration": 180,
    "start_time": "2021-12-19T17:21:35.160Z"
   },
   {
    "duration": 12,
    "start_time": "2021-12-19T17:22:16.375Z"
   },
   {
    "duration": 182,
    "start_time": "2021-12-19T17:22:22.872Z"
   },
   {
    "duration": 178,
    "start_time": "2021-12-19T17:22:32.622Z"
   },
   {
    "duration": 50,
    "start_time": "2021-12-19T17:26:55.266Z"
   },
   {
    "duration": 656,
    "start_time": "2021-12-19T17:27:40.785Z"
   },
   {
    "duration": 127,
    "start_time": "2021-12-19T17:27:41.443Z"
   },
   {
    "duration": 10,
    "start_time": "2021-12-19T17:27:41.572Z"
   },
   {
    "duration": 1016,
    "start_time": "2021-12-19T17:27:41.584Z"
   },
   {
    "duration": 4796,
    "start_time": "2021-12-19T17:27:42.602Z"
   },
   {
    "duration": 23,
    "start_time": "2021-12-19T17:27:47.400Z"
   },
   {
    "duration": 13,
    "start_time": "2021-12-19T17:27:47.424Z"
   },
   {
    "duration": 15,
    "start_time": "2021-12-19T17:27:47.440Z"
   },
   {
    "duration": 79,
    "start_time": "2021-12-19T17:27:47.458Z"
   },
   {
    "duration": 4,
    "start_time": "2021-12-19T17:27:47.539Z"
   },
   {
    "duration": 7,
    "start_time": "2021-12-19T17:27:47.545Z"
   },
   {
    "duration": 42,
    "start_time": "2021-12-19T17:27:47.554Z"
   },
   {
    "duration": 11,
    "start_time": "2021-12-19T17:27:47.598Z"
   },
   {
    "duration": 10,
    "start_time": "2021-12-19T17:27:47.611Z"
   },
   {
    "duration": 8,
    "start_time": "2021-12-19T17:27:47.622Z"
   },
   {
    "duration": 6,
    "start_time": "2021-12-19T17:27:47.632Z"
   },
   {
    "duration": 14,
    "start_time": "2021-12-19T17:27:47.640Z"
   },
   {
    "duration": 41,
    "start_time": "2021-12-19T17:27:47.655Z"
   },
   {
    "duration": 10,
    "start_time": "2021-12-19T17:27:47.697Z"
   },
   {
    "duration": 28,
    "start_time": "2021-12-19T17:27:47.708Z"
   },
   {
    "duration": 5,
    "start_time": "2021-12-19T17:27:47.737Z"
   },
   {
    "duration": 8,
    "start_time": "2021-12-19T17:27:47.743Z"
   },
   {
    "duration": 44,
    "start_time": "2021-12-19T17:27:47.754Z"
   },
   {
    "duration": 10,
    "start_time": "2021-12-19T17:27:47.800Z"
   },
   {
    "duration": 3,
    "start_time": "2021-12-19T17:27:47.812Z"
   },
   {
    "duration": 6,
    "start_time": "2021-12-19T17:27:47.817Z"
   },
   {
    "duration": 11,
    "start_time": "2021-12-19T17:27:47.824Z"
   },
   {
    "duration": 9,
    "start_time": "2021-12-19T17:27:47.836Z"
   },
   {
    "duration": 4,
    "start_time": "2021-12-19T17:27:47.847Z"
   },
   {
    "duration": 30,
    "start_time": "2021-12-19T17:27:47.892Z"
   },
   {
    "duration": 5,
    "start_time": "2021-12-19T17:27:47.924Z"
   },
   {
    "duration": 7,
    "start_time": "2021-12-19T17:27:47.931Z"
   },
   {
    "duration": 3914,
    "start_time": "2021-12-19T17:27:47.940Z"
   },
   {
    "duration": 4,
    "start_time": "2021-12-19T17:27:51.856Z"
   },
   {
    "duration": 12,
    "start_time": "2021-12-19T17:27:51.862Z"
   },
   {
    "duration": 18,
    "start_time": "2021-12-19T17:27:51.876Z"
   },
   {
    "duration": 18,
    "start_time": "2021-12-19T17:27:51.896Z"
   },
   {
    "duration": 15,
    "start_time": "2021-12-19T17:27:51.916Z"
   },
   {
    "duration": 236,
    "start_time": "2021-12-19T17:27:51.932Z"
   },
   {
    "duration": 251,
    "start_time": "2021-12-19T17:27:52.170Z"
   },
   {
    "duration": 268,
    "start_time": "2021-12-19T17:27:52.423Z"
   },
   {
    "duration": 18,
    "start_time": "2021-12-19T17:27:52.692Z"
   },
   {
    "duration": 15,
    "start_time": "2021-12-19T17:27:52.712Z"
   },
   {
    "duration": 371,
    "start_time": "2021-12-19T17:27:52.729Z"
   },
   {
    "duration": 6,
    "start_time": "2021-12-19T17:27:53.102Z"
   },
   {
    "duration": 213,
    "start_time": "2021-12-19T17:27:53.110Z"
   },
   {
    "duration": 502,
    "start_time": "2021-12-19T17:27:53.325Z"
   },
   {
    "duration": 476,
    "start_time": "2021-12-19T17:27:53.829Z"
   },
   {
    "duration": 467,
    "start_time": "2021-12-19T17:27:54.307Z"
   },
   {
    "duration": 987,
    "start_time": "2021-12-19T17:27:54.776Z"
   },
   {
    "duration": 20,
    "start_time": "2021-12-19T17:28:38.069Z"
   },
   {
    "duration": 10,
    "start_time": "2021-12-19T17:29:46.918Z"
   },
   {
    "duration": 16,
    "start_time": "2021-12-19T17:30:40.453Z"
   },
   {
    "duration": 673,
    "start_time": "2021-12-19T17:31:31.140Z"
   },
   {
    "duration": 114,
    "start_time": "2021-12-19T17:31:31.815Z"
   },
   {
    "duration": 9,
    "start_time": "2021-12-19T17:31:31.931Z"
   },
   {
    "duration": 1017,
    "start_time": "2021-12-19T17:31:31.942Z"
   },
   {
    "duration": 4998,
    "start_time": "2021-12-19T17:31:32.960Z"
   },
   {
    "duration": 40,
    "start_time": "2021-12-19T17:31:37.959Z"
   },
   {
    "duration": 19,
    "start_time": "2021-12-19T17:31:38.000Z"
   },
   {
    "duration": 15,
    "start_time": "2021-12-19T17:31:38.022Z"
   },
   {
    "duration": 66,
    "start_time": "2021-12-19T17:31:38.039Z"
   },
   {
    "duration": 5,
    "start_time": "2021-12-19T17:31:38.107Z"
   },
   {
    "duration": 8,
    "start_time": "2021-12-19T17:31:38.114Z"
   },
   {
    "duration": 19,
    "start_time": "2021-12-19T17:31:38.124Z"
   },
   {
    "duration": 47,
    "start_time": "2021-12-19T17:31:38.145Z"
   },
   {
    "duration": 11,
    "start_time": "2021-12-19T17:31:38.195Z"
   },
   {
    "duration": 8,
    "start_time": "2021-12-19T17:31:38.208Z"
   },
   {
    "duration": 6,
    "start_time": "2021-12-19T17:31:38.218Z"
   },
   {
    "duration": 14,
    "start_time": "2021-12-19T17:31:38.226Z"
   },
   {
    "duration": 7,
    "start_time": "2021-12-19T17:31:38.242Z"
   },
   {
    "duration": 46,
    "start_time": "2021-12-19T17:31:38.250Z"
   },
   {
    "duration": 27,
    "start_time": "2021-12-19T17:31:38.298Z"
   },
   {
    "duration": 4,
    "start_time": "2021-12-19T17:31:38.326Z"
   },
   {
    "duration": 6,
    "start_time": "2021-12-19T17:31:38.332Z"
   },
   {
    "duration": 15,
    "start_time": "2021-12-19T17:31:38.341Z"
   },
   {
    "duration": 38,
    "start_time": "2021-12-19T17:31:38.358Z"
   },
   {
    "duration": 3,
    "start_time": "2021-12-19T17:31:38.398Z"
   },
   {
    "duration": 14,
    "start_time": "2021-12-19T17:31:38.403Z"
   },
   {
    "duration": 10,
    "start_time": "2021-12-19T17:31:38.419Z"
   },
   {
    "duration": 9,
    "start_time": "2021-12-19T17:31:38.430Z"
   },
   {
    "duration": 14,
    "start_time": "2021-12-19T17:31:38.441Z"
   },
   {
    "duration": 37,
    "start_time": "2021-12-19T17:31:38.456Z"
   },
   {
    "duration": 30,
    "start_time": "2021-12-19T17:31:38.495Z"
   },
   {
    "duration": 6,
    "start_time": "2021-12-19T17:31:38.527Z"
   },
   {
    "duration": 9,
    "start_time": "2021-12-19T17:31:38.535Z"
   },
   {
    "duration": 4048,
    "start_time": "2021-12-19T17:31:38.546Z"
   },
   {
    "duration": 3,
    "start_time": "2021-12-19T17:31:42.596Z"
   },
   {
    "duration": 11,
    "start_time": "2021-12-19T17:31:42.601Z"
   },
   {
    "duration": 6,
    "start_time": "2021-12-19T17:31:42.614Z"
   },
   {
    "duration": 18,
    "start_time": "2021-12-19T17:31:42.621Z"
   },
   {
    "duration": 16,
    "start_time": "2021-12-19T17:31:42.640Z"
   },
   {
    "duration": 237,
    "start_time": "2021-12-19T17:31:42.658Z"
   },
   {
    "duration": 229,
    "start_time": "2021-12-19T17:31:42.897Z"
   },
   {
    "duration": 276,
    "start_time": "2021-12-19T17:31:43.128Z"
   },
   {
    "duration": 18,
    "start_time": "2021-12-19T17:31:43.406Z"
   },
   {
    "duration": 10,
    "start_time": "2021-12-19T17:31:43.426Z"
   },
   {
    "duration": 363,
    "start_time": "2021-12-19T17:31:43.438Z"
   },
   {
    "duration": 5,
    "start_time": "2021-12-19T17:31:43.802Z"
   },
   {
    "duration": 222,
    "start_time": "2021-12-19T17:31:43.808Z"
   },
   {
    "duration": 501,
    "start_time": "2021-12-19T17:31:44.032Z"
   },
   {
    "duration": 458,
    "start_time": "2021-12-19T17:31:44.535Z"
   },
   {
    "duration": 453,
    "start_time": "2021-12-19T17:31:44.994Z"
   },
   {
    "duration": 973,
    "start_time": "2021-12-19T17:31:45.449Z"
   },
   {
    "duration": 10,
    "start_time": "2021-12-19T17:32:55.525Z"
   },
   {
    "duration": 9,
    "start_time": "2021-12-19T17:33:04.473Z"
   },
   {
    "duration": 8,
    "start_time": "2021-12-19T17:33:09.863Z"
   },
   {
    "duration": 9,
    "start_time": "2021-12-19T17:33:11.050Z"
   },
   {
    "duration": 12,
    "start_time": "2021-12-19T17:33:12.090Z"
   },
   {
    "duration": 9,
    "start_time": "2021-12-19T17:33:13.055Z"
   },
   {
    "duration": 9,
    "start_time": "2021-12-19T17:33:13.887Z"
   },
   {
    "duration": 12,
    "start_time": "2021-12-19T17:33:14.619Z"
   },
   {
    "duration": 602,
    "start_time": "2021-12-19T17:33:50.337Z"
   },
   {
    "duration": 113,
    "start_time": "2021-12-19T17:33:50.941Z"
   },
   {
    "duration": 10,
    "start_time": "2021-12-19T17:33:51.056Z"
   },
   {
    "duration": 1012,
    "start_time": "2021-12-19T17:33:51.068Z"
   },
   {
    "duration": 4967,
    "start_time": "2021-12-19T17:33:52.081Z"
   },
   {
    "duration": 22,
    "start_time": "2021-12-19T17:33:57.050Z"
   },
   {
    "duration": 27,
    "start_time": "2021-12-19T17:33:57.073Z"
   },
   {
    "duration": 15,
    "start_time": "2021-12-19T17:33:57.102Z"
   },
   {
    "duration": 48,
    "start_time": "2021-12-19T17:33:57.119Z"
   },
   {
    "duration": 25,
    "start_time": "2021-12-19T17:33:57.169Z"
   },
   {
    "duration": 7,
    "start_time": "2021-12-19T17:33:57.195Z"
   },
   {
    "duration": 17,
    "start_time": "2021-12-19T17:33:57.204Z"
   },
   {
    "duration": 11,
    "start_time": "2021-12-19T17:33:57.223Z"
   },
   {
    "duration": 11,
    "start_time": "2021-12-19T17:33:57.235Z"
   },
   {
    "duration": 45,
    "start_time": "2021-12-19T17:33:57.247Z"
   },
   {
    "duration": 6,
    "start_time": "2021-12-19T17:33:57.294Z"
   },
   {
    "duration": 14,
    "start_time": "2021-12-19T17:33:57.302Z"
   },
   {
    "duration": 8,
    "start_time": "2021-12-19T17:33:57.318Z"
   },
   {
    "duration": 13,
    "start_time": "2021-12-19T17:33:57.327Z"
   },
   {
    "duration": 58,
    "start_time": "2021-12-19T17:33:57.342Z"
   },
   {
    "duration": 5,
    "start_time": "2021-12-19T17:33:57.401Z"
   },
   {
    "duration": 7,
    "start_time": "2021-12-19T17:33:57.407Z"
   },
   {
    "duration": 16,
    "start_time": "2021-12-19T17:33:57.418Z"
   },
   {
    "duration": 11,
    "start_time": "2021-12-19T17:33:57.436Z"
   },
   {
    "duration": 4,
    "start_time": "2021-12-19T17:33:57.448Z"
   },
   {
    "duration": 40,
    "start_time": "2021-12-19T17:33:57.454Z"
   },
   {
    "duration": 10,
    "start_time": "2021-12-19T17:33:57.496Z"
   },
   {
    "duration": 9,
    "start_time": "2021-12-19T17:33:57.508Z"
   },
   {
    "duration": 12,
    "start_time": "2021-12-19T17:33:57.518Z"
   },
   {
    "duration": 7,
    "start_time": "2021-12-19T17:33:57.533Z"
   },
   {
    "duration": 4,
    "start_time": "2021-12-19T17:33:57.542Z"
   },
   {
    "duration": 70,
    "start_time": "2021-12-19T17:33:57.547Z"
   },
   {
    "duration": 7,
    "start_time": "2021-12-19T17:33:57.619Z"
   },
   {
    "duration": 8,
    "start_time": "2021-12-19T17:33:57.628Z"
   },
   {
    "duration": 3888,
    "start_time": "2021-12-19T17:33:57.638Z"
   },
   {
    "duration": 5,
    "start_time": "2021-12-19T17:34:01.528Z"
   },
   {
    "duration": 24,
    "start_time": "2021-12-19T17:34:01.535Z"
   },
   {
    "duration": 14,
    "start_time": "2021-12-19T17:34:01.561Z"
   },
   {
    "duration": 35,
    "start_time": "2021-12-19T17:34:01.577Z"
   },
   {
    "duration": 26,
    "start_time": "2021-12-19T17:34:01.614Z"
   },
   {
    "duration": 453,
    "start_time": "2021-12-19T17:34:01.642Z"
   },
   {
    "duration": 254,
    "start_time": "2021-12-19T17:34:02.097Z"
   },
   {
    "duration": 269,
    "start_time": "2021-12-19T17:34:02.353Z"
   },
   {
    "duration": 17,
    "start_time": "2021-12-19T17:34:02.624Z"
   },
   {
    "duration": 10,
    "start_time": "2021-12-19T17:34:02.642Z"
   },
   {
    "duration": 379,
    "start_time": "2021-12-19T17:34:02.654Z"
   },
   {
    "duration": 6,
    "start_time": "2021-12-19T17:34:03.035Z"
   },
   {
    "duration": 226,
    "start_time": "2021-12-19T17:34:03.043Z"
   },
   {
    "duration": 512,
    "start_time": "2021-12-19T17:34:03.271Z"
   },
   {
    "duration": 502,
    "start_time": "2021-12-19T17:34:03.785Z"
   },
   {
    "duration": 502,
    "start_time": "2021-12-19T17:34:04.291Z"
   },
   {
    "duration": 1049,
    "start_time": "2021-12-19T17:34:04.795Z"
   },
   {
    "duration": 10,
    "start_time": "2021-12-19T17:36:46.790Z"
   },
   {
    "duration": 12,
    "start_time": "2021-12-19T17:37:21.815Z"
   },
   {
    "duration": 253,
    "start_time": "2021-12-19T17:37:28.448Z"
   },
   {
    "duration": 191,
    "start_time": "2021-12-19T17:37:42.158Z"
   },
   {
    "duration": 11,
    "start_time": "2021-12-19T17:37:56.170Z"
   },
   {
    "duration": 12,
    "start_time": "2021-12-19T17:41:16.222Z"
   },
   {
    "duration": 13,
    "start_time": "2021-12-19T17:41:25.922Z"
   },
   {
    "duration": 1072,
    "start_time": "2021-12-19T17:53:16.815Z"
   },
   {
    "duration": 615,
    "start_time": "2021-12-19T17:57:15.922Z"
   },
   {
    "duration": 116,
    "start_time": "2021-12-19T17:57:16.539Z"
   },
   {
    "duration": 12,
    "start_time": "2021-12-19T17:57:16.658Z"
   },
   {
    "duration": 1057,
    "start_time": "2021-12-19T17:57:16.672Z"
   },
   {
    "duration": 4989,
    "start_time": "2021-12-19T17:57:17.730Z"
   },
   {
    "duration": 22,
    "start_time": "2021-12-19T17:57:22.721Z"
   },
   {
    "duration": 12,
    "start_time": "2021-12-19T17:57:22.745Z"
   },
   {
    "duration": 35,
    "start_time": "2021-12-19T17:57:22.759Z"
   },
   {
    "duration": 50,
    "start_time": "2021-12-19T17:57:22.797Z"
   },
   {
    "duration": 4,
    "start_time": "2021-12-19T17:57:22.849Z"
   },
   {
    "duration": 8,
    "start_time": "2021-12-19T17:57:22.855Z"
   },
   {
    "duration": 42,
    "start_time": "2021-12-19T17:57:22.865Z"
   },
   {
    "duration": 11,
    "start_time": "2021-12-19T17:57:22.909Z"
   },
   {
    "duration": 9,
    "start_time": "2021-12-19T17:57:22.922Z"
   },
   {
    "duration": 7,
    "start_time": "2021-12-19T17:57:22.933Z"
   },
   {
    "duration": 9,
    "start_time": "2021-12-19T17:57:22.942Z"
   },
   {
    "duration": 49,
    "start_time": "2021-12-19T17:57:22.952Z"
   },
   {
    "duration": 7,
    "start_time": "2021-12-19T17:57:23.002Z"
   },
   {
    "duration": 10,
    "start_time": "2021-12-19T17:57:23.010Z"
   },
   {
    "duration": 27,
    "start_time": "2021-12-19T17:57:23.022Z"
   },
   {
    "duration": 4,
    "start_time": "2021-12-19T17:57:23.051Z"
   },
   {
    "duration": 36,
    "start_time": "2021-12-19T17:57:23.056Z"
   },
   {
    "duration": 16,
    "start_time": "2021-12-19T17:57:23.096Z"
   },
   {
    "duration": 9,
    "start_time": "2021-12-19T17:57:23.114Z"
   },
   {
    "duration": 5,
    "start_time": "2021-12-19T17:57:23.125Z"
   },
   {
    "duration": 9,
    "start_time": "2021-12-19T17:57:23.132Z"
   },
   {
    "duration": 49,
    "start_time": "2021-12-19T17:57:23.143Z"
   },
   {
    "duration": 14,
    "start_time": "2021-12-19T17:57:23.194Z"
   },
   {
    "duration": 5,
    "start_time": "2021-12-19T17:57:23.210Z"
   },
   {
    "duration": 28,
    "start_time": "2021-12-19T17:57:23.217Z"
   },
   {
    "duration": 6,
    "start_time": "2021-12-19T17:57:23.247Z"
   },
   {
    "duration": 42,
    "start_time": "2021-12-19T17:57:23.255Z"
   },
   {
    "duration": 3710,
    "start_time": "2021-12-19T17:57:23.299Z"
   },
   {
    "duration": 5,
    "start_time": "2021-12-19T17:57:27.011Z"
   },
   {
    "duration": 10,
    "start_time": "2021-12-19T17:57:27.017Z"
   },
   {
    "duration": 8,
    "start_time": "2021-12-19T17:57:27.029Z"
   },
   {
    "duration": 17,
    "start_time": "2021-12-19T17:57:27.039Z"
   },
   {
    "duration": 39,
    "start_time": "2021-12-19T17:57:27.057Z"
   },
   {
    "duration": 216,
    "start_time": "2021-12-19T17:57:27.097Z"
   },
   {
    "duration": 242,
    "start_time": "2021-12-19T17:57:27.315Z"
   },
   {
    "duration": 256,
    "start_time": "2021-12-19T17:57:27.559Z"
   },
   {
    "duration": 17,
    "start_time": "2021-12-19T17:57:27.816Z"
   },
   {
    "duration": 9,
    "start_time": "2021-12-19T17:57:27.834Z"
   },
   {
    "duration": 360,
    "start_time": "2021-12-19T17:57:27.845Z"
   },
   {
    "duration": 4,
    "start_time": "2021-12-19T17:57:28.207Z"
   },
   {
    "duration": 215,
    "start_time": "2021-12-19T17:57:28.213Z"
   },
   {
    "duration": 511,
    "start_time": "2021-12-19T17:57:28.429Z"
   },
   {
    "duration": 476,
    "start_time": "2021-12-19T17:57:28.942Z"
   },
   {
    "duration": 459,
    "start_time": "2021-12-19T17:57:29.420Z"
   },
   {
    "duration": 997,
    "start_time": "2021-12-19T17:57:29.881Z"
   },
   {
    "duration": 1120,
    "start_time": "2021-12-20T10:33:58.140Z"
   },
   {
    "duration": 151,
    "start_time": "2021-12-20T10:33:59.263Z"
   },
   {
    "duration": 17,
    "start_time": "2021-12-20T10:33:59.417Z"
   },
   {
    "duration": 1858,
    "start_time": "2021-12-20T10:33:59.437Z"
   },
   {
    "duration": 8373,
    "start_time": "2021-12-20T10:34:01.297Z"
   },
   {
    "duration": 34,
    "start_time": "2021-12-20T10:34:09.673Z"
   },
   {
    "duration": 17,
    "start_time": "2021-12-20T10:34:09.710Z"
   },
   {
    "duration": 50,
    "start_time": "2021-12-20T10:34:09.731Z"
   },
   {
    "duration": 99,
    "start_time": "2021-12-20T10:34:09.784Z"
   },
   {
    "duration": 7,
    "start_time": "2021-12-20T10:34:09.886Z"
   },
   {
    "duration": 10,
    "start_time": "2021-12-20T10:34:09.895Z"
   },
   {
    "duration": 62,
    "start_time": "2021-12-20T10:34:09.907Z"
   },
   {
    "duration": 16,
    "start_time": "2021-12-20T10:34:09.972Z"
   },
   {
    "duration": 15,
    "start_time": "2021-12-20T10:34:09.990Z"
   },
   {
    "duration": 12,
    "start_time": "2021-12-20T10:34:10.008Z"
   },
   {
    "duration": 7,
    "start_time": "2021-12-20T10:34:10.063Z"
   },
   {
    "duration": 41,
    "start_time": "2021-12-20T10:34:10.072Z"
   },
   {
    "duration": 9,
    "start_time": "2021-12-20T10:34:10.115Z"
   },
   {
    "duration": 14,
    "start_time": "2021-12-20T10:34:10.126Z"
   },
   {
    "duration": 49,
    "start_time": "2021-12-20T10:34:10.143Z"
   },
   {
    "duration": 5,
    "start_time": "2021-12-20T10:34:10.195Z"
   },
   {
    "duration": 12,
    "start_time": "2021-12-20T10:34:10.202Z"
   },
   {
    "duration": 53,
    "start_time": "2021-12-20T10:34:10.219Z"
   },
   {
    "duration": 25,
    "start_time": "2021-12-20T10:34:10.274Z"
   },
   {
    "duration": 18,
    "start_time": "2021-12-20T10:34:10.301Z"
   },
   {
    "duration": 14,
    "start_time": "2021-12-20T10:34:10.322Z"
   },
   {
    "duration": 26,
    "start_time": "2021-12-20T10:34:10.338Z"
   },
   {
    "duration": 16,
    "start_time": "2021-12-20T10:34:10.367Z"
   },
   {
    "duration": 10,
    "start_time": "2021-12-20T10:34:10.386Z"
   },
   {
    "duration": 71,
    "start_time": "2021-12-20T10:34:10.399Z"
   },
   {
    "duration": 18,
    "start_time": "2021-12-20T10:34:10.472Z"
   },
   {
    "duration": 20,
    "start_time": "2021-12-20T10:34:10.493Z"
   },
   {
    "duration": 7339,
    "start_time": "2021-12-20T10:34:10.515Z"
   },
   {
    "duration": 10,
    "start_time": "2021-12-20T10:34:17.856Z"
   },
   {
    "duration": 18,
    "start_time": "2021-12-20T10:34:17.869Z"
   },
   {
    "duration": 6,
    "start_time": "2021-12-20T10:34:17.890Z"
   },
   {
    "duration": 28,
    "start_time": "2021-12-20T10:34:17.899Z"
   },
   {
    "duration": 54,
    "start_time": "2021-12-20T10:34:17.929Z"
   },
   {
    "duration": 347,
    "start_time": "2021-12-20T10:34:17.986Z"
   },
   {
    "duration": 379,
    "start_time": "2021-12-20T10:34:18.335Z"
   },
   {
    "duration": 408,
    "start_time": "2021-12-20T10:34:18.716Z"
   },
   {
    "duration": 45,
    "start_time": "2021-12-20T10:34:19.127Z"
   },
   {
    "duration": 20,
    "start_time": "2021-12-20T10:34:19.176Z"
   },
   {
    "duration": 764,
    "start_time": "2021-12-20T10:34:19.199Z"
   },
   {
    "duration": 6,
    "start_time": "2021-12-20T10:34:19.966Z"
   },
   {
    "duration": 374,
    "start_time": "2021-12-20T10:34:19.974Z"
   },
   {
    "duration": 807,
    "start_time": "2021-12-20T10:34:20.350Z"
   },
   {
    "duration": 960,
    "start_time": "2021-12-20T10:34:21.159Z"
   },
   {
    "duration": 871,
    "start_time": "2021-12-20T10:34:22.121Z"
   },
   {
    "duration": 1661,
    "start_time": "2021-12-20T10:34:22.996Z"
   },
   {
    "duration": 860,
    "start_time": "2021-12-21T06:07:35.815Z"
   },
   {
    "duration": 295,
    "start_time": "2021-12-21T06:07:36.678Z"
   },
   {
    "duration": 17,
    "start_time": "2021-12-21T06:07:36.976Z"
   },
   {
    "duration": 2580,
    "start_time": "2021-12-21T06:07:36.997Z"
   },
   {
    "duration": 12418,
    "start_time": "2021-12-21T06:07:39.580Z"
   },
   {
    "duration": 64,
    "start_time": "2021-12-21T06:07:52.000Z"
   },
   {
    "duration": 26,
    "start_time": "2021-12-21T06:07:52.068Z"
   },
   {
    "duration": 37,
    "start_time": "2021-12-21T06:07:52.097Z"
   },
   {
    "duration": 132,
    "start_time": "2021-12-21T06:07:52.165Z"
   },
   {
    "duration": 7,
    "start_time": "2021-12-21T06:07:52.300Z"
   },
   {
    "duration": 10,
    "start_time": "2021-12-21T06:07:52.309Z"
   },
   {
    "duration": 61,
    "start_time": "2021-12-21T06:07:52.322Z"
   },
   {
    "duration": 19,
    "start_time": "2021-12-21T06:07:52.386Z"
   },
   {
    "duration": 15,
    "start_time": "2021-12-21T06:07:52.409Z"
   },
   {
    "duration": 12,
    "start_time": "2021-12-21T06:07:52.463Z"
   },
   {
    "duration": 7,
    "start_time": "2021-12-21T06:07:52.478Z"
   },
   {
    "duration": 24,
    "start_time": "2021-12-21T06:07:52.487Z"
   },
   {
    "duration": 14,
    "start_time": "2021-12-21T06:07:52.514Z"
   },
   {
    "duration": 18,
    "start_time": "2021-12-21T06:07:52.564Z"
   },
   {
    "duration": 39,
    "start_time": "2021-12-21T06:07:52.584Z"
   },
   {
    "duration": 7,
    "start_time": "2021-12-21T06:07:52.626Z"
   },
   {
    "duration": 9,
    "start_time": "2021-12-21T06:07:52.663Z"
   },
   {
    "duration": 23,
    "start_time": "2021-12-21T06:07:52.675Z"
   },
   {
    "duration": 12,
    "start_time": "2021-12-21T06:07:52.701Z"
   },
   {
    "duration": 49,
    "start_time": "2021-12-21T06:07:52.715Z"
   },
   {
    "duration": 18,
    "start_time": "2021-12-21T06:07:52.767Z"
   },
   {
    "duration": 18,
    "start_time": "2021-12-21T06:07:52.793Z"
   },
   {
    "duration": 58,
    "start_time": "2021-12-21T06:07:52.815Z"
   },
   {
    "duration": 8,
    "start_time": "2021-12-21T06:07:52.876Z"
   },
   {
    "duration": 44,
    "start_time": "2021-12-21T06:07:52.886Z"
   },
   {
    "duration": 32,
    "start_time": "2021-12-21T06:07:52.933Z"
   },
   {
    "duration": 11,
    "start_time": "2021-12-21T06:07:52.968Z"
   },
   {
    "duration": 7748,
    "start_time": "2021-12-21T06:07:52.981Z"
   },
   {
    "duration": 5,
    "start_time": "2021-12-21T06:08:00.731Z"
   },
   {
    "duration": 33,
    "start_time": "2021-12-21T06:08:00.739Z"
   },
   {
    "duration": 10,
    "start_time": "2021-12-21T06:08:00.775Z"
   },
   {
    "duration": 42,
    "start_time": "2021-12-21T06:08:00.787Z"
   },
   {
    "duration": 38,
    "start_time": "2021-12-21T06:08:00.832Z"
   },
   {
    "duration": 335,
    "start_time": "2021-12-21T06:08:00.872Z"
   },
   {
    "duration": 413,
    "start_time": "2021-12-21T06:08:01.210Z"
   },
   {
    "duration": 455,
    "start_time": "2021-12-21T06:08:01.626Z"
   },
   {
    "duration": 35,
    "start_time": "2021-12-21T06:08:02.084Z"
   },
   {
    "duration": 53,
    "start_time": "2021-12-21T06:08:02.122Z"
   },
   {
    "duration": 829,
    "start_time": "2021-12-21T06:08:02.178Z"
   },
   {
    "duration": 9,
    "start_time": "2021-12-21T06:08:03.011Z"
   },
   {
    "duration": 428,
    "start_time": "2021-12-21T06:08:03.024Z"
   },
   {
    "duration": 1179,
    "start_time": "2021-12-21T06:08:03.456Z"
   },
   {
    "duration": 1168,
    "start_time": "2021-12-21T06:08:04.638Z"
   },
   {
    "duration": 1139,
    "start_time": "2021-12-21T06:08:05.810Z"
   },
   {
    "duration": 1802,
    "start_time": "2021-12-21T06:08:06.963Z"
   },
   {
    "duration": 40,
    "start_time": "2021-12-21T07:34:58.482Z"
   },
   {
    "duration": 939,
    "start_time": "2021-12-21T07:41:44.835Z"
   },
   {
    "duration": 151,
    "start_time": "2021-12-21T07:41:45.781Z"
   },
   {
    "duration": 13,
    "start_time": "2021-12-21T07:41:45.935Z"
   },
   {
    "duration": 2562,
    "start_time": "2021-12-21T07:41:45.950Z"
   },
   {
    "duration": 9278,
    "start_time": "2021-12-21T07:41:48.515Z"
   },
   {
    "duration": 52,
    "start_time": "2021-12-21T07:41:57.795Z"
   },
   {
    "duration": 27,
    "start_time": "2021-12-21T07:41:57.864Z"
   },
   {
    "duration": 37,
    "start_time": "2021-12-21T07:41:57.897Z"
   },
   {
    "duration": 128,
    "start_time": "2021-12-21T07:41:57.962Z"
   },
   {
    "duration": 7,
    "start_time": "2021-12-21T07:41:58.092Z"
   },
   {
    "duration": 15,
    "start_time": "2021-12-21T07:41:58.102Z"
   },
   {
    "duration": 9,
    "start_time": "2021-12-21T07:41:58.119Z"
   },
   {
    "duration": 53,
    "start_time": "2021-12-21T07:41:58.130Z"
   },
   {
    "duration": 37,
    "start_time": "2021-12-21T07:41:58.185Z"
   },
   {
    "duration": 19,
    "start_time": "2021-12-21T07:41:58.225Z"
   },
   {
    "duration": 27,
    "start_time": "2021-12-21T07:41:58.246Z"
   },
   {
    "duration": 32,
    "start_time": "2021-12-21T07:41:58.275Z"
   },
   {
    "duration": 31,
    "start_time": "2021-12-21T07:41:58.310Z"
   },
   {
    "duration": 19,
    "start_time": "2021-12-21T07:41:58.343Z"
   },
   {
    "duration": 38,
    "start_time": "2021-12-21T07:41:58.364Z"
   },
   {
    "duration": 68,
    "start_time": "2021-12-21T07:41:58.405Z"
   },
   {
    "duration": 8,
    "start_time": "2021-12-21T07:41:58.476Z"
   },
   {
    "duration": 42,
    "start_time": "2021-12-21T07:41:58.486Z"
   },
   {
    "duration": 41,
    "start_time": "2021-12-21T07:41:58.530Z"
   },
   {
    "duration": 39,
    "start_time": "2021-12-21T07:41:58.574Z"
   },
   {
    "duration": 25,
    "start_time": "2021-12-21T07:41:58.618Z"
   },
   {
    "duration": 21,
    "start_time": "2021-12-21T07:41:58.646Z"
   },
   {
    "duration": 29,
    "start_time": "2021-12-21T07:41:58.670Z"
   },
   {
    "duration": 18,
    "start_time": "2021-12-21T07:41:58.701Z"
   },
   {
    "duration": 6,
    "start_time": "2021-12-21T07:41:58.722Z"
   },
   {
    "duration": 72,
    "start_time": "2021-12-21T07:41:58.730Z"
   },
   {
    "duration": 8,
    "start_time": "2021-12-21T07:41:58.804Z"
   },
   {
    "duration": 11,
    "start_time": "2021-12-21T07:41:58.815Z"
   },
   {
    "duration": 7286,
    "start_time": "2021-12-21T07:41:58.863Z"
   },
   {
    "duration": 13,
    "start_time": "2021-12-21T07:42:06.151Z"
   },
   {
    "duration": 42,
    "start_time": "2021-12-21T07:42:06.166Z"
   },
   {
    "duration": 43,
    "start_time": "2021-12-21T07:42:06.211Z"
   },
   {
    "duration": 63,
    "start_time": "2021-12-21T07:42:06.257Z"
   },
   {
    "duration": 44,
    "start_time": "2021-12-21T07:42:06.322Z"
   },
   {
    "duration": 368,
    "start_time": "2021-12-21T07:42:06.368Z"
   },
   {
    "duration": 380,
    "start_time": "2021-12-21T07:42:06.739Z"
   },
   {
    "duration": 401,
    "start_time": "2021-12-21T07:42:07.121Z"
   },
   {
    "duration": 40,
    "start_time": "2021-12-21T07:42:07.524Z"
   },
   {
    "duration": 42,
    "start_time": "2021-12-21T07:42:07.567Z"
   },
   {
    "duration": 552,
    "start_time": "2021-12-21T07:42:07.612Z"
   },
   {
    "duration": 7,
    "start_time": "2021-12-21T07:42:08.166Z"
   },
   {
    "duration": 342,
    "start_time": "2021-12-21T07:42:08.175Z"
   },
   {
    "duration": 797,
    "start_time": "2021-12-21T07:42:08.519Z"
   },
   {
    "duration": 750,
    "start_time": "2021-12-21T07:42:09.318Z"
   },
   {
    "duration": 1135,
    "start_time": "2021-12-21T07:42:10.072Z"
   },
   {
    "duration": 2372,
    "start_time": "2021-12-21T07:42:11.210Z"
   },
   {
    "duration": 7,
    "start_time": "2021-12-21T07:43:21.599Z"
   },
   {
    "duration": 4,
    "start_time": "2021-12-21T07:45:08.359Z"
   },
   {
    "duration": 1506,
    "start_time": "2021-12-21T07:45:09.345Z"
   },
   {
    "duration": 3,
    "start_time": "2021-12-21T07:45:28.482Z"
   },
   {
    "duration": 5,
    "start_time": "2021-12-21T07:45:29.646Z"
   },
   {
    "duration": 2195,
    "start_time": "2021-12-21T07:45:30.260Z"
   },
   {
    "duration": 4,
    "start_time": "2021-12-21T07:45:44.427Z"
   },
   {
    "duration": 1389,
    "start_time": "2021-12-21T07:45:45.417Z"
   },
   {
    "duration": 4,
    "start_time": "2021-12-21T07:46:13.105Z"
   },
   {
    "duration": 1474,
    "start_time": "2021-12-21T07:46:13.766Z"
   },
   {
    "duration": 7,
    "start_time": "2021-12-21T07:46:32.092Z"
   },
   {
    "duration": 6,
    "start_time": "2021-12-21T07:46:41.543Z"
   },
   {
    "duration": 6,
    "start_time": "2021-12-21T07:46:52.267Z"
   },
   {
    "duration": 4,
    "start_time": "2021-12-21T07:47:33.930Z"
   },
   {
    "duration": 284,
    "start_time": "2021-12-21T07:47:41.964Z"
   },
   {
    "duration": 295,
    "start_time": "2021-12-21T07:47:46.911Z"
   },
   {
    "duration": 6,
    "start_time": "2021-12-21T07:47:51.323Z"
   },
   {
    "duration": 6,
    "start_time": "2021-12-21T07:48:02.581Z"
   },
   {
    "duration": 5,
    "start_time": "2021-12-21T07:48:12.635Z"
   },
   {
    "duration": 2046,
    "start_time": "2021-12-21T07:48:14.137Z"
   },
   {
    "duration": 7,
    "start_time": "2021-12-21T07:48:22.695Z"
   },
   {
    "duration": 7,
    "start_time": "2021-12-21T07:48:32.477Z"
   },
   {
    "duration": 5,
    "start_time": "2021-12-21T07:48:35.556Z"
   },
   {
    "duration": 6,
    "start_time": "2021-12-21T07:48:50.551Z"
   },
   {
    "duration": 3,
    "start_time": "2021-12-21T07:49:05.661Z"
   },
   {
    "duration": 6,
    "start_time": "2021-12-21T07:49:14.521Z"
   },
   {
    "duration": 1445,
    "start_time": "2021-12-21T07:49:15.456Z"
   },
   {
    "duration": 6,
    "start_time": "2021-12-21T07:49:48.773Z"
   },
   {
    "duration": 226,
    "start_time": "2021-12-21T07:49:49.975Z"
   },
   {
    "duration": 5,
    "start_time": "2021-12-21T07:49:56.842Z"
   },
   {
    "duration": 496,
    "start_time": "2021-12-21T07:49:57.770Z"
   },
   {
    "duration": 5,
    "start_time": "2021-12-21T07:50:14.966Z"
   },
   {
    "duration": 3517,
    "start_time": "2021-12-21T07:50:15.993Z"
   },
   {
    "duration": 4,
    "start_time": "2021-12-21T07:50:23.402Z"
   },
   {
    "duration": 8,
    "start_time": "2021-12-21T07:50:25.309Z"
   },
   {
    "duration": 412,
    "start_time": "2021-12-21T07:50:26.305Z"
   },
   {
    "duration": 6,
    "start_time": "2021-12-21T07:51:37.359Z"
   },
   {
    "duration": 1464,
    "start_time": "2021-12-21T07:51:38.835Z"
   },
   {
    "duration": 5,
    "start_time": "2021-12-21T07:51:52.972Z"
   },
   {
    "duration": 5,
    "start_time": "2021-12-21T07:52:21.284Z"
   },
   {
    "duration": 1422,
    "start_time": "2021-12-21T07:52:23.128Z"
   },
   {
    "duration": 11,
    "start_time": "2021-12-21T07:55:19.553Z"
   },
   {
    "duration": 1259,
    "start_time": "2021-12-21T07:56:08.626Z"
   },
   {
    "duration": 9,
    "start_time": "2021-12-21T07:56:17.758Z"
   },
   {
    "duration": 11,
    "start_time": "2021-12-21T07:56:20.109Z"
   },
   {
    "duration": 300,
    "start_time": "2021-12-21T07:56:33.601Z"
   },
   {
    "duration": 20,
    "start_time": "2021-12-21T07:56:49.764Z"
   },
   {
    "duration": 324,
    "start_time": "2021-12-21T07:57:00.664Z"
   },
   {
    "duration": 14,
    "start_time": "2021-12-21T07:57:11.081Z"
   },
   {
    "duration": 10,
    "start_time": "2021-12-21T07:57:17.375Z"
   },
   {
    "duration": 8,
    "start_time": "2021-12-21T07:57:32.357Z"
   },
   {
    "duration": 1304,
    "start_time": "2021-12-21T07:58:13.014Z"
   },
   {
    "duration": 5,
    "start_time": "2021-12-21T07:59:43.089Z"
   },
   {
    "duration": 1372,
    "start_time": "2021-12-21T07:59:44.215Z"
   },
   {
    "duration": 1842,
    "start_time": "2021-12-21T08:00:06.708Z"
   },
   {
    "duration": 6,
    "start_time": "2021-12-21T08:00:19.728Z"
   },
   {
    "duration": 23,
    "start_time": "2021-12-21T08:00:20.469Z"
   },
   {
    "duration": 5,
    "start_time": "2021-12-21T08:01:02.104Z"
   },
   {
    "duration": 1385,
    "start_time": "2021-12-21T08:01:02.842Z"
   },
   {
    "duration": 5,
    "start_time": "2021-12-21T08:01:15.886Z"
   },
   {
    "duration": 24,
    "start_time": "2021-12-21T08:01:16.506Z"
   },
   {
    "duration": 5,
    "start_time": "2021-12-21T08:06:15.664Z"
   },
   {
    "duration": 25,
    "start_time": "2021-12-21T08:06:17.278Z"
   },
   {
    "duration": 32,
    "start_time": "2021-12-21T08:06:24.156Z"
   },
   {
    "duration": 5,
    "start_time": "2021-12-21T08:06:33.634Z"
   },
   {
    "duration": 36,
    "start_time": "2021-12-21T08:06:34.300Z"
   },
   {
    "duration": 27,
    "start_time": "2021-12-21T08:06:43.830Z"
   },
   {
    "duration": 374,
    "start_time": "2021-12-21T08:17:14.769Z"
   },
   {
    "duration": 357,
    "start_time": "2021-12-21T08:17:50.772Z"
   },
   {
    "duration": 12,
    "start_time": "2021-12-21T08:18:00.188Z"
   },
   {
    "duration": -23,
    "start_time": "2021-12-21T08:21:27.928Z"
   },
   {
    "duration": -19,
    "start_time": "2021-12-21T08:21:39.095Z"
   },
   {
    "duration": 6,
    "start_time": "2021-12-21T08:21:40.269Z"
   },
   {
    "duration": 671,
    "start_time": "2021-12-21T09:59:38.304Z"
   },
   {
    "duration": 925,
    "start_time": "2021-12-21T10:00:00.458Z"
   },
   {
    "duration": 145,
    "start_time": "2021-12-21T10:00:01.386Z"
   },
   {
    "duration": 17,
    "start_time": "2021-12-21T10:00:01.535Z"
   },
   {
    "duration": 1756,
    "start_time": "2021-12-21T10:00:01.555Z"
   },
   {
    "duration": 8422,
    "start_time": "2021-12-21T10:00:03.319Z"
   },
   {
    "duration": 35,
    "start_time": "2021-12-21T10:00:11.743Z"
   },
   {
    "duration": 36,
    "start_time": "2021-12-21T10:00:11.781Z"
   },
   {
    "duration": 22,
    "start_time": "2021-12-21T10:00:11.821Z"
   },
   {
    "duration": 94,
    "start_time": "2021-12-21T10:00:11.847Z"
   },
   {
    "duration": 6,
    "start_time": "2021-12-21T10:00:11.943Z"
   },
   {
    "duration": 9,
    "start_time": "2021-12-21T10:00:11.952Z"
   },
   {
    "duration": 12,
    "start_time": "2021-12-21T10:00:11.963Z"
   },
   {
    "duration": 67,
    "start_time": "2021-12-21T10:00:11.978Z"
   },
   {
    "duration": 5,
    "start_time": "2021-12-21T10:00:12.048Z"
   },
   {
    "duration": 1504,
    "start_time": "2021-12-21T10:00:12.056Z"
   },
   {
    "duration": -108263,
    "start_time": "2021-12-21T10:02:01.827Z"
   },
   {
    "duration": -108267,
    "start_time": "2021-12-21T10:02:01.832Z"
   },
   {
    "duration": -108270,
    "start_time": "2021-12-21T10:02:01.836Z"
   },
   {
    "duration": -108273,
    "start_time": "2021-12-21T10:02:01.841Z"
   },
   {
    "duration": -108276,
    "start_time": "2021-12-21T10:02:01.845Z"
   },
   {
    "duration": -108280,
    "start_time": "2021-12-21T10:02:01.850Z"
   },
   {
    "duration": -108283,
    "start_time": "2021-12-21T10:02:01.854Z"
   },
   {
    "duration": -108286,
    "start_time": "2021-12-21T10:02:01.859Z"
   },
   {
    "duration": -108289,
    "start_time": "2021-12-21T10:02:01.863Z"
   },
   {
    "duration": -108293,
    "start_time": "2021-12-21T10:02:01.868Z"
   },
   {
    "duration": -108296,
    "start_time": "2021-12-21T10:02:01.873Z"
   },
   {
    "duration": -108299,
    "start_time": "2021-12-21T10:02:01.877Z"
   },
   {
    "duration": -108308,
    "start_time": "2021-12-21T10:02:01.887Z"
   },
   {
    "duration": -108312,
    "start_time": "2021-12-21T10:02:01.892Z"
   },
   {
    "duration": -108315,
    "start_time": "2021-12-21T10:02:01.896Z"
   },
   {
    "duration": -108318,
    "start_time": "2021-12-21T10:02:01.901Z"
   },
   {
    "duration": -108321,
    "start_time": "2021-12-21T10:02:01.905Z"
   },
   {
    "duration": -108325,
    "start_time": "2021-12-21T10:02:01.910Z"
   },
   {
    "duration": -108327,
    "start_time": "2021-12-21T10:02:01.914Z"
   },
   {
    "duration": -108406,
    "start_time": "2021-12-21T10:02:01.994Z"
   },
   {
    "duration": -108409,
    "start_time": "2021-12-21T10:02:01.999Z"
   },
   {
    "duration": -108413,
    "start_time": "2021-12-21T10:02:02.004Z"
   },
   {
    "duration": -108564,
    "start_time": "2021-12-21T10:02:02.156Z"
   },
   {
    "duration": -108567,
    "start_time": "2021-12-21T10:02:02.160Z"
   },
   {
    "duration": -108569,
    "start_time": "2021-12-21T10:02:02.164Z"
   },
   {
    "duration": -108573,
    "start_time": "2021-12-21T10:02:02.169Z"
   },
   {
    "duration": -108576,
    "start_time": "2021-12-21T10:02:02.173Z"
   },
   {
    "duration": -108578,
    "start_time": "2021-12-21T10:02:02.177Z"
   },
   {
    "duration": -108581,
    "start_time": "2021-12-21T10:02:02.181Z"
   },
   {
    "duration": -108568,
    "start_time": "2021-12-21T10:02:02.185Z"
   },
   {
    "duration": -108571,
    "start_time": "2021-12-21T10:02:02.189Z"
   },
   {
    "duration": -108574,
    "start_time": "2021-12-21T10:02:02.194Z"
   },
   {
    "duration": -108607,
    "start_time": "2021-12-21T10:02:02.228Z"
   },
   {
    "duration": -108622,
    "start_time": "2021-12-21T10:02:02.244Z"
   },
   {
    "duration": -108624,
    "start_time": "2021-12-21T10:02:02.248Z"
   },
   {
    "duration": -108628,
    "start_time": "2021-12-21T10:02:02.253Z"
   },
   {
    "duration": -108631,
    "start_time": "2021-12-21T10:02:02.257Z"
   },
   {
    "duration": -108634,
    "start_time": "2021-12-21T10:02:02.262Z"
   },
   {
    "duration": 1002,
    "start_time": "2021-12-21T10:01:10.620Z"
   },
   {
    "duration": 136,
    "start_time": "2021-12-21T10:01:11.625Z"
   },
   {
    "duration": 13,
    "start_time": "2021-12-21T10:01:11.764Z"
   },
   {
    "duration": 1806,
    "start_time": "2021-12-21T10:01:11.779Z"
   },
   {
    "duration": 8832,
    "start_time": "2021-12-21T10:01:13.588Z"
   },
   {
    "duration": 36,
    "start_time": "2021-12-21T10:01:22.422Z"
   },
   {
    "duration": 16,
    "start_time": "2021-12-21T10:01:22.460Z"
   },
   {
    "duration": 50,
    "start_time": "2021-12-21T10:01:22.479Z"
   },
   {
    "duration": 88,
    "start_time": "2021-12-21T10:01:22.532Z"
   },
   {
    "duration": 8,
    "start_time": "2021-12-21T10:01:22.622Z"
   },
   {
    "duration": 6,
    "start_time": "2021-12-21T10:01:22.633Z"
   },
   {
    "duration": 12,
    "start_time": "2021-12-21T10:01:22.641Z"
   },
   {
    "duration": 63,
    "start_time": "2021-12-21T10:01:22.655Z"
   },
   {
    "duration": 4,
    "start_time": "2021-12-21T10:01:22.721Z"
   },
   {
    "duration": 7,
    "start_time": "2021-12-21T10:01:22.727Z"
   },
   {
    "duration": 20,
    "start_time": "2021-12-21T10:01:22.736Z"
   },
   {
    "duration": 16,
    "start_time": "2021-12-21T10:01:22.758Z"
   },
   {
    "duration": 50,
    "start_time": "2021-12-21T10:01:22.777Z"
   },
   {
    "duration": 10,
    "start_time": "2021-12-21T10:01:22.829Z"
   },
   {
    "duration": 55,
    "start_time": "2021-12-21T10:01:22.841Z"
   },
   {
    "duration": 10,
    "start_time": "2021-12-21T10:01:22.899Z"
   },
   {
    "duration": 14,
    "start_time": "2021-12-21T10:01:22.911Z"
   },
   {
    "duration": 37,
    "start_time": "2021-12-21T10:01:22.930Z"
   },
   {
    "duration": 8,
    "start_time": "2021-12-21T10:01:22.970Z"
   },
   {
    "duration": 42,
    "start_time": "2021-12-21T10:01:22.980Z"
   },
   {
    "duration": 23,
    "start_time": "2021-12-21T10:01:23.025Z"
   },
   {
    "duration": 12,
    "start_time": "2021-12-21T10:01:23.051Z"
   },
   {
    "duration": 8,
    "start_time": "2021-12-21T10:01:23.065Z"
   },
   {
    "duration": 14,
    "start_time": "2021-12-21T10:01:23.118Z"
   },
   {
    "duration": 14,
    "start_time": "2021-12-21T10:01:23.134Z"
   },
   {
    "duration": 17,
    "start_time": "2021-12-21T10:01:23.150Z"
   },
   {
    "duration": 50,
    "start_time": "2021-12-21T10:01:23.169Z"
   },
   {
    "duration": 42,
    "start_time": "2021-12-21T10:01:23.221Z"
   },
   {
    "duration": 8,
    "start_time": "2021-12-21T10:01:23.265Z"
   },
   {
    "duration": 48,
    "start_time": "2021-12-21T10:01:23.276Z"
   },
   {
    "duration": 7099,
    "start_time": "2021-12-21T10:01:23.327Z"
   },
   {
    "duration": 7,
    "start_time": "2021-12-21T10:01:30.429Z"
   },
   {
    "duration": 25,
    "start_time": "2021-12-21T10:01:30.438Z"
   },
   {
    "duration": 22,
    "start_time": "2021-12-21T10:01:30.466Z"
   },
   {
    "duration": 41,
    "start_time": "2021-12-21T10:01:30.491Z"
   },
   {
    "duration": 18,
    "start_time": "2021-12-21T10:01:30.534Z"
   },
   {
    "duration": 355,
    "start_time": "2021-12-21T10:01:30.554Z"
   },
   {
    "duration": 382,
    "start_time": "2021-12-21T10:01:30.911Z"
   },
   {
    "duration": 409,
    "start_time": "2021-12-21T10:01:31.296Z"
   },
   {
    "duration": 34,
    "start_time": "2021-12-21T10:01:31.707Z"
   },
   {
    "duration": 17,
    "start_time": "2021-12-21T10:01:31.744Z"
   },
   {
    "duration": 581,
    "start_time": "2021-12-21T10:01:31.764Z"
   },
   {
    "duration": 6,
    "start_time": "2021-12-21T10:01:32.347Z"
   },
   {
    "duration": 342,
    "start_time": "2021-12-21T10:01:32.357Z"
   },
   {
    "duration": 966,
    "start_time": "2021-12-21T10:01:32.701Z"
   },
   {
    "duration": 906,
    "start_time": "2021-12-21T10:01:33.670Z"
   },
   {
    "duration": 877,
    "start_time": "2021-12-21T10:01:34.578Z"
   },
   {
    "duration": 1950,
    "start_time": "2021-12-21T10:01:35.462Z"
   },
   {
    "duration": 1701,
    "start_time": "2021-12-21T10:02:15.153Z"
   },
   {
    "duration": 1596,
    "start_time": "2021-12-21T10:02:33.894Z"
   },
   {
    "duration": 1045,
    "start_time": "2021-12-21T10:07:25.242Z"
   },
   {
    "duration": 1623,
    "start_time": "2021-12-21T10:07:52.483Z"
   },
   {
    "duration": 1733,
    "start_time": "2021-12-21T10:09:06.331Z"
   },
   {
    "duration": 558,
    "start_time": "2021-12-21T10:09:44.993Z"
   },
   {
    "duration": 1801,
    "start_time": "2021-12-21T10:10:11.585Z"
   },
   {
    "duration": 632,
    "start_time": "2021-12-21T10:13:32.577Z"
   },
   {
    "duration": 29,
    "start_time": "2021-12-21T10:14:19.564Z"
   },
   {
    "duration": 531,
    "start_time": "2021-12-21T10:14:41.869Z"
   },
   {
    "duration": 741,
    "start_time": "2021-12-21T10:14:51.315Z"
   },
   {
    "duration": 28,
    "start_time": "2021-12-21T10:15:00.550Z"
   },
   {
    "duration": 29,
    "start_time": "2021-12-21T10:15:23.796Z"
   },
   {
    "duration": 29,
    "start_time": "2021-12-21T10:15:31.429Z"
   },
   {
    "duration": 1802,
    "start_time": "2021-12-21T10:15:52.884Z"
   },
   {
    "duration": 1548,
    "start_time": "2021-12-21T10:16:39.565Z"
   },
   {
    "duration": 1622,
    "start_time": "2021-12-21T10:18:11.879Z"
   },
   {
    "duration": 1583,
    "start_time": "2021-12-21T10:20:02.938Z"
   },
   {
    "duration": 552,
    "start_time": "2021-12-21T10:24:15.890Z"
   },
   {
    "duration": 672,
    "start_time": "2021-12-21T10:24:42.234Z"
   },
   {
    "duration": 1205,
    "start_time": "2021-12-21T10:33:27.480Z"
   },
   {
    "duration": 881,
    "start_time": "2021-12-21T10:33:52.256Z"
   },
   {
    "duration": 917,
    "start_time": "2021-12-21T10:34:30.657Z"
   },
   {
    "duration": 898,
    "start_time": "2021-12-21T10:35:23.178Z"
   },
   {
    "duration": 1244,
    "start_time": "2021-12-21T10:36:04.937Z"
   },
   {
    "duration": 980,
    "start_time": "2021-12-21T10:36:41.856Z"
   },
   {
    "duration": 906,
    "start_time": "2021-12-21T10:36:53.146Z"
   },
   {
    "duration": 976,
    "start_time": "2021-12-21T10:39:23.275Z"
   },
   {
    "duration": 728,
    "start_time": "2021-12-21T10:42:59.402Z"
   },
   {
    "duration": 91,
    "start_time": "2021-12-21T10:48:02.876Z"
   },
   {
    "duration": 97,
    "start_time": "2021-12-21T10:48:20.402Z"
   },
   {
    "duration": 400,
    "start_time": "2021-12-21T10:48:54.981Z"
   },
   {
    "duration": 1571,
    "start_time": "2021-12-21T10:51:50.341Z"
   },
   {
    "duration": 4,
    "start_time": "2021-12-21T10:58:40.553Z"
   },
   {
    "duration": 903,
    "start_time": "2021-12-21T11:00:19.896Z"
   },
   {
    "duration": 140,
    "start_time": "2021-12-21T11:00:20.801Z"
   },
   {
    "duration": 22,
    "start_time": "2021-12-21T11:00:20.944Z"
   },
   {
    "duration": 1837,
    "start_time": "2021-12-21T11:00:20.969Z"
   },
   {
    "duration": 8418,
    "start_time": "2021-12-21T11:00:22.816Z"
   },
   {
    "duration": 34,
    "start_time": "2021-12-21T11:00:31.237Z"
   },
   {
    "duration": 17,
    "start_time": "2021-12-21T11:00:31.273Z"
   },
   {
    "duration": 22,
    "start_time": "2021-12-21T11:00:31.318Z"
   },
   {
    "duration": 94,
    "start_time": "2021-12-21T11:00:31.343Z"
   },
   {
    "duration": 5,
    "start_time": "2021-12-21T11:00:31.440Z"
   },
   {
    "duration": 17,
    "start_time": "2021-12-21T11:00:31.447Z"
   },
   {
    "duration": 18,
    "start_time": "2021-12-21T11:00:31.466Z"
   },
   {
    "duration": 13,
    "start_time": "2021-12-21T11:00:31.486Z"
   },
   {
    "duration": 19,
    "start_time": "2021-12-21T11:00:31.501Z"
   },
   {
    "duration": 1475,
    "start_time": "2021-12-21T11:00:31.523Z"
   },
   {
    "duration": -108234,
    "start_time": "2021-12-21T11:02:21.236Z"
   },
   {
    "duration": -108248,
    "start_time": "2021-12-21T11:02:21.252Z"
   },
   {
    "duration": -108252,
    "start_time": "2021-12-21T11:02:21.257Z"
   },
   {
    "duration": -108255,
    "start_time": "2021-12-21T11:02:21.262Z"
   },
   {
    "duration": -108266,
    "start_time": "2021-12-21T11:02:21.274Z"
   },
   {
    "duration": -108270,
    "start_time": "2021-12-21T11:02:21.280Z"
   },
   {
    "duration": -108287,
    "start_time": "2021-12-21T11:02:21.298Z"
   },
   {
    "duration": -108305,
    "start_time": "2021-12-21T11:02:21.317Z"
   },
   {
    "duration": -108321,
    "start_time": "2021-12-21T11:02:21.335Z"
   },
   {
    "duration": -108350,
    "start_time": "2021-12-21T11:02:21.365Z"
   },
   {
    "duration": -108368,
    "start_time": "2021-12-21T11:02:21.385Z"
   },
   {
    "duration": -108399,
    "start_time": "2021-12-21T11:02:21.417Z"
   },
   {
    "duration": -108405,
    "start_time": "2021-12-21T11:02:21.424Z"
   },
   {
    "duration": -108412,
    "start_time": "2021-12-21T11:02:21.432Z"
   },
   {
    "duration": -108415,
    "start_time": "2021-12-21T11:02:21.437Z"
   },
   {
    "duration": -108419,
    "start_time": "2021-12-21T11:02:21.442Z"
   },
   {
    "duration": -108425,
    "start_time": "2021-12-21T11:02:21.449Z"
   },
   {
    "duration": -108429,
    "start_time": "2021-12-21T11:02:21.454Z"
   },
   {
    "duration": -108483,
    "start_time": "2021-12-21T11:02:21.509Z"
   },
   {
    "duration": -108567,
    "start_time": "2021-12-21T11:02:21.595Z"
   },
   {
    "duration": -108570,
    "start_time": "2021-12-21T11:02:21.599Z"
   },
   {
    "duration": -108574,
    "start_time": "2021-12-21T11:02:21.604Z"
   },
   {
    "duration": -108577,
    "start_time": "2021-12-21T11:02:21.608Z"
   },
   {
    "duration": -108580,
    "start_time": "2021-12-21T11:02:21.613Z"
   },
   {
    "duration": -108583,
    "start_time": "2021-12-21T11:02:21.617Z"
   },
   {
    "duration": -108595,
    "start_time": "2021-12-21T11:02:21.631Z"
   },
   {
    "duration": -108601,
    "start_time": "2021-12-21T11:02:21.638Z"
   },
   {
    "duration": -108605,
    "start_time": "2021-12-21T11:02:21.643Z"
   },
   {
    "duration": -108611,
    "start_time": "2021-12-21T11:02:21.650Z"
   },
   {
    "duration": -108625,
    "start_time": "2021-12-21T11:02:21.665Z"
   },
   {
    "duration": -108627,
    "start_time": "2021-12-21T11:02:21.669Z"
   },
   {
    "duration": -108631,
    "start_time": "2021-12-21T11:02:21.674Z"
   },
   {
    "duration": -108634,
    "start_time": "2021-12-21T11:02:21.678Z"
   },
   {
    "duration": -108643,
    "start_time": "2021-12-21T11:02:21.689Z"
   },
   {
    "duration": -108646,
    "start_time": "2021-12-21T11:02:21.694Z"
   },
   {
    "duration": -108649,
    "start_time": "2021-12-21T11:02:21.698Z"
   },
   {
    "duration": -108656,
    "start_time": "2021-12-21T11:02:21.707Z"
   },
   {
    "duration": -108659,
    "start_time": "2021-12-21T11:02:21.711Z"
   },
   {
    "duration": -108661,
    "start_time": "2021-12-21T11:02:21.715Z"
   },
   {
    "duration": -108606,
    "start_time": "2021-12-21T11:02:21.723Z"
   },
   {
    "duration": 5,
    "start_time": "2021-12-21T11:02:02.710Z"
   },
   {
    "duration": 1272,
    "start_time": "2021-12-21T11:02:05.762Z"
   },
   {
    "duration": 5,
    "start_time": "2021-12-21T11:02:35.558Z"
   },
   {
    "duration": 1378,
    "start_time": "2021-12-21T11:02:37.558Z"
   },
   {
    "duration": 5,
    "start_time": "2021-12-21T11:03:04.951Z"
   },
   {
    "duration": 1334,
    "start_time": "2021-12-21T11:03:07.811Z"
   },
   {
    "duration": 867,
    "start_time": "2021-12-21T11:05:30.750Z"
   },
   {
    "duration": 134,
    "start_time": "2021-12-21T11:05:31.620Z"
   },
   {
    "duration": 13,
    "start_time": "2021-12-21T11:05:31.757Z"
   },
   {
    "duration": 1817,
    "start_time": "2021-12-21T11:05:31.773Z"
   },
   {
    "duration": 8514,
    "start_time": "2021-12-21T11:05:33.592Z"
   },
   {
    "duration": 37,
    "start_time": "2021-12-21T11:05:42.109Z"
   },
   {
    "duration": 16,
    "start_time": "2021-12-21T11:05:42.148Z"
   },
   {
    "duration": 51,
    "start_time": "2021-12-21T11:05:42.167Z"
   },
   {
    "duration": 73,
    "start_time": "2021-12-21T11:05:42.221Z"
   },
   {
    "duration": 22,
    "start_time": "2021-12-21T11:05:42.296Z"
   },
   {
    "duration": 7,
    "start_time": "2021-12-21T11:05:42.320Z"
   },
   {
    "duration": 11,
    "start_time": "2021-12-21T11:05:42.329Z"
   },
   {
    "duration": 5,
    "start_time": "2021-12-21T11:05:42.343Z"
   },
   {
    "duration": 5,
    "start_time": "2021-12-21T11:05:42.351Z"
   },
   {
    "duration": 58,
    "start_time": "2021-12-21T11:05:42.358Z"
   },
   {
    "duration": 17,
    "start_time": "2021-12-21T11:05:42.418Z"
   },
   {
    "duration": 15,
    "start_time": "2021-12-21T11:05:42.437Z"
   },
   {
    "duration": 11,
    "start_time": "2021-12-21T11:05:42.454Z"
   },
   {
    "duration": 51,
    "start_time": "2021-12-21T11:05:42.468Z"
   },
   {
    "duration": 441,
    "start_time": "2021-12-21T11:05:42.521Z"
   },
   {
    "duration": -108343,
    "start_time": "2021-12-21T11:07:31.309Z"
   },
   {
    "duration": -108347,
    "start_time": "2021-12-21T11:07:31.314Z"
   },
   {
    "duration": -108356,
    "start_time": "2021-12-21T11:07:31.325Z"
   },
   {
    "duration": -108371,
    "start_time": "2021-12-21T11:07:31.341Z"
   },
   {
    "duration": -108374,
    "start_time": "2021-12-21T11:07:31.345Z"
   },
   {
    "duration": -108378,
    "start_time": "2021-12-21T11:07:31.351Z"
   },
   {
    "duration": -108387,
    "start_time": "2021-12-21T11:07:31.361Z"
   },
   {
    "duration": -108391,
    "start_time": "2021-12-21T11:07:31.366Z"
   },
   {
    "duration": -108394,
    "start_time": "2021-12-21T11:07:31.371Z"
   },
   {
    "duration": -108403,
    "start_time": "2021-12-21T11:07:31.382Z"
   },
   {
    "duration": -108406,
    "start_time": "2021-12-21T11:07:31.386Z"
   },
   {
    "duration": -108416,
    "start_time": "2021-12-21T11:07:31.398Z"
   },
   {
    "duration": -108420,
    "start_time": "2021-12-21T11:07:31.403Z"
   },
   {
    "duration": -108448,
    "start_time": "2021-12-21T11:07:31.433Z"
   },
   {
    "duration": -108452,
    "start_time": "2021-12-21T11:07:31.438Z"
   },
   {
    "duration": -108456,
    "start_time": "2021-12-21T11:07:31.443Z"
   },
   {
    "duration": -108510,
    "start_time": "2021-12-21T11:07:31.499Z"
   },
   {
    "duration": -108513,
    "start_time": "2021-12-21T11:07:31.503Z"
   },
   {
    "duration": -108516,
    "start_time": "2021-12-21T11:07:31.507Z"
   },
   {
    "duration": -108660,
    "start_time": "2021-12-21T11:07:31.652Z"
   },
   {
    "duration": -108674,
    "start_time": "2021-12-21T11:07:31.668Z"
   },
   {
    "duration": -108751,
    "start_time": "2021-12-21T11:07:31.746Z"
   },
   {
    "duration": -108754,
    "start_time": "2021-12-21T11:07:31.750Z"
   },
   {
    "duration": -108757,
    "start_time": "2021-12-21T11:07:31.755Z"
   },
   {
    "duration": -108760,
    "start_time": "2021-12-21T11:07:31.759Z"
   },
   {
    "duration": -108748,
    "start_time": "2021-12-21T11:07:31.764Z"
   },
   {
    "duration": -108751,
    "start_time": "2021-12-21T11:07:31.768Z"
   },
   {
    "duration": -108753,
    "start_time": "2021-12-21T11:07:31.772Z"
   },
   {
    "duration": -108757,
    "start_time": "2021-12-21T11:07:31.777Z"
   },
   {
    "duration": -108760,
    "start_time": "2021-12-21T11:07:31.781Z"
   },
   {
    "duration": -108763,
    "start_time": "2021-12-21T11:07:31.786Z"
   },
   {
    "duration": -108767,
    "start_time": "2021-12-21T11:07:31.791Z"
   },
   {
    "duration": -108768,
    "start_time": "2021-12-21T11:07:31.794Z"
   },
   {
    "duration": -108771,
    "start_time": "2021-12-21T11:07:31.799Z"
   },
   {
    "duration": -108773,
    "start_time": "2021-12-21T11:07:31.803Z"
   },
   {
    "duration": 3,
    "start_time": "2021-12-21T11:06:40.949Z"
   },
   {
    "duration": 5,
    "start_time": "2021-12-21T11:09:58.090Z"
   },
   {
    "duration": 845,
    "start_time": "2021-12-21T11:10:20.173Z"
   },
   {
    "duration": 136,
    "start_time": "2021-12-21T11:10:21.021Z"
   },
   {
    "duration": 13,
    "start_time": "2021-12-21T11:10:21.160Z"
   },
   {
    "duration": 1753,
    "start_time": "2021-12-21T11:10:21.176Z"
   },
   {
    "duration": 9321,
    "start_time": "2021-12-21T11:10:22.931Z"
   },
   {
    "duration": 35,
    "start_time": "2021-12-21T11:10:32.254Z"
   },
   {
    "duration": 32,
    "start_time": "2021-12-21T11:10:32.292Z"
   },
   {
    "duration": 22,
    "start_time": "2021-12-21T11:10:32.328Z"
   },
   {
    "duration": 102,
    "start_time": "2021-12-21T11:10:32.353Z"
   },
   {
    "duration": 6,
    "start_time": "2021-12-21T11:10:32.457Z"
   },
   {
    "duration": 10,
    "start_time": "2021-12-21T11:10:32.465Z"
   },
   {
    "duration": 5,
    "start_time": "2021-12-21T11:10:32.478Z"
   },
   {
    "duration": 31,
    "start_time": "2021-12-21T11:10:32.486Z"
   },
   {
    "duration": 5,
    "start_time": "2021-12-21T11:10:32.520Z"
   },
   {
    "duration": 33,
    "start_time": "2021-12-21T11:10:32.527Z"
   },
   {
    "duration": 16,
    "start_time": "2021-12-21T11:10:32.562Z"
   },
   {
    "duration": 49,
    "start_time": "2021-12-21T11:10:32.580Z"
   },
   {
    "duration": 11,
    "start_time": "2021-12-21T11:10:32.631Z"
   },
   {
    "duration": 32,
    "start_time": "2021-12-21T11:10:32.644Z"
   },
   {
    "duration": 17,
    "start_time": "2021-12-21T11:10:32.679Z"
   },
   {
    "duration": 6,
    "start_time": "2021-12-21T11:10:32.698Z"
   },
   {
    "duration": 10,
    "start_time": "2021-12-21T11:10:32.706Z"
   },
   {
    "duration": 14,
    "start_time": "2021-12-21T11:10:32.722Z"
   },
   {
    "duration": 41,
    "start_time": "2021-12-21T11:10:32.739Z"
   },
   {
    "duration": 6,
    "start_time": "2021-12-21T11:10:32.782Z"
   },
   {
    "duration": 7,
    "start_time": "2021-12-21T11:10:32.818Z"
   },
   {
    "duration": 27,
    "start_time": "2021-12-21T11:10:32.828Z"
   },
   {
    "duration": 13,
    "start_time": "2021-12-21T11:10:32.857Z"
   },
   {
    "duration": 47,
    "start_time": "2021-12-21T11:10:32.873Z"
   },
   {
    "duration": 15,
    "start_time": "2021-12-21T11:10:32.922Z"
   },
   {
    "duration": 14,
    "start_time": "2021-12-21T11:10:32.940Z"
   },
   {
    "duration": 20,
    "start_time": "2021-12-21T11:10:32.957Z"
   },
   {
    "duration": 43,
    "start_time": "2021-12-21T11:10:32.979Z"
   },
   {
    "duration": 42,
    "start_time": "2021-12-21T11:10:33.025Z"
   },
   {
    "duration": 12,
    "start_time": "2021-12-21T11:10:33.069Z"
   },
   {
    "duration": 41,
    "start_time": "2021-12-21T11:10:33.083Z"
   },
   {
    "duration": 7092,
    "start_time": "2021-12-21T11:10:33.126Z"
   },
   {
    "duration": 5,
    "start_time": "2021-12-21T11:10:40.221Z"
   },
   {
    "duration": 16,
    "start_time": "2021-12-21T11:10:40.229Z"
   },
   {
    "duration": 10,
    "start_time": "2021-12-21T11:10:40.248Z"
   },
   {
    "duration": 57,
    "start_time": "2021-12-21T11:10:40.261Z"
   },
   {
    "duration": 20,
    "start_time": "2021-12-21T11:10:40.321Z"
   },
   {
    "duration": 345,
    "start_time": "2021-12-21T11:10:40.343Z"
   },
   {
    "duration": 396,
    "start_time": "2021-12-21T11:10:40.691Z"
   },
   {
    "duration": 405,
    "start_time": "2021-12-21T11:10:41.090Z"
   },
   {
    "duration": 40,
    "start_time": "2021-12-21T11:10:41.498Z"
   },
   {
    "duration": 16,
    "start_time": "2021-12-21T11:10:41.541Z"
   },
   {
    "duration": 549,
    "start_time": "2021-12-21T11:10:41.560Z"
   },
   {
    "duration": 7,
    "start_time": "2021-12-21T11:10:42.111Z"
   },
   {
    "duration": 335,
    "start_time": "2021-12-21T11:10:42.120Z"
   },
   {
    "duration": 781,
    "start_time": "2021-12-21T11:10:42.458Z"
   },
   {
    "duration": 1047,
    "start_time": "2021-12-21T11:10:43.241Z"
   },
   {
    "duration": -108346,
    "start_time": "2021-12-21T11:12:32.636Z"
   },
   {
    "duration": -108349,
    "start_time": "2021-12-21T11:12:32.641Z"
   },
   {
    "duration": -108355,
    "start_time": "2021-12-21T11:12:32.648Z"
   },
   {
    "duration": -108364,
    "start_time": "2021-12-21T11:12:32.659Z"
   },
   {
    "duration": 55,
    "start_time": "2021-12-21T11:11:43.710Z"
   },
   {
    "duration": 1147,
    "start_time": "2021-12-21T11:12:21.231Z"
   },
   {
    "duration": 25,
    "start_time": "2021-12-21T11:13:31.109Z"
   },
   {
    "duration": 846,
    "start_time": "2021-12-21T11:14:10.738Z"
   },
   {
    "duration": 138,
    "start_time": "2021-12-21T11:14:11.587Z"
   },
   {
    "duration": 14,
    "start_time": "2021-12-21T11:14:11.728Z"
   },
   {
    "duration": 1756,
    "start_time": "2021-12-21T11:14:11.745Z"
   },
   {
    "duration": 8265,
    "start_time": "2021-12-21T11:14:13.503Z"
   },
   {
    "duration": 55,
    "start_time": "2021-12-21T11:14:21.771Z"
   },
   {
    "duration": 19,
    "start_time": "2021-12-21T11:14:21.829Z"
   },
   {
    "duration": 23,
    "start_time": "2021-12-21T11:14:21.853Z"
   },
   {
    "duration": 156,
    "start_time": "2021-12-21T11:14:21.880Z"
   },
   {
    "duration": 7,
    "start_time": "2021-12-21T11:14:22.039Z"
   },
   {
    "duration": 9,
    "start_time": "2021-12-21T11:14:22.049Z"
   },
   {
    "duration": 3,
    "start_time": "2021-12-21T11:14:22.061Z"
   },
   {
    "duration": 28,
    "start_time": "2021-12-21T11:14:22.093Z"
   },
   {
    "duration": 5,
    "start_time": "2021-12-21T11:14:22.130Z"
   },
   {
    "duration": 30,
    "start_time": "2021-12-21T11:14:22.138Z"
   },
   {
    "duration": 21,
    "start_time": "2021-12-21T11:14:22.170Z"
   },
   {
    "duration": 38,
    "start_time": "2021-12-21T11:14:22.194Z"
   },
   {
    "duration": 11,
    "start_time": "2021-12-21T11:14:22.234Z"
   },
   {
    "duration": 7,
    "start_time": "2021-12-21T11:14:22.248Z"
   },
   {
    "duration": 8,
    "start_time": "2021-12-21T11:14:22.258Z"
   },
   {
    "duration": 5,
    "start_time": "2021-12-21T11:14:22.268Z"
   },
   {
    "duration": 44,
    "start_time": "2021-12-21T11:14:22.276Z"
   },
   {
    "duration": 35,
    "start_time": "2021-12-21T11:14:22.330Z"
   },
   {
    "duration": 51,
    "start_time": "2021-12-21T11:14:22.370Z"
   },
   {
    "duration": 61,
    "start_time": "2021-12-21T11:14:22.424Z"
   },
   {
    "duration": 29,
    "start_time": "2021-12-21T11:14:22.488Z"
   },
   {
    "duration": 11,
    "start_time": "2021-12-21T11:14:22.520Z"
   },
   {
    "duration": 38,
    "start_time": "2021-12-21T11:14:22.534Z"
   },
   {
    "duration": 51,
    "start_time": "2021-12-21T11:14:22.575Z"
   },
   {
    "duration": 9,
    "start_time": "2021-12-21T11:14:22.629Z"
   },
   {
    "duration": 17,
    "start_time": "2021-12-21T11:14:22.641Z"
   },
   {
    "duration": 30,
    "start_time": "2021-12-21T11:14:22.661Z"
   },
   {
    "duration": 39,
    "start_time": "2021-12-21T11:14:22.694Z"
   },
   {
    "duration": 15,
    "start_time": "2021-12-21T11:14:22.735Z"
   },
   {
    "duration": 49,
    "start_time": "2021-12-21T11:14:22.752Z"
   },
   {
    "duration": 14,
    "start_time": "2021-12-21T11:14:22.817Z"
   },
   {
    "duration": 18,
    "start_time": "2021-12-21T11:14:22.834Z"
   },
   {
    "duration": 7035,
    "start_time": "2021-12-21T11:14:22.855Z"
   },
   {
    "duration": 6,
    "start_time": "2021-12-21T11:14:29.892Z"
   },
   {
    "duration": 31,
    "start_time": "2021-12-21T11:14:29.900Z"
   },
   {
    "duration": 9,
    "start_time": "2021-12-21T11:14:29.934Z"
   },
   {
    "duration": 28,
    "start_time": "2021-12-21T11:14:29.945Z"
   },
   {
    "duration": 49,
    "start_time": "2021-12-21T11:14:29.976Z"
   },
   {
    "duration": 358,
    "start_time": "2021-12-21T11:14:30.028Z"
   },
   {
    "duration": 382,
    "start_time": "2021-12-21T11:14:30.389Z"
   },
   {
    "duration": 425,
    "start_time": "2021-12-21T11:14:30.774Z"
   },
   {
    "duration": 34,
    "start_time": "2021-12-21T11:14:31.201Z"
   },
   {
    "duration": 21,
    "start_time": "2021-12-21T11:14:31.238Z"
   },
   {
    "duration": 571,
    "start_time": "2021-12-21T11:14:31.262Z"
   },
   {
    "duration": 8,
    "start_time": "2021-12-21T11:14:31.836Z"
   },
   {
    "duration": 357,
    "start_time": "2021-12-21T11:14:31.847Z"
   },
   {
    "duration": 790,
    "start_time": "2021-12-21T11:14:32.207Z"
   },
   {
    "duration": 762,
    "start_time": "2021-12-21T11:14:32.999Z"
   },
   {
    "duration": 739,
    "start_time": "2021-12-21T11:14:33.763Z"
   },
   {
    "duration": 35,
    "start_time": "2021-12-21T11:14:34.504Z"
   },
   {
    "duration": 1596,
    "start_time": "2021-12-21T11:14:34.541Z"
   },
   {
    "duration": 2533,
    "start_time": "2021-12-21T11:14:36.139Z"
   },
   {
    "duration": 889,
    "start_time": "2021-12-21T11:17:23.105Z"
   },
   {
    "duration": 135,
    "start_time": "2021-12-21T11:17:23.996Z"
   },
   {
    "duration": 15,
    "start_time": "2021-12-21T11:17:24.134Z"
   },
   {
    "duration": 1867,
    "start_time": "2021-12-21T11:17:24.153Z"
   },
   {
    "duration": 8419,
    "start_time": "2021-12-21T11:17:26.022Z"
   },
   {
    "duration": 36,
    "start_time": "2021-12-21T11:17:34.443Z"
   },
   {
    "duration": 42,
    "start_time": "2021-12-21T11:17:34.481Z"
   },
   {
    "duration": 24,
    "start_time": "2021-12-21T11:17:34.527Z"
   },
   {
    "duration": 96,
    "start_time": "2021-12-21T11:17:34.554Z"
   },
   {
    "duration": 5,
    "start_time": "2021-12-21T11:17:34.653Z"
   },
   {
    "duration": 12,
    "start_time": "2021-12-21T11:17:34.660Z"
   },
   {
    "duration": 5,
    "start_time": "2021-12-21T11:17:34.675Z"
   },
   {
    "duration": 38,
    "start_time": "2021-12-21T11:17:34.683Z"
   },
   {
    "duration": 9,
    "start_time": "2021-12-21T11:17:34.724Z"
   },
   {
    "duration": 53,
    "start_time": "2021-12-21T11:17:34.735Z"
   },
   {
    "duration": 29,
    "start_time": "2021-12-21T11:17:34.790Z"
   },
   {
    "duration": 17,
    "start_time": "2021-12-21T11:17:34.821Z"
   },
   {
    "duration": 11,
    "start_time": "2021-12-21T11:17:34.841Z"
   },
   {
    "duration": 11,
    "start_time": "2021-12-21T11:17:34.854Z"
   },
   {
    "duration": 10,
    "start_time": "2021-12-21T11:17:34.867Z"
   },
   {
    "duration": 38,
    "start_time": "2021-12-21T11:17:34.879Z"
   },
   {
    "duration": 6,
    "start_time": "2021-12-21T11:17:34.920Z"
   },
   {
    "duration": 15,
    "start_time": "2021-12-21T11:17:34.932Z"
   },
   {
    "duration": 68,
    "start_time": "2021-12-21T11:17:34.951Z"
   },
   {
    "duration": 9,
    "start_time": "2021-12-21T11:17:35.021Z"
   },
   {
    "duration": 12,
    "start_time": "2021-12-21T11:17:35.032Z"
   },
   {
    "duration": 26,
    "start_time": "2021-12-21T11:17:35.046Z"
   },
   {
    "duration": 52,
    "start_time": "2021-12-21T11:17:35.075Z"
   },
   {
    "duration": 7,
    "start_time": "2021-12-21T11:17:35.130Z"
   },
   {
    "duration": 17,
    "start_time": "2021-12-21T11:17:35.140Z"
   },
   {
    "duration": 16,
    "start_time": "2021-12-21T11:17:35.160Z"
   },
   {
    "duration": 54,
    "start_time": "2021-12-21T11:17:35.179Z"
   },
   {
    "duration": 6,
    "start_time": "2021-12-21T11:17:35.235Z"
   },
   {
    "duration": 76,
    "start_time": "2021-12-21T11:17:35.244Z"
   },
   {
    "duration": 13,
    "start_time": "2021-12-21T11:17:35.322Z"
   },
   {
    "duration": 11,
    "start_time": "2021-12-21T11:17:35.337Z"
   },
   {
    "duration": 7167,
    "start_time": "2021-12-21T11:17:35.351Z"
   },
   {
    "duration": 5,
    "start_time": "2021-12-21T11:17:42.520Z"
   },
   {
    "duration": 17,
    "start_time": "2021-12-21T11:17:42.528Z"
   },
   {
    "duration": 12,
    "start_time": "2021-12-21T11:17:42.547Z"
   },
   {
    "duration": 57,
    "start_time": "2021-12-21T11:17:42.562Z"
   },
   {
    "duration": 20,
    "start_time": "2021-12-21T11:17:42.621Z"
   },
   {
    "duration": 362,
    "start_time": "2021-12-21T11:17:42.643Z"
   },
   {
    "duration": 381,
    "start_time": "2021-12-21T11:17:43.007Z"
   },
   {
    "duration": 407,
    "start_time": "2021-12-21T11:17:43.391Z"
   },
   {
    "duration": 36,
    "start_time": "2021-12-21T11:17:43.800Z"
   },
   {
    "duration": 15,
    "start_time": "2021-12-21T11:17:43.839Z"
   },
   {
    "duration": 557,
    "start_time": "2021-12-21T11:17:43.856Z"
   },
   {
    "duration": 6,
    "start_time": "2021-12-21T11:17:44.418Z"
   },
   {
    "duration": 356,
    "start_time": "2021-12-21T11:17:44.426Z"
   },
   {
    "duration": 796,
    "start_time": "2021-12-21T11:17:44.785Z"
   },
   {
    "duration": 761,
    "start_time": "2021-12-21T11:17:45.584Z"
   },
   {
    "duration": 770,
    "start_time": "2021-12-21T11:17:46.347Z"
   },
   {
    "duration": 30,
    "start_time": "2021-12-21T11:17:47.119Z"
   },
   {
    "duration": 1623,
    "start_time": "2021-12-21T11:17:47.152Z"
   },
   {
    "duration": 1676,
    "start_time": "2021-12-21T11:17:48.778Z"
   },
   {
    "duration": 482,
    "start_time": "2021-12-21T11:21:21.962Z"
   },
   {
    "duration": 490,
    "start_time": "2021-12-21T11:22:03.358Z"
   },
   {
    "duration": 454,
    "start_time": "2021-12-21T11:22:14.357Z"
   },
   {
    "duration": 457,
    "start_time": "2021-12-21T11:22:25.067Z"
   },
   {
    "duration": 620,
    "start_time": "2021-12-21T11:23:58.372Z"
   },
   {
    "duration": 935,
    "start_time": "2021-12-21T11:30:38.087Z"
   },
   {
    "duration": 141,
    "start_time": "2021-12-21T11:30:39.025Z"
   },
   {
    "duration": 15,
    "start_time": "2021-12-21T11:30:39.169Z"
   },
   {
    "duration": 1731,
    "start_time": "2021-12-21T11:30:39.188Z"
   },
   {
    "duration": 8138,
    "start_time": "2021-12-21T11:30:40.922Z"
   },
   {
    "duration": 36,
    "start_time": "2021-12-21T11:30:49.063Z"
   },
   {
    "duration": 20,
    "start_time": "2021-12-21T11:30:49.118Z"
   },
   {
    "duration": 23,
    "start_time": "2021-12-21T11:30:49.143Z"
   },
   {
    "duration": 102,
    "start_time": "2021-12-21T11:30:49.169Z"
   },
   {
    "duration": 5,
    "start_time": "2021-12-21T11:30:49.273Z"
   },
   {
    "duration": 7,
    "start_time": "2021-12-21T11:30:49.281Z"
   },
   {
    "duration": 28,
    "start_time": "2021-12-21T11:30:49.291Z"
   },
   {
    "duration": 7,
    "start_time": "2021-12-21T11:30:49.321Z"
   },
   {
    "duration": 6,
    "start_time": "2021-12-21T11:30:49.330Z"
   },
   {
    "duration": 25,
    "start_time": "2021-12-21T11:30:49.338Z"
   },
   {
    "duration": 52,
    "start_time": "2021-12-21T11:30:49.366Z"
   },
   {
    "duration": 18,
    "start_time": "2021-12-21T11:30:49.421Z"
   },
   {
    "duration": 12,
    "start_time": "2021-12-21T11:30:49.441Z"
   },
   {
    "duration": 7,
    "start_time": "2021-12-21T11:30:49.455Z"
   },
   {
    "duration": 4,
    "start_time": "2021-12-21T11:30:49.464Z"
   },
   {
    "duration": 8,
    "start_time": "2021-12-21T11:30:49.470Z"
   },
   {
    "duration": 39,
    "start_time": "2021-12-21T11:30:49.480Z"
   },
   {
    "duration": 15,
    "start_time": "2021-12-21T11:30:49.525Z"
   },
   {
    "duration": 39,
    "start_time": "2021-12-21T11:30:49.543Z"
   },
   {
    "duration": 32,
    "start_time": "2021-12-21T11:30:49.585Z"
   },
   {
    "duration": 9,
    "start_time": "2021-12-21T11:30:49.620Z"
   },
   {
    "duration": 26,
    "start_time": "2021-12-21T11:30:49.632Z"
   },
   {
    "duration": 13,
    "start_time": "2021-12-21T11:30:49.660Z"
   },
   {
    "duration": 7,
    "start_time": "2021-12-21T11:30:49.675Z"
   },
   {
    "duration": 43,
    "start_time": "2021-12-21T11:30:49.685Z"
   },
   {
    "duration": 13,
    "start_time": "2021-12-21T11:30:49.731Z"
   },
   {
    "duration": 17,
    "start_time": "2021-12-21T11:30:49.746Z"
   },
   {
    "duration": 6,
    "start_time": "2021-12-21T11:30:49.765Z"
   },
   {
    "duration": 45,
    "start_time": "2021-12-21T11:30:49.818Z"
   },
   {
    "duration": 11,
    "start_time": "2021-12-21T11:30:49.866Z"
   },
   {
    "duration": 42,
    "start_time": "2021-12-21T11:30:49.880Z"
   },
   {
    "duration": 7185,
    "start_time": "2021-12-21T11:30:49.925Z"
   },
   {
    "duration": 5,
    "start_time": "2021-12-21T11:30:57.112Z"
   },
   {
    "duration": 17,
    "start_time": "2021-12-21T11:30:57.120Z"
   },
   {
    "duration": 6,
    "start_time": "2021-12-21T11:30:57.140Z"
   },
   {
    "duration": 34,
    "start_time": "2021-12-21T11:30:57.148Z"
   },
   {
    "duration": 50,
    "start_time": "2021-12-21T11:30:57.185Z"
   },
   {
    "duration": 353,
    "start_time": "2021-12-21T11:30:57.238Z"
   },
   {
    "duration": 370,
    "start_time": "2021-12-21T11:30:57.593Z"
   },
   {
    "duration": 404,
    "start_time": "2021-12-21T11:30:57.967Z"
   },
   {
    "duration": 47,
    "start_time": "2021-12-21T11:30:58.374Z"
   },
   {
    "duration": 17,
    "start_time": "2021-12-21T11:30:58.424Z"
   },
   {
    "duration": 559,
    "start_time": "2021-12-21T11:30:58.443Z"
   },
   {
    "duration": 468,
    "start_time": "2021-12-21T11:30:59.005Z"
   },
   {
    "duration": 6,
    "start_time": "2021-12-21T11:30:59.476Z"
   },
   {
    "duration": 351,
    "start_time": "2021-12-21T11:30:59.484Z"
   },
   {
    "duration": 814,
    "start_time": "2021-12-21T11:30:59.838Z"
   },
   {
    "duration": 772,
    "start_time": "2021-12-21T11:31:00.654Z"
   },
   {
    "duration": 764,
    "start_time": "2021-12-21T11:31:01.429Z"
   },
   {
    "duration": 41,
    "start_time": "2021-12-21T11:31:02.196Z"
   },
   {
    "duration": 1700,
    "start_time": "2021-12-21T11:31:02.240Z"
   },
   {
    "duration": 1639,
    "start_time": "2021-12-21T11:31:03.943Z"
   },
   {
    "duration": 489,
    "start_time": "2021-12-21T12:02:17.436Z"
   },
   {
    "duration": 29,
    "start_time": "2021-12-21T12:39:04.928Z"
   },
   {
    "duration": 30,
    "start_time": "2021-12-21T12:39:25.196Z"
   },
   {
    "duration": 32,
    "start_time": "2021-12-21T12:39:40.243Z"
   },
   {
    "duration": 29,
    "start_time": "2021-12-21T12:40:00.129Z"
   },
   {
    "duration": 932,
    "start_time": "2021-12-21T12:41:00.121Z"
   },
   {
    "duration": 147,
    "start_time": "2021-12-21T12:41:01.056Z"
   },
   {
    "duration": 14,
    "start_time": "2021-12-21T12:41:01.206Z"
   },
   {
    "duration": 1678,
    "start_time": "2021-12-21T12:41:01.223Z"
   },
   {
    "duration": 8310,
    "start_time": "2021-12-21T12:41:02.903Z"
   },
   {
    "duration": 35,
    "start_time": "2021-12-21T12:41:11.216Z"
   },
   {
    "duration": 16,
    "start_time": "2021-12-21T12:41:11.254Z"
   },
   {
    "duration": 55,
    "start_time": "2021-12-21T12:41:11.274Z"
   },
   {
    "duration": 87,
    "start_time": "2021-12-21T12:41:11.331Z"
   },
   {
    "duration": 6,
    "start_time": "2021-12-21T12:41:11.421Z"
   },
   {
    "duration": 33,
    "start_time": "2021-12-21T12:41:11.429Z"
   },
   {
    "duration": 18,
    "start_time": "2021-12-21T12:41:11.464Z"
   },
   {
    "duration": 5,
    "start_time": "2021-12-21T12:41:11.485Z"
   },
   {
    "duration": 5,
    "start_time": "2021-12-21T12:41:11.492Z"
   },
   {
    "duration": 27,
    "start_time": "2021-12-21T12:41:11.500Z"
   },
   {
    "duration": 16,
    "start_time": "2021-12-21T12:41:11.529Z"
   },
   {
    "duration": 16,
    "start_time": "2021-12-21T12:41:11.547Z"
   },
   {
    "duration": 11,
    "start_time": "2021-12-21T12:41:11.565Z"
   },
   {
    "duration": 7,
    "start_time": "2021-12-21T12:41:11.617Z"
   },
   {
    "duration": 6,
    "start_time": "2021-12-21T12:41:11.626Z"
   },
   {
    "duration": 5,
    "start_time": "2021-12-21T12:41:11.634Z"
   },
   {
    "duration": 6,
    "start_time": "2021-12-21T12:41:11.642Z"
   },
   {
    "duration": 15,
    "start_time": "2021-12-21T12:41:11.653Z"
   },
   {
    "duration": 76,
    "start_time": "2021-12-21T12:41:11.671Z"
   },
   {
    "duration": 6,
    "start_time": "2021-12-21T12:41:11.750Z"
   },
   {
    "duration": 8,
    "start_time": "2021-12-21T12:41:11.759Z"
   },
   {
    "duration": 54,
    "start_time": "2021-12-21T12:41:11.770Z"
   },
   {
    "duration": 13,
    "start_time": "2021-12-21T12:41:11.826Z"
   },
   {
    "duration": 8,
    "start_time": "2021-12-21T12:41:11.841Z"
   },
   {
    "duration": 16,
    "start_time": "2021-12-21T12:41:11.852Z"
   },
   {
    "duration": 58,
    "start_time": "2021-12-21T12:41:11.871Z"
   },
   {
    "duration": 17,
    "start_time": "2021-12-21T12:41:11.931Z"
   },
   {
    "duration": 6,
    "start_time": "2021-12-21T12:41:11.950Z"
   },
   {
    "duration": 74,
    "start_time": "2021-12-21T12:41:11.958Z"
   },
   {
    "duration": 11,
    "start_time": "2021-12-21T12:41:12.035Z"
   },
   {
    "duration": 11,
    "start_time": "2021-12-21T12:41:12.049Z"
   },
   {
    "duration": 7260,
    "start_time": "2021-12-21T12:41:12.063Z"
   },
   {
    "duration": 6,
    "start_time": "2021-12-21T12:41:19.325Z"
   },
   {
    "duration": 18,
    "start_time": "2021-12-21T12:41:19.333Z"
   },
   {
    "duration": 7,
    "start_time": "2021-12-21T12:41:19.353Z"
   },
   {
    "duration": 64,
    "start_time": "2021-12-21T12:41:19.362Z"
   },
   {
    "duration": 19,
    "start_time": "2021-12-21T12:41:19.429Z"
   },
   {
    "duration": 354,
    "start_time": "2021-12-21T12:41:19.450Z"
   },
   {
    "duration": 368,
    "start_time": "2021-12-21T12:41:19.806Z"
   },
   {
    "duration": 405,
    "start_time": "2021-12-21T12:41:20.176Z"
   },
   {
    "duration": 40,
    "start_time": "2021-12-21T12:41:20.583Z"
   },
   {
    "duration": 16,
    "start_time": "2021-12-21T12:41:20.625Z"
   },
   {
    "duration": 557,
    "start_time": "2021-12-21T12:41:20.643Z"
   },
   {
    "duration": 491,
    "start_time": "2021-12-21T12:41:21.203Z"
   },
   {
    "duration": 7,
    "start_time": "2021-12-21T12:41:21.697Z"
   },
   {
    "duration": 353,
    "start_time": "2021-12-21T12:41:21.718Z"
   },
   {
    "duration": 806,
    "start_time": "2021-12-21T12:41:22.074Z"
   },
   {
    "duration": 752,
    "start_time": "2021-12-21T12:41:22.882Z"
   },
   {
    "duration": 834,
    "start_time": "2021-12-21T12:41:23.637Z"
   },
   {
    "duration": 43,
    "start_time": "2021-12-21T12:41:24.473Z"
   },
   {
    "duration": 1575,
    "start_time": "2021-12-21T12:41:24.518Z"
   },
   {
    "duration": 1625,
    "start_time": "2021-12-21T12:41:26.095Z"
   },
   {
    "duration": 905,
    "start_time": "2021-12-21T12:53:56.620Z"
   },
   {
    "duration": 143,
    "start_time": "2021-12-21T12:53:57.527Z"
   },
   {
    "duration": 14,
    "start_time": "2021-12-21T12:53:57.673Z"
   },
   {
    "duration": 1861,
    "start_time": "2021-12-21T12:53:57.690Z"
   },
   {
    "duration": 8557,
    "start_time": "2021-12-21T12:53:59.553Z"
   },
   {
    "duration": 36,
    "start_time": "2021-12-21T12:54:08.112Z"
   },
   {
    "duration": 16,
    "start_time": "2021-12-21T12:54:08.150Z"
   },
   {
    "duration": 51,
    "start_time": "2021-12-21T12:54:08.169Z"
   },
   {
    "duration": 96,
    "start_time": "2021-12-21T12:54:08.223Z"
   },
   {
    "duration": 7,
    "start_time": "2021-12-21T12:54:08.322Z"
   },
   {
    "duration": 15,
    "start_time": "2021-12-21T12:54:08.332Z"
   },
   {
    "duration": 7,
    "start_time": "2021-12-21T12:54:08.350Z"
   },
   {
    "duration": 9,
    "start_time": "2021-12-21T12:54:08.360Z"
   },
   {
    "duration": 6,
    "start_time": "2021-12-21T12:54:08.372Z"
   },
   {
    "duration": 24,
    "start_time": "2021-12-21T12:54:08.418Z"
   },
   {
    "duration": 19,
    "start_time": "2021-12-21T12:54:08.444Z"
   },
   {
    "duration": 58,
    "start_time": "2021-12-21T12:54:08.466Z"
   },
   {
    "duration": 11,
    "start_time": "2021-12-21T12:54:08.527Z"
   },
   {
    "duration": 9,
    "start_time": "2021-12-21T12:54:08.541Z"
   },
   {
    "duration": 7,
    "start_time": "2021-12-21T12:54:08.553Z"
   },
   {
    "duration": 9,
    "start_time": "2021-12-21T12:54:08.562Z"
   },
   {
    "duration": 43,
    "start_time": "2021-12-21T12:54:08.574Z"
   },
   {
    "duration": 16,
    "start_time": "2021-12-21T12:54:08.623Z"
   },
   {
    "duration": 40,
    "start_time": "2021-12-21T12:54:08.642Z"
   },
   {
    "duration": 7,
    "start_time": "2021-12-21T12:54:08.684Z"
   },
   {
    "duration": 8,
    "start_time": "2021-12-21T12:54:08.719Z"
   },
   {
    "duration": 27,
    "start_time": "2021-12-21T12:54:08.729Z"
   },
   {
    "duration": 13,
    "start_time": "2021-12-21T12:54:08.758Z"
   },
   {
    "duration": 47,
    "start_time": "2021-12-21T12:54:08.773Z"
   },
   {
    "duration": 17,
    "start_time": "2021-12-21T12:54:08.823Z"
   },
   {
    "duration": 14,
    "start_time": "2021-12-21T12:54:08.842Z"
   },
   {
    "duration": 21,
    "start_time": "2021-12-21T12:54:08.858Z"
   },
   {
    "duration": 6,
    "start_time": "2021-12-21T12:54:08.917Z"
   },
   {
    "duration": 43,
    "start_time": "2021-12-21T12:54:08.926Z"
   },
   {
    "duration": 12,
    "start_time": "2021-12-21T12:54:08.971Z"
   },
   {
    "duration": 12,
    "start_time": "2021-12-21T12:54:09.017Z"
   },
   {
    "duration": 6963,
    "start_time": "2021-12-21T12:54:09.032Z"
   },
   {
    "duration": 6,
    "start_time": "2021-12-21T12:54:15.997Z"
   },
   {
    "duration": 18,
    "start_time": "2021-12-21T12:54:16.018Z"
   },
   {
    "duration": 10,
    "start_time": "2021-12-21T12:54:16.038Z"
   },
   {
    "duration": 27,
    "start_time": "2021-12-21T12:54:16.050Z"
   },
   {
    "duration": 50,
    "start_time": "2021-12-21T12:54:16.079Z"
   },
   {
    "duration": 379,
    "start_time": "2021-12-21T12:54:16.132Z"
   },
   {
    "duration": 377,
    "start_time": "2021-12-21T12:54:16.518Z"
   },
   {
    "duration": 405,
    "start_time": "2021-12-21T12:54:16.898Z"
   },
   {
    "duration": 36,
    "start_time": "2021-12-21T12:54:17.305Z"
   },
   {
    "duration": 16,
    "start_time": "2021-12-21T12:54:17.344Z"
   },
   {
    "duration": 585,
    "start_time": "2021-12-21T12:54:17.362Z"
   },
   {
    "duration": 485,
    "start_time": "2021-12-21T12:54:17.949Z"
   },
   {
    "duration": 6,
    "start_time": "2021-12-21T12:54:18.437Z"
   },
   {
    "duration": 346,
    "start_time": "2021-12-21T12:54:18.445Z"
   },
   {
    "duration": 795,
    "start_time": "2021-12-21T12:54:18.794Z"
   },
   {
    "duration": 769,
    "start_time": "2021-12-21T12:54:19.592Z"
   },
   {
    "duration": 766,
    "start_time": "2021-12-21T12:54:20.364Z"
   },
   {
    "duration": 30,
    "start_time": "2021-12-21T12:54:21.132Z"
   },
   {
    "duration": 1840,
    "start_time": "2021-12-21T12:54:21.164Z"
   },
   {
    "duration": 1966,
    "start_time": "2021-12-21T12:54:23.007Z"
   },
   {
    "duration": 1333,
    "start_time": "2021-12-21T12:56:17.970Z"
   },
   {
    "duration": 1203,
    "start_time": "2021-12-21T12:57:17.327Z"
   },
   {
    "duration": 1193,
    "start_time": "2021-12-21T12:57:32.810Z"
   },
   {
    "duration": 1252,
    "start_time": "2021-12-21T12:57:51.067Z"
   },
   {
    "duration": 1203,
    "start_time": "2021-12-21T13:01:34.887Z"
   },
   {
    "duration": 1749,
    "start_time": "2021-12-21T13:01:44.768Z"
   },
   {
    "duration": 895,
    "start_time": "2021-12-21T13:03:34.981Z"
   },
   {
    "duration": 145,
    "start_time": "2021-12-21T13:03:35.879Z"
   },
   {
    "duration": 14,
    "start_time": "2021-12-21T13:03:36.027Z"
   },
   {
    "duration": 1761,
    "start_time": "2021-12-21T13:03:36.044Z"
   },
   {
    "duration": 8238,
    "start_time": "2021-12-21T13:03:37.808Z"
   },
   {
    "duration": 35,
    "start_time": "2021-12-21T13:03:46.048Z"
   },
   {
    "duration": 37,
    "start_time": "2021-12-21T13:03:46.085Z"
   },
   {
    "duration": 26,
    "start_time": "2021-12-21T13:03:46.126Z"
   },
   {
    "duration": 95,
    "start_time": "2021-12-21T13:03:46.155Z"
   },
   {
    "duration": 17,
    "start_time": "2021-12-21T13:03:46.253Z"
   },
   {
    "duration": 23,
    "start_time": "2021-12-21T13:03:46.273Z"
   },
   {
    "duration": 9,
    "start_time": "2021-12-21T13:03:46.298Z"
   },
   {
    "duration": 13,
    "start_time": "2021-12-21T13:03:46.309Z"
   },
   {
    "duration": 6,
    "start_time": "2021-12-21T13:03:46.324Z"
   },
   {
    "duration": 33,
    "start_time": "2021-12-21T13:03:46.333Z"
   },
   {
    "duration": 17,
    "start_time": "2021-12-21T13:03:46.369Z"
   },
   {
    "duration": 36,
    "start_time": "2021-12-21T13:03:46.389Z"
   },
   {
    "duration": 12,
    "start_time": "2021-12-21T13:03:46.427Z"
   },
   {
    "duration": 19,
    "start_time": "2021-12-21T13:03:46.441Z"
   },
   {
    "duration": 17,
    "start_time": "2021-12-21T13:03:46.463Z"
   },
   {
    "duration": 15,
    "start_time": "2021-12-21T13:03:46.483Z"
   },
   {
    "duration": 16,
    "start_time": "2021-12-21T13:03:46.501Z"
   },
   {
    "duration": 14,
    "start_time": "2021-12-21T13:03:46.523Z"
   },
   {
    "duration": 39,
    "start_time": "2021-12-21T13:03:46.540Z"
   },
   {
    "duration": 5,
    "start_time": "2021-12-21T13:03:46.581Z"
   },
   {
    "duration": 8,
    "start_time": "2021-12-21T13:03:46.618Z"
   },
   {
    "duration": 26,
    "start_time": "2021-12-21T13:03:46.628Z"
   },
   {
    "duration": 12,
    "start_time": "2021-12-21T13:03:46.656Z"
   },
   {
    "duration": 8,
    "start_time": "2021-12-21T13:03:46.671Z"
   },
   {
    "duration": 46,
    "start_time": "2021-12-21T13:03:46.681Z"
   },
   {
    "duration": 15,
    "start_time": "2021-12-21T13:03:46.730Z"
   },
   {
    "duration": 20,
    "start_time": "2021-12-21T13:03:46.747Z"
   },
   {
    "duration": 6,
    "start_time": "2021-12-21T13:03:46.769Z"
   },
   {
    "duration": 41,
    "start_time": "2021-12-21T13:03:46.818Z"
   },
   {
    "duration": 14,
    "start_time": "2021-12-21T13:03:46.861Z"
   },
   {
    "duration": 41,
    "start_time": "2021-12-21T13:03:46.878Z"
   },
   {
    "duration": 7061,
    "start_time": "2021-12-21T13:03:46.921Z"
   },
   {
    "duration": 4,
    "start_time": "2021-12-21T13:03:53.985Z"
   },
   {
    "duration": 29,
    "start_time": "2021-12-21T13:03:53.992Z"
   },
   {
    "duration": 8,
    "start_time": "2021-12-21T13:03:54.023Z"
   },
   {
    "duration": 25,
    "start_time": "2021-12-21T13:03:54.033Z"
   },
   {
    "duration": 18,
    "start_time": "2021-12-21T13:03:54.061Z"
   },
   {
    "duration": 366,
    "start_time": "2021-12-21T13:03:54.081Z"
   },
   {
    "duration": 379,
    "start_time": "2021-12-21T13:03:54.450Z"
   },
   {
    "duration": 406,
    "start_time": "2021-12-21T13:03:54.831Z"
   },
   {
    "duration": 27,
    "start_time": "2021-12-21T13:03:55.239Z"
   },
   {
    "duration": 15,
    "start_time": "2021-12-21T13:03:55.268Z"
   },
   {
    "duration": 582,
    "start_time": "2021-12-21T13:03:55.286Z"
   },
   {
    "duration": 501,
    "start_time": "2021-12-21T13:03:55.871Z"
   },
   {
    "duration": 9,
    "start_time": "2021-12-21T13:03:56.375Z"
   },
   {
    "duration": 371,
    "start_time": "2021-12-21T13:03:56.387Z"
   },
   {
    "duration": 807,
    "start_time": "2021-12-21T13:03:56.760Z"
   },
   {
    "duration": 764,
    "start_time": "2021-12-21T13:03:57.571Z"
   },
   {
    "duration": 891,
    "start_time": "2021-12-21T13:03:58.337Z"
   },
   {
    "duration": 28,
    "start_time": "2021-12-21T13:03:59.230Z"
   },
   {
    "duration": 1927,
    "start_time": "2021-12-21T13:03:59.260Z"
   },
   {
    "duration": 1685,
    "start_time": "2021-12-21T13:04:01.190Z"
   },
   {
    "duration": 1779,
    "start_time": "2021-12-21T13:06:11.724Z"
   },
   {
    "duration": 1690,
    "start_time": "2021-12-21T13:06:59.569Z"
   },
   {
    "duration": 864,
    "start_time": "2021-12-21T13:08:28.111Z"
   },
   {
    "duration": 138,
    "start_time": "2021-12-21T13:08:28.978Z"
   },
   {
    "duration": 16,
    "start_time": "2021-12-21T13:08:29.119Z"
   },
   {
    "duration": 1729,
    "start_time": "2021-12-21T13:08:29.138Z"
   },
   {
    "duration": 8033,
    "start_time": "2021-12-21T13:08:30.870Z"
   },
   {
    "duration": 42,
    "start_time": "2021-12-21T13:08:38.905Z"
   },
   {
    "duration": 16,
    "start_time": "2021-12-21T13:08:38.950Z"
   },
   {
    "duration": 53,
    "start_time": "2021-12-21T13:08:38.970Z"
   },
   {
    "duration": 95,
    "start_time": "2021-12-21T13:08:39.026Z"
   },
   {
    "duration": 6,
    "start_time": "2021-12-21T13:08:39.123Z"
   },
   {
    "duration": 15,
    "start_time": "2021-12-21T13:08:39.131Z"
   },
   {
    "duration": 9,
    "start_time": "2021-12-21T13:08:39.149Z"
   },
   {
    "duration": 6,
    "start_time": "2021-12-21T13:08:39.160Z"
   },
   {
    "duration": 19,
    "start_time": "2021-12-21T13:08:39.168Z"
   },
   {
    "duration": 55,
    "start_time": "2021-12-21T13:08:39.190Z"
   },
   {
    "duration": 25,
    "start_time": "2021-12-21T13:08:39.248Z"
   },
   {
    "duration": 20,
    "start_time": "2021-12-21T13:08:39.276Z"
   },
   {
    "duration": 21,
    "start_time": "2021-12-21T13:08:39.299Z"
   },
   {
    "duration": 22,
    "start_time": "2021-12-21T13:08:39.322Z"
   },
   {
    "duration": 13,
    "start_time": "2021-12-21T13:08:39.347Z"
   },
   {
    "duration": 27,
    "start_time": "2021-12-21T13:08:39.363Z"
   },
   {
    "duration": 14,
    "start_time": "2021-12-21T13:08:39.392Z"
   },
   {
    "duration": 20,
    "start_time": "2021-12-21T13:08:39.412Z"
   },
   {
    "duration": 42,
    "start_time": "2021-12-21T13:08:39.435Z"
   },
   {
    "duration": 7,
    "start_time": "2021-12-21T13:08:39.479Z"
   },
   {
    "duration": 8,
    "start_time": "2021-12-21T13:08:39.489Z"
   },
   {
    "duration": 26,
    "start_time": "2021-12-21T13:08:39.519Z"
   },
   {
    "duration": 15,
    "start_time": "2021-12-21T13:08:39.549Z"
   },
   {
    "duration": 7,
    "start_time": "2021-12-21T13:08:39.567Z"
   },
   {
    "duration": 52,
    "start_time": "2021-12-21T13:08:39.576Z"
   },
   {
    "duration": 13,
    "start_time": "2021-12-21T13:08:39.631Z"
   },
   {
    "duration": 19,
    "start_time": "2021-12-21T13:08:39.646Z"
   },
   {
    "duration": 6,
    "start_time": "2021-12-21T13:08:39.668Z"
   },
   {
    "duration": 47,
    "start_time": "2021-12-21T13:08:39.718Z"
   },
   {
    "duration": 12,
    "start_time": "2021-12-21T13:08:39.768Z"
   },
   {
    "duration": 40,
    "start_time": "2021-12-21T13:08:39.783Z"
   },
   {
    "duration": 6701,
    "start_time": "2021-12-21T13:08:39.826Z"
   },
   {
    "duration": 6,
    "start_time": "2021-12-21T13:08:46.530Z"
   },
   {
    "duration": 19,
    "start_time": "2021-12-21T13:08:46.539Z"
   },
   {
    "duration": 33,
    "start_time": "2021-12-21T13:08:46.561Z"
   },
   {
    "duration": 42,
    "start_time": "2021-12-21T13:08:46.597Z"
   },
   {
    "duration": 20,
    "start_time": "2021-12-21T13:08:46.642Z"
   },
   {
    "duration": 380,
    "start_time": "2021-12-21T13:08:46.665Z"
   },
   {
    "duration": 397,
    "start_time": "2021-12-21T13:08:47.047Z"
   },
   {
    "duration": 533,
    "start_time": "2021-12-21T13:08:47.447Z"
   },
   {
    "duration": 40,
    "start_time": "2021-12-21T13:08:47.982Z"
   },
   {
    "duration": 15,
    "start_time": "2021-12-21T13:08:48.025Z"
   },
   {
    "duration": 580,
    "start_time": "2021-12-21T13:08:48.043Z"
   },
   {
    "duration": 466,
    "start_time": "2021-12-21T13:08:48.625Z"
   },
   {
    "duration": 6,
    "start_time": "2021-12-21T13:08:49.094Z"
   },
   {
    "duration": 342,
    "start_time": "2021-12-21T13:08:49.117Z"
   },
   {
    "duration": 896,
    "start_time": "2021-12-21T13:08:49.461Z"
   },
   {
    "duration": 745,
    "start_time": "2021-12-21T13:08:50.360Z"
   },
   {
    "duration": 745,
    "start_time": "2021-12-21T13:08:51.107Z"
   },
   {
    "duration": 28,
    "start_time": "2021-12-21T13:08:51.854Z"
   },
   {
    "duration": 1558,
    "start_time": "2021-12-21T13:08:51.884Z"
   },
   {
    "duration": 1987,
    "start_time": "2021-12-21T13:08:53.445Z"
   },
   {
    "duration": 589,
    "start_time": "2021-12-22T04:55:47.735Z"
   },
   {
    "duration": 174,
    "start_time": "2021-12-22T04:55:48.326Z"
   },
   {
    "duration": 9,
    "start_time": "2021-12-22T04:55:48.502Z"
   },
   {
    "duration": 998,
    "start_time": "2021-12-22T04:55:48.513Z"
   },
   {
    "duration": 4833,
    "start_time": "2021-12-22T04:55:49.512Z"
   },
   {
    "duration": 23,
    "start_time": "2021-12-22T04:55:54.347Z"
   },
   {
    "duration": 29,
    "start_time": "2021-12-22T04:55:54.371Z"
   },
   {
    "duration": 14,
    "start_time": "2021-12-22T04:55:54.402Z"
   },
   {
    "duration": 48,
    "start_time": "2021-12-22T04:55:54.419Z"
   },
   {
    "duration": 24,
    "start_time": "2021-12-22T04:55:54.469Z"
   },
   {
    "duration": 6,
    "start_time": "2021-12-22T04:55:54.494Z"
   },
   {
    "duration": 4,
    "start_time": "2021-12-22T04:55:54.501Z"
   },
   {
    "duration": 8,
    "start_time": "2021-12-22T04:55:54.507Z"
   },
   {
    "duration": 8,
    "start_time": "2021-12-22T04:55:54.516Z"
   },
   {
    "duration": 17,
    "start_time": "2021-12-22T04:55:54.525Z"
   },
   {
    "duration": 12,
    "start_time": "2021-12-22T04:55:54.543Z"
   },
   {
    "duration": 36,
    "start_time": "2021-12-22T04:55:54.556Z"
   },
   {
    "duration": 9,
    "start_time": "2021-12-22T04:55:54.594Z"
   },
   {
    "duration": 6,
    "start_time": "2021-12-22T04:55:54.604Z"
   },
   {
    "duration": 4,
    "start_time": "2021-12-22T04:55:54.612Z"
   },
   {
    "duration": 6,
    "start_time": "2021-12-22T04:55:54.618Z"
   },
   {
    "duration": 7,
    "start_time": "2021-12-22T04:55:54.626Z"
   },
   {
    "duration": 15,
    "start_time": "2021-12-22T04:55:54.635Z"
   },
   {
    "duration": 50,
    "start_time": "2021-12-22T04:55:54.651Z"
   },
   {
    "duration": 5,
    "start_time": "2021-12-22T04:55:54.702Z"
   },
   {
    "duration": 7,
    "start_time": "2021-12-22T04:55:54.709Z"
   },
   {
    "duration": 16,
    "start_time": "2021-12-22T04:55:54.720Z"
   },
   {
    "duration": 9,
    "start_time": "2021-12-22T04:55:54.738Z"
   },
   {
    "duration": 6,
    "start_time": "2021-12-22T04:55:54.748Z"
   },
   {
    "duration": 43,
    "start_time": "2021-12-22T04:55:54.756Z"
   },
   {
    "duration": 8,
    "start_time": "2021-12-22T04:55:54.801Z"
   },
   {
    "duration": 18,
    "start_time": "2021-12-22T04:55:54.811Z"
   },
   {
    "duration": 5,
    "start_time": "2021-12-22T04:55:54.830Z"
   },
   {
    "duration": 56,
    "start_time": "2021-12-22T04:55:54.836Z"
   },
   {
    "duration": 6,
    "start_time": "2021-12-22T04:55:54.894Z"
   },
   {
    "duration": 8,
    "start_time": "2021-12-22T04:55:54.902Z"
   },
   {
    "duration": 3636,
    "start_time": "2021-12-22T04:55:54.912Z"
   },
   {
    "duration": 4,
    "start_time": "2021-12-22T04:55:58.549Z"
   },
   {
    "duration": 13,
    "start_time": "2021-12-22T04:55:58.554Z"
   },
   {
    "duration": 7,
    "start_time": "2021-12-22T04:55:58.568Z"
   },
   {
    "duration": 29,
    "start_time": "2021-12-22T04:55:58.577Z"
   },
   {
    "duration": 16,
    "start_time": "2021-12-22T04:55:58.608Z"
   },
   {
    "duration": 223,
    "start_time": "2021-12-22T04:55:58.625Z"
   },
   {
    "duration": 230,
    "start_time": "2021-12-22T04:55:58.850Z"
   },
   {
    "duration": 250,
    "start_time": "2021-12-22T04:55:59.082Z"
   },
   {
    "duration": 18,
    "start_time": "2021-12-22T04:55:59.334Z"
   },
   {
    "duration": 12,
    "start_time": "2021-12-22T04:55:59.353Z"
   },
   {
    "duration": 359,
    "start_time": "2021-12-22T04:55:59.367Z"
   },
   {
    "duration": 285,
    "start_time": "2021-12-22T04:55:59.728Z"
   },
   {
    "duration": 4,
    "start_time": "2021-12-22T04:56:00.015Z"
   },
   {
    "duration": 223,
    "start_time": "2021-12-22T04:56:00.021Z"
   },
   {
    "duration": 505,
    "start_time": "2021-12-22T04:56:00.245Z"
   },
   {
    "duration": 477,
    "start_time": "2021-12-22T04:56:00.752Z"
   },
   {
    "duration": 475,
    "start_time": "2021-12-22T04:56:01.230Z"
   },
   {
    "duration": 19,
    "start_time": "2021-12-22T04:56:01.707Z"
   },
   {
    "duration": 982,
    "start_time": "2021-12-22T04:56:01.728Z"
   },
   {
    "duration": 1020,
    "start_time": "2021-12-22T04:56:02.712Z"
   },
   {
    "duration": 9,
    "start_time": "2021-12-22T05:03:36.635Z"
   },
   {
    "duration": 406,
    "start_time": "2021-12-22T05:05:00.223Z"
   },
   {
    "duration": 441,
    "start_time": "2021-12-22T05:05:13.434Z"
   },
   {
    "duration": 5247,
    "start_time": "2021-12-22T05:05:14.643Z"
   },
   {
    "duration": 430,
    "start_time": "2021-12-22T05:05:42.806Z"
   },
   {
    "duration": 5189,
    "start_time": "2021-12-22T05:05:49.693Z"
   },
   {
    "duration": 1132,
    "start_time": "2021-12-22T05:06:41.598Z"
   },
   {
    "duration": 23,
    "start_time": "2021-12-22T05:09:06.427Z"
   },
   {
    "duration": 23,
    "start_time": "2021-12-22T05:09:33.606Z"
   },
   {
    "duration": 24,
    "start_time": "2021-12-22T05:09:54.407Z"
   },
   {
    "duration": 24,
    "start_time": "2021-12-22T05:10:15.489Z"
   }
  ],
  "colab": {
   "name": "DA+. Сборный проект 1. Шаблон (1).ipynb",
   "provenance": []
  },
  "kernelspec": {
   "display_name": "Python 3 (ipykernel)",
   "language": "python",
   "name": "python3"
  },
  "language_info": {
   "codemirror_mode": {
    "name": "ipython",
    "version": 3
   },
   "file_extension": ".py",
   "mimetype": "text/x-python",
   "name": "python",
   "nbconvert_exporter": "python",
   "pygments_lexer": "ipython3",
   "version": "3.9.12"
  },
  "toc": {
   "base_numbering": 1,
   "nav_menu": {},
   "number_sections": true,
   "sideBar": true,
   "skip_h1_title": true,
   "title_cell": "Table of Contents",
   "title_sidebar": "Contents",
   "toc_cell": false,
   "toc_position": {
    "height": "calc(100% - 180px)",
    "left": "10px",
    "top": "150px",
    "width": "375.391px"
   },
   "toc_section_display": true,
   "toc_window_display": true
  }
 },
 "nbformat": 4,
 "nbformat_minor": 4
}
