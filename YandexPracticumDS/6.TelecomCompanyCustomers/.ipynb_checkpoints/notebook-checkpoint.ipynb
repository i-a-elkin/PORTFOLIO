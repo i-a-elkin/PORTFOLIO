{
 "cells": [
  {
   "cell_type": "markdown",
   "id": "321405d7",
   "metadata": {},
   "source": [
    "# Рекомендация тарифов\n",
    "\n",
    "Оператор мобильной связи «Мегалайн» выяснил: многие клиенты пользуются архивными тарифами. Они хотят построить систему, способную проанализировать поведение клиентов и предложить пользователям новый тариф: «Смарт» или «Ультра».\n",
    "\n",
    "В вашем распоряжении данные о поведении клиентов, которые уже перешли на эти тарифы. Нужно построить модель для задачи классификации, которая выберет подходящий тариф. Предобработка данных не понадобится.\n",
    "\n",
    "Постройте модель с максимально большим значением accuracy. Чтобы сдать проект успешно, нужно довести долю правильных ответов по крайней мере до 0.75. Проверьте accuracy на тестовой выборке."
   ]
  },
  {
   "cell_type": "markdown",
   "id": "b7d67ace",
   "metadata": {
    "tags": []
   },
   "source": [
    "## Описание данных\n",
    "\n",
    "Каждый объект в наборе данных — это информация о поведении одного пользователя за месяц. Известно:\n",
    "- сalls — количество звонков,\n",
    "- minutes — суммарная длительность звонков в минутах,\n",
    "- messages — количество sms-сообщений,\n",
    "- mb_used — израсходованный интернет-трафик в Мб,\n",
    "- is_ultra — каким тарифом пользовался в течение месяца («Ультра» — 1, «Смарт» — 0)."
   ]
  },
  {
   "cell_type": "markdown",
   "id": "e24a1bef",
   "metadata": {},
   "source": [
    "## Шаг 1. Импорт библиотек и изучение файлов"
   ]
  },
  {
   "cell_type": "code",
   "execution_count": 1,
   "id": "936dfd32",
   "metadata": {},
   "outputs": [],
   "source": [
    "# импортируем библиотеки\n",
    "import pandas as pd\n",
    "import numpy as np\n",
    "from matplotlib import pyplot as plt\n",
    "from sklearn.model_selection import train_test_split\n",
    "from sklearn.tree import DecisionTreeClassifier\n",
    "from sklearn.metrics import accuracy_score\n",
    "from sklearn.ensemble import RandomForestClassifier\n",
    "from sklearn.linear_model import LogisticRegression\n",
    "from sklearn.dummy import DummyClassifier"
   ]
  },
  {
   "cell_type": "code",
   "execution_count": 2,
   "id": "159fd8f7",
   "metadata": {},
   "outputs": [
    {
     "data": {
      "text/html": [
       "<style  type=\"text/css\" >\n",
       "</style><table id=\"T_6964e_\" ><caption>Данные о поведении клиентов</caption><thead>    <tr>        <th class=\"blank level0\" ></th>        <th class=\"col_heading level0 col0\" >calls</th>        <th class=\"col_heading level0 col1\" >minutes</th>        <th class=\"col_heading level0 col2\" >messages</th>        <th class=\"col_heading level0 col3\" >mb_used</th>        <th class=\"col_heading level0 col4\" >is_ultra</th>    </tr></thead><tbody>\n",
       "                <tr>\n",
       "                        <th id=\"T_6964e_level0_row0\" class=\"row_heading level0 row0\" >0</th>\n",
       "                        <td id=\"T_6964e_row0_col0\" class=\"data row0 col0\" >40.000000</td>\n",
       "                        <td id=\"T_6964e_row0_col1\" class=\"data row0 col1\" >311.900000</td>\n",
       "                        <td id=\"T_6964e_row0_col2\" class=\"data row0 col2\" >83.000000</td>\n",
       "                        <td id=\"T_6964e_row0_col3\" class=\"data row0 col3\" >19915.420000</td>\n",
       "                        <td id=\"T_6964e_row0_col4\" class=\"data row0 col4\" >0</td>\n",
       "            </tr>\n",
       "            <tr>\n",
       "                        <th id=\"T_6964e_level0_row1\" class=\"row_heading level0 row1\" >1</th>\n",
       "                        <td id=\"T_6964e_row1_col0\" class=\"data row1 col0\" >85.000000</td>\n",
       "                        <td id=\"T_6964e_row1_col1\" class=\"data row1 col1\" >516.750000</td>\n",
       "                        <td id=\"T_6964e_row1_col2\" class=\"data row1 col2\" >56.000000</td>\n",
       "                        <td id=\"T_6964e_row1_col3\" class=\"data row1 col3\" >22696.960000</td>\n",
       "                        <td id=\"T_6964e_row1_col4\" class=\"data row1 col4\" >0</td>\n",
       "            </tr>\n",
       "            <tr>\n",
       "                        <th id=\"T_6964e_level0_row2\" class=\"row_heading level0 row2\" >2</th>\n",
       "                        <td id=\"T_6964e_row2_col0\" class=\"data row2 col0\" >77.000000</td>\n",
       "                        <td id=\"T_6964e_row2_col1\" class=\"data row2 col1\" >467.660000</td>\n",
       "                        <td id=\"T_6964e_row2_col2\" class=\"data row2 col2\" >86.000000</td>\n",
       "                        <td id=\"T_6964e_row2_col3\" class=\"data row2 col3\" >21060.450000</td>\n",
       "                        <td id=\"T_6964e_row2_col4\" class=\"data row2 col4\" >0</td>\n",
       "            </tr>\n",
       "            <tr>\n",
       "                        <th id=\"T_6964e_level0_row3\" class=\"row_heading level0 row3\" >3</th>\n",
       "                        <td id=\"T_6964e_row3_col0\" class=\"data row3 col0\" >106.000000</td>\n",
       "                        <td id=\"T_6964e_row3_col1\" class=\"data row3 col1\" >745.530000</td>\n",
       "                        <td id=\"T_6964e_row3_col2\" class=\"data row3 col2\" >81.000000</td>\n",
       "                        <td id=\"T_6964e_row3_col3\" class=\"data row3 col3\" >8437.390000</td>\n",
       "                        <td id=\"T_6964e_row3_col4\" class=\"data row3 col4\" >1</td>\n",
       "            </tr>\n",
       "            <tr>\n",
       "                        <th id=\"T_6964e_level0_row4\" class=\"row_heading level0 row4\" >4</th>\n",
       "                        <td id=\"T_6964e_row4_col0\" class=\"data row4 col0\" >66.000000</td>\n",
       "                        <td id=\"T_6964e_row4_col1\" class=\"data row4 col1\" >418.740000</td>\n",
       "                        <td id=\"T_6964e_row4_col2\" class=\"data row4 col2\" >1.000000</td>\n",
       "                        <td id=\"T_6964e_row4_col3\" class=\"data row4 col3\" >14502.750000</td>\n",
       "                        <td id=\"T_6964e_row4_col4\" class=\"data row4 col4\" >0</td>\n",
       "            </tr>\n",
       "    </tbody></table>"
      ],
      "text/plain": [
       "<pandas.io.formats.style.Styler at 0x7f9a04361f10>"
      ]
     },
     "metadata": {},
     "output_type": "display_data"
    },
    {
     "name": "stdout",
     "output_type": "stream",
     "text": [
      "<class 'pandas.core.frame.DataFrame'>\n",
      "RangeIndex: 3214 entries, 0 to 3213\n",
      "Data columns (total 5 columns):\n",
      " #   Column    Non-Null Count  Dtype  \n",
      "---  ------    --------------  -----  \n",
      " 0   calls     3214 non-null   float64\n",
      " 1   minutes   3214 non-null   float64\n",
      " 2   messages  3214 non-null   float64\n",
      " 3   mb_used   3214 non-null   float64\n",
      " 4   is_ultra  3214 non-null   int64  \n",
      "dtypes: float64(4), int64(1)\n",
      "memory usage: 125.7 KB\n"
     ]
    }
   ],
   "source": [
    "# откроем файл и выведем информацию о нем\n",
    "df = pd.read_csv(\"datasets/users_behavior.csv\")\n",
    "display(df.head().style.set_caption(\"Данные о поведении клиентов\"))\n",
    "df.info()"
   ]
  },
  {
   "cell_type": "markdown",
   "id": "da47d099",
   "metadata": {},
   "source": [
    "## Шаг 2. Разделение данных на выборки"
   ]
  },
  {
   "cell_type": "code",
   "execution_count": 3,
   "id": "33d51e73",
   "metadata": {},
   "outputs": [
    {
     "name": "stdout",
     "output_type": "stream",
     "text": [
      "Размер обучающей выборки признаков: (1928, 4)\n",
      "Размер обучающей выборки целевого признака: (1928,)\n",
      "Размер валидационной выборки признаков: (643, 4)\n",
      "Размер валидационной выборки целевого признака: (643,)\n",
      "Размер тестовой выборки признаков: (643, 4)\n",
      "Размер тестовой выборки целевого признака: (643,)\n"
     ]
    }
   ],
   "source": [
    "features = df.drop([\"is_ultra\"], axis=1)\n",
    "target = df[\"is_ultra\"]\n",
    "\n",
    "# применим 2 раза train_test_split и разделим датафрейм в соотношении 60/20/20\n",
    "# сначала выделим 20% исходной выборки в качестве тестовой\n",
    "features_train_valid, features_test, target_train_valid, target_test = \\\n",
    "train_test_split(features, target, test_size=.2, random_state=12345)\n",
    "# затем выделим 25% от оставшейся части выборки в качестве валидационной\n",
    "features_train, features_valid, target_train, target_valid = \\\n",
    "train_test_split(features_train_valid, target_train_valid, test_size=.25, random_state=12345)\n",
    "\n",
    "print(\"Размер обучающей выборки признаков: \" + str(features_train.shape))\n",
    "print(\"Размер обучающей выборки целевого признака: \" + str(target_train.shape))\n",
    "print(\"Размер валидационной выборки признаков: \" + str(features_valid.shape))\n",
    "print(\"Размер валидационной выборки целевого признака: \" + str(target_valid.shape))\n",
    "print(\"Размер тестовой выборки признаков: \" + str(features_test.shape))\n",
    "print(\"Размер тестовой выборки целевого признака: \" + str(target_test.shape))"
   ]
  },
  {
   "cell_type": "markdown",
   "id": "52b4b895",
   "metadata": {},
   "source": [
    "Можно видеть, что исходная выборка разделилась в нужной нам пропорции."
   ]
  },
  {
   "cell_type": "markdown",
   "id": "2924338b",
   "metadata": {},
   "source": [
    "## Шаг 3. Исследование моделей"
   ]
  },
  {
   "cell_type": "markdown",
   "id": "ea487425",
   "metadata": {},
   "source": [
    "### Модель дерева решений"
   ]
  },
  {
   "cell_type": "code",
   "execution_count": 4,
   "id": "e41e4def",
   "metadata": {},
   "outputs": [
    {
     "name": "stdout",
     "output_type": "stream",
     "text": [
      "Доля правильных ответов лучшей модели на валидационной выборке       \n",
      "Дерево решений: 0.7947122861586314\n",
      "Гиперпараметры лучшей модели: \n",
      "DecisionTreeClassifier(criterion='entropy', max_depth=10, min_samples_leaf=9,\n",
      "                       random_state=12345)\n"
     ]
    }
   ],
   "source": [
    "best_model_tree = None\n",
    "best_accuracy_valid_tree = 0\n",
    "\n",
    "for c in [\"gini\", \"entropy\"]:\n",
    "    for d in range(1, 13):\n",
    "        for s in range(2, 5):\n",
    "            for l in range(1, 12):\n",
    "                model_tree = DecisionTreeClassifier(criterion=c, \n",
    "                                                    max_depth=d, \n",
    "                                                    min_samples_split=s, \n",
    "                                                    min_samples_leaf=l, \n",
    "                                                    random_state=12345)\n",
    "                model_tree.fit(features_train, target_train)\n",
    "                predict_tree = model_tree.predict(features_valid)\n",
    "                accuracy_tree = accuracy_score(target_valid, predict_tree)\n",
    "                if accuracy_tree > best_accuracy_valid_tree:\n",
    "                    best_accuracy_valid_tree = accuracy_tree\n",
    "                    best_model_tree = model_tree\n",
    "print(\"Доля правильных ответов лучшей модели на валидационной выборке \\\n",
    "      \\nДерево решений: \" + str(best_accuracy_valid_tree))\n",
    "print(\"Гиперпараметры лучшей модели: \\n\" + str(best_model_tree))"
   ]
  },
  {
   "cell_type": "markdown",
   "id": "850aa8f0",
   "metadata": {},
   "source": [
    "### Модель случайного леса"
   ]
  },
  {
   "cell_type": "code",
   "execution_count": 5,
   "id": "d432a9b5",
   "metadata": {},
   "outputs": [
    {
     "name": "stdout",
     "output_type": "stream",
     "text": [
      "Доля правильных ответов лучшей модели на валидационной выборке       \n",
      "Случайный лес: 0.8133748055987559\n",
      "Гиперпараметры лучшей модели: \n",
      "RandomForestClassifier(max_depth=18, min_samples_split=9, n_estimators=11,\n",
      "                       random_state=12345)\n"
     ]
    }
   ],
   "source": [
    "best_model_forest = None\n",
    "best_accuracy_valid_forest = 0\n",
    "\n",
    "for n in range(1, 16, 2):\n",
    "    for c in [\"gini\", \"entropy\"]:\n",
    "        for d in range(1, 21):\n",
    "            for s in range(2, 12):\n",
    "                for l in range(1, 5):\n",
    "                    model_forest = RandomForestClassifier(n_estimators=n, \n",
    "                                                          criterion=c, \n",
    "                                                          max_depth=d, \n",
    "                                                          min_samples_split=s, \n",
    "                                                          min_samples_leaf=l, \n",
    "                                                          random_state=12345)\n",
    "                    model_forest.fit(features_train, target_train)\n",
    "                    predict_forest = model_forest.predict(features_valid)\n",
    "                    accuracy_forest = accuracy_score(target_valid, predict_forest)\n",
    "                    if accuracy_forest > best_accuracy_valid_forest:\n",
    "                        best_accuracy_valid_forest = accuracy_forest\n",
    "                        best_model_forest = model_forest\n",
    "print(\"Доля правильных ответов лучшей модели на валидационной выборке \\\n",
    "      \\nСлучайный лес: \" + str(best_accuracy_valid_forest))\n",
    "print(\"Гиперпараметры лучшей модели: \\n\" + str(best_model_forest))"
   ]
  },
  {
   "cell_type": "markdown",
   "id": "9d6ea05d",
   "metadata": {},
   "source": [
    "### Модель логистической регрессии"
   ]
  },
  {
   "cell_type": "code",
   "execution_count": 6,
   "id": "2df392ba",
   "metadata": {},
   "outputs": [
    {
     "name": "stdout",
     "output_type": "stream",
     "text": [
      "Доля правильных ответов лучшей модели на валидационной выборке       \n",
      "Логистическая регрессия: 0.7371695178849145\n",
      "Гиперпараметры лучшей модели: \n",
      "LogisticRegression(max_iter=64, random_state=12345)\n"
     ]
    }
   ],
   "source": [
    "best_model_regr = None\n",
    "best_accuracy_valid_regr = 0\n",
    "\n",
    "for s in [\"newton-cg\", \"lbfgs\", \"liblinear\", \"sag\", \"saga\"]:\n",
    "    for i in range(1, 101, 1):\n",
    "        model_regr = LogisticRegression(solver=s, \n",
    "                                        max_iter=i, \n",
    "                                        random_state=12345)\n",
    "        model_regr.fit(features_train, target_train)\n",
    "        predict_regr = model_regr.predict(features_valid)\n",
    "        accuracy_valid_regr = accuracy_score(target_valid, predict_regr)\n",
    "        if accuracy_valid_regr > best_accuracy_valid_regr:\n",
    "            best_accuracy_valid_regr = accuracy_valid_regr\n",
    "            best_model_regr = model_regr\n",
    "print(\"Доля правильных ответов лучшей модели на валидационной выборке \\\n",
    "      \\nЛогистическая регрессия: \" + str(best_accuracy_valid_regr))\n",
    "print(\"Гиперпараметры лучшей модели: \\n\" + str(best_model_regr))"
   ]
  },
  {
   "cell_type": "markdown",
   "id": "92ae2821",
   "metadata": {},
   "source": [
    "### Сравнение качества предсказаний на валидационной выборке"
   ]
  },
  {
   "cell_type": "code",
   "execution_count": 7,
   "id": "af210da3",
   "metadata": {},
   "outputs": [
    {
     "data": {
      "image/png": "[encoded data removed]",
      "text/plain": [
       "<Figure size 648x432 with 1 Axes>"
      ]
     },
     "metadata": {},
     "output_type": "display_data"
    },
    {
     "name": "stdout",
     "output_type": "stream",
     "text": [
      "Accuracy (%):\n",
      "Random Forest          81.3\n",
      "Decision Tree          79.5\n",
      "Logistic Regression    73.7\n",
      "dtype: float64\n"
     ]
    }
   ],
   "source": [
    "# создадим Series с результатами предсказаний\n",
    "results_accuracy_valid = (\n",
    "pd.Series([best_accuracy_valid_tree, best_accuracy_valid_forest, best_accuracy_valid_regr], \n",
    "    index=[\"Decision Tree\", \"Random Forest\", \"Logistic Regression\"]))\n",
    "\n",
    "# создадим функцию для построения столбчатой диаграммы\n",
    "def bar_func(data_series, title, color):\n",
    "    \"\"\" функция принимает на вход Series c данными, название рисунка и его цвет\n",
    "        возвращает горизонтальную столбчатую диаграмму и значения из Series\n",
    "    \"\"\"\n",
    "    data_series = data_series.sort_values()\n",
    "    plt.style.use(\"ggplot\")\n",
    "    fig, ax = plt.subplots(figsize=(9, 6))\n",
    "    ax.barh(data_series.index, data_series.values, color=color, alpha=.6)\n",
    "    ax.set_title(title, fontsize=18)\n",
    "    ax.set_yticklabels(data_series.index, fontsize=14)\n",
    "    ax.set_xlabel(\"Accuracy\", fontsize=16)\n",
    "    plt.show()\n",
    "    print(\"Accuracy (%):\", round(data_series * 100, 1)\n",
    "          .sort_values(ascending=False), sep=\"\\n\")\n",
    "    \n",
    "# построим столбчатую диаграмму точности предсказаний исследованых моделей\n",
    "bar_func(results_accuracy_valid, \"Prediction Quality on the Validation Set\", [\"red\", \"orange\", \"green\"])"
   ]
  },
  {
   "cell_type": "markdown",
   "id": "7b9a0374",
   "metadata": {},
   "source": [
    "Полученные результаты показывают, что наибольшую долю правильных ответов удается получить с использованием модели случайного леса (81%), на втором месте по качеству находится модель решающих деревьев (79%). Эти значения качества выше критического в 75%. Результаты предсказания модели логистической регрессии находятся ниже критического уровня и составляют (73%)."
   ]
  },
  {
   "cell_type": "markdown",
   "id": "fa1be2f6",
   "metadata": {},
   "source": [
    "## Шаг 4. Проверка моделей на тестовой выборке"
   ]
  },
  {
   "cell_type": "code",
   "execution_count": 8,
   "id": "80a8b4d4",
   "metadata": {},
   "outputs": [
    {
     "data": {
      "image/png": "[encoded data removed]",
      "text/plain": [
       "<Figure size 648x432 with 1 Axes>"
      ]
     },
     "metadata": {},
     "output_type": "display_data"
    },
    {
     "name": "stdout",
     "output_type": "stream",
     "text": [
      "Accuracy (%):\n",
      "Random Forest          78.2\n",
      "Decision Tree          77.9\n",
      "Logistic Regression    76.0\n",
      "dtype: float64\n"
     ]
    }
   ],
   "source": [
    "# получим результаты предсказания моделей с лучшими гиперпараметрами на тестовой выборке\n",
    "accuracy_test_tree = accuracy_score(target_test, best_model_tree.predict(features_test))\n",
    "accuracy_test_forest = accuracy_score(target_test, best_model_forest.predict(features_test))\n",
    "accuracy_test_regr = accuracy_score(target_test, best_model_regr.predict(features_test))\n",
    "\n",
    "# объединим результаты\n",
    "results_accuracy_test = (pd.Series([accuracy_test_tree, accuracy_test_forest, accuracy_test_regr],\n",
    "                                 index=[\"Decision Tree\", \"Random Forest\", \"Logistic Regression\"]))\n",
    "\n",
    "# построим столбчатую диаграмму точности предсказаний на тестовой выборке\n",
    "bar_func(results_accuracy_test, \"Prediction Quality on the Test Set\", [\"red\", \"orange\", \"green\"])"
   ]
  },
  {
   "cell_type": "markdown",
   "id": "e3a9e3e9",
   "metadata": {},
   "source": [
    "Проверка на тестовой выборке показала, что наибольшей точности предсказаний, также как и на валидационной выборке, удается добиться при помощи модели случайного леса (доля правильных ответов 78,2%), на втором месте с небольшим снижением качества находится модель решающего дерева, а на третьем - модель логистической регресси. Все три модели проходят установленную границу качества в 75%."
   ]
  },
  {
   "cell_type": "markdown",
   "id": "5f12436e",
   "metadata": {},
   "source": [
    "## Шаг 5. Проверка модели на адекватность"
   ]
  },
  {
   "cell_type": "markdown",
   "id": "89142b80",
   "metadata": {},
   "source": [
    "Проверим модели на адекватность с помощью **DummyClassifier**."
   ]
  },
  {
   "cell_type": "code",
   "execution_count": 10,
   "id": "7052cc15",
   "metadata": {},
   "outputs": [
    {
     "data": {
      "image/png": "[encoded data removed]",
      "text/plain": [
       "<Figure size 648x432 with 1 Axes>"
      ]
     },
     "metadata": {},
     "output_type": "display_data"
    },
    {
     "name": "stdout",
     "output_type": "stream",
     "text": [
      "Accuracy (%):\n",
      "Most Frequent    69.5\n",
      "Prior            69.5\n",
      "Stratified       57.5\n",
      "Uniform          49.0\n",
      "dtype: float64\n"
     ]
    }
   ],
   "source": [
    "# попробуем разные стратегии\n",
    "accuracy_dummy_list = list()\n",
    "for strg in [\"most_frequent\", \"prior\", \"stratified\", \"uniform\"]:\n",
    "    dummy = DummyClassifier(strategy=strg, random_state=12345)\n",
    "    dummy.fit(features_train, target_train)\n",
    "    dummy_predict = dummy.predict(features_test)\n",
    "    accuracy_dummy = accuracy_score(target_test, dummy_predict)\n",
    "    accuracy_dummy_list.append(accuracy_dummy)\n",
    "    \n",
    "# соберем данные и построим диаграмму\n",
    "adequacy_test_dummy = pd.Series(accuracy_dummy_list, \n",
    "                                index=[\"Most Frequent\", \"Prior\", \"Stratified\", \"Uniform\"])\n",
    "bar_func(adequacy_test_dummy, \"Adequacy Test (Dummy Classifier)\", [\"red\", \"orange\", \"blue\", \"green\"])"
   ]
  },
  {
   "cell_type": "markdown",
   "id": "4da5cc08",
   "metadata": {},
   "source": [
    "Можно видеть, что наибольшая доля правильных ответов равна 69,5% и достигается при заполнении целевого признака самым часто встречаем значением (0). Точность, достигнутая с помощью моделей машинного обучения, выше и это говорит об их адекватности."
   ]
  },
  {
   "cell_type": "code",
   "execution_count": null,
   "id": "beba67e4-a8fb-4894-817d-12fc25a2105d",
   "metadata": {},
   "outputs": [],
   "source": []
  }
 ],
 "metadata": {
  "colab": {
   "name": "Welcome to DataCamp Workspaces.ipynb",
   "provenance": []
  },
  "kernelspec": {
   "display_name": "Python 3 (ipykernel)",
   "language": "python",
   "name": "python3"
  },
  "language_info": {
   "codemirror_mode": {
    "name": "ipython",
    "version": 3
   },
   "file_extension": ".py",
   "mimetype": "text/x-python",
   "name": "python",
   "nbconvert_exporter": "python",
   "pygments_lexer": "ipython3",
   "version": "3.9.12"
  },
  "toc": {
   "base_numbering": 1,
   "nav_menu": {},
   "number_sections": true,
   "sideBar": true,
   "skip_h1_title": true,
   "title_cell": "Table of Contents",
   "title_sidebar": "Contents",
   "toc_cell": false,
   "toc_position": {},
   "toc_section_display": true,
   "toc_window_display": false
  }
 },
 "nbformat": 4,
 "nbformat_minor": 5
}
