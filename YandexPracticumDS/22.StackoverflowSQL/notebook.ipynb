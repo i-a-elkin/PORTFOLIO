{
 "cells": [
  {
   "cell_type": "markdown",
   "metadata": {
    "id": "sRW85nPMDWKb"
   },
   "source": [
    "В этой части проекта вам нужно написать несколько SQL-запросов в Jupyter Notebook. Эти задания проверят вручную, и вы получите комментарии к составленным запросам. \n",
    "\n",
    "Необходимые данные находятся в таблицах схемы `stackoverflow`. Не забудьте подключиться к базе с помощью SQLAlchemy. Вспомните инструкцию из [урока про представление результатов](https://practicum.yandex.ru/learn/data-analyst-plus/courses/96ccbf7a-b65d-4f51-b5f3-18360ad1e301/sprints/6116/topics/27f7c9a7-a474-4a82-8392-b3f069b26f69/lessons/e12d84bb-ffa8-490c-8bde-0935d86ceccb/). Пример кода для подключения к базе и выгрузки результатов вы найдёте и в этой тетрадке. \n",
    "\n",
    "Некоторые задания включают дополнительные вопросы — не пропустите их. На часть вопросов можно ответить текстом, а для некоторых понадобится визуализация. Помните, что результат запроса можно выгрузить в датафрейм. \n",
    "\n",
    "Чтобы ожидаемый результат было легче представить, мы добавили к каждому заданию небольшой фрагмент итоговой таблицы. В запросах вы можете использовать любые подходящие названия полей."
   ]
  },
  {
   "cell_type": "code",
   "execution_count": 1,
   "metadata": {
    "id": "nlZBlglMDWKe"
   },
   "outputs": [],
   "source": [
    "import pandas as pd\n",
    "import matplotlib.pyplot as plt\n",
    "import seaborn as sns\n",
    "from sqlalchemy import create_engine "
   ]
  },
  {
   "cell_type": "markdown",
   "metadata": {
    "id": "XnOE3n28DWKg"
   },
   "source": [
    "### Конфигурация для подключения к базе данных `data-analyst-advanced-sql`\n",
    "Эта база данных содержит схему `stackoverflow`, с которой вы будете работать в проекте"
   ]
  },
  {
   "cell_type": "code",
   "execution_count": 2,
   "metadata": {
    "id": "6p-yGp7qDWKg"
   },
   "outputs": [],
   "source": [
    "db_config = {\n",
    "    'user': 'praktikum_student', # имя пользователя\n",
    "    'pwd': 'Sdf4$2;d-d30pp', # пароль\n",
    "    'host': 'rc1b-wcoijxj3yxfsf3fs.mdb.yandexcloud.net',\n",
    "    'port': 6432, # порт подключения\n",
    "    'db': 'data-analyst-advanced-sql' # название базы данных\n",
    "}  \n",
    "\n",
    "connection_string = 'postgresql://{}:{}@{}:{}/{}'.format(\n",
    "    db_config['user'],\n",
    "    db_config['pwd'],\n",
    "    db_config['host'],\n",
    "    db_config['port'],\n",
    "    db_config['db'],\n",
    ")"
   ]
  },
  {
   "cell_type": "markdown",
   "metadata": {
    "id": "2Rg8ZpS0DWKh"
   },
   "source": [
    "Создание подключения"
   ]
  },
  {
   "cell_type": "code",
   "execution_count": 3,
   "metadata": {
    "id": "DamCUTR6DWKi"
   },
   "outputs": [],
   "source": [
    "engine = create_engine(connection_string) "
   ]
  },
  {
   "cell_type": "markdown",
   "metadata": {
    "id": "bel8XeSlDWKj"
   },
   "source": [
    "Пример запроса к базе данных\n",
    "\n",
    "`sample_df` является pandas-датафреймом."
   ]
  },
  {
   "cell_type": "code",
   "execution_count": 4,
   "metadata": {
    "id": "6Z_fw0yLDWKk"
   },
   "outputs": [],
   "source": [
    "query = '''\n",
    "SELECT *\n",
    "FROM stackoverflow.users\n",
    "LIMIT 10;\n",
    "'''\n",
    "\n",
    "sample_df = pd.read_sql_query(query, con=engine) "
   ]
  },
  {
   "cell_type": "code",
   "execution_count": 5,
   "metadata": {
    "id": "ZpuZ290oDWKk",
    "outputId": "22785a0a-e2bc-4559-ec3c-4879c4b377eb"
   },
   "outputs": [
    {
     "data": {
      "text/html": [
       "<div>\n",
       "<style scoped>\n",
       "    .dataframe tbody tr th:only-of-type {\n",
       "        vertical-align: middle;\n",
       "    }\n",
       "\n",
       "    .dataframe tbody tr th {\n",
       "        vertical-align: top;\n",
       "    }\n",
       "\n",
       "    .dataframe thead th {\n",
       "        text-align: right;\n",
       "    }\n",
       "</style>\n",
       "<table border=\"1\" class=\"dataframe\">\n",
       "  <thead>\n",
       "    <tr style=\"text-align: right;\">\n",
       "      <th></th>\n",
       "      <th>id</th>\n",
       "      <th>creation_date</th>\n",
       "      <th>display_name</th>\n",
       "      <th>last_access_date</th>\n",
       "      <th>location</th>\n",
       "      <th>reputation</th>\n",
       "      <th>views</th>\n",
       "    </tr>\n",
       "  </thead>\n",
       "  <tbody>\n",
       "    <tr>\n",
       "      <th>0</th>\n",
       "      <td>1</td>\n",
       "      <td>2008-07-31 14:22:31</td>\n",
       "      <td>Jeff Atwood</td>\n",
       "      <td>2018-08-29 02:34:23</td>\n",
       "      <td>El Cerrito, CA</td>\n",
       "      <td>44300</td>\n",
       "      <td>408587</td>\n",
       "    </tr>\n",
       "    <tr>\n",
       "      <th>1</th>\n",
       "      <td>2</td>\n",
       "      <td>2008-07-31 14:22:31</td>\n",
       "      <td>Geoff Dalgas</td>\n",
       "      <td>2018-08-23 17:31:56</td>\n",
       "      <td>Corvallis, OR</td>\n",
       "      <td>3491</td>\n",
       "      <td>23966</td>\n",
       "    </tr>\n",
       "    <tr>\n",
       "      <th>2</th>\n",
       "      <td>3</td>\n",
       "      <td>2008-07-31 14:22:31</td>\n",
       "      <td>Jarrod Dixon</td>\n",
       "      <td>2018-08-30 20:56:24</td>\n",
       "      <td>Raleigh, NC, United States</td>\n",
       "      <td>13418</td>\n",
       "      <td>24396</td>\n",
       "    </tr>\n",
       "    <tr>\n",
       "      <th>3</th>\n",
       "      <td>4</td>\n",
       "      <td>2008-07-31 14:22:31</td>\n",
       "      <td>Joel Spolsky</td>\n",
       "      <td>2018-08-14 22:18:15</td>\n",
       "      <td>New York, NY</td>\n",
       "      <td>28768</td>\n",
       "      <td>73755</td>\n",
       "    </tr>\n",
       "    <tr>\n",
       "      <th>4</th>\n",
       "      <td>5</td>\n",
       "      <td>2008-07-31 14:22:31</td>\n",
       "      <td>Jon Galloway</td>\n",
       "      <td>2018-08-29 16:48:36</td>\n",
       "      <td>San Diego, CA</td>\n",
       "      <td>39172</td>\n",
       "      <td>11700</td>\n",
       "    </tr>\n",
       "    <tr>\n",
       "      <th>5</th>\n",
       "      <td>8</td>\n",
       "      <td>2008-07-31 21:33:24</td>\n",
       "      <td>Eggs McLaren</td>\n",
       "      <td>2018-04-09 02:04:56</td>\n",
       "      <td>None</td>\n",
       "      <td>942</td>\n",
       "      <td>6372</td>\n",
       "    </tr>\n",
       "    <tr>\n",
       "      <th>6</th>\n",
       "      <td>9</td>\n",
       "      <td>2008-07-31 21:35:27</td>\n",
       "      <td>Kevin Dente</td>\n",
       "      <td>2018-08-30 18:18:03</td>\n",
       "      <td>Oakland, CA</td>\n",
       "      <td>14337</td>\n",
       "      <td>4949</td>\n",
       "    </tr>\n",
       "    <tr>\n",
       "      <th>7</th>\n",
       "      <td>11</td>\n",
       "      <td>2008-08-01 00:59:11</td>\n",
       "      <td>Anonymous User</td>\n",
       "      <td>2008-08-01 00:59:11</td>\n",
       "      <td>None</td>\n",
       "      <td>1890</td>\n",
       "      <td>2123</td>\n",
       "    </tr>\n",
       "    <tr>\n",
       "      <th>8</th>\n",
       "      <td>13</td>\n",
       "      <td>2008-08-01 04:18:05</td>\n",
       "      <td>Chris Jester-Young</td>\n",
       "      <td>2018-08-30 02:47:23</td>\n",
       "      <td>Raleigh, NC, United States</td>\n",
       "      <td>177138</td>\n",
       "      <td>35414</td>\n",
       "    </tr>\n",
       "    <tr>\n",
       "      <th>9</th>\n",
       "      <td>17</td>\n",
       "      <td>2008-08-01 12:02:22</td>\n",
       "      <td>Nick Berardi</td>\n",
       "      <td>2018-01-22 01:35:38</td>\n",
       "      <td>Issaquah, WA</td>\n",
       "      <td>44443</td>\n",
       "      <td>4786</td>\n",
       "    </tr>\n",
       "  </tbody>\n",
       "</table>\n",
       "</div>"
      ],
      "text/plain": [
       "   id       creation_date        display_name    last_access_date  \\\n",
       "0   1 2008-07-31 14:22:31         Jeff Atwood 2018-08-29 02:34:23   \n",
       "1   2 2008-07-31 14:22:31        Geoff Dalgas 2018-08-23 17:31:56   \n",
       "2   3 2008-07-31 14:22:31        Jarrod Dixon 2018-08-30 20:56:24   \n",
       "3   4 2008-07-31 14:22:31        Joel Spolsky 2018-08-14 22:18:15   \n",
       "4   5 2008-07-31 14:22:31        Jon Galloway 2018-08-29 16:48:36   \n",
       "5   8 2008-07-31 21:33:24        Eggs McLaren 2018-04-09 02:04:56   \n",
       "6   9 2008-07-31 21:35:27         Kevin Dente 2018-08-30 18:18:03   \n",
       "7  11 2008-08-01 00:59:11      Anonymous User 2008-08-01 00:59:11   \n",
       "8  13 2008-08-01 04:18:05  Chris Jester-Young 2018-08-30 02:47:23   \n",
       "9  17 2008-08-01 12:02:22        Nick Berardi 2018-01-22 01:35:38   \n",
       "\n",
       "                     location  reputation   views  \n",
       "0              El Cerrito, CA       44300  408587  \n",
       "1               Corvallis, OR        3491   23966  \n",
       "2  Raleigh, NC, United States       13418   24396  \n",
       "3                New York, NY       28768   73755  \n",
       "4               San Diego, CA       39172   11700  \n",
       "5                        None         942    6372  \n",
       "6                 Oakland, CA       14337    4949  \n",
       "7                        None        1890    2123  \n",
       "8  Raleigh, NC, United States      177138   35414  \n",
       "9                Issaquah, WA       44443    4786  "
      ]
     },
     "execution_count": 5,
     "metadata": {},
     "output_type": "execute_result"
    }
   ],
   "source": [
    "sample_df"
   ]
  },
  {
   "cell_type": "markdown",
   "metadata": {
    "id": "gnBMXkDBDWKm"
   },
   "source": [
    "# Задание 1"
   ]
  },
  {
   "cell_type": "markdown",
   "metadata": {
    "id": "vHsfOrrNDWKn"
   },
   "source": [
    "Выведите общую сумму просмотров постов за каждый месяц 2008 года. Если данных за какой-либо месяц в базе нет, такой месяц можно пропустить. Результат отсортируйте по убыванию общего количества просмотров."
   ]
  },
  {
   "cell_type": "markdown",
   "metadata": {
    "id": "N5rTgGNmDWKn"
   },
   "source": [
    "| month_date  | total_views |\n",
    "| ------------- | ------------- |\n",
    "| 2008-09-01  | 452928568  |\n",
    "| 2008-10-01  | 365400138  |\n",
    "| ...         | ... |"
   ]
  },
  {
   "cell_type": "code",
   "execution_count": 6,
   "metadata": {
    "id": "eWvykcXTDWKo"
   },
   "outputs": [
    {
     "data": {
      "text/html": [
       "<div>\n",
       "<style scoped>\n",
       "    .dataframe tbody tr th:only-of-type {\n",
       "        vertical-align: middle;\n",
       "    }\n",
       "\n",
       "    .dataframe tbody tr th {\n",
       "        vertical-align: top;\n",
       "    }\n",
       "\n",
       "    .dataframe thead th {\n",
       "        text-align: right;\n",
       "    }\n",
       "</style>\n",
       "<table border=\"1\" class=\"dataframe\">\n",
       "  <thead>\n",
       "    <tr style=\"text-align: right;\">\n",
       "      <th></th>\n",
       "      <th>month_date</th>\n",
       "      <th>total_views</th>\n",
       "    </tr>\n",
       "  </thead>\n",
       "  <tbody>\n",
       "    <tr>\n",
       "      <th>0</th>\n",
       "      <td>2008-09-01</td>\n",
       "      <td>452928568</td>\n",
       "    </tr>\n",
       "    <tr>\n",
       "      <th>1</th>\n",
       "      <td>2008-10-01</td>\n",
       "      <td>365400138</td>\n",
       "    </tr>\n",
       "    <tr>\n",
       "      <th>2</th>\n",
       "      <td>2008-11-01</td>\n",
       "      <td>221759651</td>\n",
       "    </tr>\n",
       "    <tr>\n",
       "      <th>3</th>\n",
       "      <td>2008-12-01</td>\n",
       "      <td>197792841</td>\n",
       "    </tr>\n",
       "    <tr>\n",
       "      <th>4</th>\n",
       "      <td>2008-08-01</td>\n",
       "      <td>131367083</td>\n",
       "    </tr>\n",
       "    <tr>\n",
       "      <th>5</th>\n",
       "      <td>2008-07-01</td>\n",
       "      <td>669895</td>\n",
       "    </tr>\n",
       "  </tbody>\n",
       "</table>\n",
       "</div>"
      ],
      "text/plain": [
       "  month_date  total_views\n",
       "0 2008-09-01    452928568\n",
       "1 2008-10-01    365400138\n",
       "2 2008-11-01    221759651\n",
       "3 2008-12-01    197792841\n",
       "4 2008-08-01    131367083\n",
       "5 2008-07-01       669895"
      ]
     },
     "execution_count": 6,
     "metadata": {},
     "output_type": "execute_result"
    }
   ],
   "source": [
    "# напишите запрос\n",
    "# группировка\n",
    "query = '''\n",
    "WITH view_posts AS\n",
    "    (SELECT DISTINCT DATE_TRUNC('month', creation_date) AS month_date,\n",
    "           SUM(views_count) AS total_views\n",
    "    FROM stackoverflow.posts\n",
    "    WHERE EXTRACT(year FROM creation_date) = 2008\n",
    "    GROUP BY DATE_TRUNC('month', creation_date)\n",
    "    )\n",
    "SELECT *\n",
    "FROM view_posts\n",
    "ORDER BY total_views DESC;\n",
    "'''\n",
    "\n",
    "# выполните запрос\n",
    "sample_df = pd.read_sql_query(query, con=engine)\n",
    "sample_df"
   ]
  },
  {
   "cell_type": "markdown",
   "metadata": {
    "id": "XMr_UeU6DWKo"
   },
   "source": [
    "<details>\n",
    "\n",
    "<summary>Подсказка</summary>\n",
    "Используйте функцию для усечения даты, а затем сгруппируйте и отсортируйте данные.\n",
    "</details>"
   ]
  },
  {
   "cell_type": "markdown",
   "metadata": {
    "id": "I_ZvhOxkDWKp"
   },
   "source": [
    "Проанализируйте итоговую таблицу. Отличаются ли данные за разные месяцы? С чем могут быть связаны отличия?"
   ]
  },
  {
   "cell_type": "code",
   "execution_count": 7,
   "metadata": {
    "id": "luxSj17oDWKq"
   },
   "outputs": [
    {
     "data": {
      "text/plain": [
       "'\\nНаибольшее количество просмотров постов наблюдается в осенние и зимние месяцы, что может быть связано с подготовкой \\nи сдачей сессии студентами различных вузов.\\n'"
      ]
     },
     "execution_count": 7,
     "metadata": {},
     "output_type": "execute_result"
    }
   ],
   "source": [
    "# напишите ваш ответ здесь\n",
    "'''\n",
    "Наибольшее количество просмотров постов наблюдается в осенние и зимние месяцы, что может быть связано с подготовкой \n",
    "и сдачей сессии студентами различных вузов.\n",
    "'''"
   ]
  },
  {
   "cell_type": "markdown",
   "metadata": {
    "id": "FziIXkn5DWKr"
   },
   "source": [
    "# Задание 2"
   ]
  },
  {
   "cell_type": "markdown",
   "metadata": {
    "id": "fTGESZvYDWKr"
   },
   "source": [
    "Выведите имена самых активных пользователей, которые в первый месяц после регистрации (включая день регистрации) дали больше 100 ответов. Вопросы, которые задавали пользователи, не учитывайте. Для каждого имени пользователя выведите количество уникальных значений `user_id`. Отсортируйте результат по полю с именами в лексикографическом порядке."
   ]
  },
  {
   "cell_type": "markdown",
   "metadata": {
    "id": "W5-tv6Y3DWKs"
   },
   "source": [
    "| display_name | count |\n",
    "| ------------ | ----- |\n",
    "| 1800 INFORMATION | 1 |\n",
    "| Adam Bellaire | 1 |\n",
    "| Adam Davis | 1 |\n",
    "| ... | ... |"
   ]
  },
  {
   "cell_type": "code",
   "execution_count": 8,
   "metadata": {
    "id": "fIO-y-YjDWKt",
    "scrolled": true
   },
   "outputs": [
    {
     "data": {
      "text/html": [
       "<div>\n",
       "<style scoped>\n",
       "    .dataframe tbody tr th:only-of-type {\n",
       "        vertical-align: middle;\n",
       "    }\n",
       "\n",
       "    .dataframe tbody tr th {\n",
       "        vertical-align: top;\n",
       "    }\n",
       "\n",
       "    .dataframe thead th {\n",
       "        text-align: right;\n",
       "    }\n",
       "</style>\n",
       "<table border=\"1\" class=\"dataframe\">\n",
       "  <thead>\n",
       "    <tr style=\"text-align: right;\">\n",
       "      <th></th>\n",
       "      <th>display_name</th>\n",
       "      <th>count</th>\n",
       "    </tr>\n",
       "  </thead>\n",
       "  <tbody>\n",
       "    <tr>\n",
       "      <th>0</th>\n",
       "      <td>1800 INFORMATION</td>\n",
       "      <td>1</td>\n",
       "    </tr>\n",
       "    <tr>\n",
       "      <th>1</th>\n",
       "      <td>Adam Bellaire</td>\n",
       "      <td>1</td>\n",
       "    </tr>\n",
       "    <tr>\n",
       "      <th>2</th>\n",
       "      <td>Adam Davis</td>\n",
       "      <td>1</td>\n",
       "    </tr>\n",
       "    <tr>\n",
       "      <th>3</th>\n",
       "      <td>Adam Liss</td>\n",
       "      <td>1</td>\n",
       "    </tr>\n",
       "    <tr>\n",
       "      <th>4</th>\n",
       "      <td>Alan</td>\n",
       "      <td>8</td>\n",
       "    </tr>\n",
       "    <tr>\n",
       "      <th>5</th>\n",
       "      <td>Amy B</td>\n",
       "      <td>1</td>\n",
       "    </tr>\n",
       "    <tr>\n",
       "      <th>6</th>\n",
       "      <td>Ben Hoffstein</td>\n",
       "      <td>1</td>\n",
       "    </tr>\n",
       "    <tr>\n",
       "      <th>7</th>\n",
       "      <td>Brian</td>\n",
       "      <td>15</td>\n",
       "    </tr>\n",
       "    <tr>\n",
       "      <th>8</th>\n",
       "      <td>Cade Roux</td>\n",
       "      <td>1</td>\n",
       "    </tr>\n",
       "    <tr>\n",
       "      <th>9</th>\n",
       "      <td>CesarB</td>\n",
       "      <td>1</td>\n",
       "    </tr>\n",
       "  </tbody>\n",
       "</table>\n",
       "</div>"
      ],
      "text/plain": [
       "       display_name  count\n",
       "0  1800 INFORMATION      1\n",
       "1     Adam Bellaire      1\n",
       "2        Adam Davis      1\n",
       "3         Adam Liss      1\n",
       "4              Alan      8\n",
       "5             Amy B      1\n",
       "6     Ben Hoffstein      1\n",
       "7             Brian     15\n",
       "8         Cade Roux      1\n",
       "9            CesarB      1"
      ]
     },
     "execution_count": 8,
     "metadata": {},
     "output_type": "execute_result"
    }
   ],
   "source": [
    "# напишите запрос\n",
    "query = '''\n",
    "WITH answers AS\n",
    "    (SELECT id AS answer_id\n",
    "     FROM stackoverflow.post_types\n",
    "     WHERE type = 'Answer')\n",
    "\n",
    "SELECT DISTINCT display_name,\n",
    "       COUNT(*) OVER (PARTITION BY display_name)\n",
    "FROM\n",
    "    (SELECT DISTINCT user_id,\n",
    "           display_name\n",
    "     FROM\n",
    "        (SELECT users.id AS user_id,\n",
    "               users.display_name,\n",
    "               users.creation_date AS user_creation,\n",
    "               posts.creation_date AS post_creation,\n",
    "               COUNT(*) OVER (PARTITION BY display_name) AS num_answers\n",
    "         FROM stackoverflow.posts AS posts\n",
    "              JOIN answers \n",
    "                  ON posts.post_type_id = answers.answer_id\n",
    "              JOIN stackoverflow.users AS users\n",
    "                  ON posts.user_id = users.id\n",
    "         WHERE users.creation_date + INTERVAL '1 month' > posts.creation_date) AS users_answers\n",
    "     WHERE num_answers > 100) AS more_100_ans\n",
    "ORDER BY display_name;\n",
    "'''\n",
    "\n",
    "# выполните запрос\n",
    "sample_df = pd.read_sql_query(query, con=engine)\n",
    "sample_df.head(10)"
   ]
  },
  {
   "cell_type": "markdown",
   "metadata": {
    "id": "YIqqc-7HDWKt"
   },
   "source": [
    "<details>\n",
    "\n",
    "<summary>Подсказка</summary>\n",
    "Вам нужно присоединить несколько таблиц — изучите внимательнее описание базы. Чтобы добавить промежуток времени к дате, используйте ключевое слово INTERVAL, например, так: <дата> + INTERVAL '1 year 2 months 3 days'\n",
    ".</details>"
   ]
  },
  {
   "cell_type": "markdown",
   "metadata": {
    "id": "I3Wr82TplKpI"
   },
   "source": [
    "Какие аномалии наблюдаются в данных? О чём они говорят?"
   ]
  },
  {
   "cell_type": "code",
   "execution_count": 9,
   "metadata": {
    "id": "CEIGGQ6ODWKy"
   },
   "outputs": [
    {
     "data": {
      "text/plain": [
       "'В данных наблюдается большое количество пользователей с именем Alan и Brian, \\nкоторые в сумме дали больше 100 ответов за первый месяц после регистрации.\\nОднако, если заменить в подзапросе COUNT(*) OVER (PARTITION BY display_name) AS num_answers\\nна COUNT(*) OVER (PARTITION BY user_id) AS num_answers, то эти пользователи перестают попадать в финальную таблицу.\\nВероятно, что они попали в рейтинг самых активных пользователей из-за распространенности имени.'"
      ]
     },
     "execution_count": 9,
     "metadata": {},
     "output_type": "execute_result"
    }
   ],
   "source": [
    "# напишите ваш ответ здесь\n",
    "'''В данных наблюдается большое количество пользователей с именем Alan и Brian, \n",
    "которые в сумме дали больше 100 ответов за первый месяц после регистрации.\n",
    "Однако, если заменить в подзапросе COUNT(*) OVER (PARTITION BY display_name) AS num_answers\n",
    "на COUNT(*) OVER (PARTITION BY user_id) AS num_answers, то эти пользователи перестают попадать в финальную таблицу.\n",
    "Вероятно, что они попали в рейтинг самых активных пользователей из-за распространенности имени.'''"
   ]
  },
  {
   "cell_type": "markdown",
   "metadata": {
    "id": "JhM2xXj5DWKu"
   },
   "source": [
    "# Задание 3"
   ]
  },
  {
   "cell_type": "markdown",
   "metadata": {
    "id": "IS6xPqyyDWKu"
   },
   "source": [
    "Выведите количество постов за 2008 год по месяцам. Отберите посты от пользователей, которые зарегистрировались в сентябре 2008 года и сделали хотя бы один пост в декабре того же года. Отсортируйте таблицу по значению месяца по убыванию."
   ]
  },
  {
   "cell_type": "markdown",
   "metadata": {
    "id": "WmjhjV2xDWKv"
   },
   "source": [
    "| month | count |\n",
    "| ------|------ |\n",
    "| 2008-12-01 | 17641 |\n",
    "| 2008-11-01 | 18294 |\n",
    "| ... | ... |"
   ]
  },
  {
   "cell_type": "code",
   "execution_count": 10,
   "metadata": {
    "id": "kVu0FB8WDWKv"
   },
   "outputs": [
    {
     "data": {
      "text/html": [
       "<div>\n",
       "<style scoped>\n",
       "    .dataframe tbody tr th:only-of-type {\n",
       "        vertical-align: middle;\n",
       "    }\n",
       "\n",
       "    .dataframe tbody tr th {\n",
       "        vertical-align: top;\n",
       "    }\n",
       "\n",
       "    .dataframe thead th {\n",
       "        text-align: right;\n",
       "    }\n",
       "</style>\n",
       "<table border=\"1\" class=\"dataframe\">\n",
       "  <thead>\n",
       "    <tr style=\"text-align: right;\">\n",
       "      <th></th>\n",
       "      <th>month</th>\n",
       "      <th>count</th>\n",
       "    </tr>\n",
       "  </thead>\n",
       "  <tbody>\n",
       "    <tr>\n",
       "      <th>0</th>\n",
       "      <td>2008-12-01</td>\n",
       "      <td>17641</td>\n",
       "    </tr>\n",
       "    <tr>\n",
       "      <th>1</th>\n",
       "      <td>2008-11-01</td>\n",
       "      <td>18294</td>\n",
       "    </tr>\n",
       "    <tr>\n",
       "      <th>2</th>\n",
       "      <td>2008-10-01</td>\n",
       "      <td>27171</td>\n",
       "    </tr>\n",
       "    <tr>\n",
       "      <th>3</th>\n",
       "      <td>2008-09-01</td>\n",
       "      <td>24870</td>\n",
       "    </tr>\n",
       "    <tr>\n",
       "      <th>4</th>\n",
       "      <td>2008-08-01</td>\n",
       "      <td>32</td>\n",
       "    </tr>\n",
       "  </tbody>\n",
       "</table>\n",
       "</div>"
      ],
      "text/plain": [
       "       month  count\n",
       "0 2008-12-01  17641\n",
       "1 2008-11-01  18294\n",
       "2 2008-10-01  27171\n",
       "3 2008-09-01  24870\n",
       "4 2008-08-01     32"
      ]
     },
     "execution_count": 10,
     "metadata": {},
     "output_type": "execute_result"
    }
   ],
   "source": [
    "# напишите запрос\n",
    "query = '''\n",
    "WITH \n",
    "reg_cond AS\n",
    "    (SELECT DISTINCT id AS user_id\n",
    "    FROM stackoverflow.users\n",
    "    WHERE creation_date::date BETWEEN '2008-09-01' AND '2008-09-30'),\n",
    "    \n",
    "reg_post_cond AS\n",
    "    (SELECT DISTINCT posts.user_id AS user_id\n",
    "    FROM stackoverflow.posts AS posts\n",
    "         JOIN reg_cond\n",
    "              ON reg_cond.user_id = posts.user_id\n",
    "    WHERE posts.creation_date::date BETWEEN '2008-12-01' AND '2008-12-31'),\n",
    "\n",
    "post_month AS\n",
    "    (SELECT DISTINCT DATE_TRUNC('month', posts.creation_date) AS month,\n",
    "           COUNT(posts.id) OVER (PARTITION BY DATE_TRUNC('month', posts.creation_date))\n",
    "    FROM stackoverflow.posts AS posts\n",
    "        JOIN reg_post_cond\n",
    "             ON posts.user_id = reg_post_cond.user_id\n",
    "    WHERE EXTRACT(year FROM posts.creation_date) = 2008)\n",
    "    \n",
    "SELECT *\n",
    "FROM post_month\n",
    "ORDER BY month DESC;\n",
    "'''\n",
    "\n",
    "# выполните запрос\n",
    "sample_df = pd.read_sql_query(query, con=engine)\n",
    "sample_df"
   ]
  },
  {
   "cell_type": "markdown",
   "metadata": {
    "id": "nWf0JsTMDWKx"
   },
   "source": [
    "<details>\n",
    "\n",
    "<summary>Подсказка</summary>\n",
    "Сначала найдите идентификаторы пользователей, которые зарегистрировались в сентябре 2008 года и оставили хотя бы один пост в декабре. Затем используйте результат для среза и посчитайте посты по месяцам.</details>"
   ]
  },
  {
   "cell_type": "markdown",
   "metadata": {
    "id": "Vnxn9DVHDWKx"
   },
   "source": [
    "Изучите данные: есть ли в них аномалии? Предположите, почему могли появиться аномальные значения."
   ]
  },
  {
   "cell_type": "code",
   "execution_count": 11,
   "metadata": {
    "id": "MMVIz4yMlKpN"
   },
   "outputs": [
    {
     "data": {
      "text/plain": [
       "'\\nМожно видеть, что большинство постов пользователи написали в течение двух месяцев после регистрации, \\nпосле этого количество постов идет на спад. \\nКроме этого, в данных наблюдается аномалия: небольшое число постов написано до регистрации пользователя, \\nпо-видимому, это связано с имеющейся возможностью писать посты до регистрации.\\n'"
      ]
     },
     "execution_count": 11,
     "metadata": {},
     "output_type": "execute_result"
    }
   ],
   "source": [
    "# напишите ваш ответ здесь\n",
    "'''\n",
    "Можно видеть, что большинство постов пользователи написали в течение двух месяцев после регистрации, \n",
    "после этого количество постов идет на спад. \n",
    "Кроме этого, в данных наблюдается аномалия: небольшое число постов написано до регистрации пользователя, \n",
    "по-видимому, это связано с имеющейся возможностью писать посты до регистрации.\n",
    "'''"
   ]
  },
  {
   "cell_type": "markdown",
   "metadata": {
    "id": "5Pcizm0DDWKz"
   },
   "source": [
    "# Задание 4"
   ]
  },
  {
   "cell_type": "markdown",
   "metadata": {
    "id": "KUZPF6vHDWKz"
   },
   "source": [
    "Используя данные о постах, выведите несколько полей:\n",
    "\n",
    "- идентификатор пользователя, который написал пост;\n",
    "- дата создания поста;\n",
    "- количество просмотров у текущего поста;\n",
    "- сумму просмотров постов автора с накоплением.\n",
    "\n",
    "Данные в таблице должны быть отсортированы по возрастанию идентификаторов пользователей, а данные об одном и том же пользователе — по возрастанию даты создания поста."
   ]
  },
  {
   "cell_type": "markdown",
   "metadata": {
    "id": "ZpsTUVDYDWK0"
   },
   "source": [
    "| user_id | creation_date | views_count | cumulative_count |\n",
    "| ------ | -------------- | ----------- | ---------------- |\n",
    "| 1 | 2008-07-31 23:41:00  | 480476   | 480476  |\n",
    "| 1 | 2008-07-31 23:55:38  | 136033 | 616509  | \n",
    "| 1 | 2008-07-31 23:56:41  | 0 |  616509  |\n",
    "| ... | ... | ... | ... |\n",
    "| 2 | 2008-07-31 23:56:41 | 79087  | 79087 |\n",
    "| 2 | 2008-08-01 05:09:56 | 65443 | 144530 |\n",
    "| ... | ...  | ...  | ...  |"
   ]
  },
  {
   "cell_type": "code",
   "execution_count": 12,
   "metadata": {
    "id": "hDoJhMzfDWK0"
   },
   "outputs": [
    {
     "data": {
      "text/html": [
       "<div>\n",
       "<style scoped>\n",
       "    .dataframe tbody tr th:only-of-type {\n",
       "        vertical-align: middle;\n",
       "    }\n",
       "\n",
       "    .dataframe tbody tr th {\n",
       "        vertical-align: top;\n",
       "    }\n",
       "\n",
       "    .dataframe thead th {\n",
       "        text-align: right;\n",
       "    }\n",
       "</style>\n",
       "<table border=\"1\" class=\"dataframe\">\n",
       "  <thead>\n",
       "    <tr style=\"text-align: right;\">\n",
       "      <th></th>\n",
       "      <th>user_id</th>\n",
       "      <th>creation_date</th>\n",
       "      <th>views_count</th>\n",
       "      <th>cumulative_count</th>\n",
       "    </tr>\n",
       "  </thead>\n",
       "  <tbody>\n",
       "    <tr>\n",
       "      <th>0</th>\n",
       "      <td>1</td>\n",
       "      <td>2008-07-31 23:41:00</td>\n",
       "      <td>480476</td>\n",
       "      <td>480476</td>\n",
       "    </tr>\n",
       "    <tr>\n",
       "      <th>1</th>\n",
       "      <td>1</td>\n",
       "      <td>2008-07-31 23:55:38</td>\n",
       "      <td>136033</td>\n",
       "      <td>616509</td>\n",
       "    </tr>\n",
       "    <tr>\n",
       "      <th>2</th>\n",
       "      <td>1</td>\n",
       "      <td>2008-07-31 23:56:41</td>\n",
       "      <td>0</td>\n",
       "      <td>616509</td>\n",
       "    </tr>\n",
       "    <tr>\n",
       "      <th>3</th>\n",
       "      <td>1</td>\n",
       "      <td>2008-08-04 02:45:08</td>\n",
       "      <td>0</td>\n",
       "      <td>616509</td>\n",
       "    </tr>\n",
       "    <tr>\n",
       "      <th>4</th>\n",
       "      <td>1</td>\n",
       "      <td>2008-08-04 04:31:03</td>\n",
       "      <td>0</td>\n",
       "      <td>616509</td>\n",
       "    </tr>\n",
       "  </tbody>\n",
       "</table>\n",
       "</div>"
      ],
      "text/plain": [
       "   user_id       creation_date  views_count  cumulative_count\n",
       "0        1 2008-07-31 23:41:00       480476            480476\n",
       "1        1 2008-07-31 23:55:38       136033            616509\n",
       "2        1 2008-07-31 23:56:41            0            616509\n",
       "3        1 2008-08-04 02:45:08            0            616509\n",
       "4        1 2008-08-04 04:31:03            0            616509"
      ]
     },
     "execution_count": 12,
     "metadata": {},
     "output_type": "execute_result"
    }
   ],
   "source": [
    "# напишите запрос\n",
    "query = '''\n",
    "SELECT user_id,\n",
    "       creation_date,\n",
    "       views_count,\n",
    "       SUM(views_count) OVER(PARTITION BY user_id ORDER BY creation_date) AS cumulative_count\n",
    "FROM stackoverflow.posts\n",
    "ORDER BY user_id, creation_date;\n",
    "'''\n",
    "\n",
    "# выполните запрос\n",
    "sample_df = pd.read_sql_query(query, con=engine)\n",
    "sample_df.head()"
   ]
  },
  {
   "cell_type": "markdown",
   "metadata": {
    "id": "toidOivXDWK1"
   },
   "source": [
    "<details>\n",
    "\n",
    "<summary>Подсказка</summary>\n",
    "Для подсчёта суммы с накоплением используйте оконную функцию.\n",
    "</details>"
   ]
  },
  {
   "cell_type": "markdown",
   "metadata": {
    "id": "N0kHRHvIDWK2"
   },
   "source": [
    "# Задание 5"
   ]
  },
  {
   "cell_type": "markdown",
   "metadata": {
    "id": "gBgvmPtODWK2"
   },
   "source": [
    "Найдите среднее количество постов пользователей в день за август 2008 года. Отберите данные о пользователях, которые опубликовали больше 120 постов за август. Дни без публикаций не учитывайте. \n",
    "\n",
    "Отсортируйте результат по возрастанию среднего количества постов. Значения можно не округлять."
   ]
  },
  {
   "cell_type": "markdown",
   "metadata": {
    "id": "nfzR08BODWK3"
   },
   "source": [
    "| user_id | avg_daily |\n",
    "| ------- | --------- |\n",
    "| 116     | 4.777778  |\n",
    "| 234     | 5.208333  |\n",
    "| ...     | ... |"
   ]
  },
  {
   "cell_type": "code",
   "execution_count": 13,
   "metadata": {
    "id": "YFyPNz5GDWK3"
   },
   "outputs": [
    {
     "data": {
      "text/html": [
       "<div>\n",
       "<style scoped>\n",
       "    .dataframe tbody tr th:only-of-type {\n",
       "        vertical-align: middle;\n",
       "    }\n",
       "\n",
       "    .dataframe tbody tr th {\n",
       "        vertical-align: top;\n",
       "    }\n",
       "\n",
       "    .dataframe thead th {\n",
       "        text-align: right;\n",
       "    }\n",
       "</style>\n",
       "<table border=\"1\" class=\"dataframe\">\n",
       "  <thead>\n",
       "    <tr style=\"text-align: right;\">\n",
       "      <th></th>\n",
       "      <th>user_id</th>\n",
       "      <th>avg_daily</th>\n",
       "    </tr>\n",
       "  </thead>\n",
       "  <tbody>\n",
       "    <tr>\n",
       "      <th>0</th>\n",
       "      <td>116</td>\n",
       "      <td>4.777778</td>\n",
       "    </tr>\n",
       "    <tr>\n",
       "      <th>1</th>\n",
       "      <td>234</td>\n",
       "      <td>5.208333</td>\n",
       "    </tr>\n",
       "    <tr>\n",
       "      <th>2</th>\n",
       "      <td>91</td>\n",
       "      <td>5.681818</td>\n",
       "    </tr>\n",
       "    <tr>\n",
       "      <th>3</th>\n",
       "      <td>905</td>\n",
       "      <td>7.000000</td>\n",
       "    </tr>\n",
       "    <tr>\n",
       "      <th>4</th>\n",
       "      <td>383</td>\n",
       "      <td>7.277778</td>\n",
       "    </tr>\n",
       "  </tbody>\n",
       "</table>\n",
       "</div>"
      ],
      "text/plain": [
       "   user_id  avg_daily\n",
       "0      116   4.777778\n",
       "1      234   5.208333\n",
       "2       91   5.681818\n",
       "3      905   7.000000\n",
       "4      383   7.277778"
      ]
     },
     "execution_count": 13,
     "metadata": {},
     "output_type": "execute_result"
    }
   ],
   "source": [
    "# напишите запрос\n",
    "query = '''\n",
    "WITH \n",
    "posts_aug_120 AS\n",
    "    (SELECT *\n",
    "    FROM\n",
    "        (SELECT DISTINCT user_id,\n",
    "               COUNT(id) OVER (PARTITION BY user_id) AS posts\n",
    "        FROM stackoverflow.posts\n",
    "        WHERE creation_date::date BETWEEN '2008-08-01' AND '2008-08-31') AS posts_aug\n",
    "    WHERE posts > 120),\n",
    "\n",
    "days_num AS\n",
    "    (SELECT DISTINCT user_id,\n",
    "           COUNT(*) OVER (PARTITION BY user_id) AS days_aug\n",
    "    FROM\n",
    "        (SELECT user_id,\n",
    "                COUNT(*) AS posts_p_day\n",
    "        FROM stackoverflow.posts AS posts\n",
    "        WHERE creation_date::date BETWEEN '2008-08-01' AND '2008-08-31'\n",
    "        GROUP BY user_id,\n",
    "              DATE_TRUNC('day', creation_date)) AS unique_user_day)\n",
    "\n",
    "SELECT posts_aug_120.user_id,\n",
    "       posts::numeric / days_aug::numeric AS avg_daily\n",
    "FROM posts_aug_120\n",
    "     JOIN days_num\n",
    "          ON posts_aug_120.user_id = days_num.user_id\n",
    "ORDER BY avg_daily;\n",
    "'''\n",
    "\n",
    "# выполните запрос\n",
    "sample_df = pd.read_sql_query(query, con=engine)\n",
    "sample_df.head()"
   ]
  },
  {
   "cell_type": "markdown",
   "metadata": {
    "id": "5Gs8kiJvDWK4"
   },
   "source": [
    "<details>\n",
    "\n",
    "<summary>Подсказка</summary>\n",
    "Сначала найдите идентификаторы пользователей, которые написали более 120 постов за август. Используя этот запрос в качестве подзапроса для среза, найдите и сохраните во временную таблицу идентификаторы нужных пользователей, дни августа и количество постов в день. В основном запросе сгруппируйте данные по пользователям и найдите для каждого из них среднее количество постов.\n",
    "</details>"
   ]
  },
  {
   "cell_type": "markdown",
   "metadata": {
    "id": "EQ0dcFH4DWK5"
   },
   "source": [
    "# Задание 6"
   ]
  },
  {
   "cell_type": "markdown",
   "metadata": {
    "id": "c7flfg_hDWK5"
   },
   "source": [
    "Сколько в среднем дней в период с 1 по 7 декабря 2008 года пользователи взаимодействовали с платформой? Для каждого пользователя отберите дни, в которые он или она опубликовали хотя бы один пост. Нужно получить одно целое число — не забудьте округлить результат. "
   ]
  },
  {
   "cell_type": "markdown",
   "metadata": {
    "id": "RC1Ibzm9DWK6"
   },
   "source": [
    "| result |\n",
    "| -----  |\n",
    "| <целое число> |"
   ]
  },
  {
   "cell_type": "code",
   "execution_count": 14,
   "metadata": {
    "id": "kZ7LXTr6DWK6"
   },
   "outputs": [
    {
     "data": {
      "text/html": [
       "<div>\n",
       "<style scoped>\n",
       "    .dataframe tbody tr th:only-of-type {\n",
       "        vertical-align: middle;\n",
       "    }\n",
       "\n",
       "    .dataframe tbody tr th {\n",
       "        vertical-align: top;\n",
       "    }\n",
       "\n",
       "    .dataframe thead th {\n",
       "        text-align: right;\n",
       "    }\n",
       "</style>\n",
       "<table border=\"1\" class=\"dataframe\">\n",
       "  <thead>\n",
       "    <tr style=\"text-align: right;\">\n",
       "      <th></th>\n",
       "      <th>result</th>\n",
       "    </tr>\n",
       "  </thead>\n",
       "  <tbody>\n",
       "    <tr>\n",
       "      <th>0</th>\n",
       "      <td>2</td>\n",
       "    </tr>\n",
       "  </tbody>\n",
       "</table>\n",
       "</div>"
      ],
      "text/plain": [
       "   result\n",
       "0       2"
      ]
     },
     "execution_count": 14,
     "metadata": {},
     "output_type": "execute_result"
    }
   ],
   "source": [
    "# напишите запрос\n",
    "query = '''\n",
    "WITH days_p_user AS\n",
    "    (SELECT DISTINCT user_id,\n",
    "           COUNT(*) OVER (PARTITION BY user_id) AS days\n",
    "    FROM\n",
    "        (SELECT DISTINCT user_id,\n",
    "               creation_date::date,\n",
    "               COUNT(*) OVER (PARTITION BY user_id, creation_date::date) AS posts_p_day\n",
    "        FROM stackoverflow.posts\n",
    "        WHERE creation_date::date BETWEEN '2008-12-01' AND '2008-12-07') AS unique_days)\n",
    "SELECT ROUND(AVG(days))::int AS result\n",
    "FROM days_p_user\n",
    "WHERE days <> 0;\n",
    "'''\n",
    "\n",
    "# выполните запрос\n",
    "sample_df = pd.read_sql_query(query, con=engine)\n",
    "sample_df.head()"
   ]
  },
  {
   "cell_type": "markdown",
   "metadata": {
    "id": "2K5G3xuBDWK7"
   },
   "source": [
    "<details>\n",
    "\n",
    "<summary>Подсказка</summary>\n",
    "Посчитайте, сколько активных дней было у каждого пользователя. Добавьте данные во временную таблицу и используйте в основном запросе.\n",
    "</details>"
   ]
  },
  {
   "cell_type": "markdown",
   "metadata": {
    "id": "UJFtNNggDWK7"
   },
   "source": [
    "Проанализируйте итоговую таблицу — какие выводы можно сделать?"
   ]
  },
  {
   "cell_type": "code",
   "execution_count": 15,
   "metadata": {
    "id": "LfUuYz-1DWK8"
   },
   "outputs": [
    {
     "data": {
      "text/plain": [
       "'Можно видеть, что в среднем пользователи взаимодействуют с платформой 2 раза в неделю.'"
      ]
     },
     "execution_count": 15,
     "metadata": {},
     "output_type": "execute_result"
    }
   ],
   "source": [
    "# напишите ваш ответ здесь\n",
    "'''Можно видеть, что в среднем пользователи взаимодействуют с платформой 2 раза в неделю.'''"
   ]
  },
  {
   "cell_type": "markdown",
   "metadata": {
    "id": "wfOmqmfLDWK8"
   },
   "source": [
    "# Задание 7"
   ]
  },
  {
   "cell_type": "markdown",
   "metadata": {
    "id": "X4ARQimADWK9"
   },
   "source": [
    "Выведите историю активности каждого пользователя в таком виде: идентификатор пользователя, дата публикации поста. Отсортируйте вывод по возрастанию идентификаторов пользователей, а для каждого пользователя — по возрастанию даты публикации.\n",
    "\n",
    "Добавьте в таблицу новое поле: для каждого поста в нём будет указано название месяца предпоследней публикации пользователя относительно текущей. Если такой публикации нет, укажите `NULL`.  Python автоматически поменяет `NULL` на `None`, но дополнительно преобразовывать значения `None` вам не нужно.\n",
    "\n",
    "Посмотрите внимательно на образец таблицы: для первых двух постов предпоследней публикации нет, но, начиная с третьего поста, в новое поле входит нужный месяц. Для следующего пользователя в первые две записи поля `second_last_month` тоже войдёт `NULL`."
   ]
  },
  {
   "cell_type": "markdown",
   "metadata": {
    "id": "IGPjRP01DWK9"
   },
   "source": [
    "| user_id | creation_date | second_last_month |\n",
    "| ------- | ------------- | ----------------- |\n",
    "| 1       | 2008-07-31 23:41:00 | None |\n",
    "| 1       | 2008-07-31 23:55:38 | None |\n",
    "| 1       | 2008-07-31 23:56:41 | July |\n",
    "| 1       | 2008-08-04 02:45:08 | July |\n",
    "| 1       | 2008-08-04 04:31:03 | July |\n",
    "| 1       | 2008-08-04 08:04:42 | August |\n",
    "| ... | ... | ... |"
   ]
  },
  {
   "cell_type": "code",
   "execution_count": 16,
   "metadata": {
    "id": "HzI1vhaMDWK-",
    "scrolled": true
   },
   "outputs": [
    {
     "data": {
      "text/html": [
       "<div>\n",
       "<style scoped>\n",
       "    .dataframe tbody tr th:only-of-type {\n",
       "        vertical-align: middle;\n",
       "    }\n",
       "\n",
       "    .dataframe tbody tr th {\n",
       "        vertical-align: top;\n",
       "    }\n",
       "\n",
       "    .dataframe thead th {\n",
       "        text-align: right;\n",
       "    }\n",
       "</style>\n",
       "<table border=\"1\" class=\"dataframe\">\n",
       "  <thead>\n",
       "    <tr style=\"text-align: right;\">\n",
       "      <th></th>\n",
       "      <th>user_id</th>\n",
       "      <th>creation_date</th>\n",
       "      <th>second_last_month</th>\n",
       "    </tr>\n",
       "  </thead>\n",
       "  <tbody>\n",
       "    <tr>\n",
       "      <th>0</th>\n",
       "      <td>1</td>\n",
       "      <td>2008-07-31 23:41:00</td>\n",
       "      <td>None</td>\n",
       "    </tr>\n",
       "    <tr>\n",
       "      <th>1</th>\n",
       "      <td>1</td>\n",
       "      <td>2008-07-31 23:55:38</td>\n",
       "      <td>None</td>\n",
       "    </tr>\n",
       "    <tr>\n",
       "      <th>2</th>\n",
       "      <td>1</td>\n",
       "      <td>2008-07-31 23:56:41</td>\n",
       "      <td>July</td>\n",
       "    </tr>\n",
       "    <tr>\n",
       "      <th>3</th>\n",
       "      <td>1</td>\n",
       "      <td>2008-08-04 02:45:08</td>\n",
       "      <td>July</td>\n",
       "    </tr>\n",
       "    <tr>\n",
       "      <th>4</th>\n",
       "      <td>1</td>\n",
       "      <td>2008-08-04 04:31:03</td>\n",
       "      <td>July</td>\n",
       "    </tr>\n",
       "    <tr>\n",
       "      <th>5</th>\n",
       "      <td>1</td>\n",
       "      <td>2008-08-04 08:04:42</td>\n",
       "      <td>August</td>\n",
       "    </tr>\n",
       "  </tbody>\n",
       "</table>\n",
       "</div>"
      ],
      "text/plain": [
       "   user_id       creation_date second_last_month\n",
       "0        1 2008-07-31 23:41:00              None\n",
       "1        1 2008-07-31 23:55:38              None\n",
       "2        1 2008-07-31 23:56:41         July     \n",
       "3        1 2008-08-04 02:45:08         July     \n",
       "4        1 2008-08-04 04:31:03         July     \n",
       "5        1 2008-08-04 08:04:42         August   "
      ]
     },
     "execution_count": 16,
     "metadata": {},
     "output_type": "execute_result"
    }
   ],
   "source": [
    "# напишите запрос\n",
    "query = '''\n",
    "SELECT user_id,\n",
    "       creation_date,\n",
    "       TO_CHAR(LAG(creation_date, 2, NULL) \n",
    "                   OVER (PARTITION BY user_id ORDER BY creation_date), 'Month') AS second_last_month\n",
    "FROM stackoverflow.posts\n",
    "ORDER BY user_id, creation_date\n",
    "'''\n",
    "\n",
    "# выполните запрос\n",
    "sample_df = pd.read_sql_query(query, con=engine)\n",
    "sample_df.head(6)"
   ]
  },
  {
   "cell_type": "markdown",
   "metadata": {
    "id": "7dqoKkncDWK_"
   },
   "source": [
    "<details>\n",
    "\n",
    "<summary>Подсказка</summary>\n",
    "Преобразовать результат оконной функции в нужное значение вам поможет аналог условного оператора в SQL: CASE <поле> WHEN <старое значение> THEN <новое значение> END.\n",
    "</details>"
   ]
  },
  {
   "cell_type": "markdown",
   "metadata": {
    "id": "tf9qq2yzDWK_"
   },
   "source": [
    "# Задание 8"
   ]
  },
  {
   "cell_type": "markdown",
   "metadata": {
    "id": "gfwLVXBYDWLA"
   },
   "source": [
    "Рассчитайте аналог Retention Rate по месяцам для пользователей StackOverflow. Объедините пользователей в когорты по месяцу их первого поста. Возвращение определяйте по наличию поста в текущем месяце. "
   ]
  },
  {
   "cell_type": "markdown",
   "metadata": {
    "id": "kN2ic39WlKpl"
   },
   "source": [
    "| cohort_dt | session_date | users_cnt | cohort_users_cnt | retention_rate |\n",
    "| --- | --- | --- | --- | --- |\n",
    "| 2008-07-01 00:00:00 | 2008-07-01 00:00:00 | 3 | 3 | 100 |\n",
    "| 2008-07-01 00:00:00 | 2008-08-01 00:00:00 | 2 | 3 | 66,67 |\n",
    "| 2008-07-01 00:00:00 | 2008-09-01 00:00:00 | 1 | 3 | 33,33 |\n",
    "| 2008-07-01 00:00:00 | 2008-10-01 00:00:00 | 2 | 3 | 66,67 |\n",
    "| 2008-07-01 00:00:00 | 2008-11-01 00:00:00 | 1 | 3 | 33,33 |\n",
    "| 2008-07-01 00:00:00 | 2008-12-01 00:00:00 | 2 | 3 | 66,67 |\n",
    "| 2008-08-01 00:00:00 | 2008-08-01 00:00:00 | 2151 | 2151 | 100 |\n",
    "| ... | ... | ... | ... | ... |"
   ]
  },
  {
   "cell_type": "code",
   "execution_count": 17,
   "metadata": {
    "id": "LUgFmwmTDWLB"
   },
   "outputs": [
    {
     "data": {
      "text/html": [
       "<div>\n",
       "<style scoped>\n",
       "    .dataframe tbody tr th:only-of-type {\n",
       "        vertical-align: middle;\n",
       "    }\n",
       "\n",
       "    .dataframe tbody tr th {\n",
       "        vertical-align: top;\n",
       "    }\n",
       "\n",
       "    .dataframe thead th {\n",
       "        text-align: right;\n",
       "    }\n",
       "</style>\n",
       "<table border=\"1\" class=\"dataframe\">\n",
       "  <thead>\n",
       "    <tr style=\"text-align: right;\">\n",
       "      <th></th>\n",
       "      <th>cohort_dt</th>\n",
       "      <th>session_date</th>\n",
       "      <th>users_cnt</th>\n",
       "      <th>cohort_users_cnt</th>\n",
       "      <th>retention_rate</th>\n",
       "    </tr>\n",
       "  </thead>\n",
       "  <tbody>\n",
       "    <tr>\n",
       "      <th>0</th>\n",
       "      <td>2008-07-01</td>\n",
       "      <td>2008-07-01</td>\n",
       "      <td>3</td>\n",
       "      <td>3</td>\n",
       "      <td>100.00</td>\n",
       "    </tr>\n",
       "    <tr>\n",
       "      <th>1</th>\n",
       "      <td>2008-07-01</td>\n",
       "      <td>2008-08-01</td>\n",
       "      <td>2</td>\n",
       "      <td>3</td>\n",
       "      <td>66.67</td>\n",
       "    </tr>\n",
       "    <tr>\n",
       "      <th>2</th>\n",
       "      <td>2008-07-01</td>\n",
       "      <td>2008-09-01</td>\n",
       "      <td>1</td>\n",
       "      <td>3</td>\n",
       "      <td>33.33</td>\n",
       "    </tr>\n",
       "    <tr>\n",
       "      <th>3</th>\n",
       "      <td>2008-07-01</td>\n",
       "      <td>2008-10-01</td>\n",
       "      <td>2</td>\n",
       "      <td>3</td>\n",
       "      <td>66.67</td>\n",
       "    </tr>\n",
       "    <tr>\n",
       "      <th>4</th>\n",
       "      <td>2008-07-01</td>\n",
       "      <td>2008-11-01</td>\n",
       "      <td>1</td>\n",
       "      <td>3</td>\n",
       "      <td>33.33</td>\n",
       "    </tr>\n",
       "    <tr>\n",
       "      <th>5</th>\n",
       "      <td>2008-07-01</td>\n",
       "      <td>2008-12-01</td>\n",
       "      <td>2</td>\n",
       "      <td>3</td>\n",
       "      <td>66.67</td>\n",
       "    </tr>\n",
       "    <tr>\n",
       "      <th>6</th>\n",
       "      <td>2008-08-01</td>\n",
       "      <td>2008-08-01</td>\n",
       "      <td>2151</td>\n",
       "      <td>2151</td>\n",
       "      <td>100.00</td>\n",
       "    </tr>\n",
       "  </tbody>\n",
       "</table>\n",
       "</div>"
      ],
      "text/plain": [
       "   cohort_dt session_date  users_cnt  cohort_users_cnt  retention_rate\n",
       "0 2008-07-01   2008-07-01          3                 3          100.00\n",
       "1 2008-07-01   2008-08-01          2                 3           66.67\n",
       "2 2008-07-01   2008-09-01          1                 3           33.33\n",
       "3 2008-07-01   2008-10-01          2                 3           66.67\n",
       "4 2008-07-01   2008-11-01          1                 3           33.33\n",
       "5 2008-07-01   2008-12-01          2                 3           66.67\n",
       "6 2008-08-01   2008-08-01       2151              2151          100.00"
      ]
     },
     "execution_count": 17,
     "metadata": {},
     "output_type": "execute_result"
    }
   ],
   "source": [
    "# напишите запрос\n",
    "query = '''\n",
    "WITH\n",
    "profile AS \n",
    "    (SELECT *,\n",
    "           COUNT(*) OVER (PARTITION BY first_post_dt) AS cohort_users_cnt\n",
    "    FROM\n",
    "        (SELECT DISTINCT user_id,\n",
    "               MIN(DATE_TRUNC('month', creation_date)) OVER (PARTITION BY user_id) AS first_post_dt\n",
    "        FROM stackoverflow.posts) AS first_post),\n",
    "\n",
    "sessions AS\n",
    "(SELECT user_id,\n",
    "       DATE_TRUNC('month', creation_date) AS session_date\n",
    "FROM stackoverflow.posts\n",
    "GROUP BY user_id, session_date)\n",
    "\n",
    "SELECT first_post_dt AS cohort_dt,\n",
    "       session_date,\n",
    "       COUNT(profile.user_id) AS users_cnt,\n",
    "       cohort_users_cnt,\n",
    "       ROUND(COUNT(profile.user_id) * 100.0 / cohort_users_cnt, 2) AS retention_rate\n",
    "FROM profile\n",
    "     JOIN sessions\n",
    "        ON profile.user_id=sessions.user_id\n",
    "GROUP BY cohort_dt, session_date, cohort_users_cnt\n",
    "'''\n",
    "\n",
    "# выполните запрос\n",
    "sample_df = pd.read_sql_query(query, con=engine)\n",
    "sample_df.head(7)"
   ]
  },
  {
   "cell_type": "markdown",
   "metadata": {
    "id": "Yavb5o9JDWLB"
   },
   "source": [
    "<details>\n",
    "\n",
    "<summary>Подсказка</summary>\n",
    "Вспомните, как выглядел запрос для расчёта Retention Rate в теории. Создайте две временные таблицы: `profile` и `sessions` (в ней будет информация о публикациях), а затем используйте их в основном запросе.\n",
    "\n",
    "Во временной таблице `profile` вам понадобятся три поля:\n",
    "\n",
    "- идентификатор пользователя;\n",
    "- дата первого поста пользователя, усечённая до месяца (признак начала когорты);\n",
    "- количество пользователей этой когорты.\n",
    "</details>"
   ]
  },
  {
   "cell_type": "markdown",
   "metadata": {
    "id": "_msBtnb2DWLC"
   },
   "source": [
    "Постройте тепловую карту Retention Rate. Какие аномалии или другие необычные явления удалось выявить? Сформулируйте гипотезы о возможных причинах."
   ]
  },
  {
   "cell_type": "code",
   "execution_count": 18,
   "metadata": {
    "id": "qAEJc8H1DWLC"
   },
   "outputs": [
    {
     "data": {
      "image/png": "[encoded data removed]",
      "text/plain": [
       "<Figure size 1152x1152 with 2 Axes>"
      ]
     },
     "metadata": {
      "needs_background": "light"
     },
     "output_type": "display_data"
    }
   ],
   "source": [
    "# постройте тепловую карту Retention Rate\n",
    "retention = sample_df.pivot('cohort_dt', 'session_date', 'retention_rate')\n",
    "retention.index = [str(x)[0:10] for x in retention.index]\n",
    "retention.columns = [str(x)[0:10] for x in retention.columns]\n",
    "\n",
    "# строим хитмэп\n",
    "plt.figure(figsize=(16, 16)) # задаём размер графика\n",
    "sns.heatmap(retention, # датафрейм с данными\n",
    "            annot=True, # добавляем подписи\n",
    "            fmt='') # задаём исходный формат\n",
    "plt.title('Тепловая карта') # название графика\n",
    "plt.show()"
   ]
  },
  {
   "cell_type": "code",
   "execution_count": 19,
   "metadata": {
    "id": "EgOfIsI4DWLC"
   },
   "outputs": [
    {
     "data": {
      "text/plain": [
       "'Для каждой из когорт кроме 2008-07-01 наблюдается ежемесячное снижение retention_rate. Для когорты 2008-07-01\\nнаблюдается волатильность удержания, что может быть связано с малым количеством данных в этой когорте.'"
      ]
     },
     "execution_count": 19,
     "metadata": {},
     "output_type": "execute_result"
    }
   ],
   "source": [
    "# опишите аномалии или другие необычные явления и сформулируйте гипотезы\n",
    "'''Для каждой из когорт кроме 2008-07-01 наблюдается ежемесячное снижение retention_rate. Для когорты 2008-07-01\n",
    "наблюдается волатильность удержания, что может быть связано с малым количеством данных в этой когорте.'''"
   ]
  },
  {
   "cell_type": "markdown",
   "metadata": {
    "id": "1k7oPWt5DWLK"
   },
   "source": [
    "# Задание 9\n"
   ]
  },
  {
   "cell_type": "markdown",
   "metadata": {
    "id": "ALsYVSyRDWLM"
   },
   "source": [
    "На сколько процентов менялось количество постов ежемесячно с 1 сентября по 31 декабря 2008 года? Отобразите таблицу со следующими полями:\n",
    "\n",
    "- номер месяца;\n",
    "- количество постов за месяц;\n",
    "- процент, который показывает, насколько изменилось количество постов в текущем месяце по сравнению с предыдущим.\n",
    "\n",
    "Если постов стало меньше, значение процента должно быть отрицательным, если больше — положительным. Округлите значение процента до двух знаков после запятой.\n",
    "\n",
    "Напомним, что при делении одного целого числа на другое в PostgreSQL в результате получится целое число, округлённое до ближайшего целого вниз. Чтобы этого избежать, переведите делимое в тип `numeric`."
   ]
  },
  {
   "cell_type": "markdown",
   "metadata": {
    "id": "u4E2zF8DDWLM"
   },
   "source": [
    "| creation_month | posts_count | percentage |\n",
    "| -------------- | ----------- | ---------- |\n",
    "| 9 | 70731 | Nan |\n",
    "| 10 | 63102 | -10.33 |\n",
    "| ... | ... | ... |"
   ]
  },
  {
   "cell_type": "code",
   "execution_count": 20,
   "metadata": {
    "id": "Mb5pShStDWLN"
   },
   "outputs": [
    {
     "data": {
      "text/html": [
       "<div>\n",
       "<style scoped>\n",
       "    .dataframe tbody tr th:only-of-type {\n",
       "        vertical-align: middle;\n",
       "    }\n",
       "\n",
       "    .dataframe tbody tr th {\n",
       "        vertical-align: top;\n",
       "    }\n",
       "\n",
       "    .dataframe thead th {\n",
       "        text-align: right;\n",
       "    }\n",
       "</style>\n",
       "<table border=\"1\" class=\"dataframe\">\n",
       "  <thead>\n",
       "    <tr style=\"text-align: right;\">\n",
       "      <th></th>\n",
       "      <th>creation_month</th>\n",
       "      <th>post_count</th>\n",
       "      <th>percentage</th>\n",
       "    </tr>\n",
       "  </thead>\n",
       "  <tbody>\n",
       "    <tr>\n",
       "      <th>0</th>\n",
       "      <td>9</td>\n",
       "      <td>70371</td>\n",
       "      <td>NaN</td>\n",
       "    </tr>\n",
       "    <tr>\n",
       "      <th>1</th>\n",
       "      <td>10</td>\n",
       "      <td>63102</td>\n",
       "      <td>-10.33</td>\n",
       "    </tr>\n",
       "    <tr>\n",
       "      <th>2</th>\n",
       "      <td>11</td>\n",
       "      <td>46975</td>\n",
       "      <td>-25.56</td>\n",
       "    </tr>\n",
       "    <tr>\n",
       "      <th>3</th>\n",
       "      <td>12</td>\n",
       "      <td>44592</td>\n",
       "      <td>-5.07</td>\n",
       "    </tr>\n",
       "  </tbody>\n",
       "</table>\n",
       "</div>"
      ],
      "text/plain": [
       "   creation_month  post_count  percentage\n",
       "0               9       70371         NaN\n",
       "1              10       63102      -10.33\n",
       "2              11       46975      -25.56\n",
       "3              12       44592       -5.07"
      ]
     },
     "execution_count": 20,
     "metadata": {},
     "output_type": "execute_result"
    }
   ],
   "source": [
    "# напишите запрос\n",
    "query = '''\n",
    "WITH difference AS\n",
    "(SELECT *,\n",
    "       (post_count - LAG(post_count) OVER (ORDER BY creation_month)) AS diff\n",
    "FROM\n",
    "    (SELECT DISTINCT EXTRACT(month from creation_date)::int AS creation_month,\n",
    "           COUNT(*) OVER (PARTITION BY DATE_TRUNC('month', creation_date)) AS post_count\n",
    "    FROM stackoverflow.posts\n",
    "    WHERE creation_date BETWEEN '2008-09-01' AND '2008-12-31') AS posts_p_month)\n",
    "    \n",
    "SELECT creation_month,\n",
    "       post_count,\n",
    "       ROUND(diff::numeric * 100 / LAG(post_count) OVER (ORDER BY creation_month), 2) AS percentage\n",
    "FROM difference\n",
    "'''\n",
    "\n",
    "# выполните запрос\n",
    "sample_df = pd.read_sql_query(query, con=engine)\n",
    "sample_df.head()"
   ]
  },
  {
   "cell_type": "markdown",
   "metadata": {
    "id": "G0VSDL4HDWLO"
   },
   "source": [
    "\n",
    "<details>\n",
    "\n",
    "<summary>Подсказка</summary>\n",
    "Эту задачу стоит декомпозировать. Сформируйте запрос, который отобразит номер месяца и количество постов. Затем можно использовать оконную функцию, которая вернёт значение за предыдущий месяц, и посчитать процент.\n",
    "</details>"
   ]
  },
  {
   "cell_type": "markdown",
   "metadata": {
    "id": "9NQE2y_MDWLP"
   },
   "source": [
    "Постройте круговую диаграмму с количеством постов по месяцам."
   ]
  },
  {
   "cell_type": "code",
   "execution_count": 21,
   "metadata": {
    "id": "377ABjiVDWLP"
   },
   "outputs": [
    {
     "data": {
      "image/png": "[encoded data removed]",
      "text/plain": [
       "<Figure size 432x288 with 1 Axes>"
      ]
     },
     "metadata": {},
     "output_type": "display_data"
    }
   ],
   "source": [
    "# постройте круговую диаграмму с количеством постов по месяцам\n",
    "plt.pie(sample_df['post_count'], labels=['Сент', 'Окт', 'Ноя','Дек'])\n",
    "plt.title('Круговая диаграмма')\n",
    "plt.show()"
   ]
  },
  {
   "cell_type": "markdown",
   "metadata": {
    "id": "uw7qMtafDWLP"
   },
   "source": [
    "# Задание 10"
   ]
  },
  {
   "cell_type": "markdown",
   "metadata": {
    "id": "oRBpWKx3DWLQ"
   },
   "source": [
    "Выгрузите данные активности пользователя, который опубликовал больше всего постов за всё время. Выведите данные за октябрь 2008 года в таком виде:\n",
    "\n",
    "- номер недели;\n",
    "- дата и время последнего поста, опубликованного на этой неделе."
   ]
  },
  {
   "cell_type": "markdown",
   "metadata": {
    "id": "XjAWSn_3DWLQ"
   },
   "source": [
    "| week_creation | creation_date |\n",
    "| ------------- | ------------- |\n",
    "| 40 | 2008-10-05 09:00:58 |\n",
    "| 41 | 2008-10-12 21:22:23 |\n",
    "| ... | ... |"
   ]
  },
  {
   "cell_type": "code",
   "execution_count": 22,
   "metadata": {
    "id": "r5F5fSkwDWLQ"
   },
   "outputs": [
    {
     "data": {
      "text/html": [
       "<div>\n",
       "<style scoped>\n",
       "    .dataframe tbody tr th:only-of-type {\n",
       "        vertical-align: middle;\n",
       "    }\n",
       "\n",
       "    .dataframe tbody tr th {\n",
       "        vertical-align: top;\n",
       "    }\n",
       "\n",
       "    .dataframe thead th {\n",
       "        text-align: right;\n",
       "    }\n",
       "</style>\n",
       "<table border=\"1\" class=\"dataframe\">\n",
       "  <thead>\n",
       "    <tr style=\"text-align: right;\">\n",
       "      <th></th>\n",
       "      <th>creation_week</th>\n",
       "      <th>last_post</th>\n",
       "    </tr>\n",
       "  </thead>\n",
       "  <tbody>\n",
       "    <tr>\n",
       "      <th>0</th>\n",
       "      <td>40</td>\n",
       "      <td>2008-10-05 09:00:58</td>\n",
       "    </tr>\n",
       "    <tr>\n",
       "      <th>1</th>\n",
       "      <td>41</td>\n",
       "      <td>2008-10-12 21:22:23</td>\n",
       "    </tr>\n",
       "    <tr>\n",
       "      <th>2</th>\n",
       "      <td>42</td>\n",
       "      <td>2008-10-19 06:49:30</td>\n",
       "    </tr>\n",
       "    <tr>\n",
       "      <th>3</th>\n",
       "      <td>43</td>\n",
       "      <td>2008-10-26 21:44:36</td>\n",
       "    </tr>\n",
       "    <tr>\n",
       "      <th>4</th>\n",
       "      <td>44</td>\n",
       "      <td>2008-10-31 22:16:01</td>\n",
       "    </tr>\n",
       "  </tbody>\n",
       "</table>\n",
       "</div>"
      ],
      "text/plain": [
       "  creation_week           last_post\n",
       "0            40 2008-10-05 09:00:58\n",
       "1            41 2008-10-12 21:22:23\n",
       "2            42 2008-10-19 06:49:30\n",
       "3            43 2008-10-26 21:44:36\n",
       "4            44 2008-10-31 22:16:01"
      ]
     },
     "execution_count": 22,
     "metadata": {},
     "output_type": "execute_result"
    }
   ],
   "source": [
    "# напишите запрос\n",
    "query = '''\n",
    "WITH\n",
    "posts_cnt AS\n",
    "    (SELECT DISTINCT user_id,\n",
    "           COUNT(id) OVER (PARTITION BY user_id) num_posts\n",
    "    FROM stackoverflow.posts),\n",
    "\n",
    "max_posts AS\n",
    "(SELECT MAX(num_posts) AS max_num_posts\n",
    "FROM posts_cnt),\n",
    "\n",
    "active_user AS\n",
    "(SELECT user_id\n",
    "FROM posts_cnt\n",
    "     JOIN max_posts\n",
    "          ON posts_cnt.num_posts = max_posts.max_num_posts)\n",
    "\n",
    "SELECT DISTINCT creation_week,\n",
    "       MAX(creation_date) OVER (PARTITION BY creation_week) AS last_post\n",
    "FROM\n",
    "    (SELECT creation_date,\n",
    "           TO_CHAR(creation_date, 'IW') AS creation_week\n",
    "    FROM stackoverflow.posts AS posts\n",
    "         JOIN active_user\n",
    "              ON posts.user_id = active_user.user_id\n",
    "    WHERE (EXTRACT(year FROM creation_date) = 2008) AND \n",
    "          (EXTRACT(month FROM creation_date) = 10)) AS dates_week\n",
    "ORDER BY creation_week\n",
    "'''\n",
    "\n",
    "# выполните запрос\n",
    "sample_df = pd.read_sql_query(query, con=engine)\n",
    "sample_df"
   ]
  },
  {
   "cell_type": "markdown",
   "metadata": {
    "id": "KAcmxvLgDWLR"
   },
   "source": [
    "<details>\n",
    "\n",
    "<summary>Подсказка</summary>\n",
    "Декомпозируйте задачу:\n",
    "1) Найдите пользователя, который опубликовал больше всего постов. 2) Найдите дату и время создания каждого поста этого пользователя и номер недели. \n",
    "3) Отобразите данные только о последних постах пользователя. Для этого можно использовать оконную функцию.\n",
    "</details>"
   ]
  },
  {
   "cell_type": "code",
   "execution_count": null,
   "metadata": {},
   "outputs": [],
   "source": []
  }
 ],
 "metadata": {
  "ExecuteTimeLog": [
   {
    "duration": 824,
    "start_time": "2022-09-13T10:17:12.120Z"
   },
   {
    "duration": 3,
    "start_time": "2022-09-13T10:17:20.208Z"
   },
   {
    "duration": 9546,
    "start_time": "2022-09-13T10:17:24.462Z"
   },
   {
    "duration": 72,
    "start_time": "2022-09-13T10:17:37.499Z"
   },
   {
    "duration": 14,
    "start_time": "2022-09-13T10:17:44.122Z"
   },
   {
    "duration": 1330,
    "start_time": "2022-09-13T10:24:52.731Z"
   },
   {
    "duration": 1385,
    "start_time": "2022-09-13T10:30:25.308Z"
   },
   {
    "duration": 791,
    "start_time": "2022-09-13T10:33:13.846Z"
   },
   {
    "duration": 245,
    "start_time": "2022-09-13T10:33:30.391Z"
   },
   {
    "duration": 240,
    "start_time": "2022-09-13T10:34:03.424Z"
   },
   {
    "duration": 239,
    "start_time": "2022-09-13T10:35:29.859Z"
   },
   {
    "duration": 253,
    "start_time": "2022-09-13T10:37:57.714Z"
   },
   {
    "duration": 226,
    "start_time": "2022-09-13T10:38:21.907Z"
   },
   {
    "duration": 237,
    "start_time": "2022-09-13T10:38:59.902Z"
   },
   {
    "duration": 223,
    "start_time": "2022-09-13T10:39:07.955Z"
   },
   {
    "duration": 4,
    "start_time": "2022-09-13T10:46:36.322Z"
   },
   {
    "duration": 147,
    "start_time": "2022-09-13T11:19:48.655Z"
   },
   {
    "duration": 822,
    "start_time": "2022-09-13T12:40:07.458Z"
   },
   {
    "duration": 4,
    "start_time": "2022-09-13T12:40:08.282Z"
   },
   {
    "duration": 11003,
    "start_time": "2022-09-13T12:40:08.287Z"
   },
   {
    "duration": 201,
    "start_time": "2022-09-13T12:40:19.291Z"
   },
   {
    "duration": 15,
    "start_time": "2022-09-13T12:40:19.493Z"
   },
   {
    "duration": 260,
    "start_time": "2022-09-13T12:40:19.509Z"
   },
   {
    "duration": 3,
    "start_time": "2022-09-13T12:40:19.771Z"
   },
   {
    "duration": 38,
    "start_time": "2022-09-13T12:42:15.630Z"
   },
   {
    "duration": 39,
    "start_time": "2022-09-13T12:42:24.654Z"
   },
   {
    "duration": 35,
    "start_time": "2022-09-13T12:42:53.454Z"
   },
   {
    "duration": 1169,
    "start_time": "2022-09-13T12:47:07.769Z"
   },
   {
    "duration": 1138,
    "start_time": "2022-09-13T12:47:43.658Z"
   },
   {
    "duration": 623,
    "start_time": "2022-09-13T12:51:31.578Z"
   },
   {
    "duration": 216,
    "start_time": "2022-09-13T12:56:19.300Z"
   },
   {
    "duration": 176,
    "start_time": "2022-09-13T12:56:30.970Z"
   },
   {
    "duration": 2042,
    "start_time": "2022-09-13T12:58:10.850Z"
   },
   {
    "duration": 455,
    "start_time": "2022-09-13T12:58:49.274Z"
   },
   {
    "duration": 728,
    "start_time": "2022-09-13T12:59:14.706Z"
   },
   {
    "duration": 773,
    "start_time": "2022-09-13T13:00:09.484Z"
   },
   {
    "duration": 900,
    "start_time": "2022-09-13T13:00:52.352Z"
   },
   {
    "duration": 860,
    "start_time": "2022-09-13T13:02:03.050Z"
   },
   {
    "duration": 484,
    "start_time": "2022-09-13T13:06:15.098Z"
   },
   {
    "duration": 643,
    "start_time": "2022-09-13T13:09:19.873Z"
   },
   {
    "duration": 911,
    "start_time": "2022-09-13T13:10:16.710Z"
   },
   {
    "duration": 853,
    "start_time": "2022-09-13T13:10:47.002Z"
   },
   {
    "duration": 789,
    "start_time": "2022-09-13T13:11:28.817Z"
   },
   {
    "duration": 663,
    "start_time": "2022-09-13T13:12:11.551Z"
   },
   {
    "duration": 200,
    "start_time": "2022-09-13T13:13:53.658Z"
   },
   {
    "duration": 159,
    "start_time": "2022-09-13T13:15:35.455Z"
   },
   {
    "duration": 3315,
    "start_time": "2022-09-13T13:15:46.812Z"
   },
   {
    "duration": 199,
    "start_time": "2022-09-13T13:17:07.796Z"
   },
   {
    "duration": 260,
    "start_time": "2022-09-13T13:19:02.576Z"
   },
   {
    "duration": 289,
    "start_time": "2022-09-13T13:19:59.305Z"
   },
   {
    "duration": 201,
    "start_time": "2022-09-13T13:20:10.275Z"
   },
   {
    "duration": 203,
    "start_time": "2022-09-13T13:21:36.416Z"
   },
   {
    "duration": 204,
    "start_time": "2022-09-13T13:21:58.774Z"
   },
   {
    "duration": 200,
    "start_time": "2022-09-13T13:22:51.263Z"
   },
   {
    "duration": 370,
    "start_time": "2022-09-13T13:23:43.951Z"
   },
   {
    "duration": 154,
    "start_time": "2022-09-13T13:24:15.663Z"
   },
   {
    "duration": 2988,
    "start_time": "2022-09-13T13:24:41.169Z"
   },
   {
    "duration": 16652,
    "start_time": "2022-09-13T13:25:01.289Z"
   },
   {
    "duration": 200,
    "start_time": "2022-09-13T13:26:28.351Z"
   },
   {
    "duration": 238,
    "start_time": "2022-09-13T13:27:51.186Z"
   },
   {
    "duration": 224,
    "start_time": "2022-09-13T13:28:07.166Z"
   },
   {
    "duration": 211,
    "start_time": "2022-09-13T13:28:38.358Z"
   },
   {
    "duration": 224,
    "start_time": "2022-09-13T13:28:57.582Z"
   },
   {
    "duration": 225,
    "start_time": "2022-09-13T13:29:08.403Z"
   },
   {
    "duration": 210,
    "start_time": "2022-09-13T13:29:32.069Z"
   },
   {
    "duration": 204,
    "start_time": "2022-09-13T13:32:46.345Z"
   },
   {
    "duration": 213,
    "start_time": "2022-09-13T13:34:16.761Z"
   },
   {
    "duration": 216,
    "start_time": "2022-09-13T13:34:42.089Z"
   },
   {
    "duration": 231,
    "start_time": "2022-09-13T13:35:04.353Z"
   },
   {
    "duration": 209,
    "start_time": "2022-09-13T13:35:21.381Z"
   },
   {
    "duration": 219,
    "start_time": "2022-09-13T13:37:26.454Z"
   },
   {
    "duration": 214,
    "start_time": "2022-09-13T13:37:50.366Z"
   },
   {
    "duration": 208,
    "start_time": "2022-09-13T13:38:15.887Z"
   },
   {
    "duration": 1037,
    "start_time": "2022-09-13T13:40:51.946Z"
   },
   {
    "duration": 2254,
    "start_time": "2022-09-13T13:41:30.154Z"
   },
   {
    "duration": 9058,
    "start_time": "2022-09-13T13:41:51.557Z"
   },
   {
    "duration": 8649,
    "start_time": "2022-09-13T13:43:13.618Z"
   },
   {
    "duration": 4832,
    "start_time": "2022-09-13T13:44:46.182Z"
   },
   {
    "duration": 4,
    "start_time": "2022-09-13T13:46:03.783Z"
   },
   {
    "duration": 4,
    "start_time": "2022-09-13T13:47:56.376Z"
   },
   {
    "duration": 4,
    "start_time": "2022-09-13T13:51:05.848Z"
   },
   {
    "duration": 93,
    "start_time": "2022-09-13T13:53:37.097Z"
   },
   {
    "duration": 104,
    "start_time": "2022-09-13T13:54:13.688Z"
   },
   {
    "duration": 99,
    "start_time": "2022-09-13T13:54:34.548Z"
   },
   {
    "duration": 96,
    "start_time": "2022-09-13T13:54:50.147Z"
   },
   {
    "duration": 254,
    "start_time": "2022-09-13T13:55:01.867Z"
   },
   {
    "duration": 676,
    "start_time": "2022-09-13T13:56:19.555Z"
   },
   {
    "duration": 4,
    "start_time": "2022-09-13T13:56:20.233Z"
   },
   {
    "duration": 7037,
    "start_time": "2022-09-13T13:56:20.239Z"
   },
   {
    "duration": 202,
    "start_time": "2022-09-13T13:56:27.278Z"
   },
   {
    "duration": 13,
    "start_time": "2022-09-13T13:56:27.482Z"
   },
   {
    "duration": 254,
    "start_time": "2022-09-13T13:56:27.497Z"
   },
   {
    "duration": 3,
    "start_time": "2022-09-13T13:56:27.752Z"
   },
   {
    "duration": 235,
    "start_time": "2022-09-13T13:56:27.757Z"
   },
   {
    "duration": 4,
    "start_time": "2022-09-13T13:56:35.191Z"
   },
   {
    "duration": 817,
    "start_time": "2022-09-14T07:49:40.949Z"
   },
   {
    "duration": 3,
    "start_time": "2022-09-14T07:49:41.769Z"
   },
   {
    "duration": 9151,
    "start_time": "2022-09-14T07:49:41.775Z"
   },
   {
    "duration": 99,
    "start_time": "2022-09-14T07:49:50.928Z"
   },
   {
    "duration": 12,
    "start_time": "2022-09-14T07:49:51.029Z"
   },
   {
    "duration": 234,
    "start_time": "2022-09-14T07:49:51.043Z"
   },
   {
    "duration": 3,
    "start_time": "2022-09-14T07:49:51.279Z"
   },
   {
    "duration": 207,
    "start_time": "2022-09-14T07:49:51.283Z"
   },
   {
    "duration": 4,
    "start_time": "2022-09-14T07:49:51.492Z"
   },
   {
    "duration": 393,
    "start_time": "2022-09-14T07:54:06.587Z"
   },
   {
    "duration": 98,
    "start_time": "2022-09-14T07:55:21.852Z"
   },
   {
    "duration": 565,
    "start_time": "2022-09-14T07:55:52.811Z"
   },
   {
    "duration": 494,
    "start_time": "2022-09-14T07:56:06.622Z"
   },
   {
    "duration": 159,
    "start_time": "2022-09-14T07:57:04.575Z"
   },
   {
    "duration": 22,
    "start_time": "2022-09-14T07:57:29.973Z"
   },
   {
    "duration": 91,
    "start_time": "2022-09-14T07:57:57.560Z"
   },
   {
    "duration": 5714,
    "start_time": "2022-09-14T07:58:03.763Z"
   },
   {
    "duration": 533,
    "start_time": "2022-09-14T08:01:09.682Z"
   },
   {
    "duration": 190,
    "start_time": "2022-09-14T08:04:01.838Z"
   },
   {
    "duration": 75,
    "start_time": "2022-09-14T08:04:39.474Z"
   },
   {
    "duration": 81,
    "start_time": "2022-09-14T08:05:09.567Z"
   },
   {
    "duration": 135,
    "start_time": "2022-09-14T08:05:27.817Z"
   },
   {
    "duration": 51,
    "start_time": "2022-09-14T08:05:37.844Z"
   },
   {
    "duration": 131,
    "start_time": "2022-09-14T08:08:24.083Z"
   },
   {
    "duration": 125,
    "start_time": "2022-09-14T08:10:27.780Z"
   },
   {
    "duration": 55,
    "start_time": "2022-09-14T08:29:17.322Z"
   },
   {
    "duration": 137,
    "start_time": "2022-09-14T09:37:17.413Z"
   },
   {
    "duration": 51,
    "start_time": "2022-09-14T09:37:38.596Z"
   },
   {
    "duration": 295,
    "start_time": "2022-09-14T09:39:35.564Z"
   },
   {
    "duration": 175,
    "start_time": "2022-09-14T09:40:17.012Z"
   },
   {
    "duration": 1474,
    "start_time": "2022-09-14T09:40:30.785Z"
   },
   {
    "duration": 1523,
    "start_time": "2022-09-14T09:41:45.753Z"
   },
   {
    "duration": 677,
    "start_time": "2022-09-14T09:42:57.403Z"
   },
   {
    "duration": 466,
    "start_time": "2022-09-14T09:44:17.803Z"
   },
   {
    "duration": 444,
    "start_time": "2022-09-14T09:45:01.047Z"
   },
   {
    "duration": 198,
    "start_time": "2022-09-14T09:45:12.577Z"
   },
   {
    "duration": 164,
    "start_time": "2022-09-14T09:45:49.522Z"
   },
   {
    "duration": 170,
    "start_time": "2022-09-14T09:47:33.796Z"
   },
   {
    "duration": 174,
    "start_time": "2022-09-14T09:47:53.229Z"
   },
   {
    "duration": 181,
    "start_time": "2022-09-14T09:48:05.959Z"
   },
   {
    "duration": 198,
    "start_time": "2022-09-14T09:49:13.219Z"
   },
   {
    "duration": 200,
    "start_time": "2022-09-14T09:50:34.278Z"
   },
   {
    "duration": 4,
    "start_time": "2022-09-14T10:03:55.222Z"
   },
   {
    "duration": 9,
    "start_time": "2022-09-14T10:08:48.606Z"
   },
   {
    "duration": 1410,
    "start_time": "2022-09-14T10:09:00.250Z"
   },
   {
    "duration": 718,
    "start_time": "2022-09-14T10:10:58.164Z"
   },
   {
    "duration": 1123,
    "start_time": "2022-09-14T10:12:21.844Z"
   },
   {
    "duration": 1055,
    "start_time": "2022-09-14T10:12:38.420Z"
   },
   {
    "duration": 954,
    "start_time": "2022-09-14T10:13:27.657Z"
   },
   {
    "duration": 1087,
    "start_time": "2022-09-14T10:13:34.329Z"
   },
   {
    "duration": 1030,
    "start_time": "2022-09-14T10:13:53.584Z"
   },
   {
    "duration": 1009,
    "start_time": "2022-09-14T10:14:12.474Z"
   },
   {
    "duration": 1195,
    "start_time": "2022-09-14T10:14:38.148Z"
   },
   {
    "duration": 966,
    "start_time": "2022-09-14T10:14:53.660Z"
   },
   {
    "duration": 968,
    "start_time": "2022-09-14T10:15:04.808Z"
   },
   {
    "duration": 1409,
    "start_time": "2022-09-14T10:17:31.855Z"
   },
   {
    "duration": 1304,
    "start_time": "2022-09-14T10:17:46.760Z"
   },
   {
    "duration": 124,
    "start_time": "2022-09-14T10:21:08.541Z"
   },
   {
    "duration": 166,
    "start_time": "2022-09-14T10:21:57.520Z"
   },
   {
    "duration": 45,
    "start_time": "2022-09-14T10:22:41.262Z"
   },
   {
    "duration": 43,
    "start_time": "2022-09-14T10:23:27.279Z"
   },
   {
    "duration": 95,
    "start_time": "2022-09-14T10:24:19.371Z"
   },
   {
    "duration": 43,
    "start_time": "2022-09-14T10:24:36.356Z"
   },
   {
    "duration": 177,
    "start_time": "2022-09-14T10:27:06.895Z"
   },
   {
    "duration": 138,
    "start_time": "2022-09-14T10:34:43.443Z"
   },
   {
    "duration": 1469,
    "start_time": "2022-09-14T10:47:49.862Z"
   },
   {
    "duration": 813,
    "start_time": "2022-09-14T10:49:50.906Z"
   },
   {
    "duration": 879,
    "start_time": "2022-09-14T10:50:18.939Z"
   },
   {
    "duration": 1008,
    "start_time": "2022-09-14T10:52:32.267Z"
   },
   {
    "duration": 254,
    "start_time": "2022-09-14T11:00:28.094Z"
   },
   {
    "duration": 167,
    "start_time": "2022-09-14T11:00:37.019Z"
   },
   {
    "duration": 1204,
    "start_time": "2022-09-14T11:00:53.079Z"
   },
   {
    "duration": 114,
    "start_time": "2022-09-14T11:01:32.173Z"
   },
   {
    "duration": 628,
    "start_time": "2022-09-14T11:02:11.373Z"
   },
   {
    "duration": 541,
    "start_time": "2022-09-14T11:02:43.613Z"
   },
   {
    "duration": 554,
    "start_time": "2022-09-14T11:03:00.044Z"
   },
   {
    "duration": 604,
    "start_time": "2022-09-14T11:04:07.294Z"
   },
   {
    "duration": 652,
    "start_time": "2022-09-14T11:04:47.419Z"
   },
   {
    "duration": 295,
    "start_time": "2022-09-14T11:05:36.507Z"
   },
   {
    "duration": 328,
    "start_time": "2022-09-14T11:07:11.183Z"
   },
   {
    "duration": 468,
    "start_time": "2022-09-14T11:07:35.453Z"
   },
   {
    "duration": 339,
    "start_time": "2022-09-14T11:08:22.751Z"
   },
   {
    "duration": 173,
    "start_time": "2022-09-14T11:09:27.601Z"
   },
   {
    "duration": 71,
    "start_time": "2022-09-14T11:10:01.771Z"
   },
   {
    "duration": 54,
    "start_time": "2022-09-14T11:10:22.177Z"
   },
   {
    "duration": 47,
    "start_time": "2022-09-14T11:11:36.238Z"
   },
   {
    "duration": 79,
    "start_time": "2022-09-14T11:17:08.639Z"
   },
   {
    "duration": 94,
    "start_time": "2022-09-14T11:18:40.186Z"
   },
   {
    "duration": 103,
    "start_time": "2022-09-14T11:19:50.648Z"
   },
   {
    "duration": 278,
    "start_time": "2022-09-14T11:20:04.172Z"
   },
   {
    "duration": 143,
    "start_time": "2022-09-14T11:20:22.036Z"
   },
   {
    "duration": 91,
    "start_time": "2022-09-14T11:20:34.590Z"
   },
   {
    "duration": 77,
    "start_time": "2022-09-14T11:20:45.114Z"
   },
   {
    "duration": 92,
    "start_time": "2022-09-14T11:20:50.770Z"
   },
   {
    "duration": 71,
    "start_time": "2022-09-14T11:20:59.623Z"
   },
   {
    "duration": 74,
    "start_time": "2022-09-14T11:21:10.828Z"
   },
   {
    "duration": 103,
    "start_time": "2022-09-14T11:22:02.977Z"
   },
   {
    "duration": 103,
    "start_time": "2022-09-14T11:22:19.809Z"
   },
   {
    "duration": 110,
    "start_time": "2022-09-14T11:22:29.670Z"
   },
   {
    "duration": 82,
    "start_time": "2022-09-14T11:26:26.748Z"
   },
   {
    "duration": 147,
    "start_time": "2022-09-14T11:26:36.317Z"
   },
   {
    "duration": 73,
    "start_time": "2022-09-14T11:26:41.543Z"
   },
   {
    "duration": 74,
    "start_time": "2022-09-14T11:26:48.103Z"
   },
   {
    "duration": 89,
    "start_time": "2022-09-14T11:26:52.331Z"
   },
   {
    "duration": 94,
    "start_time": "2022-09-14T11:27:13.587Z"
   },
   {
    "duration": 85,
    "start_time": "2022-09-14T11:27:39.389Z"
   },
   {
    "duration": 98,
    "start_time": "2022-09-14T11:27:51.911Z"
   },
   {
    "duration": 77,
    "start_time": "2022-09-14T11:27:58.667Z"
   },
   {
    "duration": 75,
    "start_time": "2022-09-14T11:29:22.926Z"
   },
   {
    "duration": 77,
    "start_time": "2022-09-14T11:29:41.862Z"
   },
   {
    "duration": 80,
    "start_time": "2022-09-14T11:29:59.064Z"
   },
   {
    "duration": 85,
    "start_time": "2022-09-14T11:32:03.272Z"
   },
   {
    "duration": 84,
    "start_time": "2022-09-14T11:32:42.110Z"
   },
   {
    "duration": 80,
    "start_time": "2022-09-14T11:35:26.414Z"
   },
   {
    "duration": 1449,
    "start_time": "2022-09-14T12:26:05.912Z"
   },
   {
    "duration": 1458,
    "start_time": "2022-09-14T12:26:18.561Z"
   },
   {
    "duration": 1456,
    "start_time": "2022-09-14T12:26:28.745Z"
   },
   {
    "duration": 86,
    "start_time": "2022-09-14T12:27:29.726Z"
   },
   {
    "duration": 52,
    "start_time": "2022-09-14T12:31:27.994Z"
   },
   {
    "duration": 898,
    "start_time": "2022-09-14T12:32:35.302Z"
   },
   {
    "duration": 502,
    "start_time": "2022-09-14T12:33:11.914Z"
   },
   {
    "duration": 636,
    "start_time": "2022-09-14T12:33:29.890Z"
   },
   {
    "duration": 161,
    "start_time": "2022-09-14T12:34:02.245Z"
   },
   {
    "duration": 1027,
    "start_time": "2022-09-14T12:34:10.717Z"
   },
   {
    "duration": 671,
    "start_time": "2022-09-14T12:34:27.276Z"
   },
   {
    "duration": 408,
    "start_time": "2022-09-14T12:35:09.243Z"
   },
   {
    "duration": 326,
    "start_time": "2022-09-14T12:35:59.914Z"
   },
   {
    "duration": 59,
    "start_time": "2022-09-14T12:36:43.964Z"
   },
   {
    "duration": 50,
    "start_time": "2022-09-14T12:37:52.348Z"
   },
   {
    "duration": 214,
    "start_time": "2022-09-14T12:40:39.847Z"
   },
   {
    "duration": 190,
    "start_time": "2022-09-14T12:40:53.585Z"
   },
   {
    "duration": 952,
    "start_time": "2022-09-14T12:41:05.753Z"
   },
   {
    "duration": 101,
    "start_time": "2022-09-14T12:41:25.458Z"
   },
   {
    "duration": 52,
    "start_time": "2022-09-14T12:42:30.710Z"
   },
   {
    "duration": 53,
    "start_time": "2022-09-14T12:43:12.960Z"
   },
   {
    "duration": 119,
    "start_time": "2022-09-14T12:43:41.982Z"
   },
   {
    "duration": 42,
    "start_time": "2022-09-14T12:43:55.739Z"
   },
   {
    "duration": 961,
    "start_time": "2022-09-14T12:44:13.721Z"
   },
   {
    "duration": 47,
    "start_time": "2022-09-14T12:45:02.884Z"
   },
   {
    "duration": 43,
    "start_time": "2022-09-14T12:45:08.713Z"
   },
   {
    "duration": 51,
    "start_time": "2022-09-14T12:45:25.404Z"
   },
   {
    "duration": 671,
    "start_time": "2022-09-14T12:45:48.138Z"
   },
   {
    "duration": 4,
    "start_time": "2022-09-14T12:48:13.352Z"
   },
   {
    "duration": 3,
    "start_time": "2022-09-14T12:48:18.989Z"
   },
   {
    "duration": 1392,
    "start_time": "2022-09-14T12:53:23.709Z"
   },
   {
    "duration": 693,
    "start_time": "2022-09-14T12:53:49.708Z"
   },
   {
    "duration": 980,
    "start_time": "2022-09-14T12:55:44.893Z"
   },
   {
    "duration": 110,
    "start_time": "2022-09-14T12:55:57.310Z"
   },
   {
    "duration": 962,
    "start_time": "2022-09-14T12:56:08.690Z"
   },
   {
    "duration": 991,
    "start_time": "2022-09-14T12:57:35.524Z"
   },
   {
    "duration": 124,
    "start_time": "2022-09-14T12:58:19.616Z"
   },
   {
    "duration": 998,
    "start_time": "2022-09-14T12:58:46.361Z"
   },
   {
    "duration": 224,
    "start_time": "2022-09-14T12:58:55.919Z"
   },
   {
    "duration": 282,
    "start_time": "2022-09-14T12:59:13.271Z"
   },
   {
    "duration": 189,
    "start_time": "2022-09-14T12:59:21.768Z"
   },
   {
    "duration": 991,
    "start_time": "2022-09-14T12:59:31.202Z"
   },
   {
    "duration": 2626,
    "start_time": "2022-09-14T13:00:32.935Z"
   },
   {
    "duration": 2305,
    "start_time": "2022-09-14T13:02:33.683Z"
   },
   {
    "duration": 3145,
    "start_time": "2022-09-14T13:03:18.385Z"
   },
   {
    "duration": 1978,
    "start_time": "2022-09-14T13:03:43.070Z"
   },
   {
    "duration": 3348,
    "start_time": "2022-09-14T13:04:09.249Z"
   },
   {
    "duration": 3238,
    "start_time": "2022-09-14T13:08:58.934Z"
   },
   {
    "duration": 2070,
    "start_time": "2022-09-14T13:09:29.440Z"
   },
   {
    "duration": 140,
    "start_time": "2022-09-14T13:11:32.154Z"
   },
   {
    "duration": 1256,
    "start_time": "2022-09-14T13:12:05.877Z"
   },
   {
    "duration": 2436,
    "start_time": "2022-09-14T13:13:15.878Z"
   },
   {
    "duration": 2089,
    "start_time": "2022-09-14T13:13:42.131Z"
   },
   {
    "duration": 2032,
    "start_time": "2022-09-14T13:14:01.416Z"
   },
   {
    "duration": 2045,
    "start_time": "2022-09-14T13:14:54.419Z"
   },
   {
    "duration": 2191,
    "start_time": "2022-09-14T13:15:09.187Z"
   },
   {
    "duration": 1480,
    "start_time": "2022-09-14T13:16:32.906Z"
   },
   {
    "duration": 1228,
    "start_time": "2022-09-14T13:18:13.550Z"
   },
   {
    "duration": 1265,
    "start_time": "2022-09-14T13:19:12.007Z"
   },
   {
    "duration": 1183,
    "start_time": "2022-09-14T13:19:44.571Z"
   },
   {
    "duration": 1258,
    "start_time": "2022-09-14T13:20:09.364Z"
   },
   {
    "duration": 1138,
    "start_time": "2022-09-14T13:20:27.756Z"
   },
   {
    "duration": 1106,
    "start_time": "2022-09-14T13:20:55.869Z"
   },
   {
    "duration": 676,
    "start_time": "2022-09-14T13:21:54.190Z"
   },
   {
    "duration": 3,
    "start_time": "2022-09-14T13:21:54.868Z"
   },
   {
    "duration": 16630,
    "start_time": "2022-09-14T13:21:54.872Z"
   },
   {
    "duration": 64,
    "start_time": "2022-09-14T13:22:11.504Z"
   },
   {
    "duration": 17,
    "start_time": "2022-09-14T13:22:11.570Z"
   },
   {
    "duration": 254,
    "start_time": "2022-09-14T13:22:11.589Z"
   },
   {
    "duration": 4,
    "start_time": "2022-09-14T13:22:11.845Z"
   },
   {
    "duration": 237,
    "start_time": "2022-09-14T13:22:11.851Z"
   },
   {
    "duration": 4,
    "start_time": "2022-09-14T13:22:12.090Z"
   },
   {
    "duration": 214,
    "start_time": "2022-09-14T13:22:12.096Z"
   },
   {
    "duration": 5,
    "start_time": "2022-09-14T13:22:12.312Z"
   },
   {
    "duration": 1370,
    "start_time": "2022-09-14T13:22:12.319Z"
   },
   {
    "duration": 81,
    "start_time": "2022-09-14T13:22:13.690Z"
   },
   {
    "duration": 44,
    "start_time": "2022-09-14T13:22:13.773Z"
   },
   {
    "duration": 4,
    "start_time": "2022-09-14T13:22:13.818Z"
   },
   {
    "duration": 1142,
    "start_time": "2022-09-14T13:22:13.824Z"
   },
   {
    "duration": 776,
    "start_time": "2022-09-15T07:30:39.725Z"
   },
   {
    "duration": 3,
    "start_time": "2022-09-15T07:30:40.503Z"
   },
   {
    "duration": 9071,
    "start_time": "2022-09-15T07:30:40.507Z"
   },
   {
    "duration": 55,
    "start_time": "2022-09-15T07:30:49.580Z"
   },
   {
    "duration": 14,
    "start_time": "2022-09-15T07:30:49.637Z"
   },
   {
    "duration": 235,
    "start_time": "2022-09-15T07:30:49.652Z"
   },
   {
    "duration": 4,
    "start_time": "2022-09-15T07:30:49.889Z"
   },
   {
    "duration": 212,
    "start_time": "2022-09-15T07:30:49.894Z"
   },
   {
    "duration": 4,
    "start_time": "2022-09-15T07:30:50.108Z"
   },
   {
    "duration": 165,
    "start_time": "2022-09-15T07:30:50.115Z"
   },
   {
    "duration": 3,
    "start_time": "2022-09-15T07:30:50.281Z"
   },
   {
    "duration": 1081,
    "start_time": "2022-09-15T07:30:50.286Z"
   },
   {
    "duration": 88,
    "start_time": "2022-09-15T07:30:51.369Z"
   },
   {
    "duration": 44,
    "start_time": "2022-09-15T07:30:51.459Z"
   },
   {
    "duration": 3,
    "start_time": "2022-09-15T07:30:51.504Z"
   },
   {
    "duration": 1047,
    "start_time": "2022-09-15T07:30:51.508Z"
   },
   {
    "duration": 1499,
    "start_time": "2022-09-15T07:35:50.138Z"
   },
   {
    "duration": 2791,
    "start_time": "2022-09-15T07:37:40.496Z"
   },
   {
    "duration": 1838,
    "start_time": "2022-09-15T07:39:57.688Z"
   },
   {
    "duration": 339,
    "start_time": "2022-09-15T07:40:33.879Z"
   },
   {
    "duration": 317,
    "start_time": "2022-09-15T07:41:12.139Z"
   },
   {
    "duration": 154,
    "start_time": "2022-09-15T07:41:51.635Z"
   },
   {
    "duration": 344,
    "start_time": "2022-09-15T07:42:01.733Z"
   },
   {
    "duration": 317,
    "start_time": "2022-09-15T07:43:17.409Z"
   },
   {
    "duration": 113,
    "start_time": "2022-09-15T07:45:40.589Z"
   },
   {
    "duration": 1386,
    "start_time": "2022-09-15T07:46:18.770Z"
   },
   {
    "duration": 628,
    "start_time": "2022-09-15T07:47:46.415Z"
   },
   {
    "duration": 801,
    "start_time": "2022-09-15T07:48:32.493Z"
   },
   {
    "duration": 96,
    "start_time": "2022-09-15T07:49:58.269Z"
   },
   {
    "duration": 913,
    "start_time": "2022-09-15T07:50:12.503Z"
   },
   {
    "duration": 434,
    "start_time": "2022-09-15T07:50:26.320Z"
   },
   {
    "duration": 405,
    "start_time": "2022-09-15T07:51:09.385Z"
   },
   {
    "duration": 402,
    "start_time": "2022-09-15T07:51:51.554Z"
   },
   {
    "duration": 98,
    "start_time": "2022-09-15T07:52:54.995Z"
   },
   {
    "duration": 301,
    "start_time": "2022-09-15T07:53:01.632Z"
   },
   {
    "duration": 304,
    "start_time": "2022-09-15T07:56:59.612Z"
   },
   {
    "duration": 93,
    "start_time": "2022-09-15T07:58:03.371Z"
   },
   {
    "duration": 95,
    "start_time": "2022-09-15T07:58:21.390Z"
   },
   {
    "duration": 666,
    "start_time": "2022-09-15T07:58:30.794Z"
   },
   {
    "duration": 808,
    "start_time": "2022-09-15T08:00:43.226Z"
   },
   {
    "duration": 109,
    "start_time": "2022-09-15T08:02:22.648Z"
   },
   {
    "duration": 549,
    "start_time": "2022-09-15T08:02:45.206Z"
   },
   {
    "duration": 115,
    "start_time": "2022-09-15T08:10:46.783Z"
   },
   {
    "duration": 744,
    "start_time": "2022-09-15T08:11:02.908Z"
   },
   {
    "duration": 240,
    "start_time": "2022-09-15T08:11:29.005Z"
   },
   {
    "duration": 312,
    "start_time": "2022-09-15T08:12:29.842Z"
   },
   {
    "duration": 819,
    "start_time": "2022-09-15T08:14:36.197Z"
   },
   {
    "duration": 276,
    "start_time": "2022-09-15T08:15:02.044Z"
   },
   {
    "duration": 716,
    "start_time": "2022-09-15T08:17:13.873Z"
   },
   {
    "duration": 520,
    "start_time": "2022-09-15T08:21:15.997Z"
   },
   {
    "duration": 512,
    "start_time": "2022-09-15T08:21:44.680Z"
   },
   {
    "duration": 18,
    "start_time": "2022-09-15T08:22:54.387Z"
   },
   {
    "duration": 423,
    "start_time": "2022-09-15T08:23:19.191Z"
   },
   {
    "duration": 456,
    "start_time": "2022-09-15T08:23:30.464Z"
   },
   {
    "duration": 532,
    "start_time": "2022-09-15T08:29:26.887Z"
   },
   {
    "duration": 388,
    "start_time": "2022-09-15T08:29:46.617Z"
   },
   {
    "duration": 4,
    "start_time": "2022-09-15T08:32:56.668Z"
   },
   {
    "duration": 1571,
    "start_time": "2022-09-15T09:46:29.632Z"
   },
   {
    "duration": 1385,
    "start_time": "2022-09-15T09:46:44.693Z"
   },
   {
    "duration": 1218,
    "start_time": "2022-09-15T09:48:14.501Z"
   },
   {
    "duration": 838,
    "start_time": "2022-09-15T09:50:29.035Z"
   },
   {
    "duration": 255,
    "start_time": "2022-09-15T09:50:40.710Z"
   },
   {
    "duration": 248,
    "start_time": "2022-09-15T09:51:11.608Z"
   },
   {
    "duration": 254,
    "start_time": "2022-09-15T09:51:23.199Z"
   },
   {
    "duration": 265,
    "start_time": "2022-09-15T09:52:30.042Z"
   },
   {
    "duration": 238,
    "start_time": "2022-09-15T09:52:56.534Z"
   },
   {
    "duration": 240,
    "start_time": "2022-09-15T09:53:22.034Z"
   },
   {
    "duration": 749,
    "start_time": "2022-09-15T09:53:30.904Z"
   },
   {
    "duration": 241,
    "start_time": "2022-09-15T09:53:48.138Z"
   },
   {
    "duration": 239,
    "start_time": "2022-09-15T09:54:41.351Z"
   },
   {
    "duration": 244,
    "start_time": "2022-09-15T09:55:51.862Z"
   },
   {
    "duration": 5464,
    "start_time": "2022-09-15T09:56:08.611Z"
   },
   {
    "duration": 245,
    "start_time": "2022-09-15T09:57:00.453Z"
   },
   {
    "duration": 267,
    "start_time": "2022-09-15T09:58:19.113Z"
   },
   {
    "duration": 236,
    "start_time": "2022-09-15T09:59:37.545Z"
   },
   {
    "duration": 259,
    "start_time": "2022-09-15T10:01:00.500Z"
   },
   {
    "duration": 134,
    "start_time": "2022-09-15T10:01:54.621Z"
   },
   {
    "duration": 255,
    "start_time": "2022-09-15T10:02:04.890Z"
   },
   {
    "duration": 243,
    "start_time": "2022-09-15T10:02:23.056Z"
   },
   {
    "duration": 238,
    "start_time": "2022-09-15T10:02:39.468Z"
   },
   {
    "duration": 263,
    "start_time": "2022-09-15T10:03:04.488Z"
   },
   {
    "duration": 242,
    "start_time": "2022-09-15T10:03:38.389Z"
   },
   {
    "duration": 105,
    "start_time": "2022-09-15T10:04:31.192Z"
   },
   {
    "duration": 249,
    "start_time": "2022-09-15T10:04:47.359Z"
   },
   {
    "duration": 68,
    "start_time": "2022-09-15T10:08:46.845Z"
   },
   {
    "duration": 79,
    "start_time": "2022-09-15T10:09:52.671Z"
   },
   {
    "duration": 1454,
    "start_time": "2022-09-15T10:10:34.721Z"
   },
   {
    "duration": 68,
    "start_time": "2022-09-15T10:10:43.599Z"
   },
   {
    "duration": 143,
    "start_time": "2022-09-15T10:11:18.315Z"
   },
   {
    "duration": 79,
    "start_time": "2022-09-15T10:11:32.054Z"
   },
   {
    "duration": 9,
    "start_time": "2022-09-15T10:12:04.689Z"
   },
   {
    "duration": 9,
    "start_time": "2022-09-15T10:12:13.292Z"
   },
   {
    "duration": 66,
    "start_time": "2022-09-15T10:12:53.301Z"
   },
   {
    "duration": 66,
    "start_time": "2022-09-15T10:13:06.660Z"
   },
   {
    "duration": 70,
    "start_time": "2022-09-15T10:13:14.274Z"
   },
   {
    "duration": 1514,
    "start_time": "2022-09-15T10:18:09.128Z"
   },
   {
    "duration": 1493,
    "start_time": "2022-09-15T10:18:23.954Z"
   },
   {
    "duration": 287,
    "start_time": "2022-09-15T10:19:45.040Z"
   },
   {
    "duration": 117,
    "start_time": "2022-09-15T10:20:43.667Z"
   },
   {
    "duration": 125,
    "start_time": "2022-09-15T10:21:06.396Z"
   },
   {
    "duration": 115,
    "start_time": "2022-09-15T10:21:53.222Z"
   },
   {
    "duration": 114,
    "start_time": "2022-09-15T10:22:21.735Z"
   },
   {
    "duration": 286,
    "start_time": "2022-09-15T10:23:19.651Z"
   },
   {
    "duration": 251,
    "start_time": "2022-09-15T10:23:43.279Z"
   },
   {
    "duration": 100,
    "start_time": "2022-09-15T10:25:26.860Z"
   },
   {
    "duration": 363,
    "start_time": "2022-09-15T10:26:18.066Z"
   },
   {
    "duration": 257,
    "start_time": "2022-09-15T10:26:39.458Z"
   },
   {
    "duration": 248,
    "start_time": "2022-09-15T10:26:57.966Z"
   },
   {
    "duration": 108,
    "start_time": "2022-09-15T10:29:33.856Z"
   },
   {
    "duration": 124,
    "start_time": "2022-09-15T10:29:50.992Z"
   },
   {
    "duration": 256,
    "start_time": "2022-09-15T10:30:23.706Z"
   },
   {
    "duration": 307,
    "start_time": "2022-09-15T10:30:44.039Z"
   },
   {
    "duration": 341,
    "start_time": "2022-09-15T10:34:15.595Z"
   },
   {
    "duration": 328,
    "start_time": "2022-09-15T10:35:38.547Z"
   },
   {
    "duration": 314,
    "start_time": "2022-09-15T10:36:11.140Z"
   },
   {
    "duration": 332,
    "start_time": "2022-09-15T10:36:45.058Z"
   },
   {
    "duration": 515,
    "start_time": "2022-09-15T10:36:53.002Z"
   },
   {
    "duration": 123,
    "start_time": "2022-09-15T10:37:57.752Z"
   },
   {
    "duration": 341,
    "start_time": "2022-09-15T10:38:16.874Z"
   },
   {
    "duration": 1089,
    "start_time": "2022-09-15T10:38:38.361Z"
   },
   {
    "duration": 367,
    "start_time": "2022-09-15T10:39:57.575Z"
   },
   {
    "duration": 335,
    "start_time": "2022-09-15T10:40:09.940Z"
   },
   {
    "duration": 339,
    "start_time": "2022-09-15T10:40:40.843Z"
   },
   {
    "duration": 338,
    "start_time": "2022-09-15T10:41:02.584Z"
   },
   {
    "duration": 339,
    "start_time": "2022-09-15T10:41:11.752Z"
   },
   {
    "duration": 336,
    "start_time": "2022-09-15T10:41:20.163Z"
   },
   {
    "duration": 350,
    "start_time": "2022-09-15T10:41:38.293Z"
   },
   {
    "duration": 361,
    "start_time": "2022-09-15T10:41:46.734Z"
   },
   {
    "duration": 348,
    "start_time": "2022-09-15T10:42:05.799Z"
   },
   {
    "duration": 370,
    "start_time": "2022-09-15T10:42:42.286Z"
   },
   {
    "duration": 484,
    "start_time": "2022-09-15T10:43:35.060Z"
   },
   {
    "duration": 352,
    "start_time": "2022-09-15T10:43:50.192Z"
   },
   {
    "duration": 356,
    "start_time": "2022-09-15T10:44:10.066Z"
   },
   {
    "duration": 373,
    "start_time": "2022-09-15T10:44:39.099Z"
   },
   {
    "duration": 322,
    "start_time": "2022-09-15T10:46:20.193Z"
   },
   {
    "duration": 297,
    "start_time": "2022-09-15T10:47:13.102Z"
   },
   {
    "duration": 105,
    "start_time": "2022-09-15T10:48:50.263Z"
   },
   {
    "duration": 107,
    "start_time": "2022-09-15T10:49:26.768Z"
   },
   {
    "duration": 311,
    "start_time": "2022-09-15T10:50:14.789Z"
   },
   {
    "duration": 295,
    "start_time": "2022-09-15T10:51:05.840Z"
   },
   {
    "duration": 110,
    "start_time": "2022-09-15T10:51:41.730Z"
   },
   {
    "duration": 315,
    "start_time": "2022-09-15T10:52:30.901Z"
   },
   {
    "duration": 308,
    "start_time": "2022-09-15T10:52:48.508Z"
   },
   {
    "duration": 309,
    "start_time": "2022-09-15T10:53:33.392Z"
   },
   {
    "duration": 307,
    "start_time": "2022-09-15T10:53:45.393Z"
   },
   {
    "duration": 317,
    "start_time": "2022-09-15T10:54:00.615Z"
   },
   {
    "duration": 297,
    "start_time": "2022-09-15T10:54:24.240Z"
   },
   {
    "duration": 323,
    "start_time": "2022-09-15T10:54:43.075Z"
   },
   {
    "duration": 313,
    "start_time": "2022-09-15T10:55:00.115Z"
   },
   {
    "duration": 296,
    "start_time": "2022-09-15T10:55:32.086Z"
   },
   {
    "duration": 1206,
    "start_time": "2022-09-15T10:55:55.942Z"
   },
   {
    "duration": 4,
    "start_time": "2022-09-15T10:55:57.149Z"
   },
   {
    "duration": 9307,
    "start_time": "2022-09-15T10:55:57.154Z"
   },
   {
    "duration": 67,
    "start_time": "2022-09-15T10:56:06.463Z"
   },
   {
    "duration": 14,
    "start_time": "2022-09-15T10:56:06.531Z"
   },
   {
    "duration": 250,
    "start_time": "2022-09-15T10:56:06.547Z"
   },
   {
    "duration": 3,
    "start_time": "2022-09-15T10:56:06.799Z"
   },
   {
    "duration": 227,
    "start_time": "2022-09-15T10:56:06.804Z"
   },
   {
    "duration": 3,
    "start_time": "2022-09-15T10:56:07.033Z"
   },
   {
    "duration": 179,
    "start_time": "2022-09-15T10:56:07.039Z"
   },
   {
    "duration": 5,
    "start_time": "2022-09-15T10:56:07.219Z"
   },
   {
    "duration": 1372,
    "start_time": "2022-09-15T10:56:07.225Z"
   },
   {
    "duration": 88,
    "start_time": "2022-09-15T10:56:08.598Z"
   },
   {
    "duration": 48,
    "start_time": "2022-09-15T10:56:08.687Z"
   },
   {
    "duration": 4,
    "start_time": "2022-09-15T10:56:08.736Z"
   },
   {
    "duration": 1226,
    "start_time": "2022-09-15T10:56:08.741Z"
   },
   {
    "duration": 536,
    "start_time": "2022-09-15T10:56:09.968Z"
   },
   {
    "duration": 417,
    "start_time": "2022-09-15T10:56:10.506Z"
   },
   {
    "duration": 5,
    "start_time": "2022-09-15T10:56:10.925Z"
   },
   {
    "duration": 243,
    "start_time": "2022-09-15T10:56:10.931Z"
   },
   {
    "duration": 81,
    "start_time": "2022-09-15T10:56:11.175Z"
   },
   {
    "duration": 302,
    "start_time": "2022-09-15T10:56:11.258Z"
   },
   {
    "duration": 1121,
    "start_time": "2022-09-15T10:59:09.432Z"
   },
   {
    "duration": 3,
    "start_time": "2022-09-15T10:59:10.555Z"
   },
   {
    "duration": 9279,
    "start_time": "2022-09-15T10:59:10.559Z"
   },
   {
    "duration": 68,
    "start_time": "2022-09-15T10:59:19.840Z"
   },
   {
    "duration": 15,
    "start_time": "2022-09-15T10:59:19.910Z"
   },
   {
    "duration": 244,
    "start_time": "2022-09-15T10:59:19.927Z"
   },
   {
    "duration": 3,
    "start_time": "2022-09-15T10:59:20.173Z"
   },
   {
    "duration": 240,
    "start_time": "2022-09-15T10:59:20.182Z"
   },
   {
    "duration": 4,
    "start_time": "2022-09-15T10:59:20.424Z"
   },
   {
    "duration": 195,
    "start_time": "2022-09-15T10:59:20.431Z"
   },
   {
    "duration": 4,
    "start_time": "2022-09-15T10:59:20.628Z"
   },
   {
    "duration": 1266,
    "start_time": "2022-09-15T10:59:20.633Z"
   },
   {
    "duration": 81,
    "start_time": "2022-09-15T10:59:21.901Z"
   },
   {
    "duration": 51,
    "start_time": "2022-09-15T10:59:21.983Z"
   },
   {
    "duration": 4,
    "start_time": "2022-09-15T10:59:22.036Z"
   },
   {
    "duration": 1199,
    "start_time": "2022-09-15T10:59:22.041Z"
   },
   {
    "duration": 511,
    "start_time": "2022-09-15T10:59:23.241Z"
   },
   {
    "duration": 471,
    "start_time": "2022-09-15T10:59:23.753Z"
   },
   {
    "duration": 4,
    "start_time": "2022-09-15T10:59:24.226Z"
   },
   {
    "duration": 267,
    "start_time": "2022-09-15T10:59:24.232Z"
   },
   {
    "duration": 81,
    "start_time": "2022-09-15T10:59:24.501Z"
   },
   {
    "duration": 296,
    "start_time": "2022-09-15T10:59:24.589Z"
   },
   {
    "duration": 1538,
    "start_time": "2022-09-15T13:46:35.445Z"
   },
   {
    "duration": 4,
    "start_time": "2022-09-15T13:46:36.985Z"
   },
   {
    "duration": 12649,
    "start_time": "2022-09-15T13:46:36.990Z"
   },
   {
    "duration": 59,
    "start_time": "2022-09-15T13:46:49.641Z"
   },
   {
    "duration": 14,
    "start_time": "2022-09-15T13:46:49.701Z"
   },
   {
    "duration": 236,
    "start_time": "2022-09-15T13:46:49.716Z"
   },
   {
    "duration": 4,
    "start_time": "2022-09-15T13:46:49.953Z"
   },
   {
    "duration": 226,
    "start_time": "2022-09-15T13:46:49.958Z"
   },
   {
    "duration": 3,
    "start_time": "2022-09-15T13:46:50.186Z"
   },
   {
    "duration": 172,
    "start_time": "2022-09-15T13:46:50.192Z"
   },
   {
    "duration": 3,
    "start_time": "2022-09-15T13:46:50.366Z"
   },
   {
    "duration": 1374,
    "start_time": "2022-09-15T13:46:50.370Z"
   },
   {
    "duration": 93,
    "start_time": "2022-09-15T13:46:51.746Z"
   },
   {
    "duration": 49,
    "start_time": "2022-09-15T13:46:51.841Z"
   },
   {
    "duration": 3,
    "start_time": "2022-09-15T13:46:51.892Z"
   },
   {
    "duration": 1126,
    "start_time": "2022-09-15T13:46:51.897Z"
   },
   {
    "duration": 487,
    "start_time": "2022-09-15T13:46:53.025Z"
   },
   {
    "duration": 460,
    "start_time": "2022-09-15T13:46:53.513Z"
   },
   {
    "duration": 4,
    "start_time": "2022-09-15T13:46:53.975Z"
   },
   {
    "duration": 245,
    "start_time": "2022-09-15T13:46:53.980Z"
   },
   {
    "duration": 84,
    "start_time": "2022-09-15T13:46:54.227Z"
   },
   {
    "duration": 275,
    "start_time": "2022-09-15T13:46:54.313Z"
   },
   {
    "duration": 220,
    "start_time": "2022-09-15T13:47:25.711Z"
   },
   {
    "duration": 222,
    "start_time": "2022-09-15T13:47:33.784Z"
   },
   {
    "duration": 514,
    "start_time": "2022-09-15T13:48:35.021Z"
   },
   {
    "duration": 522,
    "start_time": "2022-09-15T13:48:39.237Z"
   },
   {
    "duration": 1549,
    "start_time": "2022-09-15T17:33:22.543Z"
   },
   {
    "duration": 8,
    "start_time": "2022-09-15T17:33:24.095Z"
   },
   {
    "duration": 9117,
    "start_time": "2022-09-15T17:33:24.108Z"
   },
   {
    "duration": 134,
    "start_time": "2022-09-15T17:33:33.227Z"
   },
   {
    "duration": 16,
    "start_time": "2022-09-15T17:33:33.363Z"
   },
   {
    "duration": 272,
    "start_time": "2022-09-15T17:33:33.380Z"
   },
   {
    "duration": 4,
    "start_time": "2022-09-15T17:33:33.654Z"
   },
   {
    "duration": 262,
    "start_time": "2022-09-15T17:33:33.659Z"
   },
   {
    "duration": 6,
    "start_time": "2022-09-15T17:33:33.930Z"
   },
   {
    "duration": 312,
    "start_time": "2022-09-15T17:33:33.939Z"
   },
   {
    "duration": 4,
    "start_time": "2022-09-15T17:33:34.253Z"
   },
   {
    "duration": 1462,
    "start_time": "2022-09-15T17:33:34.259Z"
   },
   {
    "duration": 108,
    "start_time": "2022-09-15T17:33:35.723Z"
   },
   {
    "duration": 49,
    "start_time": "2022-09-15T17:33:35.833Z"
   },
   {
    "duration": 5,
    "start_time": "2022-09-15T17:33:35.883Z"
   },
   {
    "duration": 1320,
    "start_time": "2022-09-15T17:33:35.890Z"
   },
   {
    "duration": 598,
    "start_time": "2022-09-15T17:33:37.213Z"
   },
   {
    "duration": 490,
    "start_time": "2022-09-15T17:33:37.813Z"
   },
   {
    "duration": 5,
    "start_time": "2022-09-15T17:33:38.305Z"
   },
   {
    "duration": 316,
    "start_time": "2022-09-15T17:33:38.312Z"
   },
   {
    "duration": 83,
    "start_time": "2022-09-15T17:33:38.630Z"
   },
   {
    "duration": 308,
    "start_time": "2022-09-15T17:33:38.715Z"
   },
   {
    "duration": 269,
    "start_time": "2022-09-15T17:34:42.519Z"
   },
   {
    "duration": 225,
    "start_time": "2022-09-15T17:34:47.159Z"
   },
   {
    "duration": 301,
    "start_time": "2022-09-15T17:34:53.524Z"
   },
   {
    "duration": 317,
    "start_time": "2022-09-15T17:39:44.666Z"
   },
   {
    "duration": 325,
    "start_time": "2022-09-15T17:40:02.937Z"
   },
   {
    "duration": 104,
    "start_time": "2022-09-15T17:40:58.600Z"
   },
   {
    "duration": 310,
    "start_time": "2022-09-15T17:41:24.019Z"
   },
   {
    "duration": 305,
    "start_time": "2022-09-15T17:41:46.951Z"
   },
   {
    "duration": 187,
    "start_time": "2022-09-15T17:43:55.989Z"
   },
   {
    "duration": 74,
    "start_time": "2022-09-15T17:44:56.865Z"
   },
   {
    "duration": 80,
    "start_time": "2022-09-15T17:45:14.153Z"
   },
   {
    "duration": 79,
    "start_time": "2022-09-15T17:46:37.568Z"
   },
   {
    "duration": 85,
    "start_time": "2022-09-15T17:47:08.704Z"
   },
   {
    "duration": 85,
    "start_time": "2022-09-15T17:48:01.141Z"
   },
   {
    "duration": 215,
    "start_time": "2022-09-15T17:49:16.356Z"
   },
   {
    "duration": 95,
    "start_time": "2022-09-15T17:50:42.583Z"
   },
   {
    "duration": 5,
    "start_time": "2022-09-15T17:51:57.750Z"
   },
   {
    "duration": 1291,
    "start_time": "2022-09-15T17:59:57.917Z"
   },
   {
    "duration": 4,
    "start_time": "2022-09-15T17:59:59.213Z"
   },
   {
    "duration": 12448,
    "start_time": "2022-09-15T17:59:59.219Z"
   },
   {
    "duration": 71,
    "start_time": "2022-09-15T18:00:11.670Z"
   },
   {
    "duration": 17,
    "start_time": "2022-09-15T18:00:11.743Z"
   },
   {
    "duration": 85,
    "start_time": "2022-09-15T18:00:11.762Z"
   },
   {
    "duration": 4,
    "start_time": "2022-09-15T18:00:11.849Z"
   },
   {
    "duration": 235,
    "start_time": "2022-09-15T18:00:11.855Z"
   },
   {
    "duration": 5,
    "start_time": "2022-09-15T18:00:12.091Z"
   },
   {
    "duration": 224,
    "start_time": "2022-09-15T18:00:12.103Z"
   },
   {
    "duration": 4,
    "start_time": "2022-09-15T18:00:12.329Z"
   },
   {
    "duration": 1411,
    "start_time": "2022-09-15T18:00:12.336Z"
   },
   {
    "duration": 87,
    "start_time": "2022-09-15T18:00:13.748Z"
   },
   {
    "duration": 46,
    "start_time": "2022-09-15T18:00:13.836Z"
   },
   {
    "duration": 4,
    "start_time": "2022-09-15T18:00:13.884Z"
   },
   {
    "duration": 1346,
    "start_time": "2022-09-15T18:00:13.890Z"
   },
   {
    "duration": 580,
    "start_time": "2022-09-15T18:00:15.238Z"
   },
   {
    "duration": 495,
    "start_time": "2022-09-15T18:00:15.820Z"
   },
   {
    "duration": 6,
    "start_time": "2022-09-15T18:00:16.317Z"
   },
   {
    "duration": 277,
    "start_time": "2022-09-15T18:00:16.324Z"
   },
   {
    "duration": 111,
    "start_time": "2022-09-15T18:00:16.603Z"
   },
   {
    "duration": 328,
    "start_time": "2022-09-15T18:00:16.716Z"
   },
   {
    "duration": 78,
    "start_time": "2022-09-15T18:00:45.084Z"
   },
   {
    "duration": 1331,
    "start_time": "2022-09-15T18:00:58.329Z"
   },
   {
    "duration": 4,
    "start_time": "2022-09-15T18:00:59.662Z"
   },
   {
    "duration": 12760,
    "start_time": "2022-09-15T18:00:59.670Z"
   },
   {
    "duration": 52,
    "start_time": "2022-09-15T18:01:12.432Z"
   },
   {
    "duration": 20,
    "start_time": "2022-09-15T18:01:12.485Z"
   },
   {
    "duration": 127,
    "start_time": "2022-09-15T18:01:12.506Z"
   },
   {
    "duration": 4,
    "start_time": "2022-09-15T18:01:12.634Z"
   },
   {
    "duration": 284,
    "start_time": "2022-09-15T18:01:12.639Z"
   },
   {
    "duration": 5,
    "start_time": "2022-09-15T18:01:12.928Z"
   },
   {
    "duration": 212,
    "start_time": "2022-09-15T18:01:12.935Z"
   },
   {
    "duration": 4,
    "start_time": "2022-09-15T18:01:13.149Z"
   },
   {
    "duration": 1533,
    "start_time": "2022-09-15T18:01:13.155Z"
   },
   {
    "duration": 150,
    "start_time": "2022-09-15T18:01:14.690Z"
   },
   {
    "duration": 74,
    "start_time": "2022-09-15T18:01:14.842Z"
   },
   {
    "duration": 5,
    "start_time": "2022-09-15T18:01:14.918Z"
   },
   {
    "duration": 1422,
    "start_time": "2022-09-15T18:01:14.925Z"
   },
   {
    "duration": 489,
    "start_time": "2022-09-15T18:01:16.349Z"
   },
   {
    "duration": 540,
    "start_time": "2022-09-15T18:01:16.840Z"
   },
   {
    "duration": 3,
    "start_time": "2022-09-15T18:01:17.382Z"
   },
   {
    "duration": 254,
    "start_time": "2022-09-15T18:01:17.396Z"
   },
   {
    "duration": 85,
    "start_time": "2022-09-15T18:01:17.652Z"
   },
   {
    "duration": 290,
    "start_time": "2022-09-15T18:01:17.739Z"
   },
   {
    "duration": 1367,
    "start_time": "2022-09-15T18:05:33.612Z"
   },
   {
    "duration": 4,
    "start_time": "2022-09-15T18:05:34.981Z"
   },
   {
    "duration": 11004,
    "start_time": "2022-09-15T18:05:34.987Z"
   },
   {
    "duration": 66,
    "start_time": "2022-09-15T18:05:45.993Z"
   },
   {
    "duration": 14,
    "start_time": "2022-09-15T18:05:46.062Z"
   },
   {
    "duration": 83,
    "start_time": "2022-09-15T18:05:46.078Z"
   },
   {
    "duration": 4,
    "start_time": "2022-09-15T18:05:46.163Z"
   },
   {
    "duration": 237,
    "start_time": "2022-09-15T18:05:46.169Z"
   },
   {
    "duration": 9,
    "start_time": "2022-09-15T18:05:46.407Z"
   },
   {
    "duration": 215,
    "start_time": "2022-09-15T18:05:46.417Z"
   },
   {
    "duration": 5,
    "start_time": "2022-09-15T18:05:46.634Z"
   },
   {
    "duration": 1359,
    "start_time": "2022-09-15T18:05:46.641Z"
   },
   {
    "duration": 126,
    "start_time": "2022-09-15T18:05:48.002Z"
   },
   {
    "duration": 53,
    "start_time": "2022-09-15T18:05:48.131Z"
   },
   {
    "duration": 4,
    "start_time": "2022-09-15T18:05:48.185Z"
   },
   {
    "duration": 1339,
    "start_time": "2022-09-15T18:05:48.191Z"
   },
   {
    "duration": 505,
    "start_time": "2022-09-15T18:05:49.531Z"
   },
   {
    "duration": 481,
    "start_time": "2022-09-15T18:05:50.038Z"
   },
   {
    "duration": 4,
    "start_time": "2022-09-15T18:05:50.521Z"
   },
   {
    "duration": 257,
    "start_time": "2022-09-15T18:05:50.527Z"
   },
   {
    "duration": 99,
    "start_time": "2022-09-15T18:05:50.785Z"
   },
   {
    "duration": 343,
    "start_time": "2022-09-15T18:05:50.885Z"
   }
  ],
  "colab": {
   "name": "AdvansedSQLProjectTemplate.ipynb",
   "provenance": []
  },
  "kernelspec": {
   "display_name": "Python 3 (ipykernel)",
   "language": "python",
   "name": "python3"
  },
  "language_info": {
   "codemirror_mode": {
    "name": "ipython",
    "version": 3
   },
   "file_extension": ".py",
   "mimetype": "text/x-python",
   "name": "python",
   "nbconvert_exporter": "python",
   "pygments_lexer": "ipython3",
   "version": "3.9.12"
  },
  "toc": {
   "base_numbering": 1,
   "nav_menu": {},
   "number_sections": false,
   "sideBar": true,
   "skip_h1_title": false,
   "title_cell": "Table of Contents",
   "title_sidebar": "Contents",
   "toc_cell": false,
   "toc_position": {},
   "toc_section_display": true,
   "toc_window_display": true
  }
 },
 "nbformat": 4,
 "nbformat_minor": 4
}
