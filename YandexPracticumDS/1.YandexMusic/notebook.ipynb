{
 "cells": [
  {
   "cell_type": "markdown",
   "metadata": {
    "id": "E0vqbgi9ay0H"
   },
   "source": [
    "# Яндекс.Музыка"
   ]
  },
  {
   "cell_type": "markdown",
   "metadata": {
    "id": "VUC88oWjTJw2"
   },
   "source": [
    "Сравнение Москвы и Петербурга окружено мифами. Например:\n",
    " * Москва — мегаполис, подчинённый жёсткому ритму рабочей недели;\n",
    " * Петербург — культурная столица, со своими вкусами.\n",
    "\n",
    "На данных Яндекс.Музыки вы сравните поведение пользователей двух столиц.\n",
    "\n",
    "**Цель исследования** — проверьте три гипотезы:\n",
    "1. Активность пользователей зависит от дня недели. Причём в Москве и Петербурге это проявляется по-разному.\n",
    "2. В понедельник утром в Москве преобладают одни жанры, а в Петербурге — другие. Так же и вечером пятницы преобладают разные жанры — в зависимости от города. \n",
    "3. Москва и Петербург предпочитают разные жанры музыки. В Москве чаще слушают поп-музыку, в Петербурге — русский рэп.\n",
    "\n",
    "**Ход исследования**\n",
    "\n",
    "Данные о поведении пользователей вы получите из файла `yandex_music_project.csv`. О качестве данных ничего не известно. Поэтому перед проверкой гипотез понадобится обзор данных. \n",
    "\n",
    "Вы проверите данные на ошибки и оцените их влияние на исследование. Затем, на этапе предобработки вы поищете возможность исправить самые критичные ошибки данных.\n",
    " \n",
    "Таким образом, исследование пройдёт в три этапа:\n",
    " 1. Обзор данных.\n",
    " 2. Предобработка данных.\n",
    " 3. Проверка гипотез.\n",
    "\n"
   ]
  },
  {
   "cell_type": "markdown",
   "metadata": {
    "id": "Ml1hmfXC_Zcs"
   },
   "source": [
    "## Обзор данных\n",
    "\n",
    "Составьте первое представление о данных Яндекс.Музыки.\n",
    "\n",
    "\n"
   ]
  },
  {
   "cell_type": "markdown",
   "metadata": {
    "id": "57eAOGIz_Zcs"
   },
   "source": [
    "Основной инструмент аналитика — `pandas`. Импортируйте эту библиотеку."
   ]
  },
  {
   "cell_type": "code",
   "execution_count": 8,
   "metadata": {
    "id": "AXN7PHPN_Zcs"
   },
   "outputs": [],
   "source": [
    "import pandas as pd # импорт библиотеки pandas"
   ]
  },
  {
   "cell_type": "markdown",
   "metadata": {
    "id": "SG23P8tt_Zcs"
   },
   "source": [
    "Прочитайте файл `yandex_music_project.csv` из папки `/datasets` и сохраните его в переменной `df`:"
   ]
  },
  {
   "cell_type": "code",
   "execution_count": 9,
   "metadata": {
    "id": "fFVu7vqh_Zct"
   },
   "outputs": [],
   "source": [
    "df = pd.read_csv('/datasets/yandex_music_project.csv') # чтение файла с данными и сохранение в df"
   ]
  },
  {
   "cell_type": "markdown",
   "metadata": {
    "id": "rDoOMd3uTqnZ"
   },
   "source": [
    "Выведите на экран первые десять строк таблицы:"
   ]
  },
  {
   "cell_type": "code",
   "execution_count": 3,
   "metadata": {
    "id": "oWTVX3gW_Zct"
   },
   "outputs": [
    {
     "data": {
      "text/html": [
       "<div>\n",
       "<style scoped>\n",
       "    .dataframe tbody tr th:only-of-type {\n",
       "        vertical-align: middle;\n",
       "    }\n",
       "\n",
       "    .dataframe tbody tr th {\n",
       "        vertical-align: top;\n",
       "    }\n",
       "\n",
       "    .dataframe thead th {\n",
       "        text-align: right;\n",
       "    }\n",
       "</style>\n",
       "<table border=\"1\" class=\"dataframe\">\n",
       "  <thead>\n",
       "    <tr style=\"text-align: right;\">\n",
       "      <th></th>\n",
       "      <th>userID</th>\n",
       "      <th>Track</th>\n",
       "      <th>artist</th>\n",
       "      <th>genre</th>\n",
       "      <th>City</th>\n",
       "      <th>time</th>\n",
       "      <th>Day</th>\n",
       "    </tr>\n",
       "  </thead>\n",
       "  <tbody>\n",
       "    <tr>\n",
       "      <td>0</td>\n",
       "      <td>FFB692EC</td>\n",
       "      <td>Kamigata To Boots</td>\n",
       "      <td>The Mass Missile</td>\n",
       "      <td>rock</td>\n",
       "      <td>Saint-Petersburg</td>\n",
       "      <td>20:28:33</td>\n",
       "      <td>Wednesday</td>\n",
       "    </tr>\n",
       "    <tr>\n",
       "      <td>1</td>\n",
       "      <td>55204538</td>\n",
       "      <td>Delayed Because of Accident</td>\n",
       "      <td>Andreas Rönnberg</td>\n",
       "      <td>rock</td>\n",
       "      <td>Moscow</td>\n",
       "      <td>14:07:09</td>\n",
       "      <td>Friday</td>\n",
       "    </tr>\n",
       "    <tr>\n",
       "      <td>2</td>\n",
       "      <td>20EC38</td>\n",
       "      <td>Funiculì funiculà</td>\n",
       "      <td>Mario Lanza</td>\n",
       "      <td>pop</td>\n",
       "      <td>Saint-Petersburg</td>\n",
       "      <td>20:58:07</td>\n",
       "      <td>Wednesday</td>\n",
       "    </tr>\n",
       "    <tr>\n",
       "      <td>3</td>\n",
       "      <td>A3DD03C9</td>\n",
       "      <td>Dragons in the Sunset</td>\n",
       "      <td>Fire + Ice</td>\n",
       "      <td>folk</td>\n",
       "      <td>Saint-Petersburg</td>\n",
       "      <td>08:37:09</td>\n",
       "      <td>Monday</td>\n",
       "    </tr>\n",
       "    <tr>\n",
       "      <td>4</td>\n",
       "      <td>E2DC1FAE</td>\n",
       "      <td>Soul People</td>\n",
       "      <td>Space Echo</td>\n",
       "      <td>dance</td>\n",
       "      <td>Moscow</td>\n",
       "      <td>08:34:34</td>\n",
       "      <td>Monday</td>\n",
       "    </tr>\n",
       "    <tr>\n",
       "      <td>5</td>\n",
       "      <td>842029A1</td>\n",
       "      <td>Преданная</td>\n",
       "      <td>IMPERVTOR</td>\n",
       "      <td>rusrap</td>\n",
       "      <td>Saint-Petersburg</td>\n",
       "      <td>13:09:41</td>\n",
       "      <td>Friday</td>\n",
       "    </tr>\n",
       "    <tr>\n",
       "      <td>6</td>\n",
       "      <td>4CB90AA5</td>\n",
       "      <td>True</td>\n",
       "      <td>Roman Messer</td>\n",
       "      <td>dance</td>\n",
       "      <td>Moscow</td>\n",
       "      <td>13:00:07</td>\n",
       "      <td>Wednesday</td>\n",
       "    </tr>\n",
       "    <tr>\n",
       "      <td>7</td>\n",
       "      <td>F03E1C1F</td>\n",
       "      <td>Feeling This Way</td>\n",
       "      <td>Polina Griffith</td>\n",
       "      <td>dance</td>\n",
       "      <td>Moscow</td>\n",
       "      <td>20:47:49</td>\n",
       "      <td>Wednesday</td>\n",
       "    </tr>\n",
       "    <tr>\n",
       "      <td>8</td>\n",
       "      <td>8FA1D3BE</td>\n",
       "      <td>И вновь продолжается бой</td>\n",
       "      <td>NaN</td>\n",
       "      <td>ruspop</td>\n",
       "      <td>Moscow</td>\n",
       "      <td>09:17:40</td>\n",
       "      <td>Friday</td>\n",
       "    </tr>\n",
       "    <tr>\n",
       "      <td>9</td>\n",
       "      <td>E772D5C0</td>\n",
       "      <td>Pessimist</td>\n",
       "      <td>NaN</td>\n",
       "      <td>dance</td>\n",
       "      <td>Saint-Petersburg</td>\n",
       "      <td>21:20:49</td>\n",
       "      <td>Wednesday</td>\n",
       "    </tr>\n",
       "  </tbody>\n",
       "</table>\n",
       "</div>"
      ],
      "text/plain": [
       "     userID                        Track            artist   genre  \\\n",
       "0  FFB692EC            Kamigata To Boots  The Mass Missile    rock   \n",
       "1  55204538  Delayed Because of Accident  Andreas Rönnberg    rock   \n",
       "2    20EC38            Funiculì funiculà       Mario Lanza     pop   \n",
       "3  A3DD03C9        Dragons in the Sunset        Fire + Ice    folk   \n",
       "4  E2DC1FAE                  Soul People        Space Echo   dance   \n",
       "5  842029A1                    Преданная         IMPERVTOR  rusrap   \n",
       "6  4CB90AA5                         True      Roman Messer   dance   \n",
       "7  F03E1C1F             Feeling This Way   Polina Griffith   dance   \n",
       "8  8FA1D3BE     И вновь продолжается бой               NaN  ruspop   \n",
       "9  E772D5C0                    Pessimist               NaN   dance   \n",
       "\n",
       "             City        time        Day  \n",
       "0  Saint-Petersburg  20:28:33  Wednesday  \n",
       "1            Moscow  14:07:09     Friday  \n",
       "2  Saint-Petersburg  20:58:07  Wednesday  \n",
       "3  Saint-Petersburg  08:37:09     Monday  \n",
       "4            Moscow  08:34:34     Monday  \n",
       "5  Saint-Petersburg  13:09:41     Friday  \n",
       "6            Moscow  13:00:07  Wednesday  \n",
       "7            Moscow  20:47:49  Wednesday  \n",
       "8            Moscow  09:17:40     Friday  \n",
       "9  Saint-Petersburg  21:20:49  Wednesday  "
      ]
     },
     "execution_count": 3,
     "metadata": {},
     "output_type": "execute_result"
    }
   ],
   "source": [
    "df.head(10) # получение первых 10 строк таблицы df"
   ]
  },
  {
   "cell_type": "markdown",
   "metadata": {
    "id": "EO73Kwic_Zct"
   },
   "source": [
    "Одной командой получить общую информацию о таблице:"
   ]
  },
  {
   "cell_type": "code",
   "execution_count": 4,
   "metadata": {
    "id": "DSf2kIb-_Zct"
   },
   "outputs": [
    {
     "name": "stdout",
     "output_type": "stream",
     "text": [
      "<class 'pandas.core.frame.DataFrame'>\n",
      "RangeIndex: 65079 entries, 0 to 65078\n",
      "Data columns (total 7 columns):\n",
      "  userID    65079 non-null object\n",
      "Track       63848 non-null object\n",
      "artist      57876 non-null object\n",
      "genre       63881 non-null object\n",
      "  City      65079 non-null object\n",
      "time        65079 non-null object\n",
      "Day         65079 non-null object\n",
      "dtypes: object(7)\n",
      "memory usage: 3.5+ MB\n"
     ]
    }
   ],
   "source": [
    "df.info() # получение общей информации о данных в таблице df"
   ]
  },
  {
   "cell_type": "markdown",
   "metadata": {
    "id": "TaQ2Iwbr_Zct"
   },
   "source": [
    "Итак, в таблице семь столбцов. Тип данных во всех столбцах — `object`.\n",
    "\n",
    "Согласно документации к данным:\n",
    "* `userID` — идентификатор пользователя;\n",
    "* `Track` — название трека;  \n",
    "* `artist` — имя исполнителя;\n",
    "* `genre` — название жанра;\n",
    "* `City` — город пользователя;\n",
    "* `time` — время начала прослушивания;\n",
    "* `Day` — день недели.\n",
    "\n",
    "В названиях колонок видны три нарушения стиля:\n",
    "1. Строчные буквы сочетаются с прописными.\n",
    "2. Встречаются пробелы.\n",
    "3. Несколько слов в названии не разделены нижним подчёркиванием.\n",
    "\n",
    "\n",
    "\n",
    "Количество значений в столбцах различается. Значит, в данных есть пропущенные значения.\n"
   ]
  },
  {
   "cell_type": "markdown",
   "metadata": {
    "id": "MCB6-dXG_Zct"
   },
   "source": [
    "**Выводы**\n",
    "\n",
    "В каждой строке таблицы — данные о прослушанном треке. Часть колонок описывает саму композицию: название, исполнителя и жанр. Остальные данные рассказывают о пользователе: из какого он города, когда он слушал музыку. \n",
    "\n",
    "Предварительно можно утверждать, что, данных достаточно для проверки гипотез. Но встречаются пропуски в данных, а в названиях колонок — расхождения с хорошим стилем.\n",
    "\n",
    "Чтобы двигаться дальше, нужно устранить проблемы в данных."
   ]
  },
  {
   "cell_type": "markdown",
   "metadata": {
    "id": "SjYF6Ub9_Zct"
   },
   "source": [
    "## Предобработка данных\n",
    "Исправьте стиль в заголовках столбцов, исключите пропуски. Затем проверьте данные на дубликаты."
   ]
  },
  {
   "cell_type": "markdown",
   "metadata": {
    "id": "dIaKXr29_Zct"
   },
   "source": [
    "### Стиль заголовков\n",
    "Выведите на экран названия столбцов:"
   ]
  },
  {
   "cell_type": "code",
   "execution_count": 5,
   "metadata": {
    "id": "oKOTdF_Q_Zct"
   },
   "outputs": [
    {
     "data": {
      "text/plain": [
       "Index(['  userID', 'Track', 'artist', 'genre', '  City  ', 'time', 'Day'], dtype='object')"
      ]
     },
     "execution_count": 5,
     "metadata": {},
     "output_type": "execute_result"
    }
   ],
   "source": [
    "df.columns # перечень названий столбцов таблицы df"
   ]
  },
  {
   "cell_type": "markdown",
   "metadata": {
    "id": "zj5534cv_Zct"
   },
   "source": [
    "Приведите названия в соответствие с хорошим стилем:\n",
    "* несколько слов в названии запишите в «змеином_регистре»,\n",
    "* все символы сделайте строчными,\n",
    "* устраните пробелы.\n",
    "\n",
    "Для этого переименуйте колонки так:\n",
    "* `'  userID'` → `'user_id'`;\n",
    "* `'Track'` → `'track'`;\n",
    "* `'  City  '` → `'city'`;\n",
    "* `'Day'` → `'day'`."
   ]
  },
  {
   "cell_type": "code",
   "execution_count": 6,
   "metadata": {
    "id": "ISlFqs5y_Zct"
   },
   "outputs": [],
   "source": [
    "df = df.rename(columns = {'  userID' : 'user_id', \n",
    "                          'Track' : 'track', \n",
    "                          '  City  ' : 'city', \n",
    "                          'Day' : 'day'}) # переименование столбцов"
   ]
  },
  {
   "cell_type": "markdown",
   "metadata": {
    "id": "1dqbh00J_Zct"
   },
   "source": [
    "Проверьте результат. Для этого ещё раз выведите на экран названия столбцов:"
   ]
  },
  {
   "cell_type": "code",
   "execution_count": 7,
   "metadata": {
    "id": "d4NOAmTW_Zct"
   },
   "outputs": [
    {
     "data": {
      "text/plain": [
       "Index(['user_id', 'track', 'artist', 'genre', 'city', 'time', 'day'], dtype='object')"
      ]
     },
     "execution_count": 7,
     "metadata": {},
     "output_type": "execute_result"
    }
   ],
   "source": [
    "df.columns # проверка результатов - перечень названий столбцов"
   ]
  },
  {
   "cell_type": "markdown",
   "metadata": {
    "id": "5ISfbcfY_Zct"
   },
   "source": [
    "### Пропуски значений\n",
    "Сначала посчитайте, сколько в таблице пропущенных значений. Для этого достаточно двух методов `pandas`:"
   ]
  },
  {
   "cell_type": "code",
   "execution_count": 8,
   "metadata": {
    "id": "RskX29qr_Zct"
   },
   "outputs": [
    {
     "data": {
      "text/plain": [
       "user_id       0\n",
       "track      1231\n",
       "artist     7203\n",
       "genre      1198\n",
       "city          0\n",
       "time          0\n",
       "day           0\n",
       "dtype: int64"
      ]
     },
     "execution_count": 8,
     "metadata": {},
     "output_type": "execute_result"
    }
   ],
   "source": [
    "df.isna().sum() # подсчёт пропусков"
   ]
  },
  {
   "cell_type": "markdown",
   "metadata": {
    "id": "qubhgnlO_Zct"
   },
   "source": [
    "Не все пропущенные значения влияют на исследование. Так в `track` и `artist` пропуски не важны для вашей работы. Достаточно заменить их явными обозначениями.\n",
    "\n",
    "Но пропуски в `genre` могут помешать сравнению музыкальных вкусов в Москве и Санкт-Петербурге. На практике было бы правильно установить причину пропусков и восстановить данные. Такой возможности нет в учебном проекте. Придётся:\n",
    "* заполнить и эти пропуски явными обозначениями,\n",
    "* оценить, насколько они повредят расчётам. "
   ]
  },
  {
   "cell_type": "markdown",
   "metadata": {
    "id": "fSv2laPA_Zct"
   },
   "source": [
    "Замените пропущенные значения в столбцах `track`, `artist` и `genre` на строку `'unknown'`. Для этого создайте список `columns_to_replace`, переберите его элементы циклом `for` и для каждого столбца выполните замену пропущенных значений:"
   ]
  },
  {
   "cell_type": "code",
   "execution_count": 9,
   "metadata": {
    "id": "KplB5qWs_Zct"
   },
   "outputs": [],
   "source": [
    "# перебор названий столбцов в цикле и замена пропущенных значений на 'unknown'\n",
    "columns_to_replace = ['track', 'artist', 'genre']\n",
    "for item in columns_to_replace:\n",
    "    df[item] = df[item].fillna('unknown')"
   ]
  },
  {
   "cell_type": "markdown",
   "metadata": {
    "id": "Ilsm-MZo_Zct"
   },
   "source": [
    "Убедитесь, что в таблице не осталось пропусков. Для этого ещё раз посчитайте пропущенные значения."
   ]
  },
  {
   "cell_type": "code",
   "execution_count": 10,
   "metadata": {
    "id": "Tq4nYRX4_Zct"
   },
   "outputs": [
    {
     "data": {
      "text/plain": [
       "user_id    0\n",
       "track      0\n",
       "artist     0\n",
       "genre      0\n",
       "city       0\n",
       "time       0\n",
       "day        0\n",
       "dtype: int64"
      ]
     },
     "execution_count": 10,
     "metadata": {},
     "output_type": "execute_result"
    }
   ],
   "source": [
    "df.isna().sum() # подсчёт пропусков"
   ]
  },
  {
   "cell_type": "markdown",
   "metadata": {
    "id": "BWKRtBJ3_Zct"
   },
   "source": [
    "### Дубликаты\n",
    "Посчитайте явные дубликаты в таблице одной командой:"
   ]
  },
  {
   "cell_type": "code",
   "execution_count": 11,
   "metadata": {
    "id": "36eES_S0_Zct"
   },
   "outputs": [
    {
     "data": {
      "text/plain": [
       "3826"
      ]
     },
     "execution_count": 11,
     "metadata": {},
     "output_type": "execute_result"
    }
   ],
   "source": [
    "df.duplicated().sum() # подсчёт явных дубликатов"
   ]
  },
  {
   "cell_type": "markdown",
   "metadata": {
    "id": "Ot25h6XR_Zct"
   },
   "source": [
    "Вызовите специальный метод `pandas`, чтобы удалить явные дубликаты:"
   ]
  },
  {
   "cell_type": "code",
   "execution_count": 12,
   "metadata": {
    "id": "exFHq6tt_Zct"
   },
   "outputs": [],
   "source": [
    "df = df.drop_duplicates().reset_index(drop = True) # удаление явных дубликатов \n",
    "                                                   # (с удалением старых индексов и формированием новых)"
   ]
  },
  {
   "cell_type": "markdown",
   "metadata": {
    "id": "Im2YwBEG_Zct"
   },
   "source": [
    "Ещё раз посчитайте явные дубликаты в таблице — убедитесь, что полностью от них избавились:"
   ]
  },
  {
   "cell_type": "code",
   "execution_count": 13,
   "metadata": {
    "id": "-8PuNWQ0_Zct"
   },
   "outputs": [
    {
     "data": {
      "text/plain": [
       "0"
      ]
     },
     "execution_count": 13,
     "metadata": {},
     "output_type": "execute_result"
    }
   ],
   "source": [
    "df.duplicated().sum() # проверка на отсутствие дубликатов"
   ]
  },
  {
   "cell_type": "markdown",
   "metadata": {
    "id": "QlFBsxAr_Zct"
   },
   "source": [
    "Теперь избавьтесь от неявных дубликатов в колонке `genre`. Например, название одного и того же жанра может быть записано немного по-разному. Такие ошибки тоже повлияют на результат исследования."
   ]
  },
  {
   "cell_type": "markdown",
   "metadata": {
    "id": "eSjWwsOh_Zct"
   },
   "source": [
    "Выведите на экран список уникальных названий жанров, отсортированный в алфавитном порядке. Для этого:\n",
    "* извлеките нужный столбец датафрейма, \n",
    "* примените к нему метод сортировки,\n",
    "* для отсортированного столбца вызовите метод, который вернёт уникальные значения из столбца."
   ]
  },
  {
   "cell_type": "code",
   "execution_count": 14,
   "metadata": {
    "id": "JIUcqzZN_Zct"
   },
   "outputs": [
    {
     "data": {
      "text/plain": [
       "['acid',\n",
       " 'acoustic',\n",
       " 'action',\n",
       " 'adult',\n",
       " 'africa',\n",
       " 'afrikaans',\n",
       " 'alternative',\n",
       " 'alternativepunk',\n",
       " 'ambient',\n",
       " 'americana',\n",
       " 'animated',\n",
       " 'anime',\n",
       " 'arabesk',\n",
       " 'arabic',\n",
       " 'arena',\n",
       " 'argentinetango',\n",
       " 'art',\n",
       " 'audiobook',\n",
       " 'author',\n",
       " 'avantgarde',\n",
       " 'axé',\n",
       " 'baile',\n",
       " 'balkan',\n",
       " 'beats',\n",
       " 'bigroom',\n",
       " 'black',\n",
       " 'bluegrass',\n",
       " 'blues',\n",
       " 'bollywood',\n",
       " 'bossa',\n",
       " 'brazilian',\n",
       " 'breakbeat',\n",
       " 'breaks',\n",
       " 'broadway',\n",
       " 'cantautori',\n",
       " 'cantopop',\n",
       " 'canzone',\n",
       " 'caribbean',\n",
       " 'caucasian',\n",
       " 'celtic',\n",
       " 'chamber',\n",
       " 'chanson',\n",
       " 'children',\n",
       " 'chill',\n",
       " 'chinese',\n",
       " 'choral',\n",
       " 'christian',\n",
       " 'christmas',\n",
       " 'classical',\n",
       " 'classicmetal',\n",
       " 'club',\n",
       " 'colombian',\n",
       " 'comedy',\n",
       " 'conjazz',\n",
       " 'contemporary',\n",
       " 'country',\n",
       " 'cuban',\n",
       " 'dance',\n",
       " 'dancehall',\n",
       " 'dancepop',\n",
       " 'dark',\n",
       " 'death',\n",
       " 'deep',\n",
       " 'deutschrock',\n",
       " 'deutschspr',\n",
       " 'dirty',\n",
       " 'disco',\n",
       " 'dnb',\n",
       " 'documentary',\n",
       " 'downbeat',\n",
       " 'downtempo',\n",
       " 'drum',\n",
       " 'dub',\n",
       " 'dubstep',\n",
       " 'eastern',\n",
       " 'easy',\n",
       " 'electronic',\n",
       " 'electropop',\n",
       " 'emo',\n",
       " 'entehno',\n",
       " 'epicmetal',\n",
       " 'estrada',\n",
       " 'ethnic',\n",
       " 'eurofolk',\n",
       " 'european',\n",
       " 'experimental',\n",
       " 'extrememetal',\n",
       " 'fado',\n",
       " 'fairytail',\n",
       " 'film',\n",
       " 'fitness',\n",
       " 'flamenco',\n",
       " 'folk',\n",
       " 'folklore',\n",
       " 'folkmetal',\n",
       " 'folkrock',\n",
       " 'folktronica',\n",
       " 'forró',\n",
       " 'frankreich',\n",
       " 'französisch',\n",
       " 'french',\n",
       " 'funk',\n",
       " 'future',\n",
       " 'gangsta',\n",
       " 'garage',\n",
       " 'german',\n",
       " 'ghazal',\n",
       " 'gitarre',\n",
       " 'glitch',\n",
       " 'gospel',\n",
       " 'gothic',\n",
       " 'grime',\n",
       " 'grunge',\n",
       " 'gypsy',\n",
       " 'handsup',\n",
       " \"hard'n'heavy\",\n",
       " 'hardcore',\n",
       " 'hardstyle',\n",
       " 'hardtechno',\n",
       " 'hip',\n",
       " 'hip-hop',\n",
       " 'hiphop',\n",
       " 'historisch',\n",
       " 'holiday',\n",
       " 'hop',\n",
       " 'horror',\n",
       " 'house',\n",
       " 'hymn',\n",
       " 'idm',\n",
       " 'independent',\n",
       " 'indian',\n",
       " 'indie',\n",
       " 'indipop',\n",
       " 'industrial',\n",
       " 'inspirational',\n",
       " 'instrumental',\n",
       " 'international',\n",
       " 'irish',\n",
       " 'jam',\n",
       " 'japanese',\n",
       " 'jazz',\n",
       " 'jewish',\n",
       " 'jpop',\n",
       " 'jungle',\n",
       " 'k-pop',\n",
       " 'karadeniz',\n",
       " 'karaoke',\n",
       " 'kayokyoku',\n",
       " 'korean',\n",
       " 'laiko',\n",
       " 'latin',\n",
       " 'latino',\n",
       " 'leftfield',\n",
       " 'local',\n",
       " 'lounge',\n",
       " 'loungeelectronic',\n",
       " 'lovers',\n",
       " 'malaysian',\n",
       " 'mandopop',\n",
       " 'marschmusik',\n",
       " 'meditative',\n",
       " 'mediterranean',\n",
       " 'melodic',\n",
       " 'metal',\n",
       " 'metalcore',\n",
       " 'mexican',\n",
       " 'middle',\n",
       " 'minimal',\n",
       " 'miscellaneous',\n",
       " 'modern',\n",
       " 'mood',\n",
       " 'mpb',\n",
       " 'muslim',\n",
       " 'native',\n",
       " 'neoklassik',\n",
       " 'neue',\n",
       " 'new',\n",
       " 'newage',\n",
       " 'newwave',\n",
       " 'nu',\n",
       " 'nujazz',\n",
       " 'numetal',\n",
       " 'oceania',\n",
       " 'old',\n",
       " 'opera',\n",
       " 'orchestral',\n",
       " 'other',\n",
       " 'piano',\n",
       " 'podcasts',\n",
       " 'pop',\n",
       " 'popdance',\n",
       " 'popelectronic',\n",
       " 'popeurodance',\n",
       " 'poprussian',\n",
       " 'post',\n",
       " 'posthardcore',\n",
       " 'postrock',\n",
       " 'power',\n",
       " 'progmetal',\n",
       " 'progressive',\n",
       " 'psychedelic',\n",
       " 'punjabi',\n",
       " 'punk',\n",
       " 'quebecois',\n",
       " 'ragga',\n",
       " 'ram',\n",
       " 'rancheras',\n",
       " 'rap',\n",
       " 'rave',\n",
       " 'reggae',\n",
       " 'reggaeton',\n",
       " 'regional',\n",
       " 'relax',\n",
       " 'religious',\n",
       " 'retro',\n",
       " 'rhythm',\n",
       " 'rnb',\n",
       " 'rnr',\n",
       " 'rock',\n",
       " 'rockabilly',\n",
       " 'rockalternative',\n",
       " 'rockindie',\n",
       " 'rockother',\n",
       " 'romance',\n",
       " 'roots',\n",
       " 'ruspop',\n",
       " 'rusrap',\n",
       " 'rusrock',\n",
       " 'russian',\n",
       " 'salsa',\n",
       " 'samba',\n",
       " 'scenic',\n",
       " 'schlager',\n",
       " 'self',\n",
       " 'sertanejo',\n",
       " 'shanson',\n",
       " 'shoegazing',\n",
       " 'showtunes',\n",
       " 'singer',\n",
       " 'ska',\n",
       " 'skarock',\n",
       " 'slow',\n",
       " 'smooth',\n",
       " 'soft',\n",
       " 'soul',\n",
       " 'soulful',\n",
       " 'sound',\n",
       " 'soundtrack',\n",
       " 'southern',\n",
       " 'specialty',\n",
       " 'speech',\n",
       " 'spiritual',\n",
       " 'sport',\n",
       " 'stonerrock',\n",
       " 'surf',\n",
       " 'swing',\n",
       " 'synthpop',\n",
       " 'synthrock',\n",
       " 'sängerportrait',\n",
       " 'tango',\n",
       " 'tanzorchester',\n",
       " 'taraftar',\n",
       " 'tatar',\n",
       " 'tech',\n",
       " 'techno',\n",
       " 'teen',\n",
       " 'thrash',\n",
       " 'top',\n",
       " 'traditional',\n",
       " 'tradjazz',\n",
       " 'trance',\n",
       " 'tribal',\n",
       " 'trip',\n",
       " 'triphop',\n",
       " 'tropical',\n",
       " 'türk',\n",
       " 'türkçe',\n",
       " 'ukrrock',\n",
       " 'unknown',\n",
       " 'urban',\n",
       " 'uzbek',\n",
       " 'variété',\n",
       " 'vi',\n",
       " 'videogame',\n",
       " 'vocal',\n",
       " 'western',\n",
       " 'world',\n",
       " 'worldbeat',\n",
       " 'ïîï',\n",
       " 'электроника']"
      ]
     },
     "execution_count": 14,
     "metadata": {},
     "output_type": "execute_result"
    }
   ],
   "source": [
    "sorted(df['genre'].unique()) # Просмотр уникальных названий жанров"
   ]
  },
  {
   "cell_type": "markdown",
   "metadata": {
    "id": "qej-Qmuo_Zct"
   },
   "source": [
    "Просмотрите список и найдите неявные дубликаты названия `hiphop`. Это могут быть названия с ошибками или альтернативные названия того же жанра.\n",
    "\n",
    "Вы увидите следующие неявные дубликаты:\n",
    "* *hip*,\n",
    "* *hop*,\n",
    "* *hip-hop*.\n",
    "\n",
    "Чтобы очистить от них таблицу, напишите функцию `replace_wrong_genres()` с двумя параметрами: \n",
    "* `wrong_genres` — список дубликатов,\n",
    "* `correct_genre` — строка с правильным значением.\n",
    "\n",
    "Функция должна исправить колонку `genre` в таблице `df`: заменить каждое значение из списка `wrong_genres` на значение из `correct_genre`."
   ]
  },
  {
   "cell_type": "code",
   "execution_count": 15,
   "metadata": {
    "id": "ErNDkmns_Zct"
   },
   "outputs": [],
   "source": [
    "# Функция для замены неявных дубликатов\n",
    "def replace_wrong_genres(wrongs, correct):\n",
    "    for wrong in wrongs:\n",
    "        df['genre'] = df['genre'].replace(wrong, correct)\n",
    "wrong_genres = ['hip', 'hop', 'hip-hop']\n",
    "correct_genre = 'hiphop'"
   ]
  },
  {
   "cell_type": "markdown",
   "metadata": {
    "id": "aDoBJxbA_Zct"
   },
   "source": [
    "Вызовите `replace_wrong_genres()` и передайте ей такие аргументы, чтобы она устранила неявные дубликаты: вместо `hip`, `hop` и `hip-hop` в таблице должно быть значение `hiphop`:"
   ]
  },
  {
   "cell_type": "code",
   "execution_count": 16,
   "metadata": {
    "id": "YN5i2hpmSo09"
   },
   "outputs": [],
   "source": [
    "replace_wrong_genres(wrong_genres, correct_genre) # Устранение неявных дубликатов"
   ]
  },
  {
   "cell_type": "markdown",
   "metadata": {
    "id": "zQKF16_RG15m"
   },
   "source": [
    "Проверьте, что заменили неправильные названия:\n",
    "\n",
    "*   hip\n",
    "*   hop\n",
    "*   hip-hop\n",
    "\n",
    "Выведите отсортированный список уникальных значений столбца `genre`:"
   ]
  },
  {
   "cell_type": "code",
   "execution_count": 17,
   "metadata": {
    "id": "wvixALnFG15m"
   },
   "outputs": [
    {
     "data": {
      "text/plain": [
       "['acid',\n",
       " 'acoustic',\n",
       " 'action',\n",
       " 'adult',\n",
       " 'africa',\n",
       " 'afrikaans',\n",
       " 'alternative',\n",
       " 'alternativepunk',\n",
       " 'ambient',\n",
       " 'americana',\n",
       " 'animated',\n",
       " 'anime',\n",
       " 'arabesk',\n",
       " 'arabic',\n",
       " 'arena',\n",
       " 'argentinetango',\n",
       " 'art',\n",
       " 'audiobook',\n",
       " 'author',\n",
       " 'avantgarde',\n",
       " 'axé',\n",
       " 'baile',\n",
       " 'balkan',\n",
       " 'beats',\n",
       " 'bigroom',\n",
       " 'black',\n",
       " 'bluegrass',\n",
       " 'blues',\n",
       " 'bollywood',\n",
       " 'bossa',\n",
       " 'brazilian',\n",
       " 'breakbeat',\n",
       " 'breaks',\n",
       " 'broadway',\n",
       " 'cantautori',\n",
       " 'cantopop',\n",
       " 'canzone',\n",
       " 'caribbean',\n",
       " 'caucasian',\n",
       " 'celtic',\n",
       " 'chamber',\n",
       " 'chanson',\n",
       " 'children',\n",
       " 'chill',\n",
       " 'chinese',\n",
       " 'choral',\n",
       " 'christian',\n",
       " 'christmas',\n",
       " 'classical',\n",
       " 'classicmetal',\n",
       " 'club',\n",
       " 'colombian',\n",
       " 'comedy',\n",
       " 'conjazz',\n",
       " 'contemporary',\n",
       " 'country',\n",
       " 'cuban',\n",
       " 'dance',\n",
       " 'dancehall',\n",
       " 'dancepop',\n",
       " 'dark',\n",
       " 'death',\n",
       " 'deep',\n",
       " 'deutschrock',\n",
       " 'deutschspr',\n",
       " 'dirty',\n",
       " 'disco',\n",
       " 'dnb',\n",
       " 'documentary',\n",
       " 'downbeat',\n",
       " 'downtempo',\n",
       " 'drum',\n",
       " 'dub',\n",
       " 'dubstep',\n",
       " 'eastern',\n",
       " 'easy',\n",
       " 'electronic',\n",
       " 'electropop',\n",
       " 'emo',\n",
       " 'entehno',\n",
       " 'epicmetal',\n",
       " 'estrada',\n",
       " 'ethnic',\n",
       " 'eurofolk',\n",
       " 'european',\n",
       " 'experimental',\n",
       " 'extrememetal',\n",
       " 'fado',\n",
       " 'fairytail',\n",
       " 'film',\n",
       " 'fitness',\n",
       " 'flamenco',\n",
       " 'folk',\n",
       " 'folklore',\n",
       " 'folkmetal',\n",
       " 'folkrock',\n",
       " 'folktronica',\n",
       " 'forró',\n",
       " 'frankreich',\n",
       " 'französisch',\n",
       " 'french',\n",
       " 'funk',\n",
       " 'future',\n",
       " 'gangsta',\n",
       " 'garage',\n",
       " 'german',\n",
       " 'ghazal',\n",
       " 'gitarre',\n",
       " 'glitch',\n",
       " 'gospel',\n",
       " 'gothic',\n",
       " 'grime',\n",
       " 'grunge',\n",
       " 'gypsy',\n",
       " 'handsup',\n",
       " \"hard'n'heavy\",\n",
       " 'hardcore',\n",
       " 'hardstyle',\n",
       " 'hardtechno',\n",
       " 'hiphop',\n",
       " 'historisch',\n",
       " 'holiday',\n",
       " 'horror',\n",
       " 'house',\n",
       " 'hymn',\n",
       " 'idm',\n",
       " 'independent',\n",
       " 'indian',\n",
       " 'indie',\n",
       " 'indipop',\n",
       " 'industrial',\n",
       " 'inspirational',\n",
       " 'instrumental',\n",
       " 'international',\n",
       " 'irish',\n",
       " 'jam',\n",
       " 'japanese',\n",
       " 'jazz',\n",
       " 'jewish',\n",
       " 'jpop',\n",
       " 'jungle',\n",
       " 'k-pop',\n",
       " 'karadeniz',\n",
       " 'karaoke',\n",
       " 'kayokyoku',\n",
       " 'korean',\n",
       " 'laiko',\n",
       " 'latin',\n",
       " 'latino',\n",
       " 'leftfield',\n",
       " 'local',\n",
       " 'lounge',\n",
       " 'loungeelectronic',\n",
       " 'lovers',\n",
       " 'malaysian',\n",
       " 'mandopop',\n",
       " 'marschmusik',\n",
       " 'meditative',\n",
       " 'mediterranean',\n",
       " 'melodic',\n",
       " 'metal',\n",
       " 'metalcore',\n",
       " 'mexican',\n",
       " 'middle',\n",
       " 'minimal',\n",
       " 'miscellaneous',\n",
       " 'modern',\n",
       " 'mood',\n",
       " 'mpb',\n",
       " 'muslim',\n",
       " 'native',\n",
       " 'neoklassik',\n",
       " 'neue',\n",
       " 'new',\n",
       " 'newage',\n",
       " 'newwave',\n",
       " 'nu',\n",
       " 'nujazz',\n",
       " 'numetal',\n",
       " 'oceania',\n",
       " 'old',\n",
       " 'opera',\n",
       " 'orchestral',\n",
       " 'other',\n",
       " 'piano',\n",
       " 'podcasts',\n",
       " 'pop',\n",
       " 'popdance',\n",
       " 'popelectronic',\n",
       " 'popeurodance',\n",
       " 'poprussian',\n",
       " 'post',\n",
       " 'posthardcore',\n",
       " 'postrock',\n",
       " 'power',\n",
       " 'progmetal',\n",
       " 'progressive',\n",
       " 'psychedelic',\n",
       " 'punjabi',\n",
       " 'punk',\n",
       " 'quebecois',\n",
       " 'ragga',\n",
       " 'ram',\n",
       " 'rancheras',\n",
       " 'rap',\n",
       " 'rave',\n",
       " 'reggae',\n",
       " 'reggaeton',\n",
       " 'regional',\n",
       " 'relax',\n",
       " 'religious',\n",
       " 'retro',\n",
       " 'rhythm',\n",
       " 'rnb',\n",
       " 'rnr',\n",
       " 'rock',\n",
       " 'rockabilly',\n",
       " 'rockalternative',\n",
       " 'rockindie',\n",
       " 'rockother',\n",
       " 'romance',\n",
       " 'roots',\n",
       " 'ruspop',\n",
       " 'rusrap',\n",
       " 'rusrock',\n",
       " 'russian',\n",
       " 'salsa',\n",
       " 'samba',\n",
       " 'scenic',\n",
       " 'schlager',\n",
       " 'self',\n",
       " 'sertanejo',\n",
       " 'shanson',\n",
       " 'shoegazing',\n",
       " 'showtunes',\n",
       " 'singer',\n",
       " 'ska',\n",
       " 'skarock',\n",
       " 'slow',\n",
       " 'smooth',\n",
       " 'soft',\n",
       " 'soul',\n",
       " 'soulful',\n",
       " 'sound',\n",
       " 'soundtrack',\n",
       " 'southern',\n",
       " 'specialty',\n",
       " 'speech',\n",
       " 'spiritual',\n",
       " 'sport',\n",
       " 'stonerrock',\n",
       " 'surf',\n",
       " 'swing',\n",
       " 'synthpop',\n",
       " 'synthrock',\n",
       " 'sängerportrait',\n",
       " 'tango',\n",
       " 'tanzorchester',\n",
       " 'taraftar',\n",
       " 'tatar',\n",
       " 'tech',\n",
       " 'techno',\n",
       " 'teen',\n",
       " 'thrash',\n",
       " 'top',\n",
       " 'traditional',\n",
       " 'tradjazz',\n",
       " 'trance',\n",
       " 'tribal',\n",
       " 'trip',\n",
       " 'triphop',\n",
       " 'tropical',\n",
       " 'türk',\n",
       " 'türkçe',\n",
       " 'ukrrock',\n",
       " 'unknown',\n",
       " 'urban',\n",
       " 'uzbek',\n",
       " 'variété',\n",
       " 'vi',\n",
       " 'videogame',\n",
       " 'vocal',\n",
       " 'western',\n",
       " 'world',\n",
       " 'worldbeat',\n",
       " 'ïîï',\n",
       " 'электроника']"
      ]
     },
     "execution_count": 17,
     "metadata": {},
     "output_type": "execute_result"
    }
   ],
   "source": [
    "sorted(df['genre'].unique()) # Проверка на неявные дубликаты"
   ]
  },
  {
   "cell_type": "markdown",
   "metadata": {
    "id": "jz6a9-7HQUDd"
   },
   "source": [
    "**Выводы**\n",
    "\n",
    "Предобработка обнаружила три проблемы в данных:\n",
    "\n",
    "- нарушения в стиле заголовков,\n",
    "- пропущенные значения,\n",
    "- дубликаты — явные и неявные.\n",
    "\n",
    "Вы исправили заголовки, чтобы упростить работу с таблицей. Без дубликатов исследование станет более точным.\n",
    "\n",
    "Пропущенные значения вы заменили на `'unknown'`. Ещё предстоит увидеть, не повредят ли исследованию пропуски в колонке `genre`.\n",
    "\n",
    "Теперь можно перейти к проверке гипотез. "
   ]
  },
  {
   "cell_type": "markdown",
   "metadata": {
    "id": "WttZHXH0SqKk"
   },
   "source": [
    "## Проверка гипотез"
   ]
  },
  {
   "cell_type": "markdown",
   "metadata": {
    "id": "Im936VVi_Zcu"
   },
   "source": [
    "### Сравнение поведения пользователей двух столиц"
   ]
  },
  {
   "cell_type": "markdown",
   "metadata": {
    "id": "nwt_MuaL_Zcu"
   },
   "source": [
    "Первая гипотеза утверждает, что пользователи по-разному слушают музыку в Москве и Санкт-Петербурге. Проверьте это предположение по данным о трёх днях недели — понедельнике, среде и пятнице. Для этого:\n",
    "\n",
    "* Разделите пользователей Москвы и Санкт-Петербурга\n",
    "* Сравните, сколько треков послушала каждая группа пользователей в понедельник, среду и пятницу.\n"
   ]
  },
  {
   "cell_type": "markdown",
   "metadata": {
    "id": "8Dw_YMmT_Zcu"
   },
   "source": [
    "Для тренировки сначала выполните каждый из расчётов по отдельности. \n",
    "\n",
    "Оцените активность пользователей в каждом городе. Сгруппируйте данные по городу и посчитайте прослушивания в каждой группе.\n",
    "\n"
   ]
  },
  {
   "cell_type": "code",
   "execution_count": 18,
   "metadata": {
    "id": "0_Qs96oh_Zcu"
   },
   "outputs": [
    {
     "data": {
      "text/plain": [
       "city\n",
       "Moscow              42741\n",
       "Saint-Petersburg    18512\n",
       "Name: track, dtype: int64"
      ]
     },
     "execution_count": 18,
     "metadata": {},
     "output_type": "execute_result"
    }
   ],
   "source": [
    "# Подсчёт прослушиваний в каждом городе\n",
    "df.groupby('city')['track'].count()"
   ]
  },
  {
   "cell_type": "markdown",
   "metadata": {
    "id": "dzli3w8o_Zcu"
   },
   "source": [
    "В Москве прослушиваний больше, чем в Петербурге. Из этого не следует, что московские пользователи чаще слушают музыку. Просто самих пользователей в Москве больше.\n",
    "\n",
    "Теперь сгруппируйте данные по дню недели и подсчитайте прослушивания в понедельник, среду и пятницу. Учтите, что в данных есть информация только о прослушиваниях только за эти дни.\n"
   ]
  },
  {
   "cell_type": "code",
   "execution_count": 19,
   "metadata": {
    "id": "uZMKjiJz_Zcu"
   },
   "outputs": [
    {
     "data": {
      "text/plain": [
       "day\n",
       "Friday       21840\n",
       "Monday       21354\n",
       "Wednesday    18059\n",
       "Name: track, dtype: int64"
      ]
     },
     "execution_count": 19,
     "metadata": {},
     "output_type": "execute_result"
    }
   ],
   "source": [
    "df.groupby('day')['track'].count() # Подсчёт прослушиваний в каждый из трёх дней"
   ]
  },
  {
   "cell_type": "markdown",
   "metadata": {
    "id": "cC2tNrlL_Zcu"
   },
   "source": [
    "В среднем пользователи из двух городов менее активны по средам. Но картина может измениться, если рассмотреть каждый город в отдельности."
   ]
  },
  {
   "cell_type": "markdown",
   "metadata": {
    "id": "POzs8bGa_Zcu"
   },
   "source": [
    "Вы видели, как работает группировка по городу и по дням недели. Теперь напишите функцию, которая объединит два эти расчёта.\n",
    "\n",
    "Создайте функцию `number_tracks()`, которая посчитает прослушивания для заданного дня и города. Ей понадобятся два параметра:\n",
    "* день недели,\n",
    "* название города.\n",
    "\n",
    "В функции сохраните в переменную строки исходной таблицы, у которых значение:\n",
    "  * в колонке `day` равно параметру `day`,\n",
    "  * в колонке `city` равно параметру `city`.\n",
    "\n",
    "Для этого примените последовательную фильтрацию с логической индексацией.\n",
    "\n",
    "Затем посчитайте значения в столбце `user_id` получившейся таблицы. Результат сохраните в новую переменную. Верните эту переменную из функции."
   ]
  },
  {
   "cell_type": "code",
   "execution_count": 20,
   "metadata": {
    "id": "Nz3GdQB1_Zcu"
   },
   "outputs": [],
   "source": [
    "# <создание функции number_tracks()>\n",
    "def number_tracks(day, city): # Объявляется функция с двумя параметрами: day, city.\n",
    "# В переменной track_list сохраняются те строки таблицы df, для которых \n",
    "# значение в столбце 'day' равно параметру day и одновременно значение\n",
    "# в столбце 'city' равно параметру city (используйте последовательную фильтрацию\n",
    "# с помощью логической индексации).\n",
    "    track_list = df[df['day'] == day]\n",
    "    track_list = track_list[track_list['city'] == city]\n",
    "# В переменной track_list_count сохраняется число значений столбца 'user_id',\n",
    "# рассчитанное методом count() для таблицы track_list.\n",
    "    track_list_count = track_list['user_id'].count()\n",
    "# Функция возвращает число - значение track_list_count.\n",
    "    return track_list_count\n",
    "\n",
    "# Функция для подсчёта прослушиваний для конкретного города и дня.\n",
    "# С помощью последовательной фильтрации с логической индексацией она \n",
    "# сначала получит из исходной таблицы строки с нужным днём,\n",
    "# затем из результата отфильтрует строки с нужным городом,\n",
    "# методом count() посчитает количество значений в колонке user_id. \n",
    "# Это количество функция вернёт в качестве результата"
   ]
  },
  {
   "cell_type": "markdown",
   "metadata": {
    "id": "ytf7xFrFJQ2r"
   },
   "source": [
    "Вызовите `number_tracks()` шесть раз, меняя значение параметров — так, чтобы получить данные для каждого города в каждый из трёх дней."
   ]
  },
  {
   "cell_type": "code",
   "execution_count": 21,
   "metadata": {
    "id": "rJcRATNQ_Zcu"
   },
   "outputs": [
    {
     "data": {
      "text/plain": [
       "15740"
      ]
     },
     "execution_count": 21,
     "metadata": {},
     "output_type": "execute_result"
    }
   ],
   "source": [
    "number_tracks('Monday', 'Moscow') # количество прослушиваний в Москве по понедельникам"
   ]
  },
  {
   "cell_type": "code",
   "execution_count": 22,
   "metadata": {
    "id": "hq_ncZ5T_Zcu"
   },
   "outputs": [
    {
     "data": {
      "text/plain": [
       "5614"
      ]
     },
     "execution_count": 22,
     "metadata": {},
     "output_type": "execute_result"
    }
   ],
   "source": [
    "number_tracks('Monday', 'Saint-Petersburg') # количество прослушиваний в Санкт-Петербурге по понедельникам"
   ]
  },
  {
   "cell_type": "code",
   "execution_count": 23,
   "metadata": {
    "id": "_NTy2VPU_Zcu"
   },
   "outputs": [
    {
     "data": {
      "text/plain": [
       "11056"
      ]
     },
     "execution_count": 23,
     "metadata": {},
     "output_type": "execute_result"
    }
   ],
   "source": [
    "number_tracks('Wednesday', 'Moscow') # количество прослушиваний в Москве по средам"
   ]
  },
  {
   "cell_type": "code",
   "execution_count": 24,
   "metadata": {
    "id": "j2y3TAwo_Zcu"
   },
   "outputs": [
    {
     "data": {
      "text/plain": [
       "7003"
      ]
     },
     "execution_count": 24,
     "metadata": {},
     "output_type": "execute_result"
    }
   ],
   "source": [
    "number_tracks('Wednesday', 'Saint-Petersburg') # количество прослушиваний в Санкт-Петербурге по средам"
   ]
  },
  {
   "cell_type": "code",
   "execution_count": 25,
   "metadata": {
    "id": "vYDw5u_K_Zcu"
   },
   "outputs": [
    {
     "data": {
      "text/plain": [
       "15945"
      ]
     },
     "execution_count": 25,
     "metadata": {},
     "output_type": "execute_result"
    }
   ],
   "source": [
    "number_tracks('Friday', 'Moscow') # количество прослушиваний в Москве по пятницам"
   ]
  },
  {
   "cell_type": "code",
   "execution_count": 26,
   "metadata": {
    "id": "8_yzFtW3_Zcu"
   },
   "outputs": [
    {
     "data": {
      "text/plain": [
       "5895"
      ]
     },
     "execution_count": 26,
     "metadata": {},
     "output_type": "execute_result"
    }
   ],
   "source": [
    "number_tracks('Friday', 'Saint-Petersburg') # количество прослушиваний в Санкт-Петербурге по пятницам"
   ]
  },
  {
   "cell_type": "markdown",
   "metadata": {
    "id": "7QXffbO-_Zcu"
   },
   "source": [
    "Создайте c помощью конструктора `pd.DataFrame` таблицу, где\n",
    "* названия колонок — `['city', 'monday', 'wednesday', 'friday']`;\n",
    "* данные — результаты, которые вы получили с помощью `number_tracks`."
   ]
  },
  {
   "cell_type": "code",
   "execution_count": 27,
   "metadata": {
    "id": "APAcLpOr_Zcu"
   },
   "outputs": [
    {
     "data": {
      "text/html": [
       "<div>\n",
       "<style scoped>\n",
       "    .dataframe tbody tr th:only-of-type {\n",
       "        vertical-align: middle;\n",
       "    }\n",
       "\n",
       "    .dataframe tbody tr th {\n",
       "        vertical-align: top;\n",
       "    }\n",
       "\n",
       "    .dataframe thead th {\n",
       "        text-align: right;\n",
       "    }\n",
       "</style>\n",
       "<table border=\"1\" class=\"dataframe\">\n",
       "  <thead>\n",
       "    <tr style=\"text-align: right;\">\n",
       "      <th></th>\n",
       "      <th>city</th>\n",
       "      <th>monday</th>\n",
       "      <th>wednesday</th>\n",
       "      <th>friday</th>\n",
       "    </tr>\n",
       "  </thead>\n",
       "  <tbody>\n",
       "    <tr>\n",
       "      <td>0</td>\n",
       "      <td>Moscow</td>\n",
       "      <td>15740</td>\n",
       "      <td>11056</td>\n",
       "      <td>15945</td>\n",
       "    </tr>\n",
       "    <tr>\n",
       "      <td>1</td>\n",
       "      <td>Saint-Petersburg</td>\n",
       "      <td>5614</td>\n",
       "      <td>7003</td>\n",
       "      <td>5895</td>\n",
       "    </tr>\n",
       "  </tbody>\n",
       "</table>\n",
       "</div>"
      ],
      "text/plain": [
       "               city  monday  wednesday  friday\n",
       "0            Moscow   15740      11056   15945\n",
       "1  Saint-Petersburg    5614       7003    5895"
      ]
     },
     "execution_count": 27,
     "metadata": {},
     "output_type": "execute_result"
    }
   ],
   "source": [
    "# Таблица с результатами\n",
    "columns = ['city', 'monday', 'wednesday', 'friday']\n",
    "data = [['Moscow', 15740, 11056, 15945], \n",
    "        ['Saint-Petersburg', 5614, 7003, 5895]\n",
    "       ]\n",
    "pd.DataFrame(data = data, columns = columns)"
   ]
  },
  {
   "cell_type": "markdown",
   "metadata": {
    "id": "-EgPIHYu_Zcu"
   },
   "source": [
    "**Выводы**\n",
    "\n",
    "Данные показывают разницу поведения пользователей:\n",
    "\n",
    "- В Москве пик прослушиваний приходится на понедельник и пятницу, а в среду заметен спад.\n",
    "- В Петербурге, наоборот, больше слушают музыку по средам. Активность в понедельник и пятницу здесь почти в равной мере уступает среде.\n",
    "\n",
    "Значит, данные говорят в пользу первой гипотезы."
   ]
  },
  {
   "cell_type": "markdown",
   "metadata": {
    "id": "atZAxtq4_Zcu"
   },
   "source": [
    "### Музыка в начале и в конце недели"
   ]
  },
  {
   "cell_type": "markdown",
   "metadata": {
    "id": "eXrQqXFH_Zcu"
   },
   "source": [
    "Согласно второй гипотезе, утром в понедельник в Москве преобладают одни жанры, а в Петербурге — другие. Так же и вечером пятницы преобладают разные жанры — в зависимости от города."
   ]
  },
  {
   "cell_type": "markdown",
   "metadata": {
    "id": "S8UcW6Hw_Zcu"
   },
   "source": [
    "Сохраните таблицы с данными в две переменные:\n",
    "* по Москве — в `moscow_general`;\n",
    "* по Санкт-Петербургу — в `spb_general`."
   ]
  },
  {
   "cell_type": "code",
   "execution_count": 28,
   "metadata": {
    "id": "qeaFfM_P_Zcu"
   },
   "outputs": [],
   "source": [
    "# получение таблицы moscow_general из тех строк таблицы df, \n",
    "# для которых значение в столбце 'city' равно 'Moscow'\n",
    "moscow_general = df[df['city'] == 'Moscow']"
   ]
  },
  {
   "cell_type": "code",
   "execution_count": 29,
   "metadata": {
    "id": "ORaVRKto_Zcu"
   },
   "outputs": [],
   "source": [
    "# получение таблицы spb_general из тех строк таблицы df,\n",
    "# для которых значение в столбце 'city' равно 'Saint-Petersburg'\n",
    "spb_general = df[df['city'] == 'Saint-Petersburg']"
   ]
  },
  {
   "cell_type": "markdown",
   "metadata": {
    "id": "MEJV-CX2_Zcu"
   },
   "source": [
    "Создайте функцию `genre_weekday()` с четырьмя параметрами:\n",
    "* таблица (датафрейм) с данными,\n",
    "* день недели,\n",
    "* начальная временная метка в формате 'hh:mm', \n",
    "* последняя временная метка в формате 'hh:mm'.\n",
    "\n",
    "Функция должна вернуть информацию о топ-10 жанров тех треков, которые прослушивали в указанный день, в промежутке между двумя отметками времени."
   ]
  },
  {
   "cell_type": "code",
   "execution_count": 30,
   "metadata": {
    "id": "laJT9BYl_Zcu"
   },
   "outputs": [],
   "source": [
    "# Объявление функции genre_weekday() с параметрами table, day, time1, time2,\n",
    "# которая возвращает информацию о самых популярных жанрах в указанный день в\n",
    "# заданное время:\n",
    "def genre_weekday(table, day, time1, time2):\n",
    "# 1) в переменную genre_df сохраняются те строки переданного датафрейма table, для\n",
    "#    которых одновременно:\n",
    "#    - значение в столбце day равно значению аргумента day\n",
    "#    - значение в столбце time больше значения аргумента time1\n",
    "#    - значение в столбце time меньше значения аргумента time2\n",
    "#    Используйте последовательную фильтрацию с помощью логической индексации.\n",
    "    genre_df = table[table['day'] == day]\n",
    "    genre_df = genre_df[genre_df['time'] > time1]\n",
    "    genre_df = genre_df[genre_df['time'] < time2]\n",
    "# 2) сгруппировать датафрейм genre_df по столбцу genre, взять один из его\n",
    "#    столбцов и посчитать методом count() количество записей для каждого из\n",
    "#    присутствующих жанров, получившийся Series записать в переменную\n",
    "#    genre_df_count\n",
    "    genre_df_count = genre_df.groupby('genre')['track'].count()\n",
    "# 3) отсортировать genre_df_count по убыванию встречаемости и сохранить\n",
    "#    в переменную genre_df_sorted\n",
    "    genre_df_sorted = genre_df_count.sort_values(ascending = False)\n",
    "# 4) вернуть Series из 10 первых значений genre_df_sorted, это будут топ-10\n",
    "#    популярных жанров (в указанный день, в заданное время)\n",
    "    return genre_df_sorted.head(10)"
   ]
  },
  {
   "cell_type": "markdown",
   "metadata": {
    "id": "la2s2_PF_Zcu"
   },
   "source": [
    "Cравните результаты функции `genre_weekday()` для Москвы и Санкт-Петербурга в понедельник утром (с 7:00 до 11:00) и в пятницу вечером (с 17:00 до 23:00):"
   ]
  },
  {
   "cell_type": "code",
   "execution_count": 31,
   "metadata": {
    "id": "yz7itPUQ_Zcu"
   },
   "outputs": [
    {
     "data": {
      "text/plain": [
       "genre\n",
       "pop            781\n",
       "dance          549\n",
       "electronic     480\n",
       "rock           474\n",
       "hiphop         286\n",
       "ruspop         186\n",
       "world          181\n",
       "rusrap         175\n",
       "alternative    164\n",
       "unknown        161\n",
       "Name: track, dtype: int64"
      ]
     },
     "execution_count": 31,
     "metadata": {},
     "output_type": "execute_result"
    }
   ],
   "source": [
    "# вызов функции для утра понедельника в Москве (вместо df — таблица moscow_general)\n",
    "# объекты, хранящие время, являются строками и сравниваются как строки\n",
    "# пример вызова: genre_weekday(moscow_general, 'Monday', '07:00', '11:00')\n",
    "genre_weekday(moscow_general, 'Monday', '07:00', '11:00')"
   ]
  },
  {
   "cell_type": "code",
   "execution_count": 32,
   "metadata": {
    "id": "kwUcHPdy_Zcu"
   },
   "outputs": [
    {
     "data": {
      "text/plain": [
       "genre\n",
       "pop            218\n",
       "dance          182\n",
       "rock           162\n",
       "electronic     147\n",
       "hiphop          80\n",
       "ruspop          64\n",
       "alternative     58\n",
       "rusrap          55\n",
       "jazz            44\n",
       "classical       40\n",
       "Name: track, dtype: int64"
      ]
     },
     "execution_count": 32,
     "metadata": {},
     "output_type": "execute_result"
    }
   ],
   "source": [
    "# вызов функции для утра понедельника в Петербурге (вместо df — таблица spb_general)\n",
    "genre_weekday(spb_general, 'Monday', '07:00', '11:00')"
   ]
  },
  {
   "cell_type": "code",
   "execution_count": 33,
   "metadata": {
    "id": "EzXVRE1o_Zcu"
   },
   "outputs": [
    {
     "data": {
      "text/plain": [
       "genre\n",
       "pop            713\n",
       "rock           517\n",
       "dance          495\n",
       "electronic     482\n",
       "hiphop         273\n",
       "world          208\n",
       "ruspop         170\n",
       "alternative    163\n",
       "classical      163\n",
       "rusrap         142\n",
       "Name: track, dtype: int64"
      ]
     },
     "execution_count": 33,
     "metadata": {},
     "output_type": "execute_result"
    }
   ],
   "source": [
    "# вызов функции для вечера пятницы в Москве\n",
    "genre_weekday(moscow_general, 'Friday', '17:00', '23:00')"
   ]
  },
  {
   "cell_type": "code",
   "execution_count": 34,
   "metadata": {
    "id": "JZaEKu5v_Zcu"
   },
   "outputs": [
    {
     "data": {
      "text/plain": [
       "genre\n",
       "pop            256\n",
       "rock           216\n",
       "electronic     216\n",
       "dance          210\n",
       "hiphop          97\n",
       "alternative     63\n",
       "jazz            61\n",
       "classical       60\n",
       "rusrap          59\n",
       "world           54\n",
       "Name: track, dtype: int64"
      ]
     },
     "execution_count": 34,
     "metadata": {},
     "output_type": "execute_result"
    }
   ],
   "source": [
    "# вызов функции для вечера пятницы в Петербурге\n",
    "genre_weekday(spb_general, 'Friday', '17:00', '23:00')"
   ]
  },
  {
   "cell_type": "markdown",
   "metadata": {
    "id": "wrCe4MNX_Zcu"
   },
   "source": [
    "**Выводы**\n",
    "\n",
    "Если сравнить топ-10 жанров в понедельник утром, можно сделать такие выводы:\n",
    "\n",
    "1. В Москве и Петербурге слушают похожую музыку. Единственное отличие — в московский рейтинг вошёл жанр “world”, а в петербургский — джаз и классика.\n",
    "\n",
    "2. В Москве пропущенных значений оказалось так много, что значение `'unknown'` заняло десятое место среди самых популярных жанров. Значит, пропущенные значения занимают существенную долю в данных и угрожают достоверности исследования.\n",
    "\n",
    "Вечер пятницы не меняет эту картину. Некоторые жанры поднимаются немного выше, другие спускаются, но в целом топ-10 остаётся тем же самым.\n",
    "\n",
    "Таким образом, вторая гипотеза подтвердилась лишь частично:\n",
    "* Пользователи слушают похожую музыку в начале недели и в конце.\n",
    "* Разница между Москвой и Петербургом не слишком выражена. В Москве чаще слушают русскую популярную музыку, в Петербурге — джаз.\n",
    "\n",
    "Однако пропуски в данных ставят под сомнение этот результат. В Москве их так много, что рейтинг топ-10 мог бы выглядеть иначе, если бы не утерянные  данные о жанрах."
   ]
  },
  {
   "cell_type": "markdown",
   "metadata": {
    "id": "JolODAqr_Zcu"
   },
   "source": [
    "### Жанровые предпочтения в Москве и Петербурге\n",
    "\n",
    "Гипотеза: Петербург — столица рэпа, музыку этого жанра там слушают чаще, чем в Москве.  А Москва — город контрастов, в котором, тем не менее, преобладает поп-музыка."
   ]
  },
  {
   "cell_type": "markdown",
   "metadata": {
    "id": "DlegSvaT_Zcu"
   },
   "source": [
    "Сгруппируйте таблицу `moscow_general` по жанру и посчитайте прослушивания треков каждого жанра методом `count()`. Затем отсортируйте результат в порядке убывания и сохраните его в таблице `moscow_genres`."
   ]
  },
  {
   "cell_type": "code",
   "execution_count": 35,
   "metadata": {
    "id": "r19lIPke_Zcu"
   },
   "outputs": [],
   "source": [
    "# одной строкой: группировка таблицы moscow_general по столбцу 'genre', \n",
    "# подсчёт числа значений 'genre' в этой группировке методом count(), \n",
    "# сортировка получившегося Series в порядке убывания и сохранение в moscow_genres\n",
    "moscow_genres = moscow_general.groupby('genre')['track'].count().sort_values(ascending = False)"
   ]
  },
  {
   "cell_type": "markdown",
   "metadata": {
    "id": "6kMuomxTiIr8"
   },
   "source": [
    "Выведите на экран первые десять строк `moscow_genres`:"
   ]
  },
  {
   "cell_type": "code",
   "execution_count": 36,
   "metadata": {
    "id": "WhCSooF8_Zcv"
   },
   "outputs": [
    {
     "data": {
      "text/plain": [
       "genre\n",
       "pop            5892\n",
       "dance          4435\n",
       "rock           3965\n",
       "electronic     3786\n",
       "hiphop         2096\n",
       "classical      1616\n",
       "world          1432\n",
       "alternative    1379\n",
       "ruspop         1372\n",
       "rusrap         1161\n",
       "Name: track, dtype: int64"
      ]
     },
     "execution_count": 36,
     "metadata": {},
     "output_type": "execute_result"
    }
   ],
   "source": [
    "# просмотр первых 10 строк moscow_genres\n",
    "moscow_genres.head(10)"
   ]
  },
  {
   "cell_type": "markdown",
   "metadata": {
    "id": "cnPG2vnN_Zcv"
   },
   "source": [
    "Теперь повторите то же и для Петербурга.\n",
    "\n",
    "Сгруппируйте таблицу `spb_general` по жанру. Посчитайте прослушивания треков каждого жанра. Результат отсортируйте в порядке убывания и сохраните в таблице `spb_genres`:\n"
   ]
  },
  {
   "cell_type": "code",
   "execution_count": 37,
   "metadata": {
    "id": "gluLIpE7_Zcv"
   },
   "outputs": [],
   "source": [
    "# одной строкой: группировка таблицы spb_general по столбцу 'genre', \n",
    "# подсчёт числа значений 'genre' в этой группировке методом count(), \n",
    "# сортировка получившегося Series в порядке убывания и сохранение в spb_genres\n",
    "spb_genres = spb_general.groupby('genre')['track'].count().sort_values(ascending = False)"
   ]
  },
  {
   "cell_type": "markdown",
   "metadata": {
    "id": "5Doha_ODgyQ8"
   },
   "source": [
    "Выведите на экран первые десять строк `spb_genres`:"
   ]
  },
  {
   "cell_type": "code",
   "execution_count": 38,
   "metadata": {
    "id": "uaGJHjVU_Zcv"
   },
   "outputs": [
    {
     "data": {
      "text/plain": [
       "genre\n",
       "pop            2431\n",
       "dance          1932\n",
       "rock           1879\n",
       "electronic     1736\n",
       "hiphop          960\n",
       "alternative     649\n",
       "classical       646\n",
       "rusrap          564\n",
       "ruspop          538\n",
       "world           515\n",
       "Name: track, dtype: int64"
      ]
     },
     "execution_count": 38,
     "metadata": {},
     "output_type": "execute_result"
    }
   ],
   "source": [
    "# просмотр первых 10 строк spb_genres\n",
    "spb_genres.head(10)"
   ]
  },
  {
   "cell_type": "markdown",
   "metadata": {
    "id": "RY51YJYu_Zcv"
   },
   "source": [
    "**Выводы**"
   ]
  },
  {
   "cell_type": "markdown",
   "metadata": {
    "id": "nVhnJEm__Zcv"
   },
   "source": [
    "Гипотеза частично подтвердилась:\n",
    "* Поп-музыка — самый популярный жанр в Москве, как и предполагала гипотеза. Более того, в топ-10 жанров встречается близкий жанр — русская популярная музыка.\n",
    "* Вопреки ожиданиям, рэп одинаково популярен в Москве и Петербурге. \n"
   ]
  },
  {
   "cell_type": "markdown",
   "metadata": {
    "id": "ykKQ0N65_Zcv"
   },
   "source": [
    "## Итоги исследования"
   ]
  },
  {
   "cell_type": "markdown",
   "metadata": {
    "id": "tjUwbHb3_Zcv"
   },
   "source": [
    "Вы проверили три гипотезы и установили:\n",
    "\n",
    "1. День недели по-разному влияет на активность пользователей в Москве и Петербурге. \n",
    "\n",
    "Первая гипотеза полностью подтвердилась.\n",
    "\n",
    "2. Музыкальные предпочтения не сильно меняются в течение недели — будь то Москва или Петербург. Небольшие различия заметны в начале недели, по понедельникам:\n",
    "* в Москве слушают музыку жанра “world”,\n",
    "* в Петербурге — джаз и классику.\n",
    "\n",
    "Таким образом, вторая гипотеза подтвердилась лишь отчасти. Этот результат мог оказаться иным, если бы не пропуски в данных.\n",
    "\n",
    "3. Во вкусах пользователей Москвы и Петербурга больше общего чем различий. Вопреки ожиданиям, предпочтения жанров в Петербурге напоминают московские.\n",
    "\n",
    "Третья гипотеза не подтвердилась. Если различия в предпочтениях и существуют, на основной массе пользователей они незаметны.\n",
    "\n",
    "**На практике исследования содержат проверки статистических гипотез.**\n",
    "Из данных одного сервиса не всегда можно сделать вывод о всех жителях города.\n",
    "Проверки статистических гипотез покажут, насколько они достоверны, исходя из имеющихся данных. \n",
    "С методами проверок гипотез вы ещё познакомитесь в следующих темах."
   ]
  },
  {
   "cell_type": "code",
   "execution_count": null,
   "metadata": {},
   "outputs": [],
   "source": []
  }
 ],
 "metadata": {
  "ExecuteTimeLog": [
   {
    "duration": 756,
    "start_time": "2021-10-24T11:52:47.153Z"
   },
   {
    "duration": 199,
    "start_time": "2021-10-24T11:53:48.114Z"
   },
   {
    "duration": 26,
    "start_time": "2021-10-24T11:54:05.873Z"
   },
   {
    "duration": 10,
    "start_time": "2021-10-24T11:54:47.451Z"
   },
   {
    "duration": 15,
    "start_time": "2021-10-24T11:55:05.124Z"
   },
   {
    "duration": 17,
    "start_time": "2021-10-24T11:56:10.725Z"
   },
   {
    "duration": 33,
    "start_time": "2021-10-24T11:57:40.215Z"
   },
   {
    "duration": 3,
    "start_time": "2021-10-24T12:06:28.869Z"
   },
   {
    "duration": 3,
    "start_time": "2021-10-24T12:06:35.679Z"
   },
   {
    "duration": 3,
    "start_time": "2021-10-24T12:06:54.829Z"
   },
   {
    "duration": 3,
    "start_time": "2021-10-24T12:07:04.588Z"
   },
   {
    "duration": 204,
    "start_time": "2021-10-24T12:07:06.164Z"
   },
   {
    "duration": 16,
    "start_time": "2021-10-24T12:07:07.863Z"
   },
   {
    "duration": 54,
    "start_time": "2021-10-24T12:07:14.989Z"
   },
   {
    "duration": 3,
    "start_time": "2021-10-24T12:07:22.045Z"
   },
   {
    "duration": 6,
    "start_time": "2021-10-24T12:08:00.601Z"
   },
   {
    "duration": 7,
    "start_time": "2021-10-24T12:08:30.939Z"
   },
   {
    "duration": 6,
    "start_time": "2021-10-24T12:08:34.389Z"
   },
   {
    "duration": 25,
    "start_time": "2021-10-24T12:14:23.668Z"
   },
   {
    "duration": 29,
    "start_time": "2021-10-24T12:14:30.168Z"
   },
   {
    "duration": 7,
    "start_time": "2021-10-24T12:15:45.076Z"
   },
   {
    "duration": 43,
    "start_time": "2021-10-24T12:19:30.953Z"
   },
   {
    "duration": 24,
    "start_time": "2021-10-24T12:25:20.715Z"
   },
   {
    "duration": 36,
    "start_time": "2021-10-24T12:25:53.155Z"
   },
   {
    "duration": 89,
    "start_time": "2021-10-24T12:27:39.177Z"
   },
   {
    "duration": 90,
    "start_time": "2021-10-24T12:27:50.941Z"
   },
   {
    "duration": 90,
    "start_time": "2021-10-24T12:28:02.342Z"
   },
   {
    "duration": 121,
    "start_time": "2021-10-24T12:29:33.225Z"
   },
   {
    "duration": 146,
    "start_time": "2021-10-24T12:29:49.773Z"
   },
   {
    "duration": 118,
    "start_time": "2021-10-24T12:30:25.828Z"
   },
   {
    "duration": 102,
    "start_time": "2021-10-24T12:30:53.706Z"
   },
   {
    "duration": 101,
    "start_time": "2021-10-24T12:31:16.634Z"
   },
   {
    "duration": 121,
    "start_time": "2021-10-24T12:32:01.003Z"
   },
   {
    "duration": 92,
    "start_time": "2021-10-24T12:32:04.700Z"
   },
   {
    "duration": 100,
    "start_time": "2021-10-24T12:32:12.124Z"
   },
   {
    "duration": 114,
    "start_time": "2021-10-24T12:32:19.244Z"
   },
   {
    "duration": 97,
    "start_time": "2021-10-24T12:32:27.460Z"
   },
   {
    "duration": 88,
    "start_time": "2021-10-24T12:32:29.045Z"
   },
   {
    "duration": 86,
    "start_time": "2021-10-24T12:32:39.744Z"
   },
   {
    "duration": 86,
    "start_time": "2021-10-24T12:32:46.564Z"
   },
   {
    "duration": 87,
    "start_time": "2021-10-24T12:33:05.420Z"
   },
   {
    "duration": 107,
    "start_time": "2021-10-24T12:33:07.949Z"
   },
   {
    "duration": 80,
    "start_time": "2021-10-24T12:33:11.205Z"
   },
   {
    "duration": 81,
    "start_time": "2021-10-24T12:33:13.566Z"
   },
   {
    "duration": 81,
    "start_time": "2021-10-24T12:33:56.405Z"
   },
   {
    "duration": 116,
    "start_time": "2021-10-24T12:34:24.697Z"
   },
   {
    "duration": 39,
    "start_time": "2021-10-24T12:34:50.146Z"
   },
   {
    "duration": 34,
    "start_time": "2021-10-24T12:35:04.041Z"
   },
   {
    "duration": 90,
    "start_time": "2021-10-24T12:35:07.778Z"
   },
   {
    "duration": 104,
    "start_time": "2021-10-24T12:35:15.081Z"
   },
   {
    "duration": 113,
    "start_time": "2021-10-24T12:35:21.114Z"
   },
   {
    "duration": 40,
    "start_time": "2021-10-24T12:35:25.040Z"
   },
   {
    "duration": 32,
    "start_time": "2021-10-24T12:35:38.988Z"
   },
   {
    "duration": 36,
    "start_time": "2021-10-24T12:35:45.868Z"
   },
   {
    "duration": 31,
    "start_time": "2021-10-24T12:36:10.828Z"
   },
   {
    "duration": 5,
    "start_time": "2021-10-24T12:36:15.073Z"
   },
   {
    "duration": 224,
    "start_time": "2021-10-24T12:36:15.082Z"
   },
   {
    "duration": 14,
    "start_time": "2021-10-24T12:36:15.309Z"
   },
   {
    "duration": 59,
    "start_time": "2021-10-24T12:36:15.326Z"
   },
   {
    "duration": 6,
    "start_time": "2021-10-24T12:36:15.387Z"
   },
   {
    "duration": 25,
    "start_time": "2021-10-24T12:36:15.396Z"
   },
   {
    "duration": 44,
    "start_time": "2021-10-24T12:36:15.426Z"
   },
   {
    "duration": 34,
    "start_time": "2021-10-24T12:36:15.474Z"
   },
   {
    "duration": 24,
    "start_time": "2021-10-24T12:36:15.511Z"
   },
   {
    "duration": 64,
    "start_time": "2021-10-24T12:36:15.537Z"
   },
   {
    "duration": 119,
    "start_time": "2021-10-24T12:36:15.604Z"
   },
   {
    "duration": 123,
    "start_time": "2021-10-24T12:36:15.727Z"
   },
   {
    "duration": 47,
    "start_time": "2021-10-24T12:36:15.853Z"
   },
   {
    "duration": 3,
    "start_time": "2021-10-24T12:36:15.903Z"
   },
   {
    "duration": 7,
    "start_time": "2021-10-24T12:36:15.909Z"
   },
   {
    "duration": 6,
    "start_time": "2021-10-24T12:36:15.919Z"
   },
   {
    "duration": 47,
    "start_time": "2021-10-24T12:36:15.927Z"
   },
   {
    "duration": 4,
    "start_time": "2021-10-24T12:36:15.978Z"
   },
   {
    "duration": 3,
    "start_time": "2021-10-24T12:36:15.987Z"
   },
   {
    "duration": 9,
    "start_time": "2021-10-24T12:36:15.993Z"
   },
   {
    "duration": 5,
    "start_time": "2021-10-24T12:36:16.004Z"
   },
   {
    "duration": 8,
    "start_time": "2021-10-24T12:36:16.012Z"
   },
   {
    "duration": 8,
    "start_time": "2021-10-24T12:36:16.022Z"
   },
   {
    "duration": 6,
    "start_time": "2021-10-24T12:36:16.032Z"
   },
   {
    "duration": 6,
    "start_time": "2021-10-24T12:36:16.068Z"
   },
   {
    "duration": 5,
    "start_time": "2021-10-24T12:36:16.077Z"
   },
   {
    "duration": 7,
    "start_time": "2021-10-24T12:36:16.084Z"
   },
   {
    "duration": 5,
    "start_time": "2021-10-24T12:36:16.093Z"
   },
   {
    "duration": 6,
    "start_time": "2021-10-24T12:36:16.100Z"
   },
   {
    "duration": 9,
    "start_time": "2021-10-24T12:36:16.108Z"
   },
   {
    "duration": 9,
    "start_time": "2021-10-24T12:36:16.120Z"
   },
   {
    "duration": 43,
    "start_time": "2021-10-24T12:36:16.131Z"
   },
   {
    "duration": 11,
    "start_time": "2021-10-24T12:36:16.177Z"
   },
   {
    "duration": 5,
    "start_time": "2021-10-24T12:36:16.190Z"
   },
   {
    "duration": 6,
    "start_time": "2021-10-24T12:36:16.198Z"
   },
   {
    "duration": 6,
    "start_time": "2021-10-24T12:36:16.207Z"
   },
   {
    "duration": 7,
    "start_time": "2021-10-24T12:36:16.216Z"
   },
   {
    "duration": 5,
    "start_time": "2021-10-24T12:36:16.225Z"
   },
   {
    "duration": 4,
    "start_time": "2021-10-24T12:36:58.095Z"
   },
   {
    "duration": 219,
    "start_time": "2021-10-24T12:36:58.102Z"
   },
   {
    "duration": 15,
    "start_time": "2021-10-24T12:36:58.324Z"
   },
   {
    "duration": 31,
    "start_time": "2021-10-24T12:36:58.369Z"
   },
   {
    "duration": 5,
    "start_time": "2021-10-24T12:36:58.403Z"
   },
   {
    "duration": 17,
    "start_time": "2021-10-24T12:36:58.410Z"
   },
   {
    "duration": 38,
    "start_time": "2021-10-24T12:36:58.431Z"
   },
   {
    "duration": 31,
    "start_time": "2021-10-24T12:36:58.472Z"
   },
   {
    "duration": 24,
    "start_time": "2021-10-24T12:36:58.505Z"
   },
   {
    "duration": 50,
    "start_time": "2021-10-24T12:36:58.531Z"
   },
   {
    "duration": 105,
    "start_time": "2021-10-24T12:36:58.584Z"
   },
   {
    "duration": 113,
    "start_time": "2021-10-24T12:36:58.691Z"
   },
   {
    "duration": 30,
    "start_time": "2021-10-24T12:36:58.806Z"
   },
   {
    "duration": 3,
    "start_time": "2021-10-24T12:36:58.839Z"
   },
   {
    "duration": 3,
    "start_time": "2021-10-24T12:36:58.867Z"
   },
   {
    "duration": 5,
    "start_time": "2021-10-24T12:36:58.873Z"
   },
   {
    "duration": 9,
    "start_time": "2021-10-24T12:36:58.880Z"
   },
   {
    "duration": 6,
    "start_time": "2021-10-24T12:36:58.891Z"
   },
   {
    "duration": 3,
    "start_time": "2021-10-24T12:36:58.902Z"
   },
   {
    "duration": 5,
    "start_time": "2021-10-24T12:36:58.908Z"
   },
   {
    "duration": 14,
    "start_time": "2021-10-24T12:36:58.915Z"
   },
   {
    "duration": 15,
    "start_time": "2021-10-24T12:36:58.932Z"
   },
   {
    "duration": 12,
    "start_time": "2021-10-24T12:36:58.968Z"
   },
   {
    "duration": 7,
    "start_time": "2021-10-24T12:36:58.982Z"
   },
   {
    "duration": 7,
    "start_time": "2021-10-24T12:36:58.991Z"
   },
   {
    "duration": 14,
    "start_time": "2021-10-24T12:36:59.000Z"
   },
   {
    "duration": 6,
    "start_time": "2021-10-24T12:36:59.016Z"
   },
   {
    "duration": 5,
    "start_time": "2021-10-24T12:36:59.024Z"
   },
   {
    "duration": 4,
    "start_time": "2021-10-24T12:36:59.032Z"
   },
   {
    "duration": 28,
    "start_time": "2021-10-24T12:36:59.039Z"
   },
   {
    "duration": 8,
    "start_time": "2021-10-24T12:36:59.069Z"
   },
   {
    "duration": 5,
    "start_time": "2021-10-24T12:36:59.080Z"
   },
   {
    "duration": 9,
    "start_time": "2021-10-24T12:36:59.087Z"
   },
   {
    "duration": 6,
    "start_time": "2021-10-24T12:36:59.098Z"
   },
   {
    "duration": 6,
    "start_time": "2021-10-24T12:36:59.106Z"
   },
   {
    "duration": 5,
    "start_time": "2021-10-24T12:36:59.115Z"
   },
   {
    "duration": 5,
    "start_time": "2021-10-24T12:36:59.123Z"
   },
   {
    "duration": 37,
    "start_time": "2021-10-24T12:36:59.130Z"
   },
   {
    "duration": 4,
    "start_time": "2021-10-24T12:37:34.886Z"
   },
   {
    "duration": 225,
    "start_time": "2021-10-24T12:37:34.893Z"
   },
   {
    "duration": 15,
    "start_time": "2021-10-24T12:37:35.121Z"
   },
   {
    "duration": 57,
    "start_time": "2021-10-24T12:37:35.139Z"
   },
   {
    "duration": 8,
    "start_time": "2021-10-24T12:37:35.199Z"
   },
   {
    "duration": 22,
    "start_time": "2021-10-24T12:37:35.209Z"
   },
   {
    "duration": 6,
    "start_time": "2021-10-24T12:37:35.235Z"
   },
   {
    "duration": 31,
    "start_time": "2021-10-24T12:37:35.267Z"
   },
   {
    "duration": 33,
    "start_time": "2021-10-24T12:37:35.300Z"
   },
   {
    "duration": 53,
    "start_time": "2021-10-24T12:37:35.335Z"
   },
   {
    "duration": 110,
    "start_time": "2021-10-24T12:37:35.391Z"
   },
   {
    "duration": 125,
    "start_time": "2021-10-24T12:37:35.504Z"
   },
   {
    "duration": 83,
    "start_time": "2021-10-24T12:37:35.632Z"
   },
   {
    "duration": 88,
    "start_time": "2021-10-24T12:37:35.630Z"
   },
   {
    "duration": 81,
    "start_time": "2021-10-24T12:37:35.638Z"
   },
   {
    "duration": 77,
    "start_time": "2021-10-24T12:37:35.644Z"
   },
   {
    "duration": 71,
    "start_time": "2021-10-24T12:37:35.651Z"
   },
   {
    "duration": 66,
    "start_time": "2021-10-24T12:37:35.657Z"
   },
   {
    "duration": 63,
    "start_time": "2021-10-24T12:37:35.662Z"
   },
   {
    "duration": 57,
    "start_time": "2021-10-24T12:37:35.669Z"
   },
   {
    "duration": 54,
    "start_time": "2021-10-24T12:37:35.674Z"
   },
   {
    "duration": 49,
    "start_time": "2021-10-24T12:37:35.681Z"
   },
   {
    "duration": 45,
    "start_time": "2021-10-24T12:37:35.686Z"
   },
   {
    "duration": 40,
    "start_time": "2021-10-24T12:37:35.693Z"
   },
   {
    "duration": 37,
    "start_time": "2021-10-24T12:37:35.698Z"
   },
   {
    "duration": 31,
    "start_time": "2021-10-24T12:37:35.705Z"
   },
   {
    "duration": 5,
    "start_time": "2021-10-24T12:37:35.734Z"
   },
   {
    "duration": -1,
    "start_time": "2021-10-24T12:37:35.742Z"
   },
   {
    "duration": -8,
    "start_time": "2021-10-24T12:37:35.751Z"
   },
   {
    "duration": -13,
    "start_time": "2021-10-24T12:37:35.757Z"
   },
   {
    "duration": -17,
    "start_time": "2021-10-24T12:37:35.763Z"
   },
   {
    "duration": -36,
    "start_time": "2021-10-24T12:37:35.783Z"
   },
   {
    "duration": -39,
    "start_time": "2021-10-24T12:37:35.788Z"
   },
   {
    "duration": -44,
    "start_time": "2021-10-24T12:37:35.794Z"
   },
   {
    "duration": -48,
    "start_time": "2021-10-24T12:37:35.800Z"
   },
   {
    "duration": -52,
    "start_time": "2021-10-24T12:37:35.806Z"
   },
   {
    "duration": -44,
    "start_time": "2021-10-24T12:37:35.811Z"
   },
   {
    "duration": -50,
    "start_time": "2021-10-24T12:37:35.818Z"
   },
   {
    "duration": 3,
    "start_time": "2021-10-24T12:37:53.247Z"
   },
   {
    "duration": 206,
    "start_time": "2021-10-24T12:37:53.253Z"
   },
   {
    "duration": 17,
    "start_time": "2021-10-24T12:37:53.462Z"
   },
   {
    "duration": 35,
    "start_time": "2021-10-24T12:37:53.482Z"
   },
   {
    "duration": 5,
    "start_time": "2021-10-24T12:37:53.519Z"
   },
   {
    "duration": 52,
    "start_time": "2021-10-24T12:37:53.526Z"
   },
   {
    "duration": 5,
    "start_time": "2021-10-24T12:37:53.581Z"
   },
   {
    "duration": 31,
    "start_time": "2021-10-24T12:37:53.589Z"
   },
   {
    "duration": 50,
    "start_time": "2021-10-24T12:37:53.623Z"
   },
   {
    "duration": 30,
    "start_time": "2021-10-24T12:37:53.675Z"
   },
   {
    "duration": 104,
    "start_time": "2021-10-24T12:37:53.707Z"
   },
   {
    "duration": 114,
    "start_time": "2021-10-24T12:37:53.813Z"
   },
   {
    "duration": 3,
    "start_time": "2021-10-24T12:38:05.296Z"
   },
   {
    "duration": 205,
    "start_time": "2021-10-24T12:38:05.305Z"
   },
   {
    "duration": 17,
    "start_time": "2021-10-24T12:38:05.513Z"
   },
   {
    "duration": 61,
    "start_time": "2021-10-24T12:38:05.534Z"
   },
   {
    "duration": 11,
    "start_time": "2021-10-24T12:38:05.597Z"
   },
   {
    "duration": 32,
    "start_time": "2021-10-24T12:38:05.611Z"
   },
   {
    "duration": 5,
    "start_time": "2021-10-24T12:38:05.646Z"
   },
   {
    "duration": 42,
    "start_time": "2021-10-24T12:38:05.653Z"
   },
   {
    "duration": 24,
    "start_time": "2021-10-24T12:38:05.699Z"
   },
   {
    "duration": 52,
    "start_time": "2021-10-24T12:38:05.726Z"
   },
   {
    "duration": 108,
    "start_time": "2021-10-24T12:38:05.780Z"
   },
   {
    "duration": 116,
    "start_time": "2021-10-24T12:38:05.890Z"
   },
   {
    "duration": 97,
    "start_time": "2021-10-24T12:38:06.008Z"
   },
   {
    "duration": 3,
    "start_time": "2021-10-24T12:38:18.774Z"
   },
   {
    "duration": 201,
    "start_time": "2021-10-24T12:38:18.783Z"
   },
   {
    "duration": 16,
    "start_time": "2021-10-24T12:38:18.986Z"
   },
   {
    "duration": 32,
    "start_time": "2021-10-24T12:38:19.005Z"
   },
   {
    "duration": 6,
    "start_time": "2021-10-24T12:38:19.068Z"
   },
   {
    "duration": 18,
    "start_time": "2021-10-24T12:38:19.076Z"
   },
   {
    "duration": 6,
    "start_time": "2021-10-24T12:38:19.096Z"
   },
   {
    "duration": 64,
    "start_time": "2021-10-24T12:38:19.104Z"
   },
   {
    "duration": 22,
    "start_time": "2021-10-24T12:38:19.172Z"
   },
   {
    "duration": 29,
    "start_time": "2021-10-24T12:38:19.197Z"
   },
   {
    "duration": 109,
    "start_time": "2021-10-24T12:38:19.229Z"
   },
   {
    "duration": 106,
    "start_time": "2021-10-24T12:38:19.341Z"
   },
   {
    "duration": 86,
    "start_time": "2021-10-24T12:38:19.449Z"
   },
   {
    "duration": 361,
    "start_time": "2021-10-24T12:42:25.422Z"
   },
   {
    "duration": 9,
    "start_time": "2021-10-24T12:42:57.919Z"
   },
   {
    "duration": 15,
    "start_time": "2021-10-24T12:43:15.164Z"
   },
   {
    "duration": 275,
    "start_time": "2021-10-24T12:46:24.483Z"
   },
   {
    "duration": 287,
    "start_time": "2021-10-24T12:46:42.200Z"
   },
   {
    "duration": 245,
    "start_time": "2021-10-24T12:46:53.599Z"
   },
   {
    "duration": 14,
    "start_time": "2021-10-24T12:47:27.262Z"
   },
   {
    "duration": 14,
    "start_time": "2021-10-24T12:47:43.758Z"
   },
   {
    "duration": 427,
    "start_time": "2021-10-24T12:48:27.206Z"
   },
   {
    "duration": 248,
    "start_time": "2021-10-24T12:48:50.735Z"
   },
   {
    "duration": 222,
    "start_time": "2021-10-24T12:49:11.048Z"
   },
   {
    "duration": 16,
    "start_time": "2021-10-24T12:49:16.104Z"
   },
   {
    "duration": 14,
    "start_time": "2021-10-24T12:49:28.951Z"
   },
   {
    "duration": 14,
    "start_time": "2021-10-24T12:49:40.473Z"
   },
   {
    "duration": 275,
    "start_time": "2021-10-24T13:00:17.851Z"
   },
   {
    "duration": 256,
    "start_time": "2021-10-24T13:00:37.962Z"
   },
   {
    "duration": 3,
    "start_time": "2021-10-24T13:00:45.954Z"
   },
   {
    "duration": 204,
    "start_time": "2021-10-24T13:00:45.960Z"
   },
   {
    "duration": 16,
    "start_time": "2021-10-24T13:00:46.168Z"
   },
   {
    "duration": 33,
    "start_time": "2021-10-24T13:00:46.187Z"
   },
   {
    "duration": 6,
    "start_time": "2021-10-24T13:00:46.223Z"
   },
   {
    "duration": 43,
    "start_time": "2021-10-24T13:00:46.232Z"
   },
   {
    "duration": 6,
    "start_time": "2021-10-24T13:00:46.279Z"
   },
   {
    "duration": 34,
    "start_time": "2021-10-24T13:00:46.287Z"
   },
   {
    "duration": 56,
    "start_time": "2021-10-24T13:00:46.324Z"
   },
   {
    "duration": 32,
    "start_time": "2021-10-24T13:00:46.382Z"
   },
   {
    "duration": 110,
    "start_time": "2021-10-24T13:00:46.417Z"
   },
   {
    "duration": 107,
    "start_time": "2021-10-24T13:00:46.529Z"
   },
   {
    "duration": 88,
    "start_time": "2021-10-24T13:00:46.638Z"
   },
   {
    "duration": 16,
    "start_time": "2021-10-24T13:00:46.728Z"
   },
   {
    "duration": 22,
    "start_time": "2021-10-24T13:00:46.747Z"
   },
   {
    "duration": 278,
    "start_time": "2021-10-24T13:00:46.773Z"
   },
   {
    "duration": 520,
    "start_time": "2021-10-24T13:01:33.860Z"
   },
   {
    "duration": 4,
    "start_time": "2021-10-24T13:01:44.782Z"
   },
   {
    "duration": 188,
    "start_time": "2021-10-24T13:01:44.791Z"
   },
   {
    "duration": 15,
    "start_time": "2021-10-24T13:01:44.982Z"
   },
   {
    "duration": 54,
    "start_time": "2021-10-24T13:01:45.000Z"
   },
   {
    "duration": 14,
    "start_time": "2021-10-24T13:01:45.057Z"
   },
   {
    "duration": 26,
    "start_time": "2021-10-24T13:01:45.074Z"
   },
   {
    "duration": 6,
    "start_time": "2021-10-24T13:01:45.102Z"
   },
   {
    "duration": 69,
    "start_time": "2021-10-24T13:01:45.111Z"
   },
   {
    "duration": 28,
    "start_time": "2021-10-24T13:01:45.184Z"
   },
   {
    "duration": 30,
    "start_time": "2021-10-24T13:01:45.215Z"
   },
   {
    "duration": 101,
    "start_time": "2021-10-24T13:01:45.247Z"
   },
   {
    "duration": 124,
    "start_time": "2021-10-24T13:01:45.351Z"
   },
   {
    "duration": 91,
    "start_time": "2021-10-24T13:01:45.477Z"
   },
   {
    "duration": 14,
    "start_time": "2021-10-24T13:01:45.570Z"
   },
   {
    "duration": 4,
    "start_time": "2021-10-24T13:01:45.587Z"
   },
   {
    "duration": 480,
    "start_time": "2021-10-24T13:01:45.593Z"
   },
   {
    "duration": 1679,
    "start_time": "2021-10-24T13:04:09.842Z"
   },
   {
    "duration": 4,
    "start_time": "2021-10-24T13:04:14.971Z"
   },
   {
    "duration": 256,
    "start_time": "2021-10-24T13:04:35.800Z"
   },
   {
    "duration": 282,
    "start_time": "2021-10-24T13:09:17.352Z"
   },
   {
    "duration": 4,
    "start_time": "2021-10-24T13:09:40.362Z"
   },
   {
    "duration": 198,
    "start_time": "2021-10-24T13:09:40.370Z"
   },
   {
    "duration": 16,
    "start_time": "2021-10-24T13:09:40.571Z"
   },
   {
    "duration": 33,
    "start_time": "2021-10-24T13:09:40.590Z"
   },
   {
    "duration": 6,
    "start_time": "2021-10-24T13:09:40.625Z"
   },
   {
    "duration": 52,
    "start_time": "2021-10-24T13:09:40.633Z"
   },
   {
    "duration": 5,
    "start_time": "2021-10-24T13:09:40.688Z"
   },
   {
    "duration": 36,
    "start_time": "2021-10-24T13:09:40.696Z"
   },
   {
    "duration": 49,
    "start_time": "2021-10-24T13:09:40.736Z"
   },
   {
    "duration": 32,
    "start_time": "2021-10-24T13:09:40.788Z"
   },
   {
    "duration": 112,
    "start_time": "2021-10-24T13:09:40.822Z"
   },
   {
    "duration": 97,
    "start_time": "2021-10-24T13:09:40.936Z"
   },
   {
    "duration": 89,
    "start_time": "2021-10-24T13:09:41.036Z"
   },
   {
    "duration": 15,
    "start_time": "2021-10-24T13:09:41.127Z"
   },
   {
    "duration": 87,
    "start_time": "2021-10-24T13:09:41.144Z"
   },
   {
    "duration": 299,
    "start_time": "2021-10-24T13:09:40.934Z"
   },
   {
    "duration": 3,
    "start_time": "2021-10-24T13:09:55.306Z"
   },
   {
    "duration": 207,
    "start_time": "2021-10-24T13:09:55.313Z"
   },
   {
    "duration": 16,
    "start_time": "2021-10-24T13:09:55.522Z"
   },
   {
    "duration": 48,
    "start_time": "2021-10-24T13:09:55.540Z"
   },
   {
    "duration": 6,
    "start_time": "2021-10-24T13:09:55.590Z"
   },
   {
    "duration": 18,
    "start_time": "2021-10-24T13:09:55.598Z"
   },
   {
    "duration": 5,
    "start_time": "2021-10-24T13:09:55.619Z"
   },
   {
    "duration": 67,
    "start_time": "2021-10-24T13:09:55.626Z"
   },
   {
    "duration": 24,
    "start_time": "2021-10-24T13:09:55.696Z"
   },
   {
    "duration": 47,
    "start_time": "2021-10-24T13:09:55.723Z"
   },
   {
    "duration": 104,
    "start_time": "2021-10-24T13:09:55.772Z"
   },
   {
    "duration": 108,
    "start_time": "2021-10-24T13:09:55.878Z"
   },
   {
    "duration": 90,
    "start_time": "2021-10-24T13:09:55.988Z"
   },
   {
    "duration": 14,
    "start_time": "2021-10-24T13:09:56.081Z"
   },
   {
    "duration": 4,
    "start_time": "2021-10-24T13:09:56.097Z"
   },
   {
    "duration": 503,
    "start_time": "2021-10-24T13:09:56.104Z"
   },
   {
    "duration": 4,
    "start_time": "2021-10-24T13:11:11.080Z"
   },
   {
    "duration": 190,
    "start_time": "2021-10-24T13:11:11.090Z"
   },
   {
    "duration": 16,
    "start_time": "2021-10-24T13:11:11.282Z"
   },
   {
    "duration": 33,
    "start_time": "2021-10-24T13:11:11.301Z"
   },
   {
    "duration": 34,
    "start_time": "2021-10-24T13:11:11.337Z"
   },
   {
    "duration": 22,
    "start_time": "2021-10-24T13:11:11.374Z"
   },
   {
    "duration": 6,
    "start_time": "2021-10-24T13:11:11.398Z"
   },
   {
    "duration": 61,
    "start_time": "2021-10-24T13:11:11.407Z"
   },
   {
    "duration": 25,
    "start_time": "2021-10-24T13:11:11.472Z"
   },
   {
    "duration": 32,
    "start_time": "2021-10-24T13:11:11.499Z"
   },
   {
    "duration": 110,
    "start_time": "2021-10-24T13:11:11.533Z"
   },
   {
    "duration": 104,
    "start_time": "2021-10-24T13:11:11.646Z"
   },
   {
    "duration": 89,
    "start_time": "2021-10-24T13:11:11.752Z"
   },
   {
    "duration": 27,
    "start_time": "2021-10-24T13:11:11.843Z"
   },
   {
    "duration": 5,
    "start_time": "2021-10-24T13:11:11.872Z"
   },
   {
    "duration": 18,
    "start_time": "2021-10-24T13:11:11.880Z"
   },
   {
    "duration": 4,
    "start_time": "2021-10-24T13:13:33.853Z"
   },
   {
    "duration": 209,
    "start_time": "2021-10-24T13:13:33.860Z"
   },
   {
    "duration": 18,
    "start_time": "2021-10-24T13:13:34.072Z"
   },
   {
    "duration": 37,
    "start_time": "2021-10-24T13:13:34.093Z"
   },
   {
    "duration": 6,
    "start_time": "2021-10-24T13:13:34.132Z"
   },
   {
    "duration": 15,
    "start_time": "2021-10-24T13:13:34.168Z"
   },
   {
    "duration": 8,
    "start_time": "2021-10-24T13:13:34.186Z"
   },
   {
    "duration": 33,
    "start_time": "2021-10-24T13:13:34.197Z"
   },
   {
    "duration": 51,
    "start_time": "2021-10-24T13:13:34.234Z"
   },
   {
    "duration": 31,
    "start_time": "2021-10-24T13:13:34.288Z"
   },
   {
    "duration": 121,
    "start_time": "2021-10-24T13:13:34.322Z"
   },
   {
    "duration": 121,
    "start_time": "2021-10-24T13:13:34.446Z"
   },
   {
    "duration": 84,
    "start_time": "2021-10-24T13:13:34.570Z"
   },
   {
    "duration": 23,
    "start_time": "2021-10-24T13:13:34.657Z"
   },
   {
    "duration": 4,
    "start_time": "2021-10-24T13:13:34.682Z"
   },
   {
    "duration": 18,
    "start_time": "2021-10-24T13:13:34.689Z"
   },
   {
    "duration": 13,
    "start_time": "2021-10-24T13:14:43.612Z"
   },
   {
    "duration": 48,
    "start_time": "2021-10-24T13:14:43.628Z"
   },
   {
    "duration": 4,
    "start_time": "2021-10-24T13:17:19.708Z"
   },
   {
    "duration": 199,
    "start_time": "2021-10-24T13:17:19.716Z"
   },
   {
    "duration": 15,
    "start_time": "2021-10-24T13:17:19.918Z"
   },
   {
    "duration": 51,
    "start_time": "2021-10-24T13:17:19.936Z"
   },
   {
    "duration": 5,
    "start_time": "2021-10-24T13:17:19.990Z"
   },
   {
    "duration": 28,
    "start_time": "2021-10-24T13:17:19.998Z"
   },
   {
    "duration": 6,
    "start_time": "2021-10-24T13:17:20.029Z"
   },
   {
    "duration": 56,
    "start_time": "2021-10-24T13:17:20.038Z"
   },
   {
    "duration": 27,
    "start_time": "2021-10-24T13:17:20.098Z"
   },
   {
    "duration": 55,
    "start_time": "2021-10-24T13:17:20.128Z"
   },
   {
    "duration": 103,
    "start_time": "2021-10-24T13:17:20.186Z"
   },
   {
    "duration": 105,
    "start_time": "2021-10-24T13:17:20.292Z"
   },
   {
    "duration": 86,
    "start_time": "2021-10-24T13:17:20.400Z"
   },
   {
    "duration": 15,
    "start_time": "2021-10-24T13:17:20.489Z"
   },
   {
    "duration": 4,
    "start_time": "2021-10-24T13:17:20.506Z"
   },
   {
    "duration": 19,
    "start_time": "2021-10-24T13:17:20.513Z"
   },
   {
    "duration": 46,
    "start_time": "2021-10-24T13:17:20.534Z"
   },
   {
    "duration": 301,
    "start_time": "2021-10-25T06:25:18.305Z"
   },
   {
    "duration": 329,
    "start_time": "2021-10-25T06:25:30.380Z"
   },
   {
    "duration": 1018,
    "start_time": "2021-10-25T06:25:40.690Z"
   },
   {
    "duration": 611,
    "start_time": "2021-10-25T06:26:11.091Z"
   },
   {
    "duration": 136,
    "start_time": "2021-10-25T06:26:11.704Z"
   },
   {
    "duration": 16,
    "start_time": "2021-10-25T06:26:11.842Z"
   },
   {
    "duration": 24,
    "start_time": "2021-10-25T06:26:11.864Z"
   },
   {
    "duration": 4,
    "start_time": "2021-10-25T06:26:11.889Z"
   },
   {
    "duration": 26,
    "start_time": "2021-10-25T06:26:11.895Z"
   },
   {
    "duration": 3,
    "start_time": "2021-10-25T06:26:11.923Z"
   },
   {
    "duration": 53,
    "start_time": "2021-10-25T06:26:11.930Z"
   },
   {
    "duration": 19,
    "start_time": "2021-10-25T06:26:11.985Z"
   },
   {
    "duration": 27,
    "start_time": "2021-10-25T06:26:12.006Z"
   },
   {
    "duration": 79,
    "start_time": "2021-10-25T06:26:12.036Z"
   },
   {
    "duration": 91,
    "start_time": "2021-10-25T06:26:12.117Z"
   },
   {
    "duration": 62,
    "start_time": "2021-10-25T06:26:12.210Z"
   },
   {
    "duration": 10,
    "start_time": "2021-10-25T06:26:12.274Z"
   },
   {
    "duration": 3,
    "start_time": "2021-10-25T06:26:12.286Z"
   },
   {
    "duration": 14,
    "start_time": "2021-10-25T06:26:12.291Z"
   },
   {
    "duration": 11,
    "start_time": "2021-10-25T06:26:12.307Z"
   },
   {
    "duration": 29,
    "start_time": "2021-10-25T06:26:20.690Z"
   },
   {
    "duration": 28,
    "start_time": "2021-10-25T06:26:26.673Z"
   },
   {
    "duration": 38,
    "start_time": "2021-10-25T06:26:43.043Z"
   },
   {
    "duration": 32,
    "start_time": "2021-10-25T06:27:26.648Z"
   },
   {
    "duration": 3,
    "start_time": "2021-10-25T06:27:37.750Z"
   },
   {
    "duration": 152,
    "start_time": "2021-10-25T06:27:37.755Z"
   },
   {
    "duration": 11,
    "start_time": "2021-10-25T06:27:37.909Z"
   },
   {
    "duration": 37,
    "start_time": "2021-10-25T06:27:37.922Z"
   },
   {
    "duration": 8,
    "start_time": "2021-10-25T06:27:37.961Z"
   },
   {
    "duration": 33,
    "start_time": "2021-10-25T06:27:37.971Z"
   },
   {
    "duration": 6,
    "start_time": "2021-10-25T06:27:38.006Z"
   },
   {
    "duration": 31,
    "start_time": "2021-10-25T06:27:38.015Z"
   },
   {
    "duration": 28,
    "start_time": "2021-10-25T06:27:38.047Z"
   },
   {
    "duration": 36,
    "start_time": "2021-10-25T06:27:38.077Z"
   },
   {
    "duration": 55,
    "start_time": "2021-10-25T06:27:38.115Z"
   },
   {
    "duration": 60,
    "start_time": "2021-10-25T06:27:38.172Z"
   },
   {
    "duration": 68,
    "start_time": "2021-10-25T06:27:38.234Z"
   },
   {
    "duration": 8,
    "start_time": "2021-10-25T06:27:38.304Z"
   },
   {
    "duration": 3,
    "start_time": "2021-10-25T06:27:38.314Z"
   },
   {
    "duration": 11,
    "start_time": "2021-10-25T06:27:38.319Z"
   },
   {
    "duration": 9,
    "start_time": "2021-10-25T06:27:38.332Z"
   },
   {
    "duration": 34,
    "start_time": "2021-10-25T06:27:38.364Z"
   },
   {
    "duration": 12,
    "start_time": "2021-10-25T06:28:50.963Z"
   },
   {
    "duration": 341,
    "start_time": "2021-10-25T06:29:46.062Z"
   },
   {
    "duration": 780,
    "start_time": "2021-10-25T06:30:07.102Z"
   },
   {
    "duration": 12,
    "start_time": "2021-10-25T06:30:19.090Z"
   },
   {
    "duration": 10,
    "start_time": "2021-10-25T06:30:42.541Z"
   },
   {
    "duration": 10,
    "start_time": "2021-10-25T06:30:47.079Z"
   },
   {
    "duration": 13,
    "start_time": "2021-10-25T06:30:57.537Z"
   },
   {
    "duration": 12,
    "start_time": "2021-10-25T06:31:09.581Z"
   },
   {
    "duration": 12,
    "start_time": "2021-10-25T06:31:28.146Z"
   },
   {
    "duration": 12,
    "start_time": "2021-10-25T06:31:45.145Z"
   },
   {
    "duration": 54,
    "start_time": "2021-10-25T06:33:26.213Z"
   },
   {
    "duration": 11,
    "start_time": "2021-10-25T06:34:50.969Z"
   },
   {
    "duration": 76,
    "start_time": "2021-10-25T06:49:34.331Z"
   },
   {
    "duration": 4,
    "start_time": "2021-10-25T06:50:15.854Z"
   },
   {
    "duration": 4,
    "start_time": "2021-10-25T06:50:19.157Z"
   },
   {
    "duration": 316,
    "start_time": "2021-10-25T06:50:55.041Z"
   },
   {
    "duration": 241,
    "start_time": "2021-10-25T06:51:04.548Z"
   },
   {
    "duration": -82495,
    "start_time": "2021-10-25T06:53:16.399Z"
   },
   {
    "duration": 7235,
    "start_time": "2021-10-25T06:52:09.547Z"
   },
   {
    "duration": 6605,
    "start_time": "2021-10-25T06:52:34.437Z"
   },
   {
    "duration": 239,
    "start_time": "2021-10-25T06:54:04.534Z"
   },
   {
    "duration": 6056,
    "start_time": "2021-10-25T06:55:13.281Z"
   },
   {
    "duration": 235,
    "start_time": "2021-10-25T06:57:15.911Z"
   },
   {
    "duration": 2,
    "start_time": "2021-10-25T06:57:36.061Z"
   },
   {
    "duration": 155,
    "start_time": "2021-10-25T06:57:36.065Z"
   },
   {
    "duration": 10,
    "start_time": "2021-10-25T06:57:36.222Z"
   },
   {
    "duration": 39,
    "start_time": "2021-10-25T06:57:36.234Z"
   },
   {
    "duration": 4,
    "start_time": "2021-10-25T06:57:36.275Z"
   },
   {
    "duration": 18,
    "start_time": "2021-10-25T06:57:36.280Z"
   },
   {
    "duration": 4,
    "start_time": "2021-10-25T06:57:36.300Z"
   },
   {
    "duration": 25,
    "start_time": "2021-10-25T06:57:36.306Z"
   },
   {
    "duration": 43,
    "start_time": "2021-10-25T06:57:36.333Z"
   },
   {
    "duration": 24,
    "start_time": "2021-10-25T06:57:36.378Z"
   },
   {
    "duration": 73,
    "start_time": "2021-10-25T06:57:36.404Z"
   },
   {
    "duration": 67,
    "start_time": "2021-10-25T06:57:36.478Z"
   },
   {
    "duration": 60,
    "start_time": "2021-10-25T06:57:36.547Z"
   },
   {
    "duration": 9,
    "start_time": "2021-10-25T06:57:36.609Z"
   },
   {
    "duration": 8,
    "start_time": "2021-10-25T06:57:36.619Z"
   },
   {
    "duration": 20,
    "start_time": "2021-10-25T06:57:36.629Z"
   },
   {
    "duration": 21,
    "start_time": "2021-10-25T06:57:36.650Z"
   },
   {
    "duration": 14,
    "start_time": "2021-10-25T06:57:36.673Z"
   },
   {
    "duration": 12,
    "start_time": "2021-10-25T06:57:36.691Z"
   },
   {
    "duration": 232,
    "start_time": "2021-10-25T06:57:41.260Z"
   },
   {
    "duration": 6679,
    "start_time": "2021-10-25T06:57:58.829Z"
   },
   {
    "duration": 413,
    "start_time": "2021-10-25T07:00:01.467Z"
   },
   {
    "duration": 283,
    "start_time": "2021-10-25T07:00:23.101Z"
   },
   {
    "duration": 316,
    "start_time": "2021-10-25T07:00:54.319Z"
   },
   {
    "duration": 3,
    "start_time": "2021-10-25T07:02:18.242Z"
   },
   {
    "duration": 163,
    "start_time": "2021-10-25T07:02:18.247Z"
   },
   {
    "duration": 11,
    "start_time": "2021-10-25T07:02:18.413Z"
   },
   {
    "duration": 37,
    "start_time": "2021-10-25T07:02:18.426Z"
   },
   {
    "duration": 5,
    "start_time": "2021-10-25T07:02:18.465Z"
   },
   {
    "duration": 21,
    "start_time": "2021-10-25T07:02:18.472Z"
   },
   {
    "duration": 4,
    "start_time": "2021-10-25T07:02:18.496Z"
   },
   {
    "duration": 28,
    "start_time": "2021-10-25T07:02:18.503Z"
   },
   {
    "duration": 43,
    "start_time": "2021-10-25T07:02:18.533Z"
   },
   {
    "duration": 26,
    "start_time": "2021-10-25T07:02:18.577Z"
   },
   {
    "duration": 84,
    "start_time": "2021-10-25T07:02:18.605Z"
   },
   {
    "duration": 77,
    "start_time": "2021-10-25T07:02:18.690Z"
   },
   {
    "duration": 53,
    "start_time": "2021-10-25T07:02:18.768Z"
   },
   {
    "duration": 10,
    "start_time": "2021-10-25T07:02:18.823Z"
   },
   {
    "duration": 11,
    "start_time": "2021-10-25T07:02:18.834Z"
   },
   {
    "duration": 30,
    "start_time": "2021-10-25T07:02:18.846Z"
   },
   {
    "duration": 13,
    "start_time": "2021-10-25T07:02:18.877Z"
   },
   {
    "duration": 12,
    "start_time": "2021-10-25T07:02:18.892Z"
   },
   {
    "duration": 12,
    "start_time": "2021-10-25T07:02:18.907Z"
   },
   {
    "duration": 398,
    "start_time": "2021-10-25T07:02:24.126Z"
   },
   {
    "duration": 244,
    "start_time": "2021-10-25T07:03:27.550Z"
   },
   {
    "duration": 4,
    "start_time": "2021-10-25T07:04:32.791Z"
   },
   {
    "duration": 240,
    "start_time": "2021-10-25T07:04:48.429Z"
   },
   {
    "duration": 235,
    "start_time": "2021-10-25T07:07:23.123Z"
   },
   {
    "duration": 405,
    "start_time": "2021-10-25T07:08:00.240Z"
   },
   {
    "duration": 400,
    "start_time": "2021-10-25T07:09:02.359Z"
   },
   {
    "duration": 225,
    "start_time": "2021-10-25T07:11:07.034Z"
   },
   {
    "duration": 232,
    "start_time": "2021-10-25T07:11:37.437Z"
   },
   {
    "duration": 80,
    "start_time": "2021-10-25T07:13:18.786Z"
   },
   {
    "duration": 420,
    "start_time": "2021-10-25T07:13:31.459Z"
   },
   {
    "duration": 389,
    "start_time": "2021-10-25T07:14:16.101Z"
   },
   {
    "duration": 261,
    "start_time": "2021-10-25T07:15:20.205Z"
   },
   {
    "duration": 32,
    "start_time": "2021-10-25T07:15:54.890Z"
   },
   {
    "duration": 271,
    "start_time": "2021-10-25T07:16:12.144Z"
   },
   {
    "duration": 43,
    "start_time": "2021-10-25T07:16:49.552Z"
   },
   {
    "duration": 5920,
    "start_time": "2021-10-25T07:17:37.403Z"
   },
   {
    "duration": 31,
    "start_time": "2021-10-25T07:18:20.801Z"
   },
   {
    "duration": 44,
    "start_time": "2021-10-25T07:19:21.328Z"
   },
   {
    "duration": 32,
    "start_time": "2021-10-25T07:20:11.224Z"
   },
   {
    "duration": 245,
    "start_time": "2021-10-25T07:21:38.964Z"
   },
   {
    "duration": 46,
    "start_time": "2021-10-25T07:22:30.620Z"
   },
   {
    "duration": 34,
    "start_time": "2021-10-25T07:25:38.519Z"
   },
   {
    "duration": 33,
    "start_time": "2021-10-25T07:25:56.981Z"
   },
   {
    "duration": 20,
    "start_time": "2021-10-25T07:27:38.608Z"
   },
   {
    "duration": 20,
    "start_time": "2021-10-25T07:27:51.044Z"
   },
   {
    "duration": 21,
    "start_time": "2021-10-25T07:28:10.527Z"
   },
   {
    "duration": 24,
    "start_time": "2021-10-25T07:28:50.483Z"
   },
   {
    "duration": 20,
    "start_time": "2021-10-25T07:29:05.057Z"
   },
   {
    "duration": 397,
    "start_time": "2021-10-25T07:29:33.838Z"
   },
   {
    "duration": 20,
    "start_time": "2021-10-25T07:29:45.020Z"
   },
   {
    "duration": 20,
    "start_time": "2021-10-25T07:29:48.204Z"
   },
   {
    "duration": 20,
    "start_time": "2021-10-25T07:29:59.951Z"
   },
   {
    "duration": 4,
    "start_time": "2021-10-25T07:30:09.624Z"
   },
   {
    "duration": 20,
    "start_time": "2021-10-25T07:30:14.988Z"
   },
   {
    "duration": 16,
    "start_time": "2021-10-25T07:31:05.901Z"
   },
   {
    "duration": 17,
    "start_time": "2021-10-25T07:31:53.389Z"
   },
   {
    "duration": 17,
    "start_time": "2021-10-25T07:32:39.249Z"
   },
   {
    "duration": 17,
    "start_time": "2021-10-25T07:33:21.986Z"
   },
   {
    "duration": 16,
    "start_time": "2021-10-25T07:35:12.360Z"
   },
   {
    "duration": 9,
    "start_time": "2021-10-25T07:40:05.563Z"
   },
   {
    "duration": 351,
    "start_time": "2021-10-25T12:21:24.792Z"
   },
   {
    "duration": 565,
    "start_time": "2021-10-25T12:21:38.080Z"
   },
   {
    "duration": 130,
    "start_time": "2021-10-25T12:21:38.647Z"
   },
   {
    "duration": 18,
    "start_time": "2021-10-25T12:21:38.779Z"
   },
   {
    "duration": 23,
    "start_time": "2021-10-25T12:21:38.799Z"
   },
   {
    "duration": 5,
    "start_time": "2021-10-25T12:21:38.824Z"
   },
   {
    "duration": 33,
    "start_time": "2021-10-25T12:21:38.831Z"
   },
   {
    "duration": 4,
    "start_time": "2021-10-25T12:21:38.865Z"
   },
   {
    "duration": 36,
    "start_time": "2021-10-25T12:21:38.872Z"
   },
   {
    "duration": 20,
    "start_time": "2021-10-25T12:21:38.910Z"
   },
   {
    "duration": 29,
    "start_time": "2021-10-25T12:21:38.932Z"
   },
   {
    "duration": 64,
    "start_time": "2021-10-25T12:21:38.963Z"
   },
   {
    "duration": 77,
    "start_time": "2021-10-25T12:21:39.028Z"
   },
   {
    "duration": 51,
    "start_time": "2021-10-25T12:21:39.107Z"
   },
   {
    "duration": 10,
    "start_time": "2021-10-25T12:21:39.160Z"
   },
   {
    "duration": 21,
    "start_time": "2021-10-25T12:21:39.172Z"
   },
   {
    "duration": 29,
    "start_time": "2021-10-25T12:21:39.195Z"
   },
   {
    "duration": 10,
    "start_time": "2021-10-25T12:21:39.226Z"
   },
   {
    "duration": 11,
    "start_time": "2021-10-25T12:21:39.238Z"
   },
   {
    "duration": 11,
    "start_time": "2021-10-25T12:21:39.251Z"
   },
   {
    "duration": 4,
    "start_time": "2021-10-25T12:21:39.264Z"
   },
   {
    "duration": 34,
    "start_time": "2021-10-25T12:21:39.269Z"
   },
   {
    "duration": 14,
    "start_time": "2021-10-25T12:21:39.305Z"
   },
   {
    "duration": 15,
    "start_time": "2021-10-25T12:21:39.322Z"
   },
   {
    "duration": 12,
    "start_time": "2021-10-25T12:21:39.338Z"
   },
   {
    "duration": 47,
    "start_time": "2021-10-25T12:21:39.352Z"
   },
   {
    "duration": 13,
    "start_time": "2021-10-25T12:21:39.400Z"
   },
   {
    "duration": 11,
    "start_time": "2021-10-25T12:21:39.414Z"
   },
   {
    "duration": 11,
    "start_time": "2021-10-25T12:21:43.820Z"
   },
   {
    "duration": 20,
    "start_time": "2021-10-25T12:21:57.940Z"
   },
   {
    "duration": 21,
    "start_time": "2021-10-25T12:22:20.489Z"
   },
   {
    "duration": 28,
    "start_time": "2021-10-25T12:22:29.480Z"
   },
   {
    "duration": 22,
    "start_time": "2021-10-25T12:22:37.077Z"
   },
   {
    "duration": 12,
    "start_time": "2021-10-25T12:22:43.365Z"
   },
   {
    "duration": 13,
    "start_time": "2021-10-25T12:22:46.772Z"
   },
   {
    "duration": 13,
    "start_time": "2021-10-25T12:22:54.302Z"
   },
   {
    "duration": 22,
    "start_time": "2021-10-25T12:23:06.632Z"
   },
   {
    "duration": 9,
    "start_time": "2021-10-25T12:24:34.384Z"
   },
   {
    "duration": 24,
    "start_time": "2021-10-25T12:24:47.577Z"
   },
   {
    "duration": 62,
    "start_time": "2021-10-25T12:38:28.851Z"
   },
   {
    "duration": 195,
    "start_time": "2021-10-25T12:38:46.014Z"
   },
   {
    "duration": 18,
    "start_time": "2021-10-25T12:39:06.058Z"
   },
   {
    "duration": 36,
    "start_time": "2021-10-25T12:39:28.090Z"
   },
   {
    "duration": 30,
    "start_time": "2021-10-25T12:40:19.231Z"
   },
   {
    "duration": 21,
    "start_time": "2021-10-25T12:40:49.352Z"
   },
   {
    "duration": 29,
    "start_time": "2021-10-25T12:41:58.644Z"
   },
   {
    "duration": 19,
    "start_time": "2021-10-25T12:42:04.633Z"
   },
   {
    "duration": 17,
    "start_time": "2021-10-25T12:42:08.625Z"
   },
   {
    "duration": 26,
    "start_time": "2021-10-25T12:42:20.032Z"
   },
   {
    "duration": 19,
    "start_time": "2021-10-25T12:43:31.642Z"
   },
   {
    "duration": 22,
    "start_time": "2021-10-25T12:43:47.030Z"
   },
   {
    "duration": 28,
    "start_time": "2021-10-25T12:44:00.749Z"
   },
   {
    "duration": 26,
    "start_time": "2021-10-25T12:45:01.575Z"
   },
   {
    "duration": 192,
    "start_time": "2021-10-25T12:47:01.745Z"
   },
   {
    "duration": 25,
    "start_time": "2021-10-25T12:47:19.301Z"
   },
   {
    "duration": 33,
    "start_time": "2021-10-25T12:47:50.085Z"
   },
   {
    "duration": 23,
    "start_time": "2021-10-25T12:48:44.958Z"
   },
   {
    "duration": 25,
    "start_time": "2021-10-25T12:49:08.666Z"
   },
   {
    "duration": 29,
    "start_time": "2021-10-25T12:52:52.327Z"
   },
   {
    "duration": 20,
    "start_time": "2021-10-25T12:53:27.936Z"
   },
   {
    "duration": 24,
    "start_time": "2021-10-25T12:55:15.674Z"
   },
   {
    "duration": 5,
    "start_time": "2021-10-25T12:55:48.996Z"
   },
   {
    "duration": 12,
    "start_time": "2021-10-25T12:56:34.744Z"
   },
   {
    "duration": 22,
    "start_time": "2021-10-25T12:57:56.758Z"
   },
   {
    "duration": 13,
    "start_time": "2021-10-25T12:58:37.490Z"
   },
   {
    "duration": 10,
    "start_time": "2021-10-25T12:58:42.310Z"
   },
   {
    "duration": 18,
    "start_time": "2021-10-25T12:58:49.115Z"
   },
   {
    "duration": 189,
    "start_time": "2021-10-25T13:07:21.708Z"
   },
   {
    "duration": 13,
    "start_time": "2021-10-25T13:07:40.909Z"
   },
   {
    "duration": 5,
    "start_time": "2021-10-25T13:08:11.331Z"
   },
   {
    "duration": 13,
    "start_time": "2021-10-25T13:08:28.200Z"
   },
   {
    "duration": 2,
    "start_time": "2021-10-25T13:09:48.303Z"
   },
   {
    "duration": 5,
    "start_time": "2021-10-25T13:09:59.659Z"
   },
   {
    "duration": 5,
    "start_time": "2021-10-25T13:10:39.517Z"
   },
   {
    "duration": 18,
    "start_time": "2021-10-25T13:10:46.975Z"
   },
   {
    "duration": 11,
    "start_time": "2021-10-25T13:11:33.674Z"
   },
   {
    "duration": 11,
    "start_time": "2021-10-25T13:11:48.245Z"
   },
   {
    "duration": 5,
    "start_time": "2021-10-25T13:13:05.487Z"
   },
   {
    "duration": 9,
    "start_time": "2021-10-25T13:13:08.476Z"
   },
   {
    "duration": 8,
    "start_time": "2021-10-25T13:14:35.105Z"
   },
   {
    "duration": 5,
    "start_time": "2021-10-25T13:14:55.421Z"
   },
   {
    "duration": 2,
    "start_time": "2021-10-25T13:17:55.880Z"
   },
   {
    "duration": 146,
    "start_time": "2021-10-25T13:17:55.885Z"
   },
   {
    "duration": 11,
    "start_time": "2021-10-25T13:17:56.033Z"
   },
   {
    "duration": 46,
    "start_time": "2021-10-25T13:17:56.046Z"
   },
   {
    "duration": 4,
    "start_time": "2021-10-25T13:17:56.094Z"
   },
   {
    "duration": 22,
    "start_time": "2021-10-25T13:17:56.100Z"
   },
   {
    "duration": 4,
    "start_time": "2021-10-25T13:17:56.124Z"
   },
   {
    "duration": 23,
    "start_time": "2021-10-25T13:17:56.131Z"
   },
   {
    "duration": 50,
    "start_time": "2021-10-25T13:17:56.156Z"
   },
   {
    "duration": 24,
    "start_time": "2021-10-25T13:17:56.208Z"
   },
   {
    "duration": 78,
    "start_time": "2021-10-25T13:17:56.233Z"
   },
   {
    "duration": 60,
    "start_time": "2021-10-25T13:17:56.312Z"
   },
   {
    "duration": 58,
    "start_time": "2021-10-25T13:17:56.374Z"
   },
   {
    "duration": 9,
    "start_time": "2021-10-25T13:17:56.434Z"
   },
   {
    "duration": 3,
    "start_time": "2021-10-25T13:17:56.444Z"
   },
   {
    "duration": 11,
    "start_time": "2021-10-25T13:17:56.449Z"
   },
   {
    "duration": 33,
    "start_time": "2021-10-25T13:17:56.461Z"
   },
   {
    "duration": 11,
    "start_time": "2021-10-25T13:17:56.496Z"
   },
   {
    "duration": 11,
    "start_time": "2021-10-25T13:17:56.510Z"
   },
   {
    "duration": 4,
    "start_time": "2021-10-25T13:17:56.523Z"
   },
   {
    "duration": 21,
    "start_time": "2021-10-25T13:17:56.528Z"
   },
   {
    "duration": 47,
    "start_time": "2021-10-25T13:17:56.551Z"
   },
   {
    "duration": 15,
    "start_time": "2021-10-25T13:17:56.600Z"
   },
   {
    "duration": 13,
    "start_time": "2021-10-25T13:17:56.616Z"
   },
   {
    "duration": 16,
    "start_time": "2021-10-25T13:17:56.630Z"
   },
   {
    "duration": 46,
    "start_time": "2021-10-25T13:17:56.648Z"
   },
   {
    "duration": 8,
    "start_time": "2021-10-25T13:17:56.696Z"
   },
   {
    "duration": 21,
    "start_time": "2021-10-25T13:17:56.706Z"
   },
   {
    "duration": 17,
    "start_time": "2021-10-25T13:17:56.729Z"
   },
   {
    "duration": 3,
    "start_time": "2021-10-25T13:17:56.748Z"
   },
   {
    "duration": 50,
    "start_time": "2021-10-25T13:17:56.753Z"
   },
   {
    "duration": 13,
    "start_time": "2021-10-25T13:17:56.805Z"
   },
   {
    "duration": 17,
    "start_time": "2021-10-25T13:17:56.819Z"
   },
   {
    "duration": 13,
    "start_time": "2021-10-25T13:17:56.837Z"
   },
   {
    "duration": 40,
    "start_time": "2021-10-25T13:17:56.852Z"
   },
   {
    "duration": 5,
    "start_time": "2021-10-25T13:17:56.894Z"
   },
   {
    "duration": 10,
    "start_time": "2021-10-25T13:17:56.900Z"
   },
   {
    "duration": 5,
    "start_time": "2021-10-25T13:17:56.911Z"
   },
   {
    "duration": 586,
    "start_time": "2021-10-25T15:32:28.229Z"
   },
   {
    "duration": 135,
    "start_time": "2021-10-25T15:32:28.817Z"
   },
   {
    "duration": 17,
    "start_time": "2021-10-25T15:32:28.954Z"
   },
   {
    "duration": 25,
    "start_time": "2021-10-25T15:32:28.973Z"
   },
   {
    "duration": 4,
    "start_time": "2021-10-25T15:32:29.000Z"
   },
   {
    "duration": 25,
    "start_time": "2021-10-25T15:32:29.005Z"
   },
   {
    "duration": 32,
    "start_time": "2021-10-25T15:32:29.032Z"
   },
   {
    "duration": 22,
    "start_time": "2021-10-25T15:32:29.066Z"
   },
   {
    "duration": 15,
    "start_time": "2021-10-25T15:32:29.090Z"
   },
   {
    "duration": 23,
    "start_time": "2021-10-25T15:32:29.107Z"
   },
   {
    "duration": 80,
    "start_time": "2021-10-25T15:32:29.132Z"
   },
   {
    "duration": 78,
    "start_time": "2021-10-25T15:32:29.213Z"
   },
   {
    "duration": 48,
    "start_time": "2021-10-25T15:32:29.293Z"
   },
   {
    "duration": 21,
    "start_time": "2021-10-25T15:32:29.343Z"
   },
   {
    "duration": 3,
    "start_time": "2021-10-25T15:32:29.365Z"
   },
   {
    "duration": 12,
    "start_time": "2021-10-25T15:32:29.369Z"
   },
   {
    "duration": 13,
    "start_time": "2021-10-25T15:32:29.382Z"
   },
   {
    "duration": 12,
    "start_time": "2021-10-25T15:32:29.397Z"
   },
   {
    "duration": 11,
    "start_time": "2021-10-25T15:32:29.410Z"
   },
   {
    "duration": 3,
    "start_time": "2021-10-25T15:32:29.422Z"
   },
   {
    "duration": 47,
    "start_time": "2021-10-25T15:32:29.427Z"
   },
   {
    "duration": 13,
    "start_time": "2021-10-25T15:32:29.476Z"
   },
   {
    "duration": 13,
    "start_time": "2021-10-25T15:32:29.492Z"
   },
   {
    "duration": 14,
    "start_time": "2021-10-25T15:32:29.507Z"
   },
   {
    "duration": 47,
    "start_time": "2021-10-25T15:32:29.522Z"
   },
   {
    "duration": 14,
    "start_time": "2021-10-25T15:32:29.570Z"
   },
   {
    "duration": 8,
    "start_time": "2021-10-25T15:32:29.586Z"
   },
   {
    "duration": 24,
    "start_time": "2021-10-25T15:32:29.596Z"
   },
   {
    "duration": 47,
    "start_time": "2021-10-25T15:32:29.622Z"
   },
   {
    "duration": 3,
    "start_time": "2021-10-25T15:32:29.671Z"
   },
   {
    "duration": 26,
    "start_time": "2021-10-25T15:32:29.676Z"
   },
   {
    "duration": 11,
    "start_time": "2021-10-25T15:32:29.704Z"
   },
   {
    "duration": 16,
    "start_time": "2021-10-25T15:32:29.716Z"
   },
   {
    "duration": 36,
    "start_time": "2021-10-25T15:32:29.733Z"
   },
   {
    "duration": 8,
    "start_time": "2021-10-25T15:32:29.771Z"
   },
   {
    "duration": 5,
    "start_time": "2021-10-25T15:32:29.780Z"
   },
   {
    "duration": 12,
    "start_time": "2021-10-25T15:32:29.786Z"
   },
   {
    "duration": 15,
    "start_time": "2021-10-25T15:32:29.799Z"
   },
   {
    "duration": 16,
    "start_time": "2021-10-25T15:59:12.577Z"
   },
   {
    "duration": 4,
    "start_time": "2021-10-25T15:59:22.287Z"
   },
   {
    "duration": 4,
    "start_time": "2021-10-25T15:59:32.057Z"
   },
   {
    "duration": 12,
    "start_time": "2021-10-25T15:59:38.039Z"
   },
   {
    "duration": 52,
    "start_time": "2021-10-25T15:59:45.106Z"
   },
   {
    "duration": 35,
    "start_time": "2021-10-25T16:00:02.512Z"
   },
   {
    "duration": 13,
    "start_time": "2021-10-25T16:01:46.961Z"
   },
   {
    "duration": 12,
    "start_time": "2021-10-25T16:02:05.452Z"
   },
   {
    "duration": 11,
    "start_time": "2021-10-25T16:02:10.870Z"
   },
   {
    "duration": 36,
    "start_time": "2021-10-25T16:02:20.261Z"
   },
   {
    "duration": 33,
    "start_time": "2021-10-25T16:02:46.789Z"
   },
   {
    "duration": 51,
    "start_time": "2021-10-25T16:03:02.097Z"
   },
   {
    "duration": 33,
    "start_time": "2021-10-25T16:03:25.577Z"
   },
   {
    "duration": 91,
    "start_time": "2021-10-25T16:03:48.716Z"
   },
   {
    "duration": 25718,
    "start_time": "2021-10-25T16:04:05.399Z"
   },
   {
    "duration": 11,
    "start_time": "2021-10-25T16:05:42.029Z"
   },
   {
    "duration": 11,
    "start_time": "2021-10-25T16:07:56.920Z"
   },
   {
    "duration": 10,
    "start_time": "2021-10-25T16:07:58.310Z"
   },
   {
    "duration": 3,
    "start_time": "2021-10-25T16:12:45.453Z"
   },
   {
    "duration": 171,
    "start_time": "2021-10-25T16:12:45.460Z"
   },
   {
    "duration": 30,
    "start_time": "2021-10-25T16:12:45.633Z"
   },
   {
    "duration": 28,
    "start_time": "2021-10-25T16:12:45.666Z"
   },
   {
    "duration": 12,
    "start_time": "2021-10-25T16:12:45.696Z"
   },
   {
    "duration": 29,
    "start_time": "2021-10-25T16:12:45.710Z"
   },
   {
    "duration": 23,
    "start_time": "2021-10-25T16:12:45.741Z"
   },
   {
    "duration": 26,
    "start_time": "2021-10-25T16:12:45.766Z"
   },
   {
    "duration": 21,
    "start_time": "2021-10-25T16:12:45.795Z"
   },
   {
    "duration": 45,
    "start_time": "2021-10-25T16:12:45.819Z"
   },
   {
    "duration": 68,
    "start_time": "2021-10-25T16:12:45.867Z"
   },
   {
    "duration": 86,
    "start_time": "2021-10-25T16:12:45.937Z"
   },
   {
    "duration": 64,
    "start_time": "2021-10-25T16:12:46.025Z"
   },
   {
    "duration": 11,
    "start_time": "2021-10-25T16:12:46.091Z"
   },
   {
    "duration": 3,
    "start_time": "2021-10-25T16:12:46.103Z"
   },
   {
    "duration": 14,
    "start_time": "2021-10-25T16:12:46.108Z"
   },
   {
    "duration": 10,
    "start_time": "2021-10-25T16:12:46.123Z"
   },
   {
    "duration": 33,
    "start_time": "2021-10-25T16:12:46.135Z"
   },
   {
    "duration": 12,
    "start_time": "2021-10-25T16:12:46.170Z"
   },
   {
    "duration": 4,
    "start_time": "2021-10-25T16:12:46.184Z"
   },
   {
    "duration": 28,
    "start_time": "2021-10-25T16:12:46.190Z"
   },
   {
    "duration": 45,
    "start_time": "2021-10-25T16:12:46.219Z"
   },
   {
    "duration": 18,
    "start_time": "2021-10-25T16:12:46.266Z"
   },
   {
    "duration": 18,
    "start_time": "2021-10-25T16:12:46.287Z"
   },
   {
    "duration": 21,
    "start_time": "2021-10-25T16:12:46.307Z"
   },
   {
    "duration": 46,
    "start_time": "2021-10-25T16:12:46.330Z"
   },
   {
    "duration": 10,
    "start_time": "2021-10-25T16:12:46.378Z"
   },
   {
    "duration": 17,
    "start_time": "2021-10-25T16:12:46.390Z"
   },
   {
    "duration": 11,
    "start_time": "2021-10-25T16:12:46.409Z"
   },
   {
    "duration": 4,
    "start_time": "2021-10-25T16:12:46.422Z"
   },
   {
    "duration": 55,
    "start_time": "2021-10-25T16:12:46.428Z"
   },
   {
    "duration": 15,
    "start_time": "2021-10-25T16:12:46.485Z"
   },
   {
    "duration": 19,
    "start_time": "2021-10-25T16:12:46.502Z"
   },
   {
    "duration": 42,
    "start_time": "2021-10-25T16:12:46.522Z"
   },
   {
    "duration": 11,
    "start_time": "2021-10-25T16:12:46.567Z"
   },
   {
    "duration": 5,
    "start_time": "2021-10-25T16:12:46.580Z"
   },
   {
    "duration": 10,
    "start_time": "2021-10-25T16:12:46.587Z"
   },
   {
    "duration": 5,
    "start_time": "2021-10-25T16:12:46.599Z"
   },
   {
    "duration": 3,
    "start_time": "2021-10-25T16:15:10.036Z"
   },
   {
    "duration": 189,
    "start_time": "2021-10-25T16:15:10.041Z"
   },
   {
    "duration": 10,
    "start_time": "2021-10-25T16:15:10.232Z"
   },
   {
    "duration": 42,
    "start_time": "2021-10-25T16:15:10.243Z"
   },
   {
    "duration": 15,
    "start_time": "2021-10-25T16:15:10.287Z"
   },
   {
    "duration": 16,
    "start_time": "2021-10-25T16:15:10.303Z"
   },
   {
    "duration": 4,
    "start_time": "2021-10-25T16:15:10.321Z"
   },
   {
    "duration": 45,
    "start_time": "2021-10-25T16:15:10.327Z"
   },
   {
    "duration": 19,
    "start_time": "2021-10-25T16:15:10.374Z"
   },
   {
    "duration": 22,
    "start_time": "2021-10-25T16:15:10.395Z"
   },
   {
    "duration": 78,
    "start_time": "2021-10-25T16:15:10.419Z"
   },
   {
    "duration": 78,
    "start_time": "2021-10-25T16:15:10.499Z"
   },
   {
    "duration": 53,
    "start_time": "2021-10-25T16:15:10.579Z"
   },
   {
    "duration": 9,
    "start_time": "2021-10-25T16:15:10.633Z"
   },
   {
    "duration": 5,
    "start_time": "2021-10-25T16:15:10.644Z"
   },
   {
    "duration": 9,
    "start_time": "2021-10-25T16:15:10.664Z"
   },
   {
    "duration": 15,
    "start_time": "2021-10-25T16:15:10.675Z"
   },
   {
    "duration": 12,
    "start_time": "2021-10-25T16:15:10.692Z"
   },
   {
    "duration": 11,
    "start_time": "2021-10-25T16:15:10.706Z"
   },
   {
    "duration": 3,
    "start_time": "2021-10-25T16:15:10.719Z"
   },
   {
    "duration": 52,
    "start_time": "2021-10-25T16:15:10.724Z"
   },
   {
    "duration": 18,
    "start_time": "2021-10-25T16:15:10.778Z"
   },
   {
    "duration": 16,
    "start_time": "2021-10-25T16:15:10.798Z"
   },
   {
    "duration": 15,
    "start_time": "2021-10-25T16:15:10.817Z"
   },
   {
    "duration": 45,
    "start_time": "2021-10-25T16:15:10.834Z"
   },
   {
    "duration": 17,
    "start_time": "2021-10-25T16:15:10.880Z"
   },
   {
    "duration": 8,
    "start_time": "2021-10-25T16:15:10.898Z"
   },
   {
    "duration": 16,
    "start_time": "2021-10-25T16:15:10.907Z"
   },
   {
    "duration": 40,
    "start_time": "2021-10-25T16:15:10.925Z"
   },
   {
    "duration": 5,
    "start_time": "2021-10-25T16:15:10.966Z"
   },
   {
    "duration": 29,
    "start_time": "2021-10-25T16:15:10.972Z"
   },
   {
    "duration": 14,
    "start_time": "2021-10-25T16:15:11.003Z"
   },
   {
    "duration": 44,
    "start_time": "2021-10-25T16:15:11.020Z"
   },
   {
    "duration": 13,
    "start_time": "2021-10-25T16:15:11.066Z"
   },
   {
    "duration": 8,
    "start_time": "2021-10-25T16:15:11.081Z"
   },
   {
    "duration": 4,
    "start_time": "2021-10-25T16:15:11.091Z"
   },
   {
    "duration": 13,
    "start_time": "2021-10-25T16:15:11.096Z"
   },
   {
    "duration": 7,
    "start_time": "2021-10-25T16:15:11.111Z"
   },
   {
    "duration": 3,
    "start_time": "2021-10-25T16:32:24.339Z"
   },
   {
    "duration": 170,
    "start_time": "2021-10-25T16:32:24.347Z"
   },
   {
    "duration": 11,
    "start_time": "2021-10-25T16:32:24.519Z"
   },
   {
    "duration": 53,
    "start_time": "2021-10-25T16:32:24.533Z"
   },
   {
    "duration": 4,
    "start_time": "2021-10-25T16:32:24.589Z"
   },
   {
    "duration": 23,
    "start_time": "2021-10-25T16:32:24.594Z"
   },
   {
    "duration": 5,
    "start_time": "2021-10-25T16:32:24.619Z"
   },
   {
    "duration": 49,
    "start_time": "2021-10-25T16:32:24.626Z"
   },
   {
    "duration": 19,
    "start_time": "2021-10-25T16:32:24.678Z"
   },
   {
    "duration": 25,
    "start_time": "2021-10-25T16:32:24.699Z"
   },
   {
    "duration": 92,
    "start_time": "2021-10-25T16:32:24.726Z"
   },
   {
    "duration": 74,
    "start_time": "2021-10-25T16:32:24.821Z"
   },
   {
    "duration": 51,
    "start_time": "2021-10-25T16:32:24.897Z"
   },
   {
    "duration": 18,
    "start_time": "2021-10-25T16:32:24.950Z"
   },
   {
    "duration": 5,
    "start_time": "2021-10-25T16:32:24.970Z"
   },
   {
    "duration": 22,
    "start_time": "2021-10-25T16:32:24.977Z"
   },
   {
    "duration": 24,
    "start_time": "2021-10-25T16:32:25.001Z"
   },
   {
    "duration": 14,
    "start_time": "2021-10-25T16:32:25.027Z"
   },
   {
    "duration": 35,
    "start_time": "2021-10-25T16:32:25.043Z"
   },
   {
    "duration": 3,
    "start_time": "2021-10-25T16:32:25.080Z"
   },
   {
    "duration": 23,
    "start_time": "2021-10-25T16:32:25.085Z"
   },
   {
    "duration": 19,
    "start_time": "2021-10-25T16:32:25.110Z"
   },
   {
    "duration": 42,
    "start_time": "2021-10-25T16:32:25.131Z"
   },
   {
    "duration": 15,
    "start_time": "2021-10-25T16:32:25.176Z"
   },
   {
    "duration": 17,
    "start_time": "2021-10-25T16:32:25.193Z"
   },
   {
    "duration": 16,
    "start_time": "2021-10-25T16:32:25.211Z"
   },
   {
    "duration": 37,
    "start_time": "2021-10-25T16:32:25.229Z"
   },
   {
    "duration": 15,
    "start_time": "2021-10-25T16:32:25.268Z"
   },
   {
    "duration": 11,
    "start_time": "2021-10-25T16:32:25.285Z"
   },
   {
    "duration": 4,
    "start_time": "2021-10-25T16:32:25.297Z"
   },
   {
    "duration": 30,
    "start_time": "2021-10-25T16:32:25.303Z"
   },
   {
    "duration": 36,
    "start_time": "2021-10-25T16:32:25.335Z"
   },
   {
    "duration": 17,
    "start_time": "2021-10-25T16:32:25.373Z"
   },
   {
    "duration": 12,
    "start_time": "2021-10-25T16:32:25.392Z"
   },
   {
    "duration": 9,
    "start_time": "2021-10-25T16:32:25.406Z"
   },
   {
    "duration": 5,
    "start_time": "2021-10-25T16:32:25.417Z"
   },
   {
    "duration": 42,
    "start_time": "2021-10-25T16:32:25.423Z"
   },
   {
    "duration": 5,
    "start_time": "2021-10-25T16:32:25.467Z"
   },
   {
    "duration": 323,
    "start_time": "2021-10-25T16:36:19.944Z"
   },
   {
    "duration": 235,
    "start_time": "2021-10-25T16:36:39.817Z"
   },
   {
    "duration": 10,
    "start_time": "2021-10-25T16:37:18.398Z"
   },
   {
    "duration": 3,
    "start_time": "2021-10-25T16:37:34.919Z"
   },
   {
    "duration": 164,
    "start_time": "2021-10-25T16:37:34.924Z"
   },
   {
    "duration": 12,
    "start_time": "2021-10-25T16:37:35.091Z"
   },
   {
    "duration": 28,
    "start_time": "2021-10-25T16:37:35.105Z"
   },
   {
    "duration": 30,
    "start_time": "2021-10-25T16:37:35.135Z"
   },
   {
    "duration": 20,
    "start_time": "2021-10-25T16:37:35.166Z"
   },
   {
    "duration": 4,
    "start_time": "2021-10-25T16:37:35.188Z"
   },
   {
    "duration": 25,
    "start_time": "2021-10-25T16:37:35.194Z"
   },
   {
    "duration": 42,
    "start_time": "2021-10-25T16:37:35.221Z"
   },
   {
    "duration": 22,
    "start_time": "2021-10-25T16:37:35.265Z"
   },
   {
    "duration": 59,
    "start_time": "2021-10-25T16:37:35.289Z"
   },
   {
    "duration": 78,
    "start_time": "2021-10-25T16:37:35.349Z"
   },
   {
    "duration": 65,
    "start_time": "2021-10-25T16:37:35.428Z"
   },
   {
    "duration": 8,
    "start_time": "2021-10-25T16:37:35.495Z"
   },
   {
    "duration": 3,
    "start_time": "2021-10-25T16:37:35.505Z"
   },
   {
    "duration": 15,
    "start_time": "2021-10-25T16:37:35.509Z"
   },
   {
    "duration": 9,
    "start_time": "2021-10-25T16:37:35.525Z"
   },
   {
    "duration": 36,
    "start_time": "2021-10-25T16:37:35.536Z"
   },
   {
    "duration": 11,
    "start_time": "2021-10-25T16:37:35.575Z"
   },
   {
    "duration": 3,
    "start_time": "2021-10-25T16:37:35.588Z"
   },
   {
    "duration": 23,
    "start_time": "2021-10-25T16:37:35.593Z"
   },
   {
    "duration": 15,
    "start_time": "2021-10-25T16:37:35.618Z"
   },
   {
    "duration": 39,
    "start_time": "2021-10-25T16:37:35.634Z"
   },
   {
    "duration": 15,
    "start_time": "2021-10-25T16:37:35.674Z"
   },
   {
    "duration": 16,
    "start_time": "2021-10-25T16:37:35.691Z"
   },
   {
    "duration": 13,
    "start_time": "2021-10-25T16:37:35.709Z"
   },
   {
    "duration": 8,
    "start_time": "2021-10-25T16:37:35.723Z"
   },
   {
    "duration": 44,
    "start_time": "2021-10-25T16:37:35.732Z"
   },
   {
    "duration": 9,
    "start_time": "2021-10-25T16:37:35.778Z"
   },
   {
    "duration": 4,
    "start_time": "2021-10-25T16:37:35.789Z"
   },
   {
    "duration": 29,
    "start_time": "2021-10-25T16:37:35.795Z"
   },
   {
    "duration": 14,
    "start_time": "2021-10-25T16:37:35.825Z"
   },
   {
    "duration": 19,
    "start_time": "2021-10-25T16:37:35.864Z"
   },
   {
    "duration": 13,
    "start_time": "2021-10-25T16:37:35.885Z"
   },
   {
    "duration": 10,
    "start_time": "2021-10-25T16:37:35.900Z"
   },
   {
    "duration": 6,
    "start_time": "2021-10-25T16:37:35.912Z"
   },
   {
    "duration": 44,
    "start_time": "2021-10-25T16:37:35.919Z"
   },
   {
    "duration": 5,
    "start_time": "2021-10-25T16:37:35.965Z"
   },
   {
    "duration": 2,
    "start_time": "2021-10-25T16:41:20.149Z"
   },
   {
    "duration": 177,
    "start_time": "2021-10-25T16:41:20.153Z"
   },
   {
    "duration": 10,
    "start_time": "2021-10-25T16:41:20.332Z"
   },
   {
    "duration": 25,
    "start_time": "2021-10-25T16:41:20.364Z"
   },
   {
    "duration": 4,
    "start_time": "2021-10-25T16:41:20.391Z"
   },
   {
    "duration": 16,
    "start_time": "2021-10-25T16:41:20.397Z"
   },
   {
    "duration": 4,
    "start_time": "2021-10-25T16:41:20.415Z"
   },
   {
    "duration": 52,
    "start_time": "2021-10-25T16:41:20.422Z"
   },
   {
    "duration": 19,
    "start_time": "2021-10-25T16:41:20.476Z"
   },
   {
    "duration": 24,
    "start_time": "2021-10-25T16:41:20.497Z"
   },
   {
    "duration": 86,
    "start_time": "2021-10-25T16:41:20.523Z"
   },
   {
    "duration": 72,
    "start_time": "2021-10-25T16:41:20.610Z"
   },
   {
    "duration": 50,
    "start_time": "2021-10-25T16:41:20.683Z"
   },
   {
    "duration": 9,
    "start_time": "2021-10-25T16:41:20.734Z"
   },
   {
    "duration": 20,
    "start_time": "2021-10-25T16:41:20.745Z"
   },
   {
    "duration": 13,
    "start_time": "2021-10-25T16:41:20.766Z"
   },
   {
    "duration": 11,
    "start_time": "2021-10-25T16:41:20.781Z"
   },
   {
    "duration": 12,
    "start_time": "2021-10-25T16:41:20.793Z"
   },
   {
    "duration": 12,
    "start_time": "2021-10-25T16:41:20.807Z"
   },
   {
    "duration": 3,
    "start_time": "2021-10-25T16:41:20.820Z"
   },
   {
    "duration": 48,
    "start_time": "2021-10-25T16:41:20.825Z"
   },
   {
    "duration": 17,
    "start_time": "2021-10-25T16:41:20.874Z"
   },
   {
    "duration": 18,
    "start_time": "2021-10-25T16:41:20.893Z"
   },
   {
    "duration": 17,
    "start_time": "2021-10-25T16:41:20.913Z"
   },
   {
    "duration": 49,
    "start_time": "2021-10-25T16:41:20.932Z"
   },
   {
    "duration": 17,
    "start_time": "2021-10-25T16:41:20.983Z"
   },
   {
    "duration": 8,
    "start_time": "2021-10-25T16:41:21.002Z"
   },
   {
    "duration": 16,
    "start_time": "2021-10-25T16:41:21.012Z"
   },
   {
    "duration": 38,
    "start_time": "2021-10-25T16:41:21.030Z"
   },
   {
    "duration": 4,
    "start_time": "2021-10-25T16:41:21.070Z"
   },
   {
    "duration": 26,
    "start_time": "2021-10-25T16:41:21.076Z"
   },
   {
    "duration": 12,
    "start_time": "2021-10-25T16:41:21.103Z"
   },
   {
    "duration": 22,
    "start_time": "2021-10-25T16:41:21.117Z"
   },
   {
    "duration": 34,
    "start_time": "2021-10-25T16:41:21.141Z"
   },
   {
    "duration": 9,
    "start_time": "2021-10-25T16:41:21.176Z"
   },
   {
    "duration": 4,
    "start_time": "2021-10-25T16:41:21.187Z"
   },
   {
    "duration": 13,
    "start_time": "2021-10-25T16:41:21.192Z"
   },
   {
    "duration": 7,
    "start_time": "2021-10-25T16:41:21.206Z"
   },
   {
    "duration": 2,
    "start_time": "2021-10-25T16:41:25.638Z"
   },
   {
    "duration": 165,
    "start_time": "2021-10-25T16:41:25.644Z"
   },
   {
    "duration": 9,
    "start_time": "2021-10-25T16:41:25.810Z"
   },
   {
    "duration": 49,
    "start_time": "2021-10-25T16:41:25.821Z"
   },
   {
    "duration": 11,
    "start_time": "2021-10-25T16:41:25.871Z"
   },
   {
    "duration": 17,
    "start_time": "2021-10-25T16:41:25.884Z"
   },
   {
    "duration": 4,
    "start_time": "2021-10-25T16:41:25.903Z"
   },
   {
    "duration": 35,
    "start_time": "2021-10-25T16:41:25.909Z"
   },
   {
    "duration": 27,
    "start_time": "2021-10-25T16:41:25.946Z"
   },
   {
    "duration": 37,
    "start_time": "2021-10-25T16:41:25.976Z"
   },
   {
    "duration": 78,
    "start_time": "2021-10-25T16:41:26.015Z"
   },
   {
    "duration": 74,
    "start_time": "2021-10-25T16:41:26.095Z"
   },
   {
    "duration": 48,
    "start_time": "2021-10-25T16:41:26.171Z"
   },
   {
    "duration": 8,
    "start_time": "2021-10-25T16:41:26.221Z"
   },
   {
    "duration": 20,
    "start_time": "2021-10-25T16:41:26.231Z"
   },
   {
    "duration": 30,
    "start_time": "2021-10-25T16:41:26.252Z"
   },
   {
    "duration": 24,
    "start_time": "2021-10-25T16:41:26.284Z"
   },
   {
    "duration": 15,
    "start_time": "2021-10-25T16:41:26.310Z"
   },
   {
    "duration": 11,
    "start_time": "2021-10-25T16:41:26.327Z"
   },
   {
    "duration": 3,
    "start_time": "2021-10-25T16:41:26.340Z"
   },
   {
    "duration": 43,
    "start_time": "2021-10-25T16:41:26.344Z"
   },
   {
    "duration": 25,
    "start_time": "2021-10-25T16:41:26.389Z"
   },
   {
    "duration": 31,
    "start_time": "2021-10-25T16:41:26.416Z"
   },
   {
    "duration": 16,
    "start_time": "2021-10-25T16:41:26.451Z"
   },
   {
    "duration": 21,
    "start_time": "2021-10-25T16:41:26.469Z"
   },
   {
    "duration": 16,
    "start_time": "2021-10-25T16:41:26.492Z"
   },
   {
    "duration": 9,
    "start_time": "2021-10-25T16:41:26.510Z"
   },
   {
    "duration": 29,
    "start_time": "2021-10-25T16:41:26.521Z"
   },
   {
    "duration": 28,
    "start_time": "2021-10-25T16:41:26.551Z"
   },
   {
    "duration": 6,
    "start_time": "2021-10-25T16:41:26.581Z"
   },
   {
    "duration": 36,
    "start_time": "2021-10-25T16:41:26.589Z"
   },
   {
    "duration": 22,
    "start_time": "2021-10-25T16:41:26.627Z"
   },
   {
    "duration": 34,
    "start_time": "2021-10-25T16:41:26.651Z"
   },
   {
    "duration": 11,
    "start_time": "2021-10-25T16:41:26.687Z"
   },
   {
    "duration": 23,
    "start_time": "2021-10-25T16:41:26.699Z"
   },
   {
    "duration": 27,
    "start_time": "2021-10-25T16:41:26.723Z"
   },
   {
    "duration": 28,
    "start_time": "2021-10-25T16:41:26.752Z"
   },
   {
    "duration": 15,
    "start_time": "2021-10-25T16:41:26.781Z"
   },
   {
    "duration": 793,
    "start_time": "2021-10-27T08:01:35.151Z"
   },
   {
    "duration": 173,
    "start_time": "2021-10-27T08:01:35.946Z"
   },
   {
    "duration": 25,
    "start_time": "2021-10-27T08:01:36.123Z"
   },
   {
    "duration": 34,
    "start_time": "2021-10-27T08:01:36.159Z"
   },
   {
    "duration": 5,
    "start_time": "2021-10-27T08:01:36.196Z"
   },
   {
    "duration": 53,
    "start_time": "2021-10-27T08:01:36.204Z"
   },
   {
    "duration": 7,
    "start_time": "2021-10-27T08:01:36.260Z"
   },
   {
    "duration": 30,
    "start_time": "2021-10-27T08:01:36.271Z"
   },
   {
    "duration": 22,
    "start_time": "2021-10-27T08:01:36.304Z"
   },
   {
    "duration": 56,
    "start_time": "2021-10-27T08:01:36.328Z"
   },
   {
    "duration": 98,
    "start_time": "2021-10-27T08:01:36.387Z"
   },
   {
    "duration": 109,
    "start_time": "2021-10-27T08:01:36.487Z"
   },
   {
    "duration": 82,
    "start_time": "2021-10-27T08:01:36.599Z"
   },
   {
    "duration": 13,
    "start_time": "2021-10-27T08:01:36.684Z"
   },
   {
    "duration": 4,
    "start_time": "2021-10-27T08:01:36.700Z"
   },
   {
    "duration": 18,
    "start_time": "2021-10-27T08:01:36.706Z"
   },
   {
    "duration": 41,
    "start_time": "2021-10-27T08:01:36.727Z"
   },
   {
    "duration": 15,
    "start_time": "2021-10-27T08:01:36.771Z"
   },
   {
    "duration": 13,
    "start_time": "2021-10-27T08:01:36.788Z"
   },
   {
    "duration": 5,
    "start_time": "2021-10-27T08:01:36.803Z"
   },
   {
    "duration": 60,
    "start_time": "2021-10-27T08:01:36.810Z"
   },
   {
    "duration": 18,
    "start_time": "2021-10-27T08:01:36.872Z"
   },
   {
    "duration": 17,
    "start_time": "2021-10-27T08:01:36.895Z"
   },
   {
    "duration": 50,
    "start_time": "2021-10-27T08:01:36.915Z"
   },
   {
    "duration": 20,
    "start_time": "2021-10-27T08:01:36.967Z"
   },
   {
    "duration": 19,
    "start_time": "2021-10-27T08:01:36.989Z"
   },
   {
    "duration": 11,
    "start_time": "2021-10-27T08:01:37.010Z"
   },
   {
    "duration": 46,
    "start_time": "2021-10-27T08:01:37.024Z"
   },
   {
    "duration": 12,
    "start_time": "2021-10-27T08:01:37.072Z"
   },
   {
    "duration": 6,
    "start_time": "2021-10-27T08:01:37.086Z"
   },
   {
    "duration": 30,
    "start_time": "2021-10-27T08:01:37.095Z"
   },
   {
    "duration": 17,
    "start_time": "2021-10-27T08:01:37.157Z"
   },
   {
    "duration": 21,
    "start_time": "2021-10-27T08:01:37.176Z"
   },
   {
    "duration": 15,
    "start_time": "2021-10-27T08:01:37.200Z"
   },
   {
    "duration": 44,
    "start_time": "2021-10-27T08:01:37.218Z"
   },
   {
    "duration": 5,
    "start_time": "2021-10-27T08:01:37.265Z"
   },
   {
    "duration": 15,
    "start_time": "2021-10-27T08:01:37.272Z"
   },
   {
    "duration": 9,
    "start_time": "2021-10-27T08:01:37.289Z"
   },
   {
    "duration": 1015,
    "start_time": "2021-10-27T08:18:34.251Z"
   },
   {
    "duration": 3,
    "start_time": "2021-10-27T08:18:53.609Z"
   },
   {
    "duration": 429,
    "start_time": "2021-10-27T08:19:01.578Z"
   },
   {
    "duration": 146,
    "start_time": "2021-10-27T08:20:15.646Z"
   },
   {
    "duration": 312,
    "start_time": "2021-10-27T08:20:41.620Z"
   },
   {
    "duration": 272,
    "start_time": "2021-10-27T08:20:58.517Z"
   },
   {
    "duration": 431,
    "start_time": "2021-10-27T08:27:32.498Z"
   },
   {
    "duration": 3,
    "start_time": "2021-10-27T08:28:01.888Z"
   },
   {
    "duration": 499,
    "start_time": "2021-10-27T08:28:03.671Z"
   },
   {
    "duration": 457,
    "start_time": "2021-10-27T08:30:33.981Z"
   },
   {
    "duration": 417,
    "start_time": "2021-10-27T08:30:54.916Z"
   },
   {
    "duration": 3,
    "start_time": "2021-10-27T08:31:40.159Z"
   },
   {
    "duration": 413,
    "start_time": "2021-10-27T08:31:41.206Z"
   },
   {
    "duration": 437,
    "start_time": "2021-10-27T08:31:47.364Z"
   },
   {
    "duration": 464,
    "start_time": "2021-10-27T08:33:21.837Z"
   },
   {
    "duration": 448,
    "start_time": "2021-10-27T08:33:38.332Z"
   },
   {
    "duration": 138,
    "start_time": "2021-10-27T08:35:19.204Z"
   },
   {
    "duration": 1072,
    "start_time": "2021-10-27T10:08:52.565Z"
   },
   {
    "duration": 365,
    "start_time": "2021-10-27T10:09:04.426Z"
   },
   {
    "duration": 510,
    "start_time": "2021-10-27T10:09:24.748Z"
   },
   {
    "duration": 382,
    "start_time": "2021-10-27T10:09:34.388Z"
   },
   {
    "duration": 375,
    "start_time": "2021-10-27T10:09:46.077Z"
   },
   {
    "duration": 546,
    "start_time": "2021-10-27T10:10:04.258Z"
   },
   {
    "duration": 1206,
    "start_time": "2021-10-27T10:10:25.437Z"
   },
   {
    "duration": 3,
    "start_time": "2021-10-27T10:10:42.619Z"
   },
   {
    "duration": 764,
    "start_time": "2021-10-27T10:13:47.665Z"
   }
  ],
  "colab": {
   "collapsed_sections": [
    "E0vqbgi9ay0H",
    "VUC88oWjTJw2"
   ],
   "name": "yandex_music_project_2021.2.ipynb",
   "provenance": []
  },
  "kernelspec": {
   "display_name": "Python 3 (ipykernel)",
   "language": "python",
   "name": "python3"
  },
  "language_info": {
   "codemirror_mode": {
    "name": "ipython",
    "version": 3
   },
   "file_extension": ".py",
   "mimetype": "text/x-python",
   "name": "python",
   "nbconvert_exporter": "python",
   "pygments_lexer": "ipython3",
   "version": "3.9.12"
  },
  "toc": {
   "base_numbering": 1,
   "nav_menu": {},
   "number_sections": true,
   "sideBar": true,
   "skip_h1_title": true,
   "title_cell": "Table of Contents",
   "title_sidebar": "Contents",
   "toc_cell": false,
   "toc_position": {
    "height": "calc(100% - 180px)",
    "left": "10px",
    "top": "150px",
    "width": "384.391px"
   },
   "toc_section_display": true,
   "toc_window_display": false
  }
 },
 "nbformat": 4,
 "nbformat_minor": 4
}
