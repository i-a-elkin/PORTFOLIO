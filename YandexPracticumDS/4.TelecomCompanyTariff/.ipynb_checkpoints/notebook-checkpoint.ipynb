{
 "cells": [
  {
   "cell_type": "markdown",
   "id": "34b82592",
   "metadata": {
    "id": "bA5ajAmk7XH6"
   },
   "source": [
    "# Описание проекта\n",
    "\n",
    "Вы аналитик компании «Мегалайн» — федерального оператора сотовой связи. Клиентам предлагают два тарифных плана: «Смарт» и «Ультра». Чтобы скорректировать рекламный бюджет, коммерческий департамент хочет понять, какой тариф приносит больше денег.\n",
    "Вам предстоит сделать предварительный анализ тарифов на небольшой выборке клиентов. В вашем распоряжении данные 500 пользователей «Мегалайна»: кто они, откуда, каким тарифом пользуются, сколько звонков и сообщений каждый отправил за 2018 год. Нужно проанализировать поведение клиентов и сделать вывод — какой тариф лучше."
   ]
  },
  {
   "cell_type": "markdown",
   "id": "04c7342c",
   "metadata": {},
   "source": [
    "**Описание тарифов**\n",
    "\n",
    "**Тариф «Смарт»**\n",
    "1. Ежемесячная плата: 550 рублей\n",
    "2. Включено 500 минут разговора, 50 сообщений и 15 Гб интернет-трафика\n",
    "3. Стоимость услуг сверх тарифного пакета: 1. минута разговора: 3 рубля («Мегалайн» всегда округляет вверх значения минут и мегабайтов. Если пользователь проговорил всего 1 секунду, в тарифе засчитывается целая минута); 2. сообщение: 3 рубля; 3. 1 Гб интернет-трафика: 200 рублей.\n",
    "\n",
    "**Тариф «Ультра»**\n",
    "1. Ежемесячная плата: 1950 рублей\n",
    "2. Включено 3000 минут разговора, 1000 сообщений и 30 Гб интернет-трафика\n",
    "3. Стоимость услуг сверх тарифного пакета: 1. минута разговора: 1 рубль; 2. сообщение: 1 рубль; 3. 1 Гб интернет-трафика: 150 рублей."
   ]
  },
  {
   "cell_type": "markdown",
   "id": "c43d6d12",
   "metadata": {},
   "source": [
    "**Примечание:**\n",
    "\n",
    "«Мегалайн» всегда округляет секунды до минут, а мегабайты — до гигабайт. Каждый звонок округляется отдельно: даже если он длился всего 1 секунду, будет засчитан как 1 минута.\n",
    "Для веб-трафика отдельные сессии не считаются. Вместо этого общая сумма за месяц округляется в бо́льшую сторону. Если абонент использует 1025 мегабайт в этом месяце, с него возьмут плату за 2 гигабайта."
   ]
  },
  {
   "cell_type": "markdown",
   "id": "24ac84da",
   "metadata": {
    "tags": []
   },
   "source": [
    "# Описание данных\n",
    "\n",
    "**Таблица users (информация о пользователях):**\n",
    "- user_id — уникальный идентификатор пользователя\n",
    "- first_name — имя пользователя\n",
    "- last_name — фамилия пользователя\n",
    "- age — возраст пользователя (годы)\n",
    "- reg_date — дата подключения тарифа (день, месяц, год)\n",
    "- churn_date — дата прекращения пользования тарифом (если значение пропущено, то тариф ещё действовал на момент выгрузки данных)\n",
    "- city — город проживания пользователя\n",
    "- tarif — название тарифного плана\n",
    "\n",
    "**Таблица calls (информация о звонках):**\n",
    "- id — уникальный номер звонка\n",
    "- call_date — дата звонка\n",
    "- duration — длительность звонка в минутах\n",
    "- user_id — идентификатор пользователя, сделавшего звонок\n",
    "\n",
    "**Таблица messages (информация о сообщениях):**\n",
    "- id — уникальный номер сообщения\n",
    "- message_date — дата сообщения\n",
    "- user_id — идентификатор пользователя, отправившего сообщение\n",
    "\n",
    "**Таблица internet (информация об интернет-сессиях):**\n",
    "- id — уникальный номер сессии\n",
    "- mb_used — объём потраченного за сессию интернет-трафика (в мегабайтах)\n",
    "- session_date — дата интернет-сессии\n",
    "- user_id — идентификатор пользователя\n",
    "\n",
    "**Таблица tariffs (информация о тарифах):**\n",
    "- tariff_name — название тарифа\n",
    "- rub_monthly_fee — ежемесячная абонентская плата в рублях\n",
    "- minutes_included — количество минут разговора в месяц, включённых в абонентскую плату\n",
    "- messages_included — количество сообщений в месяц, включённых в абонентскую плату\n",
    "- mb_per_month_included — объём интернет-трафика, включённого в абонентскую плату (в мегабайтах)\n",
    "- rub_per_minute — стоимость минуты разговора сверх тарифного пакета (например, если в тарифе 100 минут разговора в месяц, то со 101 минуты будет взиматься плата)\n",
    "- rub_per_message — стоимость отправки сообщения сверх тарифного пакета\n",
    "- rub_per_gb — стоимость дополнительного гигабайта интернет-трафика сверх тарифного пакета (1 гигабайт = 1024 мегабайта)\n",
    "\n",
    "**Примечание.** Если объединение таблиц командой merge приводит к ошибке dead kernell, примените join."
   ]
  },
  {
   "cell_type": "markdown",
   "id": "1c181b14",
   "metadata": {
    "tags": []
   },
   "source": [
    "# Шаг 1. Файлы с данными и общая информация"
   ]
  },
  {
   "cell_type": "markdown",
   "id": "8623ea6a",
   "metadata": {},
   "source": [
    "Импортируем библиотеки."
   ]
  },
  {
   "cell_type": "code",
   "execution_count": 1,
   "id": "3fa3f30e",
   "metadata": {},
   "outputs": [],
   "source": [
    "import pandas as pd\n",
    "import math\n",
    "import matplotlib.pyplot as plt\n",
    "from scipy import stats as st\n",
    "import numpy as np"
   ]
  },
  {
   "cell_type": "markdown",
   "id": "9e43ccff",
   "metadata": {},
   "source": [
    "Откроем имеющиеся данные и изучим информацию о них."
   ]
  },
  {
   "cell_type": "code",
   "execution_count": 2,
   "id": "70329ced",
   "metadata": {
    "tags": []
   },
   "outputs": [
    {
     "data": {
      "text/html": [
       "<style  type=\"text/css\" >\n",
       "</style><table id=\"T_797fc_\" ><caption>Информация о звонках</caption><thead>    <tr>        <th class=\"blank level0\" ></th>        <th class=\"col_heading level0 col0\" >id</th>        <th class=\"col_heading level0 col1\" >call_date</th>        <th class=\"col_heading level0 col2\" >duration</th>        <th class=\"col_heading level0 col3\" >user_id</th>    </tr></thead><tbody>\n",
       "                <tr>\n",
       "                        <th id=\"T_797fc_level0_row0\" class=\"row_heading level0 row0\" >0</th>\n",
       "                        <td id=\"T_797fc_row0_col0\" class=\"data row0 col0\" >1000_0</td>\n",
       "                        <td id=\"T_797fc_row0_col1\" class=\"data row0 col1\" >2018-07-25</td>\n",
       "                        <td id=\"T_797fc_row0_col2\" class=\"data row0 col2\" >0.000000</td>\n",
       "                        <td id=\"T_797fc_row0_col3\" class=\"data row0 col3\" >1000</td>\n",
       "            </tr>\n",
       "            <tr>\n",
       "                        <th id=\"T_797fc_level0_row1\" class=\"row_heading level0 row1\" >1</th>\n",
       "                        <td id=\"T_797fc_row1_col0\" class=\"data row1 col0\" >1000_1</td>\n",
       "                        <td id=\"T_797fc_row1_col1\" class=\"data row1 col1\" >2018-08-17</td>\n",
       "                        <td id=\"T_797fc_row1_col2\" class=\"data row1 col2\" >0.000000</td>\n",
       "                        <td id=\"T_797fc_row1_col3\" class=\"data row1 col3\" >1000</td>\n",
       "            </tr>\n",
       "            <tr>\n",
       "                        <th id=\"T_797fc_level0_row2\" class=\"row_heading level0 row2\" >2</th>\n",
       "                        <td id=\"T_797fc_row2_col0\" class=\"data row2 col0\" >1000_2</td>\n",
       "                        <td id=\"T_797fc_row2_col1\" class=\"data row2 col1\" >2018-06-11</td>\n",
       "                        <td id=\"T_797fc_row2_col2\" class=\"data row2 col2\" >2.850000</td>\n",
       "                        <td id=\"T_797fc_row2_col3\" class=\"data row2 col3\" >1000</td>\n",
       "            </tr>\n",
       "            <tr>\n",
       "                        <th id=\"T_797fc_level0_row3\" class=\"row_heading level0 row3\" >3</th>\n",
       "                        <td id=\"T_797fc_row3_col0\" class=\"data row3 col0\" >1000_3</td>\n",
       "                        <td id=\"T_797fc_row3_col1\" class=\"data row3 col1\" >2018-09-21</td>\n",
       "                        <td id=\"T_797fc_row3_col2\" class=\"data row3 col2\" >13.800000</td>\n",
       "                        <td id=\"T_797fc_row3_col3\" class=\"data row3 col3\" >1000</td>\n",
       "            </tr>\n",
       "            <tr>\n",
       "                        <th id=\"T_797fc_level0_row4\" class=\"row_heading level0 row4\" >4</th>\n",
       "                        <td id=\"T_797fc_row4_col0\" class=\"data row4 col0\" >1000_4</td>\n",
       "                        <td id=\"T_797fc_row4_col1\" class=\"data row4 col1\" >2018-12-15</td>\n",
       "                        <td id=\"T_797fc_row4_col2\" class=\"data row4 col2\" >5.180000</td>\n",
       "                        <td id=\"T_797fc_row4_col3\" class=\"data row4 col3\" >1000</td>\n",
       "            </tr>\n",
       "    </tbody></table>"
      ],
      "text/plain": [
       "<pandas.io.formats.style.Styler at 0x7ff15db5dfd0>"
      ]
     },
     "metadata": {},
     "output_type": "display_data"
    },
    {
     "name": "stdout",
     "output_type": "stream",
     "text": [
      "<class 'pandas.core.frame.DataFrame'>\n",
      "RangeIndex: 202607 entries, 0 to 202606\n",
      "Data columns (total 4 columns):\n",
      " #   Column     Non-Null Count   Dtype  \n",
      "---  ------     --------------   -----  \n",
      " 0   id         202607 non-null  object \n",
      " 1   call_date  202607 non-null  object \n",
      " 2   duration   202607 non-null  float64\n",
      " 3   user_id    202607 non-null  int64  \n",
      "dtypes: float64(1), int64(1), object(2)\n",
      "memory usage: 6.2+ MB\n"
     ]
    },
    {
     "data": {
      "text/html": [
       "<style  type=\"text/css\" >\n",
       "</style><table id=\"T_f6751_\" ><caption>Информация об интернет-сессиях</caption><thead>    <tr>        <th class=\"blank level0\" ></th>        <th class=\"col_heading level0 col0\" >id</th>        <th class=\"col_heading level0 col1\" >mb_used</th>        <th class=\"col_heading level0 col2\" >session_date</th>        <th class=\"col_heading level0 col3\" >user_id</th>    </tr></thead><tbody>\n",
       "                <tr>\n",
       "                        <th id=\"T_f6751_level0_row0\" class=\"row_heading level0 row0\" >0</th>\n",
       "                        <td id=\"T_f6751_row0_col0\" class=\"data row0 col0\" >1000_0</td>\n",
       "                        <td id=\"T_f6751_row0_col1\" class=\"data row0 col1\" >112.950000</td>\n",
       "                        <td id=\"T_f6751_row0_col2\" class=\"data row0 col2\" >2018-11-25</td>\n",
       "                        <td id=\"T_f6751_row0_col3\" class=\"data row0 col3\" >1000</td>\n",
       "            </tr>\n",
       "            <tr>\n",
       "                        <th id=\"T_f6751_level0_row1\" class=\"row_heading level0 row1\" >1</th>\n",
       "                        <td id=\"T_f6751_row1_col0\" class=\"data row1 col0\" >1000_1</td>\n",
       "                        <td id=\"T_f6751_row1_col1\" class=\"data row1 col1\" >1052.810000</td>\n",
       "                        <td id=\"T_f6751_row1_col2\" class=\"data row1 col2\" >2018-09-07</td>\n",
       "                        <td id=\"T_f6751_row1_col3\" class=\"data row1 col3\" >1000</td>\n",
       "            </tr>\n",
       "            <tr>\n",
       "                        <th id=\"T_f6751_level0_row2\" class=\"row_heading level0 row2\" >2</th>\n",
       "                        <td id=\"T_f6751_row2_col0\" class=\"data row2 col0\" >1000_2</td>\n",
       "                        <td id=\"T_f6751_row2_col1\" class=\"data row2 col1\" >1197.260000</td>\n",
       "                        <td id=\"T_f6751_row2_col2\" class=\"data row2 col2\" >2018-06-25</td>\n",
       "                        <td id=\"T_f6751_row2_col3\" class=\"data row2 col3\" >1000</td>\n",
       "            </tr>\n",
       "            <tr>\n",
       "                        <th id=\"T_f6751_level0_row3\" class=\"row_heading level0 row3\" >3</th>\n",
       "                        <td id=\"T_f6751_row3_col0\" class=\"data row3 col0\" >1000_3</td>\n",
       "                        <td id=\"T_f6751_row3_col1\" class=\"data row3 col1\" >550.270000</td>\n",
       "                        <td id=\"T_f6751_row3_col2\" class=\"data row3 col2\" >2018-08-22</td>\n",
       "                        <td id=\"T_f6751_row3_col3\" class=\"data row3 col3\" >1000</td>\n",
       "            </tr>\n",
       "            <tr>\n",
       "                        <th id=\"T_f6751_level0_row4\" class=\"row_heading level0 row4\" >4</th>\n",
       "                        <td id=\"T_f6751_row4_col0\" class=\"data row4 col0\" >1000_4</td>\n",
       "                        <td id=\"T_f6751_row4_col1\" class=\"data row4 col1\" >302.560000</td>\n",
       "                        <td id=\"T_f6751_row4_col2\" class=\"data row4 col2\" >2018-09-24</td>\n",
       "                        <td id=\"T_f6751_row4_col3\" class=\"data row4 col3\" >1000</td>\n",
       "            </tr>\n",
       "    </tbody></table>"
      ],
      "text/plain": [
       "<pandas.io.formats.style.Styler at 0x7ff15db5dfd0>"
      ]
     },
     "metadata": {},
     "output_type": "display_data"
    },
    {
     "name": "stdout",
     "output_type": "stream",
     "text": [
      "<class 'pandas.core.frame.DataFrame'>\n",
      "Int64Index: 149396 entries, 0 to 149395\n",
      "Data columns (total 4 columns):\n",
      " #   Column        Non-Null Count   Dtype  \n",
      "---  ------        --------------   -----  \n",
      " 0   id            149396 non-null  object \n",
      " 1   mb_used       149396 non-null  float64\n",
      " 2   session_date  149396 non-null  object \n",
      " 3   user_id       149396 non-null  int64  \n",
      "dtypes: float64(1), int64(1), object(2)\n",
      "memory usage: 5.7+ MB\n"
     ]
    },
    {
     "data": {
      "text/html": [
       "<style  type=\"text/css\" >\n",
       "</style><table id=\"T_cd48f_\" ><caption>Информация о сообщениях</caption><thead>    <tr>        <th class=\"blank level0\" ></th>        <th class=\"col_heading level0 col0\" >id</th>        <th class=\"col_heading level0 col1\" >message_date</th>        <th class=\"col_heading level0 col2\" >user_id</th>    </tr></thead><tbody>\n",
       "                <tr>\n",
       "                        <th id=\"T_cd48f_level0_row0\" class=\"row_heading level0 row0\" >0</th>\n",
       "                        <td id=\"T_cd48f_row0_col0\" class=\"data row0 col0\" >1000_0</td>\n",
       "                        <td id=\"T_cd48f_row0_col1\" class=\"data row0 col1\" >2018-06-27</td>\n",
       "                        <td id=\"T_cd48f_row0_col2\" class=\"data row0 col2\" >1000</td>\n",
       "            </tr>\n",
       "            <tr>\n",
       "                        <th id=\"T_cd48f_level0_row1\" class=\"row_heading level0 row1\" >1</th>\n",
       "                        <td id=\"T_cd48f_row1_col0\" class=\"data row1 col0\" >1000_1</td>\n",
       "                        <td id=\"T_cd48f_row1_col1\" class=\"data row1 col1\" >2018-10-08</td>\n",
       "                        <td id=\"T_cd48f_row1_col2\" class=\"data row1 col2\" >1000</td>\n",
       "            </tr>\n",
       "            <tr>\n",
       "                        <th id=\"T_cd48f_level0_row2\" class=\"row_heading level0 row2\" >2</th>\n",
       "                        <td id=\"T_cd48f_row2_col0\" class=\"data row2 col0\" >1000_2</td>\n",
       "                        <td id=\"T_cd48f_row2_col1\" class=\"data row2 col1\" >2018-08-04</td>\n",
       "                        <td id=\"T_cd48f_row2_col2\" class=\"data row2 col2\" >1000</td>\n",
       "            </tr>\n",
       "            <tr>\n",
       "                        <th id=\"T_cd48f_level0_row3\" class=\"row_heading level0 row3\" >3</th>\n",
       "                        <td id=\"T_cd48f_row3_col0\" class=\"data row3 col0\" >1000_3</td>\n",
       "                        <td id=\"T_cd48f_row3_col1\" class=\"data row3 col1\" >2018-06-16</td>\n",
       "                        <td id=\"T_cd48f_row3_col2\" class=\"data row3 col2\" >1000</td>\n",
       "            </tr>\n",
       "            <tr>\n",
       "                        <th id=\"T_cd48f_level0_row4\" class=\"row_heading level0 row4\" >4</th>\n",
       "                        <td id=\"T_cd48f_row4_col0\" class=\"data row4 col0\" >1000_4</td>\n",
       "                        <td id=\"T_cd48f_row4_col1\" class=\"data row4 col1\" >2018-12-05</td>\n",
       "                        <td id=\"T_cd48f_row4_col2\" class=\"data row4 col2\" >1000</td>\n",
       "            </tr>\n",
       "    </tbody></table>"
      ],
      "text/plain": [
       "<pandas.io.formats.style.Styler at 0x7ff12c394400>"
      ]
     },
     "metadata": {},
     "output_type": "display_data"
    },
    {
     "name": "stdout",
     "output_type": "stream",
     "text": [
      "<class 'pandas.core.frame.DataFrame'>\n",
      "RangeIndex: 123036 entries, 0 to 123035\n",
      "Data columns (total 3 columns):\n",
      " #   Column        Non-Null Count   Dtype \n",
      "---  ------        --------------   ----- \n",
      " 0   id            123036 non-null  object\n",
      " 1   message_date  123036 non-null  object\n",
      " 2   user_id       123036 non-null  int64 \n",
      "dtypes: int64(1), object(2)\n",
      "memory usage: 2.8+ MB\n"
     ]
    },
    {
     "data": {
      "text/html": [
       "<style  type=\"text/css\" >\n",
       "</style><table id=\"T_33b22_\" ><caption>Информация о пользователях</caption><thead>    <tr>        <th class=\"blank level0\" ></th>        <th class=\"col_heading level0 col0\" >user_id</th>        <th class=\"col_heading level0 col1\" >age</th>        <th class=\"col_heading level0 col2\" >churn_date</th>        <th class=\"col_heading level0 col3\" >city</th>        <th class=\"col_heading level0 col4\" >first_name</th>        <th class=\"col_heading level0 col5\" >last_name</th>        <th class=\"col_heading level0 col6\" >reg_date</th>        <th class=\"col_heading level0 col7\" >tariff</th>    </tr></thead><tbody>\n",
       "                <tr>\n",
       "                        <th id=\"T_33b22_level0_row0\" class=\"row_heading level0 row0\" >0</th>\n",
       "                        <td id=\"T_33b22_row0_col0\" class=\"data row0 col0\" >1000</td>\n",
       "                        <td id=\"T_33b22_row0_col1\" class=\"data row0 col1\" >52</td>\n",
       "                        <td id=\"T_33b22_row0_col2\" class=\"data row0 col2\" >nan</td>\n",
       "                        <td id=\"T_33b22_row0_col3\" class=\"data row0 col3\" >Краснодар</td>\n",
       "                        <td id=\"T_33b22_row0_col4\" class=\"data row0 col4\" >Рафаил</td>\n",
       "                        <td id=\"T_33b22_row0_col5\" class=\"data row0 col5\" >Верещагин</td>\n",
       "                        <td id=\"T_33b22_row0_col6\" class=\"data row0 col6\" >2018-05-25</td>\n",
       "                        <td id=\"T_33b22_row0_col7\" class=\"data row0 col7\" >ultra</td>\n",
       "            </tr>\n",
       "            <tr>\n",
       "                        <th id=\"T_33b22_level0_row1\" class=\"row_heading level0 row1\" >1</th>\n",
       "                        <td id=\"T_33b22_row1_col0\" class=\"data row1 col0\" >1001</td>\n",
       "                        <td id=\"T_33b22_row1_col1\" class=\"data row1 col1\" >41</td>\n",
       "                        <td id=\"T_33b22_row1_col2\" class=\"data row1 col2\" >nan</td>\n",
       "                        <td id=\"T_33b22_row1_col3\" class=\"data row1 col3\" >Москва</td>\n",
       "                        <td id=\"T_33b22_row1_col4\" class=\"data row1 col4\" >Иван</td>\n",
       "                        <td id=\"T_33b22_row1_col5\" class=\"data row1 col5\" >Ежов</td>\n",
       "                        <td id=\"T_33b22_row1_col6\" class=\"data row1 col6\" >2018-11-01</td>\n",
       "                        <td id=\"T_33b22_row1_col7\" class=\"data row1 col7\" >smart</td>\n",
       "            </tr>\n",
       "            <tr>\n",
       "                        <th id=\"T_33b22_level0_row2\" class=\"row_heading level0 row2\" >2</th>\n",
       "                        <td id=\"T_33b22_row2_col0\" class=\"data row2 col0\" >1002</td>\n",
       "                        <td id=\"T_33b22_row2_col1\" class=\"data row2 col1\" >59</td>\n",
       "                        <td id=\"T_33b22_row2_col2\" class=\"data row2 col2\" >nan</td>\n",
       "                        <td id=\"T_33b22_row2_col3\" class=\"data row2 col3\" >Стерлитамак</td>\n",
       "                        <td id=\"T_33b22_row2_col4\" class=\"data row2 col4\" >Евгений</td>\n",
       "                        <td id=\"T_33b22_row2_col5\" class=\"data row2 col5\" >Абрамович</td>\n",
       "                        <td id=\"T_33b22_row2_col6\" class=\"data row2 col6\" >2018-06-17</td>\n",
       "                        <td id=\"T_33b22_row2_col7\" class=\"data row2 col7\" >smart</td>\n",
       "            </tr>\n",
       "            <tr>\n",
       "                        <th id=\"T_33b22_level0_row3\" class=\"row_heading level0 row3\" >3</th>\n",
       "                        <td id=\"T_33b22_row3_col0\" class=\"data row3 col0\" >1003</td>\n",
       "                        <td id=\"T_33b22_row3_col1\" class=\"data row3 col1\" >23</td>\n",
       "                        <td id=\"T_33b22_row3_col2\" class=\"data row3 col2\" >nan</td>\n",
       "                        <td id=\"T_33b22_row3_col3\" class=\"data row3 col3\" >Москва</td>\n",
       "                        <td id=\"T_33b22_row3_col4\" class=\"data row3 col4\" >Белла</td>\n",
       "                        <td id=\"T_33b22_row3_col5\" class=\"data row3 col5\" >Белякова</td>\n",
       "                        <td id=\"T_33b22_row3_col6\" class=\"data row3 col6\" >2018-08-17</td>\n",
       "                        <td id=\"T_33b22_row3_col7\" class=\"data row3 col7\" >ultra</td>\n",
       "            </tr>\n",
       "            <tr>\n",
       "                        <th id=\"T_33b22_level0_row4\" class=\"row_heading level0 row4\" >4</th>\n",
       "                        <td id=\"T_33b22_row4_col0\" class=\"data row4 col0\" >1004</td>\n",
       "                        <td id=\"T_33b22_row4_col1\" class=\"data row4 col1\" >68</td>\n",
       "                        <td id=\"T_33b22_row4_col2\" class=\"data row4 col2\" >nan</td>\n",
       "                        <td id=\"T_33b22_row4_col3\" class=\"data row4 col3\" >Новокузнецк</td>\n",
       "                        <td id=\"T_33b22_row4_col4\" class=\"data row4 col4\" >Татьяна</td>\n",
       "                        <td id=\"T_33b22_row4_col5\" class=\"data row4 col5\" >Авдеенко</td>\n",
       "                        <td id=\"T_33b22_row4_col6\" class=\"data row4 col6\" >2018-05-14</td>\n",
       "                        <td id=\"T_33b22_row4_col7\" class=\"data row4 col7\" >ultra</td>\n",
       "            </tr>\n",
       "    </tbody></table>"
      ],
      "text/plain": [
       "<pandas.io.formats.style.Styler at 0x7ff12c38dfd0>"
      ]
     },
     "metadata": {},
     "output_type": "display_data"
    },
    {
     "name": "stdout",
     "output_type": "stream",
     "text": [
      "<class 'pandas.core.frame.DataFrame'>\n",
      "RangeIndex: 500 entries, 0 to 499\n",
      "Data columns (total 8 columns):\n",
      " #   Column      Non-Null Count  Dtype \n",
      "---  ------      --------------  ----- \n",
      " 0   user_id     500 non-null    int64 \n",
      " 1   age         500 non-null    int64 \n",
      " 2   churn_date  38 non-null     object\n",
      " 3   city        500 non-null    object\n",
      " 4   first_name  500 non-null    object\n",
      " 5   last_name   500 non-null    object\n",
      " 6   reg_date    500 non-null    object\n",
      " 7   tariff      500 non-null    object\n",
      "dtypes: int64(2), object(6)\n",
      "memory usage: 31.4+ KB\n"
     ]
    },
    {
     "data": {
      "text/html": [
       "<style  type=\"text/css\" >\n",
       "</style><table id=\"T_108cd_\" ><caption>Информация о тарифах</caption><thead>    <tr>        <th class=\"blank level0\" ></th>        <th class=\"col_heading level0 col0\" >messages_included</th>        <th class=\"col_heading level0 col1\" >mb_per_month_included</th>        <th class=\"col_heading level0 col2\" >minutes_included</th>        <th class=\"col_heading level0 col3\" >rub_monthly_fee</th>        <th class=\"col_heading level0 col4\" >rub_per_gb</th>        <th class=\"col_heading level0 col5\" >rub_per_message</th>        <th class=\"col_heading level0 col6\" >rub_per_minute</th>        <th class=\"col_heading level0 col7\" >tariff_name</th>    </tr></thead><tbody>\n",
       "                <tr>\n",
       "                        <th id=\"T_108cd_level0_row0\" class=\"row_heading level0 row0\" >0</th>\n",
       "                        <td id=\"T_108cd_row0_col0\" class=\"data row0 col0\" >50</td>\n",
       "                        <td id=\"T_108cd_row0_col1\" class=\"data row0 col1\" >15360</td>\n",
       "                        <td id=\"T_108cd_row0_col2\" class=\"data row0 col2\" >500</td>\n",
       "                        <td id=\"T_108cd_row0_col3\" class=\"data row0 col3\" >550</td>\n",
       "                        <td id=\"T_108cd_row0_col4\" class=\"data row0 col4\" >200</td>\n",
       "                        <td id=\"T_108cd_row0_col5\" class=\"data row0 col5\" >3</td>\n",
       "                        <td id=\"T_108cd_row0_col6\" class=\"data row0 col6\" >3</td>\n",
       "                        <td id=\"T_108cd_row0_col7\" class=\"data row0 col7\" >smart</td>\n",
       "            </tr>\n",
       "            <tr>\n",
       "                        <th id=\"T_108cd_level0_row1\" class=\"row_heading level0 row1\" >1</th>\n",
       "                        <td id=\"T_108cd_row1_col0\" class=\"data row1 col0\" >1000</td>\n",
       "                        <td id=\"T_108cd_row1_col1\" class=\"data row1 col1\" >30720</td>\n",
       "                        <td id=\"T_108cd_row1_col2\" class=\"data row1 col2\" >3000</td>\n",
       "                        <td id=\"T_108cd_row1_col3\" class=\"data row1 col3\" >1950</td>\n",
       "                        <td id=\"T_108cd_row1_col4\" class=\"data row1 col4\" >150</td>\n",
       "                        <td id=\"T_108cd_row1_col5\" class=\"data row1 col5\" >1</td>\n",
       "                        <td id=\"T_108cd_row1_col6\" class=\"data row1 col6\" >1</td>\n",
       "                        <td id=\"T_108cd_row1_col7\" class=\"data row1 col7\" >ultra</td>\n",
       "            </tr>\n",
       "    </tbody></table>"
      ],
      "text/plain": [
       "<pandas.io.formats.style.Styler at 0x7ff12c394c40>"
      ]
     },
     "metadata": {},
     "output_type": "display_data"
    },
    {
     "name": "stdout",
     "output_type": "stream",
     "text": [
      "<class 'pandas.core.frame.DataFrame'>\n",
      "RangeIndex: 2 entries, 0 to 1\n",
      "Data columns (total 8 columns):\n",
      " #   Column                 Non-Null Count  Dtype \n",
      "---  ------                 --------------  ----- \n",
      " 0   messages_included      2 non-null      int64 \n",
      " 1   mb_per_month_included  2 non-null      int64 \n",
      " 2   minutes_included       2 non-null      int64 \n",
      " 3   rub_monthly_fee        2 non-null      int64 \n",
      " 4   rub_per_gb             2 non-null      int64 \n",
      " 5   rub_per_message        2 non-null      int64 \n",
      " 6   rub_per_minute         2 non-null      int64 \n",
      " 7   tariff_name            2 non-null      object\n",
      "dtypes: int64(7), object(1)\n",
      "memory usage: 256.0+ bytes\n"
     ]
    }
   ],
   "source": [
    "calls_df = pd.read_csv('datasets/calls.csv')\n",
    "internet_df = pd.read_csv('datasets/internet.csv', index_col=0)\n",
    "messages_df = pd.read_csv('datasets/messages.csv')\n",
    "tariffs_df = pd.read_csv('datasets/tariffs.csv')\n",
    "users_df = pd.read_csv('datasets/users.csv')\n",
    "\n",
    "for i in [(calls_df, \"Информация о звонках\"), (internet_df, \"Информация об интернет-сессиях\"), \\\n",
    "          (messages_df, \"Информация о сообщениях\"), (users_df, \"Информация о пользователях\"), \\\n",
    "          (tariffs_df, \"Информация о тарифах\")]:\n",
    "    display(i[0].head().style.set_caption(i[1]))\n",
    "    i[0].info()"
   ]
  },
  {
   "cell_type": "markdown",
   "id": "e94cac89",
   "metadata": {},
   "source": [
    "Основная информация, необходимая для анализа находится в трех датафреймах: calls_df, internet_df, messages_df, в которых отсутствую пропущенные значения. Часть нужных данных (тариф и город) находятся в датафрейме users_df."
   ]
  },
  {
   "cell_type": "markdown",
   "id": "0b4af685",
   "metadata": {},
   "source": [
    "# Шаг 2. Подготовка данных"
   ]
  },
  {
   "cell_type": "markdown",
   "id": "b127a7e6",
   "metadata": {},
   "source": [
    "Для начала проверим наличие явных дубликатов в calls_df, internet_df, messages_df."
   ]
  },
  {
   "cell_type": "code",
   "execution_count": 3,
   "id": "5d5bc79d",
   "metadata": {},
   "outputs": [
    {
     "name": "stdout",
     "output_type": "stream",
     "text": [
      "0\n",
      "0\n",
      "0\n"
     ]
    }
   ],
   "source": [
    "for i in [calls_df, internet_df, messages_df]:\n",
    "    print(i.duplicated().sum())"
   ]
  },
  {
   "cell_type": "markdown",
   "id": "8f6390e3",
   "metadata": {},
   "source": [
    "Как можно видеть, явные дубликаты отстутствуют."
   ]
  },
  {
   "cell_type": "markdown",
   "id": "222fa4ed",
   "metadata": {},
   "source": [
    "Заменим тип данных, в котором записана дата в этих датафреймах со строкового на datetime."
   ]
  },
  {
   "cell_type": "code",
   "execution_count": 4,
   "id": "8088c404",
   "metadata": {},
   "outputs": [],
   "source": [
    "calls_df[\"call_date\"] = pd.to_datetime(calls_df[\"call_date\"], format=\"%Y-%m-%d\")\n",
    "internet_df[\"session_date\"] = pd.to_datetime(internet_df[\"session_date\"], format=\"%Y-%m-%d\")\n",
    "messages_df[\"message_date\"] = pd.to_datetime(messages_df[\"message_date\"], format=\"%Y-%m-%d\")"
   ]
  },
  {
   "cell_type": "markdown",
   "id": "4c26ee02",
   "metadata": {},
   "source": [
    "Для предотвращения ошибок в данных, проверим, действительно ли все наблюдения получены в 2018 году."
   ]
  },
  {
   "cell_type": "code",
   "execution_count": 5,
   "id": "2f5aae1f",
   "metadata": {},
   "outputs": [
    {
     "data": {
      "text/plain": [
       "[2018, 2018, 2018]"
      ]
     },
     "execution_count": 5,
     "metadata": {},
     "output_type": "execute_result"
    }
   ],
   "source": [
    "list(calls_df[\"call_date\"].dt.year.unique()) + list(internet_df[\"session_date\"].dt.year.unique()) + list(messages_df[\"message_date\"].dt.year.unique())"
   ]
  },
  {
   "cell_type": "markdown",
   "id": "1fdad33a",
   "metadata": {},
   "source": [
    "В каждый датафрейм добавим столбец содержащий номер месяца"
   ]
  },
  {
   "cell_type": "code",
   "execution_count": 6,
   "id": "767d33a9",
   "metadata": {},
   "outputs": [],
   "source": [
    "calls_df[\"call_date_month\"] = calls_df[\"call_date\"].dt.month\n",
    "internet_df[\"session_date_month\"] = internet_df[\"session_date\"].dt.month\n",
    "messages_df[\"message_date_month\"] = messages_df[\"message_date\"].dt.month"
   ]
  },
  {
   "cell_type": "markdown",
   "id": "44169aea",
   "metadata": {},
   "source": [
    "Округлим продолжительность звонков в датафрейме calls_df до целых значений в большую сторону с помощью функции np.ceil()."
   ]
  },
  {
   "cell_type": "code",
   "execution_count": 7,
   "id": "f7027d5a",
   "metadata": {},
   "outputs": [],
   "source": [
    "calls_df[\"duration\"] = np.ceil(calls_df[\"duration\"])"
   ]
  },
  {
   "cell_type": "markdown",
   "id": "30984b8f",
   "metadata": {},
   "source": [
    "Сгруппируем датафреймы. Найдем ежемесячное количество звонков и их продолжительность (в минутах), количество отправленных сообщений, объем израсходованного интернет-трафика (в мегабайтах). Переименуем столбцы для последующего соединения таблиц."
   ]
  },
  {
   "cell_type": "code",
   "execution_count": 8,
   "id": "a570f28a",
   "metadata": {
    "tags": []
   },
   "outputs": [],
   "source": [
    "calls_df_group = (calls_df.groupby([\"user_id\", \"call_date_month\"])[\"duration\"]\n",
    "                        .agg([\"count\", \"sum\"]).reset_index()\n",
    "                        .set_axis([\"user_id\", \"month\", \"calls_number\", \"calls_duration_min\"], axis=\"columns\"))\n",
    "\n",
    "messages_df_group = (messages_df.groupby([\"user_id\", \"message_date_month\"])[\"id\"]\n",
    "                     .agg(\"count\").reset_index()\n",
    "                     .set_axis([\"user_id\", \"month\", \"messages_number\"], axis=\"columns\"))\n",
    "\n",
    "internet_df_group = (internet_df.groupby([\"user_id\", \"session_date_month\"])[\"mb_used\"].agg(\"sum\")\n",
    "                     .reset_index().set_axis([\"user_id\", \"month\", \"traffic_mb\"], axis=\"columns\"))"
   ]
  },
  {
   "cell_type": "markdown",
   "id": "275ca8e3",
   "metadata": {},
   "source": [
    "Соединим таблицы calls_df_group, messages_df_group, internet_df_group и добавим к ним название тарифа и город абонента из users_df. После этого заменим пропущенные значения на 0."
   ]
  },
  {
   "cell_type": "code",
   "execution_count": 9,
   "id": "69b62471",
   "metadata": {},
   "outputs": [],
   "source": [
    "df = (calls_df_group.merge(messages_df_group, on=[\"user_id\", \"month\"], how=\"outer\")\n",
    "      .merge(internet_df_group, on=[\"user_id\", \"month\"], how=\"outer\")\n",
    "      .merge(users_df[[\"user_id\", \"tariff\", \"city\"]], on=\"user_id\", how=\"outer\")\n",
    "      .sort_values([\"user_id\", \"month\"])\n",
    "      .reset_index(drop=True))\n",
    "df = df.fillna(0)"
   ]
  },
  {
   "cell_type": "markdown",
   "id": "89b6bf7d",
   "metadata": {},
   "source": [
    "Добавим в датафрейм df колонку traffic_gb со значениями израсходованного интернет-трафика в гигабайтах, получившиеся значения округлим до целых в большую сторону с помощью np.ceil(). Проверим результат объединения."
   ]
  },
  {
   "cell_type": "code",
   "execution_count": 10,
   "id": "28101c42",
   "metadata": {},
   "outputs": [
    {
     "data": {
      "text/html": [
       "<div>\n",
       "<style scoped>\n",
       "    .dataframe tbody tr th:only-of-type {\n",
       "        vertical-align: middle;\n",
       "    }\n",
       "\n",
       "    .dataframe tbody tr th {\n",
       "        vertical-align: top;\n",
       "    }\n",
       "\n",
       "    .dataframe thead th {\n",
       "        text-align: right;\n",
       "    }\n",
       "</style>\n",
       "<table border=\"1\" class=\"dataframe\">\n",
       "  <thead>\n",
       "    <tr style=\"text-align: right;\">\n",
       "      <th></th>\n",
       "      <th>user_id</th>\n",
       "      <th>month</th>\n",
       "      <th>calls_number</th>\n",
       "      <th>calls_duration_min</th>\n",
       "      <th>messages_number</th>\n",
       "      <th>traffic_mb</th>\n",
       "      <th>tariff</th>\n",
       "      <th>city</th>\n",
       "      <th>traffic_gb</th>\n",
       "    </tr>\n",
       "  </thead>\n",
       "  <tbody>\n",
       "    <tr>\n",
       "      <th>0</th>\n",
       "      <td>1000</td>\n",
       "      <td>5.0</td>\n",
       "      <td>22.0</td>\n",
       "      <td>159.0</td>\n",
       "      <td>22.0</td>\n",
       "      <td>2253.49</td>\n",
       "      <td>ultra</td>\n",
       "      <td>Краснодар</td>\n",
       "      <td>3.0</td>\n",
       "    </tr>\n",
       "    <tr>\n",
       "      <th>1</th>\n",
       "      <td>1000</td>\n",
       "      <td>6.0</td>\n",
       "      <td>43.0</td>\n",
       "      <td>172.0</td>\n",
       "      <td>60.0</td>\n",
       "      <td>23233.77</td>\n",
       "      <td>ultra</td>\n",
       "      <td>Краснодар</td>\n",
       "      <td>23.0</td>\n",
       "    </tr>\n",
       "    <tr>\n",
       "      <th>2</th>\n",
       "      <td>1000</td>\n",
       "      <td>7.0</td>\n",
       "      <td>47.0</td>\n",
       "      <td>340.0</td>\n",
       "      <td>75.0</td>\n",
       "      <td>14003.64</td>\n",
       "      <td>ultra</td>\n",
       "      <td>Краснодар</td>\n",
       "      <td>14.0</td>\n",
       "    </tr>\n",
       "    <tr>\n",
       "      <th>3</th>\n",
       "      <td>1000</td>\n",
       "      <td>8.0</td>\n",
       "      <td>52.0</td>\n",
       "      <td>408.0</td>\n",
       "      <td>81.0</td>\n",
       "      <td>14055.93</td>\n",
       "      <td>ultra</td>\n",
       "      <td>Краснодар</td>\n",
       "      <td>14.0</td>\n",
       "    </tr>\n",
       "    <tr>\n",
       "      <th>4</th>\n",
       "      <td>1000</td>\n",
       "      <td>9.0</td>\n",
       "      <td>58.0</td>\n",
       "      <td>466.0</td>\n",
       "      <td>57.0</td>\n",
       "      <td>14568.91</td>\n",
       "      <td>ultra</td>\n",
       "      <td>Краснодар</td>\n",
       "      <td>15.0</td>\n",
       "    </tr>\n",
       "  </tbody>\n",
       "</table>\n",
       "</div>"
      ],
      "text/plain": [
       "   user_id  month  calls_number  calls_duration_min  messages_number  \\\n",
       "0     1000    5.0          22.0               159.0             22.0   \n",
       "1     1000    6.0          43.0               172.0             60.0   \n",
       "2     1000    7.0          47.0               340.0             75.0   \n",
       "3     1000    8.0          52.0               408.0             81.0   \n",
       "4     1000    9.0          58.0               466.0             57.0   \n",
       "\n",
       "   traffic_mb tariff       city  traffic_gb  \n",
       "0     2253.49  ultra  Краснодар         3.0  \n",
       "1    23233.77  ultra  Краснодар        23.0  \n",
       "2    14003.64  ultra  Краснодар        14.0  \n",
       "3    14055.93  ultra  Краснодар        14.0  \n",
       "4    14568.91  ultra  Краснодар        15.0  "
      ]
     },
     "metadata": {},
     "output_type": "display_data"
    },
    {
     "name": "stdout",
     "output_type": "stream",
     "text": [
      "<class 'pandas.core.frame.DataFrame'>\n",
      "RangeIndex: 3216 entries, 0 to 3215\n",
      "Data columns (total 9 columns):\n",
      " #   Column              Non-Null Count  Dtype  \n",
      "---  ------              --------------  -----  \n",
      " 0   user_id             3216 non-null   int64  \n",
      " 1   month               3216 non-null   float64\n",
      " 2   calls_number        3216 non-null   float64\n",
      " 3   calls_duration_min  3216 non-null   float64\n",
      " 4   messages_number     3216 non-null   float64\n",
      " 5   traffic_mb          3216 non-null   float64\n",
      " 6   tariff              3216 non-null   object \n",
      " 7   city                3216 non-null   object \n",
      " 8   traffic_gb          3216 non-null   float64\n",
      "dtypes: float64(6), int64(1), object(2)\n",
      "memory usage: 226.2+ KB\n"
     ]
    }
   ],
   "source": [
    "df[\"traffic_gb\"] = np.ceil(df[\"traffic_mb\"] / 1024)\n",
    "display(df.head())\n",
    "df.info()"
   ]
  },
  {
   "cell_type": "markdown",
   "id": "00c0a4d2",
   "metadata": {},
   "source": [
    "Заменим тип данных month, calls_number, calls_duration_min, messages_number на целочисленный."
   ]
  },
  {
   "cell_type": "code",
   "execution_count": 11,
   "id": "809e28ac",
   "metadata": {
    "tags": []
   },
   "outputs": [],
   "source": [
    "df[[\"month\", \"calls_number\", \"messages_number\", \"calls_duration_min\"]] = \\\n",
    "df[[\"month\", \"calls_number\", \"messages_number\", \"calls_duration_min\"]].astype(\"int\")"
   ]
  },
  {
   "cell_type": "markdown",
   "id": "e4ca025f",
   "metadata": {},
   "source": [
    "Посчитаем помесячную выручку с каждого пользователя (вычтем бесплатный лимит из суммарного количества звонков, сообщений и интернет-трафика; остаток умножим на значение из тарифного плана; прибавим абонентскую плату, соответствующую тарифному плану). Для этого создадим функцию и протестирум ее."
   ]
  },
  {
   "cell_type": "code",
   "execution_count": 12,
   "id": "8403694e",
   "metadata": {
    "tags": []
   },
   "outputs": [
    {
     "data": {
      "text/html": [
       "<div>\n",
       "<style scoped>\n",
       "    .dataframe tbody tr th:only-of-type {\n",
       "        vertical-align: middle;\n",
       "    }\n",
       "\n",
       "    .dataframe tbody tr th {\n",
       "        vertical-align: top;\n",
       "    }\n",
       "\n",
       "    .dataframe thead th {\n",
       "        text-align: right;\n",
       "    }\n",
       "</style>\n",
       "<table border=\"1\" class=\"dataframe\">\n",
       "  <thead>\n",
       "    <tr style=\"text-align: right;\">\n",
       "      <th></th>\n",
       "      <th>calls_duration_min</th>\n",
       "      <th>messages_number</th>\n",
       "      <th>traffic_gb</th>\n",
       "      <th>tariff</th>\n",
       "      <th>revenue_rub</th>\n",
       "    </tr>\n",
       "  </thead>\n",
       "  <tbody>\n",
       "    <tr>\n",
       "      <th>0</th>\n",
       "      <td>400</td>\n",
       "      <td>40</td>\n",
       "      <td>14</td>\n",
       "      <td>smart</td>\n",
       "      <td>550.0</td>\n",
       "    </tr>\n",
       "    <tr>\n",
       "      <th>1</th>\n",
       "      <td>600</td>\n",
       "      <td>70</td>\n",
       "      <td>20</td>\n",
       "      <td>smart</td>\n",
       "      <td>1910.0</td>\n",
       "    </tr>\n",
       "    <tr>\n",
       "      <th>2</th>\n",
       "      <td>2900</td>\n",
       "      <td>990</td>\n",
       "      <td>25</td>\n",
       "      <td>ultra</td>\n",
       "      <td>1950.0</td>\n",
       "    </tr>\n",
       "    <tr>\n",
       "      <th>3</th>\n",
       "      <td>3100</td>\n",
       "      <td>1200</td>\n",
       "      <td>50</td>\n",
       "      <td>ultra</td>\n",
       "      <td>5250.0</td>\n",
       "    </tr>\n",
       "    <tr>\n",
       "      <th>4</th>\n",
       "      <td>1100</td>\n",
       "      <td>500</td>\n",
       "      <td>40</td>\n",
       "      <td>unknown</td>\n",
       "      <td>NaN</td>\n",
       "    </tr>\n",
       "  </tbody>\n",
       "</table>\n",
       "</div>"
      ],
      "text/plain": [
       "   calls_duration_min  messages_number  traffic_gb   tariff  revenue_rub\n",
       "0                 400               40          14    smart        550.0\n",
       "1                 600               70          20    smart       1910.0\n",
       "2                2900              990          25    ultra       1950.0\n",
       "3                3100             1200          50    ultra       5250.0\n",
       "4                1100              500          40  unknown          NaN"
      ]
     },
     "execution_count": 12,
     "metadata": {},
     "output_type": "execute_result"
    }
   ],
   "source": [
    "# датафрейм с информацией о тарифах, в качестве индекса задано название тарифа\n",
    "tariffs_df_index_name = tariffs_df.set_index(\"tariff_name\")\n",
    "\n",
    "def revenue_func(data):\n",
    "    '''Функция принимает на вход датафрейм из которого использует строки:\n",
    "       длительность звонков, количество СМС, объем интернет-трафика и название тарифа, \n",
    "       возвращает помесячную выручку с каждого пользователя.\n",
    "       Инорфация о тарифах берется из tariffs_df_index_name\n",
    "    '''\n",
    "    if data['tariff'] in tariffs_df_index_name.index:\n",
    "        return (\n",
    "        tariffs_df_index_name.loc[data['tariff'], 'rub_monthly_fee'] \n",
    "        +\n",
    "        (0 if (data[\"calls_duration_min\"] - tariffs_df_index_name.loc[data['tariff'], 'minutes_included']) <= 0 \n",
    "         else (data[\"calls_duration_min\"] - tariffs_df_index_name.loc[data['tariff'], 'minutes_included']) \n",
    "               * tariffs_df_index_name.loc[data['tariff'], 'rub_per_minute'])\n",
    "        +\n",
    "        (0 if (data[\"messages_number\"] - tariffs_df_index_name.loc[data['tariff'], 'messages_included']) <= 0 \n",
    "         else (data[\"messages_number\"] - tariffs_df_index_name.loc[data['tariff'], 'messages_included']) \n",
    "               * tariffs_df_index_name.loc[data['tariff'], 'rub_per_message'])\n",
    "        +\n",
    "        (0 if (data[\"traffic_gb\"] - tariffs_df_index_name.loc[data['tariff'], 'mb_per_month_included'] / 1024) <= 0 \n",
    "         else (data[\"traffic_gb\"] - tariffs_df_index_name.loc[data['tariff'], 'mb_per_month_included'] / 1024) \n",
    "               * tariffs_df_index_name.loc[data['tariff'], 'rub_per_gb'])\n",
    "    )    \n",
    "    else:\n",
    "        return np.NaN\n",
    "    \n",
    "#Тест функции\n",
    "df_test = pd.DataFrame([(400, 40, 14, \"smart\"), \n",
    "                       (600, 70, 20, \"smart\"),\n",
    "                       (2900, 990, 25, \"ultra\"),\n",
    "                       (3100, 1200, 50, \"ultra\"),\n",
    "                       (1100, 500, 40, \"unknown\")],\n",
    "                      columns = [\"calls_duration_min\", \"messages_number\", \"traffic_gb\", \"tariff\"])\n",
    "\n",
    "df_test[\"revenue_rub\"] = df_test.apply(revenue_func, axis=1)\n",
    "df_test.head()"
   ]
  },
  {
   "cell_type": "markdown",
   "id": "a399bc2c",
   "metadata": {},
   "source": [
    "Функция revenue_func прошла тест, применим ее к датафрейму df и создадим колонку с выручкой от каждого пользователя, после этого проверим результат."
   ]
  },
  {
   "cell_type": "code",
   "execution_count": 13,
   "id": "0a7d2ad0",
   "metadata": {},
   "outputs": [
    {
     "data": {
      "text/html": [
       "<div>\n",
       "<style scoped>\n",
       "    .dataframe tbody tr th:only-of-type {\n",
       "        vertical-align: middle;\n",
       "    }\n",
       "\n",
       "    .dataframe tbody tr th {\n",
       "        vertical-align: top;\n",
       "    }\n",
       "\n",
       "    .dataframe thead th {\n",
       "        text-align: right;\n",
       "    }\n",
       "</style>\n",
       "<table border=\"1\" class=\"dataframe\">\n",
       "  <thead>\n",
       "    <tr style=\"text-align: right;\">\n",
       "      <th></th>\n",
       "      <th>user_id</th>\n",
       "      <th>month</th>\n",
       "      <th>calls_number</th>\n",
       "      <th>calls_duration_min</th>\n",
       "      <th>messages_number</th>\n",
       "      <th>traffic_mb</th>\n",
       "      <th>tariff</th>\n",
       "      <th>city</th>\n",
       "      <th>traffic_gb</th>\n",
       "      <th>revenue_rub</th>\n",
       "    </tr>\n",
       "  </thead>\n",
       "  <tbody>\n",
       "    <tr>\n",
       "      <th>0</th>\n",
       "      <td>1000</td>\n",
       "      <td>5</td>\n",
       "      <td>22</td>\n",
       "      <td>159</td>\n",
       "      <td>22</td>\n",
       "      <td>2253.49</td>\n",
       "      <td>ultra</td>\n",
       "      <td>Краснодар</td>\n",
       "      <td>3.0</td>\n",
       "      <td>1950.0</td>\n",
       "    </tr>\n",
       "    <tr>\n",
       "      <th>1</th>\n",
       "      <td>1000</td>\n",
       "      <td>6</td>\n",
       "      <td>43</td>\n",
       "      <td>172</td>\n",
       "      <td>60</td>\n",
       "      <td>23233.77</td>\n",
       "      <td>ultra</td>\n",
       "      <td>Краснодар</td>\n",
       "      <td>23.0</td>\n",
       "      <td>1950.0</td>\n",
       "    </tr>\n",
       "    <tr>\n",
       "      <th>2</th>\n",
       "      <td>1000</td>\n",
       "      <td>7</td>\n",
       "      <td>47</td>\n",
       "      <td>340</td>\n",
       "      <td>75</td>\n",
       "      <td>14003.64</td>\n",
       "      <td>ultra</td>\n",
       "      <td>Краснодар</td>\n",
       "      <td>14.0</td>\n",
       "      <td>1950.0</td>\n",
       "    </tr>\n",
       "    <tr>\n",
       "      <th>3</th>\n",
       "      <td>1000</td>\n",
       "      <td>8</td>\n",
       "      <td>52</td>\n",
       "      <td>408</td>\n",
       "      <td>81</td>\n",
       "      <td>14055.93</td>\n",
       "      <td>ultra</td>\n",
       "      <td>Краснодар</td>\n",
       "      <td>14.0</td>\n",
       "      <td>1950.0</td>\n",
       "    </tr>\n",
       "    <tr>\n",
       "      <th>4</th>\n",
       "      <td>1000</td>\n",
       "      <td>9</td>\n",
       "      <td>58</td>\n",
       "      <td>466</td>\n",
       "      <td>57</td>\n",
       "      <td>14568.91</td>\n",
       "      <td>ultra</td>\n",
       "      <td>Краснодар</td>\n",
       "      <td>15.0</td>\n",
       "      <td>1950.0</td>\n",
       "    </tr>\n",
       "  </tbody>\n",
       "</table>\n",
       "</div>"
      ],
      "text/plain": [
       "   user_id  month  calls_number  calls_duration_min  messages_number  \\\n",
       "0     1000      5            22                 159               22   \n",
       "1     1000      6            43                 172               60   \n",
       "2     1000      7            47                 340               75   \n",
       "3     1000      8            52                 408               81   \n",
       "4     1000      9            58                 466               57   \n",
       "\n",
       "   traffic_mb tariff       city  traffic_gb  revenue_rub  \n",
       "0     2253.49  ultra  Краснодар         3.0       1950.0  \n",
       "1    23233.77  ultra  Краснодар        23.0       1950.0  \n",
       "2    14003.64  ultra  Краснодар        14.0       1950.0  \n",
       "3    14055.93  ultra  Краснодар        14.0       1950.0  \n",
       "4    14568.91  ultra  Краснодар        15.0       1950.0  "
      ]
     },
     "metadata": {},
     "output_type": "display_data"
    },
    {
     "name": "stdout",
     "output_type": "stream",
     "text": [
      "<class 'pandas.core.frame.DataFrame'>\n",
      "RangeIndex: 3216 entries, 0 to 3215\n",
      "Data columns (total 10 columns):\n",
      " #   Column              Non-Null Count  Dtype  \n",
      "---  ------              --------------  -----  \n",
      " 0   user_id             3216 non-null   int64  \n",
      " 1   month               3216 non-null   int64  \n",
      " 2   calls_number        3216 non-null   int64  \n",
      " 3   calls_duration_min  3216 non-null   int64  \n",
      " 4   messages_number     3216 non-null   int64  \n",
      " 5   traffic_mb          3216 non-null   float64\n",
      " 6   tariff              3216 non-null   object \n",
      " 7   city                3216 non-null   object \n",
      " 8   traffic_gb          3216 non-null   float64\n",
      " 9   revenue_rub         3216 non-null   float64\n",
      "dtypes: float64(3), int64(5), object(2)\n",
      "memory usage: 251.4+ KB\n"
     ]
    }
   ],
   "source": [
    "df[\"revenue_rub\"] = df.apply(revenue_func, axis=1)\n",
    "display(df.head())\n",
    "df.info()"
   ]
  },
  {
   "cell_type": "markdown",
   "id": "e2bc7835",
   "metadata": {},
   "source": [
    "# Шаг 3. Анализ данных"
   ]
  },
  {
   "cell_type": "markdown",
   "id": "f67f81dc",
   "metadata": {},
   "source": [
    "Опишем поведение клиентов оператора, исходя из выборки. Для начала сравним гистограммы помесячной длительности звонков абонентов тарифов smart и ultra."
   ]
  },
  {
   "cell_type": "code",
   "execution_count": 14,
   "id": "a44ac07c",
   "metadata": {},
   "outputs": [
    {
     "data": {
      "image/png": "[encoded data removed]",
      "text/plain": [
       "<Figure size 1080x576 with 1 Axes>"
      ]
     },
     "metadata": {
      "needs_background": "light"
     },
     "output_type": "display_data"
    }
   ],
   "source": [
    "(df.query(\"tariff == 'smart' and calls_duration_min != 0\")[\"calls_duration_min\"]\n",
    " .hist(bins=20, figsize=(15,8), alpha=0.7, color=\"blue\"))\n",
    "(df.query(\"tariff == 'ultra' and calls_duration_min != 0\")[\"calls_duration_min\"]\n",
    " .hist(bins=20, alpha=0.4, color=\"red\"))\n",
    "plt.legend([\"Tariff smart\", \"Tariff ultra\"])\n",
    "plt.ylabel(\"Counts, a.u.\")\n",
    "plt.xlabel(\"Calls duration, min.\")\n",
    "plt.title(\"Distribution of monthly calls duration\")\n",
    "plt.axvline(x=tariffs_df_index_name.loc['smart', 'minutes_included'], ymin=0, ymax=0.95, c=\"blue\", ls=\"-\", lw=4)\n",
    "plt.axvline(x=tariffs_df_index_name.loc['ultra', 'minutes_included'], ymin=0, ymax=0.3, c=\"red\", ls=\"-\", lw=4)\n",
    "plt.show()"
   ]
  },
  {
   "cell_type": "markdown",
   "id": "adfc9ebf",
   "metadata": {},
   "source": [
    "Построим гистограммы количества СМС, отправляемых абонентами тарифов smart и ultra каждый месяц."
   ]
  },
  {
   "cell_type": "code",
   "execution_count": 15,
   "id": "24c7e02b",
   "metadata": {},
   "outputs": [
    {
     "data": {
      "image/png": "[encoded data removed]",
      "text/plain": [
       "<Figure size 1080x576 with 1 Axes>"
      ]
     },
     "metadata": {
      "needs_background": "light"
     },
     "output_type": "display_data"
    }
   ],
   "source": [
    "(df.query(\"tariff == 'smart' and messages_number != 0\")[\"messages_number\"]\n",
    " .hist(bins=20, figsize=(15,8), alpha=0.6, color=\"black\"))\n",
    "(df.query(\"tariff == 'ultra' and messages_number != 0\")[\"messages_number\"]\n",
    " .hist(bins=20, alpha=0.4, color=\"green\"))\n",
    "plt.legend([\"Tariff smart\", \"Tariff ultra\"])\n",
    "plt.ylabel(\"Counts, a.u.\")\n",
    "plt.xlabel(\"Messages number, a.u.\")\n",
    "plt.title(\"Distribution of monthly messages number\")\n",
    "plt.axvline(x=tariffs_df_index_name.loc['smart', 'messages_included'], ymin=0, ymax=0.95, c=\"black\", ls=\"-\", lw=4)\n",
    "plt.axvline(x=tariffs_df_index_name.loc['ultra', 'messages_included'], ymin=0, ymax=0.45, c=\"green\", ls=\"-\", lw=4)\n",
    "plt.show()"
   ]
  },
  {
   "cell_type": "markdown",
   "id": "a50a4453",
   "metadata": {},
   "source": [
    "Посмотрим как изменяются гистограммы израсходованного интернет-трафика для двух групп абонентов."
   ]
  },
  {
   "cell_type": "code",
   "execution_count": 16,
   "id": "e2e00232",
   "metadata": {},
   "outputs": [
    {
     "data": {
      "image/png": "[encoded data removed]",
      "text/plain": [
       "<Figure size 1080x576 with 1 Axes>"
      ]
     },
     "metadata": {
      "needs_background": "light"
     },
     "output_type": "display_data"
    }
   ],
   "source": [
    "(df.query(\"tariff == 'smart' and traffic_gb != 0\")[\"traffic_gb\"]\n",
    " .hist(bins=20, figsize=(15,8), alpha=0.8, color=\"brown\"))\n",
    "(df.query(\"tariff == 'ultra' and traffic_gb != 0\")[\"traffic_gb\"]\n",
    " .hist(bins=20, alpha=0.4, color=\"blue\"))\n",
    "plt.legend([\"Tariff smart\", \"Tariff ultra\"])\n",
    "plt.ylabel(\"Counts, a.u.\")\n",
    "plt.xlabel(\"Internet-traffic, Gb\")\n",
    "plt.title(\"Distribution of monthly internet-traffic\")\n",
    "plt.axvline(x=(tariffs_df_index_name.loc['smart', 'mb_per_month_included'] / 1024), ymin=0, ymax=0.95, c=\"brown\", ls=\"-\", lw=4)\n",
    "plt.axvline(x=(tariffs_df_index_name.loc['ultra', 'mb_per_month_included'] / 1024), ymin=0, ymax=0.3, c=\"blue\", ls=\"-\", lw=4)\n",
    "plt.show()"
   ]
  },
  {
   "cell_type": "markdown",
   "id": "a06350f9",
   "metadata": {},
   "source": [
    "Построенные гистаграммы показывают, что распределения для тарифа ultra характеризуются более высокими значениями меры центральной тенденции и более высоким разбросом в отличие от распределений для тарифа smart. Кроме этого можно наблюдать слабую скошенность найденных распределений, а также, что количество абонентов тарифа smart превосходит количество абонентов тарифа ultra. \n",
    "\n",
    "Определим долю абонентов каждаго из тарифов, посчитаем медиану, среднее количество, дисперсию и стандартное отклонение."
   ]
  },
  {
   "cell_type": "code",
   "execution_count": 17,
   "id": "0200d311",
   "metadata": {},
   "outputs": [
    {
     "name": "stdout",
     "output_type": "stream",
     "text": [
      "Доля каждого из тарифов:\n",
      "smart    0.693408\n",
      "ultra    0.306592\n",
      "Name: tariff, dtype: float64\n",
      "\n"
     ]
    },
    {
     "data": {
      "text/html": [
       "<div>\n",
       "<style scoped>\n",
       "    .dataframe tbody tr th:only-of-type {\n",
       "        vertical-align: middle;\n",
       "    }\n",
       "\n",
       "    .dataframe tbody tr th {\n",
       "        vertical-align: top;\n",
       "    }\n",
       "\n",
       "    .dataframe thead tr th {\n",
       "        text-align: left;\n",
       "    }\n",
       "\n",
       "    .dataframe thead tr:last-of-type th {\n",
       "        text-align: right;\n",
       "    }\n",
       "</style>\n",
       "<table border=\"1\" class=\"dataframe\">\n",
       "  <thead>\n",
       "    <tr>\n",
       "      <th></th>\n",
       "      <th colspan=\"4\" halign=\"left\">calls_duration_min</th>\n",
       "      <th colspan=\"4\" halign=\"left\">messages_number</th>\n",
       "      <th colspan=\"4\" halign=\"left\">traffic_gb</th>\n",
       "    </tr>\n",
       "    <tr>\n",
       "      <th></th>\n",
       "      <th>median</th>\n",
       "      <th>mean</th>\n",
       "      <th>var</th>\n",
       "      <th>std</th>\n",
       "      <th>median</th>\n",
       "      <th>mean</th>\n",
       "      <th>var</th>\n",
       "      <th>std</th>\n",
       "      <th>median</th>\n",
       "      <th>mean</th>\n",
       "      <th>var</th>\n",
       "      <th>std</th>\n",
       "    </tr>\n",
       "    <tr>\n",
       "      <th>tariff</th>\n",
       "      <th></th>\n",
       "      <th></th>\n",
       "      <th></th>\n",
       "      <th></th>\n",
       "      <th></th>\n",
       "      <th></th>\n",
       "      <th></th>\n",
       "      <th></th>\n",
       "      <th></th>\n",
       "      <th></th>\n",
       "      <th></th>\n",
       "      <th></th>\n",
       "    </tr>\n",
       "  </thead>\n",
       "  <tbody>\n",
       "    <tr>\n",
       "      <th>smart</th>\n",
       "      <td>427</td>\n",
       "      <td>421</td>\n",
       "      <td>35030</td>\n",
       "      <td>187</td>\n",
       "      <td>34</td>\n",
       "      <td>38</td>\n",
       "      <td>719</td>\n",
       "      <td>26</td>\n",
       "      <td>17</td>\n",
       "      <td>16</td>\n",
       "      <td>32</td>\n",
       "      <td>5</td>\n",
       "    </tr>\n",
       "    <tr>\n",
       "      <th>ultra</th>\n",
       "      <td>539</td>\n",
       "      <td>559</td>\n",
       "      <td>96254</td>\n",
       "      <td>310</td>\n",
       "      <td>52</td>\n",
       "      <td>61</td>\n",
       "      <td>1981</td>\n",
       "      <td>44</td>\n",
       "      <td>19</td>\n",
       "      <td>19</td>\n",
       "      <td>88</td>\n",
       "      <td>9</td>\n",
       "    </tr>\n",
       "  </tbody>\n",
       "</table>\n",
       "</div>"
      ],
      "text/plain": [
       "       calls_duration_min                  messages_number                 \\\n",
       "                   median mean    var  std          median mean   var std   \n",
       "tariff                                                                      \n",
       "smart                 427  421  35030  187              34   38   719  26   \n",
       "ultra                 539  559  96254  310              52   61  1981  44   \n",
       "\n",
       "       traffic_gb               \n",
       "           median mean var std  \n",
       "tariff                          \n",
       "smart          17   16  32   5  \n",
       "ultra          19   19  88   9  "
      ]
     },
     "execution_count": 17,
     "metadata": {},
     "output_type": "execute_result"
    }
   ],
   "source": [
    "print(\"Доля каждого из тарифов:\", df[\"tariff\"].value_counts(normalize=True), sep=\"\\n\", end=\"\\n\\n\")\n",
    "\n",
    "(df.query(\"calls_duration_min != 0 and messages_number != 0 and traffic_gb != 0\")\n",
    ".groupby(\"tariff\")[\"calls_duration_min\", \"messages_number\", \"traffic_gb\"]\n",
    ".agg([\"median\", \"mean\", \"var\", \"std\"]).astype(\"int\"))"
   ]
  },
  {
   "cell_type": "markdown",
   "id": "746d8db3",
   "metadata": {},
   "source": [
    "Можно видеть, что доля абонентов, подключенных к тарифу smart примерно в 2 раза больше абонентов, подключенных к тарифу ultra: 70 и 30 %, соответственно. В среднем абоненты тарифа smart расходуют в месяц 421 минуту, 34 СМС и 16 Гб интернет-трафика. Эти значения близки к лимитам тарифа (500 минут, 50 СМС, 15 Гб), что может говорить о малых дополнительных платежах данных абонентов. Средние значения абонентов тарифа ultra ожидаемо превосходят значения тарифа smart: 559 минут, 61 СМС, 19 Гб интернет-трафика. Интересно отметить, что найденные значения заметно ниже лимитов, предоставляемых тарифом (3000 минут разговора, 1000 сообщений и 30 Гб интернет-трафика), что может говорить об избыточности тарифа для части абонентов и их возможной переплате за услуги связи. Найденные значения дисперсии и среднеквадратичного отклонения говорят о высоком разбросе значений продолжительности звонков, количества СМС и объема израсходованного интернет-трафика относительно среднего значения, что говорит о значительных отличиях в поведении абонентов. Кроме этого, можно отметить, что найденные значения медианы распределений близки к среднему значению и это сигнализирует о слабой скошенности анализируемых данных."
   ]
  },
  {
   "cell_type": "markdown",
   "id": "3b99defa",
   "metadata": {},
   "source": [
    "# Шаг 4. Проверка гипотез"
   ]
  },
  {
   "cell_type": "markdown",
   "id": "007488a3",
   "metadata": {},
   "source": [
    "Вначале, сравним гистограммы помесячной выручки для каждого тарифа и выручки пользователей из Москвы и других регионов."
   ]
  },
  {
   "cell_type": "code",
   "execution_count": 18,
   "id": "ceb214aa",
   "metadata": {},
   "outputs": [
    {
     "data": {
      "image/png": "[encoded data removed]",
      "text/plain": [
       "<Figure size 1152x432 with 2 Axes>"
      ]
     },
     "metadata": {
      "needs_background": "light"
     },
     "output_type": "display_data"
    }
   ],
   "source": [
    "ax1 = plt.subplot(1, 2, 1)\n",
    "(df.query(\"tariff == 'ultra' and revenue_rub != 0\")[\"revenue_rub\"]\n",
    ".hist(bins=20, figsize=(16,6), alpha=0.9, color=\"red\", ax=ax1))\n",
    "(df.query(\"tariff == 'smart' and revenue_rub != 0\")[\"revenue_rub\"]\n",
    ".hist(bins=20, alpha=0.5, color=\"grey\"))\n",
    "plt.legend([\"Tariff ultra\", \"Tariff smart\"])\n",
    "plt.ylabel(\"Counts, a.u.\")\n",
    "plt.xlabel(\"Revenue, Rub\")\n",
    "plt.title(\"Distribution of monthly revenue. Comparison by tariff\")\n",
    "plt.ylim(0, 950)\n",
    "plt.xticks([1000, 2000, 3000, 4000, 5000, 6000, 7000], \n",
    "           [\"1k\", \"2k\", \"3k\", \"4k\", \"5k\", \"6k\", \"7k\"])\n",
    "ax2 = plt.subplot(1, 2, 2)\n",
    "(df.query(\"city == 'Москва' and revenue_rub != 0\")[\"revenue_rub\"]\n",
    ".hist(bins=20, figsize=(16,6), alpha=0.9, color=\"red\", ax=ax2))\n",
    "(df.query(\"city != 'Москва' and revenue_rub != 0\")[\"revenue_rub\"]\n",
    ".hist(bins=20, alpha=0.5, color=\"grey\"))\n",
    "plt.legend([\"Moscow region\", \"Another regions\"])\n",
    "plt.ylabel(\"Counts, a.u.\")\n",
    "plt.xlabel(\"Revenue, Rub\")\n",
    "plt.title(\"Distribution of monthly revenue. Comparison by region\")\n",
    "plt.ylim(0, 950)\n",
    "plt.xticks([1000, 2000, 3000, 4000, 5000, 6000, 7000], \n",
    "           [\"1k\", \"2k\", \"3k\", \"4k\", \"5k\", \"6k\", \"7k\"])\n",
    "plt.show()"
   ]
  },
  {
   "cell_type": "markdown",
   "id": "2f68f40a",
   "metadata": {},
   "source": [
    "Полученные данные показывают, что распределения помесячной выручки в зависимости от тарифа существенно отличаются. Пик распределения для тарифа smart смещен влево от пика распределения для тарифа ultra и находится в районе 500 рублей, что соответствует величине абонентской платы. Пик распределения для тарифа ultra в свою очередь также расположен в районе абонентской платы данного тарифа (2000 рублей).\n",
    "   \n",
    "Гистограммы помесячной выручки для региона Москва и остальных очень походят друг на друга, обе имеют бимодальный характер с модами в районе 500 и 2000 рублей и схожий разброс значений. Однако они отличаются разным количеством абонентов, в Москве абонентов меньше по сравнению с суммой абонентов в других регионах."
   ]
  },
  {
   "cell_type": "markdown",
   "id": "bafb4f48",
   "metadata": {},
   "source": [
    "Сравним насколько отличается суммарная выручка за 2018 год для разных тарифов и регионов."
   ]
  },
  {
   "cell_type": "code",
   "execution_count": 19,
   "id": "b71bd80a",
   "metadata": {},
   "outputs": [
    {
     "data": {
      "text/plain": [
       "'Суммарная выручка для тарифа Ультра: 2041050.0 руб.'"
      ]
     },
     "metadata": {},
     "output_type": "display_data"
    },
    {
     "data": {
      "text/plain": [
       "'Суммарная выручка для тарифа Смарт: 2875901.0 руб.'"
      ]
     },
     "metadata": {},
     "output_type": "display_data"
    },
    {
     "data": {
      "text/plain": [
       "'Суммарная выручка в Москве: 945042.0 руб.'"
      ]
     },
     "metadata": {},
     "output_type": "display_data"
    },
    {
     "data": {
      "text/plain": [
       "'Суммарная выручка в регионах (без учета Москвы): 3971909.0 руб.'"
      ]
     },
     "metadata": {},
     "output_type": "display_data"
    }
   ],
   "source": [
    "display(\"Суммарная выручка для тарифа Ультра: \" + str(df.query(\"tariff == 'ultra' and revenue_rub != 0\")[\"revenue_rub\"].sum()) + \" руб.\")\n",
    "display(\"Суммарная выручка для тарифа Смарт: \" + str(df.query(\"tariff == 'smart' and revenue_rub != 0\")[\"revenue_rub\"].sum()) + \" руб.\")\n",
    "display(\"Суммарная выручка в Москве: \" + str(df.query(\"city == 'Москва' and revenue_rub != 0\")[\"revenue_rub\"].sum()) + \" руб.\")\n",
    "display(\"Суммарная выручка в регионах (без учета Москвы): \" + str(df.query(\"city != 'Москва' and revenue_rub != 0\")[\"revenue_rub\"].sum()) + \" руб.\")"
   ]
  },
  {
   "cell_type": "markdown",
   "id": "9c926d3e",
   "metadata": {},
   "source": [
    "Можно видеть, что суммарная выручка оператора на тарифе Ультра соответствует примерно 40 %, а выручка в Москве примерно 20 % общей выручки, что является высокими величинами, не заментыми, на первый взгляд, из гистограмм."
   ]
  },
  {
   "cell_type": "markdown",
   "id": "0d1d336a",
   "metadata": {},
   "source": [
    "**Сформулируем нулевую и альтернативную гипотезы для средней выручки пользователей тарифов «Ультра» и «Смарт»:**\n",
    "- $H_0$ - средние выручки пользователей тарифов «Ультра» и «Смарт» равны\n",
    "- $H_1$ - средняя выручка пользователей тарифа «Ультра» выше таковой тарифа «Смарт» (т.к. пик распределения тарифа \"Ультра\" существенно сдвинут вправо)"
   ]
  },
  {
   "cell_type": "code",
   "execution_count": 20,
   "id": "e72513b6",
   "metadata": {},
   "outputs": [
    {
     "name": "stdout",
     "output_type": "stream",
     "text": [
      "Среднее значение выручки тарифа Ультра: 2070.030425963489 руб.\n",
      "Среднее значение выручки тарифа Смарт: 1289.6417040358745 руб.\n",
      "p-значение: 4.0409547777449665e-161\n",
      "Отвергаем нулевую гипотезу\n"
     ]
    }
   ],
   "source": [
    "reveneu_ultra = df.query(\"tariff == 'ultra' and revenue_rub != 0\")[\"revenue_rub\"]\n",
    "reveneu_smart = df.query(\"tariff == 'smart' and revenue_rub != 0\")[\"revenue_rub\"]\n",
    "\n",
    "# критический уровень статистической значимости\n",
    "alpha = 0.05 \n",
    "\n",
    "print(\"Среднее значение выручки тарифа Ультра:\", reveneu_ultra.mean(), \"руб.\")\n",
    "print(\"Среднее значение выручки тарифа Смарт:\", reveneu_smart.mean(), \"руб.\")\n",
    "\n",
    "results = st.ttest_ind(reveneu_ultra, reveneu_smart)\n",
    "\n",
    "print(\"p-значение:\", results.pvalue / 2)\n",
    "\n",
    "if ((results.pvalue / 2) < alpha) and (reveneu_ultra.mean() > reveneu_smart.mean()):\n",
    "    print(\"Отвергаем нулевую гипотезу\")\n",
    "else:\n",
    "    print(\"Не получилось отвергнуть нулевую гипотезу\")"
   ]
  },
  {
   "cell_type": "markdown",
   "id": "3fb0d6c8",
   "metadata": {},
   "source": [
    "Можно видеть, что среднее значение выручки на тарифе \"Ультра\" больше значения на тарифе \"Смарт\", а также полученное p-значение с большим запасом укладывается в критический уровень статистической значимости. Можно сказать, вероятность получить такую или большую разность в выборочных средних в рассматриваемых выборках практически равна нулю."
   ]
  },
  {
   "cell_type": "markdown",
   "id": "0123b09a",
   "metadata": {},
   "source": [
    "**Сформулируем нулевую и альтернативную гипотезы для средней выручки пользователей из Москвы из других регионов:**\n",
    "- $H_0$ - средние выручки пользователей из Москвы и из других регионов равны\n",
    "- $H_1$ - средние выручки пользователей из Москвы и из других регионов отличаются (т.к. распределения соответствуют друг другу и сложно выдвинуть одностороннюю гипотезу)"
   ]
  },
  {
   "cell_type": "code",
   "execution_count": 21,
   "id": "ad5cba36",
   "metadata": {},
   "outputs": [
    {
     "name": "stdout",
     "output_type": "stream",
     "text": [
      "Среднее значение выручки для Москвы: 1546.7135842880523 руб.\n",
      "Среднее значение выручки для остальных регионов: 1524.7251439539348 руб.\n",
      "p-значение: 0.5400751614511182\n",
      "Не получилось отвергнуть нулевую гипотезу\n"
     ]
    }
   ],
   "source": [
    "reveneu_moscow = df.query(\"city == 'Москва' and revenue_rub != 0\")[\"revenue_rub\"]\n",
    "reveneu_regions = df.query(\"city != 'Москва' and revenue_rub != 0\")[\"revenue_rub\"]\n",
    "\n",
    "# критический уровень статистической значимости\n",
    "alpha1 = 0.05 \n",
    "\n",
    "print(\"Среднее значение выручки для Москвы:\", reveneu_moscow.mean(), \"руб.\")\n",
    "print(\"Среднее значение выручки для остальных регионов:\", reveneu_regions.mean(), \"руб.\")\n",
    "\n",
    "results1 = st.ttest_ind(reveneu_moscow, reveneu_regions)\n",
    "\n",
    "print(\"p-значение:\", results1.pvalue)\n",
    "\n",
    "if results1.pvalue < alpha1:\n",
    "    print(\"Отвергаем нулевую гипотезу\")\n",
    "else:\n",
    "    print(\"Не получилось отвергнуть нулевую гипотезу\")"
   ]
  },
  {
   "cell_type": "markdown",
   "id": "3fe9236a",
   "metadata": {},
   "source": [
    "Полученное значение p-value говорит о том, что вероятность получить такое или большее различие случайно почти 54%, хотя средние значения выручек отличаются. Это явно слишком большая вероятность, чтобы делать вывод о значимом различии между средними величиными выручек в Москве и регионах."
   ]
  },
  {
   "cell_type": "markdown",
   "id": "177c53c8",
   "metadata": {
    "tags": []
   },
   "source": [
    "# Шаг 5. Общий вывод"
   ]
  },
  {
   "cell_type": "markdown",
   "id": "7452c998",
   "metadata": {},
   "source": [
    "В работе проведен анализ поведения абонентов тарифных планов \"Смарт\" и \"Ультра\" сотового оператора \"Мегалайн\". В результате удалось выявить следующие закономерности:\n",
    "- Распределения длины телефонных звонков, количества СМС, объема интернет-трафика для тарифа \"Ультра\" характеризуются более высокими значениями среднего и дисперсии в отличие от распределений тарифа \"Смарт\". Данные распределения характеризуются слабой скошенностью.\n",
    "- Средние значения помесячной длительности звонков, количества СМС и объема интернет-трафика для тарифа \"Смарт\" близки к лимитам тарифа (500 минут, 50 СМС, 15 Гб), а для тарифа \"Ультра\" заметно ниже лимитов, предоставляемых тарифом (3000 минут, 1000 СМС и 30 Гб).\n",
    "- С высокой долей вероятности, среднее значение выручки на тарифе \"Ультра\" больше значения на тарифе \"Смарт\" (вероятность стремится к 100%), а средние значения выручек в Москве и других регионах равны (вероятность около 54%).\n",
    "- Лучшим тарифом можно считать Ультра, т.к. он приносит больше средней помесячной выручки, а также из-за того, что абоненты не используют тарифные лимиты полностью, снижая нагрузку на инфраструктуру оператора.\n",
    "- В настоящее время примерно 60 % выручки оператору приносят пользователи тарифа Смарт, с учетом того, что средняя выручка выше на тарифе Ультра, то при проведении маркетинговых кампаний и перетоке абонентов со Смарт на Ультра возможен рост общей выручки."
   ]
  },
  {
   "cell_type": "code",
   "execution_count": null,
   "id": "4c510cca-c044-4785-882c-0e4ec02c0c8f",
   "metadata": {},
   "outputs": [],
   "source": []
  }
 ],
 "metadata": {
  "colab": {
   "name": "Welcome to DataCamp Workspaces.ipynb",
   "provenance": []
  },
  "kernelspec": {
   "display_name": "Python 3 (ipykernel)",
   "language": "python",
   "name": "python3"
  },
  "language_info": {
   "codemirror_mode": {
    "name": "ipython",
    "version": 3
   },
   "file_extension": ".py",
   "mimetype": "text/x-python",
   "name": "python",
   "nbconvert_exporter": "python",
   "pygments_lexer": "ipython3",
   "version": "3.9.12"
  },
  "toc": {
   "base_numbering": 1,
   "nav_menu": {},
   "number_sections": true,
   "sideBar": true,
   "skip_h1_title": true,
   "title_cell": "Table of Contents",
   "title_sidebar": "Contents",
   "toc_cell": false,
   "toc_position": {},
   "toc_section_display": true,
   "toc_window_display": false
  }
 },
 "nbformat": 4,
 "nbformat_minor": 5
}
