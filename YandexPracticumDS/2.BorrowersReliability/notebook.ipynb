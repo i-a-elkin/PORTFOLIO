{
 "cells": [
  {
   "cell_type": "markdown",
   "metadata": {
    "id": "CAMniLkHSnq_"
   },
   "source": [
    "# Исследование надёжности заёмщиков\n",
    "\n",
    "Заказчик — кредитный отдел банка. Нужно разобраться, влияет ли семейное положение и количество детей клиента на факт погашения кредита в срок. Входные данные от банка — статистика о платёжеспособности клиентов.\n",
    "\n",
    "Результаты исследования будут учтены при построении модели **кредитного скоринга** — специальной системы, которая оценивает способность потенциального заёмщика вернуть кредит банку."
   ]
  },
  {
   "cell_type": "markdown",
   "metadata": {
    "id": "VHhvubWuSnrA"
   },
   "source": [
    "## Шаг 1. Откройте файл с данными и изучите общую информацию"
   ]
  },
  {
   "cell_type": "markdown",
   "metadata": {
    "id": "KlTi3eoOSnrD"
   },
   "source": [
    "Прочитаем таблицу ('/datasets/data.csv') и запишем в переменную df, выведем на экран первые 15 строк."
   ]
  },
  {
   "cell_type": "code",
   "execution_count": 1,
   "metadata": {
    "colab": {
     "base_uri": "https://localhost:8080/",
     "height": 514
    },
    "id": "JuHb-9_ISnrE",
    "outputId": "18befb6d-71ba-4978-e407-0a310f429575"
   },
   "outputs": [
    {
     "data": {
      "text/html": [
       "<div>\n",
       "<style scoped>\n",
       "    .dataframe tbody tr th:only-of-type {\n",
       "        vertical-align: middle;\n",
       "    }\n",
       "\n",
       "    .dataframe tbody tr th {\n",
       "        vertical-align: top;\n",
       "    }\n",
       "\n",
       "    .dataframe thead th {\n",
       "        text-align: right;\n",
       "    }\n",
       "</style>\n",
       "<table border=\"1\" class=\"dataframe\">\n",
       "  <thead>\n",
       "    <tr style=\"text-align: right;\">\n",
       "      <th></th>\n",
       "      <th>children</th>\n",
       "      <th>days_employed</th>\n",
       "      <th>dob_years</th>\n",
       "      <th>education</th>\n",
       "      <th>education_id</th>\n",
       "      <th>family_status</th>\n",
       "      <th>family_status_id</th>\n",
       "      <th>gender</th>\n",
       "      <th>income_type</th>\n",
       "      <th>debt</th>\n",
       "      <th>total_income</th>\n",
       "      <th>purpose</th>\n",
       "    </tr>\n",
       "  </thead>\n",
       "  <tbody>\n",
       "    <tr>\n",
       "      <td>0</td>\n",
       "      <td>1</td>\n",
       "      <td>-8437.673028</td>\n",
       "      <td>42</td>\n",
       "      <td>высшее</td>\n",
       "      <td>0</td>\n",
       "      <td>женат / замужем</td>\n",
       "      <td>0</td>\n",
       "      <td>F</td>\n",
       "      <td>сотрудник</td>\n",
       "      <td>0</td>\n",
       "      <td>253875.639453</td>\n",
       "      <td>покупка жилья</td>\n",
       "    </tr>\n",
       "    <tr>\n",
       "      <td>1</td>\n",
       "      <td>1</td>\n",
       "      <td>-4024.803754</td>\n",
       "      <td>36</td>\n",
       "      <td>среднее</td>\n",
       "      <td>1</td>\n",
       "      <td>женат / замужем</td>\n",
       "      <td>0</td>\n",
       "      <td>F</td>\n",
       "      <td>сотрудник</td>\n",
       "      <td>0</td>\n",
       "      <td>112080.014102</td>\n",
       "      <td>приобретение автомобиля</td>\n",
       "    </tr>\n",
       "    <tr>\n",
       "      <td>2</td>\n",
       "      <td>0</td>\n",
       "      <td>-5623.422610</td>\n",
       "      <td>33</td>\n",
       "      <td>Среднее</td>\n",
       "      <td>1</td>\n",
       "      <td>женат / замужем</td>\n",
       "      <td>0</td>\n",
       "      <td>M</td>\n",
       "      <td>сотрудник</td>\n",
       "      <td>0</td>\n",
       "      <td>145885.952297</td>\n",
       "      <td>покупка жилья</td>\n",
       "    </tr>\n",
       "    <tr>\n",
       "      <td>3</td>\n",
       "      <td>3</td>\n",
       "      <td>-4124.747207</td>\n",
       "      <td>32</td>\n",
       "      <td>среднее</td>\n",
       "      <td>1</td>\n",
       "      <td>женат / замужем</td>\n",
       "      <td>0</td>\n",
       "      <td>M</td>\n",
       "      <td>сотрудник</td>\n",
       "      <td>0</td>\n",
       "      <td>267628.550329</td>\n",
       "      <td>дополнительное образование</td>\n",
       "    </tr>\n",
       "    <tr>\n",
       "      <td>4</td>\n",
       "      <td>0</td>\n",
       "      <td>340266.072047</td>\n",
       "      <td>53</td>\n",
       "      <td>среднее</td>\n",
       "      <td>1</td>\n",
       "      <td>гражданский брак</td>\n",
       "      <td>1</td>\n",
       "      <td>F</td>\n",
       "      <td>пенсионер</td>\n",
       "      <td>0</td>\n",
       "      <td>158616.077870</td>\n",
       "      <td>сыграть свадьбу</td>\n",
       "    </tr>\n",
       "    <tr>\n",
       "      <td>5</td>\n",
       "      <td>0</td>\n",
       "      <td>-926.185831</td>\n",
       "      <td>27</td>\n",
       "      <td>высшее</td>\n",
       "      <td>0</td>\n",
       "      <td>гражданский брак</td>\n",
       "      <td>1</td>\n",
       "      <td>M</td>\n",
       "      <td>компаньон</td>\n",
       "      <td>0</td>\n",
       "      <td>255763.565419</td>\n",
       "      <td>покупка жилья</td>\n",
       "    </tr>\n",
       "    <tr>\n",
       "      <td>6</td>\n",
       "      <td>0</td>\n",
       "      <td>-2879.202052</td>\n",
       "      <td>43</td>\n",
       "      <td>высшее</td>\n",
       "      <td>0</td>\n",
       "      <td>женат / замужем</td>\n",
       "      <td>0</td>\n",
       "      <td>F</td>\n",
       "      <td>компаньон</td>\n",
       "      <td>0</td>\n",
       "      <td>240525.971920</td>\n",
       "      <td>операции с жильем</td>\n",
       "    </tr>\n",
       "    <tr>\n",
       "      <td>7</td>\n",
       "      <td>0</td>\n",
       "      <td>-152.779569</td>\n",
       "      <td>50</td>\n",
       "      <td>СРЕДНЕЕ</td>\n",
       "      <td>1</td>\n",
       "      <td>женат / замужем</td>\n",
       "      <td>0</td>\n",
       "      <td>M</td>\n",
       "      <td>сотрудник</td>\n",
       "      <td>0</td>\n",
       "      <td>135823.934197</td>\n",
       "      <td>образование</td>\n",
       "    </tr>\n",
       "    <tr>\n",
       "      <td>8</td>\n",
       "      <td>2</td>\n",
       "      <td>-6929.865299</td>\n",
       "      <td>35</td>\n",
       "      <td>ВЫСШЕЕ</td>\n",
       "      <td>0</td>\n",
       "      <td>гражданский брак</td>\n",
       "      <td>1</td>\n",
       "      <td>F</td>\n",
       "      <td>сотрудник</td>\n",
       "      <td>0</td>\n",
       "      <td>95856.832424</td>\n",
       "      <td>на проведение свадьбы</td>\n",
       "    </tr>\n",
       "    <tr>\n",
       "      <td>9</td>\n",
       "      <td>0</td>\n",
       "      <td>-2188.756445</td>\n",
       "      <td>41</td>\n",
       "      <td>среднее</td>\n",
       "      <td>1</td>\n",
       "      <td>женат / замужем</td>\n",
       "      <td>0</td>\n",
       "      <td>M</td>\n",
       "      <td>сотрудник</td>\n",
       "      <td>0</td>\n",
       "      <td>144425.938277</td>\n",
       "      <td>покупка жилья для семьи</td>\n",
       "    </tr>\n",
       "    <tr>\n",
       "      <td>10</td>\n",
       "      <td>2</td>\n",
       "      <td>-4171.483647</td>\n",
       "      <td>36</td>\n",
       "      <td>высшее</td>\n",
       "      <td>0</td>\n",
       "      <td>женат / замужем</td>\n",
       "      <td>0</td>\n",
       "      <td>M</td>\n",
       "      <td>компаньон</td>\n",
       "      <td>0</td>\n",
       "      <td>113943.491460</td>\n",
       "      <td>покупка недвижимости</td>\n",
       "    </tr>\n",
       "    <tr>\n",
       "      <td>11</td>\n",
       "      <td>0</td>\n",
       "      <td>-792.701887</td>\n",
       "      <td>40</td>\n",
       "      <td>среднее</td>\n",
       "      <td>1</td>\n",
       "      <td>женат / замужем</td>\n",
       "      <td>0</td>\n",
       "      <td>F</td>\n",
       "      <td>сотрудник</td>\n",
       "      <td>0</td>\n",
       "      <td>77069.234271</td>\n",
       "      <td>покупка коммерческой недвижимости</td>\n",
       "    </tr>\n",
       "    <tr>\n",
       "      <td>12</td>\n",
       "      <td>0</td>\n",
       "      <td>NaN</td>\n",
       "      <td>65</td>\n",
       "      <td>среднее</td>\n",
       "      <td>1</td>\n",
       "      <td>гражданский брак</td>\n",
       "      <td>1</td>\n",
       "      <td>M</td>\n",
       "      <td>пенсионер</td>\n",
       "      <td>0</td>\n",
       "      <td>NaN</td>\n",
       "      <td>сыграть свадьбу</td>\n",
       "    </tr>\n",
       "    <tr>\n",
       "      <td>13</td>\n",
       "      <td>0</td>\n",
       "      <td>-1846.641941</td>\n",
       "      <td>54</td>\n",
       "      <td>неоконченное высшее</td>\n",
       "      <td>2</td>\n",
       "      <td>женат / замужем</td>\n",
       "      <td>0</td>\n",
       "      <td>F</td>\n",
       "      <td>сотрудник</td>\n",
       "      <td>0</td>\n",
       "      <td>130458.228857</td>\n",
       "      <td>приобретение автомобиля</td>\n",
       "    </tr>\n",
       "    <tr>\n",
       "      <td>14</td>\n",
       "      <td>0</td>\n",
       "      <td>-1844.956182</td>\n",
       "      <td>56</td>\n",
       "      <td>высшее</td>\n",
       "      <td>0</td>\n",
       "      <td>гражданский брак</td>\n",
       "      <td>1</td>\n",
       "      <td>F</td>\n",
       "      <td>компаньон</td>\n",
       "      <td>1</td>\n",
       "      <td>165127.911772</td>\n",
       "      <td>покупка жилой недвижимости</td>\n",
       "    </tr>\n",
       "  </tbody>\n",
       "</table>\n",
       "</div>"
      ],
      "text/plain": [
       "    children  days_employed  dob_years            education  education_id  \\\n",
       "0          1   -8437.673028         42               высшее             0   \n",
       "1          1   -4024.803754         36              среднее             1   \n",
       "2          0   -5623.422610         33              Среднее             1   \n",
       "3          3   -4124.747207         32              среднее             1   \n",
       "4          0  340266.072047         53              среднее             1   \n",
       "5          0    -926.185831         27               высшее             0   \n",
       "6          0   -2879.202052         43               высшее             0   \n",
       "7          0    -152.779569         50              СРЕДНЕЕ             1   \n",
       "8          2   -6929.865299         35               ВЫСШЕЕ             0   \n",
       "9          0   -2188.756445         41              среднее             1   \n",
       "10         2   -4171.483647         36               высшее             0   \n",
       "11         0    -792.701887         40              среднее             1   \n",
       "12         0            NaN         65              среднее             1   \n",
       "13         0   -1846.641941         54  неоконченное высшее             2   \n",
       "14         0   -1844.956182         56               высшее             0   \n",
       "\n",
       "       family_status  family_status_id gender income_type  debt  \\\n",
       "0    женат / замужем                 0      F   сотрудник     0   \n",
       "1    женат / замужем                 0      F   сотрудник     0   \n",
       "2    женат / замужем                 0      M   сотрудник     0   \n",
       "3    женат / замужем                 0      M   сотрудник     0   \n",
       "4   гражданский брак                 1      F   пенсионер     0   \n",
       "5   гражданский брак                 1      M   компаньон     0   \n",
       "6    женат / замужем                 0      F   компаньон     0   \n",
       "7    женат / замужем                 0      M   сотрудник     0   \n",
       "8   гражданский брак                 1      F   сотрудник     0   \n",
       "9    женат / замужем                 0      M   сотрудник     0   \n",
       "10   женат / замужем                 0      M   компаньон     0   \n",
       "11   женат / замужем                 0      F   сотрудник     0   \n",
       "12  гражданский брак                 1      M   пенсионер     0   \n",
       "13   женат / замужем                 0      F   сотрудник     0   \n",
       "14  гражданский брак                 1      F   компаньон     1   \n",
       "\n",
       "     total_income                            purpose  \n",
       "0   253875.639453                      покупка жилья  \n",
       "1   112080.014102            приобретение автомобиля  \n",
       "2   145885.952297                      покупка жилья  \n",
       "3   267628.550329         дополнительное образование  \n",
       "4   158616.077870                    сыграть свадьбу  \n",
       "5   255763.565419                      покупка жилья  \n",
       "6   240525.971920                  операции с жильем  \n",
       "7   135823.934197                        образование  \n",
       "8    95856.832424              на проведение свадьбы  \n",
       "9   144425.938277            покупка жилья для семьи  \n",
       "10  113943.491460               покупка недвижимости  \n",
       "11   77069.234271  покупка коммерческой недвижимости  \n",
       "12            NaN                    сыграть свадьбу  \n",
       "13  130458.228857            приобретение автомобиля  \n",
       "14  165127.911772         покупка жилой недвижимости  "
      ]
     },
     "execution_count": 1,
     "metadata": {},
     "output_type": "execute_result"
    }
   ],
   "source": [
    "import pandas as pd\n",
    "df = pd.read_csv('/datasets/data.csv')\n",
    "df.head(15)"
   ]
  },
  {
   "cell_type": "markdown",
   "metadata": {
    "id": "4oiRncpgSnrG"
   },
   "source": [
    "Отобразим общую информацию о датафрейме."
   ]
  },
  {
   "cell_type": "code",
   "execution_count": 2,
   "metadata": {
    "colab": {
     "base_uri": "https://localhost:8080/"
    },
    "id": "oCU4acj-SnrH",
    "outputId": "5550e0ea-4527-4f5d-9871-f4bab9032939"
   },
   "outputs": [
    {
     "name": "stdout",
     "output_type": "stream",
     "text": [
      "<class 'pandas.core.frame.DataFrame'>\n",
      "RangeIndex: 21525 entries, 0 to 21524\n",
      "Data columns (total 12 columns):\n",
      "children            21525 non-null int64\n",
      "days_employed       19351 non-null float64\n",
      "dob_years           21525 non-null int64\n",
      "education           21525 non-null object\n",
      "education_id        21525 non-null int64\n",
      "family_status       21525 non-null object\n",
      "family_status_id    21525 non-null int64\n",
      "gender              21525 non-null object\n",
      "income_type         21525 non-null object\n",
      "debt                21525 non-null int64\n",
      "total_income        19351 non-null float64\n",
      "purpose             21525 non-null object\n",
      "dtypes: float64(2), int64(5), object(5)\n",
      "memory usage: 2.0+ MB\n"
     ]
    }
   ],
   "source": [
    "df.info()"
   ]
  },
  {
   "cell_type": "markdown",
   "metadata": {
    "id": "spKg0MmrSnrH"
   },
   "source": [
    "Проведем предварительный анализ данных датафрейма."
   ]
  },
  {
   "cell_type": "markdown",
   "metadata": {
    "id": "T1m_2b9jSnrI"
   },
   "source": [
    "Отобразим уникальные значения столбца children и подсчитаем их количество."
   ]
  },
  {
   "cell_type": "code",
   "execution_count": 3,
   "metadata": {
    "colab": {
     "base_uri": "https://localhost:8080/",
     "height": 187
    },
    "id": "xAziNwAgSnrI",
    "outputId": "0c8da38c-74e1-42be-f4e8-cd66d89ba291"
   },
   "outputs": [
    {
     "data": {
      "text/plain": [
       "array([-1,  0,  1,  2,  3,  4,  5, 20])"
      ]
     },
     "metadata": {},
     "output_type": "display_data"
    },
    {
     "data": {
      "text/plain": [
       " 0     14149\n",
       " 1      4818\n",
       " 2      2055\n",
       " 3       330\n",
       " 20       76\n",
       "-1        47\n",
       " 4        41\n",
       " 5         9\n",
       "Name: children, dtype: int64"
      ]
     },
     "execution_count": 3,
     "metadata": {},
     "output_type": "execute_result"
    }
   ],
   "source": [
    "display(df['children'].sort_values().unique())\n",
    "df['children'].value_counts()"
   ]
  },
  {
   "cell_type": "markdown",
   "metadata": {
    "id": "6bIJy0dbSnrJ"
   },
   "source": [
    "Посчитаем нулевые значения в столбце days_employed."
   ]
  },
  {
   "cell_type": "code",
   "execution_count": 4,
   "metadata": {
    "colab": {
     "base_uri": "https://localhost:8080/"
    },
    "id": "LKP4DKKhSnrJ",
    "outputId": "0a108b98-9cee-4994-d67b-6cb0242cb0b8",
    "scrolled": true
   },
   "outputs": [
    {
     "data": {
      "text/plain": [
       "0"
      ]
     },
     "execution_count": 4,
     "metadata": {},
     "output_type": "execute_result"
    }
   ],
   "source": [
    "df[df['days_employed'] == 0]['days_employed'].count()"
   ]
  },
  {
   "cell_type": "markdown",
   "metadata": {
    "id": "vfqahaXXSnrK"
   },
   "source": [
    "Отобразим уникальные значения столбца education."
   ]
  },
  {
   "cell_type": "code",
   "execution_count": 5,
   "metadata": {
    "colab": {
     "base_uri": "https://localhost:8080/"
    },
    "id": "-WyOmfDmSnrK",
    "outputId": "4549f72c-c757-453a-c165-f0782eb9dd7c"
   },
   "outputs": [
    {
     "data": {
      "text/plain": [
       "array(['высшее', 'среднее', 'Среднее', 'СРЕДНЕЕ', 'ВЫСШЕЕ',\n",
       "       'неоконченное высшее', 'начальное', 'Высшее',\n",
       "       'НЕОКОНЧЕННОЕ ВЫСШЕЕ', 'Неоконченное высшее', 'НАЧАЛЬНОЕ',\n",
       "       'Начальное', 'Ученая степень', 'УЧЕНАЯ СТЕПЕНЬ', 'ученая степень'],\n",
       "      dtype=object)"
      ]
     },
     "execution_count": 5,
     "metadata": {},
     "output_type": "execute_result"
    }
   ],
   "source": [
    "df['education'].unique()"
   ]
  },
  {
   "cell_type": "markdown",
   "metadata": {
    "id": "IRRqHkLaSnrK"
   },
   "source": [
    "Отобразим уникальные значения в столбце dob_years и посчитаем нулевые значения."
   ]
  },
  {
   "cell_type": "code",
   "execution_count": 6,
   "metadata": {
    "colab": {
     "base_uri": "https://localhost:8080/"
    },
    "id": "-50ixyNvSnrL",
    "outputId": "ec639926-9704-4606-b172-d197280e2276",
    "scrolled": true
   },
   "outputs": [
    {
     "name": "stdout",
     "output_type": "stream",
     "text": [
      "[0, 19, 20, 21, 22, 23, 24, 25, 26, 27, 28, 29, 30, 31, 32, 33, 34, 35, 36, 37, 38, 39, 40, 41, 42, 43, 44, 45, 46, 47, 48, 49, 50, 51, 52, 53, 54, 55, 56, 57, 58, 59, 60, 61, 62, 63, 64, 65, 66, 67, 68, 69, 70, 71, 72, 73, 74, 75]\n"
     ]
    },
    {
     "data": {
      "text/plain": [
       "101"
      ]
     },
     "execution_count": 6,
     "metadata": {},
     "output_type": "execute_result"
    }
   ],
   "source": [
    "print(sorted(df['dob_years'].unique()))\n",
    "df[df['dob_years'] == 0]['dob_years'].count()"
   ]
  },
  {
   "cell_type": "markdown",
   "metadata": {
    "id": "V8giBDlDSnrL"
   },
   "source": [
    "Отобразим уникальные значения в столбце family_status."
   ]
  },
  {
   "cell_type": "code",
   "execution_count": 7,
   "metadata": {
    "colab": {
     "base_uri": "https://localhost:8080/"
    },
    "id": "IVOhD25gSnrL",
    "outputId": "f0634d49-139b-4ee2-f089-439e2817d082"
   },
   "outputs": [
    {
     "data": {
      "text/plain": [
       "['Не женат / не замужем',\n",
       " 'в разводе',\n",
       " 'вдовец / вдова',\n",
       " 'гражданский брак',\n",
       " 'женат / замужем']"
      ]
     },
     "execution_count": 7,
     "metadata": {},
     "output_type": "execute_result"
    }
   ],
   "source": [
    "sorted(df['family_status'].unique())"
   ]
  },
  {
   "cell_type": "markdown",
   "metadata": {
    "id": "QiaxbUCASnrM"
   },
   "source": [
    "Отобразим уникальные значения в столбце gender посчитаем их количество."
   ]
  },
  {
   "cell_type": "code",
   "execution_count": 8,
   "metadata": {
    "colab": {
     "base_uri": "https://localhost:8080/"
    },
    "id": "_wID5Ot-SnrM",
    "outputId": "22851b34-1cd5-4391-9a4f-ea6bd5dac0b1"
   },
   "outputs": [
    {
     "name": "stdout",
     "output_type": "stream",
     "text": [
      "['F', 'M', 'XNA']\n"
     ]
    },
    {
     "data": {
      "text/plain": [
       "F      14236\n",
       "M       7288\n",
       "XNA        1\n",
       "Name: gender, dtype: int64"
      ]
     },
     "execution_count": 8,
     "metadata": {},
     "output_type": "execute_result"
    }
   ],
   "source": [
    "print(sorted(df['gender'].unique()))\n",
    "df['gender'].value_counts()"
   ]
  },
  {
   "cell_type": "markdown",
   "metadata": {
    "id": "gyKmhKS4SnrN"
   },
   "source": [
    "Отобразим уникальные значения в столбце income_type."
   ]
  },
  {
   "cell_type": "code",
   "execution_count": 9,
   "metadata": {
    "colab": {
     "base_uri": "https://localhost:8080/"
    },
    "id": "2GwcWevrSnrN",
    "outputId": "de2bdfda-d260-4cb7-877c-7c3ef95cba11"
   },
   "outputs": [
    {
     "data": {
      "text/plain": [
       "['безработный',\n",
       " 'в декрете',\n",
       " 'госслужащий',\n",
       " 'компаньон',\n",
       " 'пенсионер',\n",
       " 'предприниматель',\n",
       " 'сотрудник',\n",
       " 'студент']"
      ]
     },
     "execution_count": 9,
     "metadata": {},
     "output_type": "execute_result"
    }
   ],
   "source": [
    "sorted(df['income_type'].unique())"
   ]
  },
  {
   "cell_type": "markdown",
   "metadata": {
    "id": "A0k45SZfSnrO"
   },
   "source": [
    "Посчитаем нулевые значения в столбце total_income."
   ]
  },
  {
   "cell_type": "code",
   "execution_count": 10,
   "metadata": {
    "colab": {
     "base_uri": "https://localhost:8080/"
    },
    "id": "bvfKgndhSnrO",
    "outputId": "6fdb6409-c7e8-43a2-aac6-d884b044c321"
   },
   "outputs": [
    {
     "data": {
      "text/plain": [
       "0"
      ]
     },
     "execution_count": 10,
     "metadata": {},
     "output_type": "execute_result"
    }
   ],
   "source": [
    "df[df['total_income'] == 0]['total_income'].count()"
   ]
  },
  {
   "cell_type": "markdown",
   "metadata": {
    "id": "B2wqwy1_SnrO"
   },
   "source": [
    "Отобразим уникальные значения в столбце purpose."
   ]
  },
  {
   "cell_type": "code",
   "execution_count": 11,
   "metadata": {
    "colab": {
     "base_uri": "https://localhost:8080/"
    },
    "id": "Y7Vi2e8OSnrP",
    "outputId": "2afc095b-6674-44ab-eaf0-0731186018cb"
   },
   "outputs": [
    {
     "name": "stdout",
     "output_type": "stream",
     "text": [
      "['автомобили', 'автомобиль', 'высшее образование', 'дополнительное образование', 'жилье', 'заняться высшим образованием', 'заняться образованием', 'на покупку автомобиля', 'на покупку подержанного автомобиля', 'на покупку своего автомобиля', 'на проведение свадьбы', 'недвижимость', 'образование', 'операции с жильем', 'операции с коммерческой недвижимостью', 'операции с недвижимостью', 'операции со своей недвижимостью', 'покупка жилой недвижимости', 'покупка жилья', 'покупка жилья для сдачи', 'покупка жилья для семьи', 'покупка коммерческой недвижимости', 'покупка недвижимости', 'покупка своего жилья', 'получение высшего образования', 'получение дополнительного образования', 'получение образования', 'приобретение автомобиля', 'профильное образование', 'ремонт жилью', 'свадьба', 'свой автомобиль', 'сделка с автомобилем', 'сделка с подержанным автомобилем', 'строительство жилой недвижимости', 'строительство недвижимости', 'строительство собственной недвижимости', 'сыграть свадьбу']\n"
     ]
    }
   ],
   "source": [
    "print(sorted(df['purpose'].unique()))"
   ]
  },
  {
   "cell_type": "markdown",
   "metadata": {
    "id": "AKvZtUEmSnrQ"
   },
   "source": [
    "**Вывод**"
   ]
  },
  {
   "cell_type": "markdown",
   "metadata": {
    "id": "BNRa0UfESnrQ"
   },
   "source": [
    "Анализ таблицы показал: \n",
    "1. Датафрейм содержит 21525 строк и 12 столбцов, в них содержатся данные различных форматов: целочисленный, вещественный, строковый. \n",
    "2. В столбцах days_employed и total_income содержатся пропуски типа NaN и не содержится нулевых значений. Кроме этого в столбце \"общий трудовой стаж в днях\" содержатся артефакты: часть значений приведена с отрицательным знаком, а часть положительна, но имеет неадекватно большую величиную. \n",
    "3. В столбце dob_years обнаружен некорректный возраст заёмщика 0 лет, но количество таких значений невелико (101 значение).\n",
    "4. В столбце children обнаружены некорректные значения признака: -1 и 20.\n",
    "5. В столбце gender найден один признак с неопознанным значением XNA в количестве 1 штука.\n",
    "6. В столбцах \"уровень образования клиента\" и \"семейное положение\" присутствуют данные заполненные в разном регистре.\n",
    "7. Столбец цель кредита требует проведения лемматизации."
   ]
  },
  {
   "cell_type": "markdown",
   "metadata": {
    "id": "J4jgjREuSnrR"
   },
   "source": [
    "## Шаг 2. Предобработка данных"
   ]
  },
  {
   "cell_type": "markdown",
   "metadata": {
    "id": "TQo-GzjBSnrS"
   },
   "source": [
    "### Обработка пропусков"
   ]
  },
  {
   "cell_type": "markdown",
   "metadata": {
    "id": "kwvwyqMDSnrS"
   },
   "source": [
    "Обработаем пропущенные и нулевые значения, обнаруженные на стадии предварительной обработки."
   ]
  },
  {
   "cell_type": "markdown",
   "metadata": {
    "id": "51E40PEUSnrS"
   },
   "source": [
    "#### Замена пропущенных значений в столбцах общий трудовой стаж и ежемесячный доход"
   ]
  },
  {
   "cell_type": "markdown",
   "metadata": {
    "id": "tl-_m_0gSnrS"
   },
   "source": [
    "Проверим связаны ли пропуски в столбцах  days_employed и total_income (находятся ли они в одной строке) и как они связаны с типом занятости."
   ]
  },
  {
   "cell_type": "markdown",
   "metadata": {
    "id": "lzJbcysjSnrT"
   },
   "source": [
    "Определим количество пропущенных значений."
   ]
  },
  {
   "cell_type": "code",
   "execution_count": 12,
   "metadata": {
    "colab": {
     "base_uri": "https://localhost:8080/"
    },
    "id": "i5Zd3-wLSnrT",
    "outputId": "47917af8-706f-43f9-ed2f-96df28440d6a"
   },
   "outputs": [
    {
     "data": {
      "text/plain": [
       "children               0\n",
       "days_employed       2174\n",
       "dob_years              0\n",
       "education              0\n",
       "education_id           0\n",
       "family_status          0\n",
       "family_status_id       0\n",
       "gender                 0\n",
       "income_type            0\n",
       "debt                   0\n",
       "total_income        2174\n",
       "purpose                0\n",
       "dtype: int64"
      ]
     },
     "execution_count": 12,
     "metadata": {},
     "output_type": "execute_result"
    }
   ],
   "source": [
    "df.isna().sum()"
   ]
  },
  {
   "cell_type": "markdown",
   "metadata": {
    "id": "gjF1CbUY1Fsd"
   },
   "source": [
    "Оценим долю пропущенных значений."
   ]
  },
  {
   "cell_type": "code",
   "execution_count": 13,
   "metadata": {
    "colab": {
     "base_uri": "https://localhost:8080/"
    },
    "id": "7ZJfVYd01OcN",
    "outputId": "de223c33-3999-4306-d556-548c2d30d580"
   },
   "outputs": [
    {
     "data": {
      "text/plain": [
       "children            0.000000\n",
       "days_employed       0.100999\n",
       "dob_years           0.000000\n",
       "education           0.000000\n",
       "education_id        0.000000\n",
       "family_status       0.000000\n",
       "family_status_id    0.000000\n",
       "gender              0.000000\n",
       "income_type         0.000000\n",
       "debt                0.000000\n",
       "total_income        0.100999\n",
       "purpose             0.000000\n",
       "dtype: float64"
      ]
     },
     "execution_count": 13,
     "metadata": {},
     "output_type": "execute_result"
    }
   ],
   "source": [
    "df.isna().mean()"
   ]
  },
  {
   "cell_type": "markdown",
   "metadata": {
    "id": "LkjElF7GSnrU"
   },
   "source": [
    "Определим связаны ли друг с другом пропущенные значения в столбцах days_employed и total_income."
   ]
  },
  {
   "cell_type": "code",
   "execution_count": 15,
   "metadata": {
    "scrolled": true
   },
   "outputs": [
    {
     "data": {
      "text/plain": [
       "children            2174\n",
       "days_employed          0\n",
       "dob_years           2174\n",
       "education           2174\n",
       "education_id        2174\n",
       "family_status       2174\n",
       "family_status_id    2174\n",
       "gender              2174\n",
       "income_type         2174\n",
       "debt                2174\n",
       "total_income           0\n",
       "purpose             2174\n",
       "dtype: int64"
      ]
     },
     "execution_count": 15,
     "metadata": {},
     "output_type": "execute_result"
    }
   ],
   "source": [
    "df[(df['days_employed'].isna()) & (df['total_income'].isna())].count()"
   ]
  },
  {
   "cell_type": "markdown",
   "metadata": {
    "id": "lqPvnu_3SnrU"
   },
   "source": [
    "Определим как связаны пропущенные значения в столбце total_income и типом занятости в столбце income_type."
   ]
  },
  {
   "cell_type": "code",
   "execution_count": 17,
   "metadata": {},
   "outputs": [
    {
     "data": {
      "text/plain": [
       "сотрудник          1105\n",
       "компаньон           508\n",
       "пенсионер           413\n",
       "госслужащий         147\n",
       "предприниматель       1\n",
       "Name: income_type, dtype: int64"
      ]
     },
     "execution_count": 17,
     "metadata": {},
     "output_type": "execute_result"
    }
   ],
   "source": [
    "df[df['total_income'].isna()]['income_type'].value_counts()"
   ]
  },
  {
   "cell_type": "markdown",
   "metadata": {
    "id": "XacTy7z0SnrV"
   },
   "source": [
    "Результаты показывают, что пропуски в столбцах days_employed и total_income связаны друг с другом и не связаны каким-либо одним типом занятости, а распределены между признаками: сотрудник, компаньон, пенсионер, госслужащий, предприниматель. Вероятно, что появление пропусков связано с техническими причинами и носит случайный характер."
   ]
  },
  {
   "cell_type": "markdown",
   "metadata": {
    "id": "a3pPy6_iSnrT"
   },
   "source": [
    "Заменим пропущенные значения на 0, проверим все ли пропущенные значения исправлены."
   ]
  },
  {
   "cell_type": "code",
   "execution_count": 18,
   "metadata": {
    "colab": {
     "base_uri": "https://localhost:8080/"
    },
    "id": "KrjIboeMSnrT",
    "outputId": "32cdc3f5-1eec-4b9b-eecb-b2126494705b",
    "scrolled": true
   },
   "outputs": [
    {
     "data": {
      "text/plain": [
       "children            0\n",
       "days_employed       0\n",
       "dob_years           0\n",
       "education           0\n",
       "education_id        0\n",
       "family_status       0\n",
       "family_status_id    0\n",
       "gender              0\n",
       "income_type         0\n",
       "debt                0\n",
       "total_income        0\n",
       "purpose             0\n",
       "dtype: int64"
      ]
     },
     "execution_count": 18,
     "metadata": {},
     "output_type": "execute_result"
    }
   ],
   "source": [
    "df = df.fillna(0)\n",
    "df.isna().sum()"
   ]
  },
  {
   "cell_type": "markdown",
   "metadata": {
    "id": "A5kABETlSnrV"
   },
   "source": [
    "#### Замена пропущенных значений в столбце ежемесячный доход"
   ]
  },
  {
   "cell_type": "markdown",
   "metadata": {
    "id": "-mSjZotjSnrV"
   },
   "source": [
    "Заменим нулевые значения в столбце ежемесячный доход характерными значениями. \n",
    "\n",
    "Для этого найдём среднее и медианное значение для всего столбца, а также средние и медианныые значения для типов занятости."
   ]
  },
  {
   "cell_type": "code",
   "execution_count": 19,
   "metadata": {
    "colab": {
     "base_uri": "https://localhost:8080/"
    },
    "id": "uniw2TxRSnrW",
    "outputId": "56acac40-1bbe-49b2-d519-1b03d6219928"
   },
   "outputs": [
    {
     "name": "stdout",
     "output_type": "stream",
     "text": [
      "Средний ежемесячный доход по всей выборке: 150512.84413613725\n",
      "Медианный ежемесячный доход по всей выборке: 135514.71128002706\n"
     ]
    }
   ],
   "source": [
    "# определим средний ежемесячный доход по всей выборке\n",
    "total_income_mean = df['total_income'].mean()\n",
    "print(f'Средний ежемесячный доход по всей выборке: {total_income_mean}')\n",
    "\n",
    "# определим медианный ежемесячный доход по всей выборке\n",
    "total_income_median = df['total_income'].median()\n",
    "print(f'Медианный ежемесячный доход по всей выборке: {total_income_median}')\n"
   ]
  },
  {
   "cell_type": "markdown",
   "metadata": {},
   "source": [
    "Найдём среднее и медианное значения ежемесячного дохода для каждой категории занятости и сравним их друг с другом."
   ]
  },
  {
   "cell_type": "code",
   "execution_count": 20,
   "metadata": {
    "colab": {
     "base_uri": "https://localhost:8080/",
     "height": 328
    },
    "id": "7AdZvG-s3f2n",
    "outputId": "5ac675c9-17ba-41af-f7f2-3e33bbe54497"
   },
   "outputs": [
    {
     "data": {
      "text/html": [
       "<div>\n",
       "<style scoped>\n",
       "    .dataframe tbody tr th:only-of-type {\n",
       "        vertical-align: middle;\n",
       "    }\n",
       "\n",
       "    .dataframe tbody tr th {\n",
       "        vertical-align: top;\n",
       "    }\n",
       "\n",
       "    .dataframe thead th {\n",
       "        text-align: right;\n",
       "    }\n",
       "</style>\n",
       "<table border=\"1\" class=\"dataframe\">\n",
       "  <thead>\n",
       "    <tr style=\"text-align: right;\">\n",
       "      <th></th>\n",
       "      <th>mean</th>\n",
       "      <th>median</th>\n",
       "    </tr>\n",
       "    <tr>\n",
       "      <th>income_type</th>\n",
       "      <th></th>\n",
       "      <th></th>\n",
       "    </tr>\n",
       "  </thead>\n",
       "  <tbody>\n",
       "    <tr>\n",
       "      <td>предприниматель</td>\n",
       "      <td>249581.572474</td>\n",
       "      <td>249581.572474</td>\n",
       "    </tr>\n",
       "    <tr>\n",
       "      <td>компаньон</td>\n",
       "      <td>182195.618704</td>\n",
       "      <td>162401.351555</td>\n",
       "    </tr>\n",
       "    <tr>\n",
       "      <td>госслужащий</td>\n",
       "      <td>153679.631678</td>\n",
       "      <td>139034.452386</td>\n",
       "    </tr>\n",
       "    <tr>\n",
       "      <td>сотрудник</td>\n",
       "      <td>145342.380477</td>\n",
       "      <td>133546.457238</td>\n",
       "    </tr>\n",
       "    <tr>\n",
       "      <td>безработный</td>\n",
       "      <td>131339.751676</td>\n",
       "      <td>131339.751676</td>\n",
       "    </tr>\n",
       "    <tr>\n",
       "      <td>пенсионер</td>\n",
       "      <td>122440.317524</td>\n",
       "      <td>110179.690761</td>\n",
       "    </tr>\n",
       "    <tr>\n",
       "      <td>студент</td>\n",
       "      <td>98201.625314</td>\n",
       "      <td>98201.625314</td>\n",
       "    </tr>\n",
       "    <tr>\n",
       "      <td>в декрете</td>\n",
       "      <td>53829.130729</td>\n",
       "      <td>53829.130729</td>\n",
       "    </tr>\n",
       "  </tbody>\n",
       "</table>\n",
       "</div>"
      ],
      "text/plain": [
       "                          mean         median\n",
       "income_type                                  \n",
       "предприниматель  249581.572474  249581.572474\n",
       "компаньон        182195.618704  162401.351555\n",
       "госслужащий      153679.631678  139034.452386\n",
       "сотрудник        145342.380477  133546.457238\n",
       "безработный      131339.751676  131339.751676\n",
       "пенсионер        122440.317524  110179.690761\n",
       "студент           98201.625314   98201.625314\n",
       "в декрете         53829.130729   53829.130729"
      ]
     },
     "execution_count": 20,
     "metadata": {},
     "output_type": "execute_result"
    }
   ],
   "source": [
    "df.groupby('income_type')['total_income'].agg(['mean', 'median']).sort_values(by = 'mean', ascending=False)"
   ]
  },
  {
   "cell_type": "markdown",
   "metadata": {
    "id": "Pazw4_NoSnrW"
   },
   "source": [
    "Из полученных данных видно, что в целом по столбцу ежемесячный доход наблюдается заметное отличие среднего значения от медианного и это говорит о наличии выраженного неравенства в доходах по разным категориям заёмщиков. Данное наблюдение подтверждается и тем, что средние и медианные значения, вычисленные для различных категорий могут отличаться больше, чем в два раза. Например, медианный ежемесячный доход категории пенсионер равен 110179.69, а категории предприниматель - 249581.57. Данные результаты говорят, что для замены нулевых значений лучше использовать медианные значения, вычисленные в зависимости от категории."
   ]
  },
  {
   "cell_type": "markdown",
   "metadata": {
    "id": "kbXcWqjTSnrX"
   },
   "source": [
    "Заменим нулевые значения в столбце income_type на медианные в зависимости от категории заёмщика и проверим остались ли нулевые значения."
   ]
  },
  {
   "cell_type": "code",
   "execution_count": 21,
   "metadata": {
    "colab": {
     "base_uri": "https://localhost:8080/"
    },
    "id": "Esk6mJYDSnrX",
    "outputId": "7917ba9a-62d9-410e-b16c-47b5ca4cf5a6",
    "scrolled": true
   },
   "outputs": [
    {
     "data": {
      "text/plain": [
       "0"
      ]
     },
     "execution_count": 21,
     "metadata": {},
     "output_type": "execute_result"
    }
   ],
   "source": [
    "income_type_analyze = ['сотрудник', 'компаньон', 'пенсионер', 'госслужащий', 'предприниматель']\n",
    "\n",
    "for item2 in income_type_analyze:\n",
    "    total_income_item_median2 = df[df['income_type'] == item2]['total_income'].median()\n",
    "    df.loc[(df['income_type'] == item2) & (df['total_income'] == 0), 'total_income'] = total_income_item_median2\n",
    "    \n",
    "df[df['total_income'] == 0]['income_type'].count()"
   ]
  },
  {
   "cell_type": "markdown",
   "metadata": {
    "id": "LJUaqZ_oSnrX"
   },
   "source": [
    "#### Замена нулевых значений в столбце общий трудовой стаж"
   ]
  },
  {
   "cell_type": "markdown",
   "metadata": {
    "id": "I5cYe2keSnrY"
   },
   "source": [
    "Заменим нулевые значения в столбце  days_employed. \n",
    "\n",
    "Предварительный анализ таблицы показал, что в данном столбце содержатся как положительные, так и отрицательные значения, причем отрицательные значения (за исключением их знака) выглядят более реалистично. Предположим, что изначально все данные о трудовом стаже вводились в годах со знаком минус. После этого домножались на количество дней в году, об этом мы можем судить по представленным отрицательным значениям. Положительные значения большой величины могли образоваться, например, при возведении в квадрат количества лет стажа (изначально отрицательного), и последовательного умножения на количество дней в году. Для проверки данной гипотезы разделим положительные значения на 365, возьмем квадратный корень из полученного числа, так мы получим стаж в годах, после чего умножим на 365 и получим исправленный стаж в днях. Данное выражение можно упростить до умножения квадратного корня числа и квадратного корня 365 (равен примерно 19.1)."
   ]
  },
  {
   "cell_type": "markdown",
   "metadata": {},
   "source": [
    "Произведем вычисления, выведем максимальное и минимальное значения на экран, а также определим в каких категориях находятся данные пропуски."
   ]
  },
  {
   "cell_type": "code",
   "execution_count": 22,
   "metadata": {},
   "outputs": [
    {
     "data": {
      "text/plain": [
       "12106.37797391958"
      ]
     },
     "metadata": {},
     "output_type": "display_data"
    },
    {
     "data": {
      "text/plain": [
       "10950.959983660534"
      ]
     },
     "metadata": {},
     "output_type": "display_data"
    },
    {
     "data": {
      "text/plain": [
       "пенсионер      3443\n",
       "безработный       2\n",
       "Name: income_type, dtype: int64"
      ]
     },
     "execution_count": 22,
     "metadata": {},
     "output_type": "execute_result"
    }
   ],
   "source": [
    "days_employed_positive = df[df['days_employed'] > 0]['days_employed']\n",
    "days_employed_positive = (days_employed_positive ** 0.5) * 19.1\n",
    "\n",
    "display(days_employed_positive.max())\n",
    "display(days_employed_positive.min())\n",
    "df[df['days_employed'] > 0]['income_type'].value_counts()"
   ]
  },
  {
   "cell_type": "markdown",
   "metadata": {},
   "source": [
    "Полученные результаты говорят, что после преобразования, стаж работы находится в интервале от 30 до 33 лет. Учитывая, что эти значения, в основном, принадлежат категории пенсионер, то можно принять выдвинутую выше гипотезу, как верную."
   ]
  },
  {
   "cell_type": "markdown",
   "metadata": {},
   "source": [
    "Заменим положительные значения датафрейма на значения, полученные в результате преобразования. Проверим максимальное значение столбца 'days_employed' после замены."
   ]
  },
  {
   "cell_type": "code",
   "execution_count": 23,
   "metadata": {},
   "outputs": [
    {
     "data": {
      "text/plain": [
       "12106.37797391958"
      ]
     },
     "execution_count": 23,
     "metadata": {},
     "output_type": "execute_result"
    }
   ],
   "source": [
    "df.loc[df['days_employed'] > 0, 'days_employed'] = days_employed_positive\n",
    "\n",
    "df['days_employed'].max()"
   ]
  },
  {
   "cell_type": "markdown",
   "metadata": {},
   "source": [
    "Можно видеть, что числа преобразовались."
   ]
  },
  {
   "cell_type": "markdown",
   "metadata": {},
   "source": [
    "Возьмем отрицательные значения в столбце days_employed по модулю и проверим минимальное значение столбца после замены."
   ]
  },
  {
   "cell_type": "code",
   "execution_count": 24,
   "metadata": {},
   "outputs": [
    {
     "data": {
      "text/plain": [
       "0.0"
      ]
     },
     "execution_count": 24,
     "metadata": {},
     "output_type": "execute_result"
    }
   ],
   "source": [
    "days_employed_negative = df[df['days_employed'] < 0]['days_employed']\n",
    "days_employed_negative = abs(days_employed_negative)\n",
    "\n",
    "df.loc[df['days_employed'] < 0, 'days_employed'] = days_employed_negative\n",
    "df['days_employed'].min()"
   ]
  },
  {
   "cell_type": "markdown",
   "metadata": {},
   "source": [
    "Как можно видеть, отрицательные значения преобразовались."
   ]
  },
  {
   "cell_type": "markdown",
   "metadata": {},
   "source": [
    "Выведем на экран средние и медианные значения стажа работы для каждой категории заемщиков."
   ]
  },
  {
   "cell_type": "code",
   "execution_count": 25,
   "metadata": {},
   "outputs": [
    {
     "data": {
      "text/html": [
       "<div>\n",
       "<style scoped>\n",
       "    .dataframe tbody tr th:only-of-type {\n",
       "        vertical-align: middle;\n",
       "    }\n",
       "\n",
       "    .dataframe tbody tr th {\n",
       "        vertical-align: top;\n",
       "    }\n",
       "\n",
       "    .dataframe thead th {\n",
       "        text-align: right;\n",
       "    }\n",
       "</style>\n",
       "<table border=\"1\" class=\"dataframe\">\n",
       "  <thead>\n",
       "    <tr style=\"text-align: right;\">\n",
       "      <th></th>\n",
       "      <th>mean</th>\n",
       "      <th>median</th>\n",
       "    </tr>\n",
       "    <tr>\n",
       "      <th>income_type</th>\n",
       "      <th></th>\n",
       "      <th></th>\n",
       "    </tr>\n",
       "  </thead>\n",
       "  <tbody>\n",
       "    <tr>\n",
       "      <td>безработный</td>\n",
       "      <td>11552.632069</td>\n",
       "      <td>11552.632069</td>\n",
       "    </tr>\n",
       "    <tr>\n",
       "      <td>пенсионер</td>\n",
       "      <td>10299.135716</td>\n",
       "      <td>11468.045729</td>\n",
       "    </tr>\n",
       "    <tr>\n",
       "      <td>в декрете</td>\n",
       "      <td>3296.759962</td>\n",
       "      <td>3296.759962</td>\n",
       "    </tr>\n",
       "    <tr>\n",
       "      <td>госслужащий</td>\n",
       "      <td>3057.343890</td>\n",
       "      <td>2385.358043</td>\n",
       "    </tr>\n",
       "    <tr>\n",
       "      <td>сотрудник</td>\n",
       "      <td>2095.293025</td>\n",
       "      <td>1360.363902</td>\n",
       "    </tr>\n",
       "    <tr>\n",
       "      <td>компаньон</td>\n",
       "      <td>1900.579581</td>\n",
       "      <td>1311.128244</td>\n",
       "    </tr>\n",
       "    <tr>\n",
       "      <td>студент</td>\n",
       "      <td>578.751554</td>\n",
       "      <td>578.751554</td>\n",
       "    </tr>\n",
       "    <tr>\n",
       "      <td>предприниматель</td>\n",
       "      <td>260.424042</td>\n",
       "      <td>260.424042</td>\n",
       "    </tr>\n",
       "  </tbody>\n",
       "</table>\n",
       "</div>"
      ],
      "text/plain": [
       "                         mean        median\n",
       "income_type                                \n",
       "безработный      11552.632069  11552.632069\n",
       "пенсионер        10299.135716  11468.045729\n",
       "в декрете         3296.759962   3296.759962\n",
       "госслужащий       3057.343890   2385.358043\n",
       "сотрудник         2095.293025   1360.363902\n",
       "компаньон         1900.579581   1311.128244\n",
       "студент            578.751554    578.751554\n",
       "предприниматель    260.424042    260.424042"
      ]
     },
     "execution_count": 25,
     "metadata": {},
     "output_type": "execute_result"
    }
   ],
   "source": [
    "df.groupby('income_type')['days_employed'].agg(['mean', 'median']).sort_values(by = 'mean', ascending=False)"
   ]
  },
  {
   "cell_type": "markdown",
   "metadata": {},
   "source": [
    "Результаты показывают, что длительность трудового стажа значительно зависит от категории заемщика. Например, стаж работы предпринимателя и пенсионера отличается примерно в 40 раз. Также можно видеть, что средние и медианные значения отличаются незначительно. По этим причина заменим нулевые значения в столбце на средние с учетом категории. После замены проверим количество нулевых значений."
   ]
  },
  {
   "cell_type": "code",
   "execution_count": 26,
   "metadata": {},
   "outputs": [
    {
     "data": {
      "text/plain": [
       "0"
      ]
     },
     "execution_count": 26,
     "metadata": {},
     "output_type": "execute_result"
    }
   ],
   "source": [
    "income_type_analyze = ['сотрудник', 'компаньон', 'пенсионер', 'госслужащий', 'предприниматель']\n",
    "\n",
    "for item3 in income_type_analyze:\n",
    "    total_income_item_mean3 = df[df['income_type'] == item3]['days_employed'].mean()\n",
    "    df.loc[(df['income_type'] == item3) & (df['days_employed'] == 0), 'days_employed'] = total_income_item_mean3\n",
    "    \n",
    "df[df['days_employed'] == 0]['days_employed'].count()"
   ]
  },
  {
   "cell_type": "markdown",
   "metadata": {
    "id": "v9xnPbXJSnrZ"
   },
   "source": [
    "#### Обработка нулевых значений в столбце возраст заемщика"
   ]
  },
  {
   "cell_type": "markdown",
   "metadata": {
    "id": "Pqi4NuieSnrZ"
   },
   "source": [
    "Предварительный анализ показал, что в столбце dob_years содержится некорректный возраст заёмщика 0 лет. Определим у каких категорий заемщиков встречается данный признак."
   ]
  },
  {
   "cell_type": "code",
   "execution_count": 28,
   "metadata": {},
   "outputs": [
    {
     "data": {
      "text/plain": [
       "сотрудник      55\n",
       "пенсионер      20\n",
       "компаньон      20\n",
       "госслужащий     6\n",
       "Name: income_type, dtype: int64"
      ]
     },
     "execution_count": 28,
     "metadata": {},
     "output_type": "execute_result"
    }
   ],
   "source": [
    "df[df['dob_years'] == 0]['income_type'].value_counts()"
   ]
  },
  {
   "cell_type": "markdown",
   "metadata": {
    "id": "jkIQyKnBSnrZ"
   },
   "source": [
    "Можно видеть, что пропуски носят случайный характер и поскольку данных значений признака пренебрежимо мало (101 значение), то можно удалить строки, содержащие нулевые значения. \n",
    "\n",
    "Удалим строки, содержащие нули в столбце dob_years, и обновим индексацию. Проверим остались ли нулевые значения."
   ]
  },
  {
   "cell_type": "code",
   "execution_count": 29,
   "metadata": {
    "colab": {
     "base_uri": "https://localhost:8080/"
    },
    "id": "W70RjdaTSnrZ",
    "outputId": "9d242227-71ee-4e9f-a198-0cc91d94f027"
   },
   "outputs": [
    {
     "data": {
      "text/plain": [
       "0"
      ]
     },
     "execution_count": 29,
     "metadata": {},
     "output_type": "execute_result"
    }
   ],
   "source": [
    "df = df[df['dob_years'] != 0]\n",
    "df = df.reset_index(drop=True)\n",
    "\n",
    "df[df['dob_years'] == 0]['dob_years'].count()"
   ]
  },
  {
   "cell_type": "markdown",
   "metadata": {
    "id": "_kV7a_0RSnra"
   },
   "source": [
    "#### Замена некорректых значений в столбцах количество детей и пол заемщика"
   ]
  },
  {
   "cell_type": "markdown",
   "metadata": {
    "id": "BbUjTy41Snra"
   },
   "source": [
    "Заменим некорректные значения в столбцах children и gender наиболее вероятными. Для children - это 0, а для gender - F."
   ]
  },
  {
   "cell_type": "markdown",
   "metadata": {
    "id": "T6BFBXHFSnra"
   },
   "source": [
    "Заменим -1 и 20 в столбце children на 0 и посчитаем уникальные значения."
   ]
  },
  {
   "cell_type": "code",
   "execution_count": 30,
   "metadata": {
    "colab": {
     "base_uri": "https://localhost:8080/"
    },
    "id": "0ZzkvHPKSnra",
    "outputId": "2226faa0-6922-4f6b-9dc1-88a171756bc7"
   },
   "outputs": [
    {
     "data": {
      "text/plain": [
       "0    14202\n",
       "1     4802\n",
       "2     2042\n",
       "3      328\n",
       "4       41\n",
       "5        9\n",
       "Name: children, dtype: int64"
      ]
     },
     "execution_count": 30,
     "metadata": {},
     "output_type": "execute_result"
    }
   ],
   "source": [
    "df.loc[df['children'] == -1, 'children'] = 0\n",
    "df.loc[df['children'] == 20, 'children'] = 0\n",
    "\n",
    "df['children'].value_counts()"
   ]
  },
  {
   "cell_type": "markdown",
   "metadata": {
    "id": "rPRrqrGHSnra"
   },
   "source": [
    "Заменим XNA в столбце gender на F и посчитаем уникальные значения."
   ]
  },
  {
   "cell_type": "code",
   "execution_count": 31,
   "metadata": {
    "colab": {
     "base_uri": "https://localhost:8080/"
    },
    "id": "zc7m2WahSnrb",
    "outputId": "f6dce90c-42ce-48f9-cbdc-3424bca3a886"
   },
   "outputs": [
    {
     "data": {
      "text/plain": [
       "F    14165\n",
       "M     7259\n",
       "Name: gender, dtype: int64"
      ]
     },
     "execution_count": 31,
     "metadata": {},
     "output_type": "execute_result"
    }
   ],
   "source": [
    "df.loc[df['gender'] == 'XNA', 'gender'] = 'F'\n",
    "\n",
    "df['gender'].value_counts()"
   ]
  },
  {
   "cell_type": "markdown",
   "metadata": {
    "id": "BfY9-z4LSnrb"
   },
   "source": [
    "Выведем информацию об измененной таблице."
   ]
  },
  {
   "cell_type": "code",
   "execution_count": 32,
   "metadata": {
    "colab": {
     "base_uri": "https://localhost:8080/"
    },
    "id": "Zo2Y6VlySnrb",
    "outputId": "1d4a6008-8195-44bf-86a6-5943de0b1d9b"
   },
   "outputs": [
    {
     "name": "stdout",
     "output_type": "stream",
     "text": [
      "<class 'pandas.core.frame.DataFrame'>\n",
      "RangeIndex: 21424 entries, 0 to 21423\n",
      "Data columns (total 12 columns):\n",
      "children            21424 non-null int64\n",
      "days_employed       21424 non-null float64\n",
      "dob_years           21424 non-null int64\n",
      "education           21424 non-null object\n",
      "education_id        21424 non-null int64\n",
      "family_status       21424 non-null object\n",
      "family_status_id    21424 non-null int64\n",
      "gender              21424 non-null object\n",
      "income_type         21424 non-null object\n",
      "debt                21424 non-null int64\n",
      "total_income        21424 non-null float64\n",
      "purpose             21424 non-null object\n",
      "dtypes: float64(2), int64(5), object(5)\n",
      "memory usage: 2.0+ MB\n"
     ]
    }
   ],
   "source": [
    "df.info()"
   ]
  },
  {
   "cell_type": "markdown",
   "metadata": {
    "id": "bYzefWYcSnrc"
   },
   "source": [
    "**Вывод**"
   ]
  },
  {
   "cell_type": "markdown",
   "metadata": {
    "id": "Sz09O5jbSnrc"
   },
   "source": [
    "После обработки пропусков и нулевых значений в датафрейме осталось 21424 строк и 12 столбцов. Пропущенные значения в столбце total_income заменены на медианные в зависимости от типа занятости заемщика, а в столбце days_employed на средние с учетом знака значения. Нулевые значения в столбце dob_years удалены вместе со строками."
   ]
  },
  {
   "cell_type": "markdown",
   "metadata": {
    "id": "fmdNSGNxSnrc"
   },
   "source": [
    "### Замена типа данных и обработка дубликатов"
   ]
  },
  {
   "cell_type": "markdown",
   "metadata": {
    "id": "7DDDdB2MSnrc"
   },
   "source": [
    "Перед заменой типа данных проверим наличие явных дубликатов."
   ]
  },
  {
   "cell_type": "code",
   "execution_count": 33,
   "metadata": {
    "colab": {
     "base_uri": "https://localhost:8080/"
    },
    "id": "DdQocBwJSnrc",
    "outputId": "3c7bdf0b-82bc-418b-cd77-1718c24809fe"
   },
   "outputs": [
    {
     "data": {
      "text/plain": [
       "54"
      ]
     },
     "execution_count": 33,
     "metadata": {},
     "output_type": "execute_result"
    }
   ],
   "source": [
    "df.duplicated().sum()"
   ]
  },
  {
   "cell_type": "markdown",
   "metadata": {
    "id": "hK5V7gKESnrd"
   },
   "source": [
    "Для удобства дальнейшей категоризации заменим вещественный тип данных в столбцах days_employed и total_income на целочисленный, а данные в столбцах education и family_status приведем к  нижнему регистру."
   ]
  },
  {
   "cell_type": "markdown",
   "metadata": {
    "id": "t4JAgIBiSnrd"
   },
   "source": [
    "Заменим вещественный тип данных в столбцах days_employed и total_income на целочисленный. Ход выполнения процесса будем контролировать конструкцией try-except."
   ]
  },
  {
   "cell_type": "code",
   "execution_count": 35,
   "metadata": {
    "id": "HzZhYVkvSnre"
   },
   "outputs": [],
   "source": [
    "try:\n",
    "    df['days_employed'] = df['days_employed'].astype('int')\n",
    "    df['total_income'] = df['total_income'].astype('int')\n",
    "except:\n",
    "    print('Произошла ошибка, данные не могут быть заменены')"
   ]
  },
  {
   "cell_type": "markdown",
   "metadata": {
    "id": "giZeOS_YSnre"
   },
   "source": [
    "Проверим результат."
   ]
  },
  {
   "cell_type": "code",
   "execution_count": 37,
   "metadata": {},
   "outputs": [
    {
     "data": {
      "text/plain": [
       "children             int64\n",
       "days_employed        int64\n",
       "dob_years            int64\n",
       "education           object\n",
       "education_id         int64\n",
       "family_status       object\n",
       "family_status_id     int64\n",
       "gender              object\n",
       "income_type         object\n",
       "debt                 int64\n",
       "total_income         int64\n",
       "purpose             object\n",
       "dtype: object"
      ]
     },
     "execution_count": 37,
     "metadata": {},
     "output_type": "execute_result"
    }
   ],
   "source": [
    "df.dtypes"
   ]
  },
  {
   "cell_type": "markdown",
   "metadata": {},
   "source": [
    "Проверим как изменилось количество дубликатов после замены типа данных"
   ]
  },
  {
   "cell_type": "code",
   "execution_count": 38,
   "metadata": {},
   "outputs": [
    {
     "data": {
      "text/plain": [
       "54"
      ]
     },
     "execution_count": 38,
     "metadata": {},
     "output_type": "execute_result"
    }
   ],
   "source": [
    "df.duplicated().sum()"
   ]
  },
  {
   "cell_type": "markdown",
   "metadata": {},
   "source": [
    "Изменение вещественного типа чисел на целочисленный не изменило количество дублоикатов."
   ]
  },
  {
   "cell_type": "markdown",
   "metadata": {
    "id": "_pHgTw5OSnrf"
   },
   "source": [
    "Приведем данные в столбцах family_status и education к нижнему регистру, после чего проверим получившийся результат."
   ]
  },
  {
   "cell_type": "code",
   "execution_count": 39,
   "metadata": {
    "colab": {
     "base_uri": "https://localhost:8080/",
     "height": 0
    },
    "id": "-lByvtPaSnrf",
    "outputId": "e3fe4189-75c5-4452-a475-3eccd442ddd9"
   },
   "outputs": [
    {
     "data": {
      "text/plain": [
       "array(['женат / замужем', 'гражданский брак', 'вдовец / вдова',\n",
       "       'в разводе', 'не женат / не замужем'], dtype=object)"
      ]
     },
     "metadata": {},
     "output_type": "display_data"
    },
    {
     "data": {
      "text/plain": [
       "array(['высшее', 'среднее', 'неоконченное высшее', 'начальное',\n",
       "       'ученая степень'], dtype=object)"
      ]
     },
     "execution_count": 39,
     "metadata": {},
     "output_type": "execute_result"
    }
   ],
   "source": [
    "df['family_status'] = df['family_status'].str.lower()\n",
    "df['education'] = df['education'].str.lower()\n",
    "\n",
    "display(df['family_status'].unique())\n",
    "df['education'].unique()"
   ]
  },
  {
   "cell_type": "markdown",
   "metadata": {
    "id": "SAGFLkFKSnrf"
   },
   "source": [
    "Посчитаем количество явных дубликатов после приведения строк к нижнему регистру."
   ]
  },
  {
   "cell_type": "code",
   "execution_count": 40,
   "metadata": {
    "colab": {
     "base_uri": "https://localhost:8080/"
    },
    "id": "9X6PCHTrSnrf",
    "outputId": "6085b420-5f82-496a-f400-cd65b45a4058"
   },
   "outputs": [
    {
     "data": {
      "text/plain": [
       "71"
      ]
     },
     "execution_count": 40,
     "metadata": {},
     "output_type": "execute_result"
    }
   ],
   "source": [
    "df.duplicated().sum()"
   ]
  },
  {
   "cell_type": "markdown",
   "metadata": {},
   "source": [
    "Изменение регистра помогло выявить скрытые дубликаты. Удалим явные дубликаты и проверим их количество после этого."
   ]
  },
  {
   "cell_type": "code",
   "execution_count": 41,
   "metadata": {
    "colab": {
     "base_uri": "https://localhost:8080/"
    },
    "id": "093efvIESnrd",
    "outputId": "e762b4b3-de27-40e0-edcc-50c02fa693f9"
   },
   "outputs": [
    {
     "data": {
      "text/plain": [
       "0"
      ]
     },
     "execution_count": 41,
     "metadata": {},
     "output_type": "execute_result"
    }
   ],
   "source": [
    "df = df.drop_duplicates().reset_index(drop = True)\n",
    "\n",
    "df.duplicated().sum()"
   ]
  },
  {
   "cell_type": "markdown",
   "metadata": {
    "id": "x_AH-q8GSnrg"
   },
   "source": [
    "**Вывод**"
   ]
  },
  {
   "cell_type": "markdown",
   "metadata": {
    "id": "wJIlGU73Snrg"
   },
   "source": [
    "В результате изменения типа данных удалось обнаружить скрытые дубликаты. Все найденные дубликаты были удалены."
   ]
  },
  {
   "cell_type": "markdown",
   "metadata": {
    "id": "yB0ekqXKSnri"
   },
   "source": [
    "### Лемматизация"
   ]
  },
  {
   "cell_type": "markdown",
   "metadata": {
    "id": "IVw1zuQdSnrj"
   },
   "source": [
    "Проведем лемматизацию целей получения кредита для дальнейшей категоризации данных."
   ]
  },
  {
   "cell_type": "markdown",
   "metadata": {
    "id": "N1L7B1oPSnrj"
   },
   "source": [
    "Запишем данные из столбца purpose в строку для лемматизации."
   ]
  },
  {
   "cell_type": "code",
   "execution_count": 42,
   "metadata": {
    "id": "VN06ID1kSnrj"
   },
   "outputs": [],
   "source": [
    "text = ''\n",
    "for item_lemma in range(len(df['purpose'])):\n",
    "    text += df.loc[item_lemma, 'purpose']\n",
    "    text += ' '"
   ]
  },
  {
   "cell_type": "markdown",
   "metadata": {
    "id": "icg-eSouSnrj"
   },
   "source": [
    "Лемматизируем текст столбца \"цель покупки\" и подсчитаем число упоминаемых слов"
   ]
  },
  {
   "cell_type": "code",
   "execution_count": 43,
   "metadata": {
    "colab": {
     "base_uri": "https://localhost:8080/",
     "height": 357
    },
    "id": "HQpouzKPSnrk",
    "outputId": "8a399408-c912-4deb-b52c-c6b2c0c0c601",
    "scrolled": true
   },
   "outputs": [
    {
     "name": "stdout",
     "output_type": "stream",
     "text": [
      "Counter({' ': 54787, 'недвижимость': 6328, 'покупка': 5870, 'жилье': 4436, 'автомобиль': 4284, 'образование': 3995, 'с': 2904, 'операция': 2593, 'свадьба': 2310, 'свой': 2223, 'на': 2210, 'строительство': 1873, 'высокий': 1366, 'получение': 1309, 'коммерческий': 1306, 'для': 1286, 'жилой': 1224, 'сделка': 938, 'дополнительный': 902, 'заниматься': 900, 'подержать': 849, 'проведение': 764, 'сыграть': 760, 'сдача': 649, 'семья': 637, 'собственный': 633, 'со': 627, 'ремонт': 605, 'приобретение': 459, 'профильный': 435, 'подержанный': 113, ' \\n': 1})\n"
     ]
    }
   ],
   "source": [
    "from pymystem3 import Mystem\n",
    "from collections import Counter\n",
    "m = Mystem()\n",
    "\n",
    "lemmas = m.lemmatize(text)\n",
    "print(Counter(lemmas))"
   ]
  },
  {
   "cell_type": "markdown",
   "metadata": {
    "id": "vh7jzn16Snrk"
   },
   "source": [
    "**Вывод**"
   ]
  },
  {
   "cell_type": "markdown",
   "metadata": {
    "id": "dRUpbJeqSnrk"
   },
   "source": [
    "Лемматизация показала, что самыми часто встречающимися словами в тексте цели кредита являются: недвижимость, покупка, а самыми редко встречающимися - профильный, подержанный. Среди целей кредита можно выделить: приобретение и операции с жилолой или коммерческой недвижимостью, покупку автомобиля, получение образования, проведение свадьбы."
   ]
  },
  {
   "cell_type": "markdown",
   "metadata": {
    "id": "WDwkiejbSnrl"
   },
   "source": [
    "### Категоризация данных"
   ]
  },
  {
   "cell_type": "markdown",
   "metadata": {
    "id": "3ZCWdM3TSnrl"
   },
   "source": [
    "Для ответа на вопросы, поставленные в исследовании, проведем категоризацию данных по семейному положению, наличию детей, уровню дохода и целям кредита.\n",
    "\n",
    "Семейное положение заемщика уже поделено на категории при формировании датасета. Сосчитаем сколько заемщиков имеют то или иное семейное положение."
   ]
  },
  {
   "cell_type": "code",
   "execution_count": 44,
   "metadata": {
    "id": "H4di2S61Snrl"
   },
   "outputs": [
    {
     "data": {
      "text/plain": [
       "женат / замужем          12290\n",
       "гражданский брак          4130\n",
       "не женат / не замужем     2794\n",
       "в разводе                 1185\n",
       "вдовец / вдова             954\n",
       "Name: family_status, dtype: int64"
      ]
     },
     "execution_count": 44,
     "metadata": {},
     "output_type": "execute_result"
    }
   ],
   "source": [
    "df['family_status'].value_counts()"
   ]
  },
  {
   "cell_type": "markdown",
   "metadata": {
    "id": "55NoR1CySnrm"
   },
   "source": [
    "Создадим категорию, определяемую количеством детей children_category. По количеству детей можно разделить заемщиков на категории: \"без детей\", \"с детьми\", \"многодетный\"."
   ]
  },
  {
   "cell_type": "markdown",
   "metadata": {
    "id": "9G5yUgI2Snrm"
   },
   "source": [
    "Создадим функцию, определяющую категорию в зависимости от количества детей и проверим ее работу."
   ]
  },
  {
   "cell_type": "code",
   "execution_count": 45,
   "metadata": {
    "id": "FSRdBMm7Snrm",
    "scrolled": true
   },
   "outputs": [
    {
     "name": "stdout",
     "output_type": "stream",
     "text": [
      "категория не определена\n",
      "без детей\n",
      "многодетный\n",
      "многодетный\n"
     ]
    }
   ],
   "source": [
    "def children_category_func(quantity):\n",
    "    if quantity == 0:\n",
    "        return 'без детей'\n",
    "    elif 0 < quantity < 3:\n",
    "        return 'с детьми'\n",
    "    elif quantity >= 3:\n",
    "        return 'многодетный'\n",
    "    else:\n",
    "        return 'категория не определена'\n",
    "    \n",
    "print(children_category_func(-1))\n",
    "print(children_category_func(0))\n",
    "print(children_category_func(3))\n",
    "print(children_category_func(5))"
   ]
  },
  {
   "cell_type": "markdown",
   "metadata": {
    "id": "H9yBG6NgSnrm"
   },
   "source": [
    "Добавим столбец, где хранятся результаты применения функции и проверим результат."
   ]
  },
  {
   "cell_type": "code",
   "execution_count": 46,
   "metadata": {
    "id": "nB0o5qIiSnrn"
   },
   "outputs": [
    {
     "data": {
      "text/plain": [
       "без детей      14144\n",
       "с детьми        6831\n",
       "многодетный      378\n",
       "Name: children_category, dtype: int64"
      ]
     },
     "execution_count": 46,
     "metadata": {},
     "output_type": "execute_result"
    }
   ],
   "source": [
    "df['children_category'] = df['children'].apply(children_category_func)\n",
    "df['children_category'].value_counts()"
   ]
  },
  {
   "cell_type": "markdown",
   "metadata": {
    "id": "Qjlw6edDSnrn"
   },
   "source": [
    "Создадим категорию, определяющую уровень дохода income_category. "
   ]
  },
  {
   "cell_type": "markdown",
   "metadata": {},
   "source": [
    "Построим сводную таблицу методом pivot_table(), в которой отобразим как изменяется средняя и медианная величина ежемесячного дохода в зависимости от типа занятости, образования и пола заемщика. отсортируем ее по убыванию среднего дохода."
   ]
  },
  {
   "cell_type": "code",
   "execution_count": 47,
   "metadata": {},
   "outputs": [
    {
     "data": {
      "text/html": [
       "<div>\n",
       "<style scoped>\n",
       "    .dataframe tbody tr th:only-of-type {\n",
       "        vertical-align: middle;\n",
       "    }\n",
       "\n",
       "    .dataframe tbody tr th {\n",
       "        vertical-align: top;\n",
       "    }\n",
       "\n",
       "    .dataframe thead tr th {\n",
       "        text-align: left;\n",
       "    }\n",
       "\n",
       "    .dataframe thead tr:last-of-type th {\n",
       "        text-align: right;\n",
       "    }\n",
       "</style>\n",
       "<table border=\"1\" class=\"dataframe\">\n",
       "  <thead>\n",
       "    <tr>\n",
       "      <th></th>\n",
       "      <th></th>\n",
       "      <th colspan=\"5\" halign=\"left\">mean</th>\n",
       "      <th colspan=\"5\" halign=\"left\">median</th>\n",
       "    </tr>\n",
       "    <tr>\n",
       "      <th></th>\n",
       "      <th>education</th>\n",
       "      <th>высшее</th>\n",
       "      <th>начальное</th>\n",
       "      <th>неоконченное высшее</th>\n",
       "      <th>среднее</th>\n",
       "      <th>ученая степень</th>\n",
       "      <th>высшее</th>\n",
       "      <th>начальное</th>\n",
       "      <th>неоконченное высшее</th>\n",
       "      <th>среднее</th>\n",
       "      <th>ученая степень</th>\n",
       "    </tr>\n",
       "    <tr>\n",
       "      <th>gender</th>\n",
       "      <th>income_type</th>\n",
       "      <th></th>\n",
       "      <th></th>\n",
       "      <th></th>\n",
       "      <th></th>\n",
       "      <th></th>\n",
       "      <th></th>\n",
       "      <th></th>\n",
       "      <th></th>\n",
       "      <th></th>\n",
       "      <th></th>\n",
       "    </tr>\n",
       "  </thead>\n",
       "  <tbody>\n",
       "    <tr>\n",
       "      <td rowspan=\"7\" valign=\"top\">M</td>\n",
       "      <td>компаньон</td>\n",
       "      <td>275055.048232</td>\n",
       "      <td>174882.687500</td>\n",
       "      <td>207432.273585</td>\n",
       "      <td>202126.816901</td>\n",
       "      <td>NaN</td>\n",
       "      <td>217767.5</td>\n",
       "      <td>150100.5</td>\n",
       "      <td>179370.0</td>\n",
       "      <td>170398.0</td>\n",
       "      <td>NaN</td>\n",
       "    </tr>\n",
       "    <tr>\n",
       "      <td>предприниматель</td>\n",
       "      <td>249581.000000</td>\n",
       "      <td>NaN</td>\n",
       "      <td>NaN</td>\n",
       "      <td>NaN</td>\n",
       "      <td>NaN</td>\n",
       "      <td>249581.0</td>\n",
       "      <td>NaN</td>\n",
       "      <td>NaN</td>\n",
       "      <td>NaN</td>\n",
       "      <td>NaN</td>\n",
       "    </tr>\n",
       "    <tr>\n",
       "      <td>госслужащий</td>\n",
       "      <td>238927.437500</td>\n",
       "      <td>231274.750000</td>\n",
       "      <td>193715.681818</td>\n",
       "      <td>184519.696262</td>\n",
       "      <td>NaN</td>\n",
       "      <td>202310.0</td>\n",
       "      <td>190966.5</td>\n",
       "      <td>166424.0</td>\n",
       "      <td>160213.0</td>\n",
       "      <td>NaN</td>\n",
       "    </tr>\n",
       "    <tr>\n",
       "      <td>сотрудник</td>\n",
       "      <td>209401.514539</td>\n",
       "      <td>144361.316456</td>\n",
       "      <td>199755.744966</td>\n",
       "      <td>168183.841654</td>\n",
       "      <td>194310.0</td>\n",
       "      <td>180243.0</td>\n",
       "      <td>133546.0</td>\n",
       "      <td>174615.0</td>\n",
       "      <td>147530.0</td>\n",
       "      <td>198570.0</td>\n",
       "    </tr>\n",
       "    <tr>\n",
       "      <td>пенсионер</td>\n",
       "      <td>185658.128571</td>\n",
       "      <td>122904.150000</td>\n",
       "      <td>157590.600000</td>\n",
       "      <td>138091.650943</td>\n",
       "      <td>98752.0</td>\n",
       "      <td>150246.0</td>\n",
       "      <td>113017.0</td>\n",
       "      <td>124667.0</td>\n",
       "      <td>117099.0</td>\n",
       "      <td>98752.0</td>\n",
       "    </tr>\n",
       "    <tr>\n",
       "      <td>студент</td>\n",
       "      <td>98201.000000</td>\n",
       "      <td>NaN</td>\n",
       "      <td>NaN</td>\n",
       "      <td>NaN</td>\n",
       "      <td>NaN</td>\n",
       "      <td>98201.0</td>\n",
       "      <td>NaN</td>\n",
       "      <td>NaN</td>\n",
       "      <td>NaN</td>\n",
       "      <td>NaN</td>\n",
       "    </tr>\n",
       "    <tr>\n",
       "      <td>безработный</td>\n",
       "      <td>NaN</td>\n",
       "      <td>NaN</td>\n",
       "      <td>NaN</td>\n",
       "      <td>59956.000000</td>\n",
       "      <td>NaN</td>\n",
       "      <td>NaN</td>\n",
       "      <td>NaN</td>\n",
       "      <td>NaN</td>\n",
       "      <td>59956.0</td>\n",
       "      <td>NaN</td>\n",
       "    </tr>\n",
       "    <tr>\n",
       "      <td rowspan=\"7\" valign=\"top\">F</td>\n",
       "      <td>предприниматель</td>\n",
       "      <td>499163.000000</td>\n",
       "      <td>NaN</td>\n",
       "      <td>NaN</td>\n",
       "      <td>NaN</td>\n",
       "      <td>NaN</td>\n",
       "      <td>499163.0</td>\n",
       "      <td>NaN</td>\n",
       "      <td>NaN</td>\n",
       "      <td>NaN</td>\n",
       "      <td>NaN</td>\n",
       "    </tr>\n",
       "    <tr>\n",
       "      <td>компаньон</td>\n",
       "      <td>212150.087598</td>\n",
       "      <td>153637.000000</td>\n",
       "      <td>187694.571429</td>\n",
       "      <td>162889.583878</td>\n",
       "      <td>NaN</td>\n",
       "      <td>174342.0</td>\n",
       "      <td>148206.5</td>\n",
       "      <td>165269.0</td>\n",
       "      <td>154990.5</td>\n",
       "      <td>NaN</td>\n",
       "    </tr>\n",
       "    <tr>\n",
       "      <td>безработный</td>\n",
       "      <td>202722.000000</td>\n",
       "      <td>NaN</td>\n",
       "      <td>NaN</td>\n",
       "      <td>NaN</td>\n",
       "      <td>NaN</td>\n",
       "      <td>202722.0</td>\n",
       "      <td>NaN</td>\n",
       "      <td>NaN</td>\n",
       "      <td>NaN</td>\n",
       "      <td>NaN</td>\n",
       "    </tr>\n",
       "    <tr>\n",
       "      <td>госслужащий</td>\n",
       "      <td>173951.310000</td>\n",
       "      <td>114326.250000</td>\n",
       "      <td>150212.466667</td>\n",
       "      <td>142026.580696</td>\n",
       "      <td>111392.0</td>\n",
       "      <td>145060.5</td>\n",
       "      <td>122400.0</td>\n",
       "      <td>139034.0</td>\n",
       "      <td>135072.5</td>\n",
       "      <td>111392.0</td>\n",
       "    </tr>\n",
       "    <tr>\n",
       "      <td>сотрудник</td>\n",
       "      <td>173795.911227</td>\n",
       "      <td>127988.621212</td>\n",
       "      <td>150535.374429</td>\n",
       "      <td>139345.306599</td>\n",
       "      <td>NaN</td>\n",
       "      <td>144238.5</td>\n",
       "      <td>124397.0</td>\n",
       "      <td>133546.0</td>\n",
       "      <td>132162.0</td>\n",
       "      <td>NaN</td>\n",
       "    </tr>\n",
       "    <tr>\n",
       "      <td>пенсионер</td>\n",
       "      <td>158494.599068</td>\n",
       "      <td>108294.113924</td>\n",
       "      <td>130945.222222</td>\n",
       "      <td>127697.809969</td>\n",
       "      <td>255425.0</td>\n",
       "      <td>132524.0</td>\n",
       "      <td>102598.0</td>\n",
       "      <td>110940.0</td>\n",
       "      <td>110179.0</td>\n",
       "      <td>255425.0</td>\n",
       "    </tr>\n",
       "    <tr>\n",
       "      <td>в декрете</td>\n",
       "      <td>NaN</td>\n",
       "      <td>NaN</td>\n",
       "      <td>NaN</td>\n",
       "      <td>53829.000000</td>\n",
       "      <td>NaN</td>\n",
       "      <td>NaN</td>\n",
       "      <td>NaN</td>\n",
       "      <td>NaN</td>\n",
       "      <td>53829.0</td>\n",
       "      <td>NaN</td>\n",
       "    </tr>\n",
       "  </tbody>\n",
       "</table>\n",
       "</div>"
      ],
      "text/plain": [
       "                                 mean                                     \\\n",
       "education                      высшее      начальное неоконченное высшее   \n",
       "gender income_type                                                         \n",
       "M      компаньон        275055.048232  174882.687500       207432.273585   \n",
       "       предприниматель  249581.000000            NaN                 NaN   \n",
       "       госслужащий      238927.437500  231274.750000       193715.681818   \n",
       "       сотрудник        209401.514539  144361.316456       199755.744966   \n",
       "       пенсионер        185658.128571  122904.150000       157590.600000   \n",
       "       студент           98201.000000            NaN                 NaN   \n",
       "       безработный                NaN            NaN                 NaN   \n",
       "F      предприниматель  499163.000000            NaN                 NaN   \n",
       "       компаньон        212150.087598  153637.000000       187694.571429   \n",
       "       безработный      202722.000000            NaN                 NaN   \n",
       "       госслужащий      173951.310000  114326.250000       150212.466667   \n",
       "       сотрудник        173795.911227  127988.621212       150535.374429   \n",
       "       пенсионер        158494.599068  108294.113924       130945.222222   \n",
       "       в декрете                  NaN            NaN                 NaN   \n",
       "\n",
       "                                                        median            \\\n",
       "education                     среднее ученая степень    высшее начальное   \n",
       "gender income_type                                                         \n",
       "M      компаньон        202126.816901            NaN  217767.5  150100.5   \n",
       "       предприниматель            NaN            NaN  249581.0       NaN   \n",
       "       госслужащий      184519.696262            NaN  202310.0  190966.5   \n",
       "       сотрудник        168183.841654       194310.0  180243.0  133546.0   \n",
       "       пенсионер        138091.650943        98752.0  150246.0  113017.0   \n",
       "       студент                    NaN            NaN   98201.0       NaN   \n",
       "       безработный       59956.000000            NaN       NaN       NaN   \n",
       "F      предприниматель            NaN            NaN  499163.0       NaN   \n",
       "       компаньон        162889.583878            NaN  174342.0  148206.5   \n",
       "       безработный                NaN            NaN  202722.0       NaN   \n",
       "       госслужащий      142026.580696       111392.0  145060.5  122400.0   \n",
       "       сотрудник        139345.306599            NaN  144238.5  124397.0   \n",
       "       пенсионер        127697.809969       255425.0  132524.0  102598.0   \n",
       "       в декрете         53829.000000            NaN       NaN       NaN   \n",
       "\n",
       "                                                                     \n",
       "education              неоконченное высшее   среднее ученая степень  \n",
       "gender income_type                                                   \n",
       "M      компаньон                  179370.0  170398.0            NaN  \n",
       "       предприниматель                 NaN       NaN            NaN  \n",
       "       госслужащий                166424.0  160213.0            NaN  \n",
       "       сотрудник                  174615.0  147530.0       198570.0  \n",
       "       пенсионер                  124667.0  117099.0        98752.0  \n",
       "       студент                         NaN       NaN            NaN  \n",
       "       безработный                     NaN   59956.0            NaN  \n",
       "F      предприниматель                 NaN       NaN            NaN  \n",
       "       компаньон                  165269.0  154990.5            NaN  \n",
       "       безработный                     NaN       NaN            NaN  \n",
       "       госслужащий                139034.0  135072.5       111392.0  \n",
       "       сотрудник                  133546.0  132162.0            NaN  \n",
       "       пенсионер                  110940.0  110179.0       255425.0  \n",
       "       в декрете                       NaN   53829.0            NaN  "
      ]
     },
     "execution_count": 47,
     "metadata": {},
     "output_type": "execute_result"
    }
   ],
   "source": [
    "df.pivot_table(index = ['gender', 'income_type'], columns = 'education', values = 'total_income', \n",
    "               aggfunc = ['mean', 'median']).sort_values(by = ['gender', ('mean', 'высшее')], ascending=False)"
   ]
  },
  {
   "cell_type": "markdown",
   "metadata": {},
   "source": [
    "Из таблицы видно, что заемщики характеризуются высоким неравенством доходов. Величина дохода принимает значения от 53000 до 499163. При этом большая часть заемщиков имеет доход в районе от 100000 до 200000."
   ]
  },
  {
   "cell_type": "markdown",
   "metadata": {},
   "source": [
    "Разобъем столбец total_income на несколько частей и посмотрим как изменяется при этом доход."
   ]
  },
  {
   "cell_type": "code",
   "execution_count": 48,
   "metadata": {
    "scrolled": true
   },
   "outputs": [
    {
     "data": {
      "text/plain": [
       "'10.0 % заемщиков имеют доход ниже 78743.8'"
      ]
     },
     "metadata": {},
     "output_type": "display_data"
    },
    {
     "data": {
      "text/plain": [
       "'20.0 % заемщиков имеют доход ниже 98553.4'"
      ]
     },
     "metadata": {},
     "output_type": "display_data"
    },
    {
     "data": {
      "text/plain": [
       "'25.0 % заемщиков имеют доход ниже 107650.0'"
      ]
     },
     "metadata": {},
     "output_type": "display_data"
    },
    {
     "data": {
      "text/plain": [
       "'30.0 % заемщиков имеют доход ниже 112962.4'"
      ]
     },
     "metadata": {},
     "output_type": "display_data"
    },
    {
     "data": {
      "text/plain": [
       "'40.0 % заемщиков имеют доход ниже 132162.0'"
      ]
     },
     "metadata": {},
     "output_type": "display_data"
    },
    {
     "data": {
      "text/plain": [
       "'50.0 % заемщиков имеют доход ниже 140250.0'"
      ]
     },
     "metadata": {},
     "output_type": "display_data"
    },
    {
     "data": {
      "text/plain": [
       "'60.0 % заемщиков имеют доход ниже 161327.8'"
      ]
     },
     "metadata": {},
     "output_type": "display_data"
    },
    {
     "data": {
      "text/plain": [
       "'70.0 % заемщиков имеют доход ниже 179782.8'"
      ]
     },
     "metadata": {},
     "output_type": "display_data"
    },
    {
     "data": {
      "text/plain": [
       "'75.0 % заемщиков имеют доход ниже 195785.0'"
      ]
     },
     "metadata": {},
     "output_type": "display_data"
    },
    {
     "data": {
      "text/plain": [
       "'80.0 % заемщиков имеют доход ниже 214571.60000000003'"
      ]
     },
     "metadata": {},
     "output_type": "display_data"
    },
    {
     "data": {
      "text/plain": [
       "'90.0 % заемщиков имеют доход ниже 269886.39999999997'"
      ]
     },
     "metadata": {},
     "output_type": "display_data"
    }
   ],
   "source": [
    "import statistics\n",
    "\n",
    "for part_of_income in [0.1, 0.2, 0.25, 0.3, 0.4, 0.5, 0.6, 0.7, 0.75, 0.8, 0.9]:\n",
    "    income_level = df['total_income'].quantile(part_of_income)\n",
    "    display(f'{part_of_income * 100} % заемщиков имеют доход ниже {income_level}')"
   ]
  },
  {
   "cell_type": "markdown",
   "metadata": {},
   "source": [
    "Можно видеть, что 25 % самых низкообеспеченных заемщиков имеют доход ниже 107650, 25 % самых высокообеспеченных заемщиков выше 195785, а основная масса имеет доход внутри данного диапазона. Полученные значения согласуются со сводной таблицей и могут быть использованы для деления по категориям."
   ]
  },
  {
   "cell_type": "code",
   "execution_count": 49,
   "metadata": {},
   "outputs": [
    {
     "data": {
      "text/plain": [
       "107650.0"
      ]
     },
     "metadata": {},
     "output_type": "display_data"
    },
    {
     "data": {
      "text/plain": [
       "195785.0"
      ]
     },
     "execution_count": 49,
     "metadata": {},
     "output_type": "execute_result"
    }
   ],
   "source": [
    "# от этого значения начинается категория со средним доходом\n",
    "middle_income = df['total_income'].quantile(0.25)\n",
    "# от этого значения начинается категория с высоким доходом\n",
    "high_income = df['total_income'].quantile(0.75)\n",
    "\n",
    "display(middle_income)\n",
    "high_income"
   ]
  },
  {
   "cell_type": "markdown",
   "metadata": {
    "id": "rEfYLr6hSnro"
   },
   "source": [
    "Создадим функцию, определяющую категорию в зависимости от дохода и проверим ее работу."
   ]
  },
  {
   "cell_type": "code",
   "execution_count": 51,
   "metadata": {
    "id": "Ts_HM71DSnro"
   },
   "outputs": [
    {
     "data": {
      "text/plain": [
       "'высокий доход'"
      ]
     },
     "metadata": {},
     "output_type": "display_data"
    },
    {
     "data": {
      "text/plain": [
       "'средний доход'"
      ]
     },
     "metadata": {},
     "output_type": "display_data"
    },
    {
     "data": {
      "text/plain": [
       "'низкий доход'"
      ]
     },
     "metadata": {},
     "output_type": "display_data"
    },
    {
     "data": {
      "text/plain": [
       "'категория не определена'"
      ]
     },
     "execution_count": 51,
     "metadata": {},
     "output_type": "execute_result"
    }
   ],
   "source": [
    "def income_category_func(income):\n",
    "    if income > high_income:\n",
    "        return 'высокий доход'\n",
    "    elif middle_income < income <= high_income:\n",
    "        return 'средний доход'\n",
    "    elif 0 <= income <= middle_income:\n",
    "        return 'низкий доход'\n",
    "    else:\n",
    "        return 'категория не определена'\n",
    "    \n",
    "display(income_category_func(200000))\n",
    "display(income_category_func(110000))\n",
    "display(income_category_func(106000))\n",
    "income_category_func(-1)"
   ]
  },
  {
   "cell_type": "markdown",
   "metadata": {
    "id": "suE4vVGGSnrp"
   },
   "source": [
    "Добавим к датафрейму столбец, в котором хранятся результаты действия функции и проверим результат."
   ]
  },
  {
   "cell_type": "code",
   "execution_count": 52,
   "metadata": {
    "id": "fb8pMTWfSnrp"
   },
   "outputs": [
    {
     "data": {
      "text/plain": [
       "средний доход    10676\n",
       "низкий доход      5339\n",
       "высокий доход     5338\n",
       "Name: income_category, dtype: int64"
      ]
     },
     "execution_count": 52,
     "metadata": {},
     "output_type": "execute_result"
    }
   ],
   "source": [
    "df['income_category'] = df['total_income'].apply(income_category_func)\n",
    "df['income_category'].value_counts()"
   ]
  },
  {
   "cell_type": "markdown",
   "metadata": {},
   "source": [
    "Выделим следующие цели кредитования:\n",
    "\n",
    "1. Покупка или операции с жилой недвижимостью. Леммы: 'покупка', 'операция', 'жилой', 'свой', 'недвижимость', 'жилье',  'строительство', 'ремонт'.\n",
    "4. Покупка или операции с коммерческой недвижимостью. Леммы: 'покупка', 'операция', 'коммерческий', 'недвижимость', 'сдача'.\n",
    "5. Покупка автомобиля. Леммы: 'покупка', 'автомобиль', 'подержанный', 'подержать'.\n",
    "7. Получение образования. Леммы: 'получение', 'высокий', 'профильный', 'образование', 'дополнительный'.\n",
    "9. Проведение свадьбы. Леммы: 'свадьба'."
   ]
  },
  {
   "cell_type": "markdown",
   "metadata": {
    "id": "6VIUDlGVSnrq"
   },
   "source": [
    "Создадим функцию, определяющую категорию в зависимости от цели кредита и проверим ее работу."
   ]
  },
  {
   "cell_type": "code",
   "execution_count": 53,
   "metadata": {
    "id": "kuIgJH7ASnrq"
   },
   "outputs": [
    {
     "data": {
      "text/plain": [
       "'покупка или операции с жилой недвижимостью'"
      ]
     },
     "metadata": {},
     "output_type": "display_data"
    },
    {
     "data": {
      "text/plain": [
       "'покупка или операции с жилой недвижимостью'"
      ]
     },
     "metadata": {},
     "output_type": "display_data"
    },
    {
     "data": {
      "text/plain": [
       "'покупка или операции с жилой недвижимостью'"
      ]
     },
     "metadata": {},
     "output_type": "display_data"
    },
    {
     "data": {
      "text/plain": [
       "'покупка или операции с коммерческой недвижимостью'"
      ]
     },
     "metadata": {},
     "output_type": "display_data"
    },
    {
     "data": {
      "text/plain": [
       "'покупка автомобиля'"
      ]
     },
     "metadata": {},
     "output_type": "display_data"
    },
    {
     "data": {
      "text/plain": [
       "'покупка автомобиля'"
      ]
     },
     "metadata": {},
     "output_type": "display_data"
    },
    {
     "data": {
      "text/plain": [
       "'получение образования'"
      ]
     },
     "metadata": {},
     "output_type": "display_data"
    },
    {
     "data": {
      "text/plain": [
       "'получение образования'"
      ]
     },
     "metadata": {},
     "output_type": "display_data"
    },
    {
     "data": {
      "text/plain": [
       "'сыграть свадьбу'"
      ]
     },
     "execution_count": 53,
     "metadata": {},
     "output_type": "execute_result"
    }
   ],
   "source": [
    "def purpose_category_func(purpose):\n",
    "    lemmatize_word = m.lemmatize(purpose)\n",
    "    lemmatize_word\n",
    "    if 'свадьба' in lemmatize_word:\n",
    "        return 'сыграть свадьбу'            \n",
    "    elif 'дополнительный' in lemmatize_word and 'образование' in lemmatize_word:\n",
    "        return 'получение образования'\n",
    "    elif 'высокий' in lemmatize_word or 'профильный' in lemmatize_word or 'образование' in lemmatize_word:\n",
    "        return 'получение образования'\n",
    "    elif ('подержанный' in lemmatize_word or 'подержать' in lemmatize_word) and 'автомобиль' in lemmatize_word:\n",
    "        return 'покупка автомобиля'\n",
    "    elif 'автомобиль' in lemmatize_word:\n",
    "        return 'покупка автомобиля'\n",
    "    elif 'ремонт' in lemmatize_word:\n",
    "        return 'покупка или операции с жилой недвижимостью'\n",
    "    elif 'строительство' in lemmatize_word:\n",
    "        return 'покупка или операции с жилой недвижимостью'\n",
    "    elif 'коммерческий' in lemmatize_word or 'сдача' in lemmatize_word:\n",
    "        return 'покупка или операции с коммерческой недвижимостью'\n",
    "    elif 'недвижимость' in lemmatize_word or 'жилье' in lemmatize_word:\n",
    "        return 'покупка или операции с жилой недвижимостью'\n",
    "    else:\n",
    "        return 'категория не определена'\n",
    "    \n",
    "display(purpose_category_func('покупка жилья'))\n",
    "display(purpose_category_func('строительство собственной недвижимости'))\n",
    "display(purpose_category_func('ремонт жилью'))\n",
    "display(purpose_category_func('покупка жилья для сдачи'))\n",
    "display(purpose_category_func('на покупку автомобиля'))\n",
    "display(purpose_category_func('на покупку подержанного автомобиля'))\n",
    "display(purpose_category_func('получение образования'))\n",
    "display(purpose_category_func('дополнительное образование'))\n",
    "purpose_category_func('свадьба')"
   ]
  },
  {
   "cell_type": "markdown",
   "metadata": {
    "id": "taEUKhoZSnrq"
   },
   "source": [
    "Добавим к датафрейму столбец, в котором хранятся результаты действия функции, и проверим результат."
   ]
  },
  {
   "cell_type": "code",
   "execution_count": 54,
   "metadata": {
    "id": "5iCu6DYWSnrq"
   },
   "outputs": [
    {
     "data": {
      "text/plain": [
       "покупка или операции с жилой недвижимостью           8809\n",
       "покупка автомобиля                                   4284\n",
       "получение образования                                3995\n",
       "сыграть свадьбу                                      2310\n",
       "покупка или операции с коммерческой недвижимостью    1955\n",
       "Name: purpose_category, dtype: int64"
      ]
     },
     "execution_count": 54,
     "metadata": {},
     "output_type": "execute_result"
    }
   ],
   "source": [
    "df['purpose_category'] = df['purpose'].apply(purpose_category_func)\n",
    "df['purpose_category'].value_counts()"
   ]
  },
  {
   "cell_type": "markdown",
   "metadata": {
    "id": "F-fckp0KSnrr"
   },
   "source": [
    "**Вывод**"
   ]
  },
  {
   "cell_type": "markdown",
   "metadata": {
    "id": "rTDouEVISnrr"
   },
   "source": [
    "В реультате категоризации было создано 3 новых категории: наличие детей, уровень дохода и цель получения кредита. Категоризацию по семейному положению можно провести на имеющихся данных без формирования нового столбца. Данные показвают, что самыми распространенными категориями среди заемщиков являются женатые (замужние) люди, без детей, со средним доходом и целью кредита - покупка или операции с жилой недвижимостью. Самыми малочисленными категориями: вдовцы, многодетные, с высоким доходом и целью кредита - покупка или операции с коммерческой недвижимостью."
   ]
  },
  {
   "cell_type": "markdown",
   "metadata": {
    "id": "ZB7oT2YxSnrr"
   },
   "source": [
    "## Шаг 3. Ответьте на вопросы"
   ]
  },
  {
   "cell_type": "markdown",
   "metadata": {
    "id": "wq27pHqMSnrr"
   },
   "source": [
    "- Есть ли зависимость между наличием детей и возвратом кредита в срок?"
   ]
  },
  {
   "cell_type": "markdown",
   "metadata": {
    "id": "MvyiXJaWSnrr"
   },
   "source": [
    "Создадим функцию, которая выводит на экран таблицу, содержащую категорию, общее количество кредитов и вероятность невозврата кредита для каждой категории."
   ]
  },
  {
   "cell_type": "code",
   "execution_count": 55,
   "metadata": {
    "id": "Jydwzuu-Snrs"
   },
   "outputs": [
    {
     "data": {
      "text/html": [
       "<div>\n",
       "<style scoped>\n",
       "    .dataframe tbody tr th:only-of-type {\n",
       "        vertical-align: middle;\n",
       "    }\n",
       "\n",
       "    .dataframe tbody tr th {\n",
       "        vertical-align: top;\n",
       "    }\n",
       "\n",
       "    .dataframe thead th {\n",
       "        text-align: right;\n",
       "    }\n",
       "</style>\n",
       "<table border=\"1\" class=\"dataframe\">\n",
       "  <thead>\n",
       "    <tr style=\"text-align: right;\">\n",
       "      <th></th>\n",
       "      <th>debt</th>\n",
       "      <th>debt_probability</th>\n",
       "    </tr>\n",
       "    <tr>\n",
       "      <th>children_category</th>\n",
       "      <th></th>\n",
       "      <th></th>\n",
       "    </tr>\n",
       "  </thead>\n",
       "  <tbody>\n",
       "    <tr>\n",
       "      <td>с детьми</td>\n",
       "      <td>6831</td>\n",
       "      <td>0.093</td>\n",
       "    </tr>\n",
       "    <tr>\n",
       "      <td>многодетный</td>\n",
       "      <td>378</td>\n",
       "      <td>0.082</td>\n",
       "    </tr>\n",
       "    <tr>\n",
       "      <td>без детей</td>\n",
       "      <td>14144</td>\n",
       "      <td>0.075</td>\n",
       "    </tr>\n",
       "  </tbody>\n",
       "</table>\n",
       "</div>"
      ],
      "text/plain": [
       "                    debt  debt_probability\n",
       "children_category                         \n",
       "с детьми            6831             0.093\n",
       "многодетный          378             0.082\n",
       "без детей          14144             0.075"
      ]
     },
     "execution_count": 55,
     "metadata": {},
     "output_type": "execute_result"
    }
   ],
   "source": [
    "def debt_probability_func(category_type):\n",
    "    # количество невозвратных кредитов\n",
    "    df_category_sum = df.groupby([category_type]).agg({'debt' : 'sum'})\n",
    "    # общее количество кредитов\n",
    "    df_category_count = df.groupby([category_type]).agg({'debt' : 'count'})\n",
    "    # вероятность невозврата кредита\n",
    "    df_category_count['debt_probability'] = round(df_category_sum['debt'] / df_category_count['debt'], 3)\n",
    "    # отобразим категорию, общее количество кредитов и вероятность невозврата по уменьшению вероятности\n",
    "    return df_category_count.pivot_table(index = [category_type], values = ('debt_probability', 'debt')).sort_values(by = 'debt_probability', ascending=False)\n",
    "    #return df_category_count.sort_values(by = 'debt_probability', ascending=False)\n",
    "    \n",
    "debt_probability_func('children_category')"
   ]
  },
  {
   "cell_type": "markdown",
   "metadata": {
    "id": "hiMRolB8Snrs"
   },
   "source": [
    "**Вывод**"
   ]
  },
  {
   "cell_type": "markdown",
   "metadata": {
    "id": "_iMpWCScSnrt"
   },
   "source": [
    "Полученные результаты говорят, что самыми надежными заемщиками являются люди без детей (данная категория также берет больше всего кредитов), а самыми ненадежными - люди, имеющие от 1 до 2 детей. Многодетные заемщики являются более надежными по сравнению с теми у кого от 1 до 2 детей, возможно из-за того, что данная категория граждан имеет возможность получать социальную помощь от государства."
   ]
  },
  {
   "cell_type": "markdown",
   "metadata": {
    "id": "SFX59zczSnrt"
   },
   "source": [
    "- Есть ли зависимость между семейным положением и возвратом кредита в срок?"
   ]
  },
  {
   "cell_type": "markdown",
   "metadata": {
    "id": "mXM5FCoWSnrt"
   },
   "source": [
    "Отобразим категорию, общее количество кредитов и вероятность невозврата по уменьшению вероятности."
   ]
  },
  {
   "cell_type": "code",
   "execution_count": 56,
   "metadata": {
    "id": "mJveXqhCSnrt",
    "scrolled": true
   },
   "outputs": [
    {
     "data": {
      "text/html": [
       "<div>\n",
       "<style scoped>\n",
       "    .dataframe tbody tr th:only-of-type {\n",
       "        vertical-align: middle;\n",
       "    }\n",
       "\n",
       "    .dataframe tbody tr th {\n",
       "        vertical-align: top;\n",
       "    }\n",
       "\n",
       "    .dataframe thead th {\n",
       "        text-align: right;\n",
       "    }\n",
       "</style>\n",
       "<table border=\"1\" class=\"dataframe\">\n",
       "  <thead>\n",
       "    <tr style=\"text-align: right;\">\n",
       "      <th></th>\n",
       "      <th>debt</th>\n",
       "      <th>debt_probability</th>\n",
       "    </tr>\n",
       "    <tr>\n",
       "      <th>family_status</th>\n",
       "      <th></th>\n",
       "      <th></th>\n",
       "    </tr>\n",
       "  </thead>\n",
       "  <tbody>\n",
       "    <tr>\n",
       "      <td>не женат / не замужем</td>\n",
       "      <td>2794</td>\n",
       "      <td>0.098</td>\n",
       "    </tr>\n",
       "    <tr>\n",
       "      <td>гражданский брак</td>\n",
       "      <td>4130</td>\n",
       "      <td>0.093</td>\n",
       "    </tr>\n",
       "    <tr>\n",
       "      <td>женат / замужем</td>\n",
       "      <td>12290</td>\n",
       "      <td>0.075</td>\n",
       "    </tr>\n",
       "    <tr>\n",
       "      <td>в разводе</td>\n",
       "      <td>1185</td>\n",
       "      <td>0.072</td>\n",
       "    </tr>\n",
       "    <tr>\n",
       "      <td>вдовец / вдова</td>\n",
       "      <td>954</td>\n",
       "      <td>0.065</td>\n",
       "    </tr>\n",
       "  </tbody>\n",
       "</table>\n",
       "</div>"
      ],
      "text/plain": [
       "                        debt  debt_probability\n",
       "family_status                                 \n",
       "не женат / не замужем   2794             0.098\n",
       "гражданский брак        4130             0.093\n",
       "женат / замужем        12290             0.075\n",
       "в разводе               1185             0.072\n",
       "вдовец / вдова           954             0.065"
      ]
     },
     "execution_count": 56,
     "metadata": {},
     "output_type": "execute_result"
    }
   ],
   "source": [
    "debt_probability_func('family_status')"
   ]
  },
  {
   "cell_type": "markdown",
   "metadata": {
    "id": "ERGQvOyqSnru"
   },
   "source": [
    "**Вывод**"
   ]
  },
  {
   "cell_type": "markdown",
   "metadata": {
    "id": "YmOLUPL7Snru"
   },
   "source": [
    "Самыми ненадежными заемщиками являются не женатые, либо живущие в гражданском браке заемщики, их вероятность невозврата кредита приближается к 10%. Самыми надежными - вдовцы и люди в разводе, их вероятность невозврата около 6,5 и 7%, соответственно. Самой распространенной категорией заемщиков являются женатые (замужние) граждане, их надежность находится на среднем уровне и приближается к 7,5%."
   ]
  },
  {
   "cell_type": "markdown",
   "metadata": {
    "id": "Kc6OzY5ZSnru"
   },
   "source": [
    "- Есть ли зависимость между уровнем дохода и возвратом кредита в срок?"
   ]
  },
  {
   "cell_type": "markdown",
   "metadata": {
    "id": "0_dZgdRuSnru"
   },
   "source": [
    "Отобразим категорию, общее количество кредитов и вероятность невозврата по уменьшению вероятности."
   ]
  },
  {
   "cell_type": "code",
   "execution_count": 57,
   "metadata": {
    "id": "KPw_y36gSnru"
   },
   "outputs": [
    {
     "data": {
      "text/html": [
       "<div>\n",
       "<style scoped>\n",
       "    .dataframe tbody tr th:only-of-type {\n",
       "        vertical-align: middle;\n",
       "    }\n",
       "\n",
       "    .dataframe tbody tr th {\n",
       "        vertical-align: top;\n",
       "    }\n",
       "\n",
       "    .dataframe thead th {\n",
       "        text-align: right;\n",
       "    }\n",
       "</style>\n",
       "<table border=\"1\" class=\"dataframe\">\n",
       "  <thead>\n",
       "    <tr style=\"text-align: right;\">\n",
       "      <th></th>\n",
       "      <th>debt</th>\n",
       "      <th>debt_probability</th>\n",
       "    </tr>\n",
       "    <tr>\n",
       "      <th>income_category</th>\n",
       "      <th></th>\n",
       "      <th></th>\n",
       "    </tr>\n",
       "  </thead>\n",
       "  <tbody>\n",
       "    <tr>\n",
       "      <td>средний доход</td>\n",
       "      <td>10676</td>\n",
       "      <td>0.087</td>\n",
       "    </tr>\n",
       "    <tr>\n",
       "      <td>низкий доход</td>\n",
       "      <td>5339</td>\n",
       "      <td>0.080</td>\n",
       "    </tr>\n",
       "    <tr>\n",
       "      <td>высокий доход</td>\n",
       "      <td>5338</td>\n",
       "      <td>0.072</td>\n",
       "    </tr>\n",
       "  </tbody>\n",
       "</table>\n",
       "</div>"
      ],
      "text/plain": [
       "                  debt  debt_probability\n",
       "income_category                         \n",
       "средний доход    10676             0.087\n",
       "низкий доход      5339             0.080\n",
       "высокий доход     5338             0.072"
      ]
     },
     "execution_count": 57,
     "metadata": {},
     "output_type": "execute_result"
    }
   ],
   "source": [
    "debt_probability_func('income_category')"
   ]
  },
  {
   "cell_type": "markdown",
   "metadata": {
    "id": "up8Y0-mSSnrv"
   },
   "source": [
    "**Вывод**"
   ]
  },
  {
   "cell_type": "markdown",
   "metadata": {
    "id": "ssq297cxSnrv"
   },
   "source": [
    "После изменения категоризации по уровню дохода, зависимость между данным уровнем и возвратом кредита в срок сохранилась. Самой надежной категорией заемщиков является категория с высоким уровнем дохода (выше 195785) ее вероятность невозврата около 7 %. Категория заемщиков со средним уровнем дохода (от 107650 до 195785) является самой ненадежной - вероятность невозврата около 9 %. Заемщики с низким уровнем дохода имеет вероятность невозврата (8 %) ниже, чем заемщики со средним."
   ]
  },
  {
   "cell_type": "markdown",
   "metadata": {
    "id": "jphtOna7Snrv"
   },
   "source": [
    "- Как разные цели кредита влияют на его возврат в срок?"
   ]
  },
  {
   "cell_type": "markdown",
   "metadata": {
    "id": "ZwtpkVA2Snrw"
   },
   "source": [
    "Отобразим категорию, общее количество кредитов и вероятность невозврата по уменьшению вероятности."
   ]
  },
  {
   "cell_type": "code",
   "execution_count": 58,
   "metadata": {
    "id": "yQfRSMXzSnrw",
    "scrolled": true
   },
   "outputs": [
    {
     "data": {
      "text/html": [
       "<div>\n",
       "<style scoped>\n",
       "    .dataframe tbody tr th:only-of-type {\n",
       "        vertical-align: middle;\n",
       "    }\n",
       "\n",
       "    .dataframe tbody tr th {\n",
       "        vertical-align: top;\n",
       "    }\n",
       "\n",
       "    .dataframe thead th {\n",
       "        text-align: right;\n",
       "    }\n",
       "</style>\n",
       "<table border=\"1\" class=\"dataframe\">\n",
       "  <thead>\n",
       "    <tr style=\"text-align: right;\">\n",
       "      <th></th>\n",
       "      <th>debt</th>\n",
       "      <th>debt_probability</th>\n",
       "    </tr>\n",
       "    <tr>\n",
       "      <th>purpose_category</th>\n",
       "      <th></th>\n",
       "      <th></th>\n",
       "    </tr>\n",
       "  </thead>\n",
       "  <tbody>\n",
       "    <tr>\n",
       "      <td>покупка автомобиля</td>\n",
       "      <td>4284</td>\n",
       "      <td>0.093</td>\n",
       "    </tr>\n",
       "    <tr>\n",
       "      <td>получение образования</td>\n",
       "      <td>3995</td>\n",
       "      <td>0.093</td>\n",
       "    </tr>\n",
       "    <tr>\n",
       "      <td>сыграть свадьбу</td>\n",
       "      <td>2310</td>\n",
       "      <td>0.080</td>\n",
       "    </tr>\n",
       "    <tr>\n",
       "      <td>покупка или операции с коммерческой недвижимостью</td>\n",
       "      <td>1955</td>\n",
       "      <td>0.077</td>\n",
       "    </tr>\n",
       "    <tr>\n",
       "      <td>покупка или операции с жилой недвижимостью</td>\n",
       "      <td>8809</td>\n",
       "      <td>0.071</td>\n",
       "    </tr>\n",
       "  </tbody>\n",
       "</table>\n",
       "</div>"
      ],
      "text/plain": [
       "                                                   debt  debt_probability\n",
       "purpose_category                                                         \n",
       "покупка автомобиля                                 4284             0.093\n",
       "получение образования                              3995             0.093\n",
       "сыграть свадьбу                                    2310             0.080\n",
       "покупка или операции с коммерческой недвижимостью  1955             0.077\n",
       "покупка или операции с жилой недвижимостью         8809             0.071"
      ]
     },
     "execution_count": 58,
     "metadata": {},
     "output_type": "execute_result"
    }
   ],
   "source": [
    "debt_probability_func('purpose_category')"
   ]
  },
  {
   "cell_type": "markdown",
   "metadata": {
    "id": "x8UiqLAfSnrw"
   },
   "source": [
    "**Вывод**"
   ]
  },
  {
   "cell_type": "markdown",
   "metadata": {
    "id": "AdmVKBqASnrw"
   },
   "source": [
    "Разные цели влияют на вероятность возврата кредита. Цель кредита самых ненадежных заемщиков - это либо покупка автомобиля, либо получение образования. Самые надежные заемщики берут кредит на покупку или операции с жилой недвижимости. Операции с коммерческой недвижимостью немного повышают риск невозврата по сравнению с жилой. Интересно отметить, что большое число заемщиков (больше, чем операций с коммерческой недвижимостью) берет кредит на проведение свадьбы, их надежность находится на среднем уровне (вероятность невозврата 8 %) и выше надежности заемщиков, которые планируют купить автомобиль."
   ]
  },
  {
   "cell_type": "markdown",
   "metadata": {
    "id": "l0qHvTekSnrx"
   },
   "source": [
    "## Шаг 4. Общий вывод"
   ]
  },
  {
   "cell_type": "markdown",
   "metadata": {
    "id": "n-AFvLhlSnrx"
   },
   "source": [
    "В данной работе проведена предобработка данных, заменены пропущенные, нулевые и некорректные значения, удалены дубликаты, проведена лемматизация и категоризация данных. Оценены зависимости между наличием детей, семейным положением, уровнем дохода, целью кредита и возвратом кредита в срок. Показано, что  самым ненадежным заемщиком будет не женатый, с детьми, со средним доходом , которому нужен кредит на получение образования или покупку автомобиля. А самым надежным - бездетный вдовец с высоким доходом, который берет кредит на покупку или операции с жилой недвижимостью."
   ]
  },
  {
   "cell_type": "code",
   "execution_count": null,
   "metadata": {},
   "outputs": [],
   "source": []
  }
 ],
 "metadata": {
  "ExecuteTimeLog": [
   {
    "duration": 830,
    "start_time": "2021-11-07T09:32:29.425Z"
   },
   {
    "duration": 78,
    "start_time": "2021-11-07T09:37:39.354Z"
   },
   {
    "duration": 87,
    "start_time": "2021-11-07T09:47:35.162Z"
   },
   {
    "duration": 429,
    "start_time": "2021-11-07T09:49:07.170Z"
   },
   {
    "duration": 346,
    "start_time": "2021-11-07T09:49:31.599Z"
   },
   {
    "duration": 88,
    "start_time": "2021-11-07T09:49:43.781Z"
   },
   {
    "duration": 94,
    "start_time": "2021-11-07T09:50:00.806Z"
   },
   {
    "duration": 89,
    "start_time": "2021-11-07T09:50:52.651Z"
   },
   {
    "duration": 94,
    "start_time": "2021-11-07T09:52:41.792Z"
   },
   {
    "duration": 1428,
    "start_time": "2021-11-09T07:17:38.768Z"
   },
   {
    "duration": 122,
    "start_time": "2021-11-09T07:17:49.193Z"
   },
   {
    "duration": 126,
    "start_time": "2021-11-09T07:18:17.817Z"
   },
   {
    "duration": 102,
    "start_time": "2021-11-09T08:32:35.699Z"
   },
   {
    "duration": 123,
    "start_time": "2021-11-09T08:33:00.583Z"
   },
   {
    "duration": 227,
    "start_time": "2021-11-09T11:37:59.645Z"
   },
   {
    "duration": 588,
    "start_time": "2021-11-09T11:38:08.253Z"
   },
   {
    "duration": 207,
    "start_time": "2021-11-09T11:38:12.055Z"
   },
   {
    "duration": 5,
    "start_time": "2021-11-09T11:38:37.895Z"
   },
   {
    "duration": 183,
    "start_time": "2021-11-09T11:39:03.142Z"
   },
   {
    "duration": 5,
    "start_time": "2021-11-09T11:39:10.453Z"
   },
   {
    "duration": 4,
    "start_time": "2021-11-09T11:39:25.745Z"
   },
   {
    "duration": 3,
    "start_time": "2021-11-09T11:39:37.048Z"
   },
   {
    "duration": 252,
    "start_time": "2021-11-09T11:41:16.200Z"
   },
   {
    "duration": 7,
    "start_time": "2021-11-09T11:41:38.048Z"
   },
   {
    "duration": 4,
    "start_time": "2021-11-09T11:42:52.904Z"
   },
   {
    "duration": 5,
    "start_time": "2021-11-09T11:43:19.688Z"
   },
   {
    "duration": 189,
    "start_time": "2021-11-09T11:43:35.007Z"
   },
   {
    "duration": 194,
    "start_time": "2021-11-09T11:47:04.220Z"
   },
   {
    "duration": 30,
    "start_time": "2021-11-09T11:47:08.896Z"
   },
   {
    "duration": 192,
    "start_time": "2021-11-09T11:49:23.806Z"
   },
   {
    "duration": 192,
    "start_time": "2021-11-09T11:49:42.669Z"
   },
   {
    "duration": 27,
    "start_time": "2021-11-09T11:50:25.425Z"
   },
   {
    "duration": 4,
    "start_time": "2021-11-09T11:51:25.575Z"
   },
   {
    "duration": 5,
    "start_time": "2021-11-09T11:52:20.045Z"
   },
   {
    "duration": 26,
    "start_time": "2021-11-09T11:53:44.734Z"
   },
   {
    "duration": 4,
    "start_time": "2021-11-09T12:00:37.760Z"
   },
   {
    "duration": 23,
    "start_time": "2021-11-09T12:01:10.779Z"
   },
   {
    "duration": 5,
    "start_time": "2021-11-09T12:02:05.934Z"
   },
   {
    "duration": 5,
    "start_time": "2021-11-09T12:02:20.503Z"
   },
   {
    "duration": 4,
    "start_time": "2021-11-09T12:02:32.179Z"
   },
   {
    "duration": 6,
    "start_time": "2021-11-09T12:02:58.105Z"
   },
   {
    "duration": 4,
    "start_time": "2021-11-09T12:03:47.169Z"
   },
   {
    "duration": 5,
    "start_time": "2021-11-09T12:04:07.473Z"
   },
   {
    "duration": 27,
    "start_time": "2021-11-09T12:04:29.833Z"
   },
   {
    "duration": 4,
    "start_time": "2021-11-09T12:04:52.453Z"
   },
   {
    "duration": 5,
    "start_time": "2021-11-09T12:05:49.645Z"
   },
   {
    "duration": 4,
    "start_time": "2021-11-09T12:06:34.099Z"
   },
   {
    "duration": 4,
    "start_time": "2021-11-09T12:07:39.328Z"
   },
   {
    "duration": 4,
    "start_time": "2021-11-09T12:08:32.297Z"
   },
   {
    "duration": 4,
    "start_time": "2021-11-09T12:09:50.964Z"
   },
   {
    "duration": 26,
    "start_time": "2021-11-09T12:10:19.762Z"
   },
   {
    "duration": 26,
    "start_time": "2021-11-09T12:10:55.088Z"
   },
   {
    "duration": 5,
    "start_time": "2021-11-09T12:12:22.013Z"
   },
   {
    "duration": 7,
    "start_time": "2021-11-09T12:19:42.668Z"
   },
   {
    "duration": 10,
    "start_time": "2021-11-09T12:20:11.991Z"
   },
   {
    "duration": 9,
    "start_time": "2021-11-09T12:20:21.774Z"
   },
   {
    "duration": 8,
    "start_time": "2021-11-09T12:20:51.571Z"
   },
   {
    "duration": 6,
    "start_time": "2021-11-09T12:22:07.641Z"
   },
   {
    "duration": 7,
    "start_time": "2021-11-09T12:22:14.289Z"
   },
   {
    "duration": 7,
    "start_time": "2021-11-09T12:22:21.494Z"
   },
   {
    "duration": 30,
    "start_time": "2021-11-09T12:24:08.985Z"
   },
   {
    "duration": 28,
    "start_time": "2021-11-09T12:25:22.468Z"
   },
   {
    "duration": 6,
    "start_time": "2021-11-09T12:25:31.499Z"
   },
   {
    "duration": 7,
    "start_time": "2021-11-09T12:25:37.848Z"
   },
   {
    "duration": 7,
    "start_time": "2021-11-09T12:25:45.414Z"
   },
   {
    "duration": 7,
    "start_time": "2021-11-09T12:27:07.942Z"
   },
   {
    "duration": 9,
    "start_time": "2021-11-09T12:28:02.344Z"
   },
   {
    "duration": 9,
    "start_time": "2021-11-09T12:28:07.976Z"
   },
   {
    "duration": 8,
    "start_time": "2021-11-09T12:28:36.448Z"
   },
   {
    "duration": 9,
    "start_time": "2021-11-09T12:28:43.402Z"
   },
   {
    "duration": 9,
    "start_time": "2021-11-09T12:28:50.825Z"
   },
   {
    "duration": 7,
    "start_time": "2021-11-09T12:29:13.691Z"
   },
   {
    "duration": 11,
    "start_time": "2021-11-09T12:31:06.443Z"
   },
   {
    "duration": 201,
    "start_time": "2021-11-09T12:33:07.042Z"
   },
   {
    "duration": 10,
    "start_time": "2021-11-09T12:33:20.566Z"
   },
   {
    "duration": 11,
    "start_time": "2021-11-09T12:36:08.819Z"
   },
   {
    "duration": 10,
    "start_time": "2021-11-09T12:36:53.180Z"
   },
   {
    "duration": 11,
    "start_time": "2021-11-09T12:37:06.784Z"
   },
   {
    "duration": 10,
    "start_time": "2021-11-09T12:37:08.641Z"
   },
   {
    "duration": 12,
    "start_time": "2021-11-09T12:37:14.841Z"
   },
   {
    "duration": 12,
    "start_time": "2021-11-09T12:37:16.881Z"
   },
   {
    "duration": 10,
    "start_time": "2021-11-09T12:37:18.165Z"
   },
   {
    "duration": 11,
    "start_time": "2021-11-09T12:37:19.517Z"
   },
   {
    "duration": 11,
    "start_time": "2021-11-09T12:37:20.920Z"
   },
   {
    "duration": 11,
    "start_time": "2021-11-09T12:37:32.488Z"
   },
   {
    "duration": 12,
    "start_time": "2021-11-09T12:37:36.092Z"
   },
   {
    "duration": 200,
    "start_time": "2021-11-09T12:38:23.252Z"
   },
   {
    "duration": 212,
    "start_time": "2021-11-09T12:38:36.812Z"
   },
   {
    "duration": 11,
    "start_time": "2021-11-09T12:38:45.191Z"
   },
   {
    "duration": 7,
    "start_time": "2021-11-09T12:52:04.409Z"
   },
   {
    "duration": 6,
    "start_time": "2021-11-09T12:52:14.061Z"
   },
   {
    "duration": 7,
    "start_time": "2021-11-09T12:52:27.167Z"
   },
   {
    "duration": 8,
    "start_time": "2021-11-09T12:52:39.108Z"
   },
   {
    "duration": 58,
    "start_time": "2021-11-09T12:53:49.546Z"
   },
   {
    "duration": 28,
    "start_time": "2021-11-09T12:54:00.263Z"
   },
   {
    "duration": 9,
    "start_time": "2021-11-09T12:55:14.082Z"
   },
   {
    "duration": 24,
    "start_time": "2021-11-09T12:55:37.185Z"
   },
   {
    "duration": 10,
    "start_time": "2021-11-09T12:56:32.943Z"
   },
   {
    "duration": 23,
    "start_time": "2021-11-09T12:56:58.351Z"
   },
   {
    "duration": 10,
    "start_time": "2021-11-09T12:57:32.883Z"
   },
   {
    "duration": 10,
    "start_time": "2021-11-09T12:58:30.838Z"
   },
   {
    "duration": 66,
    "start_time": "2021-11-09T12:59:37.396Z"
   },
   {
    "duration": 5,
    "start_time": "2021-11-09T13:00:32.782Z"
   },
   {
    "duration": 7,
    "start_time": "2021-11-09T13:00:40.109Z"
   },
   {
    "duration": 201,
    "start_time": "2021-11-09T13:01:30.688Z"
   },
   {
    "duration": 9,
    "start_time": "2021-11-09T13:02:04.551Z"
   },
   {
    "duration": 191,
    "start_time": "2021-11-09T13:03:26.077Z"
   },
   {
    "duration": 185,
    "start_time": "2021-11-09T13:03:46.049Z"
   },
   {
    "duration": 6,
    "start_time": "2021-11-09T13:04:10.869Z"
   },
   {
    "duration": 9,
    "start_time": "2021-11-09T13:07:01.804Z"
   },
   {
    "duration": 69,
    "start_time": "2021-11-09T13:14:54.676Z"
   },
   {
    "duration": 5,
    "start_time": "2021-11-09T14:22:21.181Z"
   },
   {
    "duration": 5,
    "start_time": "2021-11-09T14:22:26.601Z"
   },
   {
    "duration": 4,
    "start_time": "2021-11-09T14:22:30.699Z"
   },
   {
    "duration": 7,
    "start_time": "2021-11-09T14:52:24.480Z"
   },
   {
    "duration": 7,
    "start_time": "2021-11-09T14:53:15.444Z"
   },
   {
    "duration": 381,
    "start_time": "2021-11-10T08:33:35.087Z"
   },
   {
    "duration": 860,
    "start_time": "2021-11-10T08:33:44.060Z"
   },
   {
    "duration": 15,
    "start_time": "2021-11-10T08:33:44.923Z"
   },
   {
    "duration": 61,
    "start_time": "2021-11-10T08:33:44.941Z"
   },
   {
    "duration": 11,
    "start_time": "2021-11-10T08:33:45.006Z"
   },
   {
    "duration": 20,
    "start_time": "2021-11-10T08:33:45.019Z"
   },
   {
    "duration": 8,
    "start_time": "2021-11-10T08:33:45.068Z"
   },
   {
    "duration": 5,
    "start_time": "2021-11-10T08:33:45.079Z"
   },
   {
    "duration": 10,
    "start_time": "2021-11-10T08:33:45.088Z"
   },
   {
    "duration": 5,
    "start_time": "2021-11-10T08:33:45.101Z"
   },
   {
    "duration": 58,
    "start_time": "2021-11-10T08:33:45.109Z"
   },
   {
    "duration": 7,
    "start_time": "2021-11-10T08:33:45.170Z"
   },
   {
    "duration": 5,
    "start_time": "2021-11-10T08:33:45.179Z"
   },
   {
    "duration": 80,
    "start_time": "2021-11-10T08:33:45.187Z"
   },
   {
    "duration": 6,
    "start_time": "2021-11-10T08:33:45.270Z"
   },
   {
    "duration": 5,
    "start_time": "2021-11-10T08:33:45.279Z"
   },
   {
    "duration": 1160,
    "start_time": "2021-11-10T08:33:45.286Z"
   },
   {
    "duration": 13,
    "start_time": "2021-11-10T08:34:28.510Z"
   },
   {
    "duration": 7,
    "start_time": "2021-11-10T08:34:48.079Z"
   },
   {
    "duration": 8,
    "start_time": "2021-11-10T08:35:33.674Z"
   },
   {
    "duration": 275,
    "start_time": "2021-11-10T08:35:40.569Z"
   },
   {
    "duration": 10,
    "start_time": "2021-11-10T08:36:12.221Z"
   },
   {
    "duration": 8,
    "start_time": "2021-11-10T08:36:27.770Z"
   },
   {
    "duration": 11,
    "start_time": "2021-11-10T08:38:20.286Z"
   },
   {
    "duration": 1160,
    "start_time": "2021-11-10T08:39:25.651Z"
   },
   {
    "duration": 8,
    "start_time": "2021-11-10T08:43:06.868Z"
   },
   {
    "duration": 8,
    "start_time": "2021-11-10T08:43:44.072Z"
   },
   {
    "duration": 304,
    "start_time": "2021-11-10T08:44:08.169Z"
   },
   {
    "duration": 8,
    "start_time": "2021-11-10T08:45:01.851Z"
   },
   {
    "duration": 306,
    "start_time": "2021-11-10T08:48:11.863Z"
   },
   {
    "duration": 27,
    "start_time": "2021-11-10T08:48:37.856Z"
   },
   {
    "duration": 15,
    "start_time": "2021-11-10T08:48:48.863Z"
   },
   {
    "duration": 15,
    "start_time": "2021-11-10T08:50:11.915Z"
   },
   {
    "duration": 25,
    "start_time": "2021-11-10T08:50:58.914Z"
   },
   {
    "duration": 36,
    "start_time": "2021-11-10T08:51:24.141Z"
   },
   {
    "duration": 21,
    "start_time": "2021-11-10T08:52:15.964Z"
   },
   {
    "duration": 26,
    "start_time": "2021-11-10T08:52:54.565Z"
   },
   {
    "duration": 27,
    "start_time": "2021-11-10T08:53:59.156Z"
   },
   {
    "duration": 28,
    "start_time": "2021-11-10T08:54:18.533Z"
   },
   {
    "duration": 302,
    "start_time": "2021-11-10T08:56:40.371Z"
   },
   {
    "duration": 1129,
    "start_time": "2021-11-10T08:57:04.724Z"
   },
   {
    "duration": 328,
    "start_time": "2021-11-10T08:57:35.127Z"
   },
   {
    "duration": 385,
    "start_time": "2021-11-10T08:57:46.501Z"
   },
   {
    "duration": 1094,
    "start_time": "2021-11-10T08:58:23.111Z"
   },
   {
    "duration": 672,
    "start_time": "2021-11-10T08:59:22.438Z"
   },
   {
    "duration": 303,
    "start_time": "2021-11-10T08:59:43.029Z"
   },
   {
    "duration": 301,
    "start_time": "2021-11-10T09:01:09.475Z"
   },
   {
    "duration": 286,
    "start_time": "2021-11-10T09:01:28.052Z"
   },
   {
    "duration": 299,
    "start_time": "2021-11-10T09:03:21.288Z"
   },
   {
    "duration": 1304,
    "start_time": "2021-11-10T09:03:34.310Z"
   },
   {
    "duration": 7705,
    "start_time": "2021-11-10T09:04:30.890Z"
   },
   {
    "duration": 7180,
    "start_time": "2021-11-10T09:04:50.974Z"
   },
   {
    "duration": 7011,
    "start_time": "2021-11-10T09:05:08.440Z"
   },
   {
    "duration": 286,
    "start_time": "2021-11-10T09:05:23.631Z"
   },
   {
    "duration": 38,
    "start_time": "2021-11-10T09:12:45.263Z"
   },
   {
    "duration": 38,
    "start_time": "2021-11-10T09:13:35.154Z"
   },
   {
    "duration": 13,
    "start_time": "2021-11-10T09:13:52.333Z"
   },
   {
    "duration": 20,
    "start_time": "2021-11-10T09:15:18.670Z"
   },
   {
    "duration": 27,
    "start_time": "2021-11-10T09:16:49.192Z"
   },
   {
    "duration": 23,
    "start_time": "2021-11-10T09:18:31.867Z"
   },
   {
    "duration": 21,
    "start_time": "2021-11-10T09:18:43.995Z"
   },
   {
    "duration": 309,
    "start_time": "2021-11-10T09:19:15.705Z"
   },
   {
    "duration": 24,
    "start_time": "2021-11-10T09:20:14.270Z"
   },
   {
    "duration": 41,
    "start_time": "2021-11-10T09:21:03.195Z"
   },
   {
    "duration": 642,
    "start_time": "2021-11-10T09:21:20.402Z"
   },
   {
    "duration": 31,
    "start_time": "2021-11-10T09:21:32.884Z"
   },
   {
    "duration": 35,
    "start_time": "2021-11-10T09:22:41.886Z"
   },
   {
    "duration": 49,
    "start_time": "2021-11-10T09:23:32.536Z"
   },
   {
    "duration": 50,
    "start_time": "2021-11-10T09:24:40.642Z"
   },
   {
    "duration": 29,
    "start_time": "2021-11-10T09:26:11.598Z"
   },
   {
    "duration": 106,
    "start_time": "2021-11-10T09:27:06.066Z"
   },
   {
    "duration": 92,
    "start_time": "2021-11-10T09:27:45.924Z"
   },
   {
    "duration": 13,
    "start_time": "2021-11-10T09:27:57.577Z"
   },
   {
    "duration": 91,
    "start_time": "2021-11-10T09:28:25.022Z"
   },
   {
    "duration": 39,
    "start_time": "2021-11-10T10:26:59.833Z"
   },
   {
    "duration": 43,
    "start_time": "2021-11-10T10:27:20.988Z"
   },
   {
    "duration": 92,
    "start_time": "2021-11-10T10:27:45.741Z"
   },
   {
    "duration": 39,
    "start_time": "2021-11-10T10:27:45.835Z"
   },
   {
    "duration": 37,
    "start_time": "2021-11-10T10:27:45.878Z"
   },
   {
    "duration": 8,
    "start_time": "2021-11-10T10:27:45.917Z"
   },
   {
    "duration": 43,
    "start_time": "2021-11-10T10:27:45.928Z"
   },
   {
    "duration": 11,
    "start_time": "2021-11-10T10:27:45.974Z"
   },
   {
    "duration": 5,
    "start_time": "2021-11-10T10:27:45.988Z"
   },
   {
    "duration": 11,
    "start_time": "2021-11-10T10:27:45.995Z"
   },
   {
    "duration": 57,
    "start_time": "2021-11-10T10:27:46.010Z"
   },
   {
    "duration": 11,
    "start_time": "2021-11-10T10:27:46.070Z"
   },
   {
    "duration": 5,
    "start_time": "2021-11-10T10:27:46.084Z"
   },
   {
    "duration": 5,
    "start_time": "2021-11-10T10:27:46.092Z"
   },
   {
    "duration": 96,
    "start_time": "2021-11-10T10:27:46.099Z"
   },
   {
    "duration": 7,
    "start_time": "2021-11-10T10:27:46.198Z"
   },
   {
    "duration": 16,
    "start_time": "2021-11-10T10:27:46.208Z"
   },
   {
    "duration": 42,
    "start_time": "2021-11-10T10:27:46.227Z"
   },
   {
    "duration": 37,
    "start_time": "2021-11-10T10:27:46.272Z"
   },
   {
    "duration": 84,
    "start_time": "2021-11-10T10:27:46.312Z"
   },
   {
    "duration": 20,
    "start_time": "2021-11-10T10:32:44.170Z"
   },
   {
    "duration": 18,
    "start_time": "2021-11-10T10:35:19.657Z"
   },
   {
    "duration": 3,
    "start_time": "2021-11-10T10:36:16.747Z"
   },
   {
    "duration": 3,
    "start_time": "2021-11-10T10:36:28.261Z"
   },
   {
    "duration": 3,
    "start_time": "2021-11-10T10:36:35.605Z"
   },
   {
    "duration": 12,
    "start_time": "2021-11-10T10:37:22.312Z"
   },
   {
    "duration": 18,
    "start_time": "2021-11-10T10:59:55.224Z"
   },
   {
    "duration": 4,
    "start_time": "2021-11-10T11:46:34.371Z"
   },
   {
    "duration": 8,
    "start_time": "2021-11-10T11:46:50.915Z"
   },
   {
    "duration": 6,
    "start_time": "2021-11-10T11:47:20.549Z"
   },
   {
    "duration": 11,
    "start_time": "2021-11-10T11:48:06.354Z"
   },
   {
    "duration": 16,
    "start_time": "2021-11-10T11:55:03.896Z"
   },
   {
    "duration": 23,
    "start_time": "2021-11-10T11:55:53.959Z"
   },
   {
    "duration": 36,
    "start_time": "2021-11-10T11:58:42.337Z"
   },
   {
    "duration": 50,
    "start_time": "2021-11-10T12:00:21.282Z"
   },
   {
    "duration": 84,
    "start_time": "2021-11-10T12:01:48.434Z"
   },
   {
    "duration": 74,
    "start_time": "2021-11-10T12:03:41.156Z"
   },
   {
    "duration": 12,
    "start_time": "2021-11-10T12:05:27.081Z"
   },
   {
    "duration": 174,
    "start_time": "2021-11-10T12:17:22.812Z"
   },
   {
    "duration": 60,
    "start_time": "2021-11-10T12:25:29.129Z"
   },
   {
    "duration": 56,
    "start_time": "2021-11-10T12:26:43.506Z"
   },
   {
    "duration": 146,
    "start_time": "2021-11-10T12:39:16.369Z"
   },
   {
    "duration": 59,
    "start_time": "2021-11-10T12:39:58.032Z"
   },
   {
    "duration": 62,
    "start_time": "2021-11-10T12:40:05.301Z"
   },
   {
    "duration": 58,
    "start_time": "2021-11-10T12:40:23.896Z"
   },
   {
    "duration": 60,
    "start_time": "2021-11-10T12:41:31.107Z"
   },
   {
    "duration": 52,
    "start_time": "2021-11-10T12:41:46.191Z"
   },
   {
    "duration": 59,
    "start_time": "2021-11-10T12:41:58.331Z"
   },
   {
    "duration": 53,
    "start_time": "2021-11-10T12:42:26.942Z"
   },
   {
    "duration": 104,
    "start_time": "2021-11-10T12:43:51.766Z"
   },
   {
    "duration": 50,
    "start_time": "2021-11-10T12:46:43.441Z"
   },
   {
    "duration": 98,
    "start_time": "2021-11-10T12:47:28.412Z"
   },
   {
    "duration": 101,
    "start_time": "2021-11-10T12:47:35.023Z"
   },
   {
    "duration": 48,
    "start_time": "2021-11-10T12:49:24.203Z"
   },
   {
    "duration": 48,
    "start_time": "2021-11-10T12:49:40.376Z"
   },
   {
    "duration": 51,
    "start_time": "2021-11-10T12:49:49.835Z"
   },
   {
    "duration": 47,
    "start_time": "2021-11-10T12:49:59.056Z"
   },
   {
    "duration": 48,
    "start_time": "2021-11-10T13:28:20.361Z"
   },
   {
    "duration": 294,
    "start_time": "2021-11-10T13:29:51.932Z"
   },
   {
    "duration": 21,
    "start_time": "2021-11-10T13:30:54.328Z"
   },
   {
    "duration": 17,
    "start_time": "2021-11-10T13:30:57.533Z"
   },
   {
    "duration": 21,
    "start_time": "2021-11-10T13:31:53.112Z"
   },
   {
    "duration": 403,
    "start_time": "2021-11-10T13:32:02.402Z"
   },
   {
    "duration": 278,
    "start_time": "2021-11-10T13:32:49.729Z"
   },
   {
    "duration": 300,
    "start_time": "2021-11-10T13:33:23.220Z"
   },
   {
    "duration": 23,
    "start_time": "2021-11-10T13:34:58.544Z"
   },
   {
    "duration": 23,
    "start_time": "2021-11-10T13:36:50.678Z"
   },
   {
    "duration": 22,
    "start_time": "2021-11-10T13:36:52.091Z"
   },
   {
    "duration": 23,
    "start_time": "2021-11-10T13:38:15.315Z"
   },
   {
    "duration": 25,
    "start_time": "2021-11-10T13:38:24.477Z"
   },
   {
    "duration": 4437,
    "start_time": "2021-11-10T13:39:33.750Z"
   },
   {
    "duration": 3505,
    "start_time": "2021-11-10T13:43:22.250Z"
   },
   {
    "duration": 3482,
    "start_time": "2021-11-10T13:47:51.509Z"
   },
   {
    "duration": 4556,
    "start_time": "2021-11-10T13:48:31.035Z"
   },
   {
    "duration": 4058,
    "start_time": "2021-11-10T13:48:49.537Z"
   },
   {
    "duration": 4083,
    "start_time": "2021-11-10T13:50:14.676Z"
   },
   {
    "duration": 4075,
    "start_time": "2021-11-10T13:51:57.980Z"
   },
   {
    "duration": 3458,
    "start_time": "2021-11-10T13:52:22.270Z"
   },
   {
    "duration": 103,
    "start_time": "2021-11-10T13:54:09.267Z"
   },
   {
    "duration": 10,
    "start_time": "2021-11-10T13:54:09.372Z"
   },
   {
    "duration": 41,
    "start_time": "2021-11-10T13:54:09.386Z"
   },
   {
    "duration": 39,
    "start_time": "2021-11-10T13:54:09.429Z"
   },
   {
    "duration": 9,
    "start_time": "2021-11-10T13:54:09.471Z"
   },
   {
    "duration": 13,
    "start_time": "2021-11-10T13:54:09.482Z"
   },
   {
    "duration": 7,
    "start_time": "2021-11-10T13:54:09.497Z"
   },
   {
    "duration": 10,
    "start_time": "2021-11-10T13:54:09.506Z"
   },
   {
    "duration": 3,
    "start_time": "2021-11-10T13:54:09.520Z"
   },
   {
    "duration": 52,
    "start_time": "2021-11-10T13:54:09.525Z"
   },
   {
    "duration": 16,
    "start_time": "2021-11-10T13:54:09.580Z"
   },
   {
    "duration": 11,
    "start_time": "2021-11-10T13:54:09.599Z"
   },
   {
    "duration": 73,
    "start_time": "2021-11-10T13:54:09.612Z"
   },
   {
    "duration": 7,
    "start_time": "2021-11-10T13:54:09.688Z"
   },
   {
    "duration": 12,
    "start_time": "2021-11-10T13:54:09.697Z"
   },
   {
    "duration": 26,
    "start_time": "2021-11-10T13:54:09.711Z"
   },
   {
    "duration": 25,
    "start_time": "2021-11-10T13:54:09.768Z"
   },
   {
    "duration": 21,
    "start_time": "2021-11-10T13:54:09.796Z"
   },
   {
    "duration": 87,
    "start_time": "2021-11-10T13:54:09.820Z"
   },
   {
    "duration": 13,
    "start_time": "2021-11-10T13:54:09.910Z"
   },
   {
    "duration": 22,
    "start_time": "2021-11-10T13:54:29.984Z"
   },
   {
    "duration": 61,
    "start_time": "2021-11-10T13:54:55.341Z"
   },
   {
    "duration": 60,
    "start_time": "2021-11-10T13:54:58.932Z"
   },
   {
    "duration": 18,
    "start_time": "2021-11-10T13:55:13.574Z"
   },
   {
    "duration": 15,
    "start_time": "2021-11-10T13:55:25.769Z"
   },
   {
    "duration": 92,
    "start_time": "2021-11-10T13:55:32.693Z"
   },
   {
    "duration": 10,
    "start_time": "2021-11-10T13:55:32.788Z"
   },
   {
    "duration": 66,
    "start_time": "2021-11-10T13:55:32.801Z"
   },
   {
    "duration": 9,
    "start_time": "2021-11-10T13:55:32.871Z"
   },
   {
    "duration": 10,
    "start_time": "2021-11-10T13:55:32.882Z"
   },
   {
    "duration": 10,
    "start_time": "2021-11-10T13:55:32.894Z"
   },
   {
    "duration": 8,
    "start_time": "2021-11-10T13:55:32.906Z"
   },
   {
    "duration": 51,
    "start_time": "2021-11-10T13:55:32.916Z"
   },
   {
    "duration": 3,
    "start_time": "2021-11-10T13:55:32.972Z"
   },
   {
    "duration": 17,
    "start_time": "2021-11-10T13:55:32.977Z"
   },
   {
    "duration": 15,
    "start_time": "2021-11-10T13:55:32.997Z"
   },
   {
    "duration": 4,
    "start_time": "2021-11-10T13:55:33.015Z"
   },
   {
    "duration": 39,
    "start_time": "2021-11-10T13:55:33.066Z"
   },
   {
    "duration": 7,
    "start_time": "2021-11-10T13:55:33.107Z"
   },
   {
    "duration": 5,
    "start_time": "2021-11-10T13:55:33.116Z"
   },
   {
    "duration": 51,
    "start_time": "2021-11-10T13:55:33.123Z"
   },
   {
    "duration": 26,
    "start_time": "2021-11-10T13:55:33.176Z"
   },
   {
    "duration": 19,
    "start_time": "2021-11-10T13:55:33.205Z"
   },
   {
    "duration": 84,
    "start_time": "2021-11-10T13:55:33.226Z"
   },
   {
    "duration": 14,
    "start_time": "2021-11-10T13:55:33.312Z"
   },
   {
    "duration": 13,
    "start_time": "2021-11-10T13:56:26.264Z"
   },
   {
    "duration": 12,
    "start_time": "2021-11-10T13:56:42.664Z"
   },
   {
    "duration": 100,
    "start_time": "2021-11-10T13:56:47.772Z"
   },
   {
    "duration": 9,
    "start_time": "2021-11-10T13:56:47.875Z"
   },
   {
    "duration": 40,
    "start_time": "2021-11-10T13:56:47.887Z"
   },
   {
    "duration": 43,
    "start_time": "2021-11-10T13:56:47.929Z"
   },
   {
    "duration": 7,
    "start_time": "2021-11-10T13:56:47.974Z"
   },
   {
    "duration": 9,
    "start_time": "2021-11-10T13:56:47.984Z"
   },
   {
    "duration": 3,
    "start_time": "2021-11-10T13:56:47.995Z"
   },
   {
    "duration": 9,
    "start_time": "2021-11-10T13:56:48.002Z"
   },
   {
    "duration": 3,
    "start_time": "2021-11-10T13:56:48.068Z"
   },
   {
    "duration": 21,
    "start_time": "2021-11-10T13:56:48.073Z"
   },
   {
    "duration": 15,
    "start_time": "2021-11-10T13:56:48.097Z"
   },
   {
    "duration": 3,
    "start_time": "2021-11-10T13:56:48.114Z"
   },
   {
    "duration": 74,
    "start_time": "2021-11-10T13:56:48.119Z"
   },
   {
    "duration": 7,
    "start_time": "2021-11-10T13:56:48.195Z"
   },
   {
    "duration": 10,
    "start_time": "2021-11-10T13:56:48.204Z"
   },
   {
    "duration": 26,
    "start_time": "2021-11-10T13:56:48.216Z"
   },
   {
    "duration": 23,
    "start_time": "2021-11-10T13:56:48.266Z"
   },
   {
    "duration": 18,
    "start_time": "2021-11-10T13:56:48.291Z"
   },
   {
    "duration": 76,
    "start_time": "2021-11-10T13:56:48.311Z"
   },
   {
    "duration": 15,
    "start_time": "2021-11-10T13:56:48.390Z"
   },
   {
    "duration": 41,
    "start_time": "2021-11-10T14:08:35.389Z"
   },
   {
    "duration": 35,
    "start_time": "2021-11-10T14:08:42.987Z"
   },
   {
    "duration": 41,
    "start_time": "2021-11-10T14:09:39.130Z"
   },
   {
    "duration": 43,
    "start_time": "2021-11-10T14:09:48.364Z"
   },
   {
    "duration": 45,
    "start_time": "2021-11-10T14:09:49.817Z"
   },
   {
    "duration": 47,
    "start_time": "2021-11-10T14:10:31.155Z"
   },
   {
    "duration": 56,
    "start_time": "2021-11-10T14:10:39.958Z"
   },
   {
    "duration": 122,
    "start_time": "2021-11-10T14:10:43.160Z"
   },
   {
    "duration": 14,
    "start_time": "2021-11-10T14:10:43.285Z"
   },
   {
    "duration": 66,
    "start_time": "2021-11-10T14:10:43.302Z"
   },
   {
    "duration": 10,
    "start_time": "2021-11-10T14:10:43.371Z"
   },
   {
    "duration": 8,
    "start_time": "2021-11-10T14:10:43.383Z"
   },
   {
    "duration": 9,
    "start_time": "2021-11-10T14:10:43.393Z"
   },
   {
    "duration": 5,
    "start_time": "2021-11-10T14:10:43.404Z"
   },
   {
    "duration": 56,
    "start_time": "2021-11-10T14:10:43.411Z"
   },
   {
    "duration": 8,
    "start_time": "2021-11-10T14:10:43.471Z"
   },
   {
    "duration": 15,
    "start_time": "2021-11-10T14:10:43.482Z"
   },
   {
    "duration": 12,
    "start_time": "2021-11-10T14:10:43.500Z"
   },
   {
    "duration": 3,
    "start_time": "2021-11-10T14:10:43.515Z"
   },
   {
    "duration": 80,
    "start_time": "2021-11-10T14:10:43.520Z"
   },
   {
    "duration": 8,
    "start_time": "2021-11-10T14:10:43.602Z"
   },
   {
    "duration": 8,
    "start_time": "2021-11-10T14:10:43.612Z"
   },
   {
    "duration": 46,
    "start_time": "2021-11-10T14:10:43.622Z"
   },
   {
    "duration": 27,
    "start_time": "2021-11-10T14:10:43.671Z"
   },
   {
    "duration": 21,
    "start_time": "2021-11-10T14:10:43.701Z"
   },
   {
    "duration": 80,
    "start_time": "2021-11-10T14:10:43.724Z"
   },
   {
    "duration": 70,
    "start_time": "2021-11-10T14:10:43.807Z"
   },
   {
    "duration": 90,
    "start_time": "2021-11-10T14:11:50.052Z"
   },
   {
    "duration": 137,
    "start_time": "2021-11-10T14:12:03.139Z"
   },
   {
    "duration": 29,
    "start_time": "2021-11-10T14:12:24.049Z"
   },
   {
    "duration": 20,
    "start_time": "2021-11-10T14:12:26.690Z"
   },
   {
    "duration": 6858,
    "start_time": "2021-11-10T14:12:50.791Z"
   },
   {
    "duration": 6699,
    "start_time": "2021-11-10T14:13:21.234Z"
   },
   {
    "duration": 7086,
    "start_time": "2021-11-10T14:14:15.894Z"
   },
   {
    "duration": 92,
    "start_time": "2021-11-10T14:14:46.780Z"
   },
   {
    "duration": 10,
    "start_time": "2021-11-10T14:14:46.874Z"
   },
   {
    "duration": 38,
    "start_time": "2021-11-10T14:14:46.888Z"
   },
   {
    "duration": 46,
    "start_time": "2021-11-10T14:14:46.928Z"
   },
   {
    "duration": 7,
    "start_time": "2021-11-10T14:14:46.976Z"
   },
   {
    "duration": 12,
    "start_time": "2021-11-10T14:14:46.985Z"
   },
   {
    "duration": 18,
    "start_time": "2021-11-10T14:14:46.999Z"
   },
   {
    "duration": 14,
    "start_time": "2021-11-10T14:14:47.019Z"
   },
   {
    "duration": 33,
    "start_time": "2021-11-10T14:14:47.036Z"
   },
   {
    "duration": 16,
    "start_time": "2021-11-10T14:14:47.072Z"
   },
   {
    "duration": 12,
    "start_time": "2021-11-10T14:14:47.091Z"
   },
   {
    "duration": 3,
    "start_time": "2021-11-10T14:14:47.106Z"
   },
   {
    "duration": 81,
    "start_time": "2021-11-10T14:14:47.111Z"
   },
   {
    "duration": 7,
    "start_time": "2021-11-10T14:14:47.194Z"
   },
   {
    "duration": 4,
    "start_time": "2021-11-10T14:14:47.203Z"
   },
   {
    "duration": 18,
    "start_time": "2021-11-10T14:14:47.209Z"
   },
   {
    "duration": 24,
    "start_time": "2021-11-10T14:14:47.267Z"
   },
   {
    "duration": 18,
    "start_time": "2021-11-10T14:14:47.293Z"
   },
   {
    "duration": 85,
    "start_time": "2021-11-10T14:14:47.313Z"
   },
   {
    "duration": 10,
    "start_time": "2021-11-10T14:14:47.401Z"
   },
   {
    "duration": 38,
    "start_time": "2021-11-10T14:15:33.706Z"
   },
   {
    "duration": 27,
    "start_time": "2021-11-10T14:15:52.294Z"
   },
   {
    "duration": 9,
    "start_time": "2021-11-10T14:16:32.569Z"
   },
   {
    "duration": 11,
    "start_time": "2021-11-10T14:16:33.404Z"
   },
   {
    "duration": 9,
    "start_time": "2021-11-10T14:16:34.014Z"
   },
   {
    "duration": 100,
    "start_time": "2021-11-10T14:16:37.097Z"
   },
   {
    "duration": 11,
    "start_time": "2021-11-10T14:16:37.200Z"
   },
   {
    "duration": 65,
    "start_time": "2021-11-10T14:16:37.215Z"
   },
   {
    "duration": 8,
    "start_time": "2021-11-10T14:16:37.283Z"
   },
   {
    "duration": 6,
    "start_time": "2021-11-10T14:16:37.294Z"
   },
   {
    "duration": 8,
    "start_time": "2021-11-10T14:16:37.302Z"
   },
   {
    "duration": 5,
    "start_time": "2021-11-10T14:16:37.313Z"
   },
   {
    "duration": 6,
    "start_time": "2021-11-10T14:16:37.368Z"
   },
   {
    "duration": 3,
    "start_time": "2021-11-10T14:16:37.377Z"
   },
   {
    "duration": 17,
    "start_time": "2021-11-10T14:16:37.382Z"
   },
   {
    "duration": 15,
    "start_time": "2021-11-10T14:16:37.401Z"
   },
   {
    "duration": 49,
    "start_time": "2021-11-10T14:16:37.418Z"
   },
   {
    "duration": 48,
    "start_time": "2021-11-10T14:16:37.471Z"
   },
   {
    "duration": 9,
    "start_time": "2021-11-10T14:16:37.521Z"
   },
   {
    "duration": 6,
    "start_time": "2021-11-10T14:16:37.533Z"
   },
   {
    "duration": 19,
    "start_time": "2021-11-10T14:16:37.569Z"
   },
   {
    "duration": 28,
    "start_time": "2021-11-10T14:16:37.590Z"
   },
   {
    "duration": 50,
    "start_time": "2021-11-10T14:16:37.620Z"
   },
   {
    "duration": 46,
    "start_time": "2021-11-10T14:16:37.672Z"
   },
   {
    "duration": 9,
    "start_time": "2021-11-10T14:16:37.720Z"
   },
   {
    "duration": 36,
    "start_time": "2021-11-10T14:16:49.436Z"
   },
   {
    "duration": 108,
    "start_time": "2021-11-10T14:16:53.168Z"
   },
   {
    "duration": 10,
    "start_time": "2021-11-10T14:16:53.279Z"
   },
   {
    "duration": 38,
    "start_time": "2021-11-10T14:16:53.292Z"
   },
   {
    "duration": 39,
    "start_time": "2021-11-10T14:16:53.333Z"
   },
   {
    "duration": 6,
    "start_time": "2021-11-10T14:16:53.375Z"
   },
   {
    "duration": 9,
    "start_time": "2021-11-10T14:16:53.383Z"
   },
   {
    "duration": 6,
    "start_time": "2021-11-10T14:16:53.394Z"
   },
   {
    "duration": 8,
    "start_time": "2021-11-10T14:16:53.404Z"
   },
   {
    "duration": 3,
    "start_time": "2021-11-10T14:16:53.468Z"
   },
   {
    "duration": 15,
    "start_time": "2021-11-10T14:16:53.473Z"
   },
   {
    "duration": 12,
    "start_time": "2021-11-10T14:16:53.490Z"
   },
   {
    "duration": 4,
    "start_time": "2021-11-10T14:16:53.504Z"
   },
   {
    "duration": 83,
    "start_time": "2021-11-10T14:16:53.510Z"
   },
   {
    "duration": 6,
    "start_time": "2021-11-10T14:16:53.596Z"
   },
   {
    "duration": 10,
    "start_time": "2021-11-10T14:16:53.604Z"
   },
   {
    "duration": 24,
    "start_time": "2021-11-10T14:16:53.617Z"
   },
   {
    "duration": 22,
    "start_time": "2021-11-10T14:16:53.668Z"
   },
   {
    "duration": 18,
    "start_time": "2021-11-10T14:16:53.693Z"
   },
   {
    "duration": 81,
    "start_time": "2021-11-10T14:16:53.714Z"
   },
   {
    "duration": 37,
    "start_time": "2021-11-10T14:16:53.797Z"
   },
   {
    "duration": 21,
    "start_time": "2021-11-10T14:17:16.939Z"
   },
   {
    "duration": 97,
    "start_time": "2021-11-10T14:17:20.233Z"
   },
   {
    "duration": 40,
    "start_time": "2021-11-10T14:17:20.333Z"
   },
   {
    "duration": 37,
    "start_time": "2021-11-10T14:17:20.376Z"
   },
   {
    "duration": 10,
    "start_time": "2021-11-10T14:17:20.415Z"
   },
   {
    "duration": 41,
    "start_time": "2021-11-10T14:17:20.428Z"
   },
   {
    "duration": 12,
    "start_time": "2021-11-10T14:17:20.473Z"
   },
   {
    "duration": 4,
    "start_time": "2021-11-10T14:17:20.488Z"
   },
   {
    "duration": 17,
    "start_time": "2021-11-10T14:17:20.496Z"
   },
   {
    "duration": 18,
    "start_time": "2021-11-10T14:17:20.516Z"
   },
   {
    "duration": 37,
    "start_time": "2021-11-10T14:17:20.536Z"
   },
   {
    "duration": 27,
    "start_time": "2021-11-10T14:17:20.575Z"
   },
   {
    "duration": 12,
    "start_time": "2021-11-10T14:17:20.604Z"
   },
   {
    "duration": 49,
    "start_time": "2021-11-10T14:17:20.618Z"
   },
   {
    "duration": 6,
    "start_time": "2021-11-10T14:17:20.670Z"
   },
   {
    "duration": 14,
    "start_time": "2021-11-10T14:17:20.678Z"
   },
   {
    "duration": 22,
    "start_time": "2021-11-10T14:17:20.694Z"
   },
   {
    "duration": 57,
    "start_time": "2021-11-10T14:17:20.718Z"
   },
   {
    "duration": 18,
    "start_time": "2021-11-10T14:17:20.777Z"
   },
   {
    "duration": 79,
    "start_time": "2021-11-10T14:17:20.797Z"
   },
   {
    "duration": 19,
    "start_time": "2021-11-10T14:17:20.879Z"
   },
   {
    "duration": 8201,
    "start_time": "2021-11-10T14:18:05.071Z"
   },
   {
    "duration": 99,
    "start_time": "2021-11-10T14:18:39.897Z"
   },
   {
    "duration": 13,
    "start_time": "2021-11-10T14:18:40.000Z"
   },
   {
    "duration": 73,
    "start_time": "2021-11-10T14:18:40.017Z"
   },
   {
    "duration": 8,
    "start_time": "2021-11-10T14:18:40.093Z"
   },
   {
    "duration": 11,
    "start_time": "2021-11-10T14:18:40.104Z"
   },
   {
    "duration": 49,
    "start_time": "2021-11-10T14:18:40.118Z"
   },
   {
    "duration": 3,
    "start_time": "2021-11-10T14:18:40.170Z"
   },
   {
    "duration": 10,
    "start_time": "2021-11-10T14:18:40.178Z"
   },
   {
    "duration": 7,
    "start_time": "2021-11-10T14:18:40.191Z"
   },
   {
    "duration": 16,
    "start_time": "2021-11-10T14:18:40.200Z"
   },
   {
    "duration": 49,
    "start_time": "2021-11-10T14:18:40.218Z"
   },
   {
    "duration": 3,
    "start_time": "2021-11-10T14:18:40.270Z"
   },
   {
    "duration": 41,
    "start_time": "2021-11-10T14:18:40.275Z"
   },
   {
    "duration": 6,
    "start_time": "2021-11-10T14:18:40.318Z"
   },
   {
    "duration": 5,
    "start_time": "2021-11-10T14:18:40.327Z"
   },
   {
    "duration": 14,
    "start_time": "2021-11-10T14:18:40.368Z"
   },
   {
    "duration": 26,
    "start_time": "2021-11-10T14:18:40.384Z"
   },
   {
    "duration": 56,
    "start_time": "2021-11-10T14:18:40.413Z"
   },
   {
    "duration": 47,
    "start_time": "2021-11-10T14:18:40.471Z"
   },
   {
    "duration": 15,
    "start_time": "2021-11-10T14:18:40.520Z"
   },
   {
    "duration": 21,
    "start_time": "2021-11-10T14:19:18.046Z"
   },
   {
    "duration": 18,
    "start_time": "2021-11-10T14:19:46.594Z"
   },
   {
    "duration": 17,
    "start_time": "2021-11-10T14:20:00.692Z"
   },
   {
    "duration": 17,
    "start_time": "2021-11-10T14:22:37.366Z"
   },
   {
    "duration": 104,
    "start_time": "2021-11-10T14:22:42.973Z"
   },
   {
    "duration": 13,
    "start_time": "2021-11-10T14:22:43.081Z"
   },
   {
    "duration": 77,
    "start_time": "2021-11-10T14:22:43.098Z"
   },
   {
    "duration": 11,
    "start_time": "2021-11-10T14:22:43.178Z"
   },
   {
    "duration": 11,
    "start_time": "2021-11-10T14:22:43.192Z"
   },
   {
    "duration": 61,
    "start_time": "2021-11-10T14:22:43.207Z"
   },
   {
    "duration": 4,
    "start_time": "2021-11-10T14:22:43.271Z"
   },
   {
    "duration": 15,
    "start_time": "2021-11-10T14:22:43.277Z"
   },
   {
    "duration": 11,
    "start_time": "2021-11-10T14:22:43.296Z"
   },
   {
    "duration": 18,
    "start_time": "2021-11-10T14:22:43.310Z"
   },
   {
    "duration": 46,
    "start_time": "2021-11-10T14:22:43.330Z"
   },
   {
    "duration": 3,
    "start_time": "2021-11-10T14:22:43.378Z"
   },
   {
    "duration": 41,
    "start_time": "2021-11-10T14:22:43.383Z"
   },
   {
    "duration": 7,
    "start_time": "2021-11-10T14:22:43.427Z"
   },
   {
    "duration": 4,
    "start_time": "2021-11-10T14:22:43.467Z"
   },
   {
    "duration": 20,
    "start_time": "2021-11-10T14:22:43.473Z"
   },
   {
    "duration": 22,
    "start_time": "2021-11-10T14:22:43.495Z"
   },
   {
    "duration": 54,
    "start_time": "2021-11-10T14:22:43.519Z"
   },
   {
    "duration": 48,
    "start_time": "2021-11-10T14:22:43.576Z"
   },
   {
    "duration": 41,
    "start_time": "2021-11-10T14:22:43.627Z"
   },
   {
    "duration": 19,
    "start_time": "2021-11-10T14:23:12.168Z"
   },
   {
    "duration": 18,
    "start_time": "2021-11-10T14:23:16.032Z"
   },
   {
    "duration": 18,
    "start_time": "2021-11-10T14:23:18.557Z"
   },
   {
    "duration": 15,
    "start_time": "2021-11-10T14:23:33.552Z"
   },
   {
    "duration": 13,
    "start_time": "2021-11-10T14:23:34.769Z"
   },
   {
    "duration": 13,
    "start_time": "2021-11-10T14:23:35.589Z"
   },
   {
    "duration": 3759,
    "start_time": "2021-11-10T14:23:45.289Z"
   },
   {
    "duration": 4316,
    "start_time": "2021-11-10T14:23:57.722Z"
   },
   {
    "duration": 3414,
    "start_time": "2021-11-10T14:24:33.746Z"
   },
   {
    "duration": 3818,
    "start_time": "2021-11-10T14:35:41.744Z"
   },
   {
    "duration": 97,
    "start_time": "2021-11-10T14:35:50.139Z"
   },
   {
    "duration": 31,
    "start_time": "2021-11-10T14:35:50.238Z"
   },
   {
    "duration": 37,
    "start_time": "2021-11-10T14:35:50.272Z"
   },
   {
    "duration": 9,
    "start_time": "2021-11-10T14:35:50.311Z"
   },
   {
    "duration": 47,
    "start_time": "2021-11-10T14:35:50.323Z"
   },
   {
    "duration": 11,
    "start_time": "2021-11-10T14:35:50.373Z"
   },
   {
    "duration": 4,
    "start_time": "2021-11-10T14:35:50.386Z"
   },
   {
    "duration": 8,
    "start_time": "2021-11-10T14:35:50.395Z"
   },
   {
    "duration": 4,
    "start_time": "2021-11-10T14:35:50.406Z"
   },
   {
    "duration": 62,
    "start_time": "2021-11-10T14:35:50.413Z"
   },
   {
    "duration": 16,
    "start_time": "2021-11-10T14:35:50.478Z"
   },
   {
    "duration": 4,
    "start_time": "2021-11-10T14:35:50.497Z"
   },
   {
    "duration": 77,
    "start_time": "2021-11-10T14:35:50.504Z"
   },
   {
    "duration": 7,
    "start_time": "2021-11-10T14:35:50.583Z"
   },
   {
    "duration": 24,
    "start_time": "2021-11-10T14:35:50.592Z"
   },
   {
    "duration": 24,
    "start_time": "2021-11-10T14:35:50.618Z"
   },
   {
    "duration": 40,
    "start_time": "2021-11-10T14:35:50.644Z"
   },
   {
    "duration": 20,
    "start_time": "2021-11-10T14:35:50.687Z"
   },
   {
    "duration": 75,
    "start_time": "2021-11-10T14:35:50.710Z"
   },
   {
    "duration": 12,
    "start_time": "2021-11-10T14:35:50.788Z"
   },
   {
    "duration": 15,
    "start_time": "2021-11-10T14:36:03.178Z"
   },
   {
    "duration": 17,
    "start_time": "2021-11-10T14:36:32.981Z"
   },
   {
    "duration": 11,
    "start_time": "2021-11-10T14:36:40.188Z"
   },
   {
    "duration": 100,
    "start_time": "2021-11-10T14:36:48.731Z"
   },
   {
    "duration": 38,
    "start_time": "2021-11-10T14:36:48.834Z"
   },
   {
    "duration": 38,
    "start_time": "2021-11-10T14:36:48.876Z"
   },
   {
    "duration": 8,
    "start_time": "2021-11-10T14:36:48.918Z"
   },
   {
    "duration": 6,
    "start_time": "2021-11-10T14:36:48.967Z"
   },
   {
    "duration": 15,
    "start_time": "2021-11-10T14:36:48.975Z"
   },
   {
    "duration": 11,
    "start_time": "2021-11-10T14:36:48.993Z"
   },
   {
    "duration": 11,
    "start_time": "2021-11-10T14:36:49.006Z"
   },
   {
    "duration": 9,
    "start_time": "2021-11-10T14:36:49.021Z"
   },
   {
    "duration": 38,
    "start_time": "2021-11-10T14:36:49.033Z"
   },
   {
    "duration": 15,
    "start_time": "2021-11-10T14:36:49.074Z"
   },
   {
    "duration": 3,
    "start_time": "2021-11-10T14:36:49.092Z"
   },
   {
    "duration": 78,
    "start_time": "2021-11-10T14:36:49.098Z"
   },
   {
    "duration": 8,
    "start_time": "2021-11-10T14:36:49.179Z"
   },
   {
    "duration": 8,
    "start_time": "2021-11-10T14:36:49.191Z"
   },
   {
    "duration": 25,
    "start_time": "2021-11-10T14:36:49.202Z"
   },
   {
    "duration": 55,
    "start_time": "2021-11-10T14:36:49.230Z"
   },
   {
    "duration": 20,
    "start_time": "2021-11-10T14:36:49.288Z"
   },
   {
    "duration": 89,
    "start_time": "2021-11-10T14:36:49.311Z"
   },
   {
    "duration": 14,
    "start_time": "2021-11-10T14:36:49.403Z"
   },
   {
    "duration": 1131,
    "start_time": "2021-11-10T14:38:12.986Z"
   },
   {
    "duration": 18,
    "start_time": "2021-11-10T14:39:09.712Z"
   },
   {
    "duration": 20,
    "start_time": "2021-11-10T14:39:42.019Z"
   },
   {
    "duration": 20,
    "start_time": "2021-11-10T14:39:57.540Z"
   },
   {
    "duration": 97,
    "start_time": "2021-11-10T14:40:12.799Z"
   },
   {
    "duration": 10,
    "start_time": "2021-11-10T14:40:12.899Z"
   },
   {
    "duration": 71,
    "start_time": "2021-11-10T14:40:12.912Z"
   },
   {
    "duration": 9,
    "start_time": "2021-11-10T14:40:12.986Z"
   },
   {
    "duration": 11,
    "start_time": "2021-11-10T14:40:12.998Z"
   },
   {
    "duration": 10,
    "start_time": "2021-11-10T14:40:13.012Z"
   },
   {
    "duration": 47,
    "start_time": "2021-11-10T14:40:13.025Z"
   },
   {
    "duration": 12,
    "start_time": "2021-11-10T14:40:13.079Z"
   },
   {
    "duration": 7,
    "start_time": "2021-11-10T14:40:13.095Z"
   },
   {
    "duration": 15,
    "start_time": "2021-11-10T14:40:13.105Z"
   },
   {
    "duration": 13,
    "start_time": "2021-11-10T14:40:13.123Z"
   },
   {
    "duration": 4,
    "start_time": "2021-11-10T14:40:13.168Z"
   },
   {
    "duration": 51,
    "start_time": "2021-11-10T14:40:13.175Z"
   },
   {
    "duration": 7,
    "start_time": "2021-11-10T14:40:13.228Z"
   },
   {
    "duration": 33,
    "start_time": "2021-11-10T14:40:13.237Z"
   },
   {
    "duration": 28,
    "start_time": "2021-11-10T14:40:13.273Z"
   },
   {
    "duration": 22,
    "start_time": "2021-11-10T14:40:13.304Z"
   },
   {
    "duration": 53,
    "start_time": "2021-11-10T14:40:13.329Z"
   },
   {
    "duration": 56,
    "start_time": "2021-11-10T14:40:13.384Z"
   },
   {
    "duration": 49,
    "start_time": "2021-11-10T14:40:13.442Z"
   },
   {
    "duration": 91,
    "start_time": "2021-11-10T14:41:11.918Z"
   },
   {
    "duration": 11,
    "start_time": "2021-11-10T14:41:12.011Z"
   },
   {
    "duration": 61,
    "start_time": "2021-11-10T14:41:12.025Z"
   },
   {
    "duration": 9,
    "start_time": "2021-11-10T14:41:12.089Z"
   },
   {
    "duration": 11,
    "start_time": "2021-11-10T14:41:12.100Z"
   },
   {
    "duration": 10,
    "start_time": "2021-11-10T14:41:12.113Z"
   },
   {
    "duration": 4,
    "start_time": "2021-11-10T14:41:12.125Z"
   },
   {
    "duration": 9,
    "start_time": "2021-11-10T14:41:12.170Z"
   },
   {
    "duration": 14,
    "start_time": "2021-11-10T14:41:12.184Z"
   },
   {
    "duration": 17,
    "start_time": "2021-11-10T14:41:12.200Z"
   },
   {
    "duration": 12,
    "start_time": "2021-11-10T14:41:12.220Z"
   },
   {
    "duration": 35,
    "start_time": "2021-11-10T14:41:12.234Z"
   },
   {
    "duration": 43,
    "start_time": "2021-11-10T14:41:12.275Z"
   },
   {
    "duration": 7,
    "start_time": "2021-11-10T14:41:12.321Z"
   },
   {
    "duration": 38,
    "start_time": "2021-11-10T14:41:12.330Z"
   },
   {
    "duration": 21,
    "start_time": "2021-11-10T14:41:12.371Z"
   },
   {
    "duration": 22,
    "start_time": "2021-11-10T14:41:12.395Z"
   },
   {
    "duration": 61,
    "start_time": "2021-11-10T14:41:12.420Z"
   },
   {
    "duration": 54,
    "start_time": "2021-11-10T14:41:12.484Z"
   },
   {
    "duration": 56,
    "start_time": "2021-11-10T14:41:12.540Z"
   },
   {
    "duration": 24,
    "start_time": "2021-11-10T14:41:54.251Z"
   },
   {
    "duration": 26,
    "start_time": "2021-11-10T14:43:38.653Z"
   },
   {
    "duration": 37,
    "start_time": "2021-11-10T14:43:43.611Z"
   },
   {
    "duration": 99,
    "start_time": "2021-11-10T14:43:49.172Z"
   },
   {
    "duration": 10,
    "start_time": "2021-11-10T14:43:49.274Z"
   },
   {
    "duration": 39,
    "start_time": "2021-11-10T14:43:49.287Z"
   },
   {
    "duration": 47,
    "start_time": "2021-11-10T14:43:49.328Z"
   },
   {
    "duration": 9,
    "start_time": "2021-11-10T14:43:49.378Z"
   },
   {
    "duration": 11,
    "start_time": "2021-11-10T14:43:49.391Z"
   },
   {
    "duration": 5,
    "start_time": "2021-11-10T14:43:49.404Z"
   },
   {
    "duration": 59,
    "start_time": "2021-11-10T14:43:49.414Z"
   },
   {
    "duration": 10,
    "start_time": "2021-11-10T14:43:49.476Z"
   },
   {
    "duration": 21,
    "start_time": "2021-11-10T14:43:49.489Z"
   },
   {
    "duration": 16,
    "start_time": "2021-11-10T14:43:49.513Z"
   },
   {
    "duration": 38,
    "start_time": "2021-11-10T14:43:49.531Z"
   },
   {
    "duration": 43,
    "start_time": "2021-11-10T14:43:49.572Z"
   },
   {
    "duration": 7,
    "start_time": "2021-11-10T14:43:49.618Z"
   },
   {
    "duration": 6,
    "start_time": "2021-11-10T14:43:49.628Z"
   },
   {
    "duration": 23,
    "start_time": "2021-11-10T14:43:49.669Z"
   },
   {
    "duration": 26,
    "start_time": "2021-11-10T14:43:49.694Z"
   },
   {
    "duration": 46,
    "start_time": "2021-11-10T14:43:49.722Z"
   },
   {
    "duration": 57,
    "start_time": "2021-11-10T14:43:49.771Z"
   },
   {
    "duration": 53,
    "start_time": "2021-11-10T14:43:49.832Z"
   },
   {
    "duration": 115,
    "start_time": "2021-11-10T14:44:48.562Z"
   },
   {
    "duration": 12,
    "start_time": "2021-11-10T14:44:48.681Z"
   },
   {
    "duration": 38,
    "start_time": "2021-11-10T14:44:48.696Z"
   },
   {
    "duration": 12,
    "start_time": "2021-11-10T14:44:48.769Z"
   },
   {
    "duration": 7,
    "start_time": "2021-11-10T14:44:48.785Z"
   },
   {
    "duration": 13,
    "start_time": "2021-11-10T14:44:48.794Z"
   },
   {
    "duration": 3,
    "start_time": "2021-11-10T14:44:48.810Z"
   },
   {
    "duration": 54,
    "start_time": "2021-11-10T14:44:48.815Z"
   },
   {
    "duration": 4,
    "start_time": "2021-11-10T14:44:48.874Z"
   },
   {
    "duration": 23,
    "start_time": "2021-11-10T14:44:48.882Z"
   },
   {
    "duration": 15,
    "start_time": "2021-11-10T14:44:48.908Z"
   },
   {
    "duration": 7,
    "start_time": "2021-11-10T14:44:48.968Z"
   },
   {
    "duration": 42,
    "start_time": "2021-11-10T14:44:48.978Z"
   },
   {
    "duration": 9,
    "start_time": "2021-11-10T14:44:49.023Z"
   },
   {
    "duration": 5,
    "start_time": "2021-11-10T14:44:49.068Z"
   },
   {
    "duration": 25,
    "start_time": "2021-11-10T14:44:49.077Z"
   },
   {
    "duration": 24,
    "start_time": "2021-11-10T14:44:49.105Z"
   },
   {
    "duration": 55,
    "start_time": "2021-11-10T14:44:49.132Z"
   },
   {
    "duration": 48,
    "start_time": "2021-11-10T14:44:49.190Z"
   },
   {
    "duration": 26,
    "start_time": "2021-11-10T14:45:41.974Z"
   },
   {
    "duration": 35,
    "start_time": "2021-11-10T14:45:45.496Z"
   },
   {
    "duration": 22,
    "start_time": "2021-11-10T14:46:05.003Z"
   },
   {
    "duration": 52,
    "start_time": "2021-11-10T14:56:51.943Z"
   },
   {
    "duration": 49,
    "start_time": "2021-11-10T14:57:40.266Z"
   },
   {
    "duration": 7,
    "start_time": "2021-11-10T14:58:38.787Z"
   },
   {
    "duration": 48,
    "start_time": "2021-11-10T14:58:41.166Z"
   },
   {
    "duration": 9,
    "start_time": "2021-11-10T14:59:24.218Z"
   },
   {
    "duration": 49,
    "start_time": "2021-11-10T15:02:01.076Z"
   },
   {
    "duration": 44,
    "start_time": "2021-11-10T15:02:13.458Z"
   },
   {
    "duration": 47,
    "start_time": "2021-11-10T15:02:42.883Z"
   },
   {
    "duration": 46,
    "start_time": "2021-11-10T15:03:55.752Z"
   },
   {
    "duration": 48,
    "start_time": "2021-11-10T15:08:27.777Z"
   },
   {
    "duration": 735,
    "start_time": "2021-11-11T12:28:33.855Z"
   },
   {
    "duration": 8,
    "start_time": "2021-11-11T12:28:34.592Z"
   },
   {
    "duration": 32,
    "start_time": "2021-11-11T12:28:34.602Z"
   },
   {
    "duration": 29,
    "start_time": "2021-11-11T12:28:34.636Z"
   },
   {
    "duration": 13,
    "start_time": "2021-11-11T12:28:34.666Z"
   },
   {
    "duration": 10,
    "start_time": "2021-11-11T12:28:34.681Z"
   },
   {
    "duration": 6,
    "start_time": "2021-11-11T12:28:34.693Z"
   },
   {
    "duration": 12,
    "start_time": "2021-11-11T12:28:34.702Z"
   },
   {
    "duration": 25,
    "start_time": "2021-11-11T12:28:34.716Z"
   },
   {
    "duration": 20,
    "start_time": "2021-11-11T12:28:34.743Z"
   },
   {
    "duration": 9,
    "start_time": "2021-11-11T12:28:34.765Z"
   },
   {
    "duration": 2,
    "start_time": "2021-11-11T12:28:34.776Z"
   },
   {
    "duration": 33,
    "start_time": "2021-11-11T12:28:34.780Z"
   },
   {
    "duration": 5,
    "start_time": "2021-11-11T12:28:34.814Z"
   },
   {
    "duration": 11,
    "start_time": "2021-11-11T12:28:34.821Z"
   },
   {
    "duration": 35,
    "start_time": "2021-11-11T12:28:34.834Z"
   },
   {
    "duration": 24,
    "start_time": "2021-11-11T12:28:34.871Z"
   },
   {
    "duration": 14,
    "start_time": "2021-11-11T12:28:34.897Z"
   },
   {
    "duration": 63,
    "start_time": "2021-11-11T12:28:34.913Z"
   },
   {
    "duration": 39,
    "start_time": "2021-11-11T12:28:34.977Z"
   },
   {
    "duration": 7,
    "start_time": "2021-11-11T12:28:43.374Z"
   },
   {
    "duration": 8,
    "start_time": "2021-11-11T12:28:55.573Z"
   },
   {
    "duration": 9,
    "start_time": "2021-11-11T12:30:01.609Z"
   },
   {
    "duration": 9,
    "start_time": "2021-11-11T12:31:29.976Z"
   },
   {
    "duration": 10,
    "start_time": "2021-11-11T12:38:51.569Z"
   },
   {
    "duration": 11,
    "start_time": "2021-11-11T12:38:54.661Z"
   },
   {
    "duration": 9,
    "start_time": "2021-11-11T12:38:56.352Z"
   },
   {
    "duration": 9,
    "start_time": "2021-11-11T12:38:57.153Z"
   },
   {
    "duration": 10,
    "start_time": "2021-11-11T12:38:57.769Z"
   },
   {
    "duration": 10,
    "start_time": "2021-11-11T12:38:58.304Z"
   },
   {
    "duration": 11,
    "start_time": "2021-11-11T12:39:56.889Z"
   },
   {
    "duration": 12,
    "start_time": "2021-11-11T12:40:16.531Z"
   },
   {
    "duration": 11,
    "start_time": "2021-11-11T12:40:17.999Z"
   },
   {
    "duration": 12,
    "start_time": "2021-11-11T12:40:18.655Z"
   },
   {
    "duration": 14,
    "start_time": "2021-11-11T12:41:02.405Z"
   },
   {
    "duration": 12,
    "start_time": "2021-11-11T12:41:35.025Z"
   },
   {
    "duration": 322,
    "start_time": "2021-11-11T13:14:30.913Z"
   },
   {
    "duration": 295,
    "start_time": "2021-11-11T13:14:42.354Z"
   },
   {
    "duration": 282,
    "start_time": "2021-11-11T13:18:35.929Z"
   },
   {
    "duration": 386,
    "start_time": "2021-11-11T13:19:59.765Z"
   },
   {
    "duration": 7,
    "start_time": "2021-11-11T13:25:04.254Z"
   },
   {
    "duration": 23,
    "start_time": "2021-11-11T13:25:29.823Z"
   },
   {
    "duration": 29,
    "start_time": "2021-11-11T13:26:00.633Z"
   },
   {
    "duration": 27,
    "start_time": "2021-11-11T13:26:10.177Z"
   },
   {
    "duration": 11,
    "start_time": "2021-11-11T13:29:06.414Z"
   },
   {
    "duration": 18,
    "start_time": "2021-11-11T13:29:40.795Z"
   },
   {
    "duration": 18,
    "start_time": "2021-11-11T13:30:40.342Z"
   },
   {
    "duration": 19,
    "start_time": "2021-11-11T13:30:52.431Z"
   },
   {
    "duration": 10,
    "start_time": "2021-11-11T13:31:21.308Z"
   },
   {
    "duration": 13,
    "start_time": "2021-11-11T13:31:24.420Z"
   },
   {
    "duration": 10,
    "start_time": "2021-11-11T13:31:33.952Z"
   },
   {
    "duration": 7,
    "start_time": "2021-11-11T13:32:36.208Z"
   },
   {
    "duration": 8,
    "start_time": "2021-11-11T13:32:42.629Z"
   },
   {
    "duration": 74,
    "start_time": "2021-11-11T13:32:51.265Z"
   },
   {
    "duration": 24,
    "start_time": "2021-11-11T13:32:51.341Z"
   },
   {
    "duration": 33,
    "start_time": "2021-11-11T13:32:51.367Z"
   },
   {
    "duration": 6,
    "start_time": "2021-11-11T13:32:51.402Z"
   },
   {
    "duration": 6,
    "start_time": "2021-11-11T13:32:51.410Z"
   },
   {
    "duration": 8,
    "start_time": "2021-11-11T13:32:51.417Z"
   },
   {
    "duration": 36,
    "start_time": "2021-11-11T13:32:51.427Z"
   },
   {
    "duration": 5,
    "start_time": "2021-11-11T13:32:51.466Z"
   },
   {
    "duration": 7,
    "start_time": "2021-11-11T13:32:51.473Z"
   },
   {
    "duration": 13,
    "start_time": "2021-11-11T13:32:51.481Z"
   },
   {
    "duration": 11,
    "start_time": "2021-11-11T13:32:51.496Z"
   },
   {
    "duration": 2,
    "start_time": "2021-11-11T13:32:51.509Z"
   },
   {
    "duration": 65,
    "start_time": "2021-11-11T13:32:51.513Z"
   },
   {
    "duration": 5,
    "start_time": "2021-11-11T13:32:51.580Z"
   },
   {
    "duration": 5,
    "start_time": "2021-11-11T13:32:51.587Z"
   },
   {
    "duration": 16,
    "start_time": "2021-11-11T13:32:51.593Z"
   },
   {
    "duration": 18,
    "start_time": "2021-11-11T13:32:51.611Z"
   },
   {
    "duration": 39,
    "start_time": "2021-11-11T13:32:51.631Z"
   },
   {
    "duration": 8,
    "start_time": "2021-11-11T13:32:51.672Z"
   },
   {
    "duration": 36,
    "start_time": "2021-11-11T13:32:51.682Z"
   },
   {
    "duration": 67,
    "start_time": "2021-11-11T13:32:51.720Z"
   },
   {
    "duration": 11,
    "start_time": "2021-11-11T13:32:51.789Z"
   },
   {
    "duration": 10,
    "start_time": "2021-11-11T13:32:51.803Z"
   },
   {
    "duration": 12,
    "start_time": "2021-11-11T13:32:51.815Z"
   },
   {
    "duration": 428,
    "start_time": "2021-11-11T16:06:55.979Z"
   },
   {
    "duration": 700,
    "start_time": "2021-11-11T16:07:04.666Z"
   },
   {
    "duration": 12,
    "start_time": "2021-11-11T16:07:05.368Z"
   },
   {
    "duration": 21,
    "start_time": "2021-11-11T16:07:05.382Z"
   },
   {
    "duration": 31,
    "start_time": "2021-11-11T16:07:05.405Z"
   },
   {
    "duration": 6,
    "start_time": "2021-11-11T16:07:05.438Z"
   },
   {
    "duration": 11,
    "start_time": "2021-11-11T16:07:05.446Z"
   },
   {
    "duration": 18,
    "start_time": "2021-11-11T16:07:05.458Z"
   },
   {
    "duration": 4,
    "start_time": "2021-11-11T16:07:05.479Z"
   },
   {
    "duration": 21,
    "start_time": "2021-11-11T16:07:05.485Z"
   },
   {
    "duration": 4,
    "start_time": "2021-11-11T16:07:05.508Z"
   },
   {
    "duration": 24,
    "start_time": "2021-11-11T16:07:05.513Z"
   },
   {
    "duration": 8,
    "start_time": "2021-11-11T16:07:05.539Z"
   },
   {
    "duration": 8,
    "start_time": "2021-11-11T16:07:05.549Z"
   },
   {
    "duration": 53,
    "start_time": "2021-11-11T16:07:05.559Z"
   },
   {
    "duration": 6,
    "start_time": "2021-11-11T16:07:05.615Z"
   },
   {
    "duration": 9,
    "start_time": "2021-11-11T16:07:05.623Z"
   },
   {
    "duration": 34,
    "start_time": "2021-11-11T16:07:05.634Z"
   },
   {
    "duration": 24,
    "start_time": "2021-11-11T16:07:05.670Z"
   },
   {
    "duration": 25,
    "start_time": "2021-11-11T16:07:05.696Z"
   },
   {
    "duration": 23,
    "start_time": "2021-11-11T16:07:05.723Z"
   },
   {
    "duration": 40,
    "start_time": "2021-11-11T16:07:05.748Z"
   },
   {
    "duration": 34,
    "start_time": "2021-11-11T16:07:05.790Z"
   },
   {
    "duration": 9,
    "start_time": "2021-11-11T16:07:05.827Z"
   },
   {
    "duration": 26,
    "start_time": "2021-11-11T16:07:05.839Z"
   },
   {
    "duration": 21,
    "start_time": "2021-11-11T16:07:05.867Z"
   },
   {
    "duration": 5,
    "start_time": "2021-11-11T16:12:24.932Z"
   },
   {
    "duration": 3,
    "start_time": "2021-11-11T16:17:32.563Z"
   },
   {
    "duration": 4,
    "start_time": "2021-11-11T16:22:13.784Z"
   },
   {
    "duration": 4,
    "start_time": "2021-11-11T16:22:56.743Z"
   },
   {
    "duration": 5,
    "start_time": "2021-11-11T16:24:19.996Z"
   },
   {
    "duration": 4,
    "start_time": "2021-11-11T16:25:14.850Z"
   },
   {
    "duration": 61,
    "start_time": "2021-11-11T16:25:25.104Z"
   },
   {
    "duration": 12,
    "start_time": "2021-11-11T16:25:25.167Z"
   },
   {
    "duration": 30,
    "start_time": "2021-11-11T16:25:25.181Z"
   },
   {
    "duration": 7,
    "start_time": "2021-11-11T16:25:25.213Z"
   },
   {
    "duration": 20,
    "start_time": "2021-11-11T16:25:25.222Z"
   },
   {
    "duration": 18,
    "start_time": "2021-11-11T16:25:25.244Z"
   },
   {
    "duration": 22,
    "start_time": "2021-11-11T16:25:25.263Z"
   },
   {
    "duration": 18,
    "start_time": "2021-11-11T16:25:25.287Z"
   },
   {
    "duration": 29,
    "start_time": "2021-11-11T16:25:25.307Z"
   },
   {
    "duration": 20,
    "start_time": "2021-11-11T16:25:25.338Z"
   },
   {
    "duration": 25,
    "start_time": "2021-11-11T16:25:25.360Z"
   },
   {
    "duration": 14,
    "start_time": "2021-11-11T16:25:25.387Z"
   },
   {
    "duration": 17,
    "start_time": "2021-11-11T16:25:25.402Z"
   },
   {
    "duration": 29,
    "start_time": "2021-11-11T16:25:25.421Z"
   },
   {
    "duration": 32,
    "start_time": "2021-11-11T16:25:25.451Z"
   },
   {
    "duration": 5,
    "start_time": "2021-11-11T16:25:25.485Z"
   },
   {
    "duration": 38,
    "start_time": "2021-11-11T16:25:25.491Z"
   },
   {
    "duration": 23,
    "start_time": "2021-11-11T16:25:25.530Z"
   },
   {
    "duration": 8,
    "start_time": "2021-11-11T16:25:25.555Z"
   },
   {
    "duration": 7,
    "start_time": "2021-11-11T16:25:25.565Z"
   },
   {
    "duration": 42,
    "start_time": "2021-11-11T16:25:25.574Z"
   },
   {
    "duration": 36,
    "start_time": "2021-11-11T16:25:25.618Z"
   },
   {
    "duration": 10,
    "start_time": "2021-11-11T16:25:25.658Z"
   },
   {
    "duration": 40,
    "start_time": "2021-11-11T16:25:25.670Z"
   },
   {
    "duration": 11,
    "start_time": "2021-11-11T16:25:25.713Z"
   },
   {
    "duration": 7,
    "start_time": "2021-11-11T16:28:13.186Z"
   },
   {
    "duration": 6,
    "start_time": "2021-11-11T16:32:32.477Z"
   },
   {
    "duration": 61,
    "start_time": "2021-11-11T16:32:57.024Z"
   },
   {
    "duration": 11,
    "start_time": "2021-11-11T16:32:57.087Z"
   },
   {
    "duration": 12,
    "start_time": "2021-11-11T16:32:57.100Z"
   },
   {
    "duration": 10,
    "start_time": "2021-11-11T16:32:57.114Z"
   },
   {
    "duration": 11,
    "start_time": "2021-11-11T16:32:57.125Z"
   },
   {
    "duration": 14,
    "start_time": "2021-11-11T16:32:57.137Z"
   },
   {
    "duration": 17,
    "start_time": "2021-11-11T16:32:57.153Z"
   },
   {
    "duration": 10,
    "start_time": "2021-11-11T16:32:57.173Z"
   },
   {
    "duration": 15,
    "start_time": "2021-11-11T16:32:57.185Z"
   },
   {
    "duration": 29,
    "start_time": "2021-11-11T16:32:57.202Z"
   },
   {
    "duration": 34,
    "start_time": "2021-11-11T16:32:57.233Z"
   },
   {
    "duration": 9,
    "start_time": "2021-11-11T16:32:57.269Z"
   },
   {
    "duration": 14,
    "start_time": "2021-11-11T16:32:57.279Z"
   },
   {
    "duration": 20,
    "start_time": "2021-11-11T16:32:57.295Z"
   },
   {
    "duration": 15,
    "start_time": "2021-11-11T16:32:57.316Z"
   },
   {
    "duration": 21,
    "start_time": "2021-11-11T16:32:57.333Z"
   },
   {
    "duration": 39,
    "start_time": "2021-11-11T16:32:57.356Z"
   },
   {
    "duration": 24,
    "start_time": "2021-11-11T16:32:57.397Z"
   },
   {
    "duration": 14,
    "start_time": "2021-11-11T16:32:57.423Z"
   },
   {
    "duration": 14,
    "start_time": "2021-11-11T16:32:57.439Z"
   },
   {
    "duration": 56,
    "start_time": "2021-11-11T16:32:57.455Z"
   },
   {
    "duration": 45,
    "start_time": "2021-11-11T16:32:57.513Z"
   },
   {
    "duration": 11,
    "start_time": "2021-11-11T16:32:57.560Z"
   },
   {
    "duration": 37,
    "start_time": "2021-11-11T16:32:57.573Z"
   },
   {
    "duration": 12,
    "start_time": "2021-11-11T16:32:57.613Z"
   },
   {
    "duration": 849,
    "start_time": "2021-11-13T10:24:44.285Z"
   },
   {
    "duration": 32,
    "start_time": "2021-11-13T10:24:45.137Z"
   },
   {
    "duration": 16,
    "start_time": "2021-11-13T10:24:45.174Z"
   },
   {
    "duration": 8,
    "start_time": "2021-11-13T10:24:45.194Z"
   },
   {
    "duration": 7,
    "start_time": "2021-11-13T10:24:45.205Z"
   },
   {
    "duration": 45,
    "start_time": "2021-11-13T10:24:45.215Z"
   },
   {
    "duration": 10,
    "start_time": "2021-11-13T10:24:45.264Z"
   },
   {
    "duration": 7,
    "start_time": "2021-11-13T10:24:45.277Z"
   },
   {
    "duration": 10,
    "start_time": "2021-11-13T10:24:45.288Z"
   },
   {
    "duration": 7,
    "start_time": "2021-11-13T10:24:45.301Z"
   },
   {
    "duration": 52,
    "start_time": "2021-11-13T10:24:45.311Z"
   },
   {
    "duration": 6,
    "start_time": "2021-11-13T10:24:45.365Z"
   },
   {
    "duration": 6,
    "start_time": "2021-11-13T10:24:45.373Z"
   },
   {
    "duration": 9,
    "start_time": "2021-11-13T10:24:45.381Z"
   },
   {
    "duration": 13,
    "start_time": "2021-11-13T10:24:45.393Z"
   },
   {
    "duration": 6,
    "start_time": "2021-11-13T10:24:45.408Z"
   },
   {
    "duration": 56,
    "start_time": "2021-11-13T10:24:45.416Z"
   },
   {
    "duration": 26,
    "start_time": "2021-11-13T10:24:45.474Z"
   },
   {
    "duration": 14,
    "start_time": "2021-11-13T10:24:45.503Z"
   },
   {
    "duration": 45,
    "start_time": "2021-11-13T10:24:45.519Z"
   },
   {
    "duration": 52,
    "start_time": "2021-11-13T10:24:45.567Z"
   },
   {
    "duration": 110,
    "start_time": "2021-11-13T10:24:45.622Z"
   },
   {
    "duration": 33,
    "start_time": "2021-11-13T10:24:45.736Z"
   },
   {
    "duration": 17,
    "start_time": "2021-11-13T10:24:45.772Z"
   },
   {
    "duration": 15,
    "start_time": "2021-11-13T10:24:45.792Z"
   },
   {
    "duration": 466,
    "start_time": "2021-11-13T10:31:33.953Z"
   },
   {
    "duration": 23,
    "start_time": "2021-11-13T10:31:44.352Z"
   },
   {
    "duration": 22,
    "start_time": "2021-11-13T10:31:55.137Z"
   },
   {
    "duration": 77,
    "start_time": "2021-11-13T10:33:28.581Z"
   },
   {
    "duration": 24,
    "start_time": "2021-11-13T10:33:28.661Z"
   },
   {
    "duration": 14,
    "start_time": "2021-11-13T10:33:28.690Z"
   },
   {
    "duration": 9,
    "start_time": "2021-11-13T10:33:28.707Z"
   },
   {
    "duration": 42,
    "start_time": "2021-11-13T10:33:28.719Z"
   },
   {
    "duration": 12,
    "start_time": "2021-11-13T10:33:28.765Z"
   },
   {
    "duration": 9,
    "start_time": "2021-11-13T10:33:28.779Z"
   },
   {
    "duration": 7,
    "start_time": "2021-11-13T10:33:28.790Z"
   },
   {
    "duration": 8,
    "start_time": "2021-11-13T10:33:28.801Z"
   },
   {
    "duration": 4,
    "start_time": "2021-11-13T10:33:28.812Z"
   },
   {
    "duration": 14,
    "start_time": "2021-11-13T10:33:28.861Z"
   },
   {
    "duration": 5,
    "start_time": "2021-11-13T10:33:28.878Z"
   },
   {
    "duration": 4,
    "start_time": "2021-11-13T10:33:28.886Z"
   },
   {
    "duration": 11,
    "start_time": "2021-11-13T10:33:28.892Z"
   },
   {
    "duration": 8,
    "start_time": "2021-11-13T10:33:28.905Z"
   },
   {
    "duration": 63,
    "start_time": "2021-11-13T10:33:28.916Z"
   },
   {
    "duration": 5,
    "start_time": "2021-11-13T10:33:28.982Z"
   },
   {
    "duration": 27,
    "start_time": "2021-11-13T10:33:28.990Z"
   },
   {
    "duration": 54,
    "start_time": "2021-11-13T10:33:29.020Z"
   },
   {
    "duration": 16,
    "start_time": "2021-11-13T10:33:29.077Z"
   },
   {
    "duration": 17,
    "start_time": "2021-11-13T10:33:29.096Z"
   },
   {
    "duration": 85,
    "start_time": "2021-11-13T10:33:29.116Z"
   },
   {
    "duration": 71,
    "start_time": "2021-11-13T10:33:29.204Z"
   },
   {
    "duration": 15,
    "start_time": "2021-11-13T10:33:29.277Z"
   },
   {
    "duration": 15,
    "start_time": "2021-11-13T10:33:29.294Z"
   },
   {
    "duration": 14,
    "start_time": "2021-11-13T10:33:29.312Z"
   },
   {
    "duration": 23,
    "start_time": "2021-11-13T10:33:29.362Z"
   },
   {
    "duration": 8,
    "start_time": "2021-11-13T10:40:57.017Z"
   },
   {
    "duration": 19,
    "start_time": "2021-11-13T10:41:22.794Z"
   },
   {
    "duration": 20,
    "start_time": "2021-11-13T10:41:48.090Z"
   },
   {
    "duration": 34,
    "start_time": "2021-11-13T10:42:13.077Z"
   },
   {
    "duration": 20,
    "start_time": "2021-11-13T10:43:13.190Z"
   },
   {
    "duration": 75,
    "start_time": "2021-11-13T10:43:24.609Z"
   },
   {
    "duration": 15,
    "start_time": "2021-11-13T10:43:24.687Z"
   },
   {
    "duration": 10,
    "start_time": "2021-11-13T10:43:24.705Z"
   },
   {
    "duration": 6,
    "start_time": "2021-11-13T10:43:24.718Z"
   },
   {
    "duration": 3,
    "start_time": "2021-11-13T10:43:24.759Z"
   },
   {
    "duration": 8,
    "start_time": "2021-11-13T10:43:24.765Z"
   },
   {
    "duration": 8,
    "start_time": "2021-11-13T10:43:24.775Z"
   },
   {
    "duration": 7,
    "start_time": "2021-11-13T10:43:24.786Z"
   },
   {
    "duration": 8,
    "start_time": "2021-11-13T10:43:24.796Z"
   },
   {
    "duration": 9,
    "start_time": "2021-11-13T10:43:24.806Z"
   },
   {
    "duration": 48,
    "start_time": "2021-11-13T10:43:24.817Z"
   },
   {
    "duration": 5,
    "start_time": "2021-11-13T10:43:24.868Z"
   },
   {
    "duration": 4,
    "start_time": "2021-11-13T10:43:24.876Z"
   },
   {
    "duration": 6,
    "start_time": "2021-11-13T10:43:24.946Z"
   },
   {
    "duration": 10,
    "start_time": "2021-11-13T10:43:24.955Z"
   },
   {
    "duration": 22,
    "start_time": "2021-11-13T10:43:24.968Z"
   },
   {
    "duration": 4,
    "start_time": "2021-11-13T10:43:24.993Z"
   },
   {
    "duration": 24,
    "start_time": "2021-11-13T10:43:25.000Z"
   },
   {
    "duration": 24,
    "start_time": "2021-11-13T10:43:25.058Z"
   },
   {
    "duration": 12,
    "start_time": "2021-11-13T10:43:25.085Z"
   },
   {
    "duration": 13,
    "start_time": "2021-11-13T10:43:25.099Z"
   },
   {
    "duration": 87,
    "start_time": "2021-11-13T10:43:25.115Z"
   },
   {
    "duration": 76,
    "start_time": "2021-11-13T10:43:25.209Z"
   },
   {
    "duration": 13,
    "start_time": "2021-11-13T10:43:25.288Z"
   },
   {
    "duration": 13,
    "start_time": "2021-11-13T10:43:25.304Z"
   },
   {
    "duration": 42,
    "start_time": "2021-11-13T10:43:25.320Z"
   },
   {
    "duration": 24,
    "start_time": "2021-11-13T10:43:25.365Z"
   },
   {
    "duration": 19,
    "start_time": "2021-11-13T10:43:25.391Z"
   },
   {
    "duration": 20,
    "start_time": "2021-11-13T10:48:25.969Z"
   },
   {
    "duration": 31,
    "start_time": "2021-11-13T10:49:23.063Z"
   },
   {
    "duration": 38,
    "start_time": "2021-11-13T10:51:15.816Z"
   },
   {
    "duration": 41,
    "start_time": "2021-11-13T10:51:37.823Z"
   },
   {
    "duration": 22,
    "start_time": "2021-11-13T11:01:45.645Z"
   },
   {
    "duration": 75,
    "start_time": "2021-11-13T12:01:20.471Z"
   },
   {
    "duration": 28,
    "start_time": "2021-11-13T12:01:20.549Z"
   },
   {
    "duration": 11,
    "start_time": "2021-11-13T12:01:20.580Z"
   },
   {
    "duration": 6,
    "start_time": "2021-11-13T12:01:20.594Z"
   },
   {
    "duration": 5,
    "start_time": "2021-11-13T12:01:20.603Z"
   },
   {
    "duration": 56,
    "start_time": "2021-11-13T12:01:20.611Z"
   },
   {
    "duration": 18,
    "start_time": "2021-11-13T12:01:20.671Z"
   },
   {
    "duration": 3,
    "start_time": "2021-11-13T12:01:20.692Z"
   },
   {
    "duration": 6,
    "start_time": "2021-11-13T12:01:20.698Z"
   },
   {
    "duration": 6,
    "start_time": "2021-11-13T12:01:20.707Z"
   },
   {
    "duration": 21,
    "start_time": "2021-11-13T12:01:20.715Z"
   },
   {
    "duration": 19,
    "start_time": "2021-11-13T12:01:20.766Z"
   },
   {
    "duration": 4,
    "start_time": "2021-11-13T12:01:20.787Z"
   },
   {
    "duration": 12,
    "start_time": "2021-11-13T12:01:20.794Z"
   },
   {
    "duration": 11,
    "start_time": "2021-11-13T12:01:20.808Z"
   },
   {
    "duration": 55,
    "start_time": "2021-11-13T12:01:20.821Z"
   },
   {
    "duration": 3,
    "start_time": "2021-11-13T12:01:20.878Z"
   },
   {
    "duration": 17,
    "start_time": "2021-11-13T12:01:20.885Z"
   },
   {
    "duration": 22,
    "start_time": "2021-11-13T12:01:20.905Z"
   },
   {
    "duration": 51,
    "start_time": "2021-11-13T12:01:20.929Z"
   },
   {
    "duration": 11,
    "start_time": "2021-11-13T12:01:20.982Z"
   },
   {
    "duration": 92,
    "start_time": "2021-11-13T12:01:20.996Z"
   },
   {
    "duration": 68,
    "start_time": "2021-11-13T12:01:21.091Z"
   },
   {
    "duration": 21,
    "start_time": "2021-11-13T12:01:21.162Z"
   },
   {
    "duration": 28,
    "start_time": "2021-11-13T12:01:21.186Z"
   },
   {
    "duration": 50,
    "start_time": "2021-11-13T12:01:21.217Z"
   },
   {
    "duration": 24,
    "start_time": "2021-11-13T12:01:21.270Z"
   },
   {
    "duration": 24,
    "start_time": "2021-11-13T12:01:21.296Z"
   },
   {
    "duration": 50,
    "start_time": "2021-11-13T12:01:21.324Z"
   },
   {
    "duration": 37,
    "start_time": "2021-11-13T12:01:21.377Z"
   },
   {
    "duration": 61,
    "start_time": "2021-11-13T12:01:21.416Z"
   },
   {
    "duration": 43,
    "start_time": "2021-11-13T12:02:09.700Z"
   },
   {
    "duration": 22,
    "start_time": "2021-11-13T12:02:15.326Z"
   },
   {
    "duration": 88,
    "start_time": "2021-11-13T12:02:27.138Z"
   },
   {
    "duration": 18,
    "start_time": "2021-11-13T12:02:27.699Z"
   },
   {
    "duration": 12,
    "start_time": "2021-11-13T12:02:27.721Z"
   },
   {
    "duration": 6,
    "start_time": "2021-11-13T12:02:27.737Z"
   },
   {
    "duration": 17,
    "start_time": "2021-11-13T12:02:27.747Z"
   },
   {
    "duration": 14,
    "start_time": "2021-11-13T12:02:27.768Z"
   },
   {
    "duration": 8,
    "start_time": "2021-11-13T12:02:27.785Z"
   },
   {
    "duration": 5,
    "start_time": "2021-11-13T12:02:27.796Z"
   },
   {
    "duration": 11,
    "start_time": "2021-11-13T12:02:27.803Z"
   },
   {
    "duration": 3,
    "start_time": "2021-11-13T12:02:27.819Z"
   },
   {
    "duration": 15,
    "start_time": "2021-11-13T12:02:27.866Z"
   },
   {
    "duration": 5,
    "start_time": "2021-11-13T12:02:27.884Z"
   },
   {
    "duration": 4,
    "start_time": "2021-11-13T12:02:27.891Z"
   },
   {
    "duration": 14,
    "start_time": "2021-11-13T12:02:27.897Z"
   },
   {
    "duration": 17,
    "start_time": "2021-11-13T12:02:27.913Z"
   },
   {
    "duration": 51,
    "start_time": "2021-11-13T12:02:27.933Z"
   },
   {
    "duration": 3,
    "start_time": "2021-11-13T12:02:27.987Z"
   },
   {
    "duration": 20,
    "start_time": "2021-11-13T12:02:27.992Z"
   },
   {
    "duration": 47,
    "start_time": "2021-11-13T12:02:28.014Z"
   },
   {
    "duration": 16,
    "start_time": "2021-11-13T12:02:28.064Z"
   },
   {
    "duration": 11,
    "start_time": "2021-11-13T12:02:28.082Z"
   },
   {
    "duration": 95,
    "start_time": "2021-11-13T12:02:28.095Z"
   },
   {
    "duration": 47,
    "start_time": "2021-11-13T12:02:28.193Z"
   },
   {
    "duration": 22,
    "start_time": "2021-11-13T12:02:28.259Z"
   },
   {
    "duration": 14,
    "start_time": "2021-11-13T12:02:28.284Z"
   },
   {
    "duration": 17,
    "start_time": "2021-11-13T12:02:28.301Z"
   },
   {
    "duration": 34,
    "start_time": "2021-11-13T12:02:28.360Z"
   },
   {
    "duration": 40,
    "start_time": "2021-11-13T12:02:28.398Z"
   },
   {
    "duration": 20,
    "start_time": "2021-11-13T12:02:29.096Z"
   },
   {
    "duration": 39,
    "start_time": "2021-11-13T12:02:29.119Z"
   },
   {
    "duration": 33,
    "start_time": "2021-11-13T12:02:29.163Z"
   },
   {
    "duration": 18,
    "start_time": "2021-11-13T12:06:28.277Z"
   },
   {
    "duration": 29,
    "start_time": "2021-11-13T12:06:53.549Z"
   },
   {
    "duration": 20,
    "start_time": "2021-11-13T12:17:27.208Z"
   },
   {
    "duration": 6,
    "start_time": "2021-11-13T12:18:40.739Z"
   },
   {
    "duration": 26,
    "start_time": "2021-11-13T12:18:47.848Z"
   },
   {
    "duration": 494,
    "start_time": "2021-11-13T15:32:32.451Z"
   },
   {
    "duration": 1423,
    "start_time": "2021-11-13T15:32:38.234Z"
   },
   {
    "duration": 47,
    "start_time": "2021-11-13T15:32:39.662Z"
   },
   {
    "duration": 19,
    "start_time": "2021-11-13T15:32:39.715Z"
   },
   {
    "duration": 12,
    "start_time": "2021-11-13T15:32:39.739Z"
   },
   {
    "duration": 8,
    "start_time": "2021-11-13T15:32:39.757Z"
   },
   {
    "duration": 37,
    "start_time": "2021-11-13T15:32:39.768Z"
   },
   {
    "duration": 14,
    "start_time": "2021-11-13T15:32:39.808Z"
   },
   {
    "duration": 7,
    "start_time": "2021-11-13T15:32:39.829Z"
   },
   {
    "duration": 59,
    "start_time": "2021-11-13T15:32:39.841Z"
   },
   {
    "duration": 4,
    "start_time": "2021-11-13T15:32:39.903Z"
   },
   {
    "duration": 12,
    "start_time": "2021-11-13T15:32:39.909Z"
   },
   {
    "duration": 8,
    "start_time": "2021-11-13T15:32:39.924Z"
   },
   {
    "duration": 3,
    "start_time": "2021-11-13T15:32:39.934Z"
   },
   {
    "duration": 62,
    "start_time": "2021-11-13T15:32:39.940Z"
   },
   {
    "duration": 28,
    "start_time": "2021-11-13T15:32:40.004Z"
   },
   {
    "duration": 36,
    "start_time": "2021-11-13T15:32:40.037Z"
   },
   {
    "duration": 5,
    "start_time": "2021-11-13T15:32:40.101Z"
   },
   {
    "duration": 16,
    "start_time": "2021-11-13T15:32:40.111Z"
   },
   {
    "duration": 22,
    "start_time": "2021-11-13T15:32:40.129Z"
   },
   {
    "duration": 56,
    "start_time": "2021-11-13T15:32:40.153Z"
   },
   {
    "duration": 10,
    "start_time": "2021-11-13T15:32:40.212Z"
   },
   {
    "duration": 101,
    "start_time": "2021-11-13T15:32:40.225Z"
   },
   {
    "duration": 114,
    "start_time": "2021-11-13T15:32:40.331Z"
   },
   {
    "duration": 14,
    "start_time": "2021-11-13T15:32:40.447Z"
   },
   {
    "duration": 42,
    "start_time": "2021-11-13T15:32:40.463Z"
   },
   {
    "duration": 11,
    "start_time": "2021-11-13T15:32:40.508Z"
   },
   {
    "duration": 20,
    "start_time": "2021-11-13T15:32:40.521Z"
   },
   {
    "duration": 68,
    "start_time": "2021-11-13T15:32:40.545Z"
   },
   {
    "duration": 92,
    "start_time": "2021-11-13T15:32:40.618Z"
   },
   {
    "duration": 11,
    "start_time": "2021-11-13T15:32:40.714Z"
   },
   {
    "duration": 21,
    "start_time": "2021-11-13T15:32:40.727Z"
   },
   {
    "duration": 73,
    "start_time": "2021-11-13T15:32:40.750Z"
   },
   {
    "duration": 24,
    "start_time": "2021-11-13T15:32:40.825Z"
   },
   {
    "duration": 19,
    "start_time": "2021-11-13T15:34:03.293Z"
   },
   {
    "duration": 17,
    "start_time": "2021-11-13T15:35:48.182Z"
   },
   {
    "duration": 15,
    "start_time": "2021-11-13T15:36:05.213Z"
   },
   {
    "duration": 87,
    "start_time": "2021-11-13T15:36:13.085Z"
   },
   {
    "duration": 38,
    "start_time": "2021-11-13T15:36:13.175Z"
   },
   {
    "duration": 11,
    "start_time": "2021-11-13T15:36:13.216Z"
   },
   {
    "duration": 6,
    "start_time": "2021-11-13T15:36:13.229Z"
   },
   {
    "duration": 12,
    "start_time": "2021-11-13T15:36:13.238Z"
   },
   {
    "duration": 8,
    "start_time": "2021-11-13T15:36:13.252Z"
   },
   {
    "duration": 43,
    "start_time": "2021-11-13T15:36:13.262Z"
   },
   {
    "duration": 7,
    "start_time": "2021-11-13T15:36:13.308Z"
   },
   {
    "duration": 13,
    "start_time": "2021-11-13T15:36:13.317Z"
   },
   {
    "duration": 8,
    "start_time": "2021-11-13T15:36:13.333Z"
   },
   {
    "duration": 20,
    "start_time": "2021-11-13T15:36:13.343Z"
   },
   {
    "duration": 34,
    "start_time": "2021-11-13T15:36:13.366Z"
   },
   {
    "duration": 3,
    "start_time": "2021-11-13T15:36:13.402Z"
   },
   {
    "duration": 14,
    "start_time": "2021-11-13T15:36:13.408Z"
   },
   {
    "duration": 17,
    "start_time": "2021-11-13T15:36:13.424Z"
   },
   {
    "duration": 23,
    "start_time": "2021-11-13T15:36:13.444Z"
   },
   {
    "duration": 3,
    "start_time": "2021-11-13T15:36:13.469Z"
   },
   {
    "duration": 36,
    "start_time": "2021-11-13T15:36:13.474Z"
   },
   {
    "duration": 24,
    "start_time": "2021-11-13T15:36:13.559Z"
   },
   {
    "duration": 13,
    "start_time": "2021-11-13T15:36:13.585Z"
   },
   {
    "duration": 9,
    "start_time": "2021-11-13T15:36:13.602Z"
   },
   {
    "duration": 46,
    "start_time": "2021-11-13T15:36:13.614Z"
   },
   {
    "duration": 76,
    "start_time": "2021-11-13T15:36:13.662Z"
   },
   {
    "duration": 15,
    "start_time": "2021-11-13T15:36:13.742Z"
   },
   {
    "duration": 44,
    "start_time": "2021-11-13T15:36:13.759Z"
   },
   {
    "duration": 14,
    "start_time": "2021-11-13T15:36:13.806Z"
   },
   {
    "duration": 14,
    "start_time": "2021-11-13T15:36:13.824Z"
   },
   {
    "duration": 17,
    "start_time": "2021-11-13T15:36:13.840Z"
   },
   {
    "duration": 54,
    "start_time": "2021-11-13T15:36:13.860Z"
   },
   {
    "duration": 42,
    "start_time": "2021-11-13T15:36:13.916Z"
   },
   {
    "duration": 6,
    "start_time": "2021-11-13T15:36:13.960Z"
   },
   {
    "duration": 44,
    "start_time": "2021-11-13T15:36:13.969Z"
   },
   {
    "duration": 40,
    "start_time": "2021-11-13T15:36:14.015Z"
   },
   {
    "duration": 52,
    "start_time": "2021-11-13T15:36:14.058Z"
   },
   {
    "duration": 17,
    "start_time": "2021-11-13T15:36:52.099Z"
   },
   {
    "duration": 445,
    "start_time": "2021-11-13T15:45:37.792Z"
   },
   {
    "duration": 419,
    "start_time": "2021-11-13T15:46:27.834Z"
   },
   {
    "duration": 381,
    "start_time": "2021-11-13T15:48:57.610Z"
   },
   {
    "duration": 455,
    "start_time": "2021-11-13T15:49:12.164Z"
   },
   {
    "duration": 424,
    "start_time": "2021-11-13T15:51:29.144Z"
   },
   {
    "duration": 6940,
    "start_time": "2021-11-13T15:51:37.765Z"
   },
   {
    "duration": 7397,
    "start_time": "2021-11-13T15:52:13.409Z"
   },
   {
    "duration": 7268,
    "start_time": "2021-11-13T15:53:56.055Z"
   },
   {
    "duration": 9,
    "start_time": "2021-11-13T15:54:15.946Z"
   },
   {
    "duration": 8,
    "start_time": "2021-11-13T15:54:32.642Z"
   },
   {
    "duration": 439,
    "start_time": "2021-11-13T15:54:46.903Z"
   },
   {
    "duration": 5,
    "start_time": "2021-11-13T15:55:28.759Z"
   },
   {
    "duration": 8,
    "start_time": "2021-11-13T15:55:39.538Z"
   },
   {
    "duration": 382,
    "start_time": "2021-11-13T15:55:49.947Z"
   },
   {
    "duration": 6,
    "start_time": "2021-11-13T15:57:18.320Z"
   },
   {
    "duration": 388,
    "start_time": "2021-11-13T15:59:11.102Z"
   },
   {
    "duration": 7,
    "start_time": "2021-11-13T15:59:32.774Z"
   },
   {
    "duration": 7,
    "start_time": "2021-11-13T15:59:56.823Z"
   },
   {
    "duration": 410,
    "start_time": "2021-11-13T16:01:47.584Z"
   },
   {
    "duration": 9,
    "start_time": "2021-11-13T16:02:17.330Z"
   },
   {
    "duration": 645,
    "start_time": "2021-11-13T16:02:30.992Z"
   },
   {
    "duration": 393,
    "start_time": "2021-11-13T16:03:07.836Z"
   },
   {
    "duration": 406,
    "start_time": "2021-11-13T16:03:26.342Z"
   },
   {
    "duration": 14,
    "start_time": "2021-11-13T16:05:11.450Z"
   },
   {
    "duration": 11,
    "start_time": "2021-11-13T16:05:32.164Z"
   },
   {
    "duration": 12,
    "start_time": "2021-11-13T16:05:56.358Z"
   },
   {
    "duration": 12,
    "start_time": "2021-11-13T16:07:45.063Z"
   },
   {
    "duration": 7,
    "start_time": "2021-11-13T16:09:51.452Z"
   },
   {
    "duration": 419,
    "start_time": "2021-11-13T16:11:38.727Z"
   },
   {
    "duration": 132,
    "start_time": "2021-11-13T16:12:04.451Z"
   },
   {
    "duration": 444,
    "start_time": "2021-11-13T16:12:11.888Z"
   },
   {
    "duration": 249,
    "start_time": "2021-11-13T16:12:32.058Z"
   },
   {
    "duration": 257,
    "start_time": "2021-11-13T16:13:02.559Z"
   },
   {
    "duration": 252,
    "start_time": "2021-11-13T16:13:44.381Z"
   },
   {
    "duration": 3272,
    "start_time": "2021-11-13T16:16:40.993Z"
   },
   {
    "duration": 3466,
    "start_time": "2021-11-13T16:17:51.042Z"
   },
   {
    "duration": 3593,
    "start_time": "2021-11-13T16:18:58.999Z"
   },
   {
    "duration": 8,
    "start_time": "2021-11-13T16:46:53.780Z"
   },
   {
    "duration": 413,
    "start_time": "2021-11-13T16:47:09.388Z"
   },
   {
    "duration": 372,
    "start_time": "2021-11-13T16:47:16.085Z"
   },
   {
    "duration": 74,
    "start_time": "2021-11-13T16:48:23.245Z"
   },
   {
    "duration": 15,
    "start_time": "2021-11-13T16:48:23.322Z"
   },
   {
    "duration": 12,
    "start_time": "2021-11-13T16:48:23.340Z"
   },
   {
    "duration": 7,
    "start_time": "2021-11-13T16:48:23.355Z"
   },
   {
    "duration": 38,
    "start_time": "2021-11-13T16:48:23.365Z"
   },
   {
    "duration": 10,
    "start_time": "2021-11-13T16:48:23.406Z"
   },
   {
    "duration": 11,
    "start_time": "2021-11-13T16:48:23.418Z"
   },
   {
    "duration": 6,
    "start_time": "2021-11-13T16:48:23.433Z"
   },
   {
    "duration": 10,
    "start_time": "2021-11-13T16:48:23.441Z"
   },
   {
    "duration": 6,
    "start_time": "2021-11-13T16:48:23.454Z"
   },
   {
    "duration": 47,
    "start_time": "2021-11-13T16:48:23.461Z"
   },
   {
    "duration": 14,
    "start_time": "2021-11-13T16:48:23.510Z"
   },
   {
    "duration": 11,
    "start_time": "2021-11-13T16:48:23.527Z"
   },
   {
    "duration": 12,
    "start_time": "2021-11-13T16:48:23.541Z"
   },
   {
    "duration": 25,
    "start_time": "2021-11-13T16:48:23.575Z"
   },
   {
    "duration": 24,
    "start_time": "2021-11-13T16:48:23.603Z"
   },
   {
    "duration": 4,
    "start_time": "2021-11-13T16:48:23.630Z"
   },
   {
    "duration": 22,
    "start_time": "2021-11-13T16:48:23.637Z"
   },
   {
    "duration": 51,
    "start_time": "2021-11-13T16:48:23.661Z"
   },
   {
    "duration": 11,
    "start_time": "2021-11-13T16:48:23.715Z"
   },
   {
    "duration": 12,
    "start_time": "2021-11-13T16:48:23.729Z"
   },
   {
    "duration": 79,
    "start_time": "2021-11-13T16:48:23.744Z"
   },
   {
    "duration": 49,
    "start_time": "2021-11-13T16:48:23.826Z"
   },
   {
    "duration": 33,
    "start_time": "2021-11-13T16:48:23.877Z"
   },
   {
    "duration": 12,
    "start_time": "2021-11-13T16:48:23.913Z"
   },
   {
    "duration": 17,
    "start_time": "2021-11-13T16:48:23.927Z"
   },
   {
    "duration": 56,
    "start_time": "2021-11-13T16:48:23.946Z"
   },
   {
    "duration": 15,
    "start_time": "2021-11-13T16:48:24.005Z"
   },
   {
    "duration": 22,
    "start_time": "2021-11-13T16:48:24.022Z"
   },
   {
    "duration": 76,
    "start_time": "2021-11-13T16:48:24.046Z"
   },
   {
    "duration": 6,
    "start_time": "2021-11-13T16:48:24.125Z"
   },
   {
    "duration": 24,
    "start_time": "2021-11-13T16:48:24.133Z"
   },
   {
    "duration": 56,
    "start_time": "2021-11-13T16:48:24.159Z"
   },
   {
    "duration": 24,
    "start_time": "2021-11-13T16:48:24.217Z"
   },
   {
    "duration": 309,
    "start_time": "2021-11-13T16:48:24.243Z"
   },
   {
    "duration": 6486,
    "start_time": "2021-11-13T16:48:24.555Z"
   },
   {
    "duration": 444,
    "start_time": "2021-11-13T16:48:31.045Z"
   },
   {
    "duration": -290,
    "start_time": "2021-11-13T16:48:31.782Z"
   },
   {
    "duration": 278,
    "start_time": "2021-11-13T16:48:58.884Z"
   },
   {
    "duration": 246,
    "start_time": "2021-11-13T16:49:29.179Z"
   },
   {
    "duration": 259,
    "start_time": "2021-11-13T16:50:00.274Z"
   },
   {
    "duration": 246,
    "start_time": "2021-11-13T16:53:07.562Z"
   },
   {
    "duration": 247,
    "start_time": "2021-11-13T16:53:54.324Z"
   },
   {
    "duration": 5313,
    "start_time": "2021-11-13T16:54:44.519Z"
   },
   {
    "duration": 4462,
    "start_time": "2021-11-13T16:55:04.674Z"
   },
   {
    "duration": 141,
    "start_time": "2021-11-13T16:56:03.223Z"
   },
   {
    "duration": 133,
    "start_time": "2021-11-13T16:56:11.779Z"
   },
   {
    "duration": 131,
    "start_time": "2021-11-13T16:56:17.917Z"
   },
   {
    "duration": 4774,
    "start_time": "2021-11-13T16:56:22.896Z"
   },
   {
    "duration": 83,
    "start_time": "2021-11-13T16:56:33.045Z"
   },
   {
    "duration": 16,
    "start_time": "2021-11-13T16:56:33.131Z"
   },
   {
    "duration": 10,
    "start_time": "2021-11-13T16:56:33.150Z"
   },
   {
    "duration": 40,
    "start_time": "2021-11-13T16:56:33.163Z"
   },
   {
    "duration": 5,
    "start_time": "2021-11-13T16:56:33.205Z"
   },
   {
    "duration": 8,
    "start_time": "2021-11-13T16:56:33.213Z"
   },
   {
    "duration": 8,
    "start_time": "2021-11-13T16:56:33.223Z"
   },
   {
    "duration": 3,
    "start_time": "2021-11-13T16:56:33.234Z"
   },
   {
    "duration": 8,
    "start_time": "2021-11-13T16:56:33.240Z"
   },
   {
    "duration": 6,
    "start_time": "2021-11-13T16:56:33.251Z"
   },
   {
    "duration": 15,
    "start_time": "2021-11-13T16:56:33.300Z"
   },
   {
    "duration": 7,
    "start_time": "2021-11-13T16:56:33.318Z"
   },
   {
    "duration": 6,
    "start_time": "2021-11-13T16:56:33.328Z"
   },
   {
    "duration": 14,
    "start_time": "2021-11-13T16:56:33.336Z"
   },
   {
    "duration": 48,
    "start_time": "2021-11-13T16:56:33.353Z"
   },
   {
    "duration": 31,
    "start_time": "2021-11-13T16:56:33.404Z"
   },
   {
    "duration": 4,
    "start_time": "2021-11-13T16:56:33.438Z"
   },
   {
    "duration": 63,
    "start_time": "2021-11-13T16:56:33.445Z"
   },
   {
    "duration": 27,
    "start_time": "2021-11-13T16:56:33.511Z"
   },
   {
    "duration": 16,
    "start_time": "2021-11-13T16:56:33.541Z"
   },
   {
    "duration": 44,
    "start_time": "2021-11-13T16:56:33.561Z"
   },
   {
    "duration": 47,
    "start_time": "2021-11-13T16:56:33.607Z"
   },
   {
    "duration": 73,
    "start_time": "2021-11-13T16:56:33.659Z"
   },
   {
    "duration": 13,
    "start_time": "2021-11-13T16:56:33.735Z"
   },
   {
    "duration": 26,
    "start_time": "2021-11-13T16:56:33.751Z"
   },
   {
    "duration": 30,
    "start_time": "2021-11-13T16:56:33.780Z"
   },
   {
    "duration": 14,
    "start_time": "2021-11-13T16:56:33.813Z"
   },
   {
    "duration": 21,
    "start_time": "2021-11-13T16:56:33.830Z"
   },
   {
    "duration": 47,
    "start_time": "2021-11-13T16:56:33.854Z"
   },
   {
    "duration": 44,
    "start_time": "2021-11-13T16:56:33.903Z"
   },
   {
    "duration": 7,
    "start_time": "2021-11-13T16:56:33.949Z"
   },
   {
    "duration": 43,
    "start_time": "2021-11-13T16:56:33.958Z"
   },
   {
    "duration": 39,
    "start_time": "2021-11-13T16:56:34.004Z"
   },
   {
    "duration": 24,
    "start_time": "2021-11-13T16:56:34.045Z"
   },
   {
    "duration": 288,
    "start_time": "2021-11-13T16:56:34.072Z"
   },
   {
    "duration": 3772,
    "start_time": "2021-11-13T16:56:34.362Z"
   },
   {
    "duration": 391,
    "start_time": "2021-11-13T16:56:38.136Z"
   },
   {
    "duration": 4460,
    "start_time": "2021-11-13T16:56:38.530Z"
   },
   {
    "duration": 4587,
    "start_time": "2021-11-13T16:57:57.989Z"
   },
   {
    "duration": 4540,
    "start_time": "2021-11-13T16:58:51.215Z"
   },
   {
    "duration": 4407,
    "start_time": "2021-11-13T16:59:14.977Z"
   },
   {
    "duration": 4546,
    "start_time": "2021-11-13T16:59:40.665Z"
   },
   {
    "duration": 29,
    "start_time": "2021-11-13T17:01:43.944Z"
   },
   {
    "duration": 93,
    "start_time": "2021-11-13T17:08:52.277Z"
   },
   {
    "duration": 258,
    "start_time": "2021-11-13T17:09:08.580Z"
   },
   {
    "duration": 24,
    "start_time": "2021-11-13T17:10:27.230Z"
   },
   {
    "duration": 1146,
    "start_time": "2021-11-13T17:10:54.407Z"
   },
   {
    "duration": 1014,
    "start_time": "2021-11-13T17:11:28.216Z"
   },
   {
    "duration": 1057,
    "start_time": "2021-11-13T17:12:00.080Z"
   },
   {
    "duration": 7277,
    "start_time": "2021-11-13T17:13:20.779Z"
   },
   {
    "duration": 4941,
    "start_time": "2021-11-13T17:14:09.559Z"
   },
   {
    "duration": 4850,
    "start_time": "2021-11-13T17:14:38.404Z"
   },
   {
    "duration": 4500,
    "start_time": "2021-11-13T17:15:27.049Z"
   },
   {
    "duration": 4520,
    "start_time": "2021-11-13T17:17:44.257Z"
   },
   {
    "duration": 4919,
    "start_time": "2021-11-13T17:18:05.153Z"
   },
   {
    "duration": 5941,
    "start_time": "2021-11-13T17:19:09.422Z"
   },
   {
    "duration": 5463,
    "start_time": "2021-11-13T17:19:35.240Z"
   },
   {
    "duration": 5149,
    "start_time": "2021-11-13T17:20:02.064Z"
   },
   {
    "duration": 4800,
    "start_time": "2021-11-13T17:20:53.654Z"
   },
   {
    "duration": 1455,
    "start_time": "2021-11-13T17:21:21.473Z"
   },
   {
    "duration": 4775,
    "start_time": "2021-11-13T17:21:36.459Z"
   },
   {
    "duration": 4869,
    "start_time": "2021-11-13T17:22:00.446Z"
   },
   {
    "duration": 7392,
    "start_time": "2021-11-13T17:23:24.552Z"
   },
   {
    "duration": 7266,
    "start_time": "2021-11-13T17:25:09.062Z"
   },
   {
    "duration": 4710,
    "start_time": "2021-11-13T17:27:35.426Z"
   },
   {
    "duration": 4510,
    "start_time": "2021-11-13T17:27:55.836Z"
   },
   {
    "duration": 4547,
    "start_time": "2021-11-13T17:28:05.366Z"
   },
   {
    "duration": 4514,
    "start_time": "2021-11-13T17:28:54.451Z"
   },
   {
    "duration": 1459,
    "start_time": "2021-11-13T17:29:06.615Z"
   },
   {
    "duration": 7042,
    "start_time": "2021-11-13T17:30:12.108Z"
   },
   {
    "duration": 4881,
    "start_time": "2021-11-13T17:31:19.096Z"
   },
   {
    "duration": 6667,
    "start_time": "2021-11-13T17:32:05.686Z"
   },
   {
    "duration": 6768,
    "start_time": "2021-11-13T17:33:46.097Z"
   },
   {
    "duration": 4649,
    "start_time": "2021-11-13T17:34:29.925Z"
   },
   {
    "duration": 4487,
    "start_time": "2021-11-13T17:34:42.992Z"
   },
   {
    "duration": 5456,
    "start_time": "2021-11-13T17:35:54.123Z"
   },
   {
    "duration": 5366,
    "start_time": "2021-11-13T17:36:33.692Z"
   },
   {
    "duration": 5183,
    "start_time": "2021-11-13T17:37:03.875Z"
   },
   {
    "duration": 138,
    "start_time": "2021-11-13T17:37:58.486Z"
   },
   {
    "duration": 5321,
    "start_time": "2021-11-13T17:38:13.262Z"
   },
   {
    "duration": 132,
    "start_time": "2021-11-13T17:50:19.871Z"
   },
   {
    "duration": 245,
    "start_time": "2021-11-13T17:50:36.707Z"
   },
   {
    "duration": 136,
    "start_time": "2021-11-13T17:51:19.894Z"
   },
   {
    "duration": 138,
    "start_time": "2021-11-13T17:51:55.255Z"
   },
   {
    "duration": 129,
    "start_time": "2021-11-13T17:52:56.362Z"
   },
   {
    "duration": 121,
    "start_time": "2021-11-13T17:53:09.721Z"
   },
   {
    "duration": 252,
    "start_time": "2021-11-13T17:53:45.957Z"
   },
   {
    "duration": 1181,
    "start_time": "2021-11-13T17:54:30.182Z"
   },
   {
    "duration": 5376,
    "start_time": "2021-11-13T17:54:50.773Z"
   },
   {
    "duration": 5081,
    "start_time": "2021-11-13T17:55:25.049Z"
   },
   {
    "duration": 251,
    "start_time": "2021-11-13T17:56:38.144Z"
   },
   {
    "duration": 228,
    "start_time": "2021-11-13T17:56:43.487Z"
   },
   {
    "duration": 5982,
    "start_time": "2021-11-13T18:04:55.370Z"
   },
   {
    "duration": 5413,
    "start_time": "2021-11-13T18:05:45.329Z"
   },
   {
    "duration": 6995,
    "start_time": "2021-11-13T18:07:46.673Z"
   },
   {
    "duration": 494,
    "start_time": "2021-11-14T09:56:06.644Z"
   },
   {
    "duration": 933,
    "start_time": "2021-11-14T09:56:10.437Z"
   },
   {
    "duration": 24,
    "start_time": "2021-11-14T09:56:11.374Z"
   },
   {
    "duration": 10,
    "start_time": "2021-11-14T09:56:11.401Z"
   },
   {
    "duration": 6,
    "start_time": "2021-11-14T09:56:11.414Z"
   },
   {
    "duration": 45,
    "start_time": "2021-11-14T09:56:11.423Z"
   },
   {
    "duration": 27,
    "start_time": "2021-11-14T09:56:11.471Z"
   },
   {
    "duration": 23,
    "start_time": "2021-11-14T09:56:11.500Z"
   },
   {
    "duration": 11,
    "start_time": "2021-11-14T09:56:11.527Z"
   },
   {
    "duration": 48,
    "start_time": "2021-11-14T09:56:11.541Z"
   },
   {
    "duration": 15,
    "start_time": "2021-11-14T09:56:11.592Z"
   },
   {
    "duration": 24,
    "start_time": "2021-11-14T09:56:11.609Z"
   },
   {
    "duration": 6,
    "start_time": "2021-11-14T09:56:11.636Z"
   },
   {
    "duration": 34,
    "start_time": "2021-11-14T09:56:11.644Z"
   },
   {
    "duration": 25,
    "start_time": "2021-11-14T09:56:11.681Z"
   },
   {
    "duration": 22,
    "start_time": "2021-11-14T09:56:11.708Z"
   },
   {
    "duration": 58,
    "start_time": "2021-11-14T09:56:11.732Z"
   },
   {
    "duration": 4,
    "start_time": "2021-11-14T09:56:11.792Z"
   },
   {
    "duration": 30,
    "start_time": "2021-11-14T09:56:11.798Z"
   },
   {
    "duration": 32,
    "start_time": "2021-11-14T09:56:11.831Z"
   },
   {
    "duration": 20,
    "start_time": "2021-11-14T09:56:11.867Z"
   },
   {
    "duration": 18,
    "start_time": "2021-11-14T09:56:11.890Z"
   },
   {
    "duration": 80,
    "start_time": "2021-11-14T09:56:11.910Z"
   },
   {
    "duration": 46,
    "start_time": "2021-11-14T09:56:11.995Z"
   },
   {
    "duration": 31,
    "start_time": "2021-11-14T09:56:12.043Z"
   },
   {
    "duration": 32,
    "start_time": "2021-11-14T09:56:12.083Z"
   },
   {
    "duration": 16,
    "start_time": "2021-11-14T09:56:12.118Z"
   },
   {
    "duration": 35,
    "start_time": "2021-11-14T09:56:12.137Z"
   },
   {
    "duration": 35,
    "start_time": "2021-11-14T09:56:12.181Z"
   },
   {
    "duration": 22,
    "start_time": "2021-11-14T09:56:12.218Z"
   },
   {
    "duration": 59,
    "start_time": "2021-11-14T09:56:12.242Z"
   },
   {
    "duration": 7,
    "start_time": "2021-11-14T09:56:12.304Z"
   },
   {
    "duration": 57,
    "start_time": "2021-11-14T09:56:12.314Z"
   },
   {
    "duration": 42,
    "start_time": "2021-11-14T09:56:12.379Z"
   },
   {
    "duration": 21,
    "start_time": "2021-11-14T09:56:12.423Z"
   },
   {
    "duration": 259,
    "start_time": "2021-11-14T09:56:12.459Z"
   },
   {
    "duration": 3714,
    "start_time": "2021-11-14T09:56:12.720Z"
   },
   {
    "duration": 265,
    "start_time": "2021-11-14T09:56:16.436Z"
   },
   {
    "duration": 7436,
    "start_time": "2021-11-14T09:56:16.704Z"
   },
   {
    "duration": 511,
    "start_time": "2021-11-14T09:56:24.143Z"
   },
   {
    "duration": 404,
    "start_time": "2021-11-14T09:57:17.076Z"
   },
   {
    "duration": 541,
    "start_time": "2021-11-14T09:57:46.375Z"
   },
   {
    "duration": 7921,
    "start_time": "2021-11-14T10:00:29.224Z"
   },
   {
    "duration": 7843,
    "start_time": "2021-11-14T10:01:04.709Z"
   },
   {
    "duration": 151,
    "start_time": "2021-11-14T10:02:25.231Z"
   },
   {
    "duration": 7704,
    "start_time": "2021-11-14T10:03:23.379Z"
   },
   {
    "duration": 7597,
    "start_time": "2021-11-14T10:05:03.420Z"
   },
   {
    "duration": 122,
    "start_time": "2021-11-14T10:15:27.983Z"
   },
   {
    "duration": 1172,
    "start_time": "2021-11-14T10:15:37.854Z"
   },
   {
    "duration": 8,
    "start_time": "2021-11-14T10:16:01.876Z"
   },
   {
    "duration": 6,
    "start_time": "2021-11-14T10:16:08.288Z"
   },
   {
    "duration": 7,
    "start_time": "2021-11-14T10:16:12.883Z"
   },
   {
    "duration": 5,
    "start_time": "2021-11-14T10:16:18.018Z"
   },
   {
    "duration": 6,
    "start_time": "2021-11-14T10:17:09.938Z"
   },
   {
    "duration": 8,
    "start_time": "2021-11-14T10:17:17.375Z"
   },
   {
    "duration": 8,
    "start_time": "2021-11-14T10:18:47.921Z"
   },
   {
    "duration": 13,
    "start_time": "2021-11-14T10:19:00.055Z"
   },
   {
    "duration": 7,
    "start_time": "2021-11-14T10:19:11.124Z"
   },
   {
    "duration": 6,
    "start_time": "2021-11-14T10:19:28.899Z"
   },
   {
    "duration": 40,
    "start_time": "2021-11-14T10:24:12.047Z"
   },
   {
    "duration": 99,
    "start_time": "2021-11-14T10:25:07.422Z"
   },
   {
    "duration": 16,
    "start_time": "2021-11-14T10:25:07.524Z"
   },
   {
    "duration": 35,
    "start_time": "2021-11-14T10:25:07.544Z"
   },
   {
    "duration": 17,
    "start_time": "2021-11-14T10:25:07.582Z"
   },
   {
    "duration": 11,
    "start_time": "2021-11-14T10:25:07.601Z"
   },
   {
    "duration": 14,
    "start_time": "2021-11-14T10:25:07.615Z"
   },
   {
    "duration": 40,
    "start_time": "2021-11-14T10:25:07.631Z"
   },
   {
    "duration": 3,
    "start_time": "2021-11-14T10:25:07.676Z"
   },
   {
    "duration": 18,
    "start_time": "2021-11-14T10:25:07.683Z"
   },
   {
    "duration": 3,
    "start_time": "2021-11-14T10:25:07.704Z"
   },
   {
    "duration": 17,
    "start_time": "2021-11-14T10:25:07.709Z"
   },
   {
    "duration": 15,
    "start_time": "2021-11-14T10:25:07.728Z"
   },
   {
    "duration": 7,
    "start_time": "2021-11-14T10:25:07.759Z"
   },
   {
    "duration": 29,
    "start_time": "2021-11-14T10:25:07.770Z"
   },
   {
    "duration": 8,
    "start_time": "2021-11-14T10:25:07.801Z"
   },
   {
    "duration": 27,
    "start_time": "2021-11-14T10:25:07.811Z"
   },
   {
    "duration": 23,
    "start_time": "2021-11-14T10:25:07.860Z"
   },
   {
    "duration": 19,
    "start_time": "2021-11-14T10:25:07.892Z"
   },
   {
    "duration": 23,
    "start_time": "2021-11-14T10:25:07.914Z"
   },
   {
    "duration": 40,
    "start_time": "2021-11-14T10:25:07.939Z"
   },
   {
    "duration": 25,
    "start_time": "2021-11-14T10:25:07.983Z"
   },
   {
    "duration": 64,
    "start_time": "2021-11-14T10:25:08.011Z"
   },
   {
    "duration": 61,
    "start_time": "2021-11-14T10:25:08.079Z"
   },
   {
    "duration": 32,
    "start_time": "2021-11-14T10:25:08.143Z"
   },
   {
    "duration": 31,
    "start_time": "2021-11-14T10:25:08.178Z"
   },
   {
    "duration": 17,
    "start_time": "2021-11-14T10:25:08.211Z"
   },
   {
    "duration": 33,
    "start_time": "2021-11-14T10:25:08.230Z"
   },
   {
    "duration": 48,
    "start_time": "2021-11-14T10:25:08.266Z"
   },
   {
    "duration": 21,
    "start_time": "2021-11-14T10:25:08.316Z"
   },
   {
    "duration": 65,
    "start_time": "2021-11-14T10:25:08.339Z"
   },
   {
    "duration": 5,
    "start_time": "2021-11-14T10:25:08.407Z"
   },
   {
    "duration": 31,
    "start_time": "2021-11-14T10:25:08.415Z"
   },
   {
    "duration": 62,
    "start_time": "2021-11-14T10:25:08.448Z"
   },
   {
    "duration": 29,
    "start_time": "2021-11-14T10:25:08.513Z"
   },
   {
    "duration": 284,
    "start_time": "2021-11-14T10:25:08.545Z"
   },
   {
    "duration": 3776,
    "start_time": "2021-11-14T10:25:08.831Z"
   },
   {
    "duration": 277,
    "start_time": "2021-11-14T10:25:12.609Z"
   },
   {
    "duration": 7706,
    "start_time": "2021-11-14T10:25:12.891Z"
   },
   {
    "duration": 7,
    "start_time": "2021-11-14T10:25:20.601Z"
   },
   {
    "duration": 33,
    "start_time": "2021-11-14T10:25:20.610Z"
   },
   {
    "duration": 9,
    "start_time": "2021-11-14T10:26:15.677Z"
   },
   {
    "duration": 142,
    "start_time": "2021-11-14T10:26:22.814Z"
   },
   {
    "duration": 6,
    "start_time": "2021-11-14T10:26:29.949Z"
   },
   {
    "duration": 35,
    "start_time": "2021-11-14T10:26:49.256Z"
   },
   {
    "duration": 35,
    "start_time": "2021-11-14T10:27:09.327Z"
   },
   {
    "duration": 498,
    "start_time": "2021-11-14T10:27:48.408Z"
   },
   {
    "duration": 49,
    "start_time": "2021-11-14T10:27:56.842Z"
   },
   {
    "duration": 24,
    "start_time": "2021-11-14T10:32:21.332Z"
   },
   {
    "duration": 397,
    "start_time": "2021-11-14T10:50:10.049Z"
   },
   {
    "duration": 607,
    "start_time": "2021-11-14T10:51:16.046Z"
   },
   {
    "duration": 428,
    "start_time": "2021-11-14T10:53:20.130Z"
   },
   {
    "duration": 656,
    "start_time": "2021-11-14T10:55:16.585Z"
   },
   {
    "duration": 55,
    "start_time": "2021-11-14T10:55:57.394Z"
   },
   {
    "duration": 102,
    "start_time": "2021-11-14T10:56:18.617Z"
   },
   {
    "duration": 39,
    "start_time": "2021-11-14T10:57:16.023Z"
   },
   {
    "duration": 48,
    "start_time": "2021-11-14T10:57:26.024Z"
   },
   {
    "duration": 35,
    "start_time": "2021-11-14T10:57:44.485Z"
   },
   {
    "duration": 25,
    "start_time": "2021-11-14T10:58:24.917Z"
   },
   {
    "duration": 44,
    "start_time": "2021-11-14T10:58:34.083Z"
   },
   {
    "duration": 128,
    "start_time": "2021-11-14T10:59:18.883Z"
   },
   {
    "duration": 39,
    "start_time": "2021-11-14T10:59:31.792Z"
   },
   {
    "duration": 416,
    "start_time": "2021-11-14T11:07:27.446Z"
   },
   {
    "duration": 98,
    "start_time": "2021-11-14T11:07:38.012Z"
   },
   {
    "duration": 418,
    "start_time": "2021-11-14T11:14:07.035Z"
   },
   {
    "duration": 421,
    "start_time": "2021-11-14T11:16:28.031Z"
   },
   {
    "duration": 452,
    "start_time": "2021-11-14T11:20:23.058Z"
   },
   {
    "duration": 456,
    "start_time": "2021-11-14T11:21:02.973Z"
   },
   {
    "duration": 40,
    "start_time": "2021-11-14T11:23:30.782Z"
   },
   {
    "duration": 7,
    "start_time": "2021-11-14T11:33:29.288Z"
   },
   {
    "duration": 7,
    "start_time": "2021-11-14T11:33:37.523Z"
   },
   {
    "duration": 12,
    "start_time": "2021-11-14T11:33:47.515Z"
   },
   {
    "duration": 8,
    "start_time": "2021-11-14T11:34:12.323Z"
   },
   {
    "duration": 12,
    "start_time": "2021-11-14T11:34:25.579Z"
   },
   {
    "duration": 9,
    "start_time": "2021-11-14T11:34:33.688Z"
   },
   {
    "duration": 7,
    "start_time": "2021-11-14T11:34:38.946Z"
   },
   {
    "duration": 35,
    "start_time": "2021-11-14T11:36:51.918Z"
   },
   {
    "duration": 42,
    "start_time": "2021-11-14T11:37:17.007Z"
   },
   {
    "duration": 418,
    "start_time": "2021-11-14T11:37:34.952Z"
   },
   {
    "duration": 396,
    "start_time": "2021-11-14T11:37:41.055Z"
   },
   {
    "duration": 402,
    "start_time": "2021-11-14T11:37:46.296Z"
   },
   {
    "duration": 495,
    "start_time": "2021-11-14T11:37:56.295Z"
   },
   {
    "duration": 413,
    "start_time": "2021-11-14T11:38:00.432Z"
   },
   {
    "duration": 33,
    "start_time": "2021-11-14T11:38:05.154Z"
   },
   {
    "duration": 41,
    "start_time": "2021-11-14T11:39:18.131Z"
   },
   {
    "duration": 7,
    "start_time": "2021-11-14T11:39:28.694Z"
   },
   {
    "duration": 30,
    "start_time": "2021-11-14T11:39:34.223Z"
   },
   {
    "duration": 11,
    "start_time": "2021-11-14T11:41:43.473Z"
   },
   {
    "duration": 53,
    "start_time": "2021-11-14T11:44:13.910Z"
   },
   {
    "duration": 31,
    "start_time": "2021-11-14T11:44:21.434Z"
   },
   {
    "duration": 426,
    "start_time": "2021-11-14T11:44:45.929Z"
   },
   {
    "duration": 18,
    "start_time": "2021-11-14T11:45:14.429Z"
   },
   {
    "duration": 267,
    "start_time": "2021-11-14T12:13:46.955Z"
   },
   {
    "duration": 128,
    "start_time": "2021-11-14T12:15:55.608Z"
   },
   {
    "duration": 998,
    "start_time": "2021-11-14T12:22:02.995Z"
   },
   {
    "duration": 1061,
    "start_time": "2021-11-14T12:22:48.893Z"
   },
   {
    "duration": 991,
    "start_time": "2021-11-14T12:27:21.762Z"
   },
   {
    "duration": 96,
    "start_time": "2021-11-14T12:28:04.875Z"
   },
   {
    "duration": 18,
    "start_time": "2021-11-14T12:28:04.973Z"
   },
   {
    "duration": 10,
    "start_time": "2021-11-14T12:28:04.994Z"
   },
   {
    "duration": 6,
    "start_time": "2021-11-14T12:28:05.007Z"
   },
   {
    "duration": 8,
    "start_time": "2021-11-14T12:28:05.015Z"
   },
   {
    "duration": 31,
    "start_time": "2021-11-14T12:28:05.061Z"
   },
   {
    "duration": 12,
    "start_time": "2021-11-14T12:28:05.094Z"
   },
   {
    "duration": 7,
    "start_time": "2021-11-14T12:28:05.108Z"
   },
   {
    "duration": 13,
    "start_time": "2021-11-14T12:28:05.119Z"
   },
   {
    "duration": 4,
    "start_time": "2021-11-14T12:28:05.135Z"
   },
   {
    "duration": 34,
    "start_time": "2021-11-14T12:28:05.142Z"
   },
   {
    "duration": 5,
    "start_time": "2021-11-14T12:28:05.181Z"
   },
   {
    "duration": 9,
    "start_time": "2021-11-14T12:28:05.189Z"
   },
   {
    "duration": 9,
    "start_time": "2021-11-14T12:28:05.200Z"
   },
   {
    "duration": 10,
    "start_time": "2021-11-14T12:28:05.211Z"
   },
   {
    "duration": 65,
    "start_time": "2021-11-14T12:28:05.223Z"
   },
   {
    "duration": 4,
    "start_time": "2021-11-14T12:28:05.290Z"
   },
   {
    "duration": 17,
    "start_time": "2021-11-14T12:28:05.296Z"
   },
   {
    "duration": 57,
    "start_time": "2021-11-14T12:28:05.315Z"
   },
   {
    "duration": 12,
    "start_time": "2021-11-14T12:28:05.375Z"
   },
   {
    "duration": 26,
    "start_time": "2021-11-14T12:28:05.389Z"
   },
   {
    "duration": 70,
    "start_time": "2021-11-14T12:28:05.417Z"
   },
   {
    "duration": 46,
    "start_time": "2021-11-14T12:28:05.489Z"
   },
   {
    "duration": 39,
    "start_time": "2021-11-14T12:28:05.537Z"
   },
   {
    "duration": 23,
    "start_time": "2021-11-14T12:28:05.579Z"
   },
   {
    "duration": 20,
    "start_time": "2021-11-14T12:28:05.604Z"
   },
   {
    "duration": 45,
    "start_time": "2021-11-14T12:28:05.629Z"
   },
   {
    "duration": 16,
    "start_time": "2021-11-14T12:28:05.677Z"
   },
   {
    "duration": 23,
    "start_time": "2021-11-14T12:28:05.696Z"
   },
   {
    "duration": 82,
    "start_time": "2021-11-14T12:28:05.721Z"
   },
   {
    "duration": 8,
    "start_time": "2021-11-14T12:28:05.806Z"
   },
   {
    "duration": 20,
    "start_time": "2021-11-14T12:28:05.816Z"
   },
   {
    "duration": 69,
    "start_time": "2021-11-14T12:28:05.839Z"
   },
   {
    "duration": 23,
    "start_time": "2021-11-14T12:28:05.910Z"
   },
   {
    "duration": 311,
    "start_time": "2021-11-14T12:28:05.935Z"
   },
   {
    "duration": 3582,
    "start_time": "2021-11-14T12:28:06.248Z"
   },
   {
    "duration": 250,
    "start_time": "2021-11-14T12:28:09.833Z"
   },
   {
    "duration": 7712,
    "start_time": "2021-11-14T12:28:10.086Z"
   },
   {
    "duration": 7,
    "start_time": "2021-11-14T12:28:17.800Z"
   },
   {
    "duration": 22,
    "start_time": "2021-11-14T12:28:17.809Z"
   },
   {
    "duration": 73,
    "start_time": "2021-11-14T12:28:17.833Z"
   },
   {
    "duration": 7,
    "start_time": "2021-11-14T12:28:17.908Z"
   },
   {
    "duration": 66,
    "start_time": "2021-11-14T12:28:17.918Z"
   },
   {
    "duration": 7746,
    "start_time": "2021-11-14T12:28:17.987Z"
   },
   {
    "duration": 34,
    "start_time": "2021-11-14T12:28:25.735Z"
   },
   {
    "duration": 1017,
    "start_time": "2021-11-14T12:28:25.773Z"
   },
   {
    "duration": 1054,
    "start_time": "2021-11-14T12:30:30.136Z"
   },
   {
    "duration": 1038,
    "start_time": "2021-11-14T12:30:41.104Z"
   },
   {
    "duration": 1080,
    "start_time": "2021-11-14T12:31:15.951Z"
   },
   {
    "duration": 1098,
    "start_time": "2021-11-14T12:32:47.005Z"
   },
   {
    "duration": 1019,
    "start_time": "2021-11-14T12:32:58.084Z"
   },
   {
    "duration": 1116,
    "start_time": "2021-11-14T12:34:16.352Z"
   },
   {
    "duration": 1006,
    "start_time": "2021-11-14T12:34:33.723Z"
   },
   {
    "duration": 1079,
    "start_time": "2021-11-14T12:34:46.289Z"
   },
   {
    "duration": 1127,
    "start_time": "2021-11-14T12:35:01.555Z"
   },
   {
    "duration": 1004,
    "start_time": "2021-11-14T12:35:35.478Z"
   },
   {
    "duration": 996,
    "start_time": "2021-11-14T12:38:26.707Z"
   },
   {
    "duration": 146,
    "start_time": "2021-11-14T12:39:26.846Z"
   },
   {
    "duration": 147,
    "start_time": "2021-11-14T12:40:34.855Z"
   },
   {
    "duration": 1116,
    "start_time": "2021-11-14T12:40:49.251Z"
   },
   {
    "duration": 1168,
    "start_time": "2021-11-14T12:41:25.627Z"
   },
   {
    "duration": 1125,
    "start_time": "2021-11-14T12:42:05.178Z"
   },
   {
    "duration": 1221,
    "start_time": "2021-11-14T12:42:24.486Z"
   },
   {
    "duration": 1119,
    "start_time": "2021-11-14T12:43:09.930Z"
   },
   {
    "duration": 1102,
    "start_time": "2021-11-14T12:43:41.579Z"
   },
   {
    "duration": 1207,
    "start_time": "2021-11-14T12:44:01.003Z"
   },
   {
    "duration": 1129,
    "start_time": "2021-11-14T12:45:14.318Z"
   },
   {
    "duration": 1484,
    "start_time": "2021-11-14T12:46:09.022Z"
   },
   {
    "duration": 1096,
    "start_time": "2021-11-14T12:47:21.081Z"
   },
   {
    "duration": 116,
    "start_time": "2021-11-14T12:47:24.746Z"
   },
   {
    "duration": 27,
    "start_time": "2021-11-14T12:47:24.865Z"
   },
   {
    "duration": 21,
    "start_time": "2021-11-14T12:47:24.897Z"
   },
   {
    "duration": 17,
    "start_time": "2021-11-14T12:47:24.921Z"
   },
   {
    "duration": 4,
    "start_time": "2021-11-14T12:47:24.966Z"
   },
   {
    "duration": 36,
    "start_time": "2021-11-14T12:47:24.981Z"
   },
   {
    "duration": 16,
    "start_time": "2021-11-14T12:47:25.021Z"
   },
   {
    "duration": 9,
    "start_time": "2021-11-14T12:47:25.041Z"
   },
   {
    "duration": 38,
    "start_time": "2021-11-14T12:47:25.054Z"
   },
   {
    "duration": 16,
    "start_time": "2021-11-14T12:47:25.095Z"
   },
   {
    "duration": 31,
    "start_time": "2021-11-14T12:47:25.136Z"
   },
   {
    "duration": 26,
    "start_time": "2021-11-14T12:47:25.171Z"
   },
   {
    "duration": 12,
    "start_time": "2021-11-14T12:47:25.201Z"
   },
   {
    "duration": 28,
    "start_time": "2021-11-14T12:47:25.216Z"
   },
   {
    "duration": 36,
    "start_time": "2021-11-14T12:47:25.246Z"
   },
   {
    "duration": 39,
    "start_time": "2021-11-14T12:47:25.286Z"
   },
   {
    "duration": 6,
    "start_time": "2021-11-14T12:47:25.327Z"
   },
   {
    "duration": 48,
    "start_time": "2021-11-14T12:47:25.335Z"
   },
   {
    "duration": 39,
    "start_time": "2021-11-14T12:47:25.387Z"
   },
   {
    "duration": 13,
    "start_time": "2021-11-14T12:47:25.430Z"
   },
   {
    "duration": 50,
    "start_time": "2021-11-14T12:47:25.446Z"
   },
   {
    "duration": 63,
    "start_time": "2021-11-14T12:47:25.499Z"
   },
   {
    "duration": 62,
    "start_time": "2021-11-14T12:47:25.567Z"
   },
   {
    "duration": 40,
    "start_time": "2021-11-14T12:47:25.632Z"
   },
   {
    "duration": 30,
    "start_time": "2021-11-14T12:47:25.676Z"
   },
   {
    "duration": 20,
    "start_time": "2021-11-14T12:47:25.709Z"
   },
   {
    "duration": 27,
    "start_time": "2021-11-14T12:47:25.731Z"
   },
   {
    "duration": 46,
    "start_time": "2021-11-14T12:47:25.765Z"
   },
   {
    "duration": 41,
    "start_time": "2021-11-14T12:47:25.814Z"
   },
   {
    "duration": 62,
    "start_time": "2021-11-14T12:47:25.857Z"
   },
   {
    "duration": 8,
    "start_time": "2021-11-14T12:47:25.923Z"
   },
   {
    "duration": 62,
    "start_time": "2021-11-14T12:47:25.934Z"
   },
   {
    "duration": 71,
    "start_time": "2021-11-14T12:47:25.999Z"
   },
   {
    "duration": 32,
    "start_time": "2021-11-14T12:47:26.074Z"
   },
   {
    "duration": 338,
    "start_time": "2021-11-14T12:47:26.108Z"
   },
   {
    "duration": 4965,
    "start_time": "2021-11-14T12:47:26.448Z"
   },
   {
    "duration": 6,
    "start_time": "2021-11-14T12:47:31.420Z"
   },
   {
    "duration": 46,
    "start_time": "2021-11-14T12:47:31.429Z"
   },
   {
    "duration": 89,
    "start_time": "2021-11-14T12:47:31.478Z"
   },
   {
    "duration": 14,
    "start_time": "2021-11-14T12:47:31.570Z"
   },
   {
    "duration": 42,
    "start_time": "2021-11-14T12:47:31.588Z"
   },
   {
    "duration": 6,
    "start_time": "2021-11-14T12:47:31.633Z"
   },
   {
    "duration": 1476,
    "start_time": "2021-11-14T12:47:31.667Z"
   },
   {
    "duration": 1439,
    "start_time": "2021-11-14T12:47:54.428Z"
   },
   {
    "duration": 1114,
    "start_time": "2021-11-14T12:48:31.650Z"
   },
   {
    "duration": 1083,
    "start_time": "2021-11-14T12:48:51.728Z"
   },
   {
    "duration": 1088,
    "start_time": "2021-11-14T12:50:35.208Z"
   },
   {
    "duration": 1227,
    "start_time": "2021-11-14T12:50:48.217Z"
   },
   {
    "duration": 1054,
    "start_time": "2021-11-14T12:51:33.959Z"
   },
   {
    "duration": 1133,
    "start_time": "2021-11-14T12:51:50.304Z"
   },
   {
    "duration": 1055,
    "start_time": "2021-11-14T12:52:46.389Z"
   },
   {
    "duration": 1079,
    "start_time": "2021-11-14T12:53:45.432Z"
   },
   {
    "duration": 1005,
    "start_time": "2021-11-14T12:54:29.220Z"
   },
   {
    "duration": 1056,
    "start_time": "2021-11-14T12:54:39.577Z"
   },
   {
    "duration": 103,
    "start_time": "2021-11-14T12:54:45.091Z"
   },
   {
    "duration": 15,
    "start_time": "2021-11-14T12:54:45.196Z"
   },
   {
    "duration": 21,
    "start_time": "2021-11-14T12:54:45.214Z"
   },
   {
    "duration": 38,
    "start_time": "2021-11-14T12:54:45.237Z"
   },
   {
    "duration": 26,
    "start_time": "2021-11-14T12:54:45.278Z"
   },
   {
    "duration": 20,
    "start_time": "2021-11-14T12:54:45.307Z"
   },
   {
    "duration": 22,
    "start_time": "2021-11-14T12:54:45.330Z"
   },
   {
    "duration": 30,
    "start_time": "2021-11-14T12:54:45.356Z"
   },
   {
    "duration": 17,
    "start_time": "2021-11-14T12:54:45.389Z"
   },
   {
    "duration": 9,
    "start_time": "2021-11-14T12:54:45.408Z"
   },
   {
    "duration": 16,
    "start_time": "2021-11-14T12:54:45.420Z"
   },
   {
    "duration": 12,
    "start_time": "2021-11-14T12:54:45.439Z"
   },
   {
    "duration": 19,
    "start_time": "2021-11-14T12:54:45.454Z"
   },
   {
    "duration": 18,
    "start_time": "2021-11-14T12:54:45.475Z"
   },
   {
    "duration": 12,
    "start_time": "2021-11-14T12:54:45.495Z"
   },
   {
    "duration": 34,
    "start_time": "2021-11-14T12:54:45.510Z"
   },
   {
    "duration": 17,
    "start_time": "2021-11-14T12:54:45.546Z"
   },
   {
    "duration": 29,
    "start_time": "2021-11-14T12:54:45.568Z"
   },
   {
    "duration": 43,
    "start_time": "2021-11-14T12:54:45.599Z"
   },
   {
    "duration": 10,
    "start_time": "2021-11-14T12:54:45.646Z"
   },
   {
    "duration": 24,
    "start_time": "2021-11-14T12:54:45.666Z"
   },
   {
    "duration": 49,
    "start_time": "2021-11-14T12:54:45.692Z"
   },
   {
    "duration": 70,
    "start_time": "2021-11-14T12:54:45.743Z"
   },
   {
    "duration": 14,
    "start_time": "2021-11-14T12:54:45.815Z"
   },
   {
    "duration": 43,
    "start_time": "2021-11-14T12:54:45.832Z"
   },
   {
    "duration": 16,
    "start_time": "2021-11-14T12:54:45.878Z"
   },
   {
    "duration": 14,
    "start_time": "2021-11-14T12:54:45.896Z"
   },
   {
    "duration": 23,
    "start_time": "2021-11-14T12:54:45.913Z"
   },
   {
    "duration": 34,
    "start_time": "2021-11-14T12:54:45.965Z"
   },
   {
    "duration": 69,
    "start_time": "2021-11-14T12:54:46.001Z"
   },
   {
    "duration": 8,
    "start_time": "2021-11-14T12:54:46.074Z"
   },
   {
    "duration": 30,
    "start_time": "2021-11-14T12:54:46.085Z"
   },
   {
    "duration": 71,
    "start_time": "2021-11-14T12:54:46.117Z"
   },
   {
    "duration": 26,
    "start_time": "2021-11-14T12:54:46.191Z"
   },
   {
    "duration": 322,
    "start_time": "2021-11-14T12:54:46.220Z"
   },
   {
    "duration": 3846,
    "start_time": "2021-11-14T12:54:46.546Z"
   },
   {
    "duration": 6,
    "start_time": "2021-11-14T12:54:50.396Z"
   },
   {
    "duration": 37,
    "start_time": "2021-11-14T12:54:50.404Z"
   },
   {
    "duration": 62,
    "start_time": "2021-11-14T12:54:50.444Z"
   },
   {
    "duration": 8,
    "start_time": "2021-11-14T12:54:50.508Z"
   },
   {
    "duration": 67,
    "start_time": "2021-11-14T12:54:50.519Z"
   },
   {
    "duration": 6,
    "start_time": "2021-11-14T12:54:50.588Z"
   },
   {
    "duration": 1292,
    "start_time": "2021-11-14T12:54:50.596Z"
   },
   {
    "duration": 1240,
    "start_time": "2021-11-14T12:55:15.527Z"
   },
   {
    "duration": 990,
    "start_time": "2021-11-14T12:56:51.914Z"
   },
   {
    "duration": 948,
    "start_time": "2021-11-14T12:58:41.944Z"
   },
   {
    "duration": 934,
    "start_time": "2021-11-14T12:59:33.688Z"
   },
   {
    "duration": 1036,
    "start_time": "2021-11-14T12:59:58.066Z"
   },
   {
    "duration": 122,
    "start_time": "2021-11-14T13:01:20.436Z"
   },
   {
    "duration": 935,
    "start_time": "2021-11-14T13:01:32.178Z"
   },
   {
    "duration": 1866,
    "start_time": "2021-11-14T13:01:48.691Z"
   },
   {
    "duration": 979,
    "start_time": "2021-11-14T13:02:25.201Z"
   },
   {
    "duration": 919,
    "start_time": "2021-11-14T13:02:56.957Z"
   },
   {
    "duration": 1097,
    "start_time": "2021-11-14T13:03:14.119Z"
   },
   {
    "duration": 1103,
    "start_time": "2021-11-14T13:04:12.098Z"
   },
   {
    "duration": 941,
    "start_time": "2021-11-14T13:04:44.704Z"
   },
   {
    "duration": 1073,
    "start_time": "2021-11-14T13:04:54.335Z"
   },
   {
    "duration": 34,
    "start_time": "2021-11-14T13:07:28.552Z"
   },
   {
    "duration": 896,
    "start_time": "2021-11-14T13:07:37.192Z"
   },
   {
    "duration": 929,
    "start_time": "2021-11-14T13:07:54.831Z"
   },
   {
    "duration": 965,
    "start_time": "2021-11-14T13:09:44.702Z"
   },
   {
    "duration": 966,
    "start_time": "2021-11-14T13:10:02.376Z"
   },
   {
    "duration": 962,
    "start_time": "2021-11-14T13:10:50.257Z"
   },
   {
    "duration": 1002,
    "start_time": "2021-11-14T13:11:40.307Z"
   },
   {
    "duration": 1038,
    "start_time": "2021-11-14T13:12:11.183Z"
   },
   {
    "duration": 933,
    "start_time": "2021-11-14T13:13:12.595Z"
   },
   {
    "duration": 948,
    "start_time": "2021-11-14T13:13:22.633Z"
   },
   {
    "duration": 1114,
    "start_time": "2021-11-14T13:16:20.845Z"
   },
   {
    "duration": 963,
    "start_time": "2021-11-14T13:17:52.032Z"
   },
   {
    "duration": 956,
    "start_time": "2021-11-14T13:19:06.840Z"
   },
   {
    "duration": 957,
    "start_time": "2021-11-14T13:19:14.968Z"
   },
   {
    "duration": 1013,
    "start_time": "2021-11-14T13:19:42.199Z"
   },
   {
    "duration": 1048,
    "start_time": "2021-11-14T13:20:09.343Z"
   },
   {
    "duration": 946,
    "start_time": "2021-11-14T13:20:24.810Z"
   },
   {
    "duration": 958,
    "start_time": "2021-11-14T13:21:05.144Z"
   },
   {
    "duration": 937,
    "start_time": "2021-11-14T13:21:18.468Z"
   },
   {
    "duration": 917,
    "start_time": "2021-11-14T13:21:42.616Z"
   },
   {
    "duration": 948,
    "start_time": "2021-11-14T13:21:52.847Z"
   },
   {
    "duration": 1129,
    "start_time": "2021-11-14T13:22:19.530Z"
   },
   {
    "duration": 933,
    "start_time": "2021-11-14T13:26:04.609Z"
   },
   {
    "duration": 968,
    "start_time": "2021-11-14T13:26:29.237Z"
   },
   {
    "duration": 1041,
    "start_time": "2021-11-14T13:27:57.522Z"
   },
   {
    "duration": 965,
    "start_time": "2021-11-14T13:29:20.542Z"
   },
   {
    "duration": 997,
    "start_time": "2021-11-14T13:29:50.854Z"
   },
   {
    "duration": 945,
    "start_time": "2021-11-14T13:30:14.052Z"
   },
   {
    "duration": 1152,
    "start_time": "2021-11-14T13:30:27.935Z"
   },
   {
    "duration": 944,
    "start_time": "2021-11-14T13:38:30.609Z"
   },
   {
    "duration": 945,
    "start_time": "2021-11-14T13:38:55.332Z"
   },
   {
    "duration": 931,
    "start_time": "2021-11-14T13:39:08.878Z"
   },
   {
    "duration": 925,
    "start_time": "2021-11-14T13:39:34.901Z"
   },
   {
    "duration": 972,
    "start_time": "2021-11-14T13:40:26.265Z"
   },
   {
    "duration": 958,
    "start_time": "2021-11-14T13:41:02.891Z"
   },
   {
    "duration": 954,
    "start_time": "2021-11-14T13:41:36.236Z"
   },
   {
    "duration": 955,
    "start_time": "2021-11-14T13:41:45.544Z"
   },
   {
    "duration": 943,
    "start_time": "2021-11-14T13:43:33.039Z"
   },
   {
    "duration": 938,
    "start_time": "2021-11-14T13:44:42.976Z"
   },
   {
    "duration": 939,
    "start_time": "2021-11-14T13:45:40.804Z"
   },
   {
    "duration": 987,
    "start_time": "2021-11-14T13:45:59.444Z"
   },
   {
    "duration": 963,
    "start_time": "2021-11-14T13:46:22.843Z"
   },
   {
    "duration": 942,
    "start_time": "2021-11-14T13:46:48.163Z"
   },
   {
    "duration": 958,
    "start_time": "2021-11-14T13:47:36.244Z"
   },
   {
    "duration": 979,
    "start_time": "2021-11-14T13:48:00.801Z"
   },
   {
    "duration": 955,
    "start_time": "2021-11-14T13:48:18.985Z"
   },
   {
    "duration": 959,
    "start_time": "2021-11-14T13:49:14.117Z"
   },
   {
    "duration": 943,
    "start_time": "2021-11-14T13:49:25.292Z"
   },
   {
    "duration": 4396,
    "start_time": "2021-11-14T13:52:14.968Z"
   },
   {
    "duration": 4430,
    "start_time": "2021-11-14T13:52:29.745Z"
   },
   {
    "duration": 4269,
    "start_time": "2021-11-14T13:53:18.650Z"
   },
   {
    "duration": 4552,
    "start_time": "2021-11-14T13:53:43.878Z"
   },
   {
    "duration": 841,
    "start_time": "2021-11-15T06:46:50.066Z"
   },
   {
    "duration": 17,
    "start_time": "2021-11-15T06:46:50.910Z"
   },
   {
    "duration": 10,
    "start_time": "2021-11-15T06:46:50.930Z"
   },
   {
    "duration": 7,
    "start_time": "2021-11-15T06:46:50.943Z"
   },
   {
    "duration": 7,
    "start_time": "2021-11-15T06:46:50.952Z"
   },
   {
    "duration": 15,
    "start_time": "2021-11-15T06:46:50.961Z"
   },
   {
    "duration": 44,
    "start_time": "2021-11-15T06:46:50.978Z"
   },
   {
    "duration": 4,
    "start_time": "2021-11-15T06:46:51.026Z"
   },
   {
    "duration": 10,
    "start_time": "2021-11-15T06:46:51.032Z"
   },
   {
    "duration": 3,
    "start_time": "2021-11-15T06:46:51.044Z"
   },
   {
    "duration": 20,
    "start_time": "2021-11-15T06:46:51.050Z"
   },
   {
    "duration": 6,
    "start_time": "2021-11-15T06:46:51.072Z"
   },
   {
    "duration": 42,
    "start_time": "2021-11-15T06:46:51.080Z"
   },
   {
    "duration": 7,
    "start_time": "2021-11-15T06:46:51.125Z"
   },
   {
    "duration": 11,
    "start_time": "2021-11-15T06:46:51.135Z"
   },
   {
    "duration": 27,
    "start_time": "2021-11-15T06:46:51.149Z"
   },
   {
    "duration": 3,
    "start_time": "2021-11-15T06:46:51.178Z"
   },
   {
    "duration": 48,
    "start_time": "2021-11-15T06:46:51.183Z"
   },
   {
    "duration": 24,
    "start_time": "2021-11-15T06:46:51.233Z"
   },
   {
    "duration": 12,
    "start_time": "2021-11-15T06:46:51.259Z"
   },
   {
    "duration": 10,
    "start_time": "2021-11-15T06:46:51.273Z"
   },
   {
    "duration": 57,
    "start_time": "2021-11-15T06:46:51.322Z"
   },
   {
    "duration": 82,
    "start_time": "2021-11-15T06:46:51.384Z"
   },
   {
    "duration": 13,
    "start_time": "2021-11-15T06:46:51.469Z"
   },
   {
    "duration": 44,
    "start_time": "2021-11-15T06:46:51.485Z"
   },
   {
    "duration": 16,
    "start_time": "2021-11-15T06:46:51.531Z"
   },
   {
    "duration": 17,
    "start_time": "2021-11-15T06:46:51.549Z"
   },
   {
    "duration": 16,
    "start_time": "2021-11-15T06:46:51.568Z"
   },
   {
    "duration": 57,
    "start_time": "2021-11-15T06:46:51.587Z"
   },
   {
    "duration": 44,
    "start_time": "2021-11-15T06:46:51.646Z"
   },
   {
    "duration": 29,
    "start_time": "2021-11-15T06:46:51.693Z"
   },
   {
    "duration": 26,
    "start_time": "2021-11-15T06:46:51.725Z"
   },
   {
    "duration": 45,
    "start_time": "2021-11-15T06:46:51.753Z"
   },
   {
    "duration": 45,
    "start_time": "2021-11-15T06:46:51.800Z"
   },
   {
    "duration": 261,
    "start_time": "2021-11-15T06:46:51.847Z"
   },
   {
    "duration": 3420,
    "start_time": "2021-11-15T06:46:52.110Z"
   },
   {
    "duration": 16,
    "start_time": "2021-11-15T06:46:55.533Z"
   },
   {
    "duration": 7,
    "start_time": "2021-11-15T06:46:55.551Z"
   },
   {
    "duration": 25,
    "start_time": "2021-11-15T06:46:55.560Z"
   },
   {
    "duration": 67,
    "start_time": "2021-11-15T06:46:55.588Z"
   },
   {
    "duration": 11,
    "start_time": "2021-11-15T06:46:55.658Z"
   },
   {
    "duration": 57,
    "start_time": "2021-11-15T06:46:55.671Z"
   },
   {
    "duration": 6,
    "start_time": "2021-11-15T06:46:55.731Z"
   },
   {
    "duration": 1085,
    "start_time": "2021-11-15T06:46:55.740Z"
   },
   {
    "duration": 4259,
    "start_time": "2021-11-15T06:46:56.827Z"
   },
   {
    "duration": 496,
    "start_time": "2021-11-15T07:39:12.276Z"
   },
   {
    "duration": 317,
    "start_time": "2021-11-15T07:39:45.496Z"
   },
   {
    "duration": 319,
    "start_time": "2021-11-15T07:40:06.267Z"
   },
   {
    "duration": 328,
    "start_time": "2021-11-15T07:40:24.075Z"
   },
   {
    "duration": 16,
    "start_time": "2021-11-15T07:50:08.915Z"
   },
   {
    "duration": 96,
    "start_time": "2021-11-15T07:50:33.445Z"
   },
   {
    "duration": 13,
    "start_time": "2021-11-15T07:52:01.930Z"
   },
   {
    "duration": 14,
    "start_time": "2021-11-15T07:53:43.014Z"
   },
   {
    "duration": 12,
    "start_time": "2021-11-15T07:54:18.873Z"
   },
   {
    "duration": 14,
    "start_time": "2021-11-15T07:54:54.276Z"
   },
   {
    "duration": 22,
    "start_time": "2021-11-15T07:56:43.887Z"
   },
   {
    "duration": 22,
    "start_time": "2021-11-15T07:56:56.963Z"
   },
   {
    "duration": 23,
    "start_time": "2021-11-15T08:01:41.304Z"
   },
   {
    "duration": 32,
    "start_time": "2021-11-15T08:04:19.765Z"
   },
   {
    "duration": 8060,
    "start_time": "2021-11-15T08:05:09.066Z"
   },
   {
    "duration": 325,
    "start_time": "2021-11-15T08:05:31.266Z"
   },
   {
    "duration": 324,
    "start_time": "2021-11-15T08:06:48.998Z"
   },
   {
    "duration": 25,
    "start_time": "2021-11-15T08:06:59.027Z"
   },
   {
    "duration": 21,
    "start_time": "2021-11-15T08:07:31.050Z"
   },
   {
    "duration": 20,
    "start_time": "2021-11-15T08:08:33.739Z"
   },
   {
    "duration": 21,
    "start_time": "2021-11-15T08:12:06.586Z"
   },
   {
    "duration": 13,
    "start_time": "2021-11-15T09:29:29.894Z"
   },
   {
    "duration": 290,
    "start_time": "2021-11-15T09:29:48.400Z"
   },
   {
    "duration": 22,
    "start_time": "2021-11-15T09:30:12.251Z"
   },
   {
    "duration": 22,
    "start_time": "2021-11-15T09:30:44.337Z"
   },
   {
    "duration": 21,
    "start_time": "2021-11-15T09:30:50.892Z"
   },
   {
    "duration": 20,
    "start_time": "2021-11-15T09:30:51.846Z"
   },
   {
    "duration": 20,
    "start_time": "2021-11-15T09:30:52.597Z"
   },
   {
    "duration": 21,
    "start_time": "2021-11-15T09:32:15.060Z"
   },
   {
    "duration": 20,
    "start_time": "2021-11-15T09:32:17.745Z"
   },
   {
    "duration": 20,
    "start_time": "2021-11-15T09:32:22.496Z"
   },
   {
    "duration": 21,
    "start_time": "2021-11-15T09:32:30.742Z"
   },
   {
    "duration": 21,
    "start_time": "2021-11-15T09:33:33.019Z"
   },
   {
    "duration": 32,
    "start_time": "2021-11-15T09:46:40.257Z"
   },
   {
    "duration": 21,
    "start_time": "2021-11-15T09:47:15.324Z"
   },
   {
    "duration": 24,
    "start_time": "2021-11-15T09:59:09.985Z"
   },
   {
    "duration": 688,
    "start_time": "2021-11-15T10:48:36.181Z"
   },
   {
    "duration": 11,
    "start_time": "2021-11-15T10:48:36.871Z"
   },
   {
    "duration": 7,
    "start_time": "2021-11-15T10:48:36.884Z"
   },
   {
    "duration": 5,
    "start_time": "2021-11-15T10:48:36.893Z"
   },
   {
    "duration": 8,
    "start_time": "2021-11-15T10:48:36.899Z"
   },
   {
    "duration": 11,
    "start_time": "2021-11-15T10:48:36.908Z"
   },
   {
    "duration": 11,
    "start_time": "2021-11-15T10:48:36.921Z"
   },
   {
    "duration": 3,
    "start_time": "2021-11-15T10:48:36.934Z"
   },
   {
    "duration": 7,
    "start_time": "2021-11-15T10:48:36.939Z"
   },
   {
    "duration": 4,
    "start_time": "2021-11-15T10:48:36.947Z"
   },
   {
    "duration": 11,
    "start_time": "2021-11-15T10:48:36.953Z"
   },
   {
    "duration": 3,
    "start_time": "2021-11-15T10:48:36.966Z"
   },
   {
    "duration": 5,
    "start_time": "2021-11-15T10:48:36.970Z"
   },
   {
    "duration": 13,
    "start_time": "2021-11-15T10:48:36.976Z"
   },
   {
    "duration": 19,
    "start_time": "2021-11-15T10:48:36.991Z"
   },
   {
    "duration": 19,
    "start_time": "2021-11-15T10:48:37.011Z"
   },
   {
    "duration": 2,
    "start_time": "2021-11-15T10:48:37.031Z"
   },
   {
    "duration": 16,
    "start_time": "2021-11-15T10:48:37.035Z"
   },
   {
    "duration": 23,
    "start_time": "2021-11-15T10:48:37.052Z"
   },
   {
    "duration": 8,
    "start_time": "2021-11-15T10:48:37.077Z"
   },
   {
    "duration": 25,
    "start_time": "2021-11-15T10:48:37.086Z"
   },
   {
    "duration": 32,
    "start_time": "2021-11-15T10:48:37.113Z"
   },
   {
    "duration": 30,
    "start_time": "2021-11-15T10:48:37.148Z"
   },
   {
    "duration": 34,
    "start_time": "2021-11-15T10:48:37.180Z"
   },
   {
    "duration": 10,
    "start_time": "2021-11-15T10:48:37.215Z"
   },
   {
    "duration": 11,
    "start_time": "2021-11-15T10:48:37.227Z"
   },
   {
    "duration": 11,
    "start_time": "2021-11-15T10:48:37.240Z"
   },
   {
    "duration": 11,
    "start_time": "2021-11-15T10:48:37.253Z"
   },
   {
    "duration": 50,
    "start_time": "2021-11-15T10:48:37.266Z"
   },
   {
    "duration": 28,
    "start_time": "2021-11-15T10:48:37.317Z"
   },
   {
    "duration": 5,
    "start_time": "2021-11-15T10:48:37.347Z"
   },
   {
    "duration": 17,
    "start_time": "2021-11-15T10:48:37.354Z"
   },
   {
    "duration": 50,
    "start_time": "2021-11-15T10:48:37.373Z"
   },
   {
    "duration": 19,
    "start_time": "2021-11-15T10:48:37.425Z"
   },
   {
    "duration": 140,
    "start_time": "2021-11-15T10:48:37.446Z"
   },
   {
    "duration": 2267,
    "start_time": "2021-11-15T10:48:37.588Z"
   },
   {
    "duration": 9,
    "start_time": "2021-11-15T10:48:39.857Z"
   },
   {
    "duration": 7,
    "start_time": "2021-11-15T10:48:39.868Z"
   },
   {
    "duration": 30,
    "start_time": "2021-11-15T10:48:39.877Z"
   },
   {
    "duration": 28,
    "start_time": "2021-11-15T10:48:39.909Z"
   },
   {
    "duration": 7,
    "start_time": "2021-11-15T10:48:39.939Z"
   },
   {
    "duration": 28,
    "start_time": "2021-11-15T10:48:39.948Z"
   },
   {
    "duration": 635,
    "start_time": "2021-11-15T10:48:39.977Z"
   },
   {
    "duration": 2933,
    "start_time": "2021-11-15T10:48:40.613Z"
   },
   {
    "duration": 23,
    "start_time": "2021-11-15T10:48:43.547Z"
   },
   {
    "duration": 13,
    "start_time": "2021-11-15T10:48:43.572Z"
   },
   {
    "duration": 25,
    "start_time": "2021-11-15T10:48:43.586Z"
   },
   {
    "duration": 12,
    "start_time": "2021-11-15T10:48:43.613Z"
   },
   {
    "duration": 15,
    "start_time": "2021-11-15T10:48:43.626Z"
   },
   {
    "duration": 14,
    "start_time": "2021-11-15T10:49:41.965Z"
   },
   {
    "duration": 14,
    "start_time": "2021-11-15T10:50:33.998Z"
   },
   {
    "duration": 17,
    "start_time": "2021-11-15T10:51:53.546Z"
   },
   {
    "duration": 7,
    "start_time": "2021-11-15T11:29:16.809Z"
   },
   {
    "duration": 70,
    "start_time": "2021-11-15T11:29:27.975Z"
   },
   {
    "duration": 11,
    "start_time": "2021-11-15T11:29:28.047Z"
   },
   {
    "duration": 5,
    "start_time": "2021-11-15T11:29:28.061Z"
   },
   {
    "duration": 39,
    "start_time": "2021-11-15T11:29:28.068Z"
   },
   {
    "duration": 2,
    "start_time": "2021-11-15T11:29:28.109Z"
   },
   {
    "duration": 8,
    "start_time": "2021-11-15T11:29:28.112Z"
   },
   {
    "duration": 5,
    "start_time": "2021-11-15T11:29:28.122Z"
   },
   {
    "duration": 4,
    "start_time": "2021-11-15T11:29:28.129Z"
   },
   {
    "duration": 6,
    "start_time": "2021-11-15T11:29:28.136Z"
   },
   {
    "duration": 2,
    "start_time": "2021-11-15T11:29:28.145Z"
   },
   {
    "duration": 59,
    "start_time": "2021-11-15T11:29:28.149Z"
   },
   {
    "duration": 4,
    "start_time": "2021-11-15T11:29:28.210Z"
   },
   {
    "duration": 6,
    "start_time": "2021-11-15T11:29:28.216Z"
   },
   {
    "duration": 11,
    "start_time": "2021-11-15T11:29:28.224Z"
   },
   {
    "duration": 10,
    "start_time": "2021-11-15T11:29:28.237Z"
   },
   {
    "duration": 19,
    "start_time": "2021-11-15T11:29:28.249Z"
   },
   {
    "duration": 3,
    "start_time": "2021-11-15T11:29:28.270Z"
   },
   {
    "duration": 39,
    "start_time": "2021-11-15T11:29:28.276Z"
   },
   {
    "duration": 17,
    "start_time": "2021-11-15T11:29:28.318Z"
   },
   {
    "duration": 10,
    "start_time": "2021-11-15T11:29:28.337Z"
   },
   {
    "duration": 8,
    "start_time": "2021-11-15T11:29:28.349Z"
   },
   {
    "duration": 76,
    "start_time": "2021-11-15T11:29:28.359Z"
   },
   {
    "duration": 43,
    "start_time": "2021-11-15T11:29:28.437Z"
   },
   {
    "duration": 28,
    "start_time": "2021-11-15T11:29:28.482Z"
   },
   {
    "duration": 10,
    "start_time": "2021-11-15T11:29:28.512Z"
   },
   {
    "duration": 12,
    "start_time": "2021-11-15T11:29:28.524Z"
   },
   {
    "duration": 12,
    "start_time": "2021-11-15T11:29:28.538Z"
   },
   {
    "duration": 54,
    "start_time": "2021-11-15T11:29:28.552Z"
   },
   {
    "duration": 16,
    "start_time": "2021-11-15T11:29:28.609Z"
   },
   {
    "duration": 32,
    "start_time": "2021-11-15T11:29:28.626Z"
   },
   {
    "duration": 5,
    "start_time": "2021-11-15T11:29:28.659Z"
   },
   {
    "duration": 46,
    "start_time": "2021-11-15T11:29:28.666Z"
   },
   {
    "duration": 35,
    "start_time": "2021-11-15T11:29:28.714Z"
   },
   {
    "duration": 17,
    "start_time": "2021-11-15T11:29:28.750Z"
   },
   {
    "duration": 177,
    "start_time": "2021-11-15T11:29:28.770Z"
   },
   {
    "duration": 3179,
    "start_time": "2021-11-15T11:29:28.950Z"
   },
   {
    "duration": 15,
    "start_time": "2021-11-15T11:29:32.131Z"
   },
   {
    "duration": 13,
    "start_time": "2021-11-15T11:29:32.148Z"
   },
   {
    "duration": 12,
    "start_time": "2021-11-15T11:29:32.208Z"
   },
   {
    "duration": 85,
    "start_time": "2021-11-15T11:29:32.223Z"
   },
   {
    "duration": 6,
    "start_time": "2021-11-15T11:29:32.310Z"
   },
   {
    "duration": 27,
    "start_time": "2021-11-15T11:29:32.318Z"
   },
   {
    "duration": 918,
    "start_time": "2021-11-15T11:29:32.350Z"
   },
   {
    "duration": 3572,
    "start_time": "2021-11-15T11:29:33.271Z"
   },
   {
    "duration": 24,
    "start_time": "2021-11-15T11:29:36.845Z"
   },
   {
    "duration": 40,
    "start_time": "2021-11-15T11:29:36.871Z"
   },
   {
    "duration": 17,
    "start_time": "2021-11-15T11:29:36.913Z"
   },
   {
    "duration": 22,
    "start_time": "2021-11-15T11:29:36.931Z"
   },
   {
    "duration": 7,
    "start_time": "2021-11-15T11:30:18.072Z"
   },
   {
    "duration": 10,
    "start_time": "2021-11-15T12:33:11.451Z"
   },
   {
    "duration": 10,
    "start_time": "2021-11-15T12:33:14.364Z"
   },
   {
    "duration": 13,
    "start_time": "2021-11-15T12:33:50.111Z"
   },
   {
    "duration": 67,
    "start_time": "2021-11-15T12:41:57.179Z"
   },
   {
    "duration": 14,
    "start_time": "2021-11-15T12:41:57.248Z"
   },
   {
    "duration": 9,
    "start_time": "2021-11-15T12:41:57.265Z"
   },
   {
    "duration": 36,
    "start_time": "2021-11-15T12:41:57.276Z"
   },
   {
    "duration": 17,
    "start_time": "2021-11-15T12:41:57.314Z"
   },
   {
    "duration": 8,
    "start_time": "2021-11-15T12:41:57.333Z"
   },
   {
    "duration": 15,
    "start_time": "2021-11-15T12:41:57.344Z"
   },
   {
    "duration": 18,
    "start_time": "2021-11-15T12:41:57.362Z"
   },
   {
    "duration": 7,
    "start_time": "2021-11-15T12:41:57.382Z"
   },
   {
    "duration": 18,
    "start_time": "2021-11-15T12:41:57.391Z"
   },
   {
    "duration": 5,
    "start_time": "2021-11-15T12:41:57.410Z"
   },
   {
    "duration": 10,
    "start_time": "2021-11-15T12:41:57.417Z"
   },
   {
    "duration": 18,
    "start_time": "2021-11-15T12:41:57.429Z"
   },
   {
    "duration": 10,
    "start_time": "2021-11-15T12:41:57.449Z"
   },
   {
    "duration": 8,
    "start_time": "2021-11-15T12:41:57.461Z"
   },
   {
    "duration": 45,
    "start_time": "2021-11-15T12:41:57.523Z"
   },
   {
    "duration": 51,
    "start_time": "2021-11-15T12:41:57.570Z"
   },
   {
    "duration": 9,
    "start_time": "2021-11-15T12:41:57.623Z"
   },
   {
    "duration": 20,
    "start_time": "2021-11-15T12:41:57.633Z"
   },
   {
    "duration": 11,
    "start_time": "2021-11-15T12:41:57.655Z"
   },
   {
    "duration": 13,
    "start_time": "2021-11-15T12:41:57.667Z"
   },
   {
    "duration": 28,
    "start_time": "2021-11-15T12:41:57.683Z"
   },
   {
    "duration": 16,
    "start_time": "2021-11-15T12:41:57.715Z"
   },
   {
    "duration": 31,
    "start_time": "2021-11-15T12:41:57.733Z"
   },
   {
    "duration": 5,
    "start_time": "2021-11-15T12:41:57.765Z"
   },
   {
    "duration": 45,
    "start_time": "2021-11-15T12:41:57.772Z"
   },
   {
    "duration": 29,
    "start_time": "2021-11-15T12:41:57.819Z"
   },
   {
    "duration": 17,
    "start_time": "2021-11-15T12:41:57.850Z"
   },
   {
    "duration": 177,
    "start_time": "2021-11-15T12:41:57.869Z"
   },
   {
    "duration": 2393,
    "start_time": "2021-11-15T12:41:58.048Z"
   },
   {
    "duration": 11,
    "start_time": "2021-11-15T12:42:00.443Z"
   },
   {
    "duration": 13,
    "start_time": "2021-11-15T12:42:00.456Z"
   },
   {
    "duration": 45,
    "start_time": "2021-11-15T12:42:00.470Z"
   },
   {
    "duration": 30,
    "start_time": "2021-11-15T12:42:00.516Z"
   },
   {
    "duration": 15,
    "start_time": "2021-11-15T12:42:00.548Z"
   },
   {
    "duration": 42,
    "start_time": "2021-11-15T12:42:00.565Z"
   },
   {
    "duration": 58,
    "start_time": "2021-11-15T12:42:00.609Z"
   },
   {
    "duration": 3464,
    "start_time": "2021-11-15T12:42:00.669Z"
   },
   {
    "duration": 19,
    "start_time": "2021-11-15T12:42:04.135Z"
   },
   {
    "duration": 15,
    "start_time": "2021-11-15T12:42:04.156Z"
   },
   {
    "duration": 35,
    "start_time": "2021-11-15T12:42:04.173Z"
   },
   {
    "duration": 16,
    "start_time": "2021-11-15T12:42:04.210Z"
   },
   {
    "duration": 66,
    "start_time": "2021-11-15T12:43:04.188Z"
   },
   {
    "duration": 13,
    "start_time": "2021-11-15T12:43:16.005Z"
   },
   {
    "duration": 7,
    "start_time": "2021-11-15T12:43:29.771Z"
   },
   {
    "duration": 7,
    "start_time": "2021-11-15T12:43:52.235Z"
   },
   {
    "duration": 5,
    "start_time": "2021-11-15T12:44:08.144Z"
   },
   {
    "duration": 60,
    "start_time": "2021-11-15T12:45:46.381Z"
   },
   {
    "duration": 11,
    "start_time": "2021-11-15T12:45:46.443Z"
   },
   {
    "duration": 13,
    "start_time": "2021-11-15T12:45:46.456Z"
   },
   {
    "duration": 35,
    "start_time": "2021-11-15T12:45:46.471Z"
   },
   {
    "duration": 5,
    "start_time": "2021-11-15T12:45:46.509Z"
   },
   {
    "duration": 9,
    "start_time": "2021-11-15T12:45:46.516Z"
   },
   {
    "duration": 8,
    "start_time": "2021-11-15T12:45:46.527Z"
   },
   {
    "duration": 13,
    "start_time": "2021-11-15T12:45:46.539Z"
   },
   {
    "duration": 10,
    "start_time": "2021-11-15T12:45:46.555Z"
   },
   {
    "duration": 24,
    "start_time": "2021-11-15T12:45:46.566Z"
   },
   {
    "duration": 23,
    "start_time": "2021-11-15T12:45:46.592Z"
   },
   {
    "duration": 17,
    "start_time": "2021-11-15T12:45:46.617Z"
   },
   {
    "duration": 18,
    "start_time": "2021-11-15T12:45:46.636Z"
   },
   {
    "duration": 8,
    "start_time": "2021-11-15T12:45:46.656Z"
   },
   {
    "duration": 12,
    "start_time": "2021-11-15T12:45:46.667Z"
   },
   {
    "duration": 54,
    "start_time": "2021-11-15T12:45:46.681Z"
   },
   {
    "duration": 34,
    "start_time": "2021-11-15T12:45:46.738Z"
   },
   {
    "duration": 35,
    "start_time": "2021-11-15T12:45:46.774Z"
   },
   {
    "duration": 9,
    "start_time": "2021-11-15T12:45:46.811Z"
   },
   {
    "duration": 11,
    "start_time": "2021-11-15T12:45:46.822Z"
   },
   {
    "duration": 12,
    "start_time": "2021-11-15T12:45:46.835Z"
   },
   {
    "duration": 20,
    "start_time": "2021-11-15T12:45:46.849Z"
   },
   {
    "duration": 43,
    "start_time": "2021-11-15T12:45:46.873Z"
   },
   {
    "duration": 29,
    "start_time": "2021-11-15T12:45:46.918Z"
   },
   {
    "duration": 5,
    "start_time": "2021-11-15T12:45:46.948Z"
   },
   {
    "duration": 21,
    "start_time": "2021-11-15T12:45:46.954Z"
   },
   {
    "duration": 39,
    "start_time": "2021-11-15T12:45:46.977Z"
   },
   {
    "duration": 18,
    "start_time": "2021-11-15T12:45:47.017Z"
   },
   {
    "duration": 149,
    "start_time": "2021-11-15T12:45:47.036Z"
   },
   {
    "duration": 2424,
    "start_time": "2021-11-15T12:45:47.187Z"
   },
   {
    "duration": 9,
    "start_time": "2021-11-15T12:45:49.613Z"
   },
   {
    "duration": 8,
    "start_time": "2021-11-15T12:45:49.623Z"
   },
   {
    "duration": 17,
    "start_time": "2021-11-15T12:45:49.633Z"
   },
   {
    "duration": 28,
    "start_time": "2021-11-15T12:45:49.652Z"
   },
   {
    "duration": 26,
    "start_time": "2021-11-15T12:45:49.682Z"
   },
   {
    "duration": 23,
    "start_time": "2021-11-15T12:45:49.711Z"
   },
   {
    "duration": 78,
    "start_time": "2021-11-15T12:45:49.737Z"
   },
   {
    "duration": 3039,
    "start_time": "2021-11-15T12:45:49.817Z"
   },
   {
    "duration": 18,
    "start_time": "2021-11-15T12:45:52.858Z"
   },
   {
    "duration": 31,
    "start_time": "2021-11-15T12:45:52.878Z"
   },
   {
    "duration": 14,
    "start_time": "2021-11-15T12:45:52.911Z"
   },
   {
    "duration": 18,
    "start_time": "2021-11-15T12:45:52.926Z"
   },
   {
    "duration": 24,
    "start_time": "2021-11-15T12:52:47.490Z"
   },
   {
    "duration": 7,
    "start_time": "2021-11-15T12:52:58.721Z"
   },
   {
    "duration": 7,
    "start_time": "2021-11-15T12:53:14.864Z"
   },
   {
    "duration": 7,
    "start_time": "2021-11-15T12:53:40.108Z"
   },
   {
    "duration": 59,
    "start_time": "2021-11-15T12:53:50.900Z"
   },
   {
    "duration": 10,
    "start_time": "2021-11-15T12:53:50.961Z"
   },
   {
    "duration": 9,
    "start_time": "2021-11-15T12:53:50.973Z"
   },
   {
    "duration": 5,
    "start_time": "2021-11-15T12:53:51.006Z"
   },
   {
    "duration": 15,
    "start_time": "2021-11-15T12:53:51.013Z"
   },
   {
    "duration": 11,
    "start_time": "2021-11-15T12:53:51.029Z"
   },
   {
    "duration": 10,
    "start_time": "2021-11-15T12:53:51.042Z"
   },
   {
    "duration": 13,
    "start_time": "2021-11-15T12:53:51.054Z"
   },
   {
    "duration": 7,
    "start_time": "2021-11-15T12:53:51.070Z"
   },
   {
    "duration": 29,
    "start_time": "2021-11-15T12:53:51.078Z"
   },
   {
    "duration": 5,
    "start_time": "2021-11-15T12:53:51.109Z"
   },
   {
    "duration": 17,
    "start_time": "2021-11-15T12:53:51.116Z"
   },
   {
    "duration": 18,
    "start_time": "2021-11-15T12:53:51.134Z"
   },
   {
    "duration": 14,
    "start_time": "2021-11-15T12:53:51.154Z"
   },
   {
    "duration": 12,
    "start_time": "2021-11-15T12:53:51.170Z"
   },
   {
    "duration": 58,
    "start_time": "2021-11-15T12:53:51.183Z"
   },
   {
    "duration": 33,
    "start_time": "2021-11-15T12:53:51.242Z"
   },
   {
    "duration": 35,
    "start_time": "2021-11-15T12:53:51.277Z"
   },
   {
    "duration": 8,
    "start_time": "2021-11-15T12:53:51.314Z"
   },
   {
    "duration": 27,
    "start_time": "2021-11-15T12:53:51.323Z"
   },
   {
    "duration": 14,
    "start_time": "2021-11-15T12:53:51.351Z"
   },
   {
    "duration": 18,
    "start_time": "2021-11-15T12:53:51.366Z"
   },
   {
    "duration": 26,
    "start_time": "2021-11-15T12:53:51.388Z"
   },
   {
    "duration": 30,
    "start_time": "2021-11-15T12:53:51.416Z"
   },
   {
    "duration": 5,
    "start_time": "2021-11-15T12:53:51.447Z"
   },
   {
    "duration": 34,
    "start_time": "2021-11-15T12:53:51.453Z"
   },
   {
    "duration": 37,
    "start_time": "2021-11-15T12:53:51.488Z"
   },
   {
    "duration": 17,
    "start_time": "2021-11-15T12:53:51.527Z"
   },
   {
    "duration": 154,
    "start_time": "2021-11-15T12:53:51.546Z"
   },
   {
    "duration": 2562,
    "start_time": "2021-11-15T12:53:51.702Z"
   },
   {
    "duration": 11,
    "start_time": "2021-11-15T12:53:54.266Z"
   },
   {
    "duration": 16,
    "start_time": "2021-11-15T12:53:54.279Z"
   },
   {
    "duration": 24,
    "start_time": "2021-11-15T12:53:54.297Z"
   },
   {
    "duration": 33,
    "start_time": "2021-11-15T12:53:54.323Z"
   },
   {
    "duration": 8,
    "start_time": "2021-11-15T12:53:54.359Z"
   },
   {
    "duration": 28,
    "start_time": "2021-11-15T12:53:54.369Z"
   },
   {
    "duration": 61,
    "start_time": "2021-11-15T12:53:54.407Z"
   },
   {
    "duration": 3048,
    "start_time": "2021-11-15T12:53:54.470Z"
   },
   {
    "duration": 23,
    "start_time": "2021-11-15T12:53:57.519Z"
   },
   {
    "duration": 24,
    "start_time": "2021-11-15T12:53:57.543Z"
   },
   {
    "duration": 38,
    "start_time": "2021-11-15T12:53:57.569Z"
   },
   {
    "duration": 16,
    "start_time": "2021-11-15T12:53:57.608Z"
   },
   {
    "duration": 65,
    "start_time": "2021-11-15T12:54:32.955Z"
   },
   {
    "duration": 10,
    "start_time": "2021-11-15T12:54:33.022Z"
   },
   {
    "duration": 23,
    "start_time": "2021-11-15T12:54:33.035Z"
   },
   {
    "duration": 11,
    "start_time": "2021-11-15T12:54:33.060Z"
   },
   {
    "duration": 10,
    "start_time": "2021-11-15T12:54:33.073Z"
   },
   {
    "duration": 21,
    "start_time": "2021-11-15T12:54:33.085Z"
   },
   {
    "duration": 4,
    "start_time": "2021-11-15T12:54:33.108Z"
   },
   {
    "duration": 17,
    "start_time": "2021-11-15T12:54:33.115Z"
   },
   {
    "duration": 14,
    "start_time": "2021-11-15T12:54:33.134Z"
   },
   {
    "duration": 9,
    "start_time": "2021-11-15T12:54:33.150Z"
   },
   {
    "duration": 14,
    "start_time": "2021-11-15T12:54:33.161Z"
   },
   {
    "duration": 25,
    "start_time": "2021-11-15T12:54:33.177Z"
   },
   {
    "duration": 24,
    "start_time": "2021-11-15T12:54:33.204Z"
   },
   {
    "duration": 8,
    "start_time": "2021-11-15T12:54:33.230Z"
   },
   {
    "duration": 9,
    "start_time": "2021-11-15T12:54:33.240Z"
   },
   {
    "duration": 42,
    "start_time": "2021-11-15T12:54:33.250Z"
   },
   {
    "duration": 41,
    "start_time": "2021-11-15T12:54:33.293Z"
   },
   {
    "duration": 9,
    "start_time": "2021-11-15T12:54:33.336Z"
   },
   {
    "duration": 28,
    "start_time": "2021-11-15T12:54:33.347Z"
   },
   {
    "duration": 18,
    "start_time": "2021-11-15T12:54:33.377Z"
   },
   {
    "duration": 17,
    "start_time": "2021-11-15T12:54:33.397Z"
   },
   {
    "duration": 27,
    "start_time": "2021-11-15T12:54:33.416Z"
   },
   {
    "duration": 30,
    "start_time": "2021-11-15T12:54:33.446Z"
   },
   {
    "duration": 29,
    "start_time": "2021-11-15T12:54:33.478Z"
   },
   {
    "duration": 4,
    "start_time": "2021-11-15T12:54:33.509Z"
   },
   {
    "duration": 25,
    "start_time": "2021-11-15T12:54:33.515Z"
   },
   {
    "duration": 28,
    "start_time": "2021-11-15T12:54:33.542Z"
   },
   {
    "duration": 18,
    "start_time": "2021-11-15T12:54:33.572Z"
   },
   {
    "duration": 154,
    "start_time": "2021-11-15T12:54:33.592Z"
   },
   {
    "duration": 2606,
    "start_time": "2021-11-15T12:54:33.748Z"
   },
   {
    "duration": 10,
    "start_time": "2021-11-15T12:54:36.355Z"
   },
   {
    "duration": 7,
    "start_time": "2021-11-15T12:54:36.367Z"
   },
   {
    "duration": 18,
    "start_time": "2021-11-15T12:54:36.376Z"
   },
   {
    "duration": 27,
    "start_time": "2021-11-15T12:54:36.406Z"
   },
   {
    "duration": 7,
    "start_time": "2021-11-15T12:54:36.435Z"
   },
   {
    "duration": 35,
    "start_time": "2021-11-15T12:54:36.443Z"
   },
   {
    "duration": 63,
    "start_time": "2021-11-15T12:54:36.480Z"
   },
   {
    "duration": 3004,
    "start_time": "2021-11-15T12:54:36.545Z"
   },
   {
    "duration": 18,
    "start_time": "2021-11-15T12:54:39.551Z"
   },
   {
    "duration": 35,
    "start_time": "2021-11-15T12:54:39.571Z"
   },
   {
    "duration": 16,
    "start_time": "2021-11-15T12:54:39.608Z"
   },
   {
    "duration": 16,
    "start_time": "2021-11-15T12:54:39.625Z"
   },
   {
    "duration": 62,
    "start_time": "2021-11-15T13:14:22.753Z"
   },
   {
    "duration": 11,
    "start_time": "2021-11-15T13:14:22.816Z"
   },
   {
    "duration": 11,
    "start_time": "2021-11-15T13:14:22.829Z"
   },
   {
    "duration": 8,
    "start_time": "2021-11-15T13:14:22.842Z"
   },
   {
    "duration": 8,
    "start_time": "2021-11-15T13:14:22.851Z"
   },
   {
    "duration": 10,
    "start_time": "2021-11-15T13:14:22.860Z"
   },
   {
    "duration": 35,
    "start_time": "2021-11-15T13:14:22.872Z"
   },
   {
    "duration": 8,
    "start_time": "2021-11-15T13:14:22.910Z"
   },
   {
    "duration": 7,
    "start_time": "2021-11-15T13:14:22.920Z"
   },
   {
    "duration": 11,
    "start_time": "2021-11-15T13:14:22.929Z"
   },
   {
    "duration": 10,
    "start_time": "2021-11-15T13:14:22.942Z"
   },
   {
    "duration": 17,
    "start_time": "2021-11-15T13:14:22.953Z"
   },
   {
    "duration": 45,
    "start_time": "2021-11-15T13:14:22.972Z"
   },
   {
    "duration": 9,
    "start_time": "2021-11-15T13:14:23.019Z"
   },
   {
    "duration": 12,
    "start_time": "2021-11-15T13:14:23.030Z"
   },
   {
    "duration": 67,
    "start_time": "2021-11-15T13:14:23.044Z"
   },
   {
    "duration": 35,
    "start_time": "2021-11-15T13:14:23.112Z"
   },
   {
    "duration": 8,
    "start_time": "2021-11-15T13:14:23.149Z"
   },
   {
    "duration": 13,
    "start_time": "2021-11-15T13:14:23.159Z"
   },
   {
    "duration": 35,
    "start_time": "2021-11-15T13:14:23.174Z"
   },
   {
    "duration": 11,
    "start_time": "2021-11-15T13:14:23.211Z"
   },
   {
    "duration": 16,
    "start_time": "2021-11-15T13:14:23.223Z"
   },
   {
    "duration": 35,
    "start_time": "2021-11-15T13:14:23.241Z"
   },
   {
    "duration": 34,
    "start_time": "2021-11-15T13:14:23.277Z"
   },
   {
    "duration": 5,
    "start_time": "2021-11-15T13:14:23.313Z"
   },
   {
    "duration": 27,
    "start_time": "2021-11-15T13:14:23.319Z"
   },
   {
    "duration": 39,
    "start_time": "2021-11-15T13:14:23.348Z"
   },
   {
    "duration": 36,
    "start_time": "2021-11-15T13:14:23.389Z"
   },
   {
    "duration": 151,
    "start_time": "2021-11-15T13:14:23.427Z"
   },
   {
    "duration": 2599,
    "start_time": "2021-11-15T13:14:23.582Z"
   },
   {
    "duration": 11,
    "start_time": "2021-11-15T13:14:26.183Z"
   },
   {
    "duration": 4,
    "start_time": "2021-11-15T13:14:26.207Z"
   },
   {
    "duration": 25,
    "start_time": "2021-11-15T13:14:26.213Z"
   },
   {
    "duration": 33,
    "start_time": "2021-11-15T13:14:26.240Z"
   },
   {
    "duration": 13,
    "start_time": "2021-11-15T13:14:26.275Z"
   },
   {
    "duration": 58,
    "start_time": "2021-11-15T13:14:26.290Z"
   },
   {
    "duration": 59,
    "start_time": "2021-11-15T13:14:26.349Z"
   },
   {
    "duration": 3201,
    "start_time": "2021-11-15T13:14:26.409Z"
   },
   {
    "duration": 20,
    "start_time": "2021-11-15T13:14:29.612Z"
   },
   {
    "duration": 30,
    "start_time": "2021-11-15T13:14:29.633Z"
   },
   {
    "duration": 14,
    "start_time": "2021-11-15T13:14:29.665Z"
   },
   {
    "duration": 33,
    "start_time": "2021-11-15T13:14:29.681Z"
   },
   {
    "duration": 69,
    "start_time": "2021-11-15T13:15:19.717Z"
   },
   {
    "duration": 10,
    "start_time": "2021-11-15T13:15:19.788Z"
   },
   {
    "duration": 9,
    "start_time": "2021-11-15T13:15:19.808Z"
   },
   {
    "duration": 5,
    "start_time": "2021-11-15T13:15:19.819Z"
   },
   {
    "duration": 7,
    "start_time": "2021-11-15T13:15:19.826Z"
   },
   {
    "duration": 7,
    "start_time": "2021-11-15T13:15:19.835Z"
   },
   {
    "duration": 7,
    "start_time": "2021-11-15T13:15:19.844Z"
   },
   {
    "duration": 8,
    "start_time": "2021-11-15T13:15:19.853Z"
   },
   {
    "duration": 4,
    "start_time": "2021-11-15T13:15:19.907Z"
   },
   {
    "duration": 9,
    "start_time": "2021-11-15T13:15:19.913Z"
   },
   {
    "duration": 8,
    "start_time": "2021-11-15T13:15:19.923Z"
   },
   {
    "duration": 13,
    "start_time": "2021-11-15T13:15:19.932Z"
   },
   {
    "duration": 23,
    "start_time": "2021-11-15T13:15:19.947Z"
   },
   {
    "duration": 9,
    "start_time": "2021-11-15T13:15:19.971Z"
   },
   {
    "duration": 8,
    "start_time": "2021-11-15T13:15:20.007Z"
   },
   {
    "duration": 47,
    "start_time": "2021-11-15T13:15:20.017Z"
   },
   {
    "duration": 58,
    "start_time": "2021-11-15T13:15:20.066Z"
   },
   {
    "duration": 23,
    "start_time": "2021-11-15T13:15:20.125Z"
   },
   {
    "duration": 71,
    "start_time": "2021-11-15T13:15:20.150Z"
   },
   {
    "duration": 168,
    "start_time": "2021-11-15T13:15:20.223Z"
   },
   {
    "duration": 58,
    "start_time": "2021-11-15T13:15:20.393Z"
   },
   {
    "duration": 25,
    "start_time": "2021-11-15T13:15:20.453Z"
   },
   {
    "duration": 27,
    "start_time": "2021-11-15T13:15:20.482Z"
   },
   {
    "duration": 33,
    "start_time": "2021-11-15T13:15:20.512Z"
   },
   {
    "duration": 5,
    "start_time": "2021-11-15T13:15:20.547Z"
   },
   {
    "duration": 20,
    "start_time": "2021-11-15T13:15:20.553Z"
   },
   {
    "duration": 50,
    "start_time": "2021-11-15T13:15:20.576Z"
   },
   {
    "duration": 19,
    "start_time": "2021-11-15T13:15:20.628Z"
   },
   {
    "duration": 168,
    "start_time": "2021-11-15T13:15:20.649Z"
   },
   {
    "duration": 2531,
    "start_time": "2021-11-15T13:15:20.819Z"
   },
   {
    "duration": 10,
    "start_time": "2021-11-15T13:15:23.352Z"
   },
   {
    "duration": 14,
    "start_time": "2021-11-15T13:15:23.364Z"
   },
   {
    "duration": 31,
    "start_time": "2021-11-15T13:15:23.379Z"
   },
   {
    "duration": 39,
    "start_time": "2021-11-15T13:15:23.412Z"
   },
   {
    "duration": 9,
    "start_time": "2021-11-15T13:15:23.452Z"
   },
   {
    "duration": 34,
    "start_time": "2021-11-15T13:15:23.463Z"
   },
   {
    "duration": 59,
    "start_time": "2021-11-15T13:15:23.499Z"
   },
   {
    "duration": 3366,
    "start_time": "2021-11-15T13:15:23.560Z"
   },
   {
    "duration": 19,
    "start_time": "2021-11-15T13:15:26.928Z"
   },
   {
    "duration": 16,
    "start_time": "2021-11-15T13:15:26.949Z"
   },
   {
    "duration": 40,
    "start_time": "2021-11-15T13:15:26.967Z"
   },
   {
    "duration": 16,
    "start_time": "2021-11-15T13:15:27.008Z"
   },
   {
    "duration": 69,
    "start_time": "2021-11-15T13:19:09.515Z"
   },
   {
    "duration": 21,
    "start_time": "2021-11-15T13:19:09.587Z"
   },
   {
    "duration": 22,
    "start_time": "2021-11-15T13:19:09.611Z"
   },
   {
    "duration": 30,
    "start_time": "2021-11-15T13:19:09.635Z"
   },
   {
    "duration": 26,
    "start_time": "2021-11-15T13:19:09.667Z"
   },
   {
    "duration": 28,
    "start_time": "2021-11-15T13:19:09.695Z"
   },
   {
    "duration": 15,
    "start_time": "2021-11-15T13:19:09.725Z"
   },
   {
    "duration": 22,
    "start_time": "2021-11-15T13:19:09.742Z"
   },
   {
    "duration": 19,
    "start_time": "2021-11-15T13:19:09.766Z"
   },
   {
    "duration": 17,
    "start_time": "2021-11-15T13:19:09.786Z"
   },
   {
    "duration": 23,
    "start_time": "2021-11-15T13:19:09.805Z"
   },
   {
    "duration": 23,
    "start_time": "2021-11-15T13:19:09.831Z"
   },
   {
    "duration": 42,
    "start_time": "2021-11-15T13:19:09.856Z"
   },
   {
    "duration": 13,
    "start_time": "2021-11-15T13:19:09.900Z"
   },
   {
    "duration": 27,
    "start_time": "2021-11-15T13:19:09.915Z"
   },
   {
    "duration": 66,
    "start_time": "2021-11-15T13:19:09.944Z"
   },
   {
    "duration": 36,
    "start_time": "2021-11-15T13:19:10.012Z"
   },
   {
    "duration": 11,
    "start_time": "2021-11-15T13:19:10.050Z"
   },
   {
    "duration": 25,
    "start_time": "2021-11-15T13:19:10.063Z"
   },
   {
    "duration": 32,
    "start_time": "2021-11-15T13:19:10.090Z"
   },
   {
    "duration": 24,
    "start_time": "2021-11-15T13:19:10.124Z"
   },
   {
    "duration": 31,
    "start_time": "2021-11-15T13:19:10.150Z"
   },
   {
    "duration": 28,
    "start_time": "2021-11-15T13:19:10.184Z"
   },
   {
    "duration": 45,
    "start_time": "2021-11-15T13:19:10.214Z"
   },
   {
    "duration": 5,
    "start_time": "2021-11-15T13:19:10.261Z"
   },
   {
    "duration": 26,
    "start_time": "2021-11-15T13:19:10.268Z"
   },
   {
    "duration": 37,
    "start_time": "2021-11-15T13:19:10.295Z"
   },
   {
    "duration": 21,
    "start_time": "2021-11-15T13:19:10.334Z"
   },
   {
    "duration": 153,
    "start_time": "2021-11-15T13:19:10.356Z"
   },
   {
    "duration": 2548,
    "start_time": "2021-11-15T13:19:10.511Z"
   },
   {
    "duration": 11,
    "start_time": "2021-11-15T13:19:13.061Z"
   },
   {
    "duration": 17,
    "start_time": "2021-11-15T13:19:13.074Z"
   },
   {
    "duration": 25,
    "start_time": "2021-11-15T13:19:13.094Z"
   },
   {
    "duration": 27,
    "start_time": "2021-11-15T13:19:13.121Z"
   },
   {
    "duration": 6,
    "start_time": "2021-11-15T13:19:13.150Z"
   },
   {
    "duration": 25,
    "start_time": "2021-11-15T13:19:13.157Z"
   },
   {
    "duration": 78,
    "start_time": "2021-11-15T13:19:13.184Z"
   },
   {
    "duration": 3065,
    "start_time": "2021-11-15T13:19:13.263Z"
   },
   {
    "duration": 20,
    "start_time": "2021-11-15T13:19:16.330Z"
   },
   {
    "duration": 17,
    "start_time": "2021-11-15T13:19:16.352Z"
   },
   {
    "duration": 45,
    "start_time": "2021-11-15T13:19:16.371Z"
   },
   {
    "duration": 17,
    "start_time": "2021-11-15T13:19:16.418Z"
   },
   {
    "duration": 63,
    "start_time": "2021-11-15T13:20:13.589Z"
   },
   {
    "duration": 11,
    "start_time": "2021-11-15T13:20:13.654Z"
   },
   {
    "duration": 16,
    "start_time": "2021-11-15T13:20:13.667Z"
   },
   {
    "duration": 25,
    "start_time": "2021-11-15T13:20:13.685Z"
   },
   {
    "duration": 8,
    "start_time": "2021-11-15T13:20:13.712Z"
   },
   {
    "duration": 12,
    "start_time": "2021-11-15T13:20:13.722Z"
   },
   {
    "duration": 8,
    "start_time": "2021-11-15T13:20:13.735Z"
   },
   {
    "duration": 23,
    "start_time": "2021-11-15T13:20:13.744Z"
   },
   {
    "duration": 4,
    "start_time": "2021-11-15T13:20:13.771Z"
   },
   {
    "duration": 10,
    "start_time": "2021-11-15T13:20:13.777Z"
   },
   {
    "duration": 18,
    "start_time": "2021-11-15T13:20:13.789Z"
   },
   {
    "duration": 20,
    "start_time": "2021-11-15T13:20:13.809Z"
   },
   {
    "duration": 22,
    "start_time": "2021-11-15T13:20:13.831Z"
   },
   {
    "duration": 9,
    "start_time": "2021-11-15T13:20:13.855Z"
   },
   {
    "duration": 13,
    "start_time": "2021-11-15T13:20:13.865Z"
   },
   {
    "duration": 52,
    "start_time": "2021-11-15T13:20:13.880Z"
   },
   {
    "duration": 35,
    "start_time": "2021-11-15T13:20:13.934Z"
   },
   {
    "duration": 39,
    "start_time": "2021-11-15T13:20:13.972Z"
   },
   {
    "duration": 9,
    "start_time": "2021-11-15T13:20:14.013Z"
   },
   {
    "duration": 13,
    "start_time": "2021-11-15T13:20:14.024Z"
   },
   {
    "duration": 12,
    "start_time": "2021-11-15T13:20:14.039Z"
   },
   {
    "duration": 17,
    "start_time": "2021-11-15T13:20:14.053Z"
   },
   {
    "duration": 45,
    "start_time": "2021-11-15T13:20:14.072Z"
   },
   {
    "duration": 28,
    "start_time": "2021-11-15T13:20:14.118Z"
   },
   {
    "duration": 4,
    "start_time": "2021-11-15T13:20:14.148Z"
   },
   {
    "duration": 11,
    "start_time": "2021-11-15T13:20:14.154Z"
   },
   {
    "duration": 53,
    "start_time": "2021-11-15T13:20:14.169Z"
   },
   {
    "duration": 17,
    "start_time": "2021-11-15T13:20:14.224Z"
   },
   {
    "duration": 158,
    "start_time": "2021-11-15T13:20:14.243Z"
   },
   {
    "duration": 2511,
    "start_time": "2021-11-15T13:20:14.406Z"
   },
   {
    "duration": 12,
    "start_time": "2021-11-15T13:20:16.919Z"
   },
   {
    "duration": 7,
    "start_time": "2021-11-15T13:20:16.933Z"
   },
   {
    "duration": 28,
    "start_time": "2021-11-15T13:20:16.942Z"
   },
   {
    "duration": 42,
    "start_time": "2021-11-15T13:20:16.972Z"
   },
   {
    "duration": 6,
    "start_time": "2021-11-15T13:20:17.016Z"
   },
   {
    "duration": 30,
    "start_time": "2021-11-15T13:20:17.024Z"
   },
   {
    "duration": 74,
    "start_time": "2021-11-15T13:20:17.056Z"
   },
   {
    "duration": 3003,
    "start_time": "2021-11-15T13:20:17.131Z"
   },
   {
    "duration": 20,
    "start_time": "2021-11-15T13:20:20.136Z"
   },
   {
    "duration": 23,
    "start_time": "2021-11-15T13:20:20.157Z"
   },
   {
    "duration": 31,
    "start_time": "2021-11-15T13:20:20.182Z"
   },
   {
    "duration": 16,
    "start_time": "2021-11-15T13:20:20.215Z"
   },
   {
    "duration": 64,
    "start_time": "2021-11-15T13:20:42.826Z"
   },
   {
    "duration": 11,
    "start_time": "2021-11-15T13:20:42.892Z"
   },
   {
    "duration": 9,
    "start_time": "2021-11-15T13:20:42.905Z"
   },
   {
    "duration": 4,
    "start_time": "2021-11-15T13:20:42.916Z"
   },
   {
    "duration": 10,
    "start_time": "2021-11-15T13:20:42.921Z"
   },
   {
    "duration": 10,
    "start_time": "2021-11-15T13:20:42.933Z"
   },
   {
    "duration": 10,
    "start_time": "2021-11-15T13:20:42.945Z"
   },
   {
    "duration": 7,
    "start_time": "2021-11-15T13:20:42.958Z"
   },
   {
    "duration": 10,
    "start_time": "2021-11-15T13:20:42.967Z"
   },
   {
    "duration": 29,
    "start_time": "2021-11-15T13:20:42.978Z"
   },
   {
    "duration": 5,
    "start_time": "2021-11-15T13:20:43.008Z"
   },
   {
    "duration": 11,
    "start_time": "2021-11-15T13:20:43.014Z"
   },
   {
    "duration": 20,
    "start_time": "2021-11-15T13:20:43.026Z"
   },
   {
    "duration": 8,
    "start_time": "2021-11-15T13:20:43.048Z"
   },
   {
    "duration": 15,
    "start_time": "2021-11-15T13:20:43.058Z"
   },
   {
    "duration": 60,
    "start_time": "2021-11-15T13:20:43.075Z"
   },
   {
    "duration": 34,
    "start_time": "2021-11-15T13:20:43.137Z"
   },
   {
    "duration": 39,
    "start_time": "2021-11-15T13:20:43.173Z"
   },
   {
    "duration": 8,
    "start_time": "2021-11-15T13:20:43.214Z"
   },
   {
    "duration": 15,
    "start_time": "2021-11-15T13:20:43.224Z"
   },
   {
    "duration": 10,
    "start_time": "2021-11-15T13:20:43.240Z"
   },
   {
    "duration": 12,
    "start_time": "2021-11-15T13:20:43.252Z"
   },
   {
    "duration": 49,
    "start_time": "2021-11-15T13:20:43.268Z"
   },
   {
    "duration": 29,
    "start_time": "2021-11-15T13:20:43.319Z"
   },
   {
    "duration": 5,
    "start_time": "2021-11-15T13:20:43.349Z"
   },
   {
    "duration": 22,
    "start_time": "2021-11-15T13:20:43.355Z"
   },
   {
    "duration": 44,
    "start_time": "2021-11-15T13:20:43.378Z"
   },
   {
    "duration": 18,
    "start_time": "2021-11-15T13:20:43.424Z"
   },
   {
    "duration": 155,
    "start_time": "2021-11-15T13:20:43.444Z"
   },
   {
    "duration": 2491,
    "start_time": "2021-11-15T13:20:43.601Z"
   },
   {
    "duration": 16,
    "start_time": "2021-11-15T13:20:46.094Z"
   },
   {
    "duration": 13,
    "start_time": "2021-11-15T13:20:46.112Z"
   },
   {
    "duration": 23,
    "start_time": "2021-11-15T13:20:46.127Z"
   },
   {
    "duration": 43,
    "start_time": "2021-11-15T13:20:46.152Z"
   },
   {
    "duration": 10,
    "start_time": "2021-11-15T13:20:46.196Z"
   },
   {
    "duration": 38,
    "start_time": "2021-11-15T13:20:46.208Z"
   },
   {
    "duration": 58,
    "start_time": "2021-11-15T13:20:46.248Z"
   },
   {
    "duration": 3106,
    "start_time": "2021-11-15T13:20:46.308Z"
   },
   {
    "duration": 19,
    "start_time": "2021-11-15T13:20:49.416Z"
   },
   {
    "duration": 16,
    "start_time": "2021-11-15T13:20:49.436Z"
   },
   {
    "duration": 18,
    "start_time": "2021-11-15T13:20:49.454Z"
   },
   {
    "duration": 36,
    "start_time": "2021-11-15T13:20:49.474Z"
   },
   {
    "duration": 607,
    "start_time": "2021-11-16T10:23:02.823Z"
   },
   {
    "duration": 10,
    "start_time": "2021-11-16T10:23:03.431Z"
   },
   {
    "duration": 8,
    "start_time": "2021-11-16T10:23:03.443Z"
   },
   {
    "duration": 6,
    "start_time": "2021-11-16T10:23:03.452Z"
   },
   {
    "duration": 7,
    "start_time": "2021-11-16T10:23:03.459Z"
   },
   {
    "duration": 24,
    "start_time": "2021-11-16T10:23:03.468Z"
   },
   {
    "duration": 11,
    "start_time": "2021-11-16T10:23:03.493Z"
   },
   {
    "duration": 8,
    "start_time": "2021-11-16T10:23:03.506Z"
   },
   {
    "duration": 3,
    "start_time": "2021-11-16T10:23:03.517Z"
   },
   {
    "duration": 5,
    "start_time": "2021-11-16T10:23:03.522Z"
   },
   {
    "duration": 10,
    "start_time": "2021-11-16T10:23:03.529Z"
   },
   {
    "duration": 11,
    "start_time": "2021-11-16T10:23:03.540Z"
   },
   {
    "duration": 40,
    "start_time": "2021-11-16T10:23:03.552Z"
   },
   {
    "duration": 8,
    "start_time": "2021-11-16T10:23:03.593Z"
   },
   {
    "duration": 6,
    "start_time": "2021-11-16T10:23:03.603Z"
   },
   {
    "duration": 32,
    "start_time": "2021-11-16T10:23:03.610Z"
   },
   {
    "duration": 63,
    "start_time": "2021-11-16T10:23:03.644Z"
   },
   {
    "duration": 9,
    "start_time": "2021-11-16T10:23:03.709Z"
   },
   {
    "duration": 8,
    "start_time": "2021-11-16T10:23:03.720Z"
   },
   {
    "duration": 10,
    "start_time": "2021-11-16T10:23:03.730Z"
   },
   {
    "duration": 9,
    "start_time": "2021-11-16T10:23:03.741Z"
   },
   {
    "duration": 12,
    "start_time": "2021-11-16T10:23:03.751Z"
   },
   {
    "duration": 38,
    "start_time": "2021-11-16T10:23:03.766Z"
   },
   {
    "duration": 27,
    "start_time": "2021-11-16T10:23:03.806Z"
   },
   {
    "duration": 4,
    "start_time": "2021-11-16T10:23:03.834Z"
   },
   {
    "duration": 11,
    "start_time": "2021-11-16T10:23:03.840Z"
   },
   {
    "duration": 50,
    "start_time": "2021-11-16T10:23:03.852Z"
   },
   {
    "duration": 17,
    "start_time": "2021-11-16T10:23:03.903Z"
   },
   {
    "duration": 140,
    "start_time": "2021-11-16T10:23:03.921Z"
   },
   {
    "duration": 2287,
    "start_time": "2021-11-16T10:23:04.063Z"
   },
   {
    "duration": 10,
    "start_time": "2021-11-16T10:23:06.351Z"
   },
   {
    "duration": 7,
    "start_time": "2021-11-16T10:23:06.363Z"
   },
   {
    "duration": 13,
    "start_time": "2021-11-16T10:23:06.392Z"
   },
   {
    "duration": 27,
    "start_time": "2021-11-16T10:23:06.407Z"
   },
   {
    "duration": 8,
    "start_time": "2021-11-16T10:23:06.436Z"
   },
   {
    "duration": 24,
    "start_time": "2021-11-16T10:23:06.446Z"
   },
   {
    "duration": 54,
    "start_time": "2021-11-16T10:23:06.492Z"
   },
   {
    "duration": 2685,
    "start_time": "2021-11-16T10:23:06.548Z"
   },
   {
    "duration": 21,
    "start_time": "2021-11-16T10:23:09.235Z"
   },
   {
    "duration": 14,
    "start_time": "2021-11-16T10:23:09.257Z"
   },
   {
    "duration": 13,
    "start_time": "2021-11-16T10:23:09.291Z"
   },
   {
    "duration": 24,
    "start_time": "2021-11-16T10:23:09.305Z"
   },
   {
    "duration": 12,
    "start_time": "2021-11-16T12:57:16.749Z"
   },
   {
    "duration": 13,
    "start_time": "2021-11-16T13:02:23.863Z"
   },
   {
    "duration": 5,
    "start_time": "2021-11-16T13:18:14.453Z"
   },
   {
    "duration": 603,
    "start_time": "2021-11-17T16:14:08.304Z"
   },
   {
    "duration": 9,
    "start_time": "2021-11-17T16:14:08.909Z"
   },
   {
    "duration": 8,
    "start_time": "2021-11-17T16:14:08.920Z"
   },
   {
    "duration": 13,
    "start_time": "2021-11-17T16:14:08.929Z"
   },
   {
    "duration": 12,
    "start_time": "2021-11-17T16:14:08.944Z"
   },
   {
    "duration": 8,
    "start_time": "2021-11-17T16:14:08.957Z"
   },
   {
    "duration": 6,
    "start_time": "2021-11-17T16:14:08.967Z"
   },
   {
    "duration": 7,
    "start_time": "2021-11-17T16:14:09.555Z"
   },
   {
    "duration": 7,
    "start_time": "2021-11-17T16:14:09.563Z"
   },
   {
    "duration": 6,
    "start_time": "2021-11-17T16:14:09.571Z"
   },
   {
    "duration": 9,
    "start_time": "2021-11-17T16:14:09.579Z"
   },
   {
    "duration": 9,
    "start_time": "2021-11-17T16:14:09.589Z"
   },
   {
    "duration": 19,
    "start_time": "2021-11-17T16:14:09.599Z"
   },
   {
    "duration": 7,
    "start_time": "2021-11-17T16:14:09.619Z"
   },
   {
    "duration": 10,
    "start_time": "2021-11-17T16:14:09.627Z"
   },
   {
    "duration": 28,
    "start_time": "2021-11-17T16:14:09.639Z"
   },
   {
    "duration": 49,
    "start_time": "2021-11-17T16:14:09.669Z"
   },
   {
    "duration": 8,
    "start_time": "2021-11-17T16:14:09.720Z"
   },
   {
    "duration": 7,
    "start_time": "2021-11-17T16:14:09.729Z"
   },
   {
    "duration": 10,
    "start_time": "2021-11-17T16:14:09.737Z"
   },
   {
    "duration": 9,
    "start_time": "2021-11-17T16:14:09.748Z"
   },
   {
    "duration": 9,
    "start_time": "2021-11-17T16:14:09.792Z"
   },
   {
    "duration": 12,
    "start_time": "2021-11-17T16:14:09.803Z"
   },
   {
    "duration": 26,
    "start_time": "2021-11-17T16:14:09.817Z"
   },
   {
    "duration": 4,
    "start_time": "2021-11-17T16:14:09.844Z"
   },
   {
    "duration": 13,
    "start_time": "2021-11-17T16:14:09.849Z"
   },
   {
    "duration": 52,
    "start_time": "2021-11-17T16:14:09.863Z"
   },
   {
    "duration": 15,
    "start_time": "2021-11-17T16:14:09.917Z"
   },
   {
    "duration": 162,
    "start_time": "2021-11-17T16:14:09.933Z"
   },
   {
    "duration": 2235,
    "start_time": "2021-11-17T16:14:10.096Z"
   },
   {
    "duration": 9,
    "start_time": "2021-11-17T16:14:12.332Z"
   },
   {
    "duration": 6,
    "start_time": "2021-11-17T16:14:12.343Z"
   },
   {
    "duration": 17,
    "start_time": "2021-11-17T16:14:12.350Z"
   },
   {
    "duration": 39,
    "start_time": "2021-11-17T16:14:12.370Z"
   },
   {
    "duration": 5,
    "start_time": "2021-11-17T16:14:12.410Z"
   },
   {
    "duration": 24,
    "start_time": "2021-11-17T16:14:12.416Z"
   },
   {
    "duration": 74,
    "start_time": "2021-11-17T16:14:12.441Z"
   },
   {
    "duration": 2627,
    "start_time": "2021-11-17T16:14:12.516Z"
   },
   {
    "duration": 18,
    "start_time": "2021-11-17T16:14:15.145Z"
   },
   {
    "duration": 32,
    "start_time": "2021-11-17T16:14:15.165Z"
   },
   {
    "duration": 12,
    "start_time": "2021-11-17T16:14:15.198Z"
   },
   {
    "duration": 13,
    "start_time": "2021-11-17T16:14:15.211Z"
   },
   {
    "duration": 65,
    "start_time": "2021-11-17T16:17:55.371Z"
   },
   {
    "duration": 11,
    "start_time": "2021-11-17T16:17:55.439Z"
   },
   {
    "duration": 8,
    "start_time": "2021-11-17T16:17:55.452Z"
   },
   {
    "duration": 33,
    "start_time": "2021-11-17T16:17:55.462Z"
   },
   {
    "duration": 8,
    "start_time": "2021-11-17T16:17:55.497Z"
   },
   {
    "duration": 6,
    "start_time": "2021-11-17T16:17:55.507Z"
   },
   {
    "duration": 5,
    "start_time": "2021-11-17T16:17:55.515Z"
   },
   {
    "duration": 9,
    "start_time": "2021-11-17T16:17:55.522Z"
   },
   {
    "duration": 4,
    "start_time": "2021-11-17T16:17:55.533Z"
   },
   {
    "duration": 6,
    "start_time": "2021-11-17T16:17:55.539Z"
   },
   {
    "duration": 45,
    "start_time": "2021-11-17T16:17:55.547Z"
   },
   {
    "duration": 9,
    "start_time": "2021-11-17T16:17:55.593Z"
   },
   {
    "duration": 15,
    "start_time": "2021-11-17T16:17:55.603Z"
   },
   {
    "duration": 7,
    "start_time": "2021-11-17T16:17:55.619Z"
   },
   {
    "duration": 7,
    "start_time": "2021-11-17T16:17:55.628Z"
   },
   {
    "duration": 63,
    "start_time": "2021-11-17T16:17:55.636Z"
   },
   {
    "duration": 30,
    "start_time": "2021-11-17T16:17:55.701Z"
   },
   {
    "duration": 8,
    "start_time": "2021-11-17T16:17:55.733Z"
   },
   {
    "duration": 9,
    "start_time": "2021-11-17T16:17:55.742Z"
   },
   {
    "duration": 16,
    "start_time": "2021-11-17T16:17:55.752Z"
   },
   {
    "duration": 29,
    "start_time": "2021-11-17T16:17:55.770Z"
   },
   {
    "duration": 11,
    "start_time": "2021-11-17T16:17:55.800Z"
   },
   {
    "duration": 18,
    "start_time": "2021-11-17T16:17:55.812Z"
   },
   {
    "duration": 25,
    "start_time": "2021-11-17T16:17:55.832Z"
   },
   {
    "duration": 4,
    "start_time": "2021-11-17T16:17:55.858Z"
   },
   {
    "duration": 33,
    "start_time": "2021-11-17T16:17:55.864Z"
   },
   {
    "duration": 23,
    "start_time": "2021-11-17T16:17:55.900Z"
   },
   {
    "duration": 15,
    "start_time": "2021-11-17T16:17:55.925Z"
   },
   {
    "duration": 150,
    "start_time": "2021-11-17T16:17:55.941Z"
   },
   {
    "duration": 2344,
    "start_time": "2021-11-17T16:17:56.093Z"
   },
   {
    "duration": 9,
    "start_time": "2021-11-17T16:17:58.439Z"
   },
   {
    "duration": 6,
    "start_time": "2021-11-17T16:17:58.450Z"
   },
   {
    "duration": 15,
    "start_time": "2021-11-17T16:17:58.458Z"
   },
   {
    "duration": 38,
    "start_time": "2021-11-17T16:17:58.475Z"
   },
   {
    "duration": 5,
    "start_time": "2021-11-17T16:17:58.515Z"
   },
   {
    "duration": 23,
    "start_time": "2021-11-17T16:17:58.521Z"
   },
   {
    "duration": 78,
    "start_time": "2021-11-17T16:17:58.545Z"
   },
   {
    "duration": 2687,
    "start_time": "2021-11-17T16:17:58.625Z"
   },
   {
    "duration": 17,
    "start_time": "2021-11-17T16:18:01.314Z"
   },
   {
    "duration": 14,
    "start_time": "2021-11-17T16:18:01.333Z"
   },
   {
    "duration": 18,
    "start_time": "2021-11-17T16:18:01.348Z"
   },
   {
    "duration": 35,
    "start_time": "2021-11-17T16:18:01.368Z"
   },
   {
    "duration": 592,
    "start_time": "2021-11-17T16:44:51.440Z"
   },
   {
    "duration": 10,
    "start_time": "2021-11-17T16:44:52.034Z"
   },
   {
    "duration": 7,
    "start_time": "2021-11-17T16:44:52.046Z"
   },
   {
    "duration": 10,
    "start_time": "2021-11-17T16:44:52.055Z"
   },
   {
    "duration": 24,
    "start_time": "2021-11-17T16:44:52.067Z"
   },
   {
    "duration": 5,
    "start_time": "2021-11-17T16:44:52.093Z"
   },
   {
    "duration": 6,
    "start_time": "2021-11-17T16:44:52.099Z"
   },
   {
    "duration": 9,
    "start_time": "2021-11-17T16:44:52.107Z"
   },
   {
    "duration": 3,
    "start_time": "2021-11-17T16:44:52.118Z"
   },
   {
    "duration": 8,
    "start_time": "2021-11-17T16:44:52.123Z"
   },
   {
    "duration": 10,
    "start_time": "2021-11-17T16:44:52.132Z"
   },
   {
    "duration": 11,
    "start_time": "2021-11-17T16:44:52.143Z"
   },
   {
    "duration": 42,
    "start_time": "2021-11-17T16:44:52.156Z"
   },
   {
    "duration": 7,
    "start_time": "2021-11-17T16:44:52.200Z"
   },
   {
    "duration": 11,
    "start_time": "2021-11-17T16:44:52.208Z"
   },
   {
    "duration": 42,
    "start_time": "2021-11-17T16:44:52.220Z"
   },
   {
    "duration": 41,
    "start_time": "2021-11-17T16:44:52.264Z"
   },
   {
    "duration": 8,
    "start_time": "2021-11-17T16:44:52.307Z"
   },
   {
    "duration": 7,
    "start_time": "2021-11-17T16:44:52.317Z"
   },
   {
    "duration": 10,
    "start_time": "2021-11-17T16:44:52.326Z"
   },
   {
    "duration": 10,
    "start_time": "2021-11-17T16:44:52.337Z"
   },
   {
    "duration": 10,
    "start_time": "2021-11-17T16:44:52.348Z"
   },
   {
    "duration": 14,
    "start_time": "2021-11-17T16:44:52.392Z"
   },
   {
    "duration": 29,
    "start_time": "2021-11-17T16:44:52.408Z"
   },
   {
    "duration": 4,
    "start_time": "2021-11-17T16:44:52.438Z"
   },
   {
    "duration": 13,
    "start_time": "2021-11-17T16:44:52.444Z"
   },
   {
    "duration": 54,
    "start_time": "2021-11-17T16:44:52.459Z"
   },
   {
    "duration": 14,
    "start_time": "2021-11-17T16:44:52.515Z"
   },
   {
    "duration": 142,
    "start_time": "2021-11-17T16:44:52.531Z"
   },
   {
    "duration": 2286,
    "start_time": "2021-11-17T16:44:52.674Z"
   },
   {
    "duration": 10,
    "start_time": "2021-11-17T16:44:54.962Z"
   },
   {
    "duration": 19,
    "start_time": "2021-11-17T16:44:54.973Z"
   },
   {
    "duration": 25,
    "start_time": "2021-11-17T16:44:54.994Z"
   },
   {
    "duration": 37,
    "start_time": "2021-11-17T16:44:55.021Z"
   },
   {
    "duration": 10,
    "start_time": "2021-11-17T16:44:55.059Z"
   },
   {
    "duration": 27,
    "start_time": "2021-11-17T16:44:55.070Z"
   },
   {
    "duration": 58,
    "start_time": "2021-11-17T16:44:55.099Z"
   },
   {
    "duration": 2621,
    "start_time": "2021-11-17T16:44:55.159Z"
   },
   {
    "duration": 20,
    "start_time": "2021-11-17T16:44:57.791Z"
   },
   {
    "duration": 12,
    "start_time": "2021-11-17T16:44:57.813Z"
   },
   {
    "duration": 16,
    "start_time": "2021-11-17T16:44:57.827Z"
   },
   {
    "duration": 41,
    "start_time": "2021-11-17T16:44:57.844Z"
   },
   {
    "duration": 5,
    "start_time": "2021-11-17T16:48:58.860Z"
   },
   {
    "duration": 6,
    "start_time": "2021-11-17T16:49:58.376Z"
   },
   {
    "duration": 7,
    "start_time": "2021-11-17T16:50:13.326Z"
   },
   {
    "duration": 6,
    "start_time": "2021-11-17T16:50:23.686Z"
   },
   {
    "duration": 6,
    "start_time": "2021-11-17T16:51:08.318Z"
   },
   {
    "duration": 9,
    "start_time": "2021-11-17T16:51:52.961Z"
   },
   {
    "duration": 5,
    "start_time": "2021-11-17T16:52:34.845Z"
   },
   {
    "duration": 5,
    "start_time": "2021-11-17T16:53:08.717Z"
   },
   {
    "duration": 34,
    "start_time": "2021-11-17T16:58:27.376Z"
   },
   {
    "duration": 13,
    "start_time": "2021-11-17T17:01:17.123Z"
   },
   {
    "duration": 13,
    "start_time": "2021-11-17T17:06:50.138Z"
   },
   {
    "duration": 11,
    "start_time": "2021-11-17T17:07:45.293Z"
   },
   {
    "duration": 15,
    "start_time": "2021-11-17T17:08:34.553Z"
   },
   {
    "duration": 31,
    "start_time": "2021-11-17T17:12:29.171Z"
   },
   {
    "duration": 33,
    "start_time": "2021-11-17T17:12:42.455Z"
   },
   {
    "duration": 2457,
    "start_time": "2021-11-17T17:14:37.749Z"
   },
   {
    "duration": 2446,
    "start_time": "2021-11-17T17:14:54.524Z"
   },
   {
    "duration": 62,
    "start_time": "2021-11-17T17:15:15.194Z"
   },
   {
    "duration": 10,
    "start_time": "2021-11-17T17:15:15.258Z"
   },
   {
    "duration": 8,
    "start_time": "2021-11-17T17:15:15.313Z"
   },
   {
    "duration": 6,
    "start_time": "2021-11-17T17:15:15.450Z"
   },
   {
    "duration": 5,
    "start_time": "2021-11-17T17:15:15.508Z"
   },
   {
    "duration": 6,
    "start_time": "2021-11-17T17:15:15.572Z"
   },
   {
    "duration": 5,
    "start_time": "2021-11-17T17:15:15.624Z"
   },
   {
    "duration": 8,
    "start_time": "2021-11-17T17:15:15.683Z"
   },
   {
    "duration": 6,
    "start_time": "2021-11-17T17:15:15.761Z"
   },
   {
    "duration": 6,
    "start_time": "2021-11-17T17:15:15.847Z"
   },
   {
    "duration": 66,
    "start_time": "2021-11-17T17:15:15.854Z"
   },
   {
    "duration": -1793,
    "start_time": "2021-11-17T17:15:17.714Z"
   },
   {
    "duration": 10,
    "start_time": "2021-11-17T17:15:15.939Z"
   },
   {
    "duration": 17,
    "start_time": "2021-11-17T17:15:16.006Z"
   },
   {
    "duration": 9,
    "start_time": "2021-11-17T17:15:16.077Z"
   },
   {
    "duration": 12,
    "start_time": "2021-11-17T17:15:16.148Z"
   },
   {
    "duration": 31,
    "start_time": "2021-11-17T17:15:16.161Z"
   },
   {
    "duration": 34,
    "start_time": "2021-11-17T17:15:16.237Z"
   },
   {
    "duration": 11,
    "start_time": "2021-11-17T17:15:16.316Z"
   },
   {
    "duration": 9,
    "start_time": "2021-11-17T17:15:16.391Z"
   },
   {
    "duration": 11,
    "start_time": "2021-11-17T17:15:16.478Z"
   },
   {
    "duration": 11,
    "start_time": "2021-11-17T17:15:16.558Z"
   },
   {
    "duration": 10,
    "start_time": "2021-11-17T17:15:16.635Z"
   },
   {
    "duration": 19,
    "start_time": "2021-11-17T17:15:16.647Z"
   },
   {
    "duration": 28,
    "start_time": "2021-11-17T17:15:16.719Z"
   },
   {
    "duration": 5,
    "start_time": "2021-11-17T17:15:16.876Z"
   },
   {
    "duration": 11,
    "start_time": "2021-11-17T17:15:16.963Z"
   },
   {
    "duration": 28,
    "start_time": "2021-11-17T17:15:17.053Z"
   },
   {
    "duration": 17,
    "start_time": "2021-11-17T17:15:17.138Z"
   },
   {
    "duration": 136,
    "start_time": "2021-11-17T17:15:17.231Z"
   },
   {
    "duration": 2424,
    "start_time": "2021-11-17T17:15:17.370Z"
   },
   {
    "duration": 9,
    "start_time": "2021-11-17T17:15:19.796Z"
   },
   {
    "duration": 28,
    "start_time": "2021-11-17T17:15:19.807Z"
   },
   {
    "duration": 39,
    "start_time": "2021-11-17T17:15:19.837Z"
   },
   {
    "duration": 30,
    "start_time": "2021-11-17T17:15:19.878Z"
   },
   {
    "duration": 17,
    "start_time": "2021-11-17T17:15:19.910Z"
   },
   {
    "duration": 42,
    "start_time": "2021-11-17T17:15:19.930Z"
   },
   {
    "duration": 65,
    "start_time": "2021-11-17T17:15:19.975Z"
   },
   {
    "duration": 2784,
    "start_time": "2021-11-17T17:15:20.042Z"
   },
   {
    "duration": 19,
    "start_time": "2021-11-17T17:15:22.828Z"
   },
   {
    "duration": 15,
    "start_time": "2021-11-17T17:15:22.849Z"
   },
   {
    "duration": 36,
    "start_time": "2021-11-17T17:15:22.866Z"
   },
   {
    "duration": 15,
    "start_time": "2021-11-17T17:15:22.904Z"
   },
   {
    "duration": 5,
    "start_time": "2021-11-17T17:16:33.262Z"
   },
   {
    "duration": 69,
    "start_time": "2021-11-17T17:20:32.369Z"
   },
   {
    "duration": 61,
    "start_time": "2021-11-17T17:20:42.914Z"
   },
   {
    "duration": 56,
    "start_time": "2021-11-17T17:20:47.222Z"
   },
   {
    "duration": 15,
    "start_time": "2021-11-17T17:20:52.005Z"
   },
   {
    "duration": 15,
    "start_time": "2021-11-17T17:23:17.159Z"
   },
   {
    "duration": 16,
    "start_time": "2021-11-17T17:23:29.460Z"
   },
   {
    "duration": 61,
    "start_time": "2021-11-17T17:31:57.298Z"
   },
   {
    "duration": 10,
    "start_time": "2021-11-17T17:31:57.362Z"
   },
   {
    "duration": 25,
    "start_time": "2021-11-17T17:31:57.375Z"
   },
   {
    "duration": 34,
    "start_time": "2021-11-17T17:31:57.402Z"
   },
   {
    "duration": 16,
    "start_time": "2021-11-17T17:31:57.438Z"
   },
   {
    "duration": 20,
    "start_time": "2021-11-17T17:31:57.456Z"
   },
   {
    "duration": 29,
    "start_time": "2021-11-17T17:31:57.478Z"
   },
   {
    "duration": 37,
    "start_time": "2021-11-17T17:31:57.509Z"
   },
   {
    "duration": 42,
    "start_time": "2021-11-17T17:31:57.549Z"
   },
   {
    "duration": 39,
    "start_time": "2021-11-17T17:31:57.593Z"
   },
   {
    "duration": 35,
    "start_time": "2021-11-17T17:31:57.633Z"
   },
   {
    "duration": 41,
    "start_time": "2021-11-17T17:31:57.669Z"
   },
   {
    "duration": 40,
    "start_time": "2021-11-17T17:31:57.712Z"
   },
   {
    "duration": 29,
    "start_time": "2021-11-17T17:31:57.754Z"
   },
   {
    "duration": 25,
    "start_time": "2021-11-17T17:31:57.785Z"
   },
   {
    "duration": 64,
    "start_time": "2021-11-17T17:31:57.812Z"
   },
   {
    "duration": 43,
    "start_time": "2021-11-17T17:31:57.878Z"
   },
   {
    "duration": 15,
    "start_time": "2021-11-17T17:31:57.923Z"
   },
   {
    "duration": 57,
    "start_time": "2021-11-17T17:31:57.940Z"
   },
   {
    "duration": 33,
    "start_time": "2021-11-17T17:31:57.998Z"
   },
   {
    "duration": 39,
    "start_time": "2021-11-17T17:31:58.033Z"
   },
   {
    "duration": 35,
    "start_time": "2021-11-17T17:31:58.074Z"
   },
   {
    "duration": 47,
    "start_time": "2021-11-17T17:31:58.110Z"
   },
   {
    "duration": 53,
    "start_time": "2021-11-17T17:31:58.158Z"
   },
   {
    "duration": 5,
    "start_time": "2021-11-17T17:31:58.213Z"
   },
   {
    "duration": 47,
    "start_time": "2021-11-17T17:31:58.219Z"
   },
   {
    "duration": 61,
    "start_time": "2021-11-17T17:31:58.270Z"
   },
   {
    "duration": 27,
    "start_time": "2021-11-17T17:31:58.333Z"
   },
   {
    "duration": 141,
    "start_time": "2021-11-17T17:31:58.361Z"
   },
   {
    "duration": 2533,
    "start_time": "2021-11-17T17:31:58.504Z"
   },
   {
    "duration": 11,
    "start_time": "2021-11-17T17:32:01.039Z"
   },
   {
    "duration": 22,
    "start_time": "2021-11-17T17:32:01.052Z"
   },
   {
    "duration": 37,
    "start_time": "2021-11-17T17:32:01.076Z"
   },
   {
    "duration": 55,
    "start_time": "2021-11-17T17:32:01.115Z"
   },
   {
    "duration": 51,
    "start_time": "2021-11-17T17:32:01.172Z"
   },
   {
    "duration": 43,
    "start_time": "2021-11-17T17:32:01.224Z"
   },
   {
    "duration": 82,
    "start_time": "2021-11-17T17:32:01.268Z"
   },
   {
    "duration": 2885,
    "start_time": "2021-11-17T17:32:01.351Z"
   },
   {
    "duration": 25,
    "start_time": "2021-11-17T17:32:04.238Z"
   },
   {
    "duration": 37,
    "start_time": "2021-11-17T17:32:04.265Z"
   },
   {
    "duration": 16,
    "start_time": "2021-11-17T17:32:04.304Z"
   },
   {
    "duration": 16,
    "start_time": "2021-11-17T17:32:04.321Z"
   },
   {
    "duration": 2978,
    "start_time": "2021-11-19T11:21:59.214Z"
   },
   {
    "duration": -93720,
    "start_time": "2021-11-19T11:23:35.916Z"
   },
   {
    "duration": -93731,
    "start_time": "2021-11-19T11:23:35.928Z"
   },
   {
    "duration": -93740,
    "start_time": "2021-11-19T11:23:35.938Z"
   },
   {
    "duration": -93747,
    "start_time": "2021-11-19T11:23:35.946Z"
   },
   {
    "duration": -93756,
    "start_time": "2021-11-19T11:23:35.956Z"
   },
   {
    "duration": -93762,
    "start_time": "2021-11-19T11:23:35.963Z"
   },
   {
    "duration": -93767,
    "start_time": "2021-11-19T11:23:35.969Z"
   },
   {
    "duration": -93772,
    "start_time": "2021-11-19T11:23:35.975Z"
   },
   {
    "duration": -93780,
    "start_time": "2021-11-19T11:23:35.985Z"
   },
   {
    "duration": -93790,
    "start_time": "2021-11-19T11:23:35.996Z"
   },
   {
    "duration": -93801,
    "start_time": "2021-11-19T11:23:36.008Z"
   },
   {
    "duration": -93806,
    "start_time": "2021-11-19T11:23:36.014Z"
   },
   {
    "duration": -93814,
    "start_time": "2021-11-19T11:23:36.022Z"
   },
   {
    "duration": -93818,
    "start_time": "2021-11-19T11:23:36.027Z"
   },
   {
    "duration": -93824,
    "start_time": "2021-11-19T11:23:36.034Z"
   },
   {
    "duration": -93834,
    "start_time": "2021-11-19T11:23:36.045Z"
   },
   {
    "duration": -93838,
    "start_time": "2021-11-19T11:23:36.050Z"
   },
   {
    "duration": -93844,
    "start_time": "2021-11-19T11:23:36.057Z"
   },
   {
    "duration": -93871,
    "start_time": "2021-11-19T11:23:36.085Z"
   },
   {
    "duration": -93876,
    "start_time": "2021-11-19T11:23:36.091Z"
   },
   {
    "duration": -93881,
    "start_time": "2021-11-19T11:23:36.097Z"
   },
   {
    "duration": -93904,
    "start_time": "2021-11-19T11:23:36.121Z"
   },
   {
    "duration": -93908,
    "start_time": "2021-11-19T11:23:36.127Z"
   },
   {
    "duration": -93912,
    "start_time": "2021-11-19T11:23:36.132Z"
   },
   {
    "duration": -93916,
    "start_time": "2021-11-19T11:23:36.137Z"
   },
   {
    "duration": -93917,
    "start_time": "2021-11-19T11:23:36.142Z"
   },
   {
    "duration": -93928,
    "start_time": "2021-11-19T11:23:36.154Z"
   },
   {
    "duration": -93934,
    "start_time": "2021-11-19T11:23:36.161Z"
   },
   {
    "duration": -93980,
    "start_time": "2021-11-19T11:23:36.209Z"
   },
   {
    "duration": -93984,
    "start_time": "2021-11-19T11:23:36.214Z"
   },
   {
    "duration": -93988,
    "start_time": "2021-11-19T11:23:36.219Z"
   },
   {
    "duration": -94004,
    "start_time": "2021-11-19T11:23:36.236Z"
   },
   {
    "duration": -94008,
    "start_time": "2021-11-19T11:23:36.242Z"
   },
   {
    "duration": -94012,
    "start_time": "2021-11-19T11:23:36.247Z"
   },
   {
    "duration": -94057,
    "start_time": "2021-11-19T11:23:36.293Z"
   },
   {
    "duration": -94061,
    "start_time": "2021-11-19T11:23:36.298Z"
   },
   {
    "duration": -94066,
    "start_time": "2021-11-19T11:23:36.304Z"
   },
   {
    "duration": -94071,
    "start_time": "2021-11-19T11:23:36.309Z"
   },
   {
    "duration": -94070,
    "start_time": "2021-11-19T11:23:36.314Z"
   },
   {
    "duration": -94074,
    "start_time": "2021-11-19T11:23:36.319Z"
   },
   {
    "duration": -94093,
    "start_time": "2021-11-19T11:23:36.339Z"
   },
   {
    "duration": -94096,
    "start_time": "2021-11-19T11:23:36.344Z"
   },
   {
    "duration": -94100,
    "start_time": "2021-11-19T11:23:36.349Z"
   },
   {
    "duration": 64,
    "start_time": "2021-11-19T11:22:45.439Z"
   },
   {
    "duration": 10,
    "start_time": "2021-11-19T11:22:45.505Z"
   },
   {
    "duration": 28,
    "start_time": "2021-11-19T11:22:45.517Z"
   },
   {
    "duration": 5,
    "start_time": "2021-11-19T11:22:45.547Z"
   },
   {
    "duration": 6,
    "start_time": "2021-11-19T11:22:45.554Z"
   },
   {
    "duration": 7,
    "start_time": "2021-11-19T11:22:45.562Z"
   },
   {
    "duration": 6,
    "start_time": "2021-11-19T11:22:45.571Z"
   },
   {
    "duration": 8,
    "start_time": "2021-11-19T11:22:45.581Z"
   },
   {
    "duration": 6,
    "start_time": "2021-11-19T11:22:45.591Z"
   },
   {
    "duration": 50,
    "start_time": "2021-11-19T11:22:45.599Z"
   },
   {
    "duration": 5,
    "start_time": "2021-11-19T11:22:45.651Z"
   },
   {
    "duration": 11,
    "start_time": "2021-11-19T11:22:45.658Z"
   },
   {
    "duration": 12,
    "start_time": "2021-11-19T11:22:45.671Z"
   },
   {
    "duration": 17,
    "start_time": "2021-11-19T11:22:45.684Z"
   },
   {
    "duration": 47,
    "start_time": "2021-11-19T11:22:45.703Z"
   },
   {
    "duration": 7,
    "start_time": "2021-11-19T11:22:45.752Z"
   },
   {
    "duration": 35,
    "start_time": "2021-11-19T11:22:45.761Z"
   },
   {
    "duration": 10,
    "start_time": "2021-11-19T11:22:45.798Z"
   },
   {
    "duration": 68,
    "start_time": "2021-11-19T11:22:45.809Z"
   },
   {
    "duration": 10,
    "start_time": "2021-11-19T11:22:45.879Z"
   },
   {
    "duration": 9,
    "start_time": "2021-11-19T11:22:45.891Z"
   },
   {
    "duration": 43,
    "start_time": "2021-11-19T11:22:45.902Z"
   },
   {
    "duration": 11,
    "start_time": "2021-11-19T11:22:45.949Z"
   },
   {
    "duration": 10,
    "start_time": "2021-11-19T11:22:45.961Z"
   },
   {
    "duration": 14,
    "start_time": "2021-11-19T11:22:45.973Z"
   },
   {
    "duration": 57,
    "start_time": "2021-11-19T11:22:45.989Z"
   },
   {
    "duration": 4,
    "start_time": "2021-11-19T11:22:46.048Z"
   },
   {
    "duration": 14,
    "start_time": "2021-11-19T11:22:46.054Z"
   },
   {
    "duration": 32,
    "start_time": "2021-11-19T11:22:46.069Z"
   },
   {
    "duration": 15,
    "start_time": "2021-11-19T11:22:46.102Z"
   },
   {
    "duration": 143,
    "start_time": "2021-11-19T11:22:46.145Z"
   },
   {
    "duration": 2336,
    "start_time": "2021-11-19T11:22:46.289Z"
   },
   {
    "duration": 17,
    "start_time": "2021-11-19T11:22:48.627Z"
   },
   {
    "duration": 5,
    "start_time": "2021-11-19T11:22:48.646Z"
   },
   {
    "duration": 22,
    "start_time": "2021-11-19T11:22:48.653Z"
   },
   {
    "duration": 32,
    "start_time": "2021-11-19T11:22:48.677Z"
   },
   {
    "duration": 9,
    "start_time": "2021-11-19T11:22:48.711Z"
   },
   {
    "duration": 37,
    "start_time": "2021-11-19T11:22:48.722Z"
   },
   {
    "duration": 62,
    "start_time": "2021-11-19T11:22:48.761Z"
   },
   {
    "duration": 2992,
    "start_time": "2021-11-19T11:22:48.825Z"
   },
   {
    "duration": 37,
    "start_time": "2021-11-19T11:22:51.819Z"
   },
   {
    "duration": 15,
    "start_time": "2021-11-19T11:22:51.858Z"
   },
   {
    "duration": 15,
    "start_time": "2021-11-19T11:22:51.874Z"
   },
   {
    "duration": 15,
    "start_time": "2021-11-19T11:22:51.890Z"
   },
   {
    "duration": 2,
    "start_time": "2021-11-19T11:27:32.730Z"
   },
   {
    "duration": 114,
    "start_time": "2021-11-19T11:27:50.327Z"
   },
   {
    "duration": 7,
    "start_time": "2021-11-19T11:28:41.960Z"
   },
   {
    "duration": 3430,
    "start_time": "2021-11-19T11:30:51.669Z"
   },
   {
    "duration": 6,
    "start_time": "2021-11-19T11:31:30.378Z"
   },
   {
    "duration": 6,
    "start_time": "2021-11-19T11:31:40.688Z"
   },
   {
    "duration": 7,
    "start_time": "2021-11-19T11:31:46.810Z"
   },
   {
    "duration": 64,
    "start_time": "2021-11-19T11:31:50.831Z"
   },
   {
    "duration": 10,
    "start_time": "2021-11-19T11:31:50.897Z"
   },
   {
    "duration": 8,
    "start_time": "2021-11-19T11:31:50.909Z"
   },
   {
    "duration": 30,
    "start_time": "2021-11-19T11:31:50.919Z"
   },
   {
    "duration": 20,
    "start_time": "2021-11-19T11:31:50.951Z"
   },
   {
    "duration": 14,
    "start_time": "2021-11-19T11:31:50.973Z"
   },
   {
    "duration": 5,
    "start_time": "2021-11-19T11:31:50.989Z"
   },
   {
    "duration": 8,
    "start_time": "2021-11-19T11:31:50.996Z"
   },
   {
    "duration": 5,
    "start_time": "2021-11-19T11:31:51.006Z"
   },
   {
    "duration": 32,
    "start_time": "2021-11-19T11:31:51.013Z"
   },
   {
    "duration": 7,
    "start_time": "2021-11-19T11:31:51.047Z"
   },
   {
    "duration": 10,
    "start_time": "2021-11-19T11:31:51.056Z"
   },
   {
    "duration": 10,
    "start_time": "2021-11-19T11:31:51.067Z"
   },
   {
    "duration": 2,
    "start_time": "2021-11-19T11:31:51.079Z"
   },
   {
    "duration": 10,
    "start_time": "2021-11-19T11:31:51.082Z"
   },
   {
    "duration": 6,
    "start_time": "2021-11-19T11:31:51.094Z"
   },
   {
    "duration": 7,
    "start_time": "2021-11-19T11:31:51.145Z"
   },
   {
    "duration": 16,
    "start_time": "2021-11-19T11:31:51.154Z"
   },
   {
    "duration": 32,
    "start_time": "2021-11-19T11:31:51.171Z"
   },
   {
    "duration": 40,
    "start_time": "2021-11-19T11:31:51.205Z"
   },
   {
    "duration": 34,
    "start_time": "2021-11-19T11:31:51.247Z"
   },
   {
    "duration": 9,
    "start_time": "2021-11-19T11:31:51.283Z"
   },
   {
    "duration": 10,
    "start_time": "2021-11-19T11:31:51.296Z"
   },
   {
    "duration": 41,
    "start_time": "2021-11-19T11:31:51.308Z"
   },
   {
    "duration": 11,
    "start_time": "2021-11-19T11:31:51.351Z"
   },
   {
    "duration": 12,
    "start_time": "2021-11-19T11:31:51.364Z"
   },
   {
    "duration": 17,
    "start_time": "2021-11-19T11:31:51.378Z"
   },
   {
    "duration": 69,
    "start_time": "2021-11-19T11:31:51.397Z"
   },
   {
    "duration": 5,
    "start_time": "2021-11-19T11:31:51.468Z"
   },
   {
    "duration": 13,
    "start_time": "2021-11-19T11:31:51.474Z"
   },
   {
    "duration": 29,
    "start_time": "2021-11-19T11:31:51.489Z"
   },
   {
    "duration": 25,
    "start_time": "2021-11-19T11:31:51.545Z"
   },
   {
    "duration": 215,
    "start_time": "2021-11-19T11:31:51.572Z"
   },
   {
    "duration": 2700,
    "start_time": "2021-11-19T11:31:51.789Z"
   },
   {
    "duration": 63,
    "start_time": "2021-11-19T11:31:54.491Z"
   },
   {
    "duration": 7,
    "start_time": "2021-11-19T11:31:54.556Z"
   },
   {
    "duration": 13,
    "start_time": "2021-11-19T11:31:54.565Z"
   },
   {
    "duration": 72,
    "start_time": "2021-11-19T11:31:54.580Z"
   },
   {
    "duration": 5,
    "start_time": "2021-11-19T11:31:54.654Z"
   },
   {
    "duration": 33,
    "start_time": "2021-11-19T11:31:54.661Z"
   },
   {
    "duration": 81,
    "start_time": "2021-11-19T11:31:54.696Z"
   },
   {
    "duration": 3774,
    "start_time": "2021-11-19T11:31:54.779Z"
   },
   {
    "duration": 20,
    "start_time": "2021-11-19T11:31:58.554Z"
   },
   {
    "duration": 23,
    "start_time": "2021-11-19T11:31:58.575Z"
   },
   {
    "duration": 16,
    "start_time": "2021-11-19T11:31:58.600Z"
   },
   {
    "duration": 30,
    "start_time": "2021-11-19T11:31:58.618Z"
   },
   {
    "duration": 5,
    "start_time": "2021-11-19T11:32:25.844Z"
   },
   {
    "duration": 61,
    "start_time": "2021-11-19T11:32:31.998Z"
   },
   {
    "duration": 12,
    "start_time": "2021-11-19T11:32:32.062Z"
   },
   {
    "duration": 9,
    "start_time": "2021-11-19T11:32:32.076Z"
   },
   {
    "duration": 6,
    "start_time": "2021-11-19T11:32:32.087Z"
   },
   {
    "duration": 49,
    "start_time": "2021-11-19T11:32:32.095Z"
   },
   {
    "duration": 8,
    "start_time": "2021-11-19T11:32:32.147Z"
   },
   {
    "duration": 13,
    "start_time": "2021-11-19T11:32:32.157Z"
   },
   {
    "duration": 16,
    "start_time": "2021-11-19T11:32:32.178Z"
   },
   {
    "duration": 8,
    "start_time": "2021-11-19T11:32:32.197Z"
   },
   {
    "duration": 41,
    "start_time": "2021-11-19T11:32:32.207Z"
   },
   {
    "duration": 23,
    "start_time": "2021-11-19T11:32:32.250Z"
   },
   {
    "duration": 34,
    "start_time": "2021-11-19T11:32:32.275Z"
   },
   {
    "duration": 19,
    "start_time": "2021-11-19T11:32:32.311Z"
   },
   {
    "duration": 14,
    "start_time": "2021-11-19T11:32:32.332Z"
   },
   {
    "duration": 27,
    "start_time": "2021-11-19T11:32:32.347Z"
   },
   {
    "duration": 21,
    "start_time": "2021-11-19T11:32:32.375Z"
   },
   {
    "duration": 22,
    "start_time": "2021-11-19T11:32:32.398Z"
   },
   {
    "duration": 42,
    "start_time": "2021-11-19T11:32:32.422Z"
   },
   {
    "duration": 33,
    "start_time": "2021-11-19T11:32:32.467Z"
   },
   {
    "duration": 11,
    "start_time": "2021-11-19T11:32:32.502Z"
   },
   {
    "duration": 49,
    "start_time": "2021-11-19T11:32:32.515Z"
   },
   {
    "duration": 13,
    "start_time": "2021-11-19T11:32:32.566Z"
   },
   {
    "duration": 27,
    "start_time": "2021-11-19T11:32:32.584Z"
   },
   {
    "duration": 33,
    "start_time": "2021-11-19T11:32:32.614Z"
   },
   {
    "duration": 31,
    "start_time": "2021-11-19T11:32:32.649Z"
   },
   {
    "duration": 12,
    "start_time": "2021-11-19T11:32:32.682Z"
   },
   {
    "duration": 25,
    "start_time": "2021-11-19T11:32:32.695Z"
   },
   {
    "duration": 39,
    "start_time": "2021-11-19T11:32:32.722Z"
   },
   {
    "duration": 5,
    "start_time": "2021-11-19T11:32:32.763Z"
   },
   {
    "duration": 15,
    "start_time": "2021-11-19T11:32:32.770Z"
   },
   {
    "duration": 27,
    "start_time": "2021-11-19T11:32:32.786Z"
   },
   {
    "duration": 49,
    "start_time": "2021-11-19T11:32:32.816Z"
   },
   {
    "duration": 240,
    "start_time": "2021-11-19T11:32:32.868Z"
   },
   {
    "duration": 2712,
    "start_time": "2021-11-19T11:32:33.111Z"
   },
   {
    "duration": 24,
    "start_time": "2021-11-19T11:32:35.825Z"
   },
   {
    "duration": 39,
    "start_time": "2021-11-19T11:32:35.851Z"
   },
   {
    "duration": 37,
    "start_time": "2021-11-19T11:32:35.892Z"
   },
   {
    "duration": 27,
    "start_time": "2021-11-19T11:32:35.931Z"
   },
   {
    "duration": 21,
    "start_time": "2021-11-19T11:32:35.960Z"
   },
   {
    "duration": 33,
    "start_time": "2021-11-19T11:32:35.983Z"
   },
   {
    "duration": 74,
    "start_time": "2021-11-19T11:32:36.017Z"
   },
   {
    "duration": 3104,
    "start_time": "2021-11-19T11:32:36.093Z"
   },
   {
    "duration": 20,
    "start_time": "2021-11-19T11:32:39.199Z"
   },
   {
    "duration": 34,
    "start_time": "2021-11-19T11:32:39.221Z"
   },
   {
    "duration": 18,
    "start_time": "2021-11-19T11:32:39.257Z"
   },
   {
    "duration": 30,
    "start_time": "2021-11-19T11:32:39.278Z"
   },
   {
    "duration": 61,
    "start_time": "2021-11-19T11:33:12.720Z"
   },
   {
    "duration": 10,
    "start_time": "2021-11-19T11:33:12.783Z"
   },
   {
    "duration": 14,
    "start_time": "2021-11-19T11:33:12.795Z"
   },
   {
    "duration": 13,
    "start_time": "2021-11-19T11:33:12.811Z"
   },
   {
    "duration": 21,
    "start_time": "2021-11-19T11:33:12.825Z"
   },
   {
    "duration": 7,
    "start_time": "2021-11-19T11:33:12.847Z"
   },
   {
    "duration": 15,
    "start_time": "2021-11-19T11:33:12.856Z"
   },
   {
    "duration": 26,
    "start_time": "2021-11-19T11:33:12.873Z"
   },
   {
    "duration": 7,
    "start_time": "2021-11-19T11:33:12.901Z"
   },
   {
    "duration": 12,
    "start_time": "2021-11-19T11:33:12.910Z"
   },
   {
    "duration": 9,
    "start_time": "2021-11-19T11:33:12.924Z"
   },
   {
    "duration": 31,
    "start_time": "2021-11-19T11:33:12.934Z"
   },
   {
    "duration": 9,
    "start_time": "2021-11-19T11:33:12.967Z"
   },
   {
    "duration": 24,
    "start_time": "2021-11-19T11:33:12.978Z"
   },
   {
    "duration": 23,
    "start_time": "2021-11-19T11:33:13.004Z"
   },
   {
    "duration": 15,
    "start_time": "2021-11-19T11:33:13.028Z"
   },
   {
    "duration": 8,
    "start_time": "2021-11-19T11:33:16.019Z"
   },
   {
    "duration": 2,
    "start_time": "2021-11-19T11:33:34.854Z"
   },
   {
    "duration": 7,
    "start_time": "2021-11-19T11:49:08.247Z"
   },
   {
    "duration": 63,
    "start_time": "2021-11-19T11:55:17.139Z"
   },
   {
    "duration": 10,
    "start_time": "2021-11-19T11:55:17.204Z"
   },
   {
    "duration": 9,
    "start_time": "2021-11-19T11:55:17.216Z"
   },
   {
    "duration": 6,
    "start_time": "2021-11-19T11:55:17.245Z"
   },
   {
    "duration": 7,
    "start_time": "2021-11-19T11:55:17.253Z"
   },
   {
    "duration": 8,
    "start_time": "2021-11-19T11:55:17.261Z"
   },
   {
    "duration": 7,
    "start_time": "2021-11-19T11:55:17.271Z"
   },
   {
    "duration": 11,
    "start_time": "2021-11-19T11:55:17.281Z"
   },
   {
    "duration": 5,
    "start_time": "2021-11-19T11:55:17.295Z"
   },
   {
    "duration": 7,
    "start_time": "2021-11-19T11:55:17.345Z"
   },
   {
    "duration": 8,
    "start_time": "2021-11-19T11:55:17.354Z"
   },
   {
    "duration": 11,
    "start_time": "2021-11-19T11:55:17.363Z"
   },
   {
    "duration": 10,
    "start_time": "2021-11-19T11:55:17.376Z"
   },
   {
    "duration": 3,
    "start_time": "2021-11-19T11:55:17.388Z"
   },
   {
    "duration": 11,
    "start_time": "2021-11-19T11:55:17.392Z"
   },
   {
    "duration": 41,
    "start_time": "2021-11-19T11:55:17.404Z"
   },
   {
    "duration": 8,
    "start_time": "2021-11-19T11:55:17.446Z"
   },
   {
    "duration": 16,
    "start_time": "2021-11-19T11:55:17.455Z"
   },
   {
    "duration": 6,
    "start_time": "2021-11-19T11:55:17.473Z"
   },
   {
    "duration": 11,
    "start_time": "2021-11-19T11:55:20.617Z"
   },
   {
    "duration": 33,
    "start_time": "2021-11-19T11:56:47.103Z"
   },
   {
    "duration": 11,
    "start_time": "2021-11-19T12:11:39.184Z"
   },
   {
    "duration": 60,
    "start_time": "2021-11-19T12:12:09.961Z"
   },
   {
    "duration": 11,
    "start_time": "2021-11-19T12:12:10.022Z"
   },
   {
    "duration": 10,
    "start_time": "2021-11-19T12:12:10.035Z"
   },
   {
    "duration": 19,
    "start_time": "2021-11-19T12:12:10.047Z"
   },
   {
    "duration": 7,
    "start_time": "2021-11-19T12:12:10.068Z"
   },
   {
    "duration": 8,
    "start_time": "2021-11-19T12:12:10.076Z"
   },
   {
    "duration": 7,
    "start_time": "2021-11-19T12:12:10.085Z"
   },
   {
    "duration": 7,
    "start_time": "2021-11-19T12:12:10.095Z"
   },
   {
    "duration": 6,
    "start_time": "2021-11-19T12:12:10.104Z"
   },
   {
    "duration": 33,
    "start_time": "2021-11-19T12:12:10.111Z"
   },
   {
    "duration": 5,
    "start_time": "2021-11-19T12:12:10.146Z"
   },
   {
    "duration": 22,
    "start_time": "2021-11-19T12:12:10.152Z"
   },
   {
    "duration": 13,
    "start_time": "2021-11-19T12:12:10.176Z"
   },
   {
    "duration": 15,
    "start_time": "2021-11-19T12:12:10.190Z"
   },
   {
    "duration": 10,
    "start_time": "2021-11-19T12:12:10.207Z"
   },
   {
    "duration": 2,
    "start_time": "2021-11-19T12:12:10.219Z"
   },
   {
    "duration": 9,
    "start_time": "2021-11-19T12:12:10.223Z"
   },
   {
    "duration": 21,
    "start_time": "2021-11-19T12:12:10.233Z"
   },
   {
    "duration": 5,
    "start_time": "2021-11-19T12:12:10.256Z"
   },
   {
    "duration": 12,
    "start_time": "2021-11-19T12:12:13.665Z"
   },
   {
    "duration": 12,
    "start_time": "2021-11-19T12:12:41.628Z"
   },
   {
    "duration": 4,
    "start_time": "2021-11-19T12:35:24.284Z"
   },
   {
    "duration": 4,
    "start_time": "2021-11-19T12:35:34.756Z"
   },
   {
    "duration": 4,
    "start_time": "2021-11-19T12:35:41.695Z"
   },
   {
    "duration": 4,
    "start_time": "2021-11-19T12:35:53.794Z"
   },
   {
    "duration": 4,
    "start_time": "2021-11-19T12:36:25.384Z"
   },
   {
    "duration": 4,
    "start_time": "2021-11-19T12:36:33.269Z"
   },
   {
    "duration": 3,
    "start_time": "2021-11-19T12:36:41.156Z"
   },
   {
    "duration": 5,
    "start_time": "2021-11-19T12:42:43.312Z"
   },
   {
    "duration": 8,
    "start_time": "2021-11-19T12:42:52.795Z"
   },
   {
    "duration": 10,
    "start_time": "2021-11-19T12:43:34.459Z"
   },
   {
    "duration": 8,
    "start_time": "2021-11-19T12:43:59.445Z"
   },
   {
    "duration": 8,
    "start_time": "2021-11-19T12:44:14.080Z"
   },
   {
    "duration": 14,
    "start_time": "2021-11-19T12:53:17.217Z"
   },
   {
    "duration": 11,
    "start_time": "2021-11-19T12:53:42.891Z"
   },
   {
    "duration": 29,
    "start_time": "2021-11-19T13:00:06.547Z"
   },
   {
    "duration": 1026,
    "start_time": "2021-11-19T13:00:59.845Z"
   },
   {
    "duration": 280,
    "start_time": "2021-11-19T13:01:17.737Z"
   },
   {
    "duration": 27,
    "start_time": "2021-11-19T13:02:06.187Z"
   },
   {
    "duration": 38,
    "start_time": "2021-11-19T13:02:21.073Z"
   },
   {
    "duration": 289,
    "start_time": "2021-11-19T13:02:53.325Z"
   },
   {
    "duration": 24,
    "start_time": "2021-11-19T13:03:43.953Z"
   },
   {
    "duration": 38,
    "start_time": "2021-11-19T13:04:12.938Z"
   },
   {
    "duration": 11,
    "start_time": "2021-11-19T13:04:52.476Z"
   },
   {
    "duration": 12,
    "start_time": "2021-11-19T13:05:12.112Z"
   },
   {
    "duration": 13,
    "start_time": "2021-11-19T13:05:32.299Z"
   },
   {
    "duration": 13,
    "start_time": "2021-11-19T13:05:57.678Z"
   },
   {
    "duration": 57,
    "start_time": "2021-11-19T13:06:12.717Z"
   },
   {
    "duration": 11,
    "start_time": "2021-11-19T13:06:12.776Z"
   },
   {
    "duration": 8,
    "start_time": "2021-11-19T13:06:12.789Z"
   },
   {
    "duration": 5,
    "start_time": "2021-11-19T13:06:12.799Z"
   },
   {
    "duration": 40,
    "start_time": "2021-11-19T13:06:12.805Z"
   },
   {
    "duration": 7,
    "start_time": "2021-11-19T13:06:12.847Z"
   },
   {
    "duration": 8,
    "start_time": "2021-11-19T13:06:12.856Z"
   },
   {
    "duration": 13,
    "start_time": "2021-11-19T13:06:12.867Z"
   },
   {
    "duration": 8,
    "start_time": "2021-11-19T13:06:12.882Z"
   },
   {
    "duration": 5,
    "start_time": "2021-11-19T13:06:12.892Z"
   },
   {
    "duration": 7,
    "start_time": "2021-11-19T13:06:12.899Z"
   },
   {
    "duration": 11,
    "start_time": "2021-11-19T13:06:12.944Z"
   },
   {
    "duration": 13,
    "start_time": "2021-11-19T13:06:12.956Z"
   },
   {
    "duration": 3,
    "start_time": "2021-11-19T13:06:12.970Z"
   },
   {
    "duration": 13,
    "start_time": "2021-11-19T13:06:12.974Z"
   },
   {
    "duration": 2,
    "start_time": "2021-11-19T13:06:12.989Z"
   },
   {
    "duration": 12,
    "start_time": "2021-11-19T13:06:12.993Z"
   },
   {
    "duration": 43,
    "start_time": "2021-11-19T13:06:13.006Z"
   },
   {
    "duration": 7,
    "start_time": "2021-11-19T13:06:13.051Z"
   },
   {
    "duration": 15,
    "start_time": "2021-11-19T13:06:13.060Z"
   },
   {
    "duration": 34,
    "start_time": "2021-11-19T13:06:13.076Z"
   },
   {
    "duration": 13,
    "start_time": "2021-11-19T13:06:16.244Z"
   },
   {
    "duration": 13,
    "start_time": "2021-11-19T13:06:35.286Z"
   },
   {
    "duration": 7,
    "start_time": "2021-11-19T13:07:29.154Z"
   },
   {
    "duration": 7,
    "start_time": "2021-11-19T13:07:52.618Z"
   },
   {
    "duration": 8,
    "start_time": "2021-11-19T13:08:09.666Z"
   },
   {
    "duration": 13,
    "start_time": "2021-11-19T13:08:54.289Z"
   },
   {
    "duration": 5,
    "start_time": "2021-11-19T13:18:52.097Z"
   },
   {
    "duration": 19,
    "start_time": "2021-11-19T13:19:04.235Z"
   },
   {
    "duration": 10,
    "start_time": "2021-11-19T13:20:06.158Z"
   },
   {
    "duration": 8,
    "start_time": "2021-11-19T13:20:25.612Z"
   },
   {
    "duration": 280,
    "start_time": "2021-11-19T13:23:40.320Z"
   },
   {
    "duration": 8,
    "start_time": "2021-11-19T13:23:57.737Z"
   },
   {
    "duration": 882,
    "start_time": "2021-11-19T16:39:32.956Z"
   },
   {
    "duration": 22,
    "start_time": "2021-11-19T16:39:33.841Z"
   },
   {
    "duration": 17,
    "start_time": "2021-11-19T16:39:33.867Z"
   },
   {
    "duration": 8,
    "start_time": "2021-11-19T16:39:33.887Z"
   },
   {
    "duration": 10,
    "start_time": "2021-11-19T16:39:33.898Z"
   },
   {
    "duration": 11,
    "start_time": "2021-11-19T16:39:33.911Z"
   },
   {
    "duration": 9,
    "start_time": "2021-11-19T16:39:33.960Z"
   },
   {
    "duration": 15,
    "start_time": "2021-11-19T16:39:33.974Z"
   },
   {
    "duration": 7,
    "start_time": "2021-11-19T16:39:33.992Z"
   },
   {
    "duration": 11,
    "start_time": "2021-11-19T16:39:34.001Z"
   },
   {
    "duration": 9,
    "start_time": "2021-11-19T16:39:34.061Z"
   },
   {
    "duration": 21,
    "start_time": "2021-11-19T16:39:34.073Z"
   },
   {
    "duration": 20,
    "start_time": "2021-11-19T16:39:34.096Z"
   },
   {
    "duration": 3,
    "start_time": "2021-11-19T16:39:34.119Z"
   },
   {
    "duration": 43,
    "start_time": "2021-11-19T16:39:34.125Z"
   },
   {
    "duration": 9,
    "start_time": "2021-11-19T16:39:34.171Z"
   },
   {
    "duration": 17,
    "start_time": "2021-11-19T16:39:34.183Z"
   },
   {
    "duration": 25,
    "start_time": "2021-11-19T16:39:34.202Z"
   },
   {
    "duration": 36,
    "start_time": "2021-11-19T16:39:34.229Z"
   },
   {
    "duration": 27,
    "start_time": "2021-11-19T16:39:34.268Z"
   },
   {
    "duration": 79,
    "start_time": "2021-11-19T16:39:34.297Z"
   },
   {
    "duration": 52,
    "start_time": "2021-11-19T16:39:34.379Z"
   },
   {
    "duration": 10,
    "start_time": "2021-11-19T16:39:34.435Z"
   },
   {
    "duration": 16,
    "start_time": "2021-11-19T16:39:38.109Z"
   },
   {
    "duration": 17,
    "start_time": "2021-11-19T16:39:48.561Z"
   },
   {
    "duration": 14,
    "start_time": "2021-11-19T16:39:54.950Z"
   },
   {
    "duration": 566,
    "start_time": "2021-11-19T16:46:12.839Z"
   },
   {
    "duration": 16,
    "start_time": "2021-11-19T16:46:45.192Z"
   },
   {
    "duration": 606,
    "start_time": "2021-11-19T16:47:16.595Z"
   },
   {
    "duration": 10889,
    "start_time": "2021-11-19T16:47:32.436Z"
   },
   {
    "duration": 17,
    "start_time": "2021-11-19T16:48:24.903Z"
   },
   {
    "duration": 77,
    "start_time": "2021-11-19T16:48:28.013Z"
   },
   {
    "duration": 15,
    "start_time": "2021-11-19T16:48:28.093Z"
   },
   {
    "duration": 11,
    "start_time": "2021-11-19T16:48:28.111Z"
   },
   {
    "duration": 39,
    "start_time": "2021-11-19T16:48:28.125Z"
   },
   {
    "duration": 12,
    "start_time": "2021-11-19T16:48:28.166Z"
   },
   {
    "duration": 11,
    "start_time": "2021-11-19T16:48:28.180Z"
   },
   {
    "duration": 9,
    "start_time": "2021-11-19T16:48:28.193Z"
   },
   {
    "duration": 57,
    "start_time": "2021-11-19T16:48:28.206Z"
   },
   {
    "duration": 6,
    "start_time": "2021-11-19T16:48:28.266Z"
   },
   {
    "duration": 7,
    "start_time": "2021-11-19T16:48:28.275Z"
   },
   {
    "duration": 12,
    "start_time": "2021-11-19T16:48:28.284Z"
   },
   {
    "duration": 12,
    "start_time": "2021-11-19T16:48:28.298Z"
   },
   {
    "duration": 52,
    "start_time": "2021-11-19T16:48:28.312Z"
   },
   {
    "duration": 3,
    "start_time": "2021-11-19T16:48:28.366Z"
   },
   {
    "duration": 13,
    "start_time": "2021-11-19T16:48:28.371Z"
   },
   {
    "duration": 3,
    "start_time": "2021-11-19T16:48:28.386Z"
   },
   {
    "duration": 13,
    "start_time": "2021-11-19T16:48:28.392Z"
   },
   {
    "duration": 65,
    "start_time": "2021-11-19T16:48:28.408Z"
   },
   {
    "duration": 9,
    "start_time": "2021-11-19T16:48:28.476Z"
   },
   {
    "duration": 21,
    "start_time": "2021-11-19T16:48:28.487Z"
   },
   {
    "duration": 89,
    "start_time": "2021-11-19T16:48:28.510Z"
   },
   {
    "duration": 21,
    "start_time": "2021-11-19T16:48:28.601Z"
   },
   {
    "duration": 38,
    "start_time": "2021-11-19T16:48:28.626Z"
   },
   {
    "duration": 16,
    "start_time": "2021-11-19T16:48:28.667Z"
   },
   {
    "duration": 17,
    "start_time": "2021-11-19T16:48:31.782Z"
   },
   {
    "duration": 372,
    "start_time": "2021-11-19T16:48:48.257Z"
   },
   {
    "duration": 17,
    "start_time": "2021-11-19T16:48:54.801Z"
   },
   {
    "duration": 623,
    "start_time": "2021-11-19T16:58:13.320Z"
   },
   {
    "duration": 18,
    "start_time": "2021-11-19T16:58:21.552Z"
   },
   {
    "duration": 41,
    "start_time": "2021-11-19T17:12:20.937Z"
   },
   {
    "duration": 41,
    "start_time": "2021-11-19T17:12:22.904Z"
   },
   {
    "duration": 61,
    "start_time": "2021-11-19T17:12:59.050Z"
   },
   {
    "duration": 79,
    "start_time": "2021-11-19T17:13:14.795Z"
   },
   {
    "duration": 16,
    "start_time": "2021-11-19T17:13:14.876Z"
   },
   {
    "duration": 11,
    "start_time": "2021-11-19T17:13:14.895Z"
   },
   {
    "duration": 7,
    "start_time": "2021-11-19T17:13:14.908Z"
   },
   {
    "duration": 46,
    "start_time": "2021-11-19T17:13:14.917Z"
   },
   {
    "duration": 12,
    "start_time": "2021-11-19T17:13:14.965Z"
   },
   {
    "duration": 7,
    "start_time": "2021-11-19T17:13:14.980Z"
   },
   {
    "duration": 14,
    "start_time": "2021-11-19T17:13:14.991Z"
   },
   {
    "duration": 10,
    "start_time": "2021-11-19T17:13:15.060Z"
   },
   {
    "duration": 24,
    "start_time": "2021-11-19T17:13:15.073Z"
   },
   {
    "duration": 27,
    "start_time": "2021-11-19T17:13:15.099Z"
   },
   {
    "duration": 21,
    "start_time": "2021-11-19T17:13:15.128Z"
   },
   {
    "duration": 16,
    "start_time": "2021-11-19T17:13:15.151Z"
   },
   {
    "duration": 17,
    "start_time": "2021-11-19T17:13:15.169Z"
   },
   {
    "duration": 16,
    "start_time": "2021-11-19T17:13:15.189Z"
   },
   {
    "duration": 3,
    "start_time": "2021-11-19T17:13:15.208Z"
   },
   {
    "duration": 24,
    "start_time": "2021-11-19T17:13:15.213Z"
   },
   {
    "duration": 34,
    "start_time": "2021-11-19T17:13:15.239Z"
   },
   {
    "duration": 8,
    "start_time": "2021-11-19T17:13:15.276Z"
   },
   {
    "duration": 21,
    "start_time": "2021-11-19T17:13:15.286Z"
   },
   {
    "duration": 77,
    "start_time": "2021-11-19T17:13:15.311Z"
   },
   {
    "duration": 19,
    "start_time": "2021-11-19T17:13:15.391Z"
   },
   {
    "duration": 10,
    "start_time": "2021-11-19T17:13:15.412Z"
   },
   {
    "duration": 44,
    "start_time": "2021-11-19T17:13:15.424Z"
   },
   {
    "duration": 18,
    "start_time": "2021-11-19T17:13:15.471Z"
   },
   {
    "duration": 59,
    "start_time": "2021-11-19T17:13:20.555Z"
   },
   {
    "duration": 49,
    "start_time": "2021-11-19T17:14:57.273Z"
   },
   {
    "duration": 23,
    "start_time": "2021-11-19T17:15:24.116Z"
   },
   {
    "duration": 82,
    "start_time": "2021-11-19T17:16:20.371Z"
   },
   {
    "duration": 16,
    "start_time": "2021-11-19T17:16:20.456Z"
   },
   {
    "duration": 16,
    "start_time": "2021-11-19T17:16:20.477Z"
   },
   {
    "duration": 9,
    "start_time": "2021-11-19T17:16:20.496Z"
   },
   {
    "duration": 58,
    "start_time": "2021-11-19T17:16:20.508Z"
   },
   {
    "duration": 11,
    "start_time": "2021-11-19T17:16:20.569Z"
   },
   {
    "duration": 11,
    "start_time": "2021-11-19T17:16:20.582Z"
   },
   {
    "duration": 20,
    "start_time": "2021-11-19T17:16:20.597Z"
   },
   {
    "duration": 41,
    "start_time": "2021-11-19T17:16:20.620Z"
   },
   {
    "duration": 10,
    "start_time": "2021-11-19T17:16:20.663Z"
   },
   {
    "duration": 9,
    "start_time": "2021-11-19T17:16:20.675Z"
   },
   {
    "duration": 13,
    "start_time": "2021-11-19T17:16:20.686Z"
   },
   {
    "duration": 62,
    "start_time": "2021-11-19T17:16:20.701Z"
   },
   {
    "duration": 3,
    "start_time": "2021-11-19T17:16:20.765Z"
   },
   {
    "duration": 16,
    "start_time": "2021-11-19T17:16:20.770Z"
   },
   {
    "duration": 3,
    "start_time": "2021-11-19T17:16:20.788Z"
   },
   {
    "duration": 13,
    "start_time": "2021-11-19T17:16:20.794Z"
   },
   {
    "duration": 63,
    "start_time": "2021-11-19T17:16:20.809Z"
   },
   {
    "duration": 7,
    "start_time": "2021-11-19T17:16:20.874Z"
   },
   {
    "duration": 22,
    "start_time": "2021-11-19T17:16:20.883Z"
   },
   {
    "duration": 85,
    "start_time": "2021-11-19T17:16:20.908Z"
   },
   {
    "duration": 19,
    "start_time": "2021-11-19T17:16:20.995Z"
   },
   {
    "duration": 43,
    "start_time": "2021-11-19T17:16:21.019Z"
   },
   {
    "duration": 15,
    "start_time": "2021-11-19T17:16:21.066Z"
   },
   {
    "duration": 18,
    "start_time": "2021-11-19T17:16:21.084Z"
   },
   {
    "duration": 80,
    "start_time": "2021-11-19T17:16:21.104Z"
   },
   {
    "duration": 2,
    "start_time": "2021-11-19T17:16:21.187Z"
   },
   {
    "duration": 17,
    "start_time": "2021-11-19T17:16:21.192Z"
   },
   {
    "duration": 15,
    "start_time": "2021-11-19T17:16:21.212Z"
   },
   {
    "duration": 15,
    "start_time": "2021-11-19T17:16:21.260Z"
   },
   {
    "duration": 18,
    "start_time": "2021-11-19T17:16:21.278Z"
   },
   {
    "duration": 23,
    "start_time": "2021-11-19T17:16:21.299Z"
   },
   {
    "duration": 80,
    "start_time": "2021-11-19T17:16:21.325Z"
   },
   {
    "duration": 5,
    "start_time": "2021-11-19T17:16:21.407Z"
   },
   {
    "duration": 44,
    "start_time": "2021-11-19T17:16:21.415Z"
   },
   {
    "duration": 43,
    "start_time": "2021-11-19T17:16:21.462Z"
   },
   {
    "duration": 24,
    "start_time": "2021-11-19T17:16:21.507Z"
   },
   {
    "duration": 263,
    "start_time": "2021-11-19T17:16:21.533Z"
   },
   {
    "duration": 3283,
    "start_time": "2021-11-19T17:16:21.799Z"
   },
   {
    "duration": 14,
    "start_time": "2021-11-19T17:16:25.084Z"
   },
   {
    "duration": 8,
    "start_time": "2021-11-19T17:16:25.100Z"
   },
   {
    "duration": 49,
    "start_time": "2021-11-19T17:16:25.110Z"
   },
   {
    "duration": 43,
    "start_time": "2021-11-19T17:16:25.162Z"
   },
   {
    "duration": 10,
    "start_time": "2021-11-19T17:16:25.208Z"
   },
   {
    "duration": 46,
    "start_time": "2021-11-19T17:16:25.220Z"
   },
   {
    "duration": 91,
    "start_time": "2021-11-19T17:16:25.268Z"
   },
   {
    "duration": 3933,
    "start_time": "2021-11-19T17:16:25.361Z"
   },
   {
    "duration": 27,
    "start_time": "2021-11-19T17:16:29.296Z"
   },
   {
    "duration": 40,
    "start_time": "2021-11-19T17:16:29.327Z"
   },
   {
    "duration": 20,
    "start_time": "2021-11-19T17:16:29.369Z"
   },
   {
    "duration": 21,
    "start_time": "2021-11-19T17:16:29.391Z"
   },
   {
    "duration": 914,
    "start_time": "2021-11-19T17:16:43.156Z"
   },
   {
    "duration": 15,
    "start_time": "2021-11-19T17:16:44.073Z"
   },
   {
    "duration": 18,
    "start_time": "2021-11-19T17:16:44.091Z"
   },
   {
    "duration": 7,
    "start_time": "2021-11-19T17:16:44.112Z"
   },
   {
    "duration": 38,
    "start_time": "2021-11-19T17:16:44.121Z"
   },
   {
    "duration": 9,
    "start_time": "2021-11-19T17:16:44.162Z"
   },
   {
    "duration": 13,
    "start_time": "2021-11-19T17:16:44.173Z"
   },
   {
    "duration": 11,
    "start_time": "2021-11-19T17:16:44.190Z"
   },
   {
    "duration": 7,
    "start_time": "2021-11-19T17:16:44.203Z"
   },
   {
    "duration": 51,
    "start_time": "2021-11-19T17:16:44.213Z"
   },
   {
    "duration": 9,
    "start_time": "2021-11-19T17:16:44.267Z"
   },
   {
    "duration": 14,
    "start_time": "2021-11-19T17:16:44.278Z"
   },
   {
    "duration": 12,
    "start_time": "2021-11-19T17:16:44.294Z"
   },
   {
    "duration": 5,
    "start_time": "2021-11-19T17:16:44.308Z"
   },
   {
    "duration": 52,
    "start_time": "2021-11-19T17:16:44.316Z"
   },
   {
    "duration": 4,
    "start_time": "2021-11-19T17:16:44.371Z"
   },
   {
    "duration": 13,
    "start_time": "2021-11-19T17:16:44.378Z"
   },
   {
    "duration": 76,
    "start_time": "2021-11-19T17:16:44.393Z"
   },
   {
    "duration": 9,
    "start_time": "2021-11-19T17:16:44.472Z"
   },
   {
    "duration": 19,
    "start_time": "2021-11-19T17:16:44.484Z"
   },
   {
    "duration": 85,
    "start_time": "2021-11-19T17:16:44.506Z"
   },
   {
    "duration": 28,
    "start_time": "2021-11-19T17:16:44.594Z"
   },
   {
    "duration": 34,
    "start_time": "2021-11-19T17:16:44.627Z"
   },
   {
    "duration": 15,
    "start_time": "2021-11-19T17:16:44.664Z"
   },
   {
    "duration": 20,
    "start_time": "2021-11-19T17:16:44.681Z"
   },
   {
    "duration": 91,
    "start_time": "2021-11-19T17:16:44.704Z"
   },
   {
    "duration": 4,
    "start_time": "2021-11-19T17:16:44.798Z"
   },
   {
    "duration": 22,
    "start_time": "2021-11-19T17:16:44.804Z"
   },
   {
    "duration": 36,
    "start_time": "2021-11-19T17:16:44.828Z"
   },
   {
    "duration": 18,
    "start_time": "2021-11-19T17:16:44.866Z"
   },
   {
    "duration": 19,
    "start_time": "2021-11-19T17:16:44.886Z"
   },
   {
    "duration": 22,
    "start_time": "2021-11-19T17:16:44.907Z"
   },
   {
    "duration": 48,
    "start_time": "2021-11-19T17:16:44.960Z"
   },
   {
    "duration": 6,
    "start_time": "2021-11-19T17:16:45.012Z"
   },
   {
    "duration": 40,
    "start_time": "2021-11-19T17:16:45.021Z"
   },
   {
    "duration": 43,
    "start_time": "2021-11-19T17:16:45.064Z"
   },
   {
    "duration": 22,
    "start_time": "2021-11-19T17:16:45.109Z"
   },
   {
    "duration": 259,
    "start_time": "2021-11-19T17:16:45.133Z"
   },
   {
    "duration": 3186,
    "start_time": "2021-11-19T17:16:45.395Z"
   },
   {
    "duration": 13,
    "start_time": "2021-11-19T17:16:48.583Z"
   },
   {
    "duration": 10,
    "start_time": "2021-11-19T17:16:48.598Z"
   },
   {
    "duration": 22,
    "start_time": "2021-11-19T17:16:48.610Z"
   },
   {
    "duration": 44,
    "start_time": "2021-11-19T17:16:48.660Z"
   },
   {
    "duration": 11,
    "start_time": "2021-11-19T17:16:48.706Z"
   },
   {
    "duration": 45,
    "start_time": "2021-11-19T17:16:48.719Z"
   },
   {
    "duration": 80,
    "start_time": "2021-11-19T17:16:48.766Z"
   },
   {
    "duration": 3867,
    "start_time": "2021-11-19T17:16:48.860Z"
   },
   {
    "duration": 42,
    "start_time": "2021-11-19T17:16:52.730Z"
   },
   {
    "duration": 20,
    "start_time": "2021-11-19T17:16:52.774Z"
   },
   {
    "duration": 20,
    "start_time": "2021-11-19T17:16:52.796Z"
   },
   {
    "duration": 54,
    "start_time": "2021-11-19T17:16:52.818Z"
   },
   {
    "duration": 50,
    "start_time": "2021-11-19T17:17:04.842Z"
   },
   {
    "duration": 57,
    "start_time": "2021-11-19T17:17:06.103Z"
   },
   {
    "duration": 35,
    "start_time": "2021-11-19T17:17:39.662Z"
   },
   {
    "duration": 31,
    "start_time": "2021-11-19T17:17:40.472Z"
   },
   {
    "duration": 53,
    "start_time": "2021-11-19T17:18:33.843Z"
   },
   {
    "duration": 51,
    "start_time": "2021-11-19T17:18:34.659Z"
   },
   {
    "duration": 20,
    "start_time": "2021-11-19T17:18:57.025Z"
   },
   {
    "duration": 49,
    "start_time": "2021-11-19T17:18:59.638Z"
   },
   {
    "duration": 509,
    "start_time": "2021-11-19T17:20:11.349Z"
   },
   {
    "duration": 424,
    "start_time": "2021-11-19T17:20:15.750Z"
   },
   {
    "duration": 455,
    "start_time": "2021-11-19T17:20:24.221Z"
   },
   {
    "duration": 39,
    "start_time": "2021-11-19T17:20:31.272Z"
   },
   {
    "duration": 90,
    "start_time": "2021-11-19T17:21:42.079Z"
   },
   {
    "duration": 16,
    "start_time": "2021-11-19T17:21:42.173Z"
   },
   {
    "duration": 12,
    "start_time": "2021-11-19T17:21:42.193Z"
   },
   {
    "duration": 9,
    "start_time": "2021-11-19T17:21:42.207Z"
   },
   {
    "duration": 7,
    "start_time": "2021-11-19T17:21:42.259Z"
   },
   {
    "duration": 8,
    "start_time": "2021-11-19T17:21:42.269Z"
   },
   {
    "duration": 8,
    "start_time": "2021-11-19T17:21:42.280Z"
   },
   {
    "duration": 14,
    "start_time": "2021-11-19T17:21:42.292Z"
   },
   {
    "duration": 7,
    "start_time": "2021-11-19T17:21:42.360Z"
   },
   {
    "duration": 8,
    "start_time": "2021-11-19T17:21:42.369Z"
   },
   {
    "duration": 8,
    "start_time": "2021-11-19T17:21:42.379Z"
   },
   {
    "duration": 12,
    "start_time": "2021-11-19T17:21:42.390Z"
   },
   {
    "duration": 58,
    "start_time": "2021-11-19T17:21:42.404Z"
   },
   {
    "duration": 3,
    "start_time": "2021-11-19T17:21:42.464Z"
   },
   {
    "duration": 14,
    "start_time": "2021-11-19T17:21:42.469Z"
   },
   {
    "duration": 3,
    "start_time": "2021-11-19T17:21:42.486Z"
   },
   {
    "duration": 12,
    "start_time": "2021-11-19T17:21:42.491Z"
   },
   {
    "duration": 67,
    "start_time": "2021-11-19T17:21:42.505Z"
   },
   {
    "duration": 7,
    "start_time": "2021-11-19T17:21:42.575Z"
   },
   {
    "duration": 31,
    "start_time": "2021-11-19T17:21:42.584Z"
   },
   {
    "duration": 83,
    "start_time": "2021-11-19T17:21:42.617Z"
   },
   {
    "duration": 17,
    "start_time": "2021-11-19T17:21:42.702Z"
   },
   {
    "duration": 36,
    "start_time": "2021-11-19T17:21:42.724Z"
   },
   {
    "duration": 15,
    "start_time": "2021-11-19T17:21:42.763Z"
   },
   {
    "duration": 17,
    "start_time": "2021-11-19T17:21:42.780Z"
   },
   {
    "duration": 74,
    "start_time": "2021-11-19T17:21:42.799Z"
   },
   {
    "duration": 3,
    "start_time": "2021-11-19T17:21:42.875Z"
   },
   {
    "duration": 22,
    "start_time": "2021-11-19T17:21:42.880Z"
   },
   {
    "duration": 16,
    "start_time": "2021-11-19T17:21:42.905Z"
   },
   {
    "duration": 45,
    "start_time": "2021-11-19T17:21:42.923Z"
   },
   {
    "duration": 15,
    "start_time": "2021-11-19T17:21:42.971Z"
   },
   {
    "duration": 27,
    "start_time": "2021-11-19T17:21:42.989Z"
   },
   {
    "duration": 72,
    "start_time": "2021-11-19T17:21:43.018Z"
   },
   {
    "duration": 7,
    "start_time": "2021-11-19T17:21:43.092Z"
   },
   {
    "duration": 24,
    "start_time": "2021-11-19T17:21:43.102Z"
   },
   {
    "duration": 70,
    "start_time": "2021-11-19T17:21:43.129Z"
   },
   {
    "duration": 28,
    "start_time": "2021-11-19T17:21:43.202Z"
   },
   {
    "duration": 374,
    "start_time": "2021-11-19T17:21:43.233Z"
   },
   {
    "duration": 3490,
    "start_time": "2021-11-19T17:21:43.610Z"
   },
   {
    "duration": 12,
    "start_time": "2021-11-19T17:21:47.103Z"
   },
   {
    "duration": 13,
    "start_time": "2021-11-19T17:21:47.117Z"
   },
   {
    "duration": 41,
    "start_time": "2021-11-19T17:21:47.132Z"
   },
   {
    "duration": 41,
    "start_time": "2021-11-19T17:21:47.175Z"
   },
   {
    "duration": 7,
    "start_time": "2021-11-19T17:21:47.219Z"
   },
   {
    "duration": 47,
    "start_time": "2021-11-19T17:21:47.229Z"
   },
   {
    "duration": 108,
    "start_time": "2021-11-19T17:21:47.278Z"
   },
   {
    "duration": 4047,
    "start_time": "2021-11-19T17:21:47.388Z"
   },
   {
    "duration": 39,
    "start_time": "2021-11-19T17:21:51.437Z"
   },
   {
    "duration": 20,
    "start_time": "2021-11-19T17:21:51.479Z"
   },
   {
    "duration": 19,
    "start_time": "2021-11-19T17:21:51.502Z"
   },
   {
    "duration": 52,
    "start_time": "2021-11-19T17:21:51.524Z"
   },
   {
    "duration": 17,
    "start_time": "2021-11-19T17:22:51.559Z"
   },
   {
    "duration": 82,
    "start_time": "2021-11-19T17:22:57.789Z"
   },
   {
    "duration": 14,
    "start_time": "2021-11-19T17:22:57.873Z"
   },
   {
    "duration": 12,
    "start_time": "2021-11-19T17:22:57.890Z"
   },
   {
    "duration": 6,
    "start_time": "2021-11-19T17:22:57.905Z"
   },
   {
    "duration": 46,
    "start_time": "2021-11-19T17:22:57.914Z"
   },
   {
    "duration": 9,
    "start_time": "2021-11-19T17:22:57.963Z"
   },
   {
    "duration": 9,
    "start_time": "2021-11-19T17:22:57.975Z"
   },
   {
    "duration": 12,
    "start_time": "2021-11-19T17:22:57.988Z"
   },
   {
    "duration": 6,
    "start_time": "2021-11-19T17:22:58.003Z"
   },
   {
    "duration": 8,
    "start_time": "2021-11-19T17:22:58.060Z"
   },
   {
    "duration": 16,
    "start_time": "2021-11-19T17:22:58.071Z"
   },
   {
    "duration": 16,
    "start_time": "2021-11-19T17:22:58.089Z"
   },
   {
    "duration": 24,
    "start_time": "2021-11-19T17:22:58.108Z"
   },
   {
    "duration": 25,
    "start_time": "2021-11-19T17:22:58.135Z"
   },
   {
    "duration": 17,
    "start_time": "2021-11-19T17:22:58.162Z"
   },
   {
    "duration": 2,
    "start_time": "2021-11-19T17:22:58.181Z"
   },
   {
    "duration": 15,
    "start_time": "2021-11-19T17:22:58.185Z"
   },
   {
    "duration": 22,
    "start_time": "2021-11-19T17:22:58.202Z"
   },
   {
    "duration": 9,
    "start_time": "2021-11-19T17:22:58.258Z"
   },
   {
    "duration": 17,
    "start_time": "2021-11-19T17:22:58.269Z"
   },
   {
    "duration": 79,
    "start_time": "2021-11-19T17:22:58.289Z"
   },
   {
    "duration": 18,
    "start_time": "2021-11-19T17:22:58.370Z"
   },
   {
    "duration": 10,
    "start_time": "2021-11-19T17:22:58.392Z"
   },
   {
    "duration": 18,
    "start_time": "2021-11-19T17:22:58.404Z"
   },
   {
    "duration": 19,
    "start_time": "2021-11-19T17:22:58.459Z"
   },
   {
    "duration": 14,
    "start_time": "2021-11-19T17:23:01.180Z"
   },
   {
    "duration": 39,
    "start_time": "2021-11-19T17:23:31.525Z"
   },
   {
    "duration": 14,
    "start_time": "2021-11-19T17:23:32.852Z"
   },
   {
    "duration": 40,
    "start_time": "2021-11-19T17:28:10.145Z"
   },
   {
    "duration": 19,
    "start_time": "2021-11-19T17:28:12.853Z"
   },
   {
    "duration": 54,
    "start_time": "2021-11-19T17:29:34.157Z"
   },
   {
    "duration": 14,
    "start_time": "2021-11-19T17:29:36.296Z"
   },
   {
    "duration": 926,
    "start_time": "2021-11-19T17:31:14.933Z"
   },
   {
    "duration": 17,
    "start_time": "2021-11-19T17:31:15.862Z"
   },
   {
    "duration": 25,
    "start_time": "2021-11-19T17:31:15.883Z"
   },
   {
    "duration": 13,
    "start_time": "2021-11-19T17:31:15.912Z"
   },
   {
    "duration": 34,
    "start_time": "2021-11-19T17:31:15.927Z"
   },
   {
    "duration": 16,
    "start_time": "2021-11-19T17:31:15.964Z"
   },
   {
    "duration": 18,
    "start_time": "2021-11-19T17:31:15.984Z"
   },
   {
    "duration": 26,
    "start_time": "2021-11-19T17:31:16.007Z"
   },
   {
    "duration": 30,
    "start_time": "2021-11-19T17:31:16.037Z"
   },
   {
    "duration": 19,
    "start_time": "2021-11-19T17:31:16.070Z"
   },
   {
    "duration": 9,
    "start_time": "2021-11-19T17:31:16.092Z"
   },
   {
    "duration": 13,
    "start_time": "2021-11-19T17:31:16.104Z"
   },
   {
    "duration": 45,
    "start_time": "2021-11-19T17:31:16.120Z"
   },
   {
    "duration": 5,
    "start_time": "2021-11-19T17:31:16.168Z"
   },
   {
    "duration": 16,
    "start_time": "2021-11-19T17:31:16.175Z"
   },
   {
    "duration": 4,
    "start_time": "2021-11-19T17:31:16.193Z"
   },
   {
    "duration": 15,
    "start_time": "2021-11-19T17:31:16.199Z"
   },
   {
    "duration": 66,
    "start_time": "2021-11-19T17:31:16.217Z"
   },
   {
    "duration": 8,
    "start_time": "2021-11-19T17:31:16.286Z"
   },
   {
    "duration": 22,
    "start_time": "2021-11-19T17:31:16.297Z"
   },
   {
    "duration": 86,
    "start_time": "2021-11-19T17:31:16.322Z"
   },
   {
    "duration": 20,
    "start_time": "2021-11-19T17:31:16.410Z"
   },
   {
    "duration": 13,
    "start_time": "2021-11-19T17:31:16.463Z"
   },
   {
    "duration": 19,
    "start_time": "2021-11-19T17:31:16.481Z"
   },
   {
    "duration": 24,
    "start_time": "2021-11-19T17:31:16.503Z"
   },
   {
    "duration": 45,
    "start_time": "2021-11-19T17:31:16.529Z"
   },
   {
    "duration": 48,
    "start_time": "2021-11-19T17:31:16.577Z"
   },
   {
    "duration": 36,
    "start_time": "2021-11-19T17:31:16.628Z"
   },
   {
    "duration": 4,
    "start_time": "2021-11-19T17:31:16.666Z"
   },
   {
    "duration": 18,
    "start_time": "2021-11-19T17:31:16.672Z"
   },
   {
    "duration": 17,
    "start_time": "2021-11-19T17:31:16.692Z"
   },
   {
    "duration": 59,
    "start_time": "2021-11-19T17:31:16.716Z"
   },
   {
    "duration": 22,
    "start_time": "2021-11-19T17:31:16.777Z"
   },
   {
    "duration": 21,
    "start_time": "2021-11-19T17:31:16.802Z"
   },
   {
    "duration": 79,
    "start_time": "2021-11-19T17:31:16.825Z"
   },
   {
    "duration": 8,
    "start_time": "2021-11-19T17:31:16.907Z"
   },
   {
    "duration": 43,
    "start_time": "2021-11-19T17:31:16.918Z"
   },
   {
    "duration": 70,
    "start_time": "2021-11-19T17:31:16.964Z"
   },
   {
    "duration": 43,
    "start_time": "2021-11-19T17:31:17.037Z"
   },
   {
    "duration": 250,
    "start_time": "2021-11-19T17:31:17.083Z"
   },
   {
    "duration": 3320,
    "start_time": "2021-11-19T17:31:17.336Z"
   },
   {
    "duration": 13,
    "start_time": "2021-11-19T17:31:20.658Z"
   },
   {
    "duration": 16,
    "start_time": "2021-11-19T17:31:20.673Z"
   },
   {
    "duration": 28,
    "start_time": "2021-11-19T17:31:20.691Z"
   },
   {
    "duration": 54,
    "start_time": "2021-11-19T17:31:20.721Z"
   },
   {
    "duration": 11,
    "start_time": "2021-11-19T17:31:20.777Z"
   },
   {
    "duration": 32,
    "start_time": "2021-11-19T17:31:20.790Z"
   },
   {
    "duration": 102,
    "start_time": "2021-11-19T17:31:20.825Z"
   },
   {
    "duration": 4473,
    "start_time": "2021-11-19T17:31:20.929Z"
   },
   {
    "duration": 28,
    "start_time": "2021-11-19T17:31:25.405Z"
   },
   {
    "duration": 37,
    "start_time": "2021-11-19T17:31:25.435Z"
   },
   {
    "duration": 20,
    "start_time": "2021-11-19T17:31:25.475Z"
   },
   {
    "duration": 21,
    "start_time": "2021-11-19T17:31:25.497Z"
   },
   {
    "duration": 483,
    "start_time": "2021-11-19T17:43:57.856Z"
   },
   {
    "duration": 10,
    "start_time": "2021-11-19T17:44:14.910Z"
   },
   {
    "duration": 88,
    "start_time": "2021-11-19T17:44:23.702Z"
   },
   {
    "duration": 15,
    "start_time": "2021-11-19T17:44:23.792Z"
   },
   {
    "duration": 11,
    "start_time": "2021-11-19T17:44:23.810Z"
   },
   {
    "duration": 40,
    "start_time": "2021-11-19T17:44:23.824Z"
   },
   {
    "duration": 14,
    "start_time": "2021-11-19T17:44:23.866Z"
   },
   {
    "duration": 14,
    "start_time": "2021-11-19T17:44:23.882Z"
   },
   {
    "duration": 8,
    "start_time": "2021-11-19T17:44:23.898Z"
   },
   {
    "duration": 52,
    "start_time": "2021-11-19T17:44:23.910Z"
   },
   {
    "duration": 7,
    "start_time": "2021-11-19T17:44:23.965Z"
   },
   {
    "duration": 13,
    "start_time": "2021-11-19T17:44:23.974Z"
   },
   {
    "duration": 17,
    "start_time": "2021-11-19T17:44:23.989Z"
   },
   {
    "duration": 12,
    "start_time": "2021-11-19T17:44:24.009Z"
   },
   {
    "duration": 41,
    "start_time": "2021-11-19T17:44:24.024Z"
   },
   {
    "duration": 5,
    "start_time": "2021-11-19T17:44:24.067Z"
   },
   {
    "duration": 26,
    "start_time": "2021-11-19T17:44:24.074Z"
   },
   {
    "duration": 2,
    "start_time": "2021-11-19T17:44:24.103Z"
   },
   {
    "duration": 12,
    "start_time": "2021-11-19T17:44:24.108Z"
   },
   {
    "duration": 51,
    "start_time": "2021-11-19T17:44:24.122Z"
   },
   {
    "duration": 7,
    "start_time": "2021-11-19T17:44:24.175Z"
   },
   {
    "duration": 22,
    "start_time": "2021-11-19T17:44:24.185Z"
   },
   {
    "duration": 77,
    "start_time": "2021-11-19T17:44:24.210Z"
   },
   {
    "duration": 17,
    "start_time": "2021-11-19T17:44:24.290Z"
   },
   {
    "duration": 11,
    "start_time": "2021-11-19T17:44:24.311Z"
   },
   {
    "duration": 45,
    "start_time": "2021-11-19T17:44:24.324Z"
   },
   {
    "duration": 17,
    "start_time": "2021-11-19T17:44:24.372Z"
   },
   {
    "duration": 70,
    "start_time": "2021-11-19T17:44:24.392Z"
   },
   {
    "duration": 3,
    "start_time": "2021-11-19T17:44:24.464Z"
   },
   {
    "duration": 10,
    "start_time": "2021-11-19T17:44:28.883Z"
   },
   {
    "duration": 4,
    "start_time": "2021-11-19T18:01:02.185Z"
   },
   {
    "duration": 571,
    "start_time": "2021-11-19T18:01:19.724Z"
   },
   {
    "duration": 8,
    "start_time": "2021-11-19T18:01:33.918Z"
   },
   {
    "duration": 83,
    "start_time": "2021-11-19T18:02:20.159Z"
   },
   {
    "duration": 23,
    "start_time": "2021-11-19T18:02:20.244Z"
   },
   {
    "duration": 15,
    "start_time": "2021-11-19T18:02:20.270Z"
   },
   {
    "duration": 7,
    "start_time": "2021-11-19T18:02:20.288Z"
   },
   {
    "duration": 14,
    "start_time": "2021-11-19T18:02:20.297Z"
   },
   {
    "duration": 54,
    "start_time": "2021-11-19T18:02:20.314Z"
   },
   {
    "duration": 17,
    "start_time": "2021-11-19T18:02:20.370Z"
   },
   {
    "duration": 12,
    "start_time": "2021-11-19T18:02:20.391Z"
   },
   {
    "duration": 12,
    "start_time": "2021-11-19T18:02:20.406Z"
   },
   {
    "duration": 45,
    "start_time": "2021-11-19T18:02:20.420Z"
   },
   {
    "duration": 10,
    "start_time": "2021-11-19T18:02:20.467Z"
   },
   {
    "duration": 16,
    "start_time": "2021-11-19T18:02:20.480Z"
   },
   {
    "duration": 18,
    "start_time": "2021-11-19T18:02:20.498Z"
   },
   {
    "duration": 4,
    "start_time": "2021-11-19T18:02:20.558Z"
   },
   {
    "duration": 21,
    "start_time": "2021-11-19T18:02:20.564Z"
   },
   {
    "duration": 8,
    "start_time": "2021-11-19T18:02:20.588Z"
   },
   {
    "duration": 14,
    "start_time": "2021-11-19T18:02:20.598Z"
   },
   {
    "duration": 47,
    "start_time": "2021-11-19T18:02:20.615Z"
   },
   {
    "duration": 8,
    "start_time": "2021-11-19T18:02:20.664Z"
   },
   {
    "duration": 31,
    "start_time": "2021-11-19T18:02:20.674Z"
   },
   {
    "duration": 66,
    "start_time": "2021-11-19T18:02:20.708Z"
   },
   {
    "duration": 19,
    "start_time": "2021-11-19T18:02:20.776Z"
   },
   {
    "duration": 9,
    "start_time": "2021-11-19T18:02:20.800Z"
   },
   {
    "duration": 48,
    "start_time": "2021-11-19T18:02:20.812Z"
   },
   {
    "duration": 17,
    "start_time": "2021-11-19T18:02:20.863Z"
   },
   {
    "duration": 49,
    "start_time": "2021-11-19T18:02:20.882Z"
   },
   {
    "duration": 26,
    "start_time": "2021-11-19T18:02:20.934Z"
   },
   {
    "duration": 26,
    "start_time": "2021-11-19T18:02:20.963Z"
   },
   {
    "duration": 25,
    "start_time": "2021-11-19T18:02:20.992Z"
   },
   {
    "duration": 20,
    "start_time": "2021-11-19T18:02:21.020Z"
   },
   {
    "duration": 27,
    "start_time": "2021-11-19T18:02:21.043Z"
   },
   {
    "duration": 25,
    "start_time": "2021-11-19T18:02:21.073Z"
   },
   {
    "duration": 36,
    "start_time": "2021-11-19T18:02:21.101Z"
   },
   {
    "duration": 19,
    "start_time": "2021-11-19T18:02:21.140Z"
   },
   {
    "duration": 22,
    "start_time": "2021-11-19T18:02:21.163Z"
   },
   {
    "duration": 20,
    "start_time": "2021-11-19T18:02:21.188Z"
   },
   {
    "duration": 18,
    "start_time": "2021-11-19T18:02:21.211Z"
   },
   {
    "duration": 56,
    "start_time": "2021-11-19T18:02:21.232Z"
   },
   {
    "duration": 24,
    "start_time": "2021-11-19T18:02:24.894Z"
   },
   {
    "duration": 75,
    "start_time": "2021-11-19T18:05:14.483Z"
   },
   {
    "duration": 13,
    "start_time": "2021-11-19T18:05:14.561Z"
   },
   {
    "duration": 13,
    "start_time": "2021-11-19T18:05:14.578Z"
   },
   {
    "duration": 8,
    "start_time": "2021-11-19T18:05:14.595Z"
   },
   {
    "duration": 55,
    "start_time": "2021-11-19T18:05:14.605Z"
   },
   {
    "duration": 9,
    "start_time": "2021-11-19T18:05:14.663Z"
   },
   {
    "duration": 13,
    "start_time": "2021-11-19T18:05:14.674Z"
   },
   {
    "duration": 16,
    "start_time": "2021-11-19T18:05:14.690Z"
   },
   {
    "duration": 11,
    "start_time": "2021-11-19T18:05:14.709Z"
   },
   {
    "duration": 42,
    "start_time": "2021-11-19T18:05:14.723Z"
   },
   {
    "duration": 8,
    "start_time": "2021-11-19T18:05:14.767Z"
   },
   {
    "duration": 11,
    "start_time": "2021-11-19T18:05:14.778Z"
   },
   {
    "duration": 15,
    "start_time": "2021-11-19T18:05:14.792Z"
   },
   {
    "duration": 4,
    "start_time": "2021-11-19T18:05:14.809Z"
   },
   {
    "duration": 12,
    "start_time": "2021-11-19T18:05:14.860Z"
   },
   {
    "duration": 3,
    "start_time": "2021-11-19T18:05:14.874Z"
   },
   {
    "duration": 12,
    "start_time": "2021-11-19T18:05:14.880Z"
   },
   {
    "duration": 20,
    "start_time": "2021-11-19T18:05:14.895Z"
   },
   {
    "duration": 48,
    "start_time": "2021-11-19T18:05:14.918Z"
   },
   {
    "duration": 20,
    "start_time": "2021-11-19T18:05:14.969Z"
   },
   {
    "duration": 78,
    "start_time": "2021-11-19T18:05:14.991Z"
   },
   {
    "duration": 18,
    "start_time": "2021-11-19T18:05:15.071Z"
   },
   {
    "duration": 10,
    "start_time": "2021-11-19T18:05:15.094Z"
   },
   {
    "duration": 52,
    "start_time": "2021-11-19T18:05:15.107Z"
   },
   {
    "duration": 17,
    "start_time": "2021-11-19T18:05:15.161Z"
   },
   {
    "duration": 45,
    "start_time": "2021-11-19T18:05:15.181Z"
   },
   {
    "duration": 2,
    "start_time": "2021-11-19T18:05:15.229Z"
   },
   {
    "duration": 29,
    "start_time": "2021-11-19T18:05:15.233Z"
   },
   {
    "duration": 15,
    "start_time": "2021-11-19T18:05:15.264Z"
   },
   {
    "duration": 15,
    "start_time": "2021-11-19T18:05:15.281Z"
   },
   {
    "duration": 13,
    "start_time": "2021-11-19T18:05:15.299Z"
   },
   {
    "duration": 58,
    "start_time": "2021-11-19T18:05:15.314Z"
   },
   {
    "duration": 27,
    "start_time": "2021-11-19T18:05:15.375Z"
   },
   {
    "duration": 3,
    "start_time": "2021-11-19T18:05:15.404Z"
   },
   {
    "duration": 13,
    "start_time": "2021-11-19T18:05:15.410Z"
   },
   {
    "duration": 33,
    "start_time": "2021-11-19T18:05:15.426Z"
   },
   {
    "duration": 10,
    "start_time": "2021-11-19T18:05:15.461Z"
   },
   {
    "duration": 42,
    "start_time": "2021-11-19T18:05:15.474Z"
   },
   {
    "duration": 48,
    "start_time": "2021-11-19T18:05:15.518Z"
   },
   {
    "duration": 44,
    "start_time": "2021-11-19T18:05:20.628Z"
   },
   {
    "duration": 25,
    "start_time": "2021-11-19T18:07:34.041Z"
   },
   {
    "duration": 78,
    "start_time": "2021-11-19T18:07:38.202Z"
   },
   {
    "duration": 14,
    "start_time": "2021-11-19T18:07:38.282Z"
   },
   {
    "duration": 27,
    "start_time": "2021-11-19T18:07:38.298Z"
   },
   {
    "duration": 34,
    "start_time": "2021-11-19T18:07:38.327Z"
   },
   {
    "duration": 18,
    "start_time": "2021-11-19T18:07:38.364Z"
   },
   {
    "duration": 14,
    "start_time": "2021-11-19T18:07:38.385Z"
   },
   {
    "duration": 14,
    "start_time": "2021-11-19T18:07:38.401Z"
   },
   {
    "duration": 43,
    "start_time": "2021-11-19T18:07:38.418Z"
   },
   {
    "duration": 7,
    "start_time": "2021-11-19T18:07:38.465Z"
   },
   {
    "duration": 16,
    "start_time": "2021-11-19T18:07:38.474Z"
   },
   {
    "duration": 21,
    "start_time": "2021-11-19T18:07:38.493Z"
   },
   {
    "duration": 19,
    "start_time": "2021-11-19T18:07:38.517Z"
   },
   {
    "duration": 23,
    "start_time": "2021-11-19T18:07:38.558Z"
   },
   {
    "duration": 2,
    "start_time": "2021-11-19T18:07:38.584Z"
   },
   {
    "duration": 31,
    "start_time": "2021-11-19T18:07:38.589Z"
   },
   {
    "duration": 15,
    "start_time": "2021-11-19T18:07:38.622Z"
   },
   {
    "duration": 28,
    "start_time": "2021-11-19T18:07:38.639Z"
   },
   {
    "duration": 25,
    "start_time": "2021-11-19T18:07:38.669Z"
   },
   {
    "duration": 7,
    "start_time": "2021-11-19T18:07:38.697Z"
   },
   {
    "duration": 33,
    "start_time": "2021-11-19T18:07:38.706Z"
   },
   {
    "duration": 55,
    "start_time": "2021-11-19T18:07:38.741Z"
   },
   {
    "duration": 17,
    "start_time": "2021-11-19T18:07:38.799Z"
   },
   {
    "duration": 42,
    "start_time": "2021-11-19T18:07:38.820Z"
   },
   {
    "duration": 27,
    "start_time": "2021-11-19T18:07:38.865Z"
   },
   {
    "duration": 18,
    "start_time": "2021-11-19T18:07:38.895Z"
   },
   {
    "duration": 69,
    "start_time": "2021-11-19T18:07:38.916Z"
   },
   {
    "duration": 3,
    "start_time": "2021-11-19T18:07:38.987Z"
   },
   {
    "duration": 21,
    "start_time": "2021-11-19T18:07:38.992Z"
   },
   {
    "duration": 22,
    "start_time": "2021-11-19T18:07:39.016Z"
   },
   {
    "duration": 29,
    "start_time": "2021-11-19T18:07:39.040Z"
   },
   {
    "duration": 13,
    "start_time": "2021-11-19T18:07:39.072Z"
   },
   {
    "duration": 24,
    "start_time": "2021-11-19T18:07:39.087Z"
   },
   {
    "duration": 32,
    "start_time": "2021-11-19T18:07:39.114Z"
   },
   {
    "duration": 3,
    "start_time": "2021-11-19T18:07:39.159Z"
   },
   {
    "duration": 26,
    "start_time": "2021-11-19T18:07:39.164Z"
   },
   {
    "duration": 25,
    "start_time": "2021-11-19T18:07:39.192Z"
   },
   {
    "duration": 12,
    "start_time": "2021-11-19T18:07:39.219Z"
   },
   {
    "duration": 25,
    "start_time": "2021-11-19T18:07:46.052Z"
   },
   {
    "duration": 21,
    "start_time": "2021-11-19T18:08:49.328Z"
   },
   {
    "duration": 41,
    "start_time": "2021-11-19T18:08:54.830Z"
   },
   {
    "duration": 25,
    "start_time": "2021-11-19T18:08:57.216Z"
   },
   {
    "duration": 75,
    "start_time": "2021-11-19T18:10:54.460Z"
   },
   {
    "duration": 28,
    "start_time": "2021-11-19T18:10:54.537Z"
   },
   {
    "duration": 12,
    "start_time": "2021-11-19T18:10:54.568Z"
   },
   {
    "duration": 8,
    "start_time": "2021-11-19T18:10:54.583Z"
   },
   {
    "duration": 10,
    "start_time": "2021-11-19T18:10:54.594Z"
   },
   {
    "duration": 57,
    "start_time": "2021-11-19T18:10:54.606Z"
   },
   {
    "duration": 9,
    "start_time": "2021-11-19T18:10:54.665Z"
   },
   {
    "duration": 20,
    "start_time": "2021-11-19T18:10:54.677Z"
   },
   {
    "duration": 6,
    "start_time": "2021-11-19T18:10:54.700Z"
   },
   {
    "duration": 53,
    "start_time": "2021-11-19T18:10:54.708Z"
   },
   {
    "duration": 13,
    "start_time": "2021-11-19T18:10:54.764Z"
   },
   {
    "duration": 17,
    "start_time": "2021-11-19T18:10:54.779Z"
   },
   {
    "duration": 21,
    "start_time": "2021-11-19T18:10:54.799Z"
   },
   {
    "duration": 37,
    "start_time": "2021-11-19T18:10:54.822Z"
   },
   {
    "duration": 12,
    "start_time": "2021-11-19T18:10:54.862Z"
   },
   {
    "duration": 3,
    "start_time": "2021-11-19T18:10:54.877Z"
   },
   {
    "duration": 14,
    "start_time": "2021-11-19T18:10:54.882Z"
   },
   {
    "duration": 22,
    "start_time": "2021-11-19T18:10:54.899Z"
   },
   {
    "duration": 8,
    "start_time": "2021-11-19T18:10:54.959Z"
   },
   {
    "duration": 27,
    "start_time": "2021-11-19T18:10:54.969Z"
   },
   {
    "duration": 74,
    "start_time": "2021-11-19T18:10:54.998Z"
   },
   {
    "duration": 18,
    "start_time": "2021-11-19T18:10:55.074Z"
   },
   {
    "duration": 10,
    "start_time": "2021-11-19T18:10:55.098Z"
   },
   {
    "duration": 55,
    "start_time": "2021-11-19T18:10:55.111Z"
   },
   {
    "duration": 21,
    "start_time": "2021-11-19T18:10:55.169Z"
   },
   {
    "duration": 72,
    "start_time": "2021-11-19T18:10:55.193Z"
   },
   {
    "duration": 3,
    "start_time": "2021-11-19T18:10:55.267Z"
   },
   {
    "duration": 16,
    "start_time": "2021-11-19T18:10:55.272Z"
   },
   {
    "duration": 15,
    "start_time": "2021-11-19T18:10:55.290Z"
   },
   {
    "duration": 17,
    "start_time": "2021-11-19T18:10:55.307Z"
   },
   {
    "duration": 44,
    "start_time": "2021-11-19T18:10:55.327Z"
   },
   {
    "duration": 18,
    "start_time": "2021-11-19T18:10:55.373Z"
   },
   {
    "duration": 23,
    "start_time": "2021-11-19T18:10:55.393Z"
   },
   {
    "duration": 2,
    "start_time": "2021-11-19T18:10:55.419Z"
   },
   {
    "duration": 7,
    "start_time": "2021-11-19T18:10:55.460Z"
   },
   {
    "duration": 15,
    "start_time": "2021-11-19T18:10:55.469Z"
   },
   {
    "duration": 10,
    "start_time": "2021-11-19T18:10:55.487Z"
   },
   {
    "duration": 25,
    "start_time": "2021-11-19T18:10:55.500Z"
   },
   {
    "duration": 64,
    "start_time": "2021-11-19T18:10:55.528Z"
   },
   {
    "duration": 30,
    "start_time": "2021-11-19T18:10:59.018Z"
   },
   {
    "duration": 52,
    "start_time": "2021-11-19T18:11:00.824Z"
   },
   {
    "duration": 16,
    "start_time": "2021-11-19T18:41:34.611Z"
   },
   {
    "duration": 26,
    "start_time": "2021-11-19T18:42:02.009Z"
   },
   {
    "duration": 17,
    "start_time": "2021-11-19T18:42:14.975Z"
   },
   {
    "duration": 41,
    "start_time": "2021-11-19T18:45:05.186Z"
   },
   {
    "duration": 17,
    "start_time": "2021-11-19T18:45:30.208Z"
   },
   {
    "duration": 84,
    "start_time": "2021-11-19T18:45:41.651Z"
   },
   {
    "duration": 31,
    "start_time": "2021-11-19T18:45:41.738Z"
   },
   {
    "duration": 16,
    "start_time": "2021-11-19T18:45:41.773Z"
   },
   {
    "duration": 10,
    "start_time": "2021-11-19T18:45:41.792Z"
   },
   {
    "duration": 62,
    "start_time": "2021-11-19T18:45:41.804Z"
   },
   {
    "duration": 10,
    "start_time": "2021-11-19T18:45:41.870Z"
   },
   {
    "duration": 10,
    "start_time": "2021-11-19T18:45:41.882Z"
   },
   {
    "duration": 65,
    "start_time": "2021-11-19T18:45:41.897Z"
   },
   {
    "duration": 8,
    "start_time": "2021-11-19T18:45:41.965Z"
   },
   {
    "duration": 10,
    "start_time": "2021-11-19T18:45:41.976Z"
   },
   {
    "duration": 8,
    "start_time": "2021-11-19T18:45:41.989Z"
   },
   {
    "duration": 60,
    "start_time": "2021-11-19T18:45:41.999Z"
   },
   {
    "duration": 16,
    "start_time": "2021-11-19T18:45:42.063Z"
   },
   {
    "duration": 3,
    "start_time": "2021-11-19T18:45:42.081Z"
   },
   {
    "duration": 15,
    "start_time": "2021-11-19T18:45:42.087Z"
   },
   {
    "duration": 4,
    "start_time": "2021-11-19T18:45:42.105Z"
   },
   {
    "duration": 54,
    "start_time": "2021-11-19T18:45:42.112Z"
   },
   {
    "duration": 22,
    "start_time": "2021-11-19T18:45:42.169Z"
   },
   {
    "duration": 7,
    "start_time": "2021-11-19T18:45:42.193Z"
   },
   {
    "duration": 26,
    "start_time": "2021-11-19T18:45:42.203Z"
   },
   {
    "duration": 75,
    "start_time": "2021-11-19T18:45:42.231Z"
   },
   {
    "duration": 19,
    "start_time": "2021-11-19T18:45:42.308Z"
   },
   {
    "duration": 11,
    "start_time": "2021-11-19T18:45:42.362Z"
   },
   {
    "duration": 16,
    "start_time": "2021-11-19T18:45:42.376Z"
   },
   {
    "duration": 19,
    "start_time": "2021-11-19T18:45:42.395Z"
   },
   {
    "duration": 84,
    "start_time": "2021-11-19T18:45:42.416Z"
   },
   {
    "duration": 2,
    "start_time": "2021-11-19T18:45:42.503Z"
   },
   {
    "duration": 14,
    "start_time": "2021-11-19T18:45:42.507Z"
   },
   {
    "duration": 39,
    "start_time": "2021-11-19T18:45:42.523Z"
   },
   {
    "duration": 17,
    "start_time": "2021-11-19T18:45:42.564Z"
   },
   {
    "duration": 14,
    "start_time": "2021-11-19T18:45:42.583Z"
   },
   {
    "duration": 17,
    "start_time": "2021-11-19T18:45:42.599Z"
   },
   {
    "duration": 56,
    "start_time": "2021-11-19T18:45:42.618Z"
   },
   {
    "duration": 3,
    "start_time": "2021-11-19T18:45:42.676Z"
   },
   {
    "duration": 18,
    "start_time": "2021-11-19T18:45:42.681Z"
   },
   {
    "duration": 18,
    "start_time": "2021-11-19T18:45:42.701Z"
   },
   {
    "duration": 20,
    "start_time": "2021-11-19T18:45:42.721Z"
   },
   {
    "duration": 38,
    "start_time": "2021-11-19T18:45:42.743Z"
   },
   {
    "duration": 43,
    "start_time": "2021-11-19T18:45:42.784Z"
   },
   {
    "duration": 49,
    "start_time": "2021-11-19T18:45:42.829Z"
   },
   {
    "duration": 49,
    "start_time": "2021-11-19T18:45:42.880Z"
   },
   {
    "duration": 256,
    "start_time": "2021-11-19T18:45:42.932Z"
   },
   {
    "duration": 3801,
    "start_time": "2021-11-19T18:45:43.190Z"
   },
   {
    "duration": 13,
    "start_time": "2021-11-19T18:45:46.995Z"
   },
   {
    "duration": 8,
    "start_time": "2021-11-19T18:45:47.011Z"
   },
   {
    "duration": 55,
    "start_time": "2021-11-19T18:45:47.022Z"
   },
   {
    "duration": 17,
    "start_time": "2021-11-19T18:45:47.079Z"
   },
   {
    "duration": 26,
    "start_time": "2021-11-19T18:45:47.099Z"
   },
   {
    "duration": 38,
    "start_time": "2021-11-19T18:45:53.504Z"
   },
   {
    "duration": 37,
    "start_time": "2021-11-19T18:45:54.570Z"
   },
   {
    "duration": 37,
    "start_time": "2021-11-19T18:46:42.500Z"
   },
   {
    "duration": 1016,
    "start_time": "2021-11-19T18:47:18.126Z"
   },
   {
    "duration": 65,
    "start_time": "2021-11-19T18:47:25.774Z"
   },
   {
    "duration": 64,
    "start_time": "2021-11-19T18:48:12.523Z"
   },
   {
    "duration": 54,
    "start_time": "2021-11-19T18:48:34.487Z"
   },
   {
    "duration": 478,
    "start_time": "2021-11-19T18:51:40.510Z"
   },
   {
    "duration": 420,
    "start_time": "2021-11-19T18:52:41.920Z"
   },
   {
    "duration": 83,
    "start_time": "2021-11-19T18:53:01.143Z"
   },
   {
    "duration": 65,
    "start_time": "2021-11-19T18:54:54.063Z"
   },
   {
    "duration": 80,
    "start_time": "2021-11-19T18:58:29.178Z"
   },
   {
    "duration": 73,
    "start_time": "2021-11-19T18:59:34.926Z"
   },
   {
    "duration": 80,
    "start_time": "2021-11-19T19:00:17.247Z"
   },
   {
    "duration": 399,
    "start_time": "2021-11-19T19:02:22.385Z"
   },
   {
    "duration": 34,
    "start_time": "2021-11-19T19:02:31.922Z"
   },
   {
    "duration": 34,
    "start_time": "2021-11-19T19:03:20.671Z"
   },
   {
    "duration": 61,
    "start_time": "2021-11-19T19:04:54.480Z"
   },
   {
    "duration": 21,
    "start_time": "2021-11-19T19:05:59.752Z"
   },
   {
    "duration": 20,
    "start_time": "2021-11-19T19:06:34.667Z"
   },
   {
    "duration": 29,
    "start_time": "2021-11-19T19:10:24.550Z"
   },
   {
    "duration": 28,
    "start_time": "2021-11-19T19:10:53.529Z"
   },
   {
    "duration": 32,
    "start_time": "2021-11-19T19:11:19.395Z"
   },
   {
    "duration": 33,
    "start_time": "2021-11-19T19:11:49.699Z"
   },
   {
    "duration": 33,
    "start_time": "2021-11-19T19:11:51.817Z"
   },
   {
    "duration": 31,
    "start_time": "2021-11-19T19:12:08.075Z"
   },
   {
    "duration": 696,
    "start_time": "2021-11-19T19:12:18.489Z"
   },
   {
    "duration": 37,
    "start_time": "2021-11-19T19:12:27.096Z"
   },
   {
    "duration": 29,
    "start_time": "2021-11-19T19:12:59.867Z"
   },
   {
    "duration": 23,
    "start_time": "2021-11-19T19:13:31.825Z"
   },
   {
    "duration": 21,
    "start_time": "2021-11-19T19:13:32.908Z"
   },
   {
    "duration": 21,
    "start_time": "2021-11-19T19:13:33.764Z"
   },
   {
    "duration": 32,
    "start_time": "2021-11-19T19:13:42.833Z"
   },
   {
    "duration": 30,
    "start_time": "2021-11-19T19:13:43.673Z"
   },
   {
    "duration": 31,
    "start_time": "2021-11-19T19:15:09.645Z"
   },
   {
    "duration": 31,
    "start_time": "2021-11-19T19:15:17.743Z"
   },
   {
    "duration": 31,
    "start_time": "2021-11-19T19:15:18.600Z"
   },
   {
    "duration": 30,
    "start_time": "2021-11-19T19:15:19.349Z"
   },
   {
    "duration": 28,
    "start_time": "2021-11-19T19:15:33.283Z"
   },
   {
    "duration": 31,
    "start_time": "2021-11-19T19:15:34.797Z"
   },
   {
    "duration": 29,
    "start_time": "2021-11-19T19:15:35.546Z"
   },
   {
    "duration": 31,
    "start_time": "2021-11-19T19:15:41.227Z"
   },
   {
    "duration": 79,
    "start_time": "2021-11-19T19:15:45.032Z"
   },
   {
    "duration": 14,
    "start_time": "2021-11-19T19:15:45.114Z"
   },
   {
    "duration": 39,
    "start_time": "2021-11-19T19:15:45.131Z"
   },
   {
    "duration": 7,
    "start_time": "2021-11-19T19:15:45.173Z"
   },
   {
    "duration": 12,
    "start_time": "2021-11-19T19:15:45.182Z"
   },
   {
    "duration": 11,
    "start_time": "2021-11-19T19:15:45.197Z"
   },
   {
    "duration": 51,
    "start_time": "2021-11-19T19:15:45.210Z"
   },
   {
    "duration": 12,
    "start_time": "2021-11-19T19:15:45.266Z"
   },
   {
    "duration": 10,
    "start_time": "2021-11-19T19:15:45.281Z"
   },
   {
    "duration": 9,
    "start_time": "2021-11-19T19:15:45.294Z"
   },
   {
    "duration": 54,
    "start_time": "2021-11-19T19:15:45.306Z"
   },
   {
    "duration": 14,
    "start_time": "2021-11-19T19:15:45.363Z"
   },
   {
    "duration": 15,
    "start_time": "2021-11-19T19:15:45.379Z"
   },
   {
    "duration": 5,
    "start_time": "2021-11-19T19:15:45.396Z"
   },
   {
    "duration": 55,
    "start_time": "2021-11-19T19:15:45.404Z"
   },
   {
    "duration": 3,
    "start_time": "2021-11-19T19:15:45.462Z"
   },
   {
    "duration": 12,
    "start_time": "2021-11-19T19:15:45.467Z"
   },
   {
    "duration": 20,
    "start_time": "2021-11-19T19:15:45.481Z"
   },
   {
    "duration": 7,
    "start_time": "2021-11-19T19:15:45.503Z"
   },
   {
    "duration": 59,
    "start_time": "2021-11-19T19:15:45.512Z"
   },
   {
    "duration": 47,
    "start_time": "2021-11-19T19:15:45.574Z"
   },
   {
    "duration": 43,
    "start_time": "2021-11-19T19:15:45.623Z"
   },
   {
    "duration": 9,
    "start_time": "2021-11-19T19:15:45.672Z"
   },
   {
    "duration": 16,
    "start_time": "2021-11-19T19:15:45.684Z"
   },
   {
    "duration": 59,
    "start_time": "2021-11-19T19:15:45.703Z"
   },
   {
    "duration": 48,
    "start_time": "2021-11-19T19:15:45.764Z"
   },
   {
    "duration": 3,
    "start_time": "2021-11-19T19:15:45.814Z"
   },
   {
    "duration": 28,
    "start_time": "2021-11-19T19:15:45.819Z"
   },
   {
    "duration": 14,
    "start_time": "2021-11-19T19:15:45.859Z"
   },
   {
    "duration": 16,
    "start_time": "2021-11-19T19:15:45.875Z"
   },
   {
    "duration": 27,
    "start_time": "2021-11-19T19:15:45.893Z"
   },
   {
    "duration": 40,
    "start_time": "2021-11-19T19:15:45.922Z"
   },
   {
    "duration": 25,
    "start_time": "2021-11-19T19:15:45.964Z"
   },
   {
    "duration": 3,
    "start_time": "2021-11-19T19:15:45.992Z"
   },
   {
    "duration": 16,
    "start_time": "2021-11-19T19:15:45.997Z"
   },
   {
    "duration": 24,
    "start_time": "2021-11-19T19:15:46.015Z"
   },
   {
    "duration": 40,
    "start_time": "2021-11-19T19:15:46.041Z"
   },
   {
    "duration": 30,
    "start_time": "2021-11-19T19:15:46.083Z"
   },
   {
    "duration": 46,
    "start_time": "2021-11-19T19:15:46.116Z"
   },
   {
    "duration": 25,
    "start_time": "2021-11-19T19:15:46.165Z"
   },
   {
    "duration": 77,
    "start_time": "2021-11-19T19:15:46.193Z"
   },
   {
    "duration": 248,
    "start_time": "2021-11-19T19:15:46.273Z"
   },
   {
    "duration": 3515,
    "start_time": "2021-11-19T19:15:46.523Z"
   },
   {
    "duration": 23,
    "start_time": "2021-11-19T19:15:50.041Z"
   },
   {
    "duration": 7,
    "start_time": "2021-11-19T19:15:50.067Z"
   },
   {
    "duration": 20,
    "start_time": "2021-11-19T19:15:50.076Z"
   },
   {
    "duration": 18,
    "start_time": "2021-11-19T19:15:50.099Z"
   },
   {
    "duration": 54,
    "start_time": "2021-11-19T19:15:50.119Z"
   },
   {
    "duration": 94,
    "start_time": "2021-11-19T19:15:50.176Z"
   },
   {
    "duration": 58,
    "start_time": "2021-11-19T19:15:50.273Z"
   },
   {
    "duration": 111,
    "start_time": "2021-11-19T19:15:50.333Z"
   },
   {
    "duration": 53,
    "start_time": "2021-11-19T19:15:50.459Z"
   },
   {
    "duration": 55,
    "start_time": "2021-11-19T19:15:50.514Z"
   },
   {
    "duration": 8,
    "start_time": "2021-11-19T19:15:50.572Z"
   },
   {
    "duration": 35,
    "start_time": "2021-11-19T19:15:50.582Z"
   },
   {
    "duration": 112,
    "start_time": "2021-11-19T19:15:50.620Z"
   },
   {
    "duration": 4278,
    "start_time": "2021-11-19T19:15:50.735Z"
   },
   {
    "duration": 36,
    "start_time": "2021-11-19T19:15:58.588Z"
   },
   {
    "duration": 31,
    "start_time": "2021-11-19T19:15:59.397Z"
   },
   {
    "duration": 30,
    "start_time": "2021-11-19T19:16:00.023Z"
   },
   {
    "duration": 30,
    "start_time": "2021-11-19T19:16:00.617Z"
   },
   {
    "duration": 30,
    "start_time": "2021-11-19T19:16:01.141Z"
   },
   {
    "duration": 29,
    "start_time": "2021-11-19T19:16:01.631Z"
   },
   {
    "duration": 30,
    "start_time": "2021-11-19T19:16:02.056Z"
   },
   {
    "duration": 29,
    "start_time": "2021-11-19T19:16:02.519Z"
   },
   {
    "duration": 32,
    "start_time": "2021-11-19T19:16:02.950Z"
   },
   {
    "duration": 31,
    "start_time": "2021-11-19T19:16:03.447Z"
   },
   {
    "duration": 31,
    "start_time": "2021-11-19T19:16:03.975Z"
   },
   {
    "duration": 33,
    "start_time": "2021-11-19T19:16:04.456Z"
   },
   {
    "duration": 30,
    "start_time": "2021-11-19T19:16:04.983Z"
   },
   {
    "duration": 31,
    "start_time": "2021-11-19T19:16:05.492Z"
   },
   {
    "duration": 44,
    "start_time": "2021-11-19T19:16:06.000Z"
   },
   {
    "duration": 1030,
    "start_time": "2021-11-19T19:16:18.395Z"
   },
   {
    "duration": 45,
    "start_time": "2021-11-19T19:16:33.985Z"
   },
   {
    "duration": 30,
    "start_time": "2021-11-19T19:16:52.628Z"
   },
   {
    "duration": 32,
    "start_time": "2021-11-19T19:16:53.861Z"
   },
   {
    "duration": 34,
    "start_time": "2021-11-19T19:16:54.724Z"
   },
   {
    "duration": 6,
    "start_time": "2021-11-19T19:22:37.731Z"
   },
   {
    "duration": 7,
    "start_time": "2021-11-19T19:22:47.714Z"
   },
   {
    "duration": 7,
    "start_time": "2021-11-19T19:23:15.593Z"
   },
   {
    "duration": 9,
    "start_time": "2021-11-19T19:23:28.996Z"
   },
   {
    "duration": 7,
    "start_time": "2021-11-19T19:23:44.433Z"
   },
   {
    "duration": 7,
    "start_time": "2021-11-19T19:23:54.216Z"
   },
   {
    "duration": 7,
    "start_time": "2021-11-19T19:25:29.717Z"
   },
   {
    "duration": 12,
    "start_time": "2021-11-19T19:25:39.076Z"
   },
   {
    "duration": 12,
    "start_time": "2021-11-19T19:25:46.082Z"
   },
   {
    "duration": 12,
    "start_time": "2021-11-19T19:25:51.348Z"
   },
   {
    "duration": 382,
    "start_time": "2021-11-19T19:27:50.764Z"
   },
   {
    "duration": 33,
    "start_time": "2021-11-19T19:29:04.528Z"
   },
   {
    "duration": 45,
    "start_time": "2021-11-19T19:30:01.540Z"
   },
   {
    "duration": 55,
    "start_time": "2021-11-19T19:31:07.739Z"
   },
   {
    "duration": 93,
    "start_time": "2021-11-19T19:35:53.471Z"
   },
   {
    "duration": 42,
    "start_time": "2021-11-19T19:37:11.524Z"
   },
   {
    "duration": 132,
    "start_time": "2021-11-19T19:39:42.779Z"
   },
   {
    "duration": 133,
    "start_time": "2021-11-19T19:40:39.228Z"
   },
   {
    "duration": 50,
    "start_time": "2021-11-19T19:40:47.254Z"
   },
   {
    "duration": 35,
    "start_time": "2021-11-19T19:41:10.587Z"
   },
   {
    "duration": 401,
    "start_time": "2021-11-20T11:02:00.292Z"
   },
   {
    "duration": 959,
    "start_time": "2021-11-20T11:05:21.474Z"
   },
   {
    "duration": 16,
    "start_time": "2021-11-20T11:05:22.437Z"
   },
   {
    "duration": 13,
    "start_time": "2021-11-20T11:05:22.456Z"
   },
   {
    "duration": 33,
    "start_time": "2021-11-20T11:05:22.472Z"
   },
   {
    "duration": 14,
    "start_time": "2021-11-20T11:05:22.508Z"
   },
   {
    "duration": 16,
    "start_time": "2021-11-20T11:05:22.525Z"
   },
   {
    "duration": 8,
    "start_time": "2021-11-20T11:05:22.544Z"
   },
   {
    "duration": 49,
    "start_time": "2021-11-20T11:05:22.555Z"
   },
   {
    "duration": 7,
    "start_time": "2021-11-20T11:05:22.609Z"
   },
   {
    "duration": 9,
    "start_time": "2021-11-20T11:05:22.620Z"
   },
   {
    "duration": 9,
    "start_time": "2021-11-20T11:05:22.631Z"
   },
   {
    "duration": 64,
    "start_time": "2021-11-20T11:05:22.643Z"
   },
   {
    "duration": 17,
    "start_time": "2021-11-20T11:05:22.710Z"
   },
   {
    "duration": 9,
    "start_time": "2021-11-20T11:05:22.730Z"
   },
   {
    "duration": 20,
    "start_time": "2021-11-20T11:05:22.744Z"
   },
   {
    "duration": 32,
    "start_time": "2021-11-20T11:05:22.767Z"
   },
   {
    "duration": 13,
    "start_time": "2021-11-20T11:05:22.802Z"
   },
   {
    "duration": 32,
    "start_time": "2021-11-20T11:05:22.817Z"
   },
   {
    "duration": 7,
    "start_time": "2021-11-20T11:05:22.852Z"
   },
   {
    "duration": 60,
    "start_time": "2021-11-20T11:05:22.862Z"
   },
   {
    "duration": 53,
    "start_time": "2021-11-20T11:05:22.925Z"
   },
   {
    "duration": 20,
    "start_time": "2021-11-20T11:05:23.001Z"
   },
   {
    "duration": 16,
    "start_time": "2021-11-20T11:05:23.028Z"
   },
   {
    "duration": 20,
    "start_time": "2021-11-20T11:05:23.047Z"
   },
   {
    "duration": 44,
    "start_time": "2021-11-20T11:05:23.069Z"
   },
   {
    "duration": 52,
    "start_time": "2021-11-20T11:05:23.116Z"
   },
   {
    "duration": 30,
    "start_time": "2021-11-20T11:05:23.170Z"
   },
   {
    "duration": 12,
    "start_time": "2021-11-20T11:05:23.203Z"
   },
   {
    "duration": 19,
    "start_time": "2021-11-20T11:05:23.218Z"
   },
   {
    "duration": 17,
    "start_time": "2021-11-20T11:05:23.239Z"
   },
   {
    "duration": 54,
    "start_time": "2021-11-20T11:05:23.259Z"
   },
   {
    "duration": 22,
    "start_time": "2021-11-20T11:05:23.315Z"
   },
   {
    "duration": 25,
    "start_time": "2021-11-20T11:05:23.340Z"
   },
   {
    "duration": 3,
    "start_time": "2021-11-20T11:05:23.367Z"
   },
   {
    "duration": 10,
    "start_time": "2021-11-20T11:05:23.402Z"
   },
   {
    "duration": 10,
    "start_time": "2021-11-20T11:05:23.415Z"
   },
   {
    "duration": 16,
    "start_time": "2021-11-20T11:05:23.428Z"
   },
   {
    "duration": 40,
    "start_time": "2021-11-20T11:05:23.447Z"
   },
   {
    "duration": 49,
    "start_time": "2021-11-20T11:05:23.490Z"
   },
   {
    "duration": 22,
    "start_time": "2021-11-20T11:05:23.541Z"
   },
   {
    "duration": 75,
    "start_time": "2021-11-20T11:05:23.565Z"
   },
   {
    "duration": 250,
    "start_time": "2021-11-20T11:05:23.642Z"
   },
   {
    "duration": 3460,
    "start_time": "2021-11-20T11:05:23.895Z"
   },
   {
    "duration": 13,
    "start_time": "2021-11-20T11:05:27.358Z"
   },
   {
    "duration": 29,
    "start_time": "2021-11-20T11:05:27.373Z"
   },
   {
    "duration": 24,
    "start_time": "2021-11-20T11:05:27.404Z"
   },
   {
    "duration": 18,
    "start_time": "2021-11-20T11:05:27.431Z"
   },
   {
    "duration": 22,
    "start_time": "2021-11-20T11:05:27.451Z"
   },
   {
    "duration": 67,
    "start_time": "2021-11-20T11:05:27.500Z"
   },
   {
    "duration": 76,
    "start_time": "2021-11-20T11:05:27.569Z"
   },
   {
    "duration": 87,
    "start_time": "2021-11-20T11:05:27.647Z"
   },
   {
    "duration": 65,
    "start_time": "2021-11-20T11:05:27.737Z"
   },
   {
    "duration": 44,
    "start_time": "2021-11-20T11:05:27.804Z"
   },
   {
    "duration": 61,
    "start_time": "2021-11-20T11:05:27.851Z"
   },
   {
    "duration": 7,
    "start_time": "2021-11-20T11:05:27.915Z"
   },
   {
    "duration": 39,
    "start_time": "2021-11-20T11:05:27.925Z"
   },
   {
    "duration": 100,
    "start_time": "2021-11-20T11:05:27.966Z"
   },
   {
    "duration": 3579,
    "start_time": "2021-11-20T11:05:28.068Z"
   },
   {
    "duration": 53,
    "start_time": "2021-11-20T11:05:31.649Z"
   },
   {
    "duration": 28,
    "start_time": "2021-11-20T11:05:31.705Z"
   },
   {
    "duration": 26,
    "start_time": "2021-11-20T11:05:31.735Z"
   },
   {
    "duration": 56,
    "start_time": "2021-11-20T11:05:31.764Z"
   },
   {
    "duration": 34,
    "start_time": "2021-11-20T11:07:54.999Z"
   },
   {
    "duration": 30,
    "start_time": "2021-11-20T11:11:15.270Z"
   },
   {
    "duration": 38,
    "start_time": "2021-11-20T11:17:39.065Z"
   },
   {
    "duration": 90,
    "start_time": "2021-11-20T12:15:56.520Z"
   },
   {
    "duration": 18,
    "start_time": "2021-11-20T12:15:56.613Z"
   },
   {
    "duration": 13,
    "start_time": "2021-11-20T12:15:56.635Z"
   },
   {
    "duration": 49,
    "start_time": "2021-11-20T12:15:56.651Z"
   },
   {
    "duration": 8,
    "start_time": "2021-11-20T12:15:56.704Z"
   },
   {
    "duration": 11,
    "start_time": "2021-11-20T12:15:56.716Z"
   },
   {
    "duration": 10,
    "start_time": "2021-11-20T12:15:56.731Z"
   },
   {
    "duration": 64,
    "start_time": "2021-11-20T12:15:56.746Z"
   },
   {
    "duration": 11,
    "start_time": "2021-11-20T12:15:56.813Z"
   },
   {
    "duration": 11,
    "start_time": "2021-11-20T12:15:56.828Z"
   },
   {
    "duration": 9,
    "start_time": "2021-11-20T12:15:56.843Z"
   },
   {
    "duration": 19,
    "start_time": "2021-11-20T12:15:56.903Z"
   },
   {
    "duration": 14,
    "start_time": "2021-11-20T12:15:56.926Z"
   },
   {
    "duration": 3,
    "start_time": "2021-11-20T12:15:56.943Z"
   },
   {
    "duration": 57,
    "start_time": "2021-11-20T12:15:56.948Z"
   },
   {
    "duration": 5,
    "start_time": "2021-11-20T12:15:57.007Z"
   },
   {
    "duration": 18,
    "start_time": "2021-11-20T12:15:57.015Z"
   },
   {
    "duration": 22,
    "start_time": "2021-11-20T12:15:57.036Z"
   },
   {
    "duration": 12,
    "start_time": "2021-11-20T12:15:57.103Z"
   },
   {
    "duration": 23,
    "start_time": "2021-11-20T12:15:57.119Z"
   },
   {
    "duration": 94,
    "start_time": "2021-11-20T12:15:57.144Z"
   },
   {
    "duration": 29,
    "start_time": "2021-11-20T12:15:57.240Z"
   },
   {
    "duration": 33,
    "start_time": "2021-11-20T12:15:57.276Z"
   },
   {
    "duration": 19,
    "start_time": "2021-11-20T12:15:57.313Z"
   },
   {
    "duration": 17,
    "start_time": "2021-11-20T12:15:57.335Z"
   },
   {
    "duration": 93,
    "start_time": "2021-11-20T12:15:57.354Z"
   },
   {
    "duration": 4,
    "start_time": "2021-11-20T12:15:57.450Z"
   },
   {
    "duration": 12,
    "start_time": "2021-11-20T12:15:57.456Z"
   },
   {
    "duration": 39,
    "start_time": "2021-11-20T12:15:57.471Z"
   },
   {
    "duration": 21,
    "start_time": "2021-11-20T12:15:57.513Z"
   },
   {
    "duration": 27,
    "start_time": "2021-11-20T12:15:57.537Z"
   },
   {
    "duration": 44,
    "start_time": "2021-11-20T12:15:57.567Z"
   },
   {
    "duration": 29,
    "start_time": "2021-11-20T12:15:57.618Z"
   },
   {
    "duration": 4,
    "start_time": "2021-11-20T12:15:57.650Z"
   },
   {
    "duration": 46,
    "start_time": "2021-11-20T12:15:57.657Z"
   },
   {
    "duration": 8,
    "start_time": "2021-11-20T12:15:57.708Z"
   },
   {
    "duration": 11,
    "start_time": "2021-11-20T12:15:57.719Z"
   },
   {
    "duration": 34,
    "start_time": "2021-11-20T12:15:57.735Z"
   },
   {
    "duration": 76,
    "start_time": "2021-11-20T12:15:57.799Z"
   },
   {
    "duration": 55,
    "start_time": "2021-11-20T12:15:57.877Z"
   },
   {
    "duration": 80,
    "start_time": "2021-11-20T12:15:57.935Z"
   },
   {
    "duration": 383,
    "start_time": "2021-11-20T12:15:58.018Z"
   },
   {
    "duration": 4164,
    "start_time": "2021-11-20T12:15:58.404Z"
   },
   {
    "duration": 20,
    "start_time": "2021-11-20T12:16:02.571Z"
   },
   {
    "duration": 20,
    "start_time": "2021-11-20T12:16:02.602Z"
   },
   {
    "duration": 28,
    "start_time": "2021-11-20T12:16:02.626Z"
   },
   {
    "duration": 173,
    "start_time": "2021-11-20T12:16:02.657Z"
   },
   {
    "duration": 89,
    "start_time": "2021-11-20T12:16:02.832Z"
   },
   {
    "duration": 500,
    "start_time": "2021-11-20T12:16:02.924Z"
   },
   {
    "duration": 14,
    "start_time": "2021-11-20T12:16:09.520Z"
   },
   {
    "duration": 3,
    "start_time": "2021-11-20T12:17:06.422Z"
   },
   {
    "duration": 8,
    "start_time": "2021-11-20T12:19:15.719Z"
   },
   {
    "duration": 9,
    "start_time": "2021-11-20T12:19:33.503Z"
   },
   {
    "duration": 6,
    "start_time": "2021-11-20T12:20:59.879Z"
   },
   {
    "duration": 9,
    "start_time": "2021-11-20T12:21:26.559Z"
   },
   {
    "duration": 9,
    "start_time": "2021-11-20T12:21:41.449Z"
   },
   {
    "duration": 12,
    "start_time": "2021-11-20T12:21:56.960Z"
   },
   {
    "duration": 40,
    "start_time": "2021-11-20T12:22:14.935Z"
   },
   {
    "duration": 85,
    "start_time": "2021-11-20T12:39:30.914Z"
   },
   {
    "duration": 29,
    "start_time": "2021-11-20T12:41:00.978Z"
   },
   {
    "duration": 4330,
    "start_time": "2021-11-20T12:41:11.439Z"
   },
   {
    "duration": 46,
    "start_time": "2021-11-20T12:42:00.706Z"
   },
   {
    "duration": 31,
    "start_time": "2021-11-20T12:47:48.970Z"
   },
   {
    "duration": 34,
    "start_time": "2021-11-20T12:48:38.284Z"
   },
   {
    "duration": 32,
    "start_time": "2021-11-20T12:48:47.484Z"
   },
   {
    "duration": 30,
    "start_time": "2021-11-20T12:49:30.848Z"
   },
   {
    "duration": 95,
    "start_time": "2021-11-20T13:11:24.378Z"
   },
   {
    "duration": 32,
    "start_time": "2021-11-20T13:11:24.476Z"
   },
   {
    "duration": 13,
    "start_time": "2021-11-20T13:11:24.512Z"
   },
   {
    "duration": 6,
    "start_time": "2021-11-20T13:11:24.527Z"
   },
   {
    "duration": 12,
    "start_time": "2021-11-20T13:11:24.536Z"
   },
   {
    "duration": 57,
    "start_time": "2021-11-20T13:11:24.550Z"
   },
   {
    "duration": 8,
    "start_time": "2021-11-20T13:11:24.612Z"
   },
   {
    "duration": 11,
    "start_time": "2021-11-20T13:11:24.624Z"
   },
   {
    "duration": 8,
    "start_time": "2021-11-20T13:11:24.638Z"
   },
   {
    "duration": 63,
    "start_time": "2021-11-20T13:11:24.649Z"
   },
   {
    "duration": 6,
    "start_time": "2021-11-20T13:11:24.716Z"
   },
   {
    "duration": 13,
    "start_time": "2021-11-20T13:11:24.725Z"
   },
   {
    "duration": 67,
    "start_time": "2021-11-20T13:11:24.740Z"
   },
   {
    "duration": 4,
    "start_time": "2021-11-20T13:11:24.809Z"
   },
   {
    "duration": 17,
    "start_time": "2021-11-20T13:11:24.815Z"
   },
   {
    "duration": 2,
    "start_time": "2021-11-20T13:11:24.835Z"
   },
   {
    "duration": 17,
    "start_time": "2021-11-20T13:11:24.839Z"
   },
   {
    "duration": 62,
    "start_time": "2021-11-20T13:11:24.858Z"
   },
   {
    "duration": 7,
    "start_time": "2021-11-20T13:11:24.923Z"
   },
   {
    "duration": 21,
    "start_time": "2021-11-20T13:11:24.932Z"
   },
   {
    "duration": 91,
    "start_time": "2021-11-20T13:11:24.955Z"
   },
   {
    "duration": 18,
    "start_time": "2021-11-20T13:11:25.048Z"
   },
   {
    "duration": 12,
    "start_time": "2021-11-20T13:11:25.104Z"
   },
   {
    "duration": 14,
    "start_time": "2021-11-20T13:11:25.120Z"
   },
   {
    "duration": 16,
    "start_time": "2021-11-20T13:11:25.137Z"
   },
   {
    "duration": 81,
    "start_time": "2021-11-20T13:11:25.156Z"
   },
   {
    "duration": 3,
    "start_time": "2021-11-20T13:11:25.240Z"
   },
   {
    "duration": 20,
    "start_time": "2021-11-20T13:11:25.245Z"
   },
   {
    "duration": 46,
    "start_time": "2021-11-20T13:11:25.267Z"
   },
   {
    "duration": 16,
    "start_time": "2021-11-20T13:11:25.316Z"
   },
   {
    "duration": 20,
    "start_time": "2021-11-20T13:11:25.334Z"
   },
   {
    "duration": 30,
    "start_time": "2021-11-20T13:11:25.356Z"
   },
   {
    "duration": 45,
    "start_time": "2021-11-20T13:11:25.389Z"
   },
   {
    "duration": 3,
    "start_time": "2021-11-20T13:11:25.436Z"
   },
   {
    "duration": 14,
    "start_time": "2021-11-20T13:11:25.441Z"
   },
   {
    "duration": 14,
    "start_time": "2021-11-20T13:11:25.457Z"
   },
   {
    "duration": 17,
    "start_time": "2021-11-20T13:11:25.473Z"
   },
   {
    "duration": 39,
    "start_time": "2021-11-20T13:11:25.493Z"
   },
   {
    "duration": 42,
    "start_time": "2021-11-20T13:11:25.535Z"
   },
   {
    "duration": 42,
    "start_time": "2021-11-20T13:11:25.580Z"
   },
   {
    "duration": 47,
    "start_time": "2021-11-20T13:11:25.625Z"
   },
   {
    "duration": 274,
    "start_time": "2021-11-20T13:11:25.674Z"
   },
   {
    "duration": 3689,
    "start_time": "2021-11-20T13:11:25.951Z"
   },
   {
    "duration": 13,
    "start_time": "2021-11-20T13:11:29.642Z"
   },
   {
    "duration": 21,
    "start_time": "2021-11-20T13:11:29.657Z"
   },
   {
    "duration": 34,
    "start_time": "2021-11-20T13:11:29.680Z"
   },
   {
    "duration": 108,
    "start_time": "2021-11-20T13:11:29.717Z"
   },
   {
    "duration": 85,
    "start_time": "2021-11-20T13:11:29.827Z"
   },
   {
    "duration": 12,
    "start_time": "2021-11-20T13:11:29.915Z"
   },
   {
    "duration": 9,
    "start_time": "2021-11-20T13:11:29.929Z"
   },
   {
    "duration": 12,
    "start_time": "2021-11-20T13:11:29.941Z"
   },
   {
    "duration": 73,
    "start_time": "2021-11-20T13:11:29.956Z"
   },
   {
    "duration": 105,
    "start_time": "2021-11-20T13:11:30.032Z"
   },
   {
    "duration": 3984,
    "start_time": "2021-11-20T13:11:30.140Z"
   },
   {
    "duration": 33,
    "start_time": "2021-11-20T13:11:34.126Z"
   },
   {
    "duration": 59,
    "start_time": "2021-11-20T13:11:34.161Z"
   },
   {
    "duration": 27,
    "start_time": "2021-11-20T13:11:34.222Z"
   },
   {
    "duration": 55,
    "start_time": "2021-11-20T13:11:34.251Z"
   },
   {
    "duration": 10,
    "start_time": "2021-11-20T13:14:18.694Z"
   },
   {
    "duration": 10,
    "start_time": "2021-11-20T13:14:20.783Z"
   },
   {
    "duration": 893,
    "start_time": "2021-11-20T13:15:10.866Z"
   },
   {
    "duration": 14,
    "start_time": "2021-11-20T13:15:11.762Z"
   },
   {
    "duration": 35,
    "start_time": "2021-11-20T13:15:11.780Z"
   },
   {
    "duration": 10,
    "start_time": "2021-11-20T13:15:11.818Z"
   },
   {
    "duration": 8,
    "start_time": "2021-11-20T13:15:11.831Z"
   },
   {
    "duration": 11,
    "start_time": "2021-11-20T13:15:11.841Z"
   },
   {
    "duration": 10,
    "start_time": "2021-11-20T13:15:11.901Z"
   },
   {
    "duration": 17,
    "start_time": "2021-11-20T13:15:11.915Z"
   },
   {
    "duration": 10,
    "start_time": "2021-11-20T13:15:11.936Z"
   },
   {
    "duration": 10,
    "start_time": "2021-11-20T13:15:11.949Z"
   },
   {
    "duration": 12,
    "start_time": "2021-11-20T13:15:12.006Z"
   },
   {
    "duration": 19,
    "start_time": "2021-11-20T13:15:12.021Z"
   },
   {
    "duration": 20,
    "start_time": "2021-11-20T13:15:12.044Z"
   },
   {
    "duration": 4,
    "start_time": "2021-11-20T13:15:12.100Z"
   },
   {
    "duration": 19,
    "start_time": "2021-11-20T13:15:12.107Z"
   },
   {
    "duration": 3,
    "start_time": "2021-11-20T13:15:12.129Z"
   },
   {
    "duration": 12,
    "start_time": "2021-11-20T13:15:12.136Z"
   },
   {
    "duration": 81,
    "start_time": "2021-11-20T13:15:12.151Z"
   },
   {
    "duration": 9,
    "start_time": "2021-11-20T13:15:12.234Z"
   },
   {
    "duration": 26,
    "start_time": "2021-11-20T13:15:12.246Z"
   },
   {
    "duration": 102,
    "start_time": "2021-11-20T13:15:12.275Z"
   },
   {
    "duration": 47,
    "start_time": "2021-11-20T13:15:12.380Z"
   },
   {
    "duration": 10,
    "start_time": "2021-11-20T13:15:12.433Z"
   },
   {
    "duration": 14,
    "start_time": "2021-11-20T13:15:12.446Z"
   },
   {
    "duration": 54,
    "start_time": "2021-11-20T13:15:12.463Z"
   },
   {
    "duration": 50,
    "start_time": "2021-11-20T13:15:12.520Z"
   },
   {
    "duration": 3,
    "start_time": "2021-11-20T13:15:12.573Z"
   },
   {
    "duration": 12,
    "start_time": "2021-11-20T13:15:12.602Z"
   },
   {
    "duration": 34,
    "start_time": "2021-11-20T13:15:12.617Z"
   },
   {
    "duration": 17,
    "start_time": "2021-11-20T13:15:12.653Z"
   },
   {
    "duration": 49,
    "start_time": "2021-11-20T13:15:12.673Z"
   },
   {
    "duration": 19,
    "start_time": "2021-11-20T13:15:12.725Z"
   },
   {
    "duration": 54,
    "start_time": "2021-11-20T13:15:12.746Z"
   },
   {
    "duration": 4,
    "start_time": "2021-11-20T13:15:12.802Z"
   },
   {
    "duration": 23,
    "start_time": "2021-11-20T13:15:12.808Z"
   },
   {
    "duration": 27,
    "start_time": "2021-11-20T13:15:12.834Z"
   },
   {
    "duration": 18,
    "start_time": "2021-11-20T13:15:12.864Z"
   },
   {
    "duration": 37,
    "start_time": "2021-11-20T13:15:12.885Z"
   },
   {
    "duration": 79,
    "start_time": "2021-11-20T13:15:12.925Z"
   },
   {
    "duration": 27,
    "start_time": "2021-11-20T13:15:13.007Z"
   },
   {
    "duration": 89,
    "start_time": "2021-11-20T13:15:13.037Z"
   },
   {
    "duration": 377,
    "start_time": "2021-11-20T13:15:13.129Z"
   },
   {
    "duration": 3424,
    "start_time": "2021-11-20T13:15:13.509Z"
   },
   {
    "duration": 19,
    "start_time": "2021-11-20T13:15:16.936Z"
   },
   {
    "duration": 15,
    "start_time": "2021-11-20T13:15:16.958Z"
   },
   {
    "duration": 38,
    "start_time": "2021-11-20T13:15:16.975Z"
   },
   {
    "duration": 101,
    "start_time": "2021-11-20T13:15:17.016Z"
   },
   {
    "duration": 41,
    "start_time": "2021-11-20T13:15:17.119Z"
   },
   {
    "duration": 19,
    "start_time": "2021-11-20T13:15:17.200Z"
   },
   {
    "duration": 9,
    "start_time": "2021-11-20T13:15:17.223Z"
   },
   {
    "duration": 31,
    "start_time": "2021-11-20T13:15:17.234Z"
   },
   {
    "duration": 60,
    "start_time": "2021-11-20T13:15:17.268Z"
   },
   {
    "duration": 113,
    "start_time": "2021-11-20T13:15:17.330Z"
   },
   {
    "duration": 4650,
    "start_time": "2021-11-20T13:15:17.446Z"
   },
   {
    "duration": 44,
    "start_time": "2021-11-20T13:15:22.098Z"
   },
   {
    "duration": 30,
    "start_time": "2021-11-20T13:15:22.145Z"
   },
   {
    "duration": 33,
    "start_time": "2021-11-20T13:15:22.206Z"
   },
   {
    "duration": 30,
    "start_time": "2021-11-20T13:15:22.242Z"
   },
   {
    "duration": 120,
    "start_time": "2021-11-20T13:16:47.797Z"
   },
   {
    "duration": 22,
    "start_time": "2021-11-20T13:16:47.921Z"
   },
   {
    "duration": 15,
    "start_time": "2021-11-20T13:16:47.946Z"
   },
   {
    "duration": 48,
    "start_time": "2021-11-20T13:16:47.964Z"
   },
   {
    "duration": 12,
    "start_time": "2021-11-20T13:16:48.020Z"
   },
   {
    "duration": 12,
    "start_time": "2021-11-20T13:16:48.035Z"
   },
   {
    "duration": 10,
    "start_time": "2021-11-20T13:16:48.050Z"
   },
   {
    "duration": 20,
    "start_time": "2021-11-20T13:16:48.106Z"
   },
   {
    "duration": 8,
    "start_time": "2021-11-20T13:16:48.129Z"
   },
   {
    "duration": 10,
    "start_time": "2021-11-20T13:16:48.140Z"
   },
   {
    "duration": 9,
    "start_time": "2021-11-20T13:16:48.152Z"
   },
   {
    "duration": 19,
    "start_time": "2021-11-20T13:16:48.209Z"
   },
   {
    "duration": 14,
    "start_time": "2021-11-20T13:16:48.230Z"
   },
   {
    "duration": 3,
    "start_time": "2021-11-20T13:16:48.247Z"
   },
   {
    "duration": 14,
    "start_time": "2021-11-20T13:16:51.855Z"
   },
   {
    "duration": 16,
    "start_time": "2021-11-20T13:17:32.503Z"
   },
   {
    "duration": 15,
    "start_time": "2021-11-20T13:17:34.844Z"
   },
   {
    "duration": 15,
    "start_time": "2021-11-20T13:17:35.835Z"
   },
   {
    "duration": 84,
    "start_time": "2021-11-20T13:17:43.696Z"
   },
   {
    "duration": 18,
    "start_time": "2021-11-20T13:17:43.783Z"
   },
   {
    "duration": 14,
    "start_time": "2021-11-20T13:17:43.805Z"
   },
   {
    "duration": 19,
    "start_time": "2021-11-20T13:17:43.823Z"
   },
   {
    "duration": 8,
    "start_time": "2021-11-20T13:17:43.845Z"
   },
   {
    "duration": 57,
    "start_time": "2021-11-20T13:17:43.857Z"
   },
   {
    "duration": 13,
    "start_time": "2021-11-20T13:17:43.918Z"
   },
   {
    "duration": 15,
    "start_time": "2021-11-20T13:17:43.934Z"
   },
   {
    "duration": 56,
    "start_time": "2021-11-20T13:17:43.953Z"
   },
   {
    "duration": 9,
    "start_time": "2021-11-20T13:17:44.012Z"
   },
   {
    "duration": 9,
    "start_time": "2021-11-20T13:17:44.024Z"
   },
   {
    "duration": 14,
    "start_time": "2021-11-20T13:17:44.036Z"
   },
   {
    "duration": 12,
    "start_time": "2021-11-20T13:17:44.053Z"
   },
   {
    "duration": 10,
    "start_time": "2021-11-20T13:17:47.161Z"
   },
   {
    "duration": 11,
    "start_time": "2021-11-20T13:19:14.509Z"
   },
   {
    "duration": 88,
    "start_time": "2021-11-20T13:19:19.681Z"
   },
   {
    "duration": 36,
    "start_time": "2021-11-20T13:19:19.772Z"
   },
   {
    "duration": 16,
    "start_time": "2021-11-20T13:19:19.813Z"
   },
   {
    "duration": 8,
    "start_time": "2021-11-20T13:19:19.832Z"
   },
   {
    "duration": 12,
    "start_time": "2021-11-20T13:19:19.843Z"
   },
   {
    "duration": 51,
    "start_time": "2021-11-20T13:19:19.857Z"
   },
   {
    "duration": 13,
    "start_time": "2021-11-20T13:19:19.911Z"
   },
   {
    "duration": 12,
    "start_time": "2021-11-20T13:19:19.927Z"
   },
   {
    "duration": 9,
    "start_time": "2021-11-20T13:19:19.941Z"
   },
   {
    "duration": 8,
    "start_time": "2021-11-20T13:19:19.952Z"
   },
   {
    "duration": 48,
    "start_time": "2021-11-20T13:19:19.962Z"
   },
   {
    "duration": 22,
    "start_time": "2021-11-20T13:19:20.015Z"
   },
   {
    "duration": 14,
    "start_time": "2021-11-20T13:19:20.040Z"
   },
   {
    "duration": 11,
    "start_time": "2021-11-20T13:19:22.844Z"
   },
   {
    "duration": 18,
    "start_time": "2021-11-20T13:20:02.358Z"
   },
   {
    "duration": 13,
    "start_time": "2021-11-20T13:20:14.437Z"
   },
   {
    "duration": 50,
    "start_time": "2021-11-20T13:20:43.625Z"
   },
   {
    "duration": 17,
    "start_time": "2021-11-20T13:20:59.116Z"
   },
   {
    "duration": 19,
    "start_time": "2021-11-20T13:21:20.179Z"
   },
   {
    "duration": 13,
    "start_time": "2021-11-20T13:21:56.423Z"
   },
   {
    "duration": 14,
    "start_time": "2021-11-20T13:22:58.128Z"
   },
   {
    "duration": 17,
    "start_time": "2021-11-20T13:23:21.495Z"
   },
   {
    "duration": 21,
    "start_time": "2021-11-20T13:23:24.223Z"
   },
   {
    "duration": 119,
    "start_time": "2021-11-20T13:23:39.181Z"
   },
   {
    "duration": 24,
    "start_time": "2021-11-20T13:23:39.303Z"
   },
   {
    "duration": 17,
    "start_time": "2021-11-20T13:23:39.331Z"
   },
   {
    "duration": 10,
    "start_time": "2021-11-20T13:23:39.352Z"
   },
   {
    "duration": 47,
    "start_time": "2021-11-20T13:23:39.365Z"
   },
   {
    "duration": 13,
    "start_time": "2021-11-20T13:23:39.416Z"
   },
   {
    "duration": 15,
    "start_time": "2021-11-20T13:23:39.432Z"
   },
   {
    "duration": 51,
    "start_time": "2021-11-20T13:23:39.452Z"
   },
   {
    "duration": 10,
    "start_time": "2021-11-20T13:23:39.510Z"
   },
   {
    "duration": 12,
    "start_time": "2021-11-20T13:23:39.522Z"
   },
   {
    "duration": 7,
    "start_time": "2021-11-20T13:23:39.536Z"
   },
   {
    "duration": 17,
    "start_time": "2021-11-20T13:23:39.545Z"
   },
   {
    "duration": 50,
    "start_time": "2021-11-20T13:23:39.565Z"
   },
   {
    "duration": 19,
    "start_time": "2021-11-20T13:23:39.620Z"
   },
   {
    "duration": 13,
    "start_time": "2021-11-20T13:23:44.584Z"
   },
   {
    "duration": 13,
    "start_time": "2021-11-20T13:23:45.424Z"
   },
   {
    "duration": 14,
    "start_time": "2021-11-20T13:23:48.925Z"
   },
   {
    "duration": 16,
    "start_time": "2021-11-20T13:23:49.760Z"
   },
   {
    "duration": 4,
    "start_time": "2021-11-20T13:25:15.745Z"
   },
   {
    "duration": 10,
    "start_time": "2021-11-20T13:25:31.929Z"
   },
   {
    "duration": 114,
    "start_time": "2021-11-20T13:26:34.405Z"
   },
   {
    "duration": 108,
    "start_time": "2021-11-20T13:27:00.943Z"
   },
   {
    "duration": 11,
    "start_time": "2021-11-20T13:27:36.622Z"
   },
   {
    "duration": 79,
    "start_time": "2021-11-20T13:27:46.930Z"
   },
   {
    "duration": 18,
    "start_time": "2021-11-20T13:27:47.015Z"
   },
   {
    "duration": 26,
    "start_time": "2021-11-20T13:27:47.037Z"
   },
   {
    "duration": 8,
    "start_time": "2021-11-20T13:27:47.066Z"
   },
   {
    "duration": 12,
    "start_time": "2021-11-20T13:27:47.109Z"
   },
   {
    "duration": 11,
    "start_time": "2021-11-20T13:27:47.124Z"
   },
   {
    "duration": 9,
    "start_time": "2021-11-20T13:27:47.139Z"
   },
   {
    "duration": 50,
    "start_time": "2021-11-20T13:27:47.153Z"
   },
   {
    "duration": 10,
    "start_time": "2021-11-20T13:27:47.207Z"
   },
   {
    "duration": 10,
    "start_time": "2021-11-20T13:27:47.220Z"
   },
   {
    "duration": 9,
    "start_time": "2021-11-20T13:27:47.233Z"
   },
   {
    "duration": 16,
    "start_time": "2021-11-20T13:27:47.245Z"
   },
   {
    "duration": 18,
    "start_time": "2021-11-20T13:27:47.306Z"
   },
   {
    "duration": 4,
    "start_time": "2021-11-20T13:27:47.327Z"
   },
   {
    "duration": 14,
    "start_time": "2021-11-20T13:27:50.616Z"
   },
   {
    "duration": 13,
    "start_time": "2021-11-20T13:28:56.029Z"
   },
   {
    "duration": 17,
    "start_time": "2021-11-20T13:29:26.915Z"
   },
   {
    "duration": 39,
    "start_time": "2021-11-20T13:30:07.182Z"
   },
   {
    "duration": 38,
    "start_time": "2021-11-20T13:30:45.738Z"
   },
   {
    "duration": 14,
    "start_time": "2021-11-20T13:30:54.833Z"
   },
   {
    "duration": 21,
    "start_time": "2021-11-20T13:32:10.300Z"
   },
   {
    "duration": 15,
    "start_time": "2021-11-20T13:32:27.625Z"
   },
   {
    "duration": 530,
    "start_time": "2021-11-20T13:32:36.909Z"
   },
   {
    "duration": 13,
    "start_time": "2021-11-20T13:32:44.322Z"
   },
   {
    "duration": 13,
    "start_time": "2021-11-20T13:33:04.626Z"
   },
   {
    "duration": 11,
    "start_time": "2021-11-20T13:33:16.472Z"
   },
   {
    "duration": 12,
    "start_time": "2021-11-20T13:33:51.330Z"
   },
   {
    "duration": 12,
    "start_time": "2021-11-20T13:34:03.772Z"
   },
   {
    "duration": 11,
    "start_time": "2021-11-20T13:34:12.327Z"
   },
   {
    "duration": 968,
    "start_time": "2021-11-20T13:36:16.227Z"
   },
   {
    "duration": 23,
    "start_time": "2021-11-20T13:36:17.199Z"
   },
   {
    "duration": 16,
    "start_time": "2021-11-20T13:36:17.226Z"
   },
   {
    "duration": 10,
    "start_time": "2021-11-20T13:36:17.245Z"
   },
   {
    "duration": 48,
    "start_time": "2021-11-20T13:36:17.258Z"
   },
   {
    "duration": 12,
    "start_time": "2021-11-20T13:36:17.309Z"
   },
   {
    "duration": 9,
    "start_time": "2021-11-20T13:36:17.324Z"
   },
   {
    "duration": 17,
    "start_time": "2021-11-20T13:36:17.339Z"
   },
   {
    "duration": 51,
    "start_time": "2021-11-20T13:36:17.360Z"
   },
   {
    "duration": 12,
    "start_time": "2021-11-20T13:36:17.414Z"
   },
   {
    "duration": 9,
    "start_time": "2021-11-20T13:36:17.429Z"
   },
   {
    "duration": 15,
    "start_time": "2021-11-20T13:36:17.441Z"
   },
   {
    "duration": 56,
    "start_time": "2021-11-20T13:36:17.459Z"
   },
   {
    "duration": 6,
    "start_time": "2021-11-20T13:36:17.518Z"
   },
   {
    "duration": 14,
    "start_time": "2021-11-20T13:36:17.527Z"
   },
   {
    "duration": 3,
    "start_time": "2021-11-20T13:36:17.543Z"
   },
   {
    "duration": 12,
    "start_time": "2021-11-20T13:36:17.548Z"
   },
   {
    "duration": 73,
    "start_time": "2021-11-20T13:36:17.563Z"
   },
   {
    "duration": 8,
    "start_time": "2021-11-20T13:36:17.638Z"
   },
   {
    "duration": 19,
    "start_time": "2021-11-20T13:36:17.649Z"
   },
   {
    "duration": 60,
    "start_time": "2021-11-20T13:36:17.699Z"
   },
   {
    "duration": 67,
    "start_time": "2021-11-20T13:36:17.762Z"
   },
   {
    "duration": 12,
    "start_time": "2021-11-20T13:36:17.837Z"
   },
   {
    "duration": 17,
    "start_time": "2021-11-20T13:36:17.853Z"
   },
   {
    "duration": 35,
    "start_time": "2021-11-20T13:36:17.873Z"
   },
   {
    "duration": 53,
    "start_time": "2021-11-20T13:36:17.911Z"
   },
   {
    "duration": 3,
    "start_time": "2021-11-20T13:36:17.966Z"
   },
   {
    "duration": 39,
    "start_time": "2021-11-20T13:36:17.972Z"
   },
   {
    "duration": 23,
    "start_time": "2021-11-20T13:36:18.014Z"
   },
   {
    "duration": 14,
    "start_time": "2021-11-20T13:36:18.040Z"
   },
   {
    "duration": 15,
    "start_time": "2021-11-20T13:36:18.056Z"
   },
   {
    "duration": 49,
    "start_time": "2021-11-20T13:36:18.072Z"
   },
   {
    "duration": 33,
    "start_time": "2021-11-20T13:36:18.124Z"
   },
   {
    "duration": 3,
    "start_time": "2021-11-20T13:36:18.160Z"
   },
   {
    "duration": 40,
    "start_time": "2021-11-20T13:36:18.165Z"
   },
   {
    "duration": 9,
    "start_time": "2021-11-20T13:36:18.207Z"
   },
   {
    "duration": 22,
    "start_time": "2021-11-20T13:36:18.218Z"
   },
   {
    "duration": 25,
    "start_time": "2021-11-20T13:36:18.243Z"
   },
   {
    "duration": 81,
    "start_time": "2021-11-20T13:36:18.270Z"
   },
   {
    "duration": 22,
    "start_time": "2021-11-20T13:36:18.353Z"
   },
   {
    "duration": 64,
    "start_time": "2021-11-20T13:36:18.377Z"
   },
   {
    "duration": 274,
    "start_time": "2021-11-20T13:36:18.443Z"
   },
   {
    "duration": 3505,
    "start_time": "2021-11-20T13:36:18.720Z"
   },
   {
    "duration": 16,
    "start_time": "2021-11-20T13:36:22.228Z"
   },
   {
    "duration": 8,
    "start_time": "2021-11-20T13:36:22.247Z"
   },
   {
    "duration": 59,
    "start_time": "2021-11-20T13:36:22.258Z"
   },
   {
    "duration": 108,
    "start_time": "2021-11-20T13:36:22.320Z"
   },
   {
    "duration": 74,
    "start_time": "2021-11-20T13:36:22.430Z"
   },
   {
    "duration": 13,
    "start_time": "2021-11-20T13:36:22.506Z"
   },
   {
    "duration": 6,
    "start_time": "2021-11-20T13:36:22.522Z"
   },
   {
    "duration": 15,
    "start_time": "2021-11-20T13:36:22.531Z"
   },
   {
    "duration": 110,
    "start_time": "2021-11-20T13:36:22.549Z"
   },
   {
    "duration": 108,
    "start_time": "2021-11-20T13:36:22.663Z"
   },
   {
    "duration": 4153,
    "start_time": "2021-11-20T13:36:22.773Z"
   },
   {
    "duration": 33,
    "start_time": "2021-11-20T13:36:26.928Z"
   },
   {
    "duration": 49,
    "start_time": "2021-11-20T13:36:26.964Z"
   },
   {
    "duration": 27,
    "start_time": "2021-11-20T13:36:27.018Z"
   },
   {
    "duration": 57,
    "start_time": "2021-11-20T13:36:27.047Z"
   },
   {
    "duration": 1026,
    "start_time": "2021-11-20T14:05:32.178Z"
   },
   {
    "duration": 17,
    "start_time": "2021-11-20T14:05:33.208Z"
   },
   {
    "duration": 11,
    "start_time": "2021-11-20T14:05:33.228Z"
   },
   {
    "duration": 7,
    "start_time": "2021-11-20T14:05:33.242Z"
   },
   {
    "duration": 49,
    "start_time": "2021-11-20T14:05:33.252Z"
   },
   {
    "duration": 13,
    "start_time": "2021-11-20T14:05:33.304Z"
   },
   {
    "duration": 9,
    "start_time": "2021-11-20T14:05:33.324Z"
   },
   {
    "duration": 62,
    "start_time": "2021-11-20T14:05:33.339Z"
   },
   {
    "duration": 9,
    "start_time": "2021-11-20T14:05:33.406Z"
   },
   {
    "duration": 10,
    "start_time": "2021-11-20T14:05:33.418Z"
   },
   {
    "duration": 12,
    "start_time": "2021-11-20T14:05:33.430Z"
   },
   {
    "duration": 13,
    "start_time": "2021-11-20T14:05:33.444Z"
   },
   {
    "duration": 47,
    "start_time": "2021-11-20T14:05:33.459Z"
   },
   {
    "duration": 10,
    "start_time": "2021-11-20T14:05:33.509Z"
   },
   {
    "duration": 17,
    "start_time": "2021-11-20T14:05:33.522Z"
   },
   {
    "duration": 3,
    "start_time": "2021-11-20T14:05:33.541Z"
   },
   {
    "duration": 15,
    "start_time": "2021-11-20T14:05:33.546Z"
   },
   {
    "duration": 56,
    "start_time": "2021-11-20T14:05:33.563Z"
   },
   {
    "duration": 9,
    "start_time": "2021-11-20T14:05:33.622Z"
   },
   {
    "duration": 28,
    "start_time": "2021-11-20T14:05:33.634Z"
   },
   {
    "duration": 86,
    "start_time": "2021-11-20T14:05:33.664Z"
   },
   {
    "duration": 20,
    "start_time": "2021-11-20T14:05:33.753Z"
   },
   {
    "duration": 13,
    "start_time": "2021-11-20T14:05:33.803Z"
   },
   {
    "duration": 17,
    "start_time": "2021-11-20T14:05:33.820Z"
   },
   {
    "duration": 20,
    "start_time": "2021-11-20T14:05:33.839Z"
   },
   {
    "duration": 91,
    "start_time": "2021-11-20T14:05:33.861Z"
   },
   {
    "duration": 57,
    "start_time": "2021-11-20T14:05:33.954Z"
   },
   {
    "duration": 17,
    "start_time": "2021-11-20T14:05:34.014Z"
   },
   {
    "duration": 69,
    "start_time": "2021-11-20T14:05:34.034Z"
   },
   {
    "duration": 32,
    "start_time": "2021-11-20T14:05:34.105Z"
   },
   {
    "duration": 30,
    "start_time": "2021-11-20T14:05:34.140Z"
   },
   {
    "duration": 25,
    "start_time": "2021-11-20T14:05:34.173Z"
   },
   {
    "duration": 31,
    "start_time": "2021-11-20T14:05:34.202Z"
   },
   {
    "duration": 5,
    "start_time": "2021-11-20T14:05:34.236Z"
   },
   {
    "duration": 36,
    "start_time": "2021-11-20T14:05:34.245Z"
   },
   {
    "duration": 34,
    "start_time": "2021-11-20T14:05:34.284Z"
   },
   {
    "duration": 42,
    "start_time": "2021-11-20T14:05:34.320Z"
   },
   {
    "duration": 34,
    "start_time": "2021-11-20T14:05:34.364Z"
   },
   {
    "duration": 51,
    "start_time": "2021-11-20T14:05:34.401Z"
   },
   {
    "duration": 47,
    "start_time": "2021-11-20T14:05:34.454Z"
   },
   {
    "duration": 52,
    "start_time": "2021-11-20T14:05:34.504Z"
   },
   {
    "duration": 290,
    "start_time": "2021-11-20T14:05:34.559Z"
   },
   {
    "duration": 3814,
    "start_time": "2021-11-20T14:05:34.852Z"
   },
   {
    "duration": 13,
    "start_time": "2021-11-20T14:05:38.668Z"
   },
   {
    "duration": 22,
    "start_time": "2021-11-20T14:05:38.683Z"
   },
   {
    "duration": 22,
    "start_time": "2021-11-20T14:05:38.709Z"
   },
   {
    "duration": 125,
    "start_time": "2021-11-20T14:05:38.734Z"
   },
   {
    "duration": 69,
    "start_time": "2021-11-20T14:05:38.861Z"
   },
   {
    "duration": 12,
    "start_time": "2021-11-20T14:05:38.933Z"
   },
   {
    "duration": 3,
    "start_time": "2021-11-20T14:05:38.948Z"
   },
   {
    "duration": 58,
    "start_time": "2021-11-20T14:05:38.953Z"
   },
   {
    "duration": 38,
    "start_time": "2021-11-20T14:05:39.014Z"
   },
   {
    "duration": 149,
    "start_time": "2021-11-20T14:05:39.055Z"
   },
   {
    "duration": 4699,
    "start_time": "2021-11-20T14:05:39.207Z"
   },
   {
    "duration": 40,
    "start_time": "2021-11-20T14:05:43.909Z"
   },
   {
    "duration": 27,
    "start_time": "2021-11-20T14:05:43.951Z"
   },
   {
    "duration": 39,
    "start_time": "2021-11-20T14:05:43.981Z"
   },
   {
    "duration": 78,
    "start_time": "2021-11-20T14:05:44.023Z"
   },
   {
    "duration": 939,
    "start_time": "2021-11-20T14:15:56.652Z"
   },
   {
    "duration": 20,
    "start_time": "2021-11-20T14:15:57.594Z"
   },
   {
    "duration": 15,
    "start_time": "2021-11-20T14:15:57.619Z"
   },
   {
    "duration": 8,
    "start_time": "2021-11-20T14:15:57.638Z"
   },
   {
    "duration": 10,
    "start_time": "2021-11-20T14:15:57.649Z"
   },
   {
    "duration": 13,
    "start_time": "2021-11-20T14:15:57.703Z"
   },
   {
    "duration": 8,
    "start_time": "2021-11-20T14:15:57.719Z"
   },
   {
    "duration": 11,
    "start_time": "2021-11-20T14:15:57.732Z"
   },
   {
    "duration": 58,
    "start_time": "2021-11-20T14:15:57.746Z"
   },
   {
    "duration": 17,
    "start_time": "2021-11-20T14:15:57.806Z"
   },
   {
    "duration": 9,
    "start_time": "2021-11-20T14:15:57.825Z"
   },
   {
    "duration": 17,
    "start_time": "2021-11-20T14:15:57.836Z"
   },
   {
    "duration": 46,
    "start_time": "2021-11-20T14:15:57.855Z"
   },
   {
    "duration": 4,
    "start_time": "2021-11-20T14:15:57.905Z"
   },
   {
    "duration": 27,
    "start_time": "2021-11-20T14:15:57.912Z"
   },
   {
    "duration": 3,
    "start_time": "2021-11-20T14:15:57.941Z"
   },
   {
    "duration": 13,
    "start_time": "2021-11-20T14:15:57.946Z"
   },
   {
    "duration": 64,
    "start_time": "2021-11-20T14:15:57.961Z"
   },
   {
    "duration": 8,
    "start_time": "2021-11-20T14:15:58.028Z"
   },
   {
    "duration": 24,
    "start_time": "2021-11-20T14:15:58.039Z"
   },
   {
    "duration": 82,
    "start_time": "2021-11-20T14:15:58.066Z"
   },
   {
    "duration": 20,
    "start_time": "2021-11-20T14:15:58.151Z"
   },
   {
    "duration": 35,
    "start_time": "2021-11-20T14:15:58.177Z"
   },
   {
    "duration": 16,
    "start_time": "2021-11-20T14:15:58.217Z"
   },
   {
    "duration": 16,
    "start_time": "2021-11-20T14:15:58.236Z"
   },
   {
    "duration": 92,
    "start_time": "2021-11-20T14:15:58.254Z"
   },
   {
    "duration": 3,
    "start_time": "2021-11-20T14:15:58.349Z"
   },
   {
    "duration": 15,
    "start_time": "2021-11-20T14:15:58.354Z"
   },
   {
    "duration": 42,
    "start_time": "2021-11-20T14:15:58.372Z"
   },
   {
    "duration": 17,
    "start_time": "2021-11-20T14:15:58.416Z"
   },
   {
    "duration": 16,
    "start_time": "2021-11-20T14:15:58.435Z"
   },
   {
    "duration": 57,
    "start_time": "2021-11-20T14:15:58.454Z"
   },
   {
    "duration": 23,
    "start_time": "2021-11-20T14:15:58.514Z"
   },
   {
    "duration": 2,
    "start_time": "2021-11-20T14:15:58.540Z"
   },
   {
    "duration": 8,
    "start_time": "2021-11-20T14:15:58.545Z"
   },
   {
    "duration": 47,
    "start_time": "2021-11-20T14:15:58.556Z"
   },
   {
    "duration": 14,
    "start_time": "2021-11-20T14:15:58.606Z"
   },
   {
    "duration": 25,
    "start_time": "2021-11-20T14:15:58.622Z"
   },
   {
    "duration": 73,
    "start_time": "2021-11-20T14:15:58.649Z"
   },
   {
    "duration": 23,
    "start_time": "2021-11-20T14:15:58.725Z"
   },
   {
    "duration": 79,
    "start_time": "2021-11-20T14:15:58.751Z"
   },
   {
    "duration": 290,
    "start_time": "2021-11-20T14:15:58.832Z"
   },
   {
    "duration": 3785,
    "start_time": "2021-11-20T14:15:59.124Z"
   },
   {
    "duration": 16,
    "start_time": "2021-11-20T14:16:02.912Z"
   },
   {
    "duration": 6,
    "start_time": "2021-11-20T14:16:02.931Z"
   },
   {
    "duration": 18,
    "start_time": "2021-11-20T14:16:02.940Z"
   },
   {
    "duration": 124,
    "start_time": "2021-11-20T14:16:02.961Z"
   },
   {
    "duration": 56,
    "start_time": "2021-11-20T14:16:03.087Z"
   },
   {
    "duration": 59,
    "start_time": "2021-11-20T14:16:03.146Z"
   },
   {
    "duration": 6,
    "start_time": "2021-11-20T14:16:03.210Z"
   },
   {
    "duration": 12,
    "start_time": "2021-11-20T14:16:03.219Z"
   },
   {
    "duration": 76,
    "start_time": "2021-11-20T14:16:03.234Z"
   },
   {
    "duration": 115,
    "start_time": "2021-11-20T14:16:03.313Z"
   },
   {
    "duration": 3835,
    "start_time": "2021-11-20T14:16:03.430Z"
   },
   {
    "duration": 57,
    "start_time": "2021-11-20T14:16:07.268Z"
   },
   {
    "duration": 29,
    "start_time": "2021-11-20T14:16:07.328Z"
   },
   {
    "duration": 51,
    "start_time": "2021-11-20T14:16:07.359Z"
   },
   {
    "duration": 32,
    "start_time": "2021-11-20T14:16:07.413Z"
   },
   {
    "duration": 31,
    "start_time": "2021-11-20T14:18:14.014Z"
   },
   {
    "duration": 33,
    "start_time": "2021-11-20T14:19:35.123Z"
   },
   {
    "duration": 938,
    "start_time": "2021-11-20T14:19:58.723Z"
   },
   {
    "duration": 16,
    "start_time": "2021-11-20T14:19:59.663Z"
   },
   {
    "duration": 19,
    "start_time": "2021-11-20T14:19:59.706Z"
   },
   {
    "duration": 9,
    "start_time": "2021-11-20T14:19:59.728Z"
   },
   {
    "duration": 7,
    "start_time": "2021-11-20T14:19:59.740Z"
   },
   {
    "duration": 54,
    "start_time": "2021-11-20T14:19:59.749Z"
   },
   {
    "duration": 11,
    "start_time": "2021-11-20T14:19:59.807Z"
   },
   {
    "duration": 14,
    "start_time": "2021-11-20T14:19:59.824Z"
   },
   {
    "duration": 8,
    "start_time": "2021-11-20T14:19:59.843Z"
   },
   {
    "duration": 51,
    "start_time": "2021-11-20T14:19:59.854Z"
   },
   {
    "duration": 9,
    "start_time": "2021-11-20T14:19:59.908Z"
   },
   {
    "duration": 20,
    "start_time": "2021-11-20T14:19:59.919Z"
   },
   {
    "duration": 16,
    "start_time": "2021-11-20T14:19:59.942Z"
   },
   {
    "duration": 65,
    "start_time": "2021-11-20T14:19:59.961Z"
   },
   {
    "duration": 31,
    "start_time": "2021-11-20T14:20:00.029Z"
   },
   {
    "duration": 6,
    "start_time": "2021-11-20T14:20:00.062Z"
   },
   {
    "duration": 33,
    "start_time": "2021-11-20T14:20:00.071Z"
   },
   {
    "duration": 54,
    "start_time": "2021-11-20T14:20:00.109Z"
   },
   {
    "duration": 8,
    "start_time": "2021-11-20T14:20:00.166Z"
   },
   {
    "duration": 55,
    "start_time": "2021-11-20T14:20:00.176Z"
   },
   {
    "duration": 52,
    "start_time": "2021-11-20T14:20:00.233Z"
   },
   {
    "duration": 36,
    "start_time": "2021-11-20T14:20:00.287Z"
   },
   {
    "duration": 11,
    "start_time": "2021-11-20T14:20:00.331Z"
   },
   {
    "duration": 75,
    "start_time": "2021-11-20T14:20:00.347Z"
   },
   {
    "duration": 31,
    "start_time": "2021-11-20T14:20:00.425Z"
   },
   {
    "duration": 88,
    "start_time": "2021-11-20T14:20:00.460Z"
   },
   {
    "duration": 4,
    "start_time": "2021-11-20T14:20:00.551Z"
   },
   {
    "duration": 25,
    "start_time": "2021-11-20T14:20:00.558Z"
   },
   {
    "duration": 38,
    "start_time": "2021-11-20T14:20:00.586Z"
   },
   {
    "duration": 19,
    "start_time": "2021-11-20T14:20:00.627Z"
   },
   {
    "duration": 27,
    "start_time": "2021-11-20T14:20:00.648Z"
   },
   {
    "duration": 45,
    "start_time": "2021-11-20T14:20:00.677Z"
   },
   {
    "duration": 44,
    "start_time": "2021-11-20T14:20:00.725Z"
   },
   {
    "duration": 4,
    "start_time": "2021-11-20T14:20:00.772Z"
   },
   {
    "duration": 24,
    "start_time": "2021-11-20T14:20:00.779Z"
   },
   {
    "duration": 16,
    "start_time": "2021-11-20T14:20:00.806Z"
   },
   {
    "duration": 17,
    "start_time": "2021-11-20T14:20:00.826Z"
   },
   {
    "duration": 38,
    "start_time": "2021-11-20T14:20:00.847Z"
   },
   {
    "duration": 81,
    "start_time": "2021-11-20T14:20:00.889Z"
   },
   {
    "duration": 58,
    "start_time": "2021-11-20T14:20:00.973Z"
   },
   {
    "duration": 47,
    "start_time": "2021-11-20T14:20:01.034Z"
   },
   {
    "duration": 309,
    "start_time": "2021-11-20T14:20:01.084Z"
   },
   {
    "duration": 3546,
    "start_time": "2021-11-20T14:20:01.396Z"
   },
   {
    "duration": 14,
    "start_time": "2021-11-20T14:20:04.945Z"
   },
   {
    "duration": 21,
    "start_time": "2021-11-20T14:20:04.961Z"
   },
   {
    "duration": 30,
    "start_time": "2021-11-20T14:20:04.984Z"
   },
   {
    "duration": 161,
    "start_time": "2021-11-20T14:20:05.017Z"
   },
   {
    "duration": 62,
    "start_time": "2021-11-20T14:20:05.181Z"
   },
   {
    "duration": 10,
    "start_time": "2021-11-20T14:20:05.245Z"
   },
   {
    "duration": 4,
    "start_time": "2021-11-20T14:20:05.302Z"
   },
   {
    "duration": 22,
    "start_time": "2021-11-20T14:20:05.310Z"
   },
   {
    "duration": 68,
    "start_time": "2021-11-20T14:20:05.335Z"
   },
   {
    "duration": 122,
    "start_time": "2021-11-20T14:20:05.407Z"
   },
   {
    "duration": 4281,
    "start_time": "2021-11-20T14:20:05.532Z"
   },
   {
    "duration": 38,
    "start_time": "2021-11-20T14:20:09.816Z"
   },
   {
    "duration": 56,
    "start_time": "2021-11-20T14:20:09.856Z"
   },
   {
    "duration": 29,
    "start_time": "2021-11-20T14:20:09.915Z"
   },
   {
    "duration": 29,
    "start_time": "2021-11-20T14:20:09.946Z"
   },
   {
    "duration": 875,
    "start_time": "2021-11-21T09:29:16.434Z"
   },
   {
    "duration": 20,
    "start_time": "2021-11-21T09:29:17.312Z"
   },
   {
    "duration": 12,
    "start_time": "2021-11-21T09:29:17.335Z"
   },
   {
    "duration": 7,
    "start_time": "2021-11-21T09:29:17.350Z"
   },
   {
    "duration": 10,
    "start_time": "2021-11-21T09:29:17.360Z"
   },
   {
    "duration": 12,
    "start_time": "2021-11-21T09:29:17.372Z"
   },
   {
    "duration": 48,
    "start_time": "2021-11-21T09:29:17.387Z"
   },
   {
    "duration": 13,
    "start_time": "2021-11-21T09:29:17.439Z"
   },
   {
    "duration": 7,
    "start_time": "2021-11-21T09:29:17.455Z"
   },
   {
    "duration": 9,
    "start_time": "2021-11-21T09:29:17.464Z"
   },
   {
    "duration": 11,
    "start_time": "2021-11-21T09:29:17.476Z"
   },
   {
    "duration": 13,
    "start_time": "2021-11-21T09:29:17.530Z"
   },
   {
    "duration": 13,
    "start_time": "2021-11-21T09:29:17.546Z"
   },
   {
    "duration": 8,
    "start_time": "2021-11-21T09:29:17.561Z"
   },
   {
    "duration": 15,
    "start_time": "2021-11-21T09:29:17.572Z"
   },
   {
    "duration": 3,
    "start_time": "2021-11-21T09:29:17.590Z"
   },
   {
    "duration": 11,
    "start_time": "2021-11-21T09:29:17.629Z"
   },
   {
    "duration": 26,
    "start_time": "2021-11-21T09:29:17.642Z"
   },
   {
    "duration": 9,
    "start_time": "2021-11-21T09:29:17.671Z"
   },
   {
    "duration": 58,
    "start_time": "2021-11-21T09:29:17.683Z"
   },
   {
    "duration": 50,
    "start_time": "2021-11-21T09:29:17.743Z"
   },
   {
    "duration": 55,
    "start_time": "2021-11-21T09:29:17.796Z"
   },
   {
    "duration": 10,
    "start_time": "2021-11-21T09:29:17.858Z"
   },
   {
    "duration": 15,
    "start_time": "2021-11-21T09:29:17.872Z"
   },
   {
    "duration": 52,
    "start_time": "2021-11-21T09:29:17.890Z"
   },
   {
    "duration": 48,
    "start_time": "2021-11-21T09:29:17.945Z"
   },
   {
    "duration": 3,
    "start_time": "2021-11-21T09:29:17.996Z"
   },
   {
    "duration": 14,
    "start_time": "2021-11-21T09:29:18.030Z"
   },
   {
    "duration": 34,
    "start_time": "2021-11-21T09:29:18.046Z"
   },
   {
    "duration": 16,
    "start_time": "2021-11-21T09:29:18.083Z"
   },
   {
    "duration": 41,
    "start_time": "2021-11-21T09:29:18.101Z"
   },
   {
    "duration": 19,
    "start_time": "2021-11-21T09:29:18.144Z"
   },
   {
    "duration": 23,
    "start_time": "2021-11-21T09:29:18.165Z"
   },
   {
    "duration": 15,
    "start_time": "2021-11-21T09:29:18.190Z"
   },
   {
    "duration": 24,
    "start_time": "2021-11-21T09:29:18.207Z"
   },
   {
    "duration": 3,
    "start_time": "2021-11-21T09:29:18.233Z"
   },
   {
    "duration": 9,
    "start_time": "2021-11-21T09:29:18.238Z"
   },
   {
    "duration": 23,
    "start_time": "2021-11-21T09:29:18.249Z"
   },
   {
    "duration": 71,
    "start_time": "2021-11-21T09:29:18.274Z"
   },
   {
    "duration": 22,
    "start_time": "2021-11-21T09:29:18.347Z"
   },
   {
    "duration": 72,
    "start_time": "2021-11-21T09:29:18.372Z"
   },
   {
    "duration": 345,
    "start_time": "2021-11-21T09:29:18.446Z"
   },
   {
    "duration": 3277,
    "start_time": "2021-11-21T09:29:18.794Z"
   },
   {
    "duration": 13,
    "start_time": "2021-11-21T09:29:22.074Z"
   },
   {
    "duration": 9,
    "start_time": "2021-11-21T09:29:22.090Z"
   },
   {
    "duration": 43,
    "start_time": "2021-11-21T09:29:22.101Z"
   },
   {
    "duration": 98,
    "start_time": "2021-11-21T09:29:22.146Z"
   },
   {
    "duration": 84,
    "start_time": "2021-11-21T09:29:22.246Z"
   },
   {
    "duration": 13,
    "start_time": "2021-11-21T09:29:22.333Z"
   },
   {
    "duration": 25,
    "start_time": "2021-11-21T09:29:22.349Z"
   },
   {
    "duration": 28,
    "start_time": "2021-11-21T09:29:22.377Z"
   },
   {
    "duration": 54,
    "start_time": "2021-11-21T09:29:22.407Z"
   },
   {
    "duration": 100,
    "start_time": "2021-11-21T09:29:22.463Z"
   },
   {
    "duration": 3623,
    "start_time": "2021-11-21T09:29:22.566Z"
   },
   {
    "duration": 51,
    "start_time": "2021-11-21T09:29:26.191Z"
   },
   {
    "duration": 27,
    "start_time": "2021-11-21T09:29:26.244Z"
   },
   {
    "duration": 27,
    "start_time": "2021-11-21T09:29:26.273Z"
   },
   {
    "duration": 55,
    "start_time": "2021-11-21T09:29:26.302Z"
   }
  ],
  "colab": {
   "collapsed_sections": [
    "LJUaqZ_oSnrX",
    "v9xnPbXJSnrZ",
    "_kV7a_0RSnra",
    "fmdNSGNxSnrc",
    "WDwkiejbSnrl",
    "ZB7oT2YxSnrr",
    "l0qHvTekSnrx",
    "oAEVvlX0Snry"
   ],
   "name": "debt_probability.ipynb",
   "provenance": [],
   "toc_visible": true
  },
  "kernelspec": {
   "display_name": "Python 3 (ipykernel)",
   "language": "python",
   "name": "python3"
  },
  "language_info": {
   "codemirror_mode": {
    "name": "ipython",
    "version": 3
   },
   "file_extension": ".py",
   "mimetype": "text/x-python",
   "name": "python",
   "nbconvert_exporter": "python",
   "pygments_lexer": "ipython3",
   "version": "3.9.12"
  },
  "toc": {
   "base_numbering": 1,
   "nav_menu": {},
   "number_sections": true,
   "sideBar": true,
   "skip_h1_title": true,
   "title_cell": "Table of Contents",
   "title_sidebar": "Contents",
   "toc_cell": false,
   "toc_position": {
    "height": "calc(100% - 180px)",
    "left": "10px",
    "top": "150px",
    "width": "366.391px"
   },
   "toc_section_display": true,
   "toc_window_display": false
  }
 },
 "nbformat": 4,
 "nbformat_minor": 4
}
