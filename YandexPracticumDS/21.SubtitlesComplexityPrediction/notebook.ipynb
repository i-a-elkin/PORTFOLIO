{
 "cells": [
  {
   "cell_type": "markdown",
   "metadata": {
    "pycharm": {
     "name": "#%% md\n"
    }
   },
   "source": [
    "# Импорт модулей"
   ]
  },
  {
   "cell_type": "code",
   "execution_count": 1,
   "metadata": {
    "collapsed": false,
    "jupyter": {
     "outputs_hidden": false
    },
    "pycharm": {
     "name": "#%%\n"
    }
   },
   "outputs": [],
   "source": [
    "import pandas as pd\n",
    "\n",
    "import pysrt\n",
    "import os\n",
    "\n",
    "import re\n",
    "import nltk\n",
    "# nltk.download('punkt')\n",
    "from nltk.stem.snowball import SnowballStemmer\n",
    "\n",
    "from sklearn.feature_extraction.text import TfidfVectorizer\n",
    "from sklearn.model_selection import train_test_split\n",
    "from sklearn.metrics import accuracy_score, classification_report\n",
    "\n",
    "from sklearn.naive_bayes import MultinomialNB\n",
    "from sklearn.linear_model import LogisticRegression\n",
    "from sklearn.neighbors import KNeighborsClassifier\n",
    "from sklearn.svm import LinearSVC"
   ]
  },
  {
   "cell_type": "markdown",
   "metadata": {
    "pycharm": {
     "name": "#%% md\n"
    }
   },
   "source": [
    "# Предварительная Обработка"
   ]
  },
  {
   "cell_type": "markdown",
   "metadata": {
    "pycharm": {
     "name": "#%% md\n"
    }
   },
   "source": [
    "Введем константы."
   ]
  },
  {
   "cell_type": "code",
   "execution_count": 2,
   "metadata": {
    "collapsed": false,
    "jupyter": {
     "outputs_hidden": false
    },
    "pycharm": {
     "name": "#%%\n"
    }
   },
   "outputs": [],
   "source": [
    "SUBS_DIR = './subtitles/'\n",
    "SEED = 5115"
   ]
  },
  {
   "cell_type": "markdown",
   "metadata": {
    "pycharm": {
     "name": "#%% md\n"
    }
   },
   "source": [
    "Откроем файл с разметкой данных"
   ]
  },
  {
   "cell_type": "code",
   "execution_count": 3,
   "metadata": {
    "collapsed": false,
    "jupyter": {
     "outputs_hidden": false
    },
    "pycharm": {
     "name": "#%%\n"
    }
   },
   "outputs": [
    {
     "data": {
      "text/html": [
       "<div>\n",
       "<style scoped>\n",
       "    .dataframe tbody tr th:only-of-type {\n",
       "        vertical-align: middle;\n",
       "    }\n",
       "\n",
       "    .dataframe tbody tr th {\n",
       "        vertical-align: top;\n",
       "    }\n",
       "\n",
       "    .dataframe thead th {\n",
       "        text-align: right;\n",
       "    }\n",
       "</style>\n",
       "<table border=\"1\" class=\"dataframe\">\n",
       "  <thead>\n",
       "    <tr style=\"text-align: right;\">\n",
       "      <th></th>\n",
       "      <th>Movie</th>\n",
       "      <th>Kinopoisk</th>\n",
       "      <th>Level</th>\n",
       "      <th>Subtitles</th>\n",
       "    </tr>\n",
       "  </thead>\n",
       "  <tbody>\n",
       "    <tr>\n",
       "      <th>0</th>\n",
       "      <td>Forrest Gump</td>\n",
       "      <td>Rus sub</td>\n",
       "      <td>A2/A2+, B1</td>\n",
       "      <td>Yes</td>\n",
       "    </tr>\n",
       "    <tr>\n",
       "      <th>1</th>\n",
       "      <td>Finding Nemo\\n</td>\n",
       "      <td>Everything</td>\n",
       "      <td>A2/A2+</td>\n",
       "      <td>Yes</td>\n",
       "    </tr>\n",
       "    <tr>\n",
       "      <th>2</th>\n",
       "      <td>Cast away\\n</td>\n",
       "      <td>Paid, Rus sub</td>\n",
       "      <td>A2/A2+</td>\n",
       "      <td>Yes</td>\n",
       "    </tr>\n",
       "    <tr>\n",
       "      <th>3</th>\n",
       "      <td>The invisible man (2020)\\n</td>\n",
       "      <td>Paid, Rus lan</td>\n",
       "      <td>A2/A2+</td>\n",
       "      <td>Yes</td>\n",
       "    </tr>\n",
       "    <tr>\n",
       "      <th>4</th>\n",
       "      <td>Back to the future\\n</td>\n",
       "      <td>Rus sub</td>\n",
       "      <td>A2/A2+</td>\n",
       "      <td>Yes</td>\n",
       "    </tr>\n",
       "  </tbody>\n",
       "</table>\n",
       "</div>"
      ],
      "text/plain": [
       "                        Movie     Kinopoisk        Level Subtitles\n",
       "0                Forrest Gump        Rus sub  A2/A2+, B1       Yes\n",
       "1              Finding Nemo\\n     Everything      A2/A2+       Yes\n",
       "2                 Cast away\\n  Paid, Rus sub      A2/A2+       Yes\n",
       "3  The invisible man (2020)\\n  Paid, Rus lan      A2/A2+       Yes\n",
       "4        Back to the future\\n        Rus sub      A2/A2+       Yes"
      ]
     },
     "execution_count": 3,
     "metadata": {},
     "output_type": "execute_result"
    }
   ],
   "source": [
    "df = pd.read_csv(\"labels.csv\")\n",
    "df.head(5)"
   ]
  },
  {
   "cell_type": "code",
   "execution_count": 4,
   "metadata": {
    "collapsed": false,
    "jupyter": {
     "outputs_hidden": false
    },
    "pycharm": {
     "name": "#%%\n"
    }
   },
   "outputs": [
    {
     "data": {
      "text/plain": [
       "B1            28\n",
       "A2/A2+        27\n",
       "B2            19\n",
       "B1, B2         9\n",
       "A2/A2+, B1     5\n",
       "Name: Level, dtype: int64"
      ]
     },
     "execution_count": 4,
     "metadata": {},
     "output_type": "execute_result"
    }
   ],
   "source": [
    "df['Level'].value_counts()"
   ]
  },
  {
   "cell_type": "markdown",
   "metadata": {
    "pycharm": {
     "name": "#%% md\n"
    }
   },
   "source": [
    "Изменим название фильмов в колонке Movie, чтобы они соответствовали названиям файлов субтитров."
   ]
  },
  {
   "cell_type": "code",
   "execution_count": 5,
   "metadata": {
    "collapsed": false,
    "jupyter": {
     "outputs_hidden": false
    },
    "pycharm": {
     "name": "#%%\n"
    }
   },
   "outputs": [],
   "source": [
    "df['Movie'] = df['Movie'].str.strip()\\\n",
    "                         .str.replace('\\n', '')\\\n",
    "                         .str.replace(' ', '_')"
   ]
  },
  {
   "cell_type": "markdown",
   "metadata": {
    "pycharm": {
     "name": "#%% md\n"
    }
   },
   "source": [
    "Изменим метки в колонке Level, размножим строки, содержащие больше одной метки."
   ]
  },
  {
   "cell_type": "code",
   "execution_count": 6,
   "metadata": {
    "collapsed": false,
    "jupyter": {
     "outputs_hidden": false
    },
    "pycharm": {
     "name": "#%%\n"
    }
   },
   "outputs": [
    {
     "data": {
      "text/html": [
       "<div>\n",
       "<style scoped>\n",
       "    .dataframe tbody tr th:only-of-type {\n",
       "        vertical-align: middle;\n",
       "    }\n",
       "\n",
       "    .dataframe tbody tr th {\n",
       "        vertical-align: top;\n",
       "    }\n",
       "\n",
       "    .dataframe thead th {\n",
       "        text-align: right;\n",
       "    }\n",
       "</style>\n",
       "<table border=\"1\" class=\"dataframe\">\n",
       "  <thead>\n",
       "    <tr style=\"text-align: right;\">\n",
       "      <th></th>\n",
       "      <th>Movie</th>\n",
       "      <th>Kinopoisk</th>\n",
       "      <th>Level</th>\n",
       "      <th>Subtitles</th>\n",
       "    </tr>\n",
       "  </thead>\n",
       "  <tbody>\n",
       "    <tr>\n",
       "      <th>0</th>\n",
       "      <td>Forrest_Gump</td>\n",
       "      <td>Rus sub</td>\n",
       "      <td>A2</td>\n",
       "      <td>Yes</td>\n",
       "    </tr>\n",
       "    <tr>\n",
       "      <th>0</th>\n",
       "      <td>Forrest_Gump</td>\n",
       "      <td>Rus sub</td>\n",
       "      <td>B1</td>\n",
       "      <td>Yes</td>\n",
       "    </tr>\n",
       "    <tr>\n",
       "      <th>1</th>\n",
       "      <td>Finding_Nemo</td>\n",
       "      <td>Everything</td>\n",
       "      <td>A2</td>\n",
       "      <td>Yes</td>\n",
       "    </tr>\n",
       "    <tr>\n",
       "      <th>2</th>\n",
       "      <td>Cast_away</td>\n",
       "      <td>Paid, Rus sub</td>\n",
       "      <td>A2</td>\n",
       "      <td>Yes</td>\n",
       "    </tr>\n",
       "    <tr>\n",
       "      <th>3</th>\n",
       "      <td>The_invisible_man_(2020)</td>\n",
       "      <td>Paid, Rus lan</td>\n",
       "      <td>A2</td>\n",
       "      <td>Yes</td>\n",
       "    </tr>\n",
       "  </tbody>\n",
       "</table>\n",
       "</div>"
      ],
      "text/plain": [
       "                      Movie     Kinopoisk  Level Subtitles\n",
       "0              Forrest_Gump        Rus sub    A2       Yes\n",
       "0              Forrest_Gump        Rus sub    B1       Yes\n",
       "1              Finding_Nemo     Everything    A2       Yes\n",
       "2                 Cast_away  Paid, Rus sub    A2       Yes\n",
       "3  The_invisible_man_(2020)  Paid, Rus lan    A2       Yes"
      ]
     },
     "execution_count": 6,
     "metadata": {},
     "output_type": "execute_result"
    }
   ],
   "source": [
    "mapper = {'B1': ['B1'],\n",
    "          'A2/A2+': ['A2'],\n",
    "          'B2': ['B2'],\n",
    "          'B1, B2': ['B1', 'B2'],\n",
    "          'A2/A2+, B1': ['A2', 'B1']}\n",
    "\n",
    "df['Level'] = df['Level'].map(mapper)\n",
    "df = df.explode('Level')\n",
    "df.head()"
   ]
  },
  {
   "cell_type": "markdown",
   "metadata": {
    "pycharm": {
     "name": "#%% md\n"
    }
   },
   "source": [
    "Добавим в датафрейм названия файлов субтитров."
   ]
  },
  {
   "cell_type": "code",
   "execution_count": 7,
   "metadata": {
    "collapsed": false,
    "jupyter": {
     "outputs_hidden": false
    },
    "pycharm": {
     "name": "#%%\n"
    }
   },
   "outputs": [
    {
     "data": {
      "text/plain": [
       "74                                    A_knight’s_tale\n",
       "68                                  An__American_tail\n",
       "51                        Beauty_and_the_beast_(film)\n",
       "81    Eurovision_Song_Contest:_The_Story_of_Fire_Saga\n",
       "26                                   Harry_Potter_(1)\n",
       "80                              It’s_a_wonderful_life\n",
       "71                                         Liar,_liar\n",
       "58                                 Lie_to_me_(series)\n",
       "58                                 Lie_to_me_(series)\n",
       "78                                    Moulin_Rouge_🎙️\n",
       "78                                    Moulin_Rouge_🎙️\n",
       "46                                     Mrs._Doubtfire\n",
       "30                       Pirates_of_the_Caribbean_(1)\n",
       "79                            The_Greatest_Showman_🎙️\n",
       "83                        The_Walking_Dead__(series)🧟\n",
       "84                           The_fault_in_our_stars_😭\n",
       "84                           The_fault_in_our_stars_😭\n",
       "3                            The_invisible_man_(2020)\n",
       "49                                  The_king’s_speech\n",
       "13                           The_man_called_Flinstone\n",
       "35                                  We’re_the_Millers\n",
       "Name: Movie, dtype: object"
      ]
     },
     "execution_count": 7,
     "metadata": {},
     "output_type": "execute_result"
    }
   ],
   "source": [
    "for index, row in df.iterrows():\n",
    "    for file in os.scandir(SUBS_DIR):\n",
    "        if file.name.lower().startswith(row['Movie'].lower()):\n",
    "            df.loc[index, 'Subs_file'] = file.name\n",
    "\n",
    "\n",
    "df[df['Subs_file'].isna()]['Movie'].sort_values()"
   ]
  },
  {
   "cell_type": "markdown",
   "metadata": {
    "pycharm": {
     "name": "#%% md\n"
    }
   },
   "source": [
    "Добавим часть названий вручную."
   ]
  },
  {
   "cell_type": "code",
   "execution_count": 8,
   "metadata": {
    "collapsed": false,
    "jupyter": {
     "outputs_hidden": false
    },
    "pycharm": {
     "name": "#%%\n"
    }
   },
   "outputs": [],
   "source": [
    "df.loc[74, 'Subs_file'] = 'A_knights_tale(2001).srt'\n",
    "df.loc[68, 'Subs_file'] = 'An_American_tail(1986).srt'\n",
    "df.loc[51, 'Subs_file'] = 'Beauty_and_the_beast(2017).srt'\n",
    "df.loc[81, 'Subs_file'] = 'Eurovision_song_contest_(2020).srt'\n",
    "df.loc[26, 'Subs_file'] = 'Harry_Potter_and_the_philosophers_stone(2001).srt'\n",
    "df.loc[80, 'Subs_file'] = 'It_s_a_wonderful_life(1946).srt'\n",
    "df.loc[71, 'Subs_file'] = 'Liar_liar(1997).srt'\n",
    "df.loc[78, 'Subs_file'] = 'Moulin_Rouge(2001).srt'\n",
    "df.loc[46, 'Subs_file'] = 'Mrs_Doubtfire(1993).srt'\n",
    "df.loc[30, 'Subs_file'] = 'Pirates_of_the_Caribbean(2003).srt'\n",
    "df.loc[79, 'Subs_file'] = 'The_greatest_showman(2017).srt'\n",
    "df.loc[84, 'Subs_file'] = 'The_fault_in_our_stars(2014).srt'\n",
    "df.loc[3, 'Subs_file'] = 'The_invisible_man(2020).srt'\n",
    "df.loc[49, 'Subs_file'] = 'The_kings_speech(2010).srt'\n",
    "df.loc[13, 'Subs_file'] = 'The_man_called_Flintstone(1966).srt'\n",
    "df.loc[35, 'Subs_file'] = 'We_are_the_Millers(2013).srt'"
   ]
  },
  {
   "cell_type": "markdown",
   "metadata": {
    "pycharm": {
     "name": "#%% md\n"
    }
   },
   "source": [
    "Удалим пропуски."
   ]
  },
  {
   "cell_type": "code",
   "execution_count": 9,
   "metadata": {
    "collapsed": false,
    "jupyter": {
     "outputs_hidden": false
    },
    "pycharm": {
     "name": "#%%\n"
    }
   },
   "outputs": [],
   "source": [
    "df = df.dropna(subset=['Subs_file']).reset_index(drop=True)"
   ]
  },
  {
   "cell_type": "markdown",
   "metadata": {
    "pycharm": {
     "name": "#%% md\n"
    }
   },
   "source": [
    "Добавим текст субтитров в датафрейм."
   ]
  },
  {
   "cell_type": "code",
   "execution_count": 10,
   "metadata": {
    "collapsed": false,
    "jupyter": {
     "outputs_hidden": false
    },
    "pycharm": {
     "name": "#%%\n"
    }
   },
   "outputs": [
    {
     "data": {
      "text/html": [
       "<div>\n",
       "<style scoped>\n",
       "    .dataframe tbody tr th:only-of-type {\n",
       "        vertical-align: middle;\n",
       "    }\n",
       "\n",
       "    .dataframe tbody tr th {\n",
       "        vertical-align: top;\n",
       "    }\n",
       "\n",
       "    .dataframe thead th {\n",
       "        text-align: right;\n",
       "    }\n",
       "</style>\n",
       "<table border=\"1\" class=\"dataframe\">\n",
       "  <thead>\n",
       "    <tr style=\"text-align: right;\">\n",
       "      <th></th>\n",
       "      <th>Level</th>\n",
       "      <th>Subs_file</th>\n",
       "      <th>Text</th>\n",
       "    </tr>\n",
       "  </thead>\n",
       "  <tbody>\n",
       "    <tr>\n",
       "      <th>0</th>\n",
       "      <td>A2</td>\n",
       "      <td>Forrest_Gump(1994).srt</td>\n",
       "      <td>Hello. My name's Forrest. Forrest Gump. Do you...</td>\n",
       "    </tr>\n",
       "    <tr>\n",
       "      <th>1</th>\n",
       "      <td>B1</td>\n",
       "      <td>Forrest_Gump(1994).srt</td>\n",
       "      <td>Hello. My name's Forrest. Forrest Gump. Do you...</td>\n",
       "    </tr>\n",
       "    <tr>\n",
       "      <th>2</th>\n",
       "      <td>A2</td>\n",
       "      <td>Finding_Nemo(2003).srt</td>\n",
       "      <td>[Music playing] Advertise your product or bran...</td>\n",
       "    </tr>\n",
       "    <tr>\n",
       "      <th>3</th>\n",
       "      <td>A2</td>\n",
       "      <td>Cast_away(2000).srt</td>\n",
       "      <td>Created and Encoded by --  Bokutox -- of  www....</td>\n",
       "    </tr>\n",
       "    <tr>\n",
       "      <th>4</th>\n",
       "      <td>A2</td>\n",
       "      <td>The_invisible_man(2020).srt</td>\n",
       "      <td>Adrian? Come on. &lt;i&gt;Zeus, I'm sorry.\\nI can't ...</td>\n",
       "    </tr>\n",
       "  </tbody>\n",
       "</table>\n",
       "</div>"
      ],
      "text/plain": [
       "  Level                    Subs_file  \\\n",
       "0    A2       Forrest_Gump(1994).srt   \n",
       "1    B1       Forrest_Gump(1994).srt   \n",
       "2    A2       Finding_Nemo(2003).srt   \n",
       "3    A2          Cast_away(2000).srt   \n",
       "4    A2  The_invisible_man(2020).srt   \n",
       "\n",
       "                                                Text  \n",
       "0  Hello. My name's Forrest. Forrest Gump. Do you...  \n",
       "1  Hello. My name's Forrest. Forrest Gump. Do you...  \n",
       "2  [Music playing] Advertise your product or bran...  \n",
       "3  Created and Encoded by --  Bokutox -- of  www....  \n",
       "4  Adrian? Come on. <i>Zeus, I'm sorry.\\nI can't ...  "
      ]
     },
     "execution_count": 10,
     "metadata": {},
     "output_type": "execute_result"
    }
   ],
   "source": [
    "for index, row in df.iterrows():\n",
    "    df.loc[index, 'Text'] = ' '.join([s.text for s in\n",
    "                                      pysrt.open(SUBS_DIR + df.loc[index, 'Subs_file'])])\n",
    "df = df[[ 'Level', 'Subs_file', 'Text']]\n",
    "df.head()"
   ]
  },
  {
   "cell_type": "markdown",
   "metadata": {
    "pycharm": {
     "name": "#%% md\n"
    }
   },
   "source": [
    "Очистим текст для анализа."
   ]
  },
  {
   "cell_type": "code",
   "execution_count": 11,
   "metadata": {
    "collapsed": false,
    "jupyter": {
     "outputs_hidden": false
    },
    "pycharm": {
     "name": "#%%\n"
    }
   },
   "outputs": [],
   "source": [
    "def preprocess_string(s: str) -> str:\n",
    "    # перенос строки\n",
    "    s = s.replace(\"\\n\", \" \")\n",
    "    # текст в круглых скобках\n",
    "    s = re.sub(\"\\((.*?)\\)\", \" \", s)\n",
    "    # текст в косых скобках\n",
    "    s = re.sub(\"<(.*?)>\", \" \", s)\n",
    "    # текст в квадратных скобках\n",
    "    s = re.sub(\"\\[(.*?)]\", \" \", s)\n",
    "    # текст заглавными буквами\n",
    "    s = re.sub(\"[A-Z]{2,}\", \" \", s)\n",
    "    # знаки препинания и цифры\n",
    "    s = re.sub(\"[^A-Za-z ']\", \" \", s)\n",
    "    # несколько пробельных символов\n",
    "    s = re.sub(\"\\s+\", \" \", s)\n",
    "    # приведем к нижнему регистру\n",
    "    s = s.lower()\n",
    "    return s"
   ]
  },
  {
   "cell_type": "code",
   "execution_count": 12,
   "metadata": {
    "collapsed": false,
    "jupyter": {
     "outputs_hidden": false
    },
    "pycharm": {
     "name": "#%%\n"
    }
   },
   "outputs": [
    {
     "data": {
      "text/html": [
       "<div>\n",
       "<style scoped>\n",
       "    .dataframe tbody tr th:only-of-type {\n",
       "        vertical-align: middle;\n",
       "    }\n",
       "\n",
       "    .dataframe tbody tr th {\n",
       "        vertical-align: top;\n",
       "    }\n",
       "\n",
       "    .dataframe thead th {\n",
       "        text-align: right;\n",
       "    }\n",
       "</style>\n",
       "<table border=\"1\" class=\"dataframe\">\n",
       "  <thead>\n",
       "    <tr style=\"text-align: right;\">\n",
       "      <th></th>\n",
       "      <th>Level</th>\n",
       "      <th>Subs_file</th>\n",
       "      <th>Text</th>\n",
       "      <th>Text_preprocess</th>\n",
       "    </tr>\n",
       "  </thead>\n",
       "  <tbody>\n",
       "    <tr>\n",
       "      <th>0</th>\n",
       "      <td>A2</td>\n",
       "      <td>Forrest_Gump(1994).srt</td>\n",
       "      <td>Hello. My name's Forrest. Forrest Gump. Do you...</td>\n",
       "      <td>hello my name's forrest forrest gump do you wa...</td>\n",
       "    </tr>\n",
       "    <tr>\n",
       "      <th>1</th>\n",
       "      <td>B1</td>\n",
       "      <td>Forrest_Gump(1994).srt</td>\n",
       "      <td>Hello. My name's Forrest. Forrest Gump. Do you...</td>\n",
       "      <td>hello my name's forrest forrest gump do you wa...</td>\n",
       "    </tr>\n",
       "    <tr>\n",
       "      <th>2</th>\n",
       "      <td>A2</td>\n",
       "      <td>Finding_Nemo(2003).srt</td>\n",
       "      <td>[Music playing] Advertise your product or bran...</td>\n",
       "      <td>advertise your product or brand here contact ...</td>\n",
       "    </tr>\n",
       "    <tr>\n",
       "      <th>3</th>\n",
       "      <td>A2</td>\n",
       "      <td>Cast_away(2000).srt</td>\n",
       "      <td>Created and Encoded by --  Bokutox -- of  www....</td>\n",
       "      <td>created and encoded by bokutox of www com the ...</td>\n",
       "    </tr>\n",
       "    <tr>\n",
       "      <th>4</th>\n",
       "      <td>A2</td>\n",
       "      <td>The_invisible_man(2020).srt</td>\n",
       "      <td>Adrian? Come on. &lt;i&gt;Zeus, I'm sorry.\\nI can't ...</td>\n",
       "      <td>adrian come on zeus i'm sorry i can't take you...</td>\n",
       "    </tr>\n",
       "  </tbody>\n",
       "</table>\n",
       "</div>"
      ],
      "text/plain": [
       "  Level                    Subs_file  \\\n",
       "0    A2       Forrest_Gump(1994).srt   \n",
       "1    B1       Forrest_Gump(1994).srt   \n",
       "2    A2       Finding_Nemo(2003).srt   \n",
       "3    A2          Cast_away(2000).srt   \n",
       "4    A2  The_invisible_man(2020).srt   \n",
       "\n",
       "                                                Text  \\\n",
       "0  Hello. My name's Forrest. Forrest Gump. Do you...   \n",
       "1  Hello. My name's Forrest. Forrest Gump. Do you...   \n",
       "2  [Music playing] Advertise your product or bran...   \n",
       "3  Created and Encoded by --  Bokutox -- of  www....   \n",
       "4  Adrian? Come on. <i>Zeus, I'm sorry.\\nI can't ...   \n",
       "\n",
       "                                     Text_preprocess  \n",
       "0  hello my name's forrest forrest gump do you wa...  \n",
       "1  hello my name's forrest forrest gump do you wa...  \n",
       "2   advertise your product or brand here contact ...  \n",
       "3  created and encoded by bokutox of www com the ...  \n",
       "4  adrian come on zeus i'm sorry i can't take you...  "
      ]
     },
     "metadata": {},
     "output_type": "display_data"
    }
   ],
   "source": [
    "df['Text_preprocess'] = df['Text'].apply(preprocess_string)\n",
    "display(df.head())"
   ]
  },
  {
   "cell_type": "markdown",
   "metadata": {
    "pycharm": {
     "name": "#%% md\n"
    }
   },
   "source": [
    "# Токенизация и стемминг"
   ]
  },
  {
   "cell_type": "code",
   "execution_count": 13,
   "metadata": {
    "collapsed": false,
    "jupyter": {
     "outputs_hidden": false
    },
    "pycharm": {
     "name": "#%%\n"
    }
   },
   "outputs": [],
   "source": [
    "def tokenize_and_stem(text_preprocess: str)-> list:\n",
    "    # токенизация\n",
    "    words_tokenized = [word for word in nltk.word_tokenize(text_preprocess)]\n",
    "    # стемминг\n",
    "    stemmer = SnowballStemmer(\"english\")\n",
    "    stemmed_words = [stemmer.stem(word) for word in words_tokenized]\n",
    "\n",
    "    return stemmed_words"
   ]
  },
  {
   "cell_type": "markdown",
   "metadata": {
    "pycharm": {
     "name": "#%% md\n"
    }
   },
   "source": [
    "# Векторизация текста"
   ]
  },
  {
   "cell_type": "code",
   "execution_count": 14,
   "metadata": {
    "collapsed": false,
    "jupyter": {
     "outputs_hidden": false
    },
    "pycharm": {
     "name": "#%%\n"
    }
   },
   "outputs": [],
   "source": [
    "tfidf_vectorizer = TfidfVectorizer(max_df=0.8, min_df=0.2,\n",
    "                                   stop_words=None,\n",
    "                                   tokenizer=tokenize_and_stem,\n",
    "                                   use_idf=False,\n",
    "                                   sublinear_tf=False,\n",
    "                                   ngram_range=(1,3))\n",
    "\n",
    "X_tfidf = tfidf_vectorizer.fit_transform(df['Text_preprocess'])\n",
    "\n",
    "train_tfidf, test_tfidf, y_train, y_test = train_test_split(X_tfidf, df['Level'],\n",
    "                                                            stratify=df['Level'],\n",
    "                                                            test_size=0.2, random_state=SEED)"
   ]
  },
  {
   "cell_type": "markdown",
   "metadata": {
    "pycharm": {
     "name": "#%% md\n"
    }
   },
   "source": [
    "# Получение предсказаний"
   ]
  },
  {
   "cell_type": "code",
   "execution_count": 15,
   "metadata": {
    "collapsed": false,
    "jupyter": {
     "outputs_hidden": false
    },
    "pycharm": {
     "name": "#%%\n"
    }
   },
   "outputs": [
    {
     "name": "stdout",
     "output_type": "stream",
     "text": [
      "Test Accuracy (LogisticRegression): 0.5\n"
     ]
    },
    {
     "data": {
      "text/html": [
       "<div>\n",
       "<style scoped>\n",
       "    .dataframe tbody tr th:only-of-type {\n",
       "        vertical-align: middle;\n",
       "    }\n",
       "\n",
       "    .dataframe tbody tr th {\n",
       "        vertical-align: top;\n",
       "    }\n",
       "\n",
       "    .dataframe thead th {\n",
       "        text-align: right;\n",
       "    }\n",
       "</style>\n",
       "<table border=\"1\" class=\"dataframe\">\n",
       "  <thead>\n",
       "    <tr style=\"text-align: right;\">\n",
       "      <th></th>\n",
       "      <th>precision</th>\n",
       "      <th>recall</th>\n",
       "      <th>f1-score</th>\n",
       "      <th>support</th>\n",
       "    </tr>\n",
       "  </thead>\n",
       "  <tbody>\n",
       "    <tr>\n",
       "      <th>A2</th>\n",
       "      <td>1.000000</td>\n",
       "      <td>0.166667</td>\n",
       "      <td>0.285714</td>\n",
       "      <td>6.0</td>\n",
       "    </tr>\n",
       "    <tr>\n",
       "      <th>B1</th>\n",
       "      <td>0.470588</td>\n",
       "      <td>1.000000</td>\n",
       "      <td>0.640000</td>\n",
       "      <td>8.0</td>\n",
       "    </tr>\n",
       "    <tr>\n",
       "      <th>B2</th>\n",
       "      <td>0.500000</td>\n",
       "      <td>0.166667</td>\n",
       "      <td>0.250000</td>\n",
       "      <td>6.0</td>\n",
       "    </tr>\n",
       "    <tr>\n",
       "      <th>accuracy</th>\n",
       "      <td>0.500000</td>\n",
       "      <td>0.500000</td>\n",
       "      <td>0.500000</td>\n",
       "      <td>0.5</td>\n",
       "    </tr>\n",
       "    <tr>\n",
       "      <th>macro avg</th>\n",
       "      <td>0.656863</td>\n",
       "      <td>0.444444</td>\n",
       "      <td>0.391905</td>\n",
       "      <td>20.0</td>\n",
       "    </tr>\n",
       "    <tr>\n",
       "      <th>weighted avg</th>\n",
       "      <td>0.638235</td>\n",
       "      <td>0.500000</td>\n",
       "      <td>0.416714</td>\n",
       "      <td>20.0</td>\n",
       "    </tr>\n",
       "  </tbody>\n",
       "</table>\n",
       "</div>"
      ],
      "text/plain": [
       "              precision    recall  f1-score  support\n",
       "A2             1.000000  0.166667  0.285714      6.0\n",
       "B1             0.470588  1.000000  0.640000      8.0\n",
       "B2             0.500000  0.166667  0.250000      6.0\n",
       "accuracy       0.500000  0.500000  0.500000      0.5\n",
       "macro avg      0.656863  0.444444  0.391905     20.0\n",
       "weighted avg   0.638235  0.500000  0.416714     20.0"
      ]
     },
     "execution_count": 15,
     "metadata": {},
     "output_type": "execute_result"
    }
   ],
   "source": [
    "logreg_cl = LogisticRegression(solver='saga', penalty='l2', C=0.5, random_state=SEED)\n",
    "logreg_cl.fit(train_tfidf, y_train)\n",
    "logreg_predict = logreg_cl.predict(test_tfidf)\n",
    "\n",
    "print('Test Accuracy (LogisticRegression):', accuracy_score(y_test, logreg_predict))\n",
    "pd.DataFrame(classification_report(y_test, logreg_predict, output_dict=True)).transpose()"
   ]
  },
  {
   "cell_type": "code",
   "execution_count": 16,
   "metadata": {
    "collapsed": false,
    "jupyter": {
     "outputs_hidden": false
    },
    "pycharm": {
     "name": "#%%\n"
    }
   },
   "outputs": [
    {
     "name": "stdout",
     "output_type": "stream",
     "text": [
      "Test Accuracy (LinearSVC): 0.45\n"
     ]
    }
   ],
   "source": [
    "svc_cl = LinearSVC(penalty='l2', C=0.5, random_state=SEED)\n",
    "svc_cl.fit(train_tfidf, y_train)\n",
    "svc_predict = svc_cl.predict(test_tfidf)\n",
    "\n",
    "print('Test Accuracy (LinearSVC):', accuracy_score(y_test, svc_predict))"
   ]
  },
  {
   "cell_type": "code",
   "execution_count": 17,
   "metadata": {
    "collapsed": false,
    "jupyter": {
     "outputs_hidden": false
    },
    "pycharm": {
     "name": "#%%\n"
    }
   },
   "outputs": [
    {
     "name": "stdout",
     "output_type": "stream",
     "text": [
      "Test Accuracy (MultinomialNB): 0.45\n"
     ]
    }
   ],
   "source": [
    "bayes_cl = MultinomialNB(alpha=1.0)\n",
    "bayes_cl.fit(train_tfidf, y_train)\n",
    "bayes_predict = bayes_cl.predict(test_tfidf)\n",
    "\n",
    "print('Test Accuracy (MultinomialNB):', accuracy_score(y_test, bayes_predict))"
   ]
  },
  {
   "cell_type": "code",
   "execution_count": 18,
   "metadata": {
    "collapsed": false,
    "jupyter": {
     "outputs_hidden": false
    },
    "pycharm": {
     "name": "#%%\n"
    }
   },
   "outputs": [
    {
     "name": "stdout",
     "output_type": "stream",
     "text": [
      "Test Accuracy (KNeighborsClassifier): 0.4\n"
     ]
    }
   ],
   "source": [
    "kmeans_cl = KNeighborsClassifier(n_neighbors=7, p=2)\n",
    "kmeans_cl.fit(train_tfidf, y_train)\n",
    "kmeans_predict = kmeans_cl.predict(test_tfidf)\n",
    "\n",
    "print('Test Accuracy (KNeighborsClassifier):', accuracy_score(y_test, kmeans_predict))"
   ]
  },
  {
   "cell_type": "markdown",
   "metadata": {
    "pycharm": {
     "name": "#%% md\n"
    }
   },
   "source": [
    "# Вывод"
   ]
  },
  {
   "cell_type": "markdown",
   "metadata": {
    "pycharm": {
     "name": "#%% md\n"
    }
   },
   "source": [
    "В работе удалось достичь Accuracy 50% с помощью линейной регрессии и подбора максимума и минимума частот векторизированного текста."
   ]
  }
 ],
 "metadata": {
  "kernelspec": {
   "display_name": "Python 3 (ipykernel)",
   "language": "python",
   "name": "python3"
  },
  "language_info": {
   "codemirror_mode": {
    "name": "ipython",
    "version": 3
   },
   "file_extension": ".py",
   "mimetype": "text/x-python",
   "name": "python",
   "nbconvert_exporter": "python",
   "pygments_lexer": "ipython3",
   "version": "3.9.12"
  }
 },
 "nbformat": 4,
 "nbformat_minor": 4
}
