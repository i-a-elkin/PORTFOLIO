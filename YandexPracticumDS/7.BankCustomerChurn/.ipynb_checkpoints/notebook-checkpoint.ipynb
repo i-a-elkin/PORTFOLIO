{
 "cells": [
  {
   "cell_type": "markdown",
   "id": "7fa7e60f",
   "metadata": {},
   "source": [
    "# Отток клиентов"
   ]
  },
  {
   "cell_type": "markdown",
   "id": "a693585a",
   "metadata": {},
   "source": [
    "Из «Бета-Банка» стали уходить клиенты. Каждый месяц. Немного, но заметно. Банковские маркетологи посчитали: сохранять текущих клиентов дешевле, чем привлекать новых.\n",
    "\n",
    "Нужно спрогнозировать, уйдёт клиент из банка в ближайшее время или нет. Вам предоставлены исторические данные о поведении клиентов и расторжении договоров с банком. \n",
    "\n",
    "Постройте модель с предельно большим значением *F1*-меры. Чтобы сдать проект успешно, нужно довести метрику до 0.59. Проверьте *F1*-меру на тестовой выборке самостоятельно.\n",
    "\n",
    "Дополнительно измеряйте *AUC-ROC*, сравнивайте её значение с *F1*-мерой.\n",
    "\n",
    "Источник данных: [https://www.kaggle.com/barelydedicated/bank-customer-churn-modeling](https://www.kaggle.com/barelydedicated/bank-customer-churn-modeling)"
   ]
  },
  {
   "cell_type": "markdown",
   "id": "a6d9111a",
   "metadata": {
    "tags": []
   },
   "source": [
    "## Описание данных\n",
    "**Признаки**\n",
    "- RowNumber — индекс строки в данных\n",
    "- CustomerId — уникальный идентификатор клиента\n",
    "- Surname — фамилия\n",
    "- CreditScore — кредитный рейтинг\n",
    "- Geography — страна проживания\n",
    "- Gender — пол\n",
    "- Age — возраст\n",
    "- Tenure — сколько лет человек является клиентом банка\n",
    "- Balance — баланс на счёте\n",
    "- NumOfProducts — количество продуктов банка, используемых клиентом\n",
    "- HasCrCard — наличие кредитной карты\n",
    "- IsActiveMember — активность клиента\n",
    "- EstimatedSalary — предполагаемая зарплата\n",
    "**Целевой признак**\n",
    "- Exited — факт ухода клиента"
   ]
  },
  {
   "cell_type": "markdown",
   "id": "5503afd9",
   "metadata": {},
   "source": [
    "## Подготовка данных"
   ]
  },
  {
   "cell_type": "markdown",
   "id": "81b14821",
   "metadata": {},
   "source": [
    "- Загрузим и подготовим данные"
   ]
  },
  {
   "cell_type": "code",
   "execution_count": null,
   "id": "2ddac4c2",
   "metadata": {},
   "outputs": [],
   "source": [
    "# скачаем библиотеку для разведовательного анализа данных\n",
    "# !pip install sweetviz"
   ]
  },
  {
   "cell_type": "code",
   "execution_count": 1,
   "id": "6f0bed29",
   "metadata": {},
   "outputs": [],
   "source": [
    "# импортируем библиотеки\n",
    "import pandas as pd\n",
    "import numpy as np\n",
    "from matplotlib import pyplot as plt\n",
    "from sklearn.model_selection import train_test_split\n",
    "from sklearn.preprocessing import StandardScaler\n",
    "from sklearn.linear_model import LogisticRegression\n",
    "from sklearn.ensemble import RandomForestClassifier\n",
    "from sklearn.dummy import DummyClassifier\n",
    "from sklearn.metrics import accuracy_score, f1_score, roc_auc_score, roc_curve\n",
    "from sklearn.utils import shuffle\n",
    "from joblib import dump, load\n",
    "import sweetviz as sv"
   ]
  },
  {
   "cell_type": "code",
   "execution_count": 2,
   "id": "3118d2dd",
   "metadata": {
    "tags": []
   },
   "outputs": [
    {
     "data": {
      "text/html": [
       "<style type=\"text/css\">\n",
       "</style>\n",
       "<table id=\"T_29fc3\">\n",
       "  <caption>Информация об оттоке клиентов банка</caption>\n",
       "  <thead>\n",
       "    <tr>\n",
       "      <th class=\"blank level0\" >&nbsp;</th>\n",
       "      <th id=\"T_29fc3_level0_col0\" class=\"col_heading level0 col0\" >RowNumber</th>\n",
       "      <th id=\"T_29fc3_level0_col1\" class=\"col_heading level0 col1\" >CustomerId</th>\n",
       "      <th id=\"T_29fc3_level0_col2\" class=\"col_heading level0 col2\" >Surname</th>\n",
       "      <th id=\"T_29fc3_level0_col3\" class=\"col_heading level0 col3\" >CreditScore</th>\n",
       "      <th id=\"T_29fc3_level0_col4\" class=\"col_heading level0 col4\" >Geography</th>\n",
       "      <th id=\"T_29fc3_level0_col5\" class=\"col_heading level0 col5\" >Gender</th>\n",
       "      <th id=\"T_29fc3_level0_col6\" class=\"col_heading level0 col6\" >Age</th>\n",
       "      <th id=\"T_29fc3_level0_col7\" class=\"col_heading level0 col7\" >Tenure</th>\n",
       "      <th id=\"T_29fc3_level0_col8\" class=\"col_heading level0 col8\" >Balance</th>\n",
       "      <th id=\"T_29fc3_level0_col9\" class=\"col_heading level0 col9\" >NumOfProducts</th>\n",
       "      <th id=\"T_29fc3_level0_col10\" class=\"col_heading level0 col10\" >HasCrCard</th>\n",
       "      <th id=\"T_29fc3_level0_col11\" class=\"col_heading level0 col11\" >IsActiveMember</th>\n",
       "      <th id=\"T_29fc3_level0_col12\" class=\"col_heading level0 col12\" >EstimatedSalary</th>\n",
       "      <th id=\"T_29fc3_level0_col13\" class=\"col_heading level0 col13\" >Exited</th>\n",
       "    </tr>\n",
       "  </thead>\n",
       "  <tbody>\n",
       "    <tr>\n",
       "      <th id=\"T_29fc3_level0_row0\" class=\"row_heading level0 row0\" >0</th>\n",
       "      <td id=\"T_29fc3_row0_col0\" class=\"data row0 col0\" >1</td>\n",
       "      <td id=\"T_29fc3_row0_col1\" class=\"data row0 col1\" >15634602</td>\n",
       "      <td id=\"T_29fc3_row0_col2\" class=\"data row0 col2\" >Hargrave</td>\n",
       "      <td id=\"T_29fc3_row0_col3\" class=\"data row0 col3\" >619</td>\n",
       "      <td id=\"T_29fc3_row0_col4\" class=\"data row0 col4\" >France</td>\n",
       "      <td id=\"T_29fc3_row0_col5\" class=\"data row0 col5\" >Female</td>\n",
       "      <td id=\"T_29fc3_row0_col6\" class=\"data row0 col6\" >42</td>\n",
       "      <td id=\"T_29fc3_row0_col7\" class=\"data row0 col7\" >2.000000</td>\n",
       "      <td id=\"T_29fc3_row0_col8\" class=\"data row0 col8\" >0.000000</td>\n",
       "      <td id=\"T_29fc3_row0_col9\" class=\"data row0 col9\" >1</td>\n",
       "      <td id=\"T_29fc3_row0_col10\" class=\"data row0 col10\" >1</td>\n",
       "      <td id=\"T_29fc3_row0_col11\" class=\"data row0 col11\" >1</td>\n",
       "      <td id=\"T_29fc3_row0_col12\" class=\"data row0 col12\" >101348.880000</td>\n",
       "      <td id=\"T_29fc3_row0_col13\" class=\"data row0 col13\" >1</td>\n",
       "    </tr>\n",
       "    <tr>\n",
       "      <th id=\"T_29fc3_level0_row1\" class=\"row_heading level0 row1\" >1</th>\n",
       "      <td id=\"T_29fc3_row1_col0\" class=\"data row1 col0\" >2</td>\n",
       "      <td id=\"T_29fc3_row1_col1\" class=\"data row1 col1\" >15647311</td>\n",
       "      <td id=\"T_29fc3_row1_col2\" class=\"data row1 col2\" >Hill</td>\n",
       "      <td id=\"T_29fc3_row1_col3\" class=\"data row1 col3\" >608</td>\n",
       "      <td id=\"T_29fc3_row1_col4\" class=\"data row1 col4\" >Spain</td>\n",
       "      <td id=\"T_29fc3_row1_col5\" class=\"data row1 col5\" >Female</td>\n",
       "      <td id=\"T_29fc3_row1_col6\" class=\"data row1 col6\" >41</td>\n",
       "      <td id=\"T_29fc3_row1_col7\" class=\"data row1 col7\" >1.000000</td>\n",
       "      <td id=\"T_29fc3_row1_col8\" class=\"data row1 col8\" >83807.860000</td>\n",
       "      <td id=\"T_29fc3_row1_col9\" class=\"data row1 col9\" >1</td>\n",
       "      <td id=\"T_29fc3_row1_col10\" class=\"data row1 col10\" >0</td>\n",
       "      <td id=\"T_29fc3_row1_col11\" class=\"data row1 col11\" >1</td>\n",
       "      <td id=\"T_29fc3_row1_col12\" class=\"data row1 col12\" >112542.580000</td>\n",
       "      <td id=\"T_29fc3_row1_col13\" class=\"data row1 col13\" >0</td>\n",
       "    </tr>\n",
       "    <tr>\n",
       "      <th id=\"T_29fc3_level0_row2\" class=\"row_heading level0 row2\" >2</th>\n",
       "      <td id=\"T_29fc3_row2_col0\" class=\"data row2 col0\" >3</td>\n",
       "      <td id=\"T_29fc3_row2_col1\" class=\"data row2 col1\" >15619304</td>\n",
       "      <td id=\"T_29fc3_row2_col2\" class=\"data row2 col2\" >Onio</td>\n",
       "      <td id=\"T_29fc3_row2_col3\" class=\"data row2 col3\" >502</td>\n",
       "      <td id=\"T_29fc3_row2_col4\" class=\"data row2 col4\" >France</td>\n",
       "      <td id=\"T_29fc3_row2_col5\" class=\"data row2 col5\" >Female</td>\n",
       "      <td id=\"T_29fc3_row2_col6\" class=\"data row2 col6\" >42</td>\n",
       "      <td id=\"T_29fc3_row2_col7\" class=\"data row2 col7\" >8.000000</td>\n",
       "      <td id=\"T_29fc3_row2_col8\" class=\"data row2 col8\" >159660.800000</td>\n",
       "      <td id=\"T_29fc3_row2_col9\" class=\"data row2 col9\" >3</td>\n",
       "      <td id=\"T_29fc3_row2_col10\" class=\"data row2 col10\" >1</td>\n",
       "      <td id=\"T_29fc3_row2_col11\" class=\"data row2 col11\" >0</td>\n",
       "      <td id=\"T_29fc3_row2_col12\" class=\"data row2 col12\" >113931.570000</td>\n",
       "      <td id=\"T_29fc3_row2_col13\" class=\"data row2 col13\" >1</td>\n",
       "    </tr>\n",
       "    <tr>\n",
       "      <th id=\"T_29fc3_level0_row3\" class=\"row_heading level0 row3\" >3</th>\n",
       "      <td id=\"T_29fc3_row3_col0\" class=\"data row3 col0\" >4</td>\n",
       "      <td id=\"T_29fc3_row3_col1\" class=\"data row3 col1\" >15701354</td>\n",
       "      <td id=\"T_29fc3_row3_col2\" class=\"data row3 col2\" >Boni</td>\n",
       "      <td id=\"T_29fc3_row3_col3\" class=\"data row3 col3\" >699</td>\n",
       "      <td id=\"T_29fc3_row3_col4\" class=\"data row3 col4\" >France</td>\n",
       "      <td id=\"T_29fc3_row3_col5\" class=\"data row3 col5\" >Female</td>\n",
       "      <td id=\"T_29fc3_row3_col6\" class=\"data row3 col6\" >39</td>\n",
       "      <td id=\"T_29fc3_row3_col7\" class=\"data row3 col7\" >1.000000</td>\n",
       "      <td id=\"T_29fc3_row3_col8\" class=\"data row3 col8\" >0.000000</td>\n",
       "      <td id=\"T_29fc3_row3_col9\" class=\"data row3 col9\" >2</td>\n",
       "      <td id=\"T_29fc3_row3_col10\" class=\"data row3 col10\" >0</td>\n",
       "      <td id=\"T_29fc3_row3_col11\" class=\"data row3 col11\" >0</td>\n",
       "      <td id=\"T_29fc3_row3_col12\" class=\"data row3 col12\" >93826.630000</td>\n",
       "      <td id=\"T_29fc3_row3_col13\" class=\"data row3 col13\" >0</td>\n",
       "    </tr>\n",
       "    <tr>\n",
       "      <th id=\"T_29fc3_level0_row4\" class=\"row_heading level0 row4\" >4</th>\n",
       "      <td id=\"T_29fc3_row4_col0\" class=\"data row4 col0\" >5</td>\n",
       "      <td id=\"T_29fc3_row4_col1\" class=\"data row4 col1\" >15737888</td>\n",
       "      <td id=\"T_29fc3_row4_col2\" class=\"data row4 col2\" >Mitchell</td>\n",
       "      <td id=\"T_29fc3_row4_col3\" class=\"data row4 col3\" >850</td>\n",
       "      <td id=\"T_29fc3_row4_col4\" class=\"data row4 col4\" >Spain</td>\n",
       "      <td id=\"T_29fc3_row4_col5\" class=\"data row4 col5\" >Female</td>\n",
       "      <td id=\"T_29fc3_row4_col6\" class=\"data row4 col6\" >43</td>\n",
       "      <td id=\"T_29fc3_row4_col7\" class=\"data row4 col7\" >2.000000</td>\n",
       "      <td id=\"T_29fc3_row4_col8\" class=\"data row4 col8\" >125510.820000</td>\n",
       "      <td id=\"T_29fc3_row4_col9\" class=\"data row4 col9\" >1</td>\n",
       "      <td id=\"T_29fc3_row4_col10\" class=\"data row4 col10\" >1</td>\n",
       "      <td id=\"T_29fc3_row4_col11\" class=\"data row4 col11\" >1</td>\n",
       "      <td id=\"T_29fc3_row4_col12\" class=\"data row4 col12\" >79084.100000</td>\n",
       "      <td id=\"T_29fc3_row4_col13\" class=\"data row4 col13\" >0</td>\n",
       "    </tr>\n",
       "  </tbody>\n",
       "</table>\n"
      ],
      "text/plain": [
       "<pandas.io.formats.style.Styler at 0x7f80385b5b50>"
      ]
     },
     "metadata": {},
     "output_type": "display_data"
    },
    {
     "name": "stdout",
     "output_type": "stream",
     "text": [
      "<class 'pandas.core.frame.DataFrame'>\n",
      "RangeIndex: 10000 entries, 0 to 9999\n",
      "Data columns (total 14 columns):\n",
      " #   Column           Non-Null Count  Dtype  \n",
      "---  ------           --------------  -----  \n",
      " 0   RowNumber        10000 non-null  int64  \n",
      " 1   CustomerId       10000 non-null  int64  \n",
      " 2   Surname          10000 non-null  object \n",
      " 3   CreditScore      10000 non-null  int64  \n",
      " 4   Geography        10000 non-null  object \n",
      " 5   Gender           10000 non-null  object \n",
      " 6   Age              10000 non-null  int64  \n",
      " 7   Tenure           9091 non-null   float64\n",
      " 8   Balance          10000 non-null  float64\n",
      " 9   NumOfProducts    10000 non-null  int64  \n",
      " 10  HasCrCard        10000 non-null  int64  \n",
      " 11  IsActiveMember   10000 non-null  int64  \n",
      " 12  EstimatedSalary  10000 non-null  float64\n",
      " 13  Exited           10000 non-null  int64  \n",
      "dtypes: float64(3), int64(8), object(3)\n",
      "memory usage: 1.1+ MB\n"
     ]
    }
   ],
   "source": [
    "data = pd.read_csv(\"datasets/Churn.csv\")\n",
    "display(data.head().style.set_caption(\"Информация об оттоке клиентов банка\"))\n",
    "data.info()"
   ]
  },
  {
   "cell_type": "markdown",
   "id": "87680ca1",
   "metadata": {},
   "source": [
    "- Проведем разведовательный анализ данных с помощью библиотеки sweetviz и сохраним результаты в файл"
   ]
  },
  {
   "cell_type": "code",
   "execution_count": 3,
   "id": "7aea731b",
   "metadata": {},
   "outputs": [
    {
     "data": {
      "application/vnd.jupyter.widget-view+json": {
       "model_id": "c3e078a9be934a08a2191b164da81ac1",
       "version_major": 2,
       "version_minor": 0
      },
      "text/plain": [
       "                                             |          | [  0%]   00:00 -> (? left)"
      ]
     },
     "metadata": {},
     "output_type": "display_data"
    },
    {
     "name": "stdout",
     "output_type": "stream",
     "text": [
      "Report datasets/sweetviz_report.html was generated! NOTEBOOK/COLAB USERS: the web browser MAY not pop up, regardless, the report IS saved in your notebook/colab files.\n"
     ]
    }
   ],
   "source": [
    "report = sv.analyze(data)\n",
    "report.show_html(\"datasets/sweetviz_report.html\")\n",
    "%matplotlib inline"
   ]
  },
  {
   "cell_type": "markdown",
   "id": "879213bc",
   "metadata": {},
   "source": [
    "Удалим столбцы \"RowNumber\", \"CustomerId\", \"Surname\", т.к. в них содержится несущественная информация. Заменим пропущенные значения в столбце \"Tenure\" на ноль. Изменим тип данных на целочисленный в столбцах \"Balance\", \"EstimatedSalary\", \"Tenure\", т.к. они обладают избыточной точностью. Закодируем переменные методом OHE. "
   ]
  },
  {
   "cell_type": "code",
   "execution_count": 4,
   "id": "8c17dab5",
   "metadata": {},
   "outputs": [
    {
     "data": {
      "text/html": [
       "<style type=\"text/css\">\n",
       "</style>\n",
       "<table id=\"T_0eb68\">\n",
       "  <caption>Информация об оттоке клиентов банка после предварительной обработки</caption>\n",
       "  <thead>\n",
       "    <tr>\n",
       "      <th class=\"blank level0\" >&nbsp;</th>\n",
       "      <th id=\"T_0eb68_level0_col0\" class=\"col_heading level0 col0\" >CreditScore</th>\n",
       "      <th id=\"T_0eb68_level0_col1\" class=\"col_heading level0 col1\" >Age</th>\n",
       "      <th id=\"T_0eb68_level0_col2\" class=\"col_heading level0 col2\" >Tenure</th>\n",
       "      <th id=\"T_0eb68_level0_col3\" class=\"col_heading level0 col3\" >Balance</th>\n",
       "      <th id=\"T_0eb68_level0_col4\" class=\"col_heading level0 col4\" >NumOfProducts</th>\n",
       "      <th id=\"T_0eb68_level0_col5\" class=\"col_heading level0 col5\" >HasCrCard</th>\n",
       "      <th id=\"T_0eb68_level0_col6\" class=\"col_heading level0 col6\" >IsActiveMember</th>\n",
       "      <th id=\"T_0eb68_level0_col7\" class=\"col_heading level0 col7\" >EstimatedSalary</th>\n",
       "      <th id=\"T_0eb68_level0_col8\" class=\"col_heading level0 col8\" >Exited</th>\n",
       "      <th id=\"T_0eb68_level0_col9\" class=\"col_heading level0 col9\" >Geography_Germany</th>\n",
       "      <th id=\"T_0eb68_level0_col10\" class=\"col_heading level0 col10\" >Geography_Spain</th>\n",
       "      <th id=\"T_0eb68_level0_col11\" class=\"col_heading level0 col11\" >Gender_Male</th>\n",
       "    </tr>\n",
       "  </thead>\n",
       "  <tbody>\n",
       "    <tr>\n",
       "      <th id=\"T_0eb68_level0_row0\" class=\"row_heading level0 row0\" >0</th>\n",
       "      <td id=\"T_0eb68_row0_col0\" class=\"data row0 col0\" >619</td>\n",
       "      <td id=\"T_0eb68_row0_col1\" class=\"data row0 col1\" >42</td>\n",
       "      <td id=\"T_0eb68_row0_col2\" class=\"data row0 col2\" >2</td>\n",
       "      <td id=\"T_0eb68_row0_col3\" class=\"data row0 col3\" >0</td>\n",
       "      <td id=\"T_0eb68_row0_col4\" class=\"data row0 col4\" >1</td>\n",
       "      <td id=\"T_0eb68_row0_col5\" class=\"data row0 col5\" >1</td>\n",
       "      <td id=\"T_0eb68_row0_col6\" class=\"data row0 col6\" >1</td>\n",
       "      <td id=\"T_0eb68_row0_col7\" class=\"data row0 col7\" >101348</td>\n",
       "      <td id=\"T_0eb68_row0_col8\" class=\"data row0 col8\" >1</td>\n",
       "      <td id=\"T_0eb68_row0_col9\" class=\"data row0 col9\" >0</td>\n",
       "      <td id=\"T_0eb68_row0_col10\" class=\"data row0 col10\" >0</td>\n",
       "      <td id=\"T_0eb68_row0_col11\" class=\"data row0 col11\" >0</td>\n",
       "    </tr>\n",
       "    <tr>\n",
       "      <th id=\"T_0eb68_level0_row1\" class=\"row_heading level0 row1\" >1</th>\n",
       "      <td id=\"T_0eb68_row1_col0\" class=\"data row1 col0\" >608</td>\n",
       "      <td id=\"T_0eb68_row1_col1\" class=\"data row1 col1\" >41</td>\n",
       "      <td id=\"T_0eb68_row1_col2\" class=\"data row1 col2\" >1</td>\n",
       "      <td id=\"T_0eb68_row1_col3\" class=\"data row1 col3\" >83807</td>\n",
       "      <td id=\"T_0eb68_row1_col4\" class=\"data row1 col4\" >1</td>\n",
       "      <td id=\"T_0eb68_row1_col5\" class=\"data row1 col5\" >0</td>\n",
       "      <td id=\"T_0eb68_row1_col6\" class=\"data row1 col6\" >1</td>\n",
       "      <td id=\"T_0eb68_row1_col7\" class=\"data row1 col7\" >112542</td>\n",
       "      <td id=\"T_0eb68_row1_col8\" class=\"data row1 col8\" >0</td>\n",
       "      <td id=\"T_0eb68_row1_col9\" class=\"data row1 col9\" >0</td>\n",
       "      <td id=\"T_0eb68_row1_col10\" class=\"data row1 col10\" >1</td>\n",
       "      <td id=\"T_0eb68_row1_col11\" class=\"data row1 col11\" >0</td>\n",
       "    </tr>\n",
       "    <tr>\n",
       "      <th id=\"T_0eb68_level0_row2\" class=\"row_heading level0 row2\" >2</th>\n",
       "      <td id=\"T_0eb68_row2_col0\" class=\"data row2 col0\" >502</td>\n",
       "      <td id=\"T_0eb68_row2_col1\" class=\"data row2 col1\" >42</td>\n",
       "      <td id=\"T_0eb68_row2_col2\" class=\"data row2 col2\" >8</td>\n",
       "      <td id=\"T_0eb68_row2_col3\" class=\"data row2 col3\" >159660</td>\n",
       "      <td id=\"T_0eb68_row2_col4\" class=\"data row2 col4\" >3</td>\n",
       "      <td id=\"T_0eb68_row2_col5\" class=\"data row2 col5\" >1</td>\n",
       "      <td id=\"T_0eb68_row2_col6\" class=\"data row2 col6\" >0</td>\n",
       "      <td id=\"T_0eb68_row2_col7\" class=\"data row2 col7\" >113931</td>\n",
       "      <td id=\"T_0eb68_row2_col8\" class=\"data row2 col8\" >1</td>\n",
       "      <td id=\"T_0eb68_row2_col9\" class=\"data row2 col9\" >0</td>\n",
       "      <td id=\"T_0eb68_row2_col10\" class=\"data row2 col10\" >0</td>\n",
       "      <td id=\"T_0eb68_row2_col11\" class=\"data row2 col11\" >0</td>\n",
       "    </tr>\n",
       "  </tbody>\n",
       "</table>\n"
      ],
      "text/plain": [
       "<pandas.io.formats.style.Styler at 0x7f80385c0d90>"
      ]
     },
     "execution_count": 4,
     "metadata": {},
     "output_type": "execute_result"
    }
   ],
   "source": [
    "data_drop = data.drop([\"RowNumber\", \"CustomerId\", \"Surname\"], axis=1)\n",
    "\n",
    "data_drop[\"Tenure\"] = data_drop[\"Tenure\"].fillna(0)\n",
    "\n",
    "data_drop[\"Balance\"] = data_drop[\"Balance\"].astype(\"int\")\n",
    "data_drop[\"EstimatedSalary\"] = data_drop[\"EstimatedSalary\"].astype(\"int\")\n",
    "data_drop[\"Tenure\"] = data_drop[\"Tenure\"].astype(\"int\")\n",
    "\n",
    "data_ohe = pd.get_dummies(data_drop, drop_first=True)\n",
    "data_ohe.head(3).style.set_caption(\"Информация об оттоке клиентов банка после предварительной обработки\")"
   ]
  },
  {
   "cell_type": "markdown",
   "id": "eb2df479",
   "metadata": {},
   "source": [
    "Разделим исходную выборку на обучающую, валидационную и тестовую."
   ]
  },
  {
   "cell_type": "code",
   "execution_count": 5,
   "id": "ec5c3677",
   "metadata": {},
   "outputs": [
    {
     "name": "stdout",
     "output_type": "stream",
     "text": [
      "Размер обучающей выборки: признаки (6000, 11), целевой признак (6000,)\n",
      "Размер валидационной выборки: признаки (2000, 11), целевой признак (2000,)\n",
      "Размер тестовой выборки: признаки (2000, 11), целевой признак (2000,)\n"
     ]
    }
   ],
   "source": [
    "target = data_ohe[\"Exited\"]\n",
    "features = data_ohe.drop(\"Exited\", axis=1)\n",
    "\n",
    "# разделим исходную выборку в пропорции 60/20/20\n",
    "features_train, features_test, target_train, target_test = train_test_split(features, target, test_size=.2, random_state=1111)\n",
    "features_train, features_valid, target_train, target_valid = train_test_split(features_train, target_train, test_size=.25, random_state=1111)\n",
    "\n",
    "# проверим в какой пропорции разделилась исходная выборка\n",
    "print(\"Размер обучающей выборки: \" + \"признаки \" + str(features_train.shape) + \", целевой признак \" + str(target_train.shape))\n",
    "print(\"Размер валидационной выборки: \" + \"признаки \" + str(features_valid.shape) + \", целевой признак \" + str(target_valid.shape))\n",
    "print(\"Размер тестовой выборки: \" + \"признаки \" + str(features_test.shape) + \", целевой признак \" + str(target_test.shape))"
   ]
  },
  {
   "cell_type": "markdown",
   "id": "62c5762b",
   "metadata": {},
   "source": [
    "Выборка разделилась в нужной нам пропорции. Выполним масштабирование признаков"
   ]
  },
  {
   "cell_type": "code",
   "execution_count": 6,
   "id": "8a507e0d",
   "metadata": {},
   "outputs": [
    {
     "data": {
      "text/html": [
       "<style type=\"text/css\">\n",
       "</style>\n",
       "<table id=\"T_ac47e\">\n",
       "  <caption>Информация об оттоке клиентов банка после масштабирования признаков</caption>\n",
       "  <thead>\n",
       "    <tr>\n",
       "      <th class=\"blank level0\" >&nbsp;</th>\n",
       "      <th id=\"T_ac47e_level0_col0\" class=\"col_heading level0 col0\" >CreditScore</th>\n",
       "      <th id=\"T_ac47e_level0_col1\" class=\"col_heading level0 col1\" >Age</th>\n",
       "      <th id=\"T_ac47e_level0_col2\" class=\"col_heading level0 col2\" >Tenure</th>\n",
       "      <th id=\"T_ac47e_level0_col3\" class=\"col_heading level0 col3\" >Balance</th>\n",
       "      <th id=\"T_ac47e_level0_col4\" class=\"col_heading level0 col4\" >NumOfProducts</th>\n",
       "      <th id=\"T_ac47e_level0_col5\" class=\"col_heading level0 col5\" >HasCrCard</th>\n",
       "      <th id=\"T_ac47e_level0_col6\" class=\"col_heading level0 col6\" >IsActiveMember</th>\n",
       "      <th id=\"T_ac47e_level0_col7\" class=\"col_heading level0 col7\" >EstimatedSalary</th>\n",
       "      <th id=\"T_ac47e_level0_col8\" class=\"col_heading level0 col8\" >Geography_Germany</th>\n",
       "      <th id=\"T_ac47e_level0_col9\" class=\"col_heading level0 col9\" >Geography_Spain</th>\n",
       "      <th id=\"T_ac47e_level0_col10\" class=\"col_heading level0 col10\" >Gender_Male</th>\n",
       "    </tr>\n",
       "  </thead>\n",
       "  <tbody>\n",
       "    <tr>\n",
       "      <th id=\"T_ac47e_level0_row0\" class=\"row_heading level0 row0\" >6278</th>\n",
       "      <td id=\"T_ac47e_row0_col0\" class=\"data row0 col0\" >-0.505198</td>\n",
       "      <td id=\"T_ac47e_row0_col1\" class=\"data row0 col1\" >3.133096</td>\n",
       "      <td id=\"T_ac47e_row0_col2\" class=\"data row0 col2\" >-1.466119</td>\n",
       "      <td id=\"T_ac47e_row0_col3\" class=\"data row0 col3\" >-1.239026</td>\n",
       "      <td id=\"T_ac47e_row0_col4\" class=\"data row0 col4\" >0.808425</td>\n",
       "      <td id=\"T_ac47e_row0_col5\" class=\"data row0 col5\" >1</td>\n",
       "      <td id=\"T_ac47e_row0_col6\" class=\"data row0 col6\" >1</td>\n",
       "      <td id=\"T_ac47e_row0_col7\" class=\"data row0 col7\" >1.214337</td>\n",
       "      <td id=\"T_ac47e_row0_col8\" class=\"data row0 col8\" >0</td>\n",
       "      <td id=\"T_ac47e_row0_col9\" class=\"data row0 col9\" >0</td>\n",
       "      <td id=\"T_ac47e_row0_col10\" class=\"data row0 col10\" >0</td>\n",
       "    </tr>\n",
       "    <tr>\n",
       "      <th id=\"T_ac47e_level0_row1\" class=\"row_heading level0 row1\" >1854</th>\n",
       "      <td id=\"T_ac47e_row1_col0\" class=\"data row1 col0\" >0.922281</td>\n",
       "      <td id=\"T_ac47e_row1_col1\" class=\"data row1 col1\" >-0.288335</td>\n",
       "      <td id=\"T_ac47e_row1_col2\" class=\"data row1 col2\" >-0.181364</td>\n",
       "      <td id=\"T_ac47e_row1_col3\" class=\"data row1 col3\" >0.514055</td>\n",
       "      <td id=\"T_ac47e_row1_col4\" class=\"data row1 col4\" >-0.923914</td>\n",
       "      <td id=\"T_ac47e_row1_col5\" class=\"data row1 col5\" >0</td>\n",
       "      <td id=\"T_ac47e_row1_col6\" class=\"data row1 col6\" >0</td>\n",
       "      <td id=\"T_ac47e_row1_col7\" class=\"data row1 col7\" >-0.115891</td>\n",
       "      <td id=\"T_ac47e_row1_col8\" class=\"data row1 col8\" >1</td>\n",
       "      <td id=\"T_ac47e_row1_col9\" class=\"data row1 col9\" >0</td>\n",
       "      <td id=\"T_ac47e_row1_col10\" class=\"data row1 col10\" >0</td>\n",
       "    </tr>\n",
       "    <tr>\n",
       "      <th id=\"T_ac47e_level0_row2\" class=\"row_heading level0 row2\" >4348</th>\n",
       "      <td id=\"T_ac47e_row2_col0\" class=\"data row2 col0\" >-0.163845</td>\n",
       "      <td id=\"T_ac47e_row2_col1\" class=\"data row2 col1\" >0.471983</td>\n",
       "      <td id=\"T_ac47e_row2_col2\" class=\"data row2 col2\" >-0.823742</td>\n",
       "      <td id=\"T_ac47e_row2_col3\" class=\"data row2 col3\" >0.032072</td>\n",
       "      <td id=\"T_ac47e_row2_col4\" class=\"data row2 col4\" >0.808425</td>\n",
       "      <td id=\"T_ac47e_row2_col5\" class=\"data row2 col5\" >0</td>\n",
       "      <td id=\"T_ac47e_row2_col6\" class=\"data row2 col6\" >1</td>\n",
       "      <td id=\"T_ac47e_row2_col7\" class=\"data row2 col7\" >0.209045</td>\n",
       "      <td id=\"T_ac47e_row2_col8\" class=\"data row2 col8\" >1</td>\n",
       "      <td id=\"T_ac47e_row2_col9\" class=\"data row2 col9\" >0</td>\n",
       "      <td id=\"T_ac47e_row2_col10\" class=\"data row2 col10\" >0</td>\n",
       "    </tr>\n",
       "  </tbody>\n",
       "</table>\n"
      ],
      "text/plain": [
       "<pandas.io.formats.style.Styler at 0x7f7fa03c0040>"
      ]
     },
     "execution_count": 6,
     "metadata": {},
     "output_type": "execute_result"
    }
   ],
   "source": [
    "numeric = [\"CreditScore\", \"Age\", \"Tenure\", \"Balance\", \"NumOfProducts\", \"EstimatedSalary\"]\n",
    "\n",
    "scaler = StandardScaler()\n",
    "\n",
    "features_train_scale = features_train.copy()\n",
    "features_valid_scale = features_valid.copy()\n",
    "features_test_scale = features_test.copy()\n",
    "\n",
    "scaler.fit(features_train_scale[numeric])\n",
    "\n",
    "features_train_scale[numeric] = scaler.transform(features_train_scale[numeric])\n",
    "features_valid_scale[numeric] = scaler.transform(features_valid_scale[numeric])\n",
    "features_test_scale[numeric] = scaler.transform(features_test_scale[numeric])\n",
    "\n",
    "features_train_scale.head(3).style.set_caption(\"Информация об оттоке клиентов банка после масштабирования признаков\")"
   ]
  },
  {
   "cell_type": "markdown",
   "id": "ea557892",
   "metadata": {},
   "source": [
    "## Исследование задачи"
   ]
  },
  {
   "cell_type": "markdown",
   "id": "202b49d6",
   "metadata": {},
   "source": [
    "- Исследуем баланс классов"
   ]
  },
  {
   "cell_type": "code",
   "execution_count": 7,
   "id": "7cc9345c",
   "metadata": {},
   "outputs": [
    {
     "data": {
      "text/plain": [
       "0    0.7963\n",
       "1    0.2037\n",
       "Name: Exited, dtype: float64"
      ]
     },
     "execution_count": 7,
     "metadata": {},
     "output_type": "execute_result"
    }
   ],
   "source": [
    "target.value_counts(normalize=True)"
   ]
  },
  {
   "cell_type": "markdown",
   "id": "7478b457",
   "metadata": {},
   "source": [
    "Наблюдается преобладание класса \"0\", т.е. оставшихся клиентов. При этом доля ушедших составляет примерно 20%, что является значительной величиной.\n",
    "\n",
    "Сравним качество предсказаний моделей логистической регрессии и случайного леса на выборках до и после масштабирования признаков."
   ]
  },
  {
   "cell_type": "markdown",
   "id": "139b859b",
   "metadata": {},
   "source": [
    "### Модель логистической регрессии"
   ]
  },
  {
   "cell_type": "markdown",
   "id": "78407e33",
   "metadata": {},
   "source": [
    "- Данные до масштабирования признаков"
   ]
  },
  {
   "cell_type": "code",
   "execution_count": null,
   "id": "1f021410",
   "metadata": {},
   "outputs": [],
   "source": [
    "# подберем гиперпараметры модели\n",
    "best_model_regr = None\n",
    "best_f1_score_valid_regr = 0\n",
    "\n",
    "for s in [\"newton-cg\", \"lbfgs\", \"liblinear\", \"sag\", \"saga\"]:\n",
    "    for i in range(1, 201, 2):\n",
    "        model_regr = LogisticRegression(solver=s, max_iter=i, random_state=11111)\n",
    "        model_regr.fit(features_train, target_train)\n",
    "        predict_regr = model_regr.predict(features_valid)\n",
    "        f1_score_valid_regr = f1_score(target_valid, predict_regr)\n",
    "        if f1_score_valid_regr > best_f1_score_valid_regr:\n",
    "            best_f1_score_valid_regr = f1_score_valid_regr\n",
    "            best_model_regr = model_regr\n",
    "\n",
    "dump(best_model_regr, \"models/best_model_regr.joblib\")\n",
    "print(\"Модель обучена и сохранена\")"
   ]
  },
  {
   "cell_type": "markdown",
   "id": "9ac8c81c",
   "metadata": {},
   "source": [
    "Создадим функцию, вычисляющую значения метрик качества модели, а также функцию, выводящую их на экран вместе с информацией о гиперпараметрах."
   ]
  },
  {
   "cell_type": "code",
   "execution_count": 8,
   "id": "b50d77df",
   "metadata": {},
   "outputs": [],
   "source": [
    "def f1_roc_auc_accuracy_calc(model, target, features, threshold=None):\n",
    "    \"\"\"Функция принимает на вход обученную модель, \n",
    "    значения целевого признака, значения исследуемых признаков и \n",
    "    величину порога классификации при наличии.\n",
    "    Возвращает кортеж, с метриками F1, ROC-AUC, Accuracy и \n",
    "    значениями гиперпараметров\"\"\"\n",
    "    if not threshold:\n",
    "        return (f1_score(target, model.predict(features)), \n",
    "                roc_auc_score(target, model.predict_proba(features)[:, 1]), \n",
    "                accuracy_score(target, model.predict(features)),\n",
    "                model)\n",
    "    else:\n",
    "        probabilities = model.predict_proba(features)\n",
    "        probabilities_one = probabilities[:, 1]\n",
    "        predicted = [1 if x > threshold else 0 for x in probabilities_one]\n",
    "        return (f1_score(target, predicted), \n",
    "                roc_auc_score(target, probabilities_one), \n",
    "                accuracy_score(target, predicted), \n",
    "                model)\n",
    "\n",
    "def f1_roc_auc_accuracy_print(title, model_description, f1, roc_auc, accuracy, model):\n",
    "    \"\"\"Функция принимает на вхот заголовок, название алгоритма, \n",
    "    значения метрик f1, roc_auc, accuracy и обученную модель.\n",
    "    Выводит их на экран\"\"\"\n",
    "    print(title,\n",
    "         model_description,\n",
    "         \"F1-мера: \" + str(f1),\n",
    "         \"Метрика AUC-ROC: \" + str(roc_auc),\n",
    "         \"Метрика Accuracy: \" + str(accuracy),\n",
    "         \"Гиперпараметры модели: \",\n",
    "         model, sep=\"\\n\")    "
   ]
  },
  {
   "cell_type": "code",
   "execution_count": 9,
   "id": "8e9947de",
   "metadata": {},
   "outputs": [
    {
     "name": "stdout",
     "output_type": "stream",
     "text": [
      "Метрики лучшей модели на валидационной выборке до масштабирования признаков\n",
      "Логистическая регрессия\n",
      "F1-мера: 0.311336717428088\n",
      "Метрика AUC-ROC: 0.7607589916394544\n",
      "Метрика Accuracy: 0.7965\n",
      "Гиперпараметры модели: \n",
      "LogisticRegression(max_iter=137, random_state=11111, solver='newton-cg')\n"
     ]
    }
   ],
   "source": [
    "f1_roc_auc_accuracy_print(\"Метрики лучшей модели на валидационной выборке до масштабирования признаков\",\n",
    "                         \"Логистическая регрессия\",\n",
    "                         *f1_roc_auc_accuracy_calc(load(\"models/best_model_regr.joblib\"), \n",
    "                                                   target_valid, features_valid))"
   ]
  },
  {
   "cell_type": "markdown",
   "id": "a3ac7b6a",
   "metadata": {},
   "source": [
    "- Данные после масштабирования признаков"
   ]
  },
  {
   "cell_type": "code",
   "execution_count": null,
   "id": "29996f60",
   "metadata": {},
   "outputs": [],
   "source": [
    "# подберем гиперпараметры модели\n",
    "best_model_regr_scale = None\n",
    "best_f1_score_valid_regr_scale = 0\n",
    "\n",
    "for s in [\"newton-cg\", \"lbfgs\", \"liblinear\", \"sag\", \"saga\"]:\n",
    "    for i in range(1, 201, 2):\n",
    "        model_regr_scale = LogisticRegression(solver=s, max_iter=i, random_state=11111)\n",
    "        model_regr_scale.fit(features_train_scale, target_train)\n",
    "        predict_regr_scale = model_regr_scale.predict(features_valid_scale)\n",
    "        f1_score_valid_regr_scale = f1_score(target_valid, predict_regr_scale)\n",
    "        if f1_score_valid_regr_scale > best_f1_score_valid_regr_scale:\n",
    "            best_f1_score_valid_regr_scale = f1_score_valid_regr_scale\n",
    "            best_model_regr_scale = model_regr_scale\n",
    "            \n",
    "dump(best_model_regr_scale, \"models/best_model_regr_scale.joblib\")\n",
    "print(\"Модель обучена и сохранена\")"
   ]
  },
  {
   "cell_type": "code",
   "execution_count": 10,
   "id": "49a84550",
   "metadata": {},
   "outputs": [
    {
     "name": "stdout",
     "output_type": "stream",
     "text": [
      "Метрики лучшей модели на валидационной выборке после масштабирования признаков\n",
      "Логистическая регрессия\n",
      "F1-мера: 0.3709677419354839\n",
      "Метрика AUC-ROC: 0.7603768614372727\n",
      "Метрика Accuracy: 0.805\n",
      "Гиперпараметры модели: \n",
      "LogisticRegression(max_iter=3, random_state=11111, solver='sag')\n"
     ]
    }
   ],
   "source": [
    "f1_roc_auc_accuracy_print(\"Метрики лучшей модели на валидационной выборке после масштабирования признаков\",\n",
    "                         \"Логистическая регрессия\",\n",
    "                         *f1_roc_auc_accuracy_calc(load(\"models/best_model_regr_scale.joblib\"),\n",
    "                                                  target_valid, features_valid_scale))"
   ]
  },
  {
   "cell_type": "markdown",
   "id": "1700ef81",
   "metadata": {},
   "source": [
    "Можно видеть, что для модели логистической гегрессии масштабирование признаков приводит к заметному увеличению F1-меры и метрики AUC-ROC."
   ]
  },
  {
   "cell_type": "markdown",
   "id": "0be488ec",
   "metadata": {},
   "source": [
    "### Модель случайного леса"
   ]
  },
  {
   "cell_type": "markdown",
   "id": "b0bfdd9a",
   "metadata": {},
   "source": [
    "- Данные до масштабирования признаков"
   ]
  },
  {
   "cell_type": "code",
   "execution_count": null,
   "id": "53157bbe",
   "metadata": {},
   "outputs": [],
   "source": [
    "# подберем гиперпараметры модели\n",
    "best_model_forest = None\n",
    "best_f1_score_valid_forest = 0\n",
    "\n",
    "for n in range(1, 72, 10):\n",
    "    for c in [\"gini\", \"entropy\"]:\n",
    "        for d in range(1, 28, 2):\n",
    "            for s in range(2, 13, 2):\n",
    "                for l in range(1, 11, 2):\n",
    "                    model_forest = RandomForestClassifier(n_estimators=n, \n",
    "                                                          criterion=c, \n",
    "                                                          max_depth=d, \n",
    "                                                          min_samples_split=s, \n",
    "                                                          min_samples_leaf=l, \n",
    "                                                          random_state=11111)\n",
    "                    model_forest.fit(features_train, target_train)\n",
    "                    predict_forest = model_forest.predict(features_valid)\n",
    "                    f1_score_valid_forest = f1_score(target_valid, predict_forest)\n",
    "                    if f1_score_valid_forest > best_f1_score_valid_forest:\n",
    "                        best_f1_score_valid_forest = f1_score_valid_forest\n",
    "                        best_model_forest = model_forest\n",
    "                        \n",
    "dump(best_model_forest, \"models/best_model_forest.joblib\")\n",
    "print(\"Модель обучена и сохранена\")"
   ]
  },
  {
   "cell_type": "code",
   "execution_count": 11,
   "id": "d931407f",
   "metadata": {},
   "outputs": [
    {
     "name": "stdout",
     "output_type": "stream",
     "text": [
      "Метрики лучшей модели на валидационной выборке до масштабирования признаков\n",
      "Случайный лес\n",
      "F1-мера: 0.6166902404526168\n",
      "Метрика AUC-ROC: 0.8557820352486163\n",
      "Метрика Accuracy: 0.8645\n",
      "Гиперпараметры модели: \n",
      "RandomForestClassifier(criterion='entropy', max_depth=21, min_samples_split=8,\n",
      "                       n_estimators=51, random_state=11111)\n"
     ]
    }
   ],
   "source": [
    "f1_roc_auc_accuracy_print(\"Метрики лучшей модели на валидационной выборке до масштабирования признаков\",\n",
    "                         \"Случайный лес\",\n",
    "                         *f1_roc_auc_accuracy_calc(load(\"models/best_model_forest.joblib\"),\n",
    "                                                  target_valid, features_valid))"
   ]
  },
  {
   "cell_type": "markdown",
   "id": "15d7351e",
   "metadata": {},
   "source": [
    "- Данные после масштабирования признаков"
   ]
  },
  {
   "cell_type": "code",
   "execution_count": null,
   "id": "49043999",
   "metadata": {},
   "outputs": [],
   "source": [
    "# подберем гиперпараметры модели\n",
    "best_model_forest_scale = None\n",
    "best_f1_score_valid_forest_scale = 0\n",
    "\n",
    "for n in range(1, 72, 10):\n",
    "    for c in [\"gini\", \"entropy\"]:\n",
    "        for d in range(1, 28, 2):\n",
    "            for s in range(2, 15, 2):\n",
    "                for l in range(1, 11, 2):\n",
    "                    model_forest_scale = RandomForestClassifier(n_estimators=n, \n",
    "                                                                criterion=c, \n",
    "                                                                max_depth=d, \n",
    "                                                                min_samples_split=s, \n",
    "                                                                min_samples_leaf=l, \n",
    "                                                                random_state=11111)\n",
    "                    model_forest_scale.fit(features_train_scale, target_train)\n",
    "                    predict_forest_scale = model_forest_scale.predict(features_valid_scale)\n",
    "                    f1_score_valid_forest_scale = f1_score(target_valid, predict_forest_scale)\n",
    "                    if f1_score_valid_forest_scale > best_f1_score_valid_forest_scale:\n",
    "                        best_f1_score_valid_forest_scale = f1_score_valid_forest_scale\n",
    "                        best_model_forest_scale = model_forest_scale\n",
    "                        \n",
    "dump(best_model_forest_scale, \"models/best_model_forest_scale.joblib\")\n",
    "print(\"Модель обучена и сохранена\")"
   ]
  },
  {
   "cell_type": "code",
   "execution_count": 12,
   "id": "49cde196",
   "metadata": {},
   "outputs": [
    {
     "name": "stdout",
     "output_type": "stream",
     "text": [
      "Метрики лучшей модели на валидационной выборке после масштабирования признаков\n",
      "Случайный лес\n",
      "F1-мера: 0.6184397163120567\n",
      "Метрика AUC-ROC: 0.8563783899580815\n",
      "Метрика Accuracy: 0.8655\n",
      "Гиперпараметры модели: \n",
      "RandomForestClassifier(criterion='entropy', max_depth=21, min_samples_split=8,\n",
      "                       n_estimators=51, random_state=11111)\n"
     ]
    }
   ],
   "source": [
    "f1_roc_auc_accuracy_print(\"Метрики лучшей модели на валидационной выборке после масштабирования признаков\",\n",
    "                         \"Случайный лес\",\n",
    "                         *f1_roc_auc_accuracy_calc(load(\"models/best_model_forest_scale.joblib\"),\n",
    "                                                  target_valid, features_valid_scale))"
   ]
  },
  {
   "cell_type": "markdown",
   "id": "ef621396",
   "metadata": {},
   "source": [
    "Объеденим полученные данные в датафрейм."
   ]
  },
  {
   "cell_type": "code",
   "execution_count": 13,
   "id": "1ea96821",
   "metadata": {},
   "outputs": [
    {
     "name": "stdout",
     "output_type": "stream",
     "text": [
      "Значения метрик на валидационной выборке \n",
      "без учета дисбаланса\n"
     ]
    },
    {
     "data": {
      "application/com.datacamp.data-table.v1+json": {
       "is_truncated": false,
       "table": {
        "data": [
         {
          "Accuracy": 0.866,
          "F1-score": 0.618,
          "ROC AUC": 0.856,
          "index": "Random Forest Scale"
         },
         {
          "Accuracy": 0.864,
          "F1-score": 0.617,
          "ROC AUC": 0.856,
          "index": "Random Forest"
         },
         {
          "Accuracy": 0.805,
          "F1-score": 0.371,
          "ROC AUC": 0.76,
          "index": "Logistic Regression Scale"
         },
         {
          "Accuracy": 0.796,
          "F1-score": 0.311,
          "ROC AUC": 0.761,
          "index": "Logistic Regression"
         }
        ],
        "schema": {
         "fields": [
          {
           "name": "index",
           "type": "string"
          },
          {
           "name": "F1-score",
           "type": "number"
          },
          {
           "name": "ROC AUC",
           "type": "number"
          },
          {
           "name": "Accuracy",
           "type": "number"
          }
         ],
         "pandas_version": "1.4.0",
         "primaryKey": [
          "index"
         ]
        }
       },
       "total_rows": 4
      },
      "text/html": [
       "<div>\n",
       "<style scoped>\n",
       "    .dataframe tbody tr th:only-of-type {\n",
       "        vertical-align: middle;\n",
       "    }\n",
       "\n",
       "    .dataframe tbody tr th {\n",
       "        vertical-align: top;\n",
       "    }\n",
       "\n",
       "    .dataframe thead th {\n",
       "        text-align: right;\n",
       "    }\n",
       "</style>\n",
       "<table border=\"1\" class=\"dataframe\">\n",
       "  <thead>\n",
       "    <tr style=\"text-align: right;\">\n",
       "      <th></th>\n",
       "      <th>F1-score</th>\n",
       "      <th>ROC AUC</th>\n",
       "      <th>Accuracy</th>\n",
       "    </tr>\n",
       "  </thead>\n",
       "  <tbody>\n",
       "    <tr>\n",
       "      <th>Random Forest Scale</th>\n",
       "      <td>0.618</td>\n",
       "      <td>0.856</td>\n",
       "      <td>0.866</td>\n",
       "    </tr>\n",
       "    <tr>\n",
       "      <th>Random Forest</th>\n",
       "      <td>0.617</td>\n",
       "      <td>0.856</td>\n",
       "      <td>0.864</td>\n",
       "    </tr>\n",
       "    <tr>\n",
       "      <th>Logistic Regression Scale</th>\n",
       "      <td>0.371</td>\n",
       "      <td>0.760</td>\n",
       "      <td>0.805</td>\n",
       "    </tr>\n",
       "    <tr>\n",
       "      <th>Logistic Regression</th>\n",
       "      <td>0.311</td>\n",
       "      <td>0.761</td>\n",
       "      <td>0.796</td>\n",
       "    </tr>\n",
       "  </tbody>\n",
       "</table>\n",
       "</div>"
      ],
      "text/plain": [
       "                           F1-score  ROC AUC  Accuracy\n",
       "Random Forest Scale           0.618    0.856     0.866\n",
       "Random Forest                 0.617    0.856     0.864\n",
       "Logistic Regression Scale     0.371    0.760     0.805\n",
       "Logistic Regression           0.311    0.761     0.796"
      ]
     },
     "execution_count": 13,
     "metadata": {},
     "output_type": "execute_result"
    }
   ],
   "source": [
    "data_score = pd.DataFrame(np.array([f1_roc_auc_accuracy_calc(load(\"models/best_model_regr.joblib\"), \n",
    "                                    target_valid, features_valid)[:3], \n",
    "                                    f1_roc_auc_accuracy_calc(load(\"models/best_model_regr_scale.joblib\"),\n",
    "                                    target_valid, features_valid_scale)[:3], \n",
    "                                    f1_roc_auc_accuracy_calc(load(\"models/best_model_forest.joblib\"),\n",
    "                                    target_valid, features_valid)[:3],\n",
    "                                    f1_roc_auc_accuracy_calc(load(\"models/best_model_forest_scale.joblib\"),\n",
    "                                    target_valid, features_valid_scale)[:3]]), \n",
    "                          columns=[\"F1-score\", \"ROC AUC\", \"Accuracy\"], \n",
    "                          index=[\"Logistic Regression\", \"Logistic Regression Scale\", \"Random Forest\", \"Random Forest Scale\"])\n",
    "\n",
    "print(\"Значения метрик на валидационной выборке \\nбез учета дисбаланса\")\n",
    "round(data_score.sort_values(\"F1-score\", ascending=False), 3)"
   ]
  },
  {
   "cell_type": "markdown",
   "id": "298d65f3",
   "metadata": {},
   "source": [
    "Создадим функцию для сравнения столбчатых диаграмм."
   ]
  },
  {
   "cell_type": "code",
   "execution_count": 14,
   "id": "09a69711",
   "metadata": {},
   "outputs": [],
   "source": [
    "def scores_graph(data, title):\n",
    "    \"\"\"Функция принимает на вход датафрейм со значениями метрик и \n",
    "    название диаграммы. Возвращает диаграммы с величинами метрик.\"\"\"\n",
    "    data = data.sort_values(\"F1-score\")\n",
    "    plt.style.use(\"seaborn\")\n",
    "    fig, ax = plt.subplots(nrows=3, ncols=1, figsize=(10, 12), sharex=True)\n",
    "    ax[0].barh(data.index, data[\"F1-score\"], alpha=.6)\n",
    "    ax[1].barh(data.index, data[\"ROC AUC\"], alpha=.6)\n",
    "    ax[2].barh(data.index, data[\"Accuracy\"], alpha=.6)\n",
    "    ax[0].set_xlabel(\"F1-score\", fontsize=14)\n",
    "    ax[1].set_xlabel(\"ROC AUC\", fontsize=14)\n",
    "    ax[2].set_xlabel(\"Accuracy\", fontsize=14)\n",
    "    ax[0].set_title(title, fontsize=16)\n",
    "    ax[0].axvline(x=0.59, color=\"black\", label=\"F1-score Level\")\n",
    "    ax[0].legend(fontsize=12)\n",
    "    ax[0].tick_params(labelsize=12)\n",
    "    ax[1].tick_params(labelsize=12)\n",
    "    ax[2].tick_params(labelsize=12)\n",
    "    plt.show()"
   ]
  },
  {
   "cell_type": "code",
   "execution_count": 15,
   "id": "26e9b620",
   "metadata": {},
   "outputs": [
    {
     "data": {
      "image/png": "[encoded data removed]",
      "text/plain": [
       "<Figure size 720x864 with 3 Axes>"
      ]
     },
     "metadata": {},
     "output_type": "display_data"
    }
   ],
   "source": [
    "scores_graph(data_score, \"Scores on Validation Set (Imbalance)\")"
   ]
  },
  {
   "cell_type": "markdown",
   "id": "13d594f9",
   "metadata": {},
   "source": [
    "Можно видеть, что наибольшего значения F1-меры, равного 0,618, удалось достичь с использованием модели случайного леса на данных, подвергнутых масштабированию признаков. Полученное значение выше установленной границы качества в 0,59, что говорит о высокой эффективности модели. Кроме этого можно видеть увеличение метрик AUC-ROC и Accuracy вместе с увеличением F1 и достижение ими величин примерно 0,86. Дальнейшее улучшение качества модели будем проводить с использованием подхода, показавшего наибольшее значение метрики F1 (случайный лес на данных после масштабирования)."
   ]
  },
  {
   "cell_type": "markdown",
   "id": "60573548",
   "metadata": {},
   "source": [
    "## Борьба с дисбалансом"
   ]
  },
  {
   "cell_type": "markdown",
   "id": "9b2a6e6e",
   "metadata": {},
   "source": [
    "- Улучшим качество модели, учитывая дисбаланс классов, обучим разные модели и найдем лучшую"
   ]
  },
  {
   "cell_type": "markdown",
   "id": "aa2b77ad",
   "metadata": {},
   "source": [
    "Разделим данные в обучающей выборке на отрицательные и положительные объекты."
   ]
  },
  {
   "cell_type": "code",
   "execution_count": 16,
   "id": "9b3a6dfa",
   "metadata": {},
   "outputs": [],
   "source": [
    "features_train_scale_0 = features_train_scale[target_train == 0]\n",
    "target_train_0 = target_train[target_train == 0]\n",
    "features_train_scale_1 = features_train_scale[target_train == 1]\n",
    "target_train_1 = target_train[target_train == 1]"
   ]
  },
  {
   "cell_type": "markdown",
   "id": "a4feefa4",
   "metadata": {},
   "source": [
    "### Изменение доли положительного признака"
   ]
  },
  {
   "cell_type": "markdown",
   "id": "207d73fc",
   "metadata": {},
   "source": [
    "- Увеличим долю признака \"1\" в обучающей выборке от 2 до 4 раз, т.е. до момента когда количество признаков будет примерно равно друг другу"
   ]
  },
  {
   "cell_type": "code",
   "execution_count": null,
   "id": "fb5cfada",
   "metadata": {},
   "outputs": [],
   "source": [
    "# подберем гиперпараметры модели\n",
    "best_repeat = None\n",
    "best_model_forest_scale_up = None\n",
    "best_f1_score_valid_forest_scale_up = 0\n",
    "\n",
    "for repeat in range(2, 5):\n",
    "    features_upsampled = pd.concat([features_train_scale_0] + [features_train_scale_1] * repeat)\n",
    "    target_upsampled = pd.concat([target_train_0] + [target_train_1] * repeat)\n",
    "    features_upsampled, target_upsampled = shuffle(\n",
    "             features_upsampled, target_upsampled, random_state=11111)\n",
    "    for n in range(1, 61, 10):\n",
    "        for c in [\"gini\", \"entropy\"]:\n",
    "            for d in range(1, 31, 2):\n",
    "                for s in range(2, 21, 2):\n",
    "                    for l in range(1, 11, 2):\n",
    "                        model_forest_scale_up = RandomForestClassifier(n_estimators=n, \n",
    "                                                                       criterion=c, \n",
    "                                                                       max_depth=d, \n",
    "                                                                       min_samples_split=s, \n",
    "                                                                       min_samples_leaf=l, \n",
    "                                                                       random_state=11111)\n",
    "                        model_forest_scale_up.fit(features_upsampled, target_upsampled)\n",
    "                        predict_forest_scale_up = model_forest_scale_up.predict(features_valid_scale)\n",
    "                        f1_score_valid_forest_scale_up = f1_score(target_valid, predict_forest_scale_up)\n",
    "                        if f1_score_valid_forest_scale_up > best_f1_score_valid_forest_scale_up:\n",
    "                            best_f1_score_valid_forest_scale_up = f1_score_valid_forest_scale_up\n",
    "                            best_model_forest_scale_up = model_forest_scale_up\n",
    "                            best_repeat = repeat\n",
    "                        \n",
    "dump(best_model_forest_scale_up, \"models/best_model_forest_scale_up.joblib\")\n",
    "print(\"Модель обучена и сохранена\")\n",
    "print(\"Доля признака '1' увеличена в \" + str(best_repeat) + \" раза по сравнению с исходной обучающей выборкой\")"
   ]
  },
  {
   "cell_type": "code",
   "execution_count": 17,
   "id": "40d5204f",
   "metadata": {},
   "outputs": [
    {
     "name": "stdout",
     "output_type": "stream",
     "text": [
      "Метрики лучшей модели на валидационной выборке после увеличения обучающей выборки\n",
      "Случайный лес\n",
      "F1-мера: 0.6571087216248506\n",
      "Метрика AUC-ROC: 0.8500812026679636\n",
      "Метрика Accuracy: 0.8565\n",
      "Гиперпараметры модели: \n",
      "RandomForestClassifier(max_depth=23, min_samples_split=10, n_estimators=41,\n",
      "                       random_state=11111)\n"
     ]
    }
   ],
   "source": [
    "f1_roc_auc_accuracy_print(\"Метрики лучшей модели на валидационной выборке после увеличения обучающей выборки\",\n",
    "                         \"Случайный лес\",\n",
    "                         *f1_roc_auc_accuracy_calc(load(\"models/best_model_forest_scale_up.joblib\"),\n",
    "                                                  target_valid, features_valid_scale))"
   ]
  },
  {
   "cell_type": "markdown",
   "id": "1ae6fc74",
   "metadata": {},
   "source": [
    "- Уменьшим долю признака \"0\" в обучающей выборке. Будем варьировать долю отрицательного признака от 0,9 до 0,3, т.е. до момента когда количество отрицательных и положительных признаков будет примерно равно друг другу"
   ]
  },
  {
   "cell_type": "code",
   "execution_count": null,
   "id": "be187f40",
   "metadata": {},
   "outputs": [],
   "source": [
    "# подберем гиперпараметры модели\n",
    "best_fraction = None\n",
    "best_model_forest_scale_down = None\n",
    "best_f1_score_valid_forest_scale_down = 0\n",
    "\n",
    "for fraction in np.round(np.arange(0.9, 0.3, -0.3), 1):\n",
    "    features_downsampled = pd.concat(\n",
    "            [features_train_scale_0.sample(frac=fraction, random_state=11111)] + [features_train_scale_1])\n",
    "    target_downsampled = pd.concat(\n",
    "            [target_train_0.sample(frac=fraction, random_state=11111)] + [target_train_1])\n",
    "    features_downsampled, target_downsampled = shuffle(\n",
    "           features_downsampled, target_downsampled, random_state=11111)\n",
    "    for n in range(1, 82, 10):\n",
    "            for c in [\"gini\", \"entropy\"]:\n",
    "                for d in range(1, 32, 2):\n",
    "                    for s in range(2, 23, 2):\n",
    "                        for l in range(1, 12, 2):\n",
    "                            model_forest_scale_down = RandomForestClassifier(n_estimators=n, \n",
    "                                                                            criterion=c, \n",
    "                                                                            max_depth=d, \n",
    "                                                                            min_samples_split=s, \n",
    "                                                                            min_samples_leaf=l, \n",
    "                                                                            random_state=11111)\n",
    "                            model_forest_scale_down.fit(features_downsampled, target_downsampled)\n",
    "                            predict_forest_scale_down = model_forest_scale_down.predict(features_valid_scale)\n",
    "                            f1_score_valid_forest_scale_down = f1_score(target_valid, predict_forest_scale_down)\n",
    "                            if f1_score_valid_forest_scale_down > best_f1_score_valid_forest_scale_down:\n",
    "                                best_f1_score_valid_forest_scale_down = f1_score_valid_forest_scale_down\n",
    "                                best_model_forest_scale_down = model_forest_scale_down\n",
    "                                best_fraction = fraction\n",
    "\n",
    "dump(best_model_forest_scale_down, \"models/best_model_forest_scale_down.joblib\")\n",
    "print(\"Модель обучена и сохранена\")\n",
    "print(\"Доля признака '0' равна \" + str(best_fraction) + \" от количества в исходной обучающей выборке\")"
   ]
  },
  {
   "cell_type": "code",
   "execution_count": 18,
   "id": "e1775db3",
   "metadata": {},
   "outputs": [
    {
     "name": "stdout",
     "output_type": "stream",
     "text": [
      "Метрики лучшей модели на валидационной выборке после уменьшения обучающей выборки\n",
      "Случайный лес\n",
      "F1-мера: 0.6519480519480519\n",
      "Метрика AUC-ROC: 0.8568922392829847\n",
      "Метрика Accuracy: 0.866\n",
      "Гиперпараметры модели: \n",
      "RandomForestClassifier(max_depth=19, min_samples_leaf=3, min_samples_split=18,\n",
      "                       n_estimators=61, random_state=11111)\n"
     ]
    }
   ],
   "source": [
    "f1_roc_auc_accuracy_print(\"Метрики лучшей модели на валидационной выборке после уменьшения обучающей выборки\",\n",
    "                         \"Случайный лес\",\n",
    "                         *f1_roc_auc_accuracy_calc(load(\"models/best_model_forest_scale_down.joblib\"),\n",
    "                                                  target_valid, features_valid_scale))"
   ]
  },
  {
   "cell_type": "markdown",
   "id": "96f1aeca",
   "metadata": {},
   "source": [
    "### Изменение порога классификации модели."
   ]
  },
  {
   "cell_type": "markdown",
   "id": "da522068",
   "metadata": {},
   "source": [
    "- Уменьшим значение порога классификатора относительно установленного по умолчанию и подберем гиперпараметры модели"
   ]
  },
  {
   "cell_type": "code",
   "execution_count": null,
   "id": "f02d9855",
   "metadata": {},
   "outputs": [],
   "source": [
    "# подберем гиперпараметры модели\n",
    "best_threshold = None\n",
    "best_model_forest_scale_tr = None\n",
    "best_f1_score_valid_forest_scale_tr = 0\n",
    "\n",
    "for threshold in [0.1, 0.2, 0.3, 0.4]:\n",
    "    for n in range(1, 82, 10):\n",
    "            for c in [\"gini\", \"entropy\"]:\n",
    "                for d in range(1, 32, 2):\n",
    "                    for s in range(2, 23, 2):\n",
    "                        for l in range(1, 12, 2):\n",
    "                            model_forest_scale_tr = RandomForestClassifier(n_estimators=n, \n",
    "                                                                            criterion=c, \n",
    "                                                                            max_depth=d, \n",
    "                                                                            min_samples_split=s, \n",
    "                                                                            min_samples_leaf=l, \n",
    "                                                                            random_state=11111)\n",
    "                            model_forest_scale_tr.fit(features_train_scale, target_train)\n",
    "                            probabilities_valid = model_forest_scale_tr.predict_proba(features_valid_scale)\n",
    "                            probabilities_one_valid = probabilities_valid[:, 1]\n",
    "                            predicted_valid = [1 if x > threshold else 0 for x in probabilities_one_valid]\n",
    "                            f1_score_valid_forest_scale_tr = f1_score(target_valid, predicted_valid)\n",
    "                            \n",
    "                            if f1_score_valid_forest_scale_tr > best_f1_score_valid_forest_scale_tr:\n",
    "                                best_f1_score_valid_forest_scale_tr = f1_score_valid_forest_scale_tr\n",
    "                                best_model_forest_scale_tr = model_forest_scale_tr\n",
    "                                best_threshold = threshold\n",
    "                                \n",
    "dump(best_model_forest_scale_tr, \"models/best_model_forest_scale_tr.joblib\")\n",
    "print(\"Модель обучена и сохранена\")\n",
    "pd.DataFrame([best_threshold], columns=[\"best_treshold\"]).to_csv(\"models/best_threshold.csv\")\n",
    "print(\"Значение порога сохранено\")"
   ]
  },
  {
   "cell_type": "code",
   "execution_count": 19,
   "id": "5211742c",
   "metadata": {},
   "outputs": [
    {
     "name": "stdout",
     "output_type": "stream",
     "text": [
      "Метрики лучшей модели на валидационной выборке после уменьшения порога классификации\n",
      "Случайный лес\n",
      "F1-мера: 0.6522292993630573\n",
      "Метрика AUC-ROC: 0.8536795954051737\n",
      "Метрика Accuracy: 0.8635\n",
      "Гиперпараметры модели: \n",
      "RandomForestClassifier(criterion='entropy', max_depth=23, min_samples_split=8,\n",
      "                       n_estimators=51, random_state=11111)\n",
      "Порог, при котором достигнуто наибольшее значение F1-меры, равен 0.4\n"
     ]
    }
   ],
   "source": [
    "f1_roc_auc_accuracy_print(\"Метрики лучшей модели на валидационной выборке после уменьшения порога классификации\",\n",
    "                          \"Случайный лес\",\n",
    "                          *f1_roc_auc_accuracy_calc(load(\"models/best_model_forest_scale_tr.joblib\"),\n",
    "                          target_valid, features_valid_scale, \n",
    "                          pd.read_csv(\"models/best_threshold.csv\", index_col=0).iloc[0, 0]))\n",
    "\n",
    "print(\"Порог, при котором достигнуто наибольшее значение F1-меры, равен \" + \n",
    "      str(pd.read_csv(\"models/best_threshold.csv\", index_col=0).iloc[0, 0]))"
   ]
  },
  {
   "cell_type": "markdown",
   "id": "6ddf3ad6",
   "metadata": {},
   "source": [
    "- Увеличим значение порога классификации относительно установленного по умолчанию и подберем гиперпараметры модели"
   ]
  },
  {
   "cell_type": "code",
   "execution_count": null,
   "id": "fc798dc6",
   "metadata": {},
   "outputs": [],
   "source": [
    "# подберем гиперпараметры модели\n",
    "best_threshold1 = None\n",
    "best_model_forest_scale_tr1 = None\n",
    "best_f1_score_valid_forest_scale_tr1 = 0\n",
    "\n",
    "for threshold1 in [0.6, 0.7, 0.8, 0.9]:\n",
    "    for n in range(1, 82, 10):\n",
    "            for c in [\"gini\", \"entropy\"]:\n",
    "                for d in range(1, 32, 2):\n",
    "                    for s in range(2, 23, 2):\n",
    "                        for l in range(1, 12, 2):\n",
    "                            model_forest_scale_tr1 = RandomForestClassifier(n_estimators=n, \n",
    "                                                                            criterion=c, \n",
    "                                                                            max_depth=d, \n",
    "                                                                            min_samples_split=s, \n",
    "                                                                            min_samples_leaf=l, \n",
    "                                                                            random_state=11111)\n",
    "                            model_forest_scale_tr1.fit(features_train_scale, target_train)\n",
    "                            probabilities_valid = model_forest_scale_tr1.predict_proba(features_valid_scale)\n",
    "                            probabilities_one_valid = probabilities_valid[:, 1]\n",
    "                            predicted_valid = [1 if x > threshold1 else 0 for x in probabilities_one_valid]\n",
    "                            f1_score_valid_forest_scale_tr1 = f1_score(target_valid, predicted_valid)\n",
    "                            \n",
    "                            if f1_score_valid_forest_scale_tr1 > best_f1_score_valid_forest_scale_tr1:\n",
    "                                best_f1_score_valid_forest_scale_tr1 = f1_score_valid_forest_scale_tr1\n",
    "                                best_model_forest_scale_tr1 = model_forest_scale_tr1\n",
    "                                best_threshold1 = threshold1\n",
    "                                \n",
    "dump(best_model_forest_scale_tr1, \"models/best_model_forest_scale_tr1.joblib\")\n",
    "print(\"Модель обучена и сохранена\")\n",
    "pd.DataFrame([best_threshold1], columns=[\"best_treshold1\"]).to_csv(\"models/best_threshold1.csv\")\n",
    "print(\"Значение порога сохранено\")"
   ]
  },
  {
   "cell_type": "code",
   "execution_count": 20,
   "id": "2f320e18",
   "metadata": {},
   "outputs": [
    {
     "name": "stdout",
     "output_type": "stream",
     "text": [
      "Метрики лучшей модели на валидационной выборке после увеличения порога классификации\n",
      "Случайный лес\n",
      "F1-мера: 0.5671641791044776\n",
      "Метрика AUC-ROC: 0.8380035723384052\n",
      "Метрика Accuracy: 0.855\n",
      "Гиперпараметры модели: \n",
      "RandomForestClassifier(criterion='entropy', max_depth=23, n_estimators=21,\n",
      "                       random_state=11111)\n",
      "Порог, при котором достигнуто наибольшее значение F1-меры, равен 0.6\n"
     ]
    }
   ],
   "source": [
    "f1_roc_auc_accuracy_print(\"Метрики лучшей модели на валидационной выборке после увеличения порога классификации\",\n",
    "                          \"Случайный лес\",\n",
    "                          *f1_roc_auc_accuracy_calc(load(\"models/best_model_forest_scale_tr1.joblib\"),\n",
    "                          target_valid, features_valid_scale, \n",
    "                          pd.read_csv(\"models/best_threshold1.csv\", index_col=0).iloc[0, 0]))\n",
    "\n",
    "print(\"Порог, при котором достигнуто наибольшее значение F1-меры, равен \" + \n",
    "      str(pd.read_csv(\"models/best_threshold1.csv\", index_col=0).iloc[0, 0]))"
   ]
  },
  {
   "cell_type": "markdown",
   "id": "d7b004dd",
   "metadata": {},
   "source": [
    "Объединим полученные значения метрик после учета дисбаланса в датафрейм."
   ]
  },
  {
   "cell_type": "code",
   "execution_count": 21,
   "id": "2d6be6f8",
   "metadata": {},
   "outputs": [
    {
     "name": "stdout",
     "output_type": "stream",
     "text": [
      "Значения метрик на валидационной выборке \n",
      "после учета дисбаланса\n"
     ]
    },
    {
     "data": {
      "application/com.datacamp.data-table.v1+json": {
       "is_truncated": false,
       "table": {
        "data": [
         {
          "Accuracy": 0.856,
          "F1-score": 0.657,
          "ROC AUC": 0.85,
          "index": "Random Forest Upsampled"
         },
         {
          "Accuracy": 0.864,
          "F1-score": 0.652,
          "ROC AUC": 0.854,
          "index": "Random Forest Threshold Down"
         },
         {
          "Accuracy": 0.866,
          "F1-score": 0.652,
          "ROC AUC": 0.857,
          "index": "Random Forest Downsampled"
         },
         {
          "Accuracy": 0.855,
          "F1-score": 0.567,
          "ROC AUC": 0.838,
          "index": "Random Forest Threshold Up"
         }
        ],
        "schema": {
         "fields": [
          {
           "name": "index",
           "type": "string"
          },
          {
           "name": "F1-score",
           "type": "number"
          },
          {
           "name": "ROC AUC",
           "type": "number"
          },
          {
           "name": "Accuracy",
           "type": "number"
          }
         ],
         "pandas_version": "1.4.0",
         "primaryKey": [
          "index"
         ]
        }
       },
       "total_rows": 4
      },
      "text/html": [
       "<div>\n",
       "<style scoped>\n",
       "    .dataframe tbody tr th:only-of-type {\n",
       "        vertical-align: middle;\n",
       "    }\n",
       "\n",
       "    .dataframe tbody tr th {\n",
       "        vertical-align: top;\n",
       "    }\n",
       "\n",
       "    .dataframe thead th {\n",
       "        text-align: right;\n",
       "    }\n",
       "</style>\n",
       "<table border=\"1\" class=\"dataframe\">\n",
       "  <thead>\n",
       "    <tr style=\"text-align: right;\">\n",
       "      <th></th>\n",
       "      <th>F1-score</th>\n",
       "      <th>ROC AUC</th>\n",
       "      <th>Accuracy</th>\n",
       "    </tr>\n",
       "  </thead>\n",
       "  <tbody>\n",
       "    <tr>\n",
       "      <th>Random Forest Upsampled</th>\n",
       "      <td>0.657</td>\n",
       "      <td>0.850</td>\n",
       "      <td>0.856</td>\n",
       "    </tr>\n",
       "    <tr>\n",
       "      <th>Random Forest Threshold Down</th>\n",
       "      <td>0.652</td>\n",
       "      <td>0.854</td>\n",
       "      <td>0.864</td>\n",
       "    </tr>\n",
       "    <tr>\n",
       "      <th>Random Forest Downsampled</th>\n",
       "      <td>0.652</td>\n",
       "      <td>0.857</td>\n",
       "      <td>0.866</td>\n",
       "    </tr>\n",
       "    <tr>\n",
       "      <th>Random Forest Threshold Up</th>\n",
       "      <td>0.567</td>\n",
       "      <td>0.838</td>\n",
       "      <td>0.855</td>\n",
       "    </tr>\n",
       "  </tbody>\n",
       "</table>\n",
       "</div>"
      ],
      "text/plain": [
       "                              F1-score  ROC AUC  Accuracy\n",
       "Random Forest Upsampled          0.657    0.850     0.856\n",
       "Random Forest Threshold Down     0.652    0.854     0.864\n",
       "Random Forest Downsampled        0.652    0.857     0.866\n",
       "Random Forest Threshold Up       0.567    0.838     0.855"
      ]
     },
     "execution_count": 21,
     "metadata": {},
     "output_type": "execute_result"
    }
   ],
   "source": [
    "data_score_balanced = pd.DataFrame(np.array([f1_roc_auc_accuracy_calc(load(\"models/best_model_forest_scale_up.joblib\"),\n",
    "                                            target_valid, features_valid_scale)[:3], \n",
    "                                            f1_roc_auc_accuracy_calc(load(\"models/best_model_forest_scale_down.joblib\"),\n",
    "                                            target_valid, features_valid_scale)[:3], \n",
    "                                            f1_roc_auc_accuracy_calc(load(\"models/best_model_forest_scale_tr.joblib\"),\n",
    "                                            target_valid, features_valid_scale, \n",
    "                                            pd.read_csv(\"models/best_threshold.csv\", index_col=0).iloc[0, 0])[:3],\n",
    "                                            f1_roc_auc_accuracy_calc(load(\"models/best_model_forest_scale_tr1.joblib\"),\n",
    "                                            target_valid, features_valid_scale, \n",
    "                                            pd.read_csv(\"models/best_threshold1.csv\", index_col=0).iloc[0, 0])[:3]]), \n",
    "                                   columns=[\"F1-score\", \"ROC AUC\", \"Accuracy\"], \n",
    "                                   index=[\"Random Forest Upsampled\", \"Random Forest Downsampled\", \"Random Forest Threshold Down\", \"Random Forest Threshold Up\"])\n",
    "\n",
    "print(\"Значения метрик на валидационной выборке \\nпосле учета дисбаланса\")\n",
    "round(data_score_balanced.sort_values(\"F1-score\", ascending=False), 3)"
   ]
  },
  {
   "cell_type": "code",
   "execution_count": 22,
   "id": "193d7f06",
   "metadata": {},
   "outputs": [
    {
     "data": {
      "image/png": "[encoded data removed]",
      "text/plain": [
       "<Figure size 720x864 with 3 Axes>"
      ]
     },
     "metadata": {},
     "output_type": "display_data"
    }
   ],
   "source": [
    "scores_graph(data_score_balanced, \"Scores on Validation Set (Balance)\")"
   ]
  },
  {
   "cell_type": "markdown",
   "id": "58bb1efb",
   "metadata": {},
   "source": [
    "После учета дисбаланса и подбора гиперпараметров моделей наблюдается повышение метрики F1 и снижение метрик AUC-ROC, Accuracy относительно модели случайного леса, полученной на данных с дисбалансом признаков. Полученные результаты связана с тем, что модель чаще предсказывает появление положительного класса, увеличивая тем самым долю ложно-положительных ответов. При повышении порога классификации наблюдается снижение величин всех метрик относительно базовой (без учета дисбаланса) модели случайного леса, что говорит о явном снижении ее качества."
   ]
  },
  {
   "cell_type": "markdown",
   "id": "7dfa6606",
   "metadata": {},
   "source": [
    "## Тестирование модели"
   ]
  },
  {
   "cell_type": "markdown",
   "id": "489c2d54",
   "metadata": {},
   "source": [
    "- Определим метрики моделей на тестовой выборке"
   ]
  },
  {
   "cell_type": "code",
   "execution_count": 23,
   "id": "9238db2f",
   "metadata": {},
   "outputs": [
    {
     "name": "stdout",
     "output_type": "stream",
     "text": [
      "Значения метрик на тестовой выборке\n"
     ]
    },
    {
     "data": {
      "application/com.datacamp.data-table.v1+json": {
       "is_truncated": false,
       "table": {
        "data": [
         {
          "Accuracy": 0.867,
          "F1-score": 0.602,
          "ROC AUC": 0.86,
          "index": "Random Forest Downsampled"
         },
         {
          "Accuracy": 0.853,
          "F1-score": 0.601,
          "ROC AUC": 0.853,
          "index": "Random Forest Upsampled"
         },
         {
          "Accuracy": 0.862,
          "F1-score": 0.596,
          "ROC AUC": 0.857,
          "index": "Random Forest Threshold Down"
         },
         {
          "Accuracy": 0.872,
          "F1-score": 0.577,
          "ROC AUC": 0.856,
          "index": "Random Forest"
         },
         {
          "Accuracy": 0.87,
          "F1-score": 0.533,
          "ROC AUC": 0.833,
          "index": "Random Forest Threshold Up"
         }
        ],
        "schema": {
         "fields": [
          {
           "name": "index",
           "type": "string"
          },
          {
           "name": "F1-score",
           "type": "number"
          },
          {
           "name": "ROC AUC",
           "type": "number"
          },
          {
           "name": "Accuracy",
           "type": "number"
          }
         ],
         "pandas_version": "1.4.0",
         "primaryKey": [
          "index"
         ]
        }
       },
       "total_rows": 5
      },
      "text/html": [
       "<div>\n",
       "<style scoped>\n",
       "    .dataframe tbody tr th:only-of-type {\n",
       "        vertical-align: middle;\n",
       "    }\n",
       "\n",
       "    .dataframe tbody tr th {\n",
       "        vertical-align: top;\n",
       "    }\n",
       "\n",
       "    .dataframe thead th {\n",
       "        text-align: right;\n",
       "    }\n",
       "</style>\n",
       "<table border=\"1\" class=\"dataframe\">\n",
       "  <thead>\n",
       "    <tr style=\"text-align: right;\">\n",
       "      <th></th>\n",
       "      <th>F1-score</th>\n",
       "      <th>ROC AUC</th>\n",
       "      <th>Accuracy</th>\n",
       "    </tr>\n",
       "  </thead>\n",
       "  <tbody>\n",
       "    <tr>\n",
       "      <th>Random Forest Downsampled</th>\n",
       "      <td>0.602</td>\n",
       "      <td>0.860</td>\n",
       "      <td>0.867</td>\n",
       "    </tr>\n",
       "    <tr>\n",
       "      <th>Random Forest Upsampled</th>\n",
       "      <td>0.601</td>\n",
       "      <td>0.853</td>\n",
       "      <td>0.853</td>\n",
       "    </tr>\n",
       "    <tr>\n",
       "      <th>Random Forest Threshold Down</th>\n",
       "      <td>0.596</td>\n",
       "      <td>0.857</td>\n",
       "      <td>0.862</td>\n",
       "    </tr>\n",
       "    <tr>\n",
       "      <th>Random Forest</th>\n",
       "      <td>0.577</td>\n",
       "      <td>0.856</td>\n",
       "      <td>0.872</td>\n",
       "    </tr>\n",
       "    <tr>\n",
       "      <th>Random Forest Threshold Up</th>\n",
       "      <td>0.533</td>\n",
       "      <td>0.833</td>\n",
       "      <td>0.870</td>\n",
       "    </tr>\n",
       "  </tbody>\n",
       "</table>\n",
       "</div>"
      ],
      "text/plain": [
       "                              F1-score  ROC AUC  Accuracy\n",
       "Random Forest Downsampled        0.602    0.860     0.867\n",
       "Random Forest Upsampled          0.601    0.853     0.853\n",
       "Random Forest Threshold Down     0.596    0.857     0.862\n",
       "Random Forest                    0.577    0.856     0.872\n",
       "Random Forest Threshold Up       0.533    0.833     0.870"
      ]
     },
     "execution_count": 23,
     "metadata": {},
     "output_type": "execute_result"
    }
   ],
   "source": [
    "data_score_test = pd.DataFrame(np.array([f1_roc_auc_accuracy_calc(load(\"models/best_model_forest_scale.joblib\"),\n",
    "                                         target_test, features_test_scale)[:3],\n",
    "                                         f1_roc_auc_accuracy_calc(load(\"models/best_model_forest_scale_up.joblib\"),\n",
    "                                         target_test, features_test_scale)[:3], \n",
    "                                         f1_roc_auc_accuracy_calc(load(\"models/best_model_forest_scale_down.joblib\"),\n",
    "                                         target_test, features_test_scale)[:3], \n",
    "                                         f1_roc_auc_accuracy_calc(load(\"models/best_model_forest_scale_tr.joblib\"),\n",
    "                                         target_test, features_test_scale, \n",
    "                                         pd.read_csv(\"models/best_threshold.csv\", index_col=0).iloc[0, 0])[:3],\n",
    "                                         f1_roc_auc_accuracy_calc(load(\"models/best_model_forest_scale_tr1.joblib\"),\n",
    "                                         target_test, features_test_scale, \n",
    "                                         pd.read_csv(\"models/best_threshold1.csv\", index_col=0).iloc[0, 0])[:3]]), \n",
    "                               columns=[\"F1-score\", \"ROC AUC\", \"Accuracy\"], \n",
    "                               index=[\"Random Forest\", \"Random Forest Upsampled\", \"Random Forest Downsampled\", \n",
    "                                      \"Random Forest Threshold Down\", \"Random Forest Threshold Up\"])\n",
    "\n",
    "print(\"Значения метрик на тестовой выборке\")\n",
    "round(data_score_test.sort_values(\"F1-score\", ascending=False), 3)"
   ]
  },
  {
   "cell_type": "code",
   "execution_count": 24,
   "id": "9e27e028",
   "metadata": {},
   "outputs": [
    {
     "data": {
      "image/png": "[encoded data removed]",
      "text/plain": [
       "<Figure size 720x864 with 3 Axes>"
      ]
     },
     "metadata": {},
     "output_type": "display_data"
    }
   ],
   "source": [
    "scores_graph(data_score_test, \"Scores on Test Set\")"
   ]
  },
  {
   "cell_type": "markdown",
   "id": "7006a4f9",
   "metadata": {},
   "source": [
    "Результаты, полученные на тестовой выборке, показывают, что наибольшую величину метрики F1 удается получить с использованием модели, в которой дисбаланс классов учтен методом уменьшения доли отрицательного класса в обучающей выборке. В этой модели F1 = 0,602, что выше установленного в условиях задачи порога 0,59. Кроме этого модель обладает высокими значениями метрик AUC-ROC, Accuracy  и по всем расмотренным метрикам превосходит модели случайного леса, в которых дисбаланс учитывался методами увеличения доли положительного признака и уменьшения порога классификатора. Остальные рассмторенные модели не проходят установленную границу F1-меры."
   ]
  },
  {
   "cell_type": "markdown",
   "id": "93d50788",
   "metadata": {},
   "source": [
    "Построим диаграммы важности признаков для моделей с наибольшей и наименьшей величиной F1-меры."
   ]
  },
  {
   "cell_type": "code",
   "execution_count": 25,
   "id": "5feb167a",
   "metadata": {},
   "outputs": [
    {
     "data": {
      "image/png": "[encoded data removed]",
      "text/plain": [
       "<Figure size 576x720 with 1 Axes>"
      ]
     },
     "metadata": {},
     "output_type": "display_data"
    }
   ],
   "source": [
    "plt.style.use(\"ggplot\")\n",
    "fig, ax = plt.subplots(figsize=(8, 10))\n",
    "ax.barh(list(features_test_scale.columns), \n",
    "        load(\"models/best_model_forest_scale_down.joblib\").feature_importances_, \n",
    "        alpha=0.4, label=\"Random Forest Downsampled\", color=\"green\")\n",
    "ax.barh(list(features_test_scale.columns), \n",
    "        load(\"models/best_model_forest_scale_tr1.joblib\").feature_importances_, \n",
    "        alpha=0.4, label=\"Random Forest Threshold Up\", color=\"blue\")\n",
    "ax.set_title(\"Models Features Importance\", fontsize=16)\n",
    "ax.set_ylabel(\"Features\", fontsize=14)\n",
    "ax.set_xlabel(\"Features Importance\", fontsize=14)\n",
    "plt.gca().invert_yaxis()\n",
    "plt.tick_params(labelsize=12)\n",
    "plt.legend(loc=4, fontsize=12)\n",
    "plt.show()"
   ]
  },
  {
   "cell_type": "markdown",
   "id": "05ea3a53",
   "metadata": {},
   "source": [
    "Можно видеть, что наиболшее влияние на классификатор оказывают: возраст, количество продуктов, кредитный рейтинг, баланс на счете и предполагаемая зарплата. Причем увеличение метрики F1 происходит за счет увеличения влияния факторов возраста и количества продуктов и снижения влияния остальных из перечисленных факторов."
   ]
  },
  {
   "cell_type": "markdown",
   "id": "1d424c33",
   "metadata": {},
   "source": [
    "- Построим ROC кривые и отметим на них величину порога классификации"
   ]
  },
  {
   "cell_type": "code",
   "execution_count": 26,
   "id": "7783da44",
   "metadata": {},
   "outputs": [
    {
     "data": {
      "image/png": "[encoded data removed]",
      "text/plain": [
       "<Figure size 864x720 with 1 Axes>"
      ]
     },
     "metadata": {},
     "output_type": "display_data"
    }
   ],
   "source": [
    "plt.style.use(\"ggplot\")\n",
    "fig, ax = plt.subplots(figsize=(12, 10))\n",
    "\n",
    "for item in [[\"models/best_model_forest_scale.joblib\", \"Random Forest\", 0.5, \"v\"],\n",
    "            [\"models/best_model_forest_scale_up.joblib\", \"Random Forest Upsampled\", 0.5, \"x\"],\n",
    "            [\"models/best_model_forest_scale_down.joblib\", \"Random Forest Downsampled\", 0.5, \"o\"],\n",
    "            [\"models/best_model_forest_scale_tr.joblib\", \"Random Forest Threshold Down\", \n",
    "             pd.read_csv(\"models/best_threshold.csv\", index_col=0).iloc[0, 0], \"s\"],\n",
    "            [\"models/best_model_forest_scale_tr1.joblib\", \"Random Forest Threshold Up\", \n",
    "             pd.read_csv(\"models/best_threshold1.csv\", index_col=0).iloc[0, 0], \"d\"]]:\n",
    "\n",
    "    fpr, tpr, thresholds = roc_curve(target_test, load(item[0]).predict_proba(features_test_scale)[:, 1])\n",
    "    ax.plot(fpr, tpr, label=item[1], lw=3, alpha=.6)\n",
    "    threshold_ind = np.argmin(np.abs(thresholds - item[2]))\n",
    "    ax.plot(fpr[threshold_ind], tpr[threshold_ind], item[3], color=\"k\", markersize=12, \n",
    "            fillstyle=\"none\", mew=3, label=(\"Threshold = \" + str(item[2])))\n",
    "\n",
    "ax.set_title(\"ROC of Models on Test Set\", fontsize=16)\n",
    "ax.set_xlabel(\"FPR\", fontsize=14)\n",
    "ax.set_ylabel(\"TPR (Recall)\", fontsize=14)\n",
    "plt.tick_params(labelsize=12)\n",
    "ax.legend(loc=4, fontsize=12)\n",
    "plt.show()"
   ]
  },
  {
   "cell_type": "markdown",
   "id": "7dd8bcc3",
   "metadata": {},
   "source": [
    "На рисунке можно видеть, что ROC-кривые, за исключением кривой, с увеличенным порогом классификатора, соответсвуют друг другу, и это коррелирует с близкими значениями метрик AUC-ROC.  Маркер, указывающий на порог классификации, тем выше и правее на графике, чем ниже Accuracy модели. Это вызвано увеличением доли ложно-положительных ответов модели."
   ]
  },
  {
   "cell_type": "markdown",
   "id": "530ac5ce",
   "metadata": {},
   "source": [
    "- Проверим модель на адекватность"
   ]
  },
  {
   "cell_type": "code",
   "execution_count": 27,
   "id": "9cb3ce4a",
   "metadata": {
    "tags": []
   },
   "outputs": [
    {
     "name": "stdout",
     "output_type": "stream",
     "text": [
      "Значения метрик на тестовой выборке, \n",
      "полученные с помощью DummyClassifier\n"
     ]
    },
    {
     "data": {
      "application/com.datacamp.data-table.v1+json": {
       "is_truncated": false,
       "table": {
        "data": [
         {
          "Accuracy": 0.179,
          "F1-score": 0.304,
          "ROC AUC": 0.5,
          "index": "Constant = 1"
         },
         {
          "Accuracy": 0.488,
          "F1-score": 0.259,
          "ROC AUC": 0.5,
          "index": "Uniform"
         },
         {
          "Accuracy": 0.684,
          "F1-score": 0.175,
          "ROC AUC": 0.49,
          "index": "Stratified"
         },
         {
          "Accuracy": 0.821,
          "F1-score": 0,
          "ROC AUC": 0.5,
          "index": "Constant = 0"
         }
        ],
        "schema": {
         "fields": [
          {
           "name": "index",
           "type": "string"
          },
          {
           "name": "F1-score",
           "type": "number"
          },
          {
           "name": "ROC AUC",
           "type": "number"
          },
          {
           "name": "Accuracy",
           "type": "number"
          }
         ],
         "pandas_version": "1.4.0",
         "primaryKey": [
          "index"
         ]
        }
       },
       "total_rows": 4
      },
      "text/html": [
       "<div>\n",
       "<style scoped>\n",
       "    .dataframe tbody tr th:only-of-type {\n",
       "        vertical-align: middle;\n",
       "    }\n",
       "\n",
       "    .dataframe tbody tr th {\n",
       "        vertical-align: top;\n",
       "    }\n",
       "\n",
       "    .dataframe thead th {\n",
       "        text-align: right;\n",
       "    }\n",
       "</style>\n",
       "<table border=\"1\" class=\"dataframe\">\n",
       "  <thead>\n",
       "    <tr style=\"text-align: right;\">\n",
       "      <th></th>\n",
       "      <th>F1-score</th>\n",
       "      <th>ROC AUC</th>\n",
       "      <th>Accuracy</th>\n",
       "    </tr>\n",
       "  </thead>\n",
       "  <tbody>\n",
       "    <tr>\n",
       "      <th>Constant = 1</th>\n",
       "      <td>0.304</td>\n",
       "      <td>0.50</td>\n",
       "      <td>0.179</td>\n",
       "    </tr>\n",
       "    <tr>\n",
       "      <th>Uniform</th>\n",
       "      <td>0.259</td>\n",
       "      <td>0.50</td>\n",
       "      <td>0.488</td>\n",
       "    </tr>\n",
       "    <tr>\n",
       "      <th>Stratified</th>\n",
       "      <td>0.175</td>\n",
       "      <td>0.49</td>\n",
       "      <td>0.684</td>\n",
       "    </tr>\n",
       "    <tr>\n",
       "      <th>Constant = 0</th>\n",
       "      <td>0.000</td>\n",
       "      <td>0.50</td>\n",
       "      <td>0.821</td>\n",
       "    </tr>\n",
       "  </tbody>\n",
       "</table>\n",
       "</div>"
      ],
      "text/plain": [
       "              F1-score  ROC AUC  Accuracy\n",
       "Constant = 1     0.304     0.50     0.179\n",
       "Uniform          0.259     0.50     0.488\n",
       "Stratified       0.175     0.49     0.684\n",
       "Constant = 0     0.000     0.50     0.821"
      ]
     },
     "execution_count": 27,
     "metadata": {},
     "output_type": "execute_result"
    }
   ],
   "source": [
    "# используем разные стратегии\n",
    "accuracy_dummy_list = list()\n",
    "for strg in [[\"stratified\", None], [\"uniform\", None], [\"constant\", 0], [\"constant\", 1]]:\n",
    "    dummy = DummyClassifier(strategy=strg[0], constant=strg[1], random_state=11111)\n",
    "    dummy.fit(features_train_scale, target_train)\n",
    "    scores_dummy = (\n",
    "        f1_roc_auc_accuracy_calc(dummy, target_test, features_test_scale)[:3])\n",
    "    accuracy_dummy_list.append(scores_dummy)\n",
    "# соберем данные в датафрейм\n",
    "adequacy_test_dummy = pd.DataFrame(np.array(accuracy_dummy_list), \n",
    "                                   columns=[\"F1-score\", \"ROC AUC\", \"Accuracy\"], \n",
    "                                   index=[\"Stratified\", \"Uniform\", \"Constant = 0\", \"Constant = 1\"])\n",
    "\n",
    "print(\"Значения метрик на тестовой выборке, \\nполученные с помощью DummyClassifier\")\n",
    "round(adequacy_test_dummy.sort_values(\"F1-score\", ascending=False), 3)"
   ]
  },
  {
   "cell_type": "code",
   "execution_count": 28,
   "id": "cc029db5",
   "metadata": {},
   "outputs": [
    {
     "data": {
      "image/png": "[encoded data removed]",
      "text/plain": [
       "<Figure size 720x864 with 3 Axes>"
      ]
     },
     "metadata": {},
     "output_type": "display_data"
    }
   ],
   "source": [
    "scores_graph(adequacy_test_dummy, \"Adequacy Test (Dummy Classifier)\")"
   ]
  },
  {
   "cell_type": "markdown",
   "id": "80e9b67e",
   "metadata": {},
   "source": [
    "DummyClassifier показал, что используя константные и случайные значения в качестве предсказаний, удается достичь величины метрики F1 не выше 0,304 (при заполнении всех предсказанных значений еденицами), что намного ниже найденных ранее с использованием моделей случайного леса. Можно с уверенностью заявить об адекватности полученных моделей."
   ]
  },
  {
   "cell_type": "markdown",
   "id": "5fc24075",
   "metadata": {},
   "source": [
    "## Вывод"
   ]
  },
  {
   "cell_type": "markdown",
   "id": "c480751e",
   "metadata": {},
   "source": [
    "В работе исследованы различные модели машинного обучения на данных до и после учета дисбаланса. С использованием моделей случайного леса, на тестовой выборке, получены значения метрики F1 выше 0,59, кроме этого получены метрики Accuracy и AUC-ROC выше 0,8, построены ROC-кривые и проведена проверка моделей на адекватность."
   ]
  },
  {
   "cell_type": "code",
   "execution_count": null,
   "id": "2d479a2c",
   "metadata": {},
   "outputs": [],
   "source": []
  }
 ],
 "metadata": {
  "kernelspec": {
   "display_name": "Python 3 (ipykernel)",
   "language": "python",
   "name": "python3"
  },
  "language_info": {
   "codemirror_mode": {
    "name": "ipython",
    "version": 3
   },
   "file_extension": ".py",
   "mimetype": "text/x-python",
   "name": "python",
   "nbconvert_exporter": "python",
   "pygments_lexer": "ipython3",
   "version": "3.9.12"
  },
  "toc": {
   "base_numbering": 1,
   "nav_menu": {},
   "number_sections": true,
   "sideBar": true,
   "skip_h1_title": true,
   "title_cell": "Table of Contents",
   "title_sidebar": "Contents",
   "toc_cell": false,
   "toc_position": {},
   "toc_section_display": true,
   "toc_window_display": false
  }
 },
 "nbformat": 4,
 "nbformat_minor": 5
}
